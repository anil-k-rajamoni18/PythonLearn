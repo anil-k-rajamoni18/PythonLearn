{
 "cells": [
  {
   "cell_type": "markdown",
   "id": "babb5e4a",
   "metadata": {},
   "source": [
    "### Introduction\n",
    "\n",
    "- Python can be used in database applications.\n",
    "\n",
    "- One of the most popular databases is MySQL.\n",
    "- Python needs a MySQL driver to access the MySQL database\n",
    "- Python MySQL Connector is a Python driver that helps to integrate Python and MySQL. \n",
    "- This Python MySQL library allows the conversion between Python and MySQL data types. \n",
    "- MySQL Connector API is implemented using pure Python and does not require any third-party library. \n",
    "\n",
    "\n",
    "```linux\n",
    "# install using pip in cmd \n",
    "\n",
    "pip install  mysql-connector-python \n",
    "```\n",
    "\n",
    "\n",
    "```python\n",
    "# Test in after installation.\n",
    "\n",
    "import mysql.connector\n",
    "\n",
    "```"
   ]
  },
  {
   "cell_type": "code",
   "execution_count": 1,
   "id": "e47f873f",
   "metadata": {},
   "outputs": [],
   "source": [
    "import mysql.connector as mysql # alias importing"
   ]
  },
  {
   "cell_type": "code",
   "execution_count": 3,
   "id": "ee7c4a9b",
   "metadata": {},
   "outputs": [
    {
     "name": "stdout",
     "output_type": "stream",
     "text": [
      "2.2.9\n"
     ]
    }
   ],
   "source": [
    "print(mysql.__version__)"
   ]
  },
  {
   "cell_type": "code",
   "execution_count": 2,
   "id": "638f55aa",
   "metadata": {},
   "outputs": [
    {
     "data": {
      "text/plain": [
       "['BINARY',\n",
       " 'Binary',\n",
       " 'CharacterSet',\n",
       " 'ClientFlag',\n",
       " 'Connect',\n",
       " 'DATETIME',\n",
       " 'DataError',\n",
       " 'DatabaseError',\n",
       " 'Date',\n",
       " 'DateFromTicks',\n",
       " 'Error',\n",
       " 'FieldFlag',\n",
       " 'FieldType',\n",
       " 'HAVE_CEXT',\n",
       " 'IntegrityError',\n",
       " 'InterfaceError',\n",
       " 'InternalError',\n",
       " 'MySQLConnection',\n",
       " 'NUMBER',\n",
       " 'NotSupportedError',\n",
       " 'OperationalError',\n",
       " 'PoolError',\n",
       " 'ProgrammingError',\n",
       " 'ROWID',\n",
       " 'RefreshOption',\n",
       " 'STRING',\n",
       " 'Time',\n",
       " 'TimeFromTicks',\n",
       " 'Timestamp',\n",
       " 'TimestampFromTicks',\n",
       " 'Warning',\n",
       " '_CONNECTION_POOLS',\n",
       " '__all__',\n",
       " '__builtins__',\n",
       " '__cached__',\n",
       " '__doc__',\n",
       " '__file__',\n",
       " '__loader__',\n",
       " '__name__',\n",
       " '__package__',\n",
       " '__path__',\n",
       " '__spec__',\n",
       " '__version__',\n",
       " '__version_info__',\n",
       " '_get_failover_connection',\n",
       " '_get_pooled_connection',\n",
       " 'abstracts',\n",
       " 'apilevel',\n",
       " 'authentication',\n",
       " 'catch23',\n",
       " 'charsets',\n",
       " 'connect',\n",
       " 'connection',\n",
       " 'constants',\n",
       " 'conversion',\n",
       " 'cursor',\n",
       " 'custom_error_exception',\n",
       " 'custom_types',\n",
       " 'dbapi',\n",
       " 'errorcode',\n",
       " 'errors',\n",
       " 'locales',\n",
       " 'network',\n",
       " 'optionfiles',\n",
       " 'paramstyle',\n",
       " 'protocol',\n",
       " 'read_option_files',\n",
       " 'threadsafety',\n",
       " 'utils',\n",
       " 'version']"
      ]
     },
     "execution_count": 2,
     "metadata": {},
     "output_type": "execute_result"
    }
   ],
   "source": [
    "dir(mysql)"
   ]
  },
  {
   "cell_type": "code",
   "execution_count": null,
   "id": "21791bd1",
   "metadata": {},
   "outputs": [],
   "source": []
  },
  {
   "cell_type": "markdown",
   "id": "22a45cef",
   "metadata": {},
   "source": [
    "### Example\n",
    "\n",
    "```python\n",
    "\n",
    "import mysql.connector\n",
    "\n",
    "mydb = mysql.connector.connect(\n",
    "  host=\"localhost\",\n",
    "  user=\"yourusername\",\n",
    "  password=\"yourpassword\",\n",
    "  database = 'yourdatabase',\n",
    "  auth_plugin='mysql_native_password'\n",
    ")\n",
    "\n",
    "print(mydb) \n",
    "\n",
    "```"
   ]
  },
  {
   "cell_type": "code",
   "execution_count": 6,
   "id": "e1fd056b",
   "metadata": {},
   "outputs": [
    {
     "name": "stdout",
     "output_type": "stream",
     "text": [
      "connection is successfully..\n",
      "<mysql.connector.connection.MySQLConnection object at 0x00000247DCB06350>\n",
      "['__abstractmethods__', '__class__', '__delattr__', '__dict__', '__dir__', '__doc__', '__eq__', '__format__', '__ge__', '__getattribute__', '__gt__', '__hash__', '__init__', '__init_subclass__', '__le__', '__lt__', '__module__', '__ne__', '__new__', '__reduce__', '__reduce_ex__', '__repr__', '__setattr__', '__sizeof__', '__str__', '__subclasshook__', '__weakref__', '_abc_impl', '_auth_plugin', '_auth_switch_request', '_autocommit', '_buffered', '_charset_id', '_check_server_version', '_client_flags', '_client_host', '_client_port', '_compress', '_connection_timeout', '_consume_results', '_converter_class', '_database', '_do_auth', '_do_handshake', '_execute_query', '_force_ipv6', '_get_connection', '_get_self', '_get_warnings', '_handle_binary_ok', '_handle_binary_result', '_handle_eof', '_handle_load_data_infile', '_handle_ok', '_handle_result', '_handle_server_status', '_handshake', '_have_next_result', '_host', '_in_transaction', '_open_connection', '_password', '_pool_config_version', '_port', '_post_connection', '_prepared_statements', '_protocol', '_raise_on_warnings', '_raw', '_read_option_files', '_send_cmd', '_send_data', '_server_version', '_socket', '_sql_mode', '_ssl', '_ssl_active', '_time_zone', '_unix_socket', '_unread_result', '_use_unicode', '_user', 'autocommit', 'can_consume_results', 'charset', 'close', 'cmd_change_user', 'cmd_debug', 'cmd_init_db', 'cmd_ping', 'cmd_process_info', 'cmd_process_kill', 'cmd_query', 'cmd_query_iter', 'cmd_quit', 'cmd_refresh', 'cmd_reset_connection', 'cmd_shutdown', 'cmd_statistics', 'cmd_stmt_close', 'cmd_stmt_execute', 'cmd_stmt_prepare', 'cmd_stmt_reset', 'cmd_stmt_send_long_data', 'collation', 'commit', 'config', 'connect', 'connection_id', 'consume_results', 'converter', 'cursor', 'database', 'disconnect', 'get_row', 'get_rows', 'get_server_info', 'get_server_version', 'get_warnings', 'handle_unread_result', 'in_transaction', 'info_query', 'is_connected', 'isset_client_flag', 'ping', 'python_charset', 'raise_on_warnings', 'reconnect', 'reset_session', 'rollback', 'server_host', 'server_port', 'set_charset_collation', 'set_client_flags', 'set_converter_class', 'set_login', 'set_unicode', 'shutdown', 'sql_mode', 'start_transaction', 'time_zone', 'unix_socket', 'unread_result', 'user']\n"
     ]
    }
   ],
   "source": [
    "import mysql.connector\n",
    "\n",
    "# connection object creation\n",
    "conn = mysql.connector.connect(\n",
    "        host = \"localhost\",\n",
    "        user = \"novuser\",\n",
    "        password = \"nov@123\",\n",
    "        database = 'nov_course_db',\n",
    "        auth_plugin='mysql_native_password'\n",
    ")\n",
    "\n",
    "print('connection is successfully..')\n",
    "\n",
    "print(conn)\n",
    "\n",
    "print(dir(conn))"
   ]
  },
  {
   "cell_type": "code",
   "execution_count": 8,
   "id": "15c14851",
   "metadata": {},
   "outputs": [
    {
     "name": "stdout",
     "output_type": "stream",
     "text": [
      "8.0.35 (8, 0, 35)\n"
     ]
    }
   ],
   "source": [
    "print(conn.get_server_info() , conn.get_server_version())"
   ]
  },
  {
   "cell_type": "code",
   "execution_count": 10,
   "id": "a5780c81",
   "metadata": {},
   "outputs": [
    {
     "name": "stdout",
     "output_type": "stream",
     "text": [
      "True\n"
     ]
    }
   ],
   "source": [
    "print(conn.is_connected())"
   ]
  },
  {
   "cell_type": "code",
   "execution_count": 11,
   "id": "fd75b479",
   "metadata": {},
   "outputs": [
    {
     "name": "stdout",
     "output_type": "stream",
     "text": [
      "localhost 3306 novuser nov_course_db\n"
     ]
    }
   ],
   "source": [
    "print(conn.server_host, conn.server_port , conn.user , conn.database)"
   ]
  },
  {
   "cell_type": "code",
   "execution_count": null,
   "id": "b22d5b02",
   "metadata": {},
   "outputs": [],
   "source": []
  },
  {
   "cell_type": "code",
   "execution_count": null,
   "id": "c97f8954",
   "metadata": {},
   "outputs": [],
   "source": []
  },
  {
   "cell_type": "code",
   "execution_count": null,
   "id": "35dad54a",
   "metadata": {},
   "outputs": [],
   "source": []
  },
  {
   "cell_type": "markdown",
   "id": "25ac996f",
   "metadata": {},
   "source": [
    "### Create Database"
   ]
  },
  {
   "cell_type": "code",
   "execution_count": null,
   "id": "247e2dbc",
   "metadata": {},
   "outputs": [],
   "source": []
  },
  {
   "cell_type": "code",
   "execution_count": null,
   "id": "ca994061",
   "metadata": {},
   "outputs": [],
   "source": [
    "import mysql.connector as mysql\n",
    "\n",
    "# connection object creation\n",
    "mydb = mysql.connect(\n",
    "    host = \"localhost\",\n",
    "    user = \"mayUser\",\n",
    "    password = \"MayDB@18\",\n",
    "    auth_plugin='mysql_native_password'\n",
    ")\n",
    "\n",
    "\n",
    "# cursor object creation\n",
    "mycursor = mydb.cursor()\n",
    "\n",
    "\n",
    "#print(dir(mycursor))\n",
    "\n",
    "mycursor.execute(\"CREATE DATABASE IF NOT EXISTS MayPyDB \")\n",
    "\n",
    "#print(\"Database created ... successfully...\")\n",
    "\n",
    "\n",
    "# drop database \n",
    "#mycursor.execute(\"DROP DATABASE maypymysqldb\")\n",
    "\n",
    "#print(\"Database  dropped.. ... successfully...\")\n",
    "\n",
    "\n",
    "# show database \n",
    "\n",
    "mycursor.execute(\"SHOW DATABASES\")\n",
    "\n",
    "# resultSet = mycursor.fetchall()\n",
    "\n",
    "# print(resultSet)\n",
    "\n",
    "for dbname in mycursor.fetchall():\n",
    "    print(dbname)"
   ]
  },
  {
   "cell_type": "code",
   "execution_count": null,
   "id": "e622629a",
   "metadata": {},
   "outputs": [],
   "source": []
  },
  {
   "cell_type": "markdown",
   "id": "a4486f5f",
   "metadata": {},
   "source": [
    "### What's cursor?\n",
    "\n",
    "- It's a pointer , points to current table .\n",
    "- A cursor holds the rows (one or more) returned by a SQL statement in resultSet.\n",
    "\n",
    "- Cursor is a Temporary Memory or Temporary Work Station. \n",
    "- It is Allocated by Database Server at the Time of Performing DML(Data Manipulation Language) operations on the Table by the User. \n",
    "\n",
    "- With the help of cursor , we can peform all CREATE , SELECT , DELETE , UPDATE operations.\n",
    "- We can iterate on cursor returned object , for display all entries.\n",
    "\n",
    "There are 2 types of Cursors: Implicit Cursors, and Explicit Cursors.\n",
    "\n",
    "    - Implicit Cursors: \n",
    "    - Explicit Cursors: "
   ]
  },
  {
   "cell_type": "markdown",
   "id": "a6fb4549",
   "metadata": {},
   "source": [
    "### Show Databases\n",
    "\n"
   ]
  },
  {
   "cell_type": "code",
   "execution_count": null,
   "id": "eb29a7b2",
   "metadata": {},
   "outputs": [],
   "source": [
    "import mysql.connector as mysql\n",
    "\n",
    "mydb = mysql.connect(\n",
    "    host = \"localhost\",\n",
    "    user = \"mayUser\",\n",
    "    password = \"MayDB@18\",\n",
    "    auth_plugin='mysql_native_password'\n",
    ")\n",
    "\n",
    "mycursor = mydb.cursor()\n",
    "\n",
    "mycursor.execute(\"SHOW DATABASES\")\n",
    "\n",
    "for x in mycursor:\n",
    "    print(x) "
   ]
  },
  {
   "cell_type": "code",
   "execution_count": null,
   "id": "72343448",
   "metadata": {},
   "outputs": [],
   "source": []
  },
  {
   "cell_type": "markdown",
   "id": "8cf6d0b4",
   "metadata": {},
   "source": [
    "### Create Table\n",
    "\n",
    "- To create a table in MySQL, use the \"CREATE TABLE\" statement.\n",
    "- NOTE:\n",
    "    define the name of the database when you create the connection"
   ]
  },
  {
   "cell_type": "code",
   "execution_count": null,
   "id": "e06b1353",
   "metadata": {},
   "outputs": [],
   "source": [
    "import mysql.connector as mysql\n",
    "\n",
    "mydb = mysql.connect(\n",
    "    host = \"localhost\",\n",
    "    user = \"mayUser\",\n",
    "    password = \"MayDB@18\",\n",
    "    database = \"MayPyDB\",\n",
    "    auth_plugin='mysql_native_password'\n",
    ")\n",
    "\n",
    "mycursor = mydb.cursor()\n",
    "\n",
    "mycursor.execute(\"CREATE TABLE customers (name VARCHAR(255), address VARCHAR(255))\")\n",
    "\n",
    "\n",
    "# list all tables\n",
    "mycursor.execute(\"SHOW TABLES\")\n",
    "\n",
    "# DROP TABLE \n",
    "# mycursor.execute(\"DROP TABLE MayPyDB\")\n",
    "\n",
    "for x in mycursor:\n",
    "    print(x)"
   ]
  },
  {
   "cell_type": "markdown",
   "id": "22534c22",
   "metadata": {},
   "source": [
    "### If the table already exists, use the ALTER TABLE keyword:\n"
   ]
  },
  {
   "cell_type": "code",
   "execution_count": null,
   "id": "93433768",
   "metadata": {},
   "outputs": [],
   "source": [
    "import mysql.connector as mysql\n",
    "\n",
    "mydb = mysql.connect(\n",
    "    host = \"localhost\",\n",
    "    user = \"mayUser\",\n",
    "    password = \"MayDB@18\",\n",
    "    database = \"MayPyDB\",\n",
    "    auth_plugin='mysql_native_password'\n",
    ")\n",
    "\n",
    "mycursor = mydb.cursor()\n",
    "\n",
    "mycursor.execute(\"ALTER TABLE customers ADD COLUMN id INT AUTO_INCREMENT PRIMARY KEY\") \n",
    "\n",
    "print(\"alter table command completed....\")"
   ]
  },
  {
   "cell_type": "code",
   "execution_count": null,
   "id": "3c895f1f",
   "metadata": {},
   "outputs": [],
   "source": []
  },
  {
   "cell_type": "markdown",
   "id": "7a3007bb",
   "metadata": {},
   "source": [
    "### Insertion"
   ]
  },
  {
   "cell_type": "code",
   "execution_count": null,
   "id": "4e81a7f4",
   "metadata": {},
   "outputs": [],
   "source": [
    "import mysql.connector as mysql\n",
    "\n",
    "mydb = mysql.connect(\n",
    "    host = \"localhost\",\n",
    "    user = \"mayUser\",\n",
    "    password = \"MayDB@18\",\n",
    "    database = \"MayPyDB\",\n",
    "    auth_plugin='mysql_native_password'\n",
    ")\n",
    "\n",
    "\n",
    "mycursor = mydb.cursor()\n",
    "\n",
    "sql = \"INSERT INTO customers (name, address) VALUES (%s, %s)\"\n",
    "val = (\"Kumar Rajamoni\", \"Hyderbad B.Hills RoadNo. 5\")\n",
    "mycursor.execute(sql, val)\n",
    "\n",
    "mydb.commit() # by default auto_commit is false.\n",
    "\n",
    "print(mycursor.rowcount, \"record inserted.\")\n",
    "\n"
   ]
  },
  {
   "cell_type": "code",
   "execution_count": null,
   "id": "2788242f",
   "metadata": {},
   "outputs": [],
   "source": []
  },
  {
   "cell_type": "code",
   "execution_count": null,
   "id": "929a65e9",
   "metadata": {},
   "outputs": [],
   "source": [
    "import mysql.connector as mysql\n",
    "\n",
    "mydb = mysql.connect(\n",
    "    host = \"localhost\",\n",
    "    user = \"mayUser\",\n",
    "    password = \"MayDB@18\",\n",
    "    database = \"MayPyDB\",\n",
    "    auth_plugin='mysql_native_password'\n",
    ")\n",
    "\n",
    "mycursor = mydb.cursor()\n",
    "\n",
    "sql = \"INSERT INTO customers (name, address) VALUES (%s, %s)\"\n",
    "val = [\n",
    "  ('Peter', 'Lowstreet 4'),\n",
    "  ('Amy', 'Apple st 652'),\n",
    "  ('Hannah', 'Mountain 21'),\n",
    "  ('Michael', 'Valley 345'),\n",
    "  ('Sandy', 'Ocean blvd 2'),\n",
    "  ('Betty', 'Green Grass 1'),\n",
    "  ('Richard', 'Sky st 331'),\n",
    "  ('Susan', 'One way 98'),\n",
    "  ('Vicky', 'Yellow Garden 2'),\n",
    "  ('Ben', 'Park Lane 38'),\n",
    "  ('William', 'Central st 954'),\n",
    "  ('Chuck', 'Main Road 989'),\n",
    "  ('Viola', 'Sideway 1633')\n",
    "]\n",
    "\n",
    "mycursor.executemany(sql, val)\n",
    "\n",
    "mydb.commit()\n",
    "\n",
    "print(mycursor.rowcount, \"was inserted.\") "
   ]
  },
  {
   "cell_type": "code",
   "execution_count": null,
   "id": "9debc6af",
   "metadata": {},
   "outputs": [],
   "source": []
  },
  {
   "cell_type": "markdown",
   "id": "7500d51d",
   "metadata": {},
   "source": [
    "## Retrivel/ Read from Database"
   ]
  },
  {
   "cell_type": "code",
   "execution_count": null,
   "id": "ef4f34d1",
   "metadata": {},
   "outputs": [],
   "source": [
    "import mysql.connector as mysql\n",
    "\n",
    "\n",
    "mydb = mysql.connect(\n",
    "    host = \"localhost\",\n",
    "    user = \"mayUser\",\n",
    "    password = \"MayDB@18\",\n",
    "    database = \"MayPyDB\",\n",
    "    auth_plugin='mysql_native_password'\n",
    ")\n",
    "\n",
    "mycursor = mydb.cursor()\n",
    "\n",
    "\n",
    "mycursor.execute(\"SELECT * FROM customers\")\n",
    "\n",
    "# mycursor.execute(\"SELECT name FROM customers\")\n",
    "\n",
    "# myresult = mycursor.fetchall()\n",
    "\n",
    "# for x in myresult:\n",
    "#   print(x)\n",
    "\n",
    "\n",
    "\n",
    "# fectch only one record.\n",
    "\n",
    "myresult = mycursor.fetchone()\n",
    "\n",
    "print(myresult) "
   ]
  },
  {
   "cell_type": "code",
   "execution_count": null,
   "id": "7c6df221",
   "metadata": {},
   "outputs": [],
   "source": []
  },
  {
   "cell_type": "markdown",
   "id": "bbf81a7a",
   "metadata": {},
   "source": [
    "## Filteration on Data"
   ]
  },
  {
   "cell_type": "code",
   "execution_count": null,
   "id": "cd7b228a",
   "metadata": {},
   "outputs": [],
   "source": [
    "import mysql.connector as mysql\n",
    "\n",
    "\n",
    "mydb = mysql.connect(\n",
    "    host = \"localhost\",\n",
    "    user = \"mayUser\",\n",
    "    password = \"MayDB@18\",\n",
    "    database = \"MayPyDB\",\n",
    "    auth_plugin='mysql_native_password'\n",
    ")\n",
    "\n",
    "\n",
    "mycursor = mydb.cursor()\n",
    "\n",
    "sql = \"SELECT * FROM customers WHERE address ='Park Lane 38'\"\n",
    "\n",
    "mycursor.execute(sql)\n",
    "\n",
    "myresult = mycursor.fetchall()\n",
    "\n",
    "for x in myresult:\n",
    "  print(x)"
   ]
  },
  {
   "cell_type": "code",
   "execution_count": null,
   "id": "359ff4ca",
   "metadata": {},
   "outputs": [],
   "source": [
    "# with wildcard characters\n",
    "\n",
    "sql = \"SELECT * FROM customers WHERE address LIKE '%way%'\"\n",
    "\n",
    "mycursor.execute(sql)\n",
    "\n",
    "myresult = mycursor.fetchall()\n",
    "\n",
    "for x in myresult:\n",
    "  print(x) "
   ]
  },
  {
   "cell_type": "code",
   "execution_count": null,
   "id": "3f6be389",
   "metadata": {},
   "outputs": [],
   "source": [
    "\n",
    "# sql injection \n",
    "\n",
    "\n",
    "sql = \"SELECT * FROM customers WHERE address = %s\"\n",
    "adr = (\"Yellow Garden 2\", )\n",
    "\n",
    "mycursor.execute(sql, adr)\n",
    "\n",
    "myresult = mycursor.fetchall()\n",
    "\n",
    "for x in myresult:\n",
    "  print(x) "
   ]
  },
  {
   "cell_type": "markdown",
   "id": "420574f1",
   "metadata": {},
   "source": [
    "#### Order By"
   ]
  },
  {
   "cell_type": "code",
   "execution_count": null,
   "id": "3dc8d379",
   "metadata": {},
   "outputs": [],
   "source": [
    "sql = \"SELECT * FROM customers ORDER BY name\"\n",
    "\n",
    "mycursor.execute(sql)\n",
    "\n",
    "myresult = mycursor.fetchall()\n",
    "\n",
    "for x in myresult:\n",
    "  print(x)"
   ]
  },
  {
   "cell_type": "code",
   "execution_count": null,
   "id": "a2edc1e7",
   "metadata": {},
   "outputs": [],
   "source": [
    "# order by desc\n",
    "\n",
    "sql = \"SELECT * FROM customers ORDER BY name DESC\"\n",
    "\n",
    "mycursor.execute(sql)\n",
    "\n",
    "myresult = mycursor.fetchall()\n",
    "\n",
    "for x in myresult:\n",
    "  print(x) "
   ]
  },
  {
   "cell_type": "code",
   "execution_count": null,
   "id": "4f8801e9",
   "metadata": {},
   "outputs": [],
   "source": []
  },
  {
   "cell_type": "code",
   "execution_count": null,
   "id": "12972cfc",
   "metadata": {},
   "outputs": [],
   "source": []
  },
  {
   "cell_type": "markdown",
   "id": "2009fe0e",
   "metadata": {},
   "source": [
    "#### LIMIT "
   ]
  },
  {
   "cell_type": "code",
   "execution_count": null,
   "id": "740050a7",
   "metadata": {},
   "outputs": [],
   "source": [
    "mycursor = mydb.cursor()\n",
    "\n",
    "mycursor.execute(\"SELECT * FROM customers LIMIT 5\")\n",
    "\n",
    "myresult = mycursor.fetchall()\n",
    "\n",
    "for x in myresult:\n",
    "  print(x) "
   ]
  },
  {
   "cell_type": "code",
   "execution_count": null,
   "id": "8fb23aa3",
   "metadata": {},
   "outputs": [],
   "source": []
  },
  {
   "cell_type": "markdown",
   "id": "21cec4f3",
   "metadata": {},
   "source": [
    "#### OFFSET \n"
   ]
  },
  {
   "cell_type": "code",
   "execution_count": null,
   "id": "bd6ee049",
   "metadata": {},
   "outputs": [],
   "source": []
  },
  {
   "cell_type": "code",
   "execution_count": null,
   "id": "903c8d64",
   "metadata": {},
   "outputs": [],
   "source": [
    "mycursor = mydb.cursor()\n",
    "\n",
    "mycursor.execute(\"SELECT * FROM customers LIMIT 5 OFFSET 2\")\n",
    "\n",
    "myresult = mycursor.fetchall()\n",
    "\n",
    "for x in myresult:\n",
    "  print(x) "
   ]
  },
  {
   "cell_type": "code",
   "execution_count": null,
   "id": "2c6cfa08",
   "metadata": {},
   "outputs": [],
   "source": []
  },
  {
   "cell_type": "markdown",
   "id": "ed22811f",
   "metadata": {},
   "source": [
    "## Deletion "
   ]
  },
  {
   "cell_type": "code",
   "execution_count": null,
   "id": "8f03d814",
   "metadata": {},
   "outputs": [],
   "source": [
    "import mysql.connector as mysql\n",
    "\n",
    "\n",
    "mydb = mysql.connect(\n",
    "    host = \"localhost\",\n",
    "    user = \"mayUser\",\n",
    "    password = \"MayDB@18\",\n",
    "    database = \"MayPyDB\",\n",
    "    auth_plugin='mysql_native_password'\n",
    ")\n",
    "\n",
    "mycursor = mydb.cursor()\n",
    "\n",
    "sql = \"DELETE FROM customers WHERE address = 'Mountain 21'\"\n",
    "\n",
    "mycursor.execute(sql)\n",
    "\n",
    "mydb.commit()\n",
    "\n",
    "print(mycursor.rowcount, \"record(s) deleted\")"
   ]
  },
  {
   "cell_type": "markdown",
   "id": "b90dce68",
   "metadata": {},
   "source": [
    "#### NOTE: \n",
    "\n",
    "Notice the statement: mydb.commit(). It is required to make the changes, otherwise no changes are made to the table."
   ]
  },
  {
   "cell_type": "code",
   "execution_count": null,
   "id": "96db6ca7",
   "metadata": {},
   "outputs": [],
   "source": [
    "mycursor = mydb.cursor()\n",
    "\n",
    "sql = \"DELETE FROM customers WHERE address = %s\"\n",
    "adr = (\"Yellow Garden 2\", )\n",
    "\n",
    "mycursor.execute(sql, adr)\n",
    "\n",
    "mydb.commit()\n",
    "\n",
    "print(mycursor.rowcount, \"record(s) deleted\") "
   ]
  },
  {
   "cell_type": "code",
   "execution_count": null,
   "id": "a780f1e3",
   "metadata": {},
   "outputs": [],
   "source": []
  },
  {
   "cell_type": "code",
   "execution_count": null,
   "id": "b196b5f6",
   "metadata": {},
   "outputs": [],
   "source": []
  },
  {
   "cell_type": "markdown",
   "id": "9fc53d87",
   "metadata": {},
   "source": [
    "## Updation"
   ]
  },
  {
   "cell_type": "code",
   "execution_count": null,
   "id": "616b60ce",
   "metadata": {},
   "outputs": [],
   "source": [
    "import mysql.connector as mysql\n",
    "\n",
    "\n",
    "mydb = mysql.connect(\n",
    "    host = \"localhost\",\n",
    "    user = \"mayUser\",\n",
    "    password = \"MayDB@18\",\n",
    "    database = \"MayPyDB\",\n",
    "    auth_plugin='mysql_native_password'\n",
    ")\n",
    "\n",
    "mycursor = mydb.cursor()\n",
    "\n",
    "sql = \"UPDATE customers SET address = 'Canyon 123' WHERE address = 'Valley 345'\"\n",
    "\n",
    "mycursor.execute(sql)\n",
    "\n",
    "mydb.commit()\n",
    "\n",
    "print(mycursor.rowcount, \"record(s) affected\") "
   ]
  },
  {
   "cell_type": "code",
   "execution_count": null,
   "id": "a0114522",
   "metadata": {},
   "outputs": [],
   "source": [
    "\n",
    "#SQL INJECTION EXAMPLE \n",
    "\n",
    "sql = \"UPDATE customers SET address = %s WHERE address = %s\"\n",
    "val = (\"Valley 345\", \"Canyon 123\")\n",
    "\n",
    "mycursor.execute(sql, val)\n",
    "\n",
    "mydb.commit()\n",
    "\n",
    "print(mycursor.rowcount, \"record(s) affected\") "
   ]
  },
  {
   "cell_type": "code",
   "execution_count": null,
   "id": "cfc397ce",
   "metadata": {},
   "outputs": [],
   "source": []
  },
  {
   "cell_type": "code",
   "execution_count": null,
   "id": "7629e079",
   "metadata": {},
   "outputs": [],
   "source": []
  },
  {
   "cell_type": "markdown",
   "id": "acdaba3f",
   "metadata": {},
   "source": [
    "## Join\n",
    "\n",
    ">> SQL Join statement is used to combine data or rows from two or more tables based on a common field between them. Different types of Joins are as follows: \n",
    "\n",
    "    INNER JOIN\n",
    "    LEFT JOIN\n",
    "    RIGHT JOIN\n",
    "    FULL JOIN\n",
    "    NATURAL JOIN \n",
    "\n",
    "- You can combine rows from two or more tables, based on a related column between them, by using a JOIN statement."
   ]
  },
  {
   "cell_type": "code",
   "execution_count": null,
   "id": "2edc664c",
   "metadata": {},
   "outputs": [],
   "source": []
  },
  {
   "cell_type": "code",
   "execution_count": null,
   "id": "e18c49fc",
   "metadata": {},
   "outputs": [],
   "source": []
  },
  {
   "cell_type": "markdown",
   "id": "7abaefa5",
   "metadata": {},
   "source": [
    "### Example"
   ]
  },
  {
   "cell_type": "code",
   "execution_count": null,
   "id": "86a9ebe8",
   "metadata": {},
   "outputs": [],
   "source": [
    "import mysql.connector as mysql\n",
    "\n",
    "\n",
    "mydb = mysql.connect(\n",
    "    host = \"localhost\",\n",
    "    user = \"mayUser\",\n",
    "    password = \"MayDB@18\",\n",
    "    auth_plugin='mysql_native_password'\n",
    ")\n",
    "\n",
    "mycursor = mydb.cursor()\n",
    "\n",
    "mycursor.execute(\"CREATE DATABASE IF NOT EXISTS SqlJoins\")\n",
    "\n",
    "\n",
    "\n",
    "mydb.close()\n",
    "\n",
    "\n"
   ]
  },
  {
   "cell_type": "code",
   "execution_count": null,
   "id": "ba221723",
   "metadata": {},
   "outputs": [],
   "source": [
    "import mysql.connector as mysql\n",
    "\n",
    "\n",
    "mydb = mysql.connect(\n",
    "    host = \"localhost\",\n",
    "    user = \"mayUser\",\n",
    "    password = \"MayDB@18\",\n",
    "    database = 'SqlJoins',\n",
    "    auth_plugin='mysql_native_password'\n",
    ")\n",
    "\n",
    "mycursor = mydb.cursor()\n",
    "\n",
    "mycursor.execute(\n",
    "                    ''' \n",
    "                    CREATE TABLE IF NOT EXISTS users(\n",
    "                                id INTEGER                PRIMARY KEY,\n",
    "                                name VARCHAR(20)          NOT NULL,\n",
    "                                fav                       INTEGER NOT NULL \n",
    "                                )\n",
    "                    '''\n",
    "                )\n",
    "\n",
    "\n",
    "\n",
    "\n",
    "mycursor.execute(\n",
    "                    '''\n",
    "                    CREATE TABLE IF NOT EXISTS products (\n",
    "                                id INTEGER               PRIMARY KEY,\n",
    "                                name VARCHAR(20)         NOT NULL\n",
    "                                ) \n",
    "                    '''\n",
    "                )\n",
    "\n",
    "\n",
    "print(\"TABLES CREATED..\")"
   ]
  },
  {
   "cell_type": "code",
   "execution_count": null,
   "id": "1486fa27",
   "metadata": {},
   "outputs": [],
   "source": [
    "import mysql.connector as mysql\n",
    "\n",
    "\n",
    "mydb = mysql.connect(\n",
    "    host = \"localhost\",\n",
    "    user = \"mayUser\",\n",
    "    password = \"MayDB@18\",\n",
    "    database = \"SqlJoins\",\n",
    "    auth_plugin='mysql_native_password'\n",
    ")\n",
    "\n",
    "mycursor = mydb.cursor()\n",
    "\n",
    "\n",
    "userSql = \"INSERT INTO users (id,name,fav) VALUES (%s, %s,%s)\"\n",
    "userdata = [\n",
    "    (1,'John',154),(2,'Peter','154'),(3,'Amy',155),(4,'samantha',156),(5,'Miller',152),(6,'Hannah',152)\n",
    "]\n",
    "\n",
    "mycursor.executemany(userSql,userdata)\n",
    "\n",
    "\n",
    "mydb.commit()\n",
    "print(\"LOG: Data inserted to Users table .....\")\n",
    "\n",
    "\n",
    "productSql =  \"INSERT INTO products (id,name) VALUES (%s, %s)\"\n",
    "productdata = [(152,'Death By Icecream'),\n",
    "                (154,'Chocolate Heaven'),\n",
    "                (155,'Tasty Lemons'),\n",
    "                (156,'Vanilla Dreams')] \n",
    "\n",
    "\n",
    "mycursor.executemany(productSql,productdata)\n",
    "\n",
    "mydb.commit()\n",
    "print(\"LOG: Data inserted to Products table .....\")"
   ]
  },
  {
   "cell_type": "code",
   "execution_count": null,
   "id": "c7afb01b",
   "metadata": {},
   "outputs": [],
   "source": []
  },
  {
   "cell_type": "markdown",
   "id": "e6fd8a34",
   "metadata": {},
   "source": [
    "### INNER-JOIN\n",
    "\n",
    "- The INNER JOIN keyword selects all rows from both the tables as long as the condition is satisfied. \n",
    "- This keyword will create the result-set by combining all rows from both the tables where the condition satisfies i.e value of the common field will be the same\n",
    "\n",
    "- We can also write JOIN instead of INNER JOIN. JOIN is same as INNER JOIN. \n",
    "\n",
    "\n",
    "\n",
    "![](https://blog.codinghorror.com/content/images/uploads/2007/10/6a0120a85dcdae970b012877702708970c-pi.png)\n",
    "\n",
    "```sql\n",
    "SELECT table1.column1,table1.column2,table2.column1,....\n",
    "FROM table1 \n",
    "INNER JOIN table2\n",
    "ON table1.matching_column = table2.matching_column;\n",
    "\n",
    "\n",
    "table1: First table.\n",
    "table2: Second table\n",
    "matching_column: Column common to both the tables.\n",
    "\n",
    "```"
   ]
  },
  {
   "cell_type": "code",
   "execution_count": null,
   "id": "7002360a",
   "metadata": {},
   "outputs": [],
   "source": []
  },
  {
   "cell_type": "code",
   "execution_count": null,
   "id": "edcbac30",
   "metadata": {},
   "outputs": [],
   "source": [
    "import mysql.connector as mysql\n",
    "\n",
    "\n",
    "mydb = mysql.connect(\n",
    "    host = \"localhost\",\n",
    "    user = \"mayUser\",\n",
    "    password = \"MayDB@18\",\n",
    "    database = \"SqlJoins\",\n",
    "    auth_plugin='mysql_native_password'\n",
    ")\n",
    "\n",
    "\n",
    "mycursor = mydb.cursor()\n",
    "\n",
    "sql = \"SELECT \\\n",
    "  users.name AS user, \\\n",
    "  products.name AS favorite \\\n",
    "  FROM users \\\n",
    "  INNER JOIN products ON users.fav = products.id\"\n",
    "\n",
    "mycursor.execute(sql)\n",
    "\n",
    "myresult = mycursor.fetchall()\n",
    "\n",
    "for x in myresult:\n",
    "  print(x) "
   ]
  },
  {
   "cell_type": "code",
   "execution_count": null,
   "id": "31b13525",
   "metadata": {},
   "outputs": [],
   "source": []
  },
  {
   "cell_type": "code",
   "execution_count": null,
   "id": "bded645d",
   "metadata": {},
   "outputs": [],
   "source": []
  },
  {
   "cell_type": "markdown",
   "id": "c4be09dc",
   "metadata": {},
   "source": [
    "###  LEFT JOIN\n",
    "\n",
    "- This join returns all the rows of the table on the left side of the join and matches rows for the table on the right side of the join. \n",
    "\n",
    "- For the rows for which there is no matching row on the right side, the result-set will contain null. \n",
    "\n",
    "- LEFT JOIN is also known as LEFT OUTER JOIN\n",
    "\n",
    "\n",
    "```sql\n",
    "\n",
    "SELECT table1.column1,table1.column2,table2.column1,....\n",
    "FROM table1 \n",
    "LEFT JOIN table2\n",
    "ON table1.matching_column = table2.matching_column;\n",
    "\n",
    "\n",
    "```\n",
    "\n",
    "![](https://i.stack.imgur.com/VkAT5.png)"
   ]
  },
  {
   "cell_type": "code",
   "execution_count": null,
   "id": "05a38813",
   "metadata": {},
   "outputs": [],
   "source": [
    "import mysql.connector as mysql\n",
    "\n",
    "\n",
    "mydb = mysql.connect(\n",
    "    host = \"localhost\",\n",
    "    user = \"mayUser\",\n",
    "    password = \"MayDB@18\",\n",
    "    database = \"SqlJoins\",\n",
    "    auth_plugin='mysql_native_password'\n",
    ")\n",
    "\n",
    "\n",
    "mycursor = mydb.cursor()\n",
    "\n",
    "sql = \"SELECT \\\n",
    "  users.name AS user, \\\n",
    "  products.name AS favorite \\\n",
    "  FROM users \\\n",
    "  LEFT JOIN products ON users.fav = products.id\"\n",
    "\n",
    "mycursor.execute(sql)\n",
    "\n",
    "myresult = mycursor.fetchall()\n",
    "\n",
    "for x in myresult:\n",
    "  print(x)"
   ]
  },
  {
   "cell_type": "code",
   "execution_count": null,
   "id": "b19d231b",
   "metadata": {},
   "outputs": [],
   "source": []
  },
  {
   "cell_type": "markdown",
   "id": "1438b0e0",
   "metadata": {},
   "source": [
    "### RIGHT JOIN\n",
    "\n",
    "- RIGHT JOIN is similar to LEFT JOIN. This join returns all the rows of the table on the right side of the join and matching rows for the table on the left side of the join. \n",
    "\n",
    "- For the rows for which there is no matching row on the left side, the result-set will contain null.\n",
    "\n",
    "- RIGHT JOIN is also known as RIGHT OUTER JOIN. \n",
    "\n",
    "\n",
    "```sql\n",
    "SELECT table1.column1,table1.column2,table2.column1,....\n",
    "FROM table1 \n",
    "RIGHT JOIN table2\n",
    "ON table1.matching_column = table2.matching_column;\n",
    "\n",
    "\n",
    "\n",
    "```\n",
    "![](https://media.geeksforgeeks.org/wp-content/uploads/20220515095048/join.jpg)"
   ]
  },
  {
   "cell_type": "code",
   "execution_count": null,
   "id": "2b36c75e",
   "metadata": {},
   "outputs": [],
   "source": [
    "import mysql.connector as mysql\n",
    "\n",
    "\n",
    "mydb = mysql.connect(\n",
    "    host = \"localhost\",\n",
    "    user = \"mayUser\",\n",
    "    password = \"MayDB@18\",\n",
    "    database = \"SqlJoins\",\n",
    "    auth_plugin='mysql_native_password'\n",
    ")\n",
    "\n",
    "\n",
    "mycursor = mydb.cursor()\n",
    "\n",
    "sql = \"SELECT \\\n",
    "  users.name AS user, \\\n",
    "  products.name AS favorite \\\n",
    "  FROM users \\\n",
    "  RIGHT JOIN products ON users.fav = products.id\"\n",
    "\n",
    "mycursor.execute(sql)\n",
    "\n",
    "myresult = mycursor.fetchall()\n",
    "\n",
    "for x in myresult:\n",
    "  print(x)"
   ]
  },
  {
   "cell_type": "code",
   "execution_count": null,
   "id": "ba50ba59",
   "metadata": {},
   "outputs": [],
   "source": []
  },
  {
   "cell_type": "code",
   "execution_count": null,
   "id": "2fd07e2b",
   "metadata": {},
   "outputs": [],
   "source": []
  },
  {
   "cell_type": "markdown",
   "id": "1f4720ff",
   "metadata": {},
   "source": [
    "### Task \n",
    "-  Create a Database with someName\n",
    "- Create a Table with same structure of json document\n",
    "- Read the json data url and convert back to python dictionary \n",
    "- Iterate on data , insert one by one entry into table.\n",
    "\n",
    "\n",
    "- https://github.com/vega/vega/blob/main/docs/data/cars.json"
   ]
  },
  {
   "cell_type": "code",
   "execution_count": null,
   "id": "37deb450",
   "metadata": {},
   "outputs": [],
   "source": []
  },
  {
   "cell_type": "code",
   "execution_count": null,
   "id": "bde326ed",
   "metadata": {},
   "outputs": [],
   "source": []
  },
  {
   "cell_type": "code",
   "execution_count": null,
   "id": "342c7587",
   "metadata": {},
   "outputs": [],
   "source": [
    "import mysql.connector as mysql\n",
    "\n",
    "\n",
    "mydb = mysql.connect(\n",
    "    host = \"localhost\",\n",
    "    user = \"mayUser\",\n",
    "    password = \"MayDB@18\",\n",
    "    database = 'classic_cars_db',\n",
    "    auth_plugin='mysql_native_password'\n",
    ")\n",
    "\n",
    "cursor = mydb.cursor()\n",
    "\n",
    "#cursor.execute(\"CREATE DATABASE IF NOT EXISTS classic_cars_db\")\n",
    "tableQuery = '''\n",
    "        CREATE TABLE IF NOT EXISTS  car(\n",
    "        carsId INT AUTO_INCREMENT PRIMARY KEY,\n",
    "        Name VARCHAR(255) NOT NULL,\n",
    "        Miles INT ,\n",
    "        Cylinders INT  ,\n",
    "        Displacement INT ,\n",
    "        Horsepower INT ,\n",
    "        Weight INT ,\n",
    "        Acceleration INT ,\n",
    "        Year VARCHAR(15) ,\n",
    "        Origin VARCHAR(255)\n",
    "        )\n",
    "'''\n",
    "cursor.execute(tableQuery)\n",
    "\n",
    "print('table created...')"
   ]
  },
  {
   "cell_type": "code",
   "execution_count": null,
   "id": "369cc092",
   "metadata": {},
   "outputs": [],
   "source": []
  },
  {
   "cell_type": "code",
   "execution_count": null,
   "id": "f8b2d916",
   "metadata": {},
   "outputs": [],
   "source": []
  },
  {
   "cell_type": "code",
   "execution_count": null,
   "id": "e418b5a2",
   "metadata": {},
   "outputs": [],
   "source": [
    "#dir(cursor)"
   ]
  },
  {
   "cell_type": "code",
   "execution_count": null,
   "id": "26c37bed",
   "metadata": {},
   "outputs": [],
   "source": [
    "import requests as r\n",
    "\n",
    "response = None \n",
    "apiurl = \"https://raw.githubusercontent.com/vega/vega/main/docs/data/cars.json\"\n",
    "\n",
    "try:\n",
    "    data = r.get(\"https://raw.githubusercontent.com/vega/vega/main/docs/data/cars.json\")\n",
    "    if (data.status_code == 200):\n",
    "        response = data.json()\n",
    "    else:\n",
    "        print('status code is not 200 , issue with endpoint..')\n",
    "        \n",
    "except Exception as e:\n",
    "    print(f'Exception occured whil calling and parsing data : {e}')\n",
    "    \n",
    "#print(type(response))\n",
    "\n",
    "for entry in response:\n",
    "    insertQuery = '''\n",
    "                 insert into car(Name,Miles,Cylinders,Displacement,Horsepower,Weight,Acceleration,Year,Origin)\n",
    "                 values(%s,%s,%s,%s,%s,%s,%s,%s,%s)   \n",
    "                '''\n",
    "    values = list(entry.values())\n",
    "    cursor.execute(insertQuery,values)\n",
    "    mydb.commit()\n",
    "   \n",
    "\n"
   ]
  },
  {
   "cell_type": "code",
   "execution_count": null,
   "id": "29bf713d",
   "metadata": {},
   "outputs": [],
   "source": []
  },
  {
   "cell_type": "code",
   "execution_count": null,
   "id": "e0d99bfa",
   "metadata": {},
   "outputs": [],
   "source": [
    "len(['chevrolet chevelle malibu', 18, 8, 307, 130, 3504, 12, '1970-01-01', 'USA'])"
   ]
  },
  {
   "cell_type": "code",
   "execution_count": null,
   "id": "2e56d326",
   "metadata": {},
   "outputs": [],
   "source": [
    "query = '''\n",
    "                INSERT INTO cars(Name,Miles_per_gallon,Cylinders,Displacement,HorsePower,Weight,Acceleration,Year,Origin) \n",
    "                VALUES('{0}',{1},{2},{3},{4},{5},{6},{7},'{8}')\n",
    "                 '''"
   ]
  },
  {
   "cell_type": "code",
   "execution_count": null,
   "id": "7a12136c",
   "metadata": {},
   "outputs": [],
   "source": [
    "query.format('ford maverick',15, 6, 250, 72, 3158, 19.5, '1975-01-01', 'USA')\n"
   ]
  },
  {
   "cell_type": "code",
   "execution_count": null,
   "id": "cc93c827",
   "metadata": {},
   "outputs": [],
   "source": []
  },
  {
   "cell_type": "code",
   "execution_count": 4,
   "id": "9f7c799d",
   "metadata": {},
   "outputs": [
    {
     "name": "stdout",
     "output_type": "stream",
     "text": [
      "dict_keys(['Name', 'Miles_per_Gallon', 'Cylinders', 'Displacement', 'Horsepower', 'Weight_in_lbs', 'Acceleration', 'Year', 'Origin'])\n",
      "dict_values(['chevrolet chevelle malibu', 18, 8, 307, 130, 3504, 12, '1970-01-01', 'USA'])\n"
     ]
    }
   ],
   "source": [
    "data = {\n",
    "      \"Name\":\"chevrolet chevelle malibu\",\n",
    "      \"Miles_per_Gallon\":18,\n",
    "      \"Cylinders\":8,\n",
    "      \"Displacement\":307,\n",
    "      \"Horsepower\":130,\n",
    "      \"Weight_in_lbs\":3504,\n",
    "      \"Acceleration\":12,\n",
    "      \"Year\":\"1970-01-01\",\n",
    "      \"Origin\":\"USA\"\n",
    "   }\n",
    "# print(data, type(data))\n",
    "\n",
    "print(data.keys())\n",
    "\n",
    "print(data.values())"
   ]
  },
  {
   "cell_type": "code",
   "execution_count": null,
   "id": "c2643996",
   "metadata": {},
   "outputs": [],
   "source": []
  },
  {
   "cell_type": "code",
   "execution_count": null,
   "id": "f888fee5",
   "metadata": {},
   "outputs": [],
   "source": []
  }
 ],
 "metadata": {
  "kernelspec": {
   "display_name": "Python 3 (ipykernel)",
   "language": "python",
   "name": "python3"
  },
  "language_info": {
   "codemirror_mode": {
    "name": "ipython",
    "version": 3
   },
   "file_extension": ".py",
   "mimetype": "text/x-python",
   "name": "python",
   "nbconvert_exporter": "python",
   "pygments_lexer": "ipython3",
   "version": "3.10.9"
  }
 },
 "nbformat": 4,
 "nbformat_minor": 5
}
