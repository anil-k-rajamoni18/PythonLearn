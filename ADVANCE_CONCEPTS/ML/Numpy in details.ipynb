{
 "cells": [
  {
   "cell_type": "markdown",
   "metadata": {},
   "source": [
    "# Numpy Array"
   ]
  },
  {
   "cell_type": "markdown",
   "metadata": {},
   "source": [
    "##### What is NumPy?\n",
    "\n",
    "- NumPy is a Python library used for working with arrays, images, matrix etc\n",
    "\n",
    "- It also has functions for working in domain of linear algebra, fourier transform, and matrices.\n",
    "\n",
    "- NumPy was created in 2005 by Travis Oliphant. It is an open source project and you can use it freely.\n",
    "\n",
    "- NumPy stands for Numerical Python.\n",
    "\n",
    "\n",
    "### Why Use NumPy?\n",
    "\n",
    "- In Python we have lists that serve the purpose of arrays, but they are slow to process.\n",
    "- NumPy aims to provide an array object that is up to 50x faster than traditional Python lists.\n",
    "\n",
    "- NumPy arrays are stored at one continuous place in memory unlike lists, so processes can access and manipulate them very efficiently.\n",
    "\n",
    "- This behavior is called locality of reference in computer science.\n",
    "\n",
    "\n",
    "### Which Language is NumPy written in?\n",
    "- NumPy is a Python library and is written partially in Python, but most of the parts that require fast computation are written in C or C++.\n"
   ]
  },
  {
   "cell_type": "markdown",
   "metadata": {},
   "source": [
    "## Install \n",
    "\n",
    "- we need to install the numpy before we use it, as it is not a builtin module.\n",
    "\n",
    "```pip install numpy```"
   ]
  },
  {
   "cell_type": "code",
   "execution_count": null,
   "metadata": {},
   "outputs": [],
   "source": [
    "from IPython.core.interactiveshell import InteractiveShell\n",
    "InteractiveShell.ast_node_interactivity = \"all\""
   ]
  },
  {
   "cell_type": "code",
   "execution_count": null,
   "metadata": {},
   "outputs": [],
   "source": [
    "import numpy\n",
    "\n",
    "print(numpy.__version__)"
   ]
  },
  {
   "cell_type": "code",
   "execution_count": null,
   "metadata": {},
   "outputs": [],
   "source": [
    "#importing\n",
    "\n",
    "import numpy\n",
    "\n",
    "#alias\n",
    "import numpy as np\n",
    "\n",
    "dir(np)"
   ]
  },
  {
   "cell_type": "code",
   "execution_count": null,
   "metadata": {},
   "outputs": [],
   "source": []
  },
  {
   "cell_type": "code",
   "execution_count": null,
   "metadata": {},
   "outputs": [],
   "source": [
    "import numpy as np\n",
    "import pandas as pd\n",
    "import matplotlib.pyplot as plt"
   ]
  },
  {
   "cell_type": "markdown",
   "metadata": {},
   "source": [
    "### List vs Numpy"
   ]
  },
  {
   "cell_type": "code",
   "execution_count": null,
   "metadata": {},
   "outputs": [],
   "source": []
  },
  {
   "cell_type": "code",
   "execution_count": null,
   "metadata": {},
   "outputs": [],
   "source": [
    "lst = [\"india\", 2.0, 3, True] # Hetro\n",
    "\n",
    "print(lst , type(lst))\n",
    "print(type(lst[0]),type(lst[1]))"
   ]
  },
  {
   "cell_type": "markdown",
   "metadata": {},
   "source": [
    "#### Create a NumPy ndarray Object\n",
    "- NumPy is used to work with arrays. The array object in NumPy is called ndarray.\n",
    "- We can create a NumPy ndarray object by using the array() function.\n",
    "- To create an ndarray, we can pass a list, tuple or any array-like object into the array() method, and it will be converted into an ndarray:\n",
    "\n",
    "``` numpy.array([] ,ndim=0,dtype=None) ```"
   ]
  },
  {
   "cell_type": "code",
   "execution_count": null,
   "metadata": {},
   "outputs": [],
   "source": [
    "import numpy as np\n",
    "\n",
    "arr = np.array((1, 2, 3, 4, 5)) # Used a tuple to create a NumPy array:\n",
    "\n",
    "print(arr) \n",
    "print(type(arr))\n",
    "\n",
    "# List vs Numpy\n",
    "\n",
    "lst = [\"india\", 2.0, 3, True] # Hetro\n",
    "\n",
    "print(lst , type(lst))\n",
    "print(type(lst[0]),type(lst[1]))"
   ]
  },
  {
   "cell_type": "code",
   "execution_count": null,
   "metadata": {},
   "outputs": [],
   "source": []
  },
  {
   "cell_type": "code",
   "execution_count": null,
   "metadata": {
    "scrolled": true
   },
   "outputs": [],
   "source": [
    "import numpy as np\n",
    "\n",
    "# numpy.array([])\n",
    "arr = np.array([2, 2.8, 3])\n",
    "\n",
    "print(arr)\n",
    "print(type(arr))\n",
    "print(arr[0], type(arr[0]))\n",
    "print(arr[2], type(arr[2]))\n",
    "\n",
    "\n",
    "# numpy data types \n",
    "# numpy.ndarray\n",
    "# numpy.int32 numpy.nt16, numpy.int64\n",
    "# numpy.float16, float32, float64"
   ]
  },
  {
   "cell_type": "code",
   "execution_count": null,
   "metadata": {},
   "outputs": [],
   "source": []
  },
  {
   "cell_type": "markdown",
   "metadata": {},
   "source": [
    "#### Upcasting in numpy"
   ]
  },
  {
   "cell_type": "code",
   "execution_count": null,
   "metadata": {},
   "outputs": [],
   "source": [
    "arr = np.array([1, 2, 3.0,40.2,39.4 ,False])\n",
    "\n",
    "print(arr[0],type(arr[0]))\n",
    "print(arr[-1], type(arr[-1]))\n",
    "print(arr)"
   ]
  },
  {
   "cell_type": "code",
   "execution_count": null,
   "metadata": {},
   "outputs": [],
   "source": []
  },
  {
   "cell_type": "code",
   "execution_count": null,
   "metadata": {},
   "outputs": [],
   "source": []
  },
  {
   "cell_type": "markdown",
   "metadata": {},
   "source": [
    "### Dimensions in Arrays\n",
    "- A dimension in arrays is one level of array depth (nested arrays).\n",
    "- **nested array**: are arrays that have arrays as their elements.\n"
   ]
  },
  {
   "cell_type": "markdown",
   "metadata": {},
   "source": [
    "#### 0-D Arrays\n",
    "- 0-D arrays, or Scalars, are the elements in an array. Each value in an array is a 0-D array.\n"
   ]
  },
  {
   "cell_type": "code",
   "execution_count": null,
   "metadata": {},
   "outputs": [],
   "source": [
    "import numpy as np\n",
    "\n",
    "arr = np.array(42)\n",
    "\n",
    "print(arr) \n",
    "print(arr.shape)"
   ]
  },
  {
   "cell_type": "markdown",
   "metadata": {},
   "source": [
    "#### 1-D Arrays\n",
    "- An array that has 0-D arrays as its elements is called uni-dimensional or 1-D array\n"
   ]
  },
  {
   "cell_type": "code",
   "execution_count": null,
   "metadata": {},
   "outputs": [],
   "source": [
    "import numpy as np\n",
    "\n",
    "arr = np.array([1, 2, 3, 4, 5])\n",
    "\n",
    "print(arr) \n",
    "print(arr.shape)"
   ]
  },
  {
   "cell_type": "code",
   "execution_count": null,
   "metadata": {},
   "outputs": [],
   "source": []
  },
  {
   "cell_type": "markdown",
   "metadata": {},
   "source": [
    "#### 2-D Arrays\n",
    "\n",
    "- An array that has 1-D arrays as its elements is called a 2-D array.\n",
    "\n",
    "- These are often used to represent matrix or 2nd order tensors.\n",
    "\n",
    "- **NumPy has a whole sub module dedicated towards matrix operations called numpy.mat**"
   ]
  },
  {
   "cell_type": "code",
   "execution_count": null,
   "metadata": {},
   "outputs": [],
   "source": [
    "# python list 2D\n",
    "\n",
    "lst2D = [[1, 2], [3, 4,5,[10,20,30,40]]]\n",
    "print(lst2D[1][3][3])\n",
    "\n",
    "\n",
    "\n",
    "import numpy as np\n",
    "arr = np.array([[1, 2, 3], [4, 5, 6], [7,8,9]])\n",
    "print(arr) \n",
    "print(type(arr))\n",
    "print(arr.ndim)\n",
    "print(arr.shape)\n",
    "\n",
    "print(arr[2][1])\n",
    "print(arr[2,2])\n",
    "print(arr[1,1])\n"
   ]
  },
  {
   "cell_type": "markdown",
   "metadata": {},
   "source": [
    "#### 3-D arrays\n",
    "\n",
    "- An array that has 2-D arrays (matrices) as its elements is called 3-D array.\n",
    "\n",
    "- These are often used to represent a 3rd order tensor."
   ]
  },
  {
   "cell_type": "code",
   "execution_count": null,
   "metadata": {},
   "outputs": [],
   "source": [
    "import numpy as np\n",
    "\n",
    "arr = np.array([[[1, 2, 3], [4, 5, 6]], [[7, 8, 9], [10, 11, 12]]])\n",
    "\n",
    "print(arr) \n",
    "print(arr.shape)\n",
    "print(arr.ndim)\n",
    "\n",
    "print(arr[1][0][2])"
   ]
  },
  {
   "cell_type": "code",
   "execution_count": null,
   "metadata": {},
   "outputs": [],
   "source": []
  },
  {
   "cell_type": "code",
   "execution_count": null,
   "metadata": {},
   "outputs": [],
   "source": []
  },
  {
   "cell_type": "markdown",
   "metadata": {},
   "source": [
    "### N Dimension  | Higher Dimensional Arrays\n",
    "\n",
    "- An array can have any number of dimensions.\n",
    "\n",
    "- When the array is created, you can define the number of dimensions by using the ndmin argument."
   ]
  },
  {
   "cell_type": "code",
   "execution_count": null,
   "metadata": {},
   "outputs": [],
   "source": [
    "import numpy as np\n",
    "\n",
    "arr = np.array([1, 2, 3, 4], ndmin=5)\n",
    "\n",
    "print(arr)\n",
    "print('number of dimensions :', arr.ndim) \n",
    "\n",
    "print(arr[0][0][0][0][2])\n",
    "print(arr[0,0,0,0,2])"
   ]
  },
  {
   "cell_type": "code",
   "execution_count": null,
   "metadata": {},
   "outputs": [],
   "source": [
    "\n",
    "arr=np.array([1, 2, 3,5,10,2,291,2782,10991], ndmin=4)\n",
    "\n",
    "print(arr)\n",
    "print(arr.shape)\n",
    "print(len(arr))\n",
    "\n",
    "print(arr[0])\n",
    "print(arr[0][0])\n",
    "print(arr[0][0][0])\n",
    "print(arr[0][0][0][4])\n",
    "print(arr[0,0,0,4])\n",
    "\n",
    "print(arr[0][0][0,7])"
   ]
  },
  {
   "cell_type": "code",
   "execution_count": null,
   "metadata": {},
   "outputs": [],
   "source": []
  },
  {
   "cell_type": "code",
   "execution_count": null,
   "metadata": {},
   "outputs": [],
   "source": [
    "import numpy as np\n",
    "\n",
    "a = np.array(42)\n",
    "b = np.array([1, 2, 3, 4, 5])\n",
    "c = np.array([[1, 2, 3], [4, 5, 6]])\n",
    "d = np.array([[[1, 2, 3], [4, 5, 6]], [[1, 2, 3], [4, 5, 6]]])\n",
    "\n",
    "print(a.ndim)\n",
    "print(b.ndim)\n",
    "print(c.ndim)\n",
    "print(d.ndim) "
   ]
  },
  {
   "cell_type": "code",
   "execution_count": null,
   "metadata": {},
   "outputs": [],
   "source": []
  },
  {
   "cell_type": "markdown",
   "metadata": {},
   "source": [
    "## Numpy data dtypes\n",
    "\n",
    "##### Data Types in Python\n",
    "\n",
    "By default Python have these data types:\n",
    "\n",
    "    strings - used to represent text data, the text is given under quote marks. e.g. \"ABCD\"\n",
    "    integer - used to represent integer numbers. e.g. -1, -2, -3\n",
    "    float - used to represent real numbers. e.g. 1.2, 42.42\n",
    "    boolean - used to represent True or False.\n",
    "    complex - used to represent complex numbers. e.g. 1.0 + 2.0j, 1.5 + 2.5j\n",
    "\n",
    "\n",
    "##### Data Types in NumPy\n",
    "\n",
    "NumPy has some extra data types, and refer to data types with one character, like i for integers, u for unsigned integers etc.\n",
    "\n",
    "Below is a list of all data types in NumPy and the characters used to represent them.\n",
    "\n",
    "    i - integer\n",
    "    b - boolean\n",
    "    u - unsigned integer\n",
    "    f - float\n",
    "    c - complex float\n",
    "    m - timedelta\n",
    "    M - datetime\n",
    "    O - object\n",
    "    S - string\n",
    "    U - unicode string\n",
    "    V - fixed chunk of memory for other type ( void )\n",
    "\n",
    "- The NumPy array object has a property called dtype that returns the data type of the array"
   ]
  },
  {
   "cell_type": "code",
   "execution_count": null,
   "metadata": {},
   "outputs": [],
   "source": [
    "import numpy as np\n",
    "\n",
    "arr = np.array([1, 2, 3.5, 4])\n",
    "\n",
    "print(arr.dtype) "
   ]
  },
  {
   "cell_type": "code",
   "execution_count": null,
   "metadata": {},
   "outputs": [],
   "source": []
  },
  {
   "cell_type": "code",
   "execution_count": null,
   "metadata": {},
   "outputs": [],
   "source": [
    "arr = np.array([1+2j, 2, 3], dtype=complex) #x+yj\n",
    "print(arr)\n",
    "print(arr.dtype)"
   ]
  },
  {
   "cell_type": "code",
   "execution_count": null,
   "metadata": {},
   "outputs": [],
   "source": []
  },
  {
   "cell_type": "code",
   "execution_count": null,
   "metadata": {},
   "outputs": [],
   "source": [
    "arr = np.array([1, 2, 3], dtype=str)\n",
    "print(arr)\n",
    "print(arr.dtype)"
   ]
  },
  {
   "cell_type": "code",
   "execution_count": null,
   "metadata": {},
   "outputs": [],
   "source": []
  },
  {
   "cell_type": "markdown",
   "metadata": {},
   "source": [
    "#### Try these?"
   ]
  },
  {
   "cell_type": "code",
   "execution_count": null,
   "metadata": {},
   "outputs": [],
   "source": [
    "bool(0)\n",
    "bool(0.0)\n",
    "bool([])\n",
    "bool(())\n",
    "bool(set())\n",
    "bool({})\n",
    "bool(\"\")"
   ]
  },
  {
   "cell_type": "code",
   "execution_count": null,
   "metadata": {},
   "outputs": [],
   "source": []
  },
  {
   "cell_type": "code",
   "execution_count": null,
   "metadata": {},
   "outputs": [],
   "source": [
    "arr = np.array([1, 2, 0,{}, \"\"], dtype=bool)\n",
    "print(arr)\n",
    "print(arr.dtype)"
   ]
  },
  {
   "cell_type": "code",
   "execution_count": null,
   "metadata": {},
   "outputs": [],
   "source": []
  },
  {
   "cell_type": "code",
   "execution_count": null,
   "metadata": {},
   "outputs": [],
   "source": [
    "#Data-type consisting of more than one element:"
   ]
  },
  {
   "cell_type": "code",
   "execution_count": null,
   "metadata": {},
   "outputs": [],
   "source": [
    "arr = np.array([(1,2),(3,4)],dtype=[('f','f'),('b','<i4')])\n",
    "print(arr)\n",
    "print(arr.dtype)\n",
    "\n",
    "print(arr)\n",
    "\n",
    "print(arr[0][1])\n",
    "print(type(arr[0][0]))\n",
    "print(type(arr[0][1]))\n",
    "print(type(arr[1][0]))\n",
    "print(type(arr[1][1]))"
   ]
  },
  {
   "cell_type": "code",
   "execution_count": null,
   "metadata": {},
   "outputs": [],
   "source": []
  },
  {
   "cell_type": "code",
   "execution_count": null,
   "metadata": {},
   "outputs": [],
   "source": [
    "arr=np.array([1, 2, 3], dtype='f')\n",
    "print(arr)\n",
    "print(arr.dtype)\n",
    "\n",
    "type(arr[0])"
   ]
  },
  {
   "cell_type": "code",
   "execution_count": null,
   "metadata": {},
   "outputs": [],
   "source": []
  },
  {
   "cell_type": "code",
   "execution_count": null,
   "metadata": {},
   "outputs": [],
   "source": [
    "import numpy as np\n",
    "\n",
    "arr = np.array(['apple', 'banana', 'cherry'])\n",
    "\n",
    "print(arr.dtype) "
   ]
  },
  {
   "cell_type": "code",
   "execution_count": null,
   "metadata": {},
   "outputs": [],
   "source": [
    "import numpy as np\n",
    "\n",
    "arr = np.array([1, 2, 3, 4], dtype='S')\n",
    "\n",
    "print(arr)\n",
    "print(arr.dtype) \n"
   ]
  },
  {
   "cell_type": "code",
   "execution_count": null,
   "metadata": {},
   "outputs": [],
   "source": []
  },
  {
   "cell_type": "code",
   "execution_count": null,
   "metadata": {},
   "outputs": [],
   "source": [
    "import numpy as np\n",
    "\n",
    "arr = np.array([1, 2, 3, 4], dtype='i8')\n",
    "\n",
    "print(arr)\n",
    "print(arr.dtype) "
   ]
  },
  {
   "cell_type": "code",
   "execution_count": null,
   "metadata": {},
   "outputs": [],
   "source": []
  },
  {
   "cell_type": "markdown",
   "metadata": {},
   "source": [
    "### Try these\n"
   ]
  },
  {
   "cell_type": "code",
   "execution_count": null,
   "metadata": {},
   "outputs": [],
   "source": [
    "import numpy as np\n",
    "\n",
    "arr = np.array(['a', '2', '3'], dtype='i') \n",
    "print(arr)"
   ]
  },
  {
   "cell_type": "code",
   "execution_count": null,
   "metadata": {},
   "outputs": [],
   "source": []
  },
  {
   "cell_type": "markdown",
   "metadata": {},
   "source": [
    "#### Converting Data Type on Existing Arrays\n",
    "\n",
    "- The best way to change the data type of an existing array, is to make a copy of the array with the astype() method.\n",
    "\n",
    "- The astype() function creates a copy of the array, and allows you to specify the data type as a parameter.\n",
    "\n",
    "- The data type can be specified using a string, like 'f' for float, 'i' for integer etc. or you can use the data type directly like float for float and int for integer."
   ]
  },
  {
   "cell_type": "code",
   "execution_count": null,
   "metadata": {},
   "outputs": [],
   "source": [
    "import numpy as np\n",
    "\n",
    "arr = np.array([1.1, 2.1, 3.1])\n",
    "print(arr.dtype)\n",
    "\n",
    "newarr = arr.astype('i')\n",
    "print(newarr)\n",
    "print(newarr.dtype) "
   ]
  },
  {
   "cell_type": "code",
   "execution_count": null,
   "metadata": {},
   "outputs": [],
   "source": []
  },
  {
   "cell_type": "code",
   "execution_count": null,
   "metadata": {},
   "outputs": [],
   "source": [
    "import numpy as np\n",
    "\n",
    "arr = np.array([1.1, 2.1, 3.1])\n",
    "\n",
    "newarr = arr.astype(int)\n",
    "\n",
    "print(newarr)\n",
    "print(newarr.dtype) \n",
    "\n",
    "\n",
    "arr2 = np.array([1, 0, 3])\n",
    "\n",
    "newarr2 = arr2.astype(bool)\n",
    "\n",
    "print(newarr2)\n",
    "print(newarr2.dtype)"
   ]
  },
  {
   "cell_type": "code",
   "execution_count": null,
   "metadata": {},
   "outputs": [],
   "source": [
    "\n",
    "\n",
    "import numpy as np\n",
    "\n"
   ]
  },
  {
   "cell_type": "code",
   "execution_count": null,
   "metadata": {},
   "outputs": [],
   "source": []
  },
  {
   "cell_type": "code",
   "execution_count": null,
   "metadata": {},
   "outputs": [],
   "source": []
  },
  {
   "cell_type": "markdown",
   "metadata": {},
   "source": [
    "\n",
    "### Creating an array from sub-classes:"
   ]
  },
  {
   "cell_type": "code",
   "execution_count": null,
   "metadata": {},
   "outputs": [],
   "source": []
  },
  {
   "cell_type": "code",
   "execution_count": null,
   "metadata": {},
   "outputs": [],
   "source": [
    "arr = np.mat(np.array([[1, 2],[4,7]]))\n",
    "print(arr.shape)"
   ]
  },
  {
   "cell_type": "code",
   "execution_count": null,
   "metadata": {},
   "outputs": [],
   "source": []
  },
  {
   "cell_type": "code",
   "execution_count": null,
   "metadata": {},
   "outputs": [],
   "source": [
    "arr=np.mat(np.array([[1, 2,3],[98,7,67]]))\n",
    "\n",
    "print(arr.shape)\n",
    "print(arr[0,2]) #3rd element on the 1 dimensin\n",
    "print(arr[1,0])"
   ]
  },
  {
   "cell_type": "code",
   "execution_count": null,
   "metadata": {},
   "outputs": [],
   "source": [
    "arr = np.mat('1 2; 3 5;3 4')\n",
    "print(arr)\n",
    "print(arr.shape)\n",
    "print(type(arr))"
   ]
  },
  {
   "cell_type": "code",
   "execution_count": null,
   "metadata": {},
   "outputs": [],
   "source": []
  },
  {
   "cell_type": "code",
   "execution_count": null,
   "metadata": {},
   "outputs": [],
   "source": []
  },
  {
   "cell_type": "markdown",
   "metadata": {},
   "source": [
    "# numpy.asarray\n",
    "- Convert the input to an array.\n",
    "- Convert a list into an array:"
   ]
  },
  {
   "cell_type": "code",
   "execution_count": null,
   "metadata": {},
   "outputs": [],
   "source": [
    "a = [1, 2]\n",
    "type(a)"
   ]
  },
  {
   "cell_type": "code",
   "execution_count": null,
   "metadata": {},
   "outputs": [],
   "source": [
    "arr= np.asarray(a)\n",
    "print(arr)\n",
    "print(arr)\n",
    "\n",
    "print(type(arr))"
   ]
  },
  {
   "cell_type": "code",
   "execution_count": null,
   "metadata": {},
   "outputs": [],
   "source": []
  },
  {
   "cell_type": "code",
   "execution_count": null,
   "metadata": {},
   "outputs": [],
   "source": [
    "arr = np.array([1, 2]) #Existing arrays are not copied\n",
    "print(type(arr))"
   ]
  },
  {
   "cell_type": "code",
   "execution_count": null,
   "metadata": {},
   "outputs": [],
   "source": []
  },
  {
   "cell_type": "code",
   "execution_count": null,
   "metadata": {},
   "outputs": [],
   "source": [
    "#If dtype is set, array is copied only if dtype does not match:"
   ]
  },
  {
   "cell_type": "code",
   "execution_count": null,
   "metadata": {},
   "outputs": [],
   "source": [
    "# np.int8\n",
    "# np.int16 ,32,64\n",
    "# np.float32,64\n"
   ]
  },
  {
   "cell_type": "code",
   "execution_count": null,
   "metadata": {},
   "outputs": [],
   "source": [
    "arr = np.array([1, 2], dtype=np.int16)\n",
    "print(arr)\n",
    "print(type(arr[0]))"
   ]
  },
  {
   "cell_type": "code",
   "execution_count": null,
   "metadata": {},
   "outputs": [],
   "source": []
  },
  {
   "cell_type": "code",
   "execution_count": null,
   "metadata": {},
   "outputs": [],
   "source": [
    "arr = np.array([1, 2], dtype='i2')\n",
    "print(arr)\n",
    "print(type(arr[0]))"
   ]
  },
  {
   "cell_type": "code",
   "execution_count": null,
   "metadata": {},
   "outputs": [],
   "source": []
  },
  {
   "cell_type": "code",
   "execution_count": null,
   "metadata": {},
   "outputs": [],
   "source": [
    "# ndarray subclasses are not passed through"
   ]
  },
  {
   "cell_type": "code",
   "execution_count": null,
   "metadata": {},
   "outputs": [],
   "source": [
    "class B:\n",
    "    pass\n",
    "class A:\n",
    "    a=10\n",
    "a=A()\n",
    "b=B()\n",
    "\n",
    "print(isinstance(a,A))\n",
    "print(isinstance(b,A))\n",
    "print(isinstance(b,B))\n"
   ]
  },
  {
   "cell_type": "code",
   "execution_count": null,
   "metadata": {},
   "outputs": [],
   "source": [
    "class Person:\n",
    "  age = 36\n",
    "\n",
    "class Bhanu:\n",
    "    name = 'Bhanu'\n",
    "    \n",
    "class John(Person):\n",
    "  name = \"John\"\n",
    "\n",
    "x = issubclass(John,Person)\n",
    "print(x)\n",
    "\n",
    "y = issubclass(Bhanu,Person)\n",
    "print(y)"
   ]
  },
  {
   "cell_type": "code",
   "execution_count": null,
   "metadata": {},
   "outputs": [],
   "source": [
    "issubclass(np.matrix, np.ndarray)"
   ]
  },
  {
   "cell_type": "markdown",
   "metadata": {},
   "source": [
    "### np.asanyarray(obj)"
   ]
  },
  {
   "cell_type": "code",
   "execution_count": null,
   "metadata": {},
   "outputs": [],
   "source": [
    "arr = np.matrix([[1, 2]])\n",
    "\n",
    "print(arr,type(arr))\n",
    "\n",
    "\n",
    "\n",
    "arrb = np.asanyarray([[1,2]])\n",
    "print(arrb,type(arrb))"
   ]
  },
  {
   "cell_type": "code",
   "execution_count": null,
   "metadata": {},
   "outputs": [],
   "source": []
  },
  {
   "cell_type": "markdown",
   "metadata": {},
   "source": [
    "## numpy.copy"
   ]
  },
  {
   "cell_type": "code",
   "execution_count": null,
   "metadata": {},
   "outputs": [],
   "source": [
    "np.array(arr, copy=True)"
   ]
  },
  {
   "cell_type": "code",
   "execution_count": null,
   "metadata": {},
   "outputs": [],
   "source": [
    "#Create an array x, with a reference y and a copy z:"
   ]
  },
  {
   "cell_type": "code",
   "execution_count": null,
   "metadata": {},
   "outputs": [],
   "source": [
    "x = np.array([1, 2, 3])\n",
    "print(x , type(x) , id(x))"
   ]
  },
  {
   "cell_type": "code",
   "execution_count": null,
   "metadata": {},
   "outputs": [],
   "source": [
    "y = x #alias copy\n",
    "print(y , type(y) , id(y))"
   ]
  },
  {
   "cell_type": "code",
   "execution_count": null,
   "metadata": {},
   "outputs": [],
   "source": [
    "z = np.copy(x) \n",
    "print(z , type(z), id(z))"
   ]
  },
  {
   "cell_type": "code",
   "execution_count": null,
   "metadata": {},
   "outputs": [],
   "source": []
  },
  {
   "cell_type": "code",
   "execution_count": null,
   "metadata": {},
   "outputs": [],
   "source": [
    "x[0] = 100\n",
    "y[1] = 200\n",
    "print(x)\n",
    "print(y)\n",
    "print(z)"
   ]
  },
  {
   "cell_type": "code",
   "execution_count": null,
   "metadata": {},
   "outputs": [],
   "source": []
  },
  {
   "cell_type": "code",
   "execution_count": null,
   "metadata": {},
   "outputs": [],
   "source": [
    "def addition(a,b): \n",
    "    return a+b\n",
    "\n",
    "addition(10,20)"
   ]
  },
  {
   "cell_type": "code",
   "execution_count": null,
   "metadata": {},
   "outputs": [],
   "source": [
    "lamfun = lambda n1,n2:n1+n2\n",
    "\n",
    "lamfun(10,200)"
   ]
  },
  {
   "cell_type": "code",
   "execution_count": null,
   "metadata": {},
   "outputs": [],
   "source": []
  },
  {
   "cell_type": "markdown",
   "metadata": {},
   "source": [
    "# numpy.fromfunction"
   ]
  },
  {
   "cell_type": "code",
   "execution_count": null,
   "metadata": {},
   "outputs": [],
   "source": [
    "#Construct an array by executing a function over each coordinate."
   ]
  },
  {
   "cell_type": "code",
   "execution_count": null,
   "metadata": {},
   "outputs": [],
   "source": [
    "import numpy as np\n",
    "\n",
    "np.fromfunction(lambda i, j: i == j, (3, 3), dtype=int)"
   ]
  },
  {
   "cell_type": "code",
   "execution_count": null,
   "metadata": {},
   "outputs": [],
   "source": [
    "np.fromfunction(lambda i, j: i + j, (10, 3), dtype=int)"
   ]
  },
  {
   "cell_type": "code",
   "execution_count": null,
   "metadata": {},
   "outputs": [],
   "source": [
    "#Create a new 1-dimensional array from an iterable object."
   ]
  },
  {
   "cell_type": "code",
   "execution_count": null,
   "metadata": {},
   "outputs": [],
   "source": [
    "[x*x for x in range(5)]"
   ]
  },
  {
   "cell_type": "code",
   "execution_count": null,
   "metadata": {},
   "outputs": [],
   "source": [
    "iterable = (x*x for x in range(5))\n",
    "print(iterable)\n",
    "\n",
    "# for data in iterable:\n",
    "#     print(data)\n",
    "\n",
    "np.fromiter(iterable, float)"
   ]
  },
  {
   "cell_type": "code",
   "execution_count": null,
   "metadata": {},
   "outputs": [],
   "source": []
  },
  {
   "cell_type": "code",
   "execution_count": null,
   "metadata": {},
   "outputs": [],
   "source": []
  },
  {
   "cell_type": "code",
   "execution_count": null,
   "metadata": {},
   "outputs": [],
   "source": [
    "#A new 1-D array initialized from text data in a string"
   ]
  },
  {
   "cell_type": "code",
   "execution_count": null,
   "metadata": {},
   "outputs": [],
   "source": [
    "arr = np.fromstring('234->234',sep='->',dtype=int)\n",
    "print(arr)\n",
    "print(arr.shape)"
   ]
  },
  {
   "cell_type": "code",
   "execution_count": null,
   "metadata": {},
   "outputs": [],
   "source": []
  },
  {
   "cell_type": "code",
   "execution_count": null,
   "metadata": {},
   "outputs": [],
   "source": [
    "np.fromstring('1, 2', dtype=int, sep=',')\n"
   ]
  },
  {
   "cell_type": "code",
   "execution_count": null,
   "metadata": {},
   "outputs": [],
   "source": []
  },
  {
   "cell_type": "markdown",
   "metadata": {},
   "source": [
    "## data types"
   ]
  },
  {
   "cell_type": "code",
   "execution_count": null,
   "metadata": {},
   "outputs": [],
   "source": [
    "np.array()\n",
    "np.asarray()\n",
    "np.asanyarray()\n",
    "np.mat()\n",
    "np.matrix()\n",
    "\n",
    "np.copy\n",
    "np.fromfunction()\n",
    "np.fromiter()\n",
    "np.fromstring()\n",
    "\n",
    "\n",
    "#attributes\n",
    "shape\n",
    "dtype\n",
    "ndim \n"
   ]
  },
  {
   "cell_type": "code",
   "execution_count": null,
   "metadata": {},
   "outputs": [],
   "source": []
  },
  {
   "cell_type": "code",
   "execution_count": null,
   "metadata": {},
   "outputs": [],
   "source": [
    "my_list = [1,2,3]\n",
    "print(\"Type of my list\",type(my_list))\n",
    "\n",
    "import numpy as np\n",
    "\n",
    "arr = np.array(my_list)\n",
    "\n",
    "print(\"Type/Class of this object:\",type(arr))\n",
    "print(\"Here is the vector\\n--------------------\\n\",arr)"
   ]
  },
  {
   "cell_type": "code",
   "execution_count": null,
   "metadata": {},
   "outputs": [],
   "source": [
    "my_mat = [[1.1,2,3],[4,5,6],[7,8,9]]\n",
    "mat = np.asarray(my_mat)\n",
    "print(\"Type/Class of this object:\",type(mat))\n",
    "print(\"Here is the matrix\\n----------\\n\",mat,\"\\n----------\")\n",
    "print(\"Dimension of this matrix: \",mat.ndim,sep='') #ndim gives the dimensison, 2 for a matrix, 1 for a vector\n",
    "print(\"Size of this matrix: \", mat.size,sep='') #size gives the total number of elements\n",
    "print(\"Shape of this matrix: \", mat.shape,sep='') #shape gives the number of elements along each axes (dimension)\n",
    "print(\"Data type of this matrix: \", mat.dtype,sep='') #dtype gives the data type contained in the array\n"
   ]
  },
  {
   "cell_type": "code",
   "execution_count": null,
   "metadata": {},
   "outputs": [],
   "source": [
    "my_mat = [[1.1,2,3],[4,5,6],[7,8,9]]\n",
    "\n",
    "mat = np.asarray(my_mat)\n",
    "print(mat.shape)\n",
    "print(mat.dtype)\n",
    "print(mat.size)\n",
    "print(mat.ndim)"
   ]
  },
  {
   "cell_type": "code",
   "execution_count": null,
   "metadata": {},
   "outputs": [],
   "source": [
    "my_mat = [[1.1,2,3],[4,5.2,6],[7,8.3,9]]\n",
    "mat = np.array(my_mat)\n",
    "print(\"Data type of the modified matrix: \", mat.dtype,sep='') #dtype gives the data type contained in the array\n",
    "print(\"\\n\\nEven tuples can be converted to ndarrays...\")\n"
   ]
  },
  {
   "cell_type": "code",
   "execution_count": null,
   "metadata": {},
   "outputs": [],
   "source": [
    "b = np.array([(1.5,2,3), (4,5,6)])\n",
    "print(\"We write b = np.array([(1.5,2,3), (4,5,6)])\")\n",
    "print(\"Matrix made from tuples, not lists\\n---------------------------------------\")\n",
    "print(b)"
   ]
  },
  {
   "cell_type": "markdown",
   "metadata": {},
   "source": [
    "# arange and linspace"
   ]
  },
  {
   "cell_type": "code",
   "execution_count": null,
   "metadata": {},
   "outputs": [],
   "source": [
    "list(range(2,10,2)) #integers "
   ]
  },
  {
   "cell_type": "code",
   "execution_count": null,
   "metadata": {},
   "outputs": [],
   "source": [
    "list(range(1.5,10.5,2.5))"
   ]
  },
  {
   "cell_type": "code",
   "execution_count": null,
   "metadata": {},
   "outputs": [],
   "source": [
    "print(np.arange(0,16,2))\n",
    "print(np.arange(5,16,2.3)) # A series of numbers from low to high , it also takes the float values"
   ]
  },
  {
   "cell_type": "code",
   "execution_count": null,
   "metadata": {},
   "outputs": [],
   "source": [
    "print(np.arange(5.5,16.5,2.2))"
   ]
  },
  {
   "cell_type": "code",
   "execution_count": null,
   "metadata": {},
   "outputs": [],
   "source": [
    "list(range(5,16,2))"
   ]
  },
  {
   "cell_type": "code",
   "execution_count": null,
   "metadata": {},
   "outputs": [],
   "source": [
    "list(range(50,-1,-5))"
   ]
  },
  {
   "cell_type": "code",
   "execution_count": null,
   "metadata": {},
   "outputs": [],
   "source": [
    "np.arange(50,-1,-5.2)# Numbers spaced apart by 2"
   ]
  },
  {
   "cell_type": "code",
   "execution_count": null,
   "metadata": {},
   "outputs": [],
   "source": [
    "np.arange(0,11,2.5) # Numbers spaced apart by 2.5"
   ]
  },
  {
   "cell_type": "code",
   "execution_count": null,
   "metadata": {},
   "outputs": [],
   "source": [
    "np.arange(5.0,-1,-5)"
   ]
  },
  {
   "cell_type": "code",
   "execution_count": null,
   "metadata": {},
   "outputs": [],
   "source": [
    "list(range(1,2))"
   ]
  },
  {
   "cell_type": "code",
   "execution_count": null,
   "metadata": {},
   "outputs": [],
   "source": [
    "#printing the numbers in the given range \n",
    "(np.linspace(1,10,10))#start, stop , nums"
   ]
  },
  {
   "cell_type": "markdown",
   "metadata": {},
   "source": [
    "# Matrix creation"
   ]
  },
  {
   "cell_type": "code",
   "execution_count": null,
   "metadata": {},
   "outputs": [],
   "source": [
    "print(\"Vector of zeroes\\n---------------------\")\n",
    "print(np.zeros(10))"
   ]
  },
  {
   "cell_type": "code",
   "execution_count": null,
   "metadata": {},
   "outputs": [],
   "source": [
    "print(\"Matrix of zeroes\\n--------------------\")\n",
    "print(np.zeros((6,7))) # Notice Tuples"
   ]
  },
  {
   "cell_type": "code",
   "execution_count": null,
   "metadata": {},
   "outputs": [],
   "source": [
    "print(\"Vector of ones\\n---------------------\")\n",
    "print(np.ones(5))\n",
    "\n",
    "np.ones((5,4))"
   ]
  },
  {
   "cell_type": "code",
   "execution_count": null,
   "metadata": {},
   "outputs": [],
   "source": [
    "print(\"Matrix of ones\\n---------------------\")\n",
    "arr=np.ones([5,2,8])\n",
    "print(arr)# Note matrix dimension specified by Tuples\n",
    "print(arr.shape)\n",
    "print(arr.size)\n",
    "print(arr[0][0][0])"
   ]
  },
  {
   "cell_type": "code",
   "execution_count": null,
   "metadata": {},
   "outputs": [],
   "source": [
    "print(\"Matrix of 5's\\n---------------------\")\n",
    "print(np.ones((3,5)) + 6)"
   ]
  },
  {
   "cell_type": "code",
   "execution_count": null,
   "metadata": {},
   "outputs": [],
   "source": [
    "print(\"Empty matrix\\n-------------\\n\", np.empty((2,3)))"
   ]
  },
  {
   "cell_type": "code",
   "execution_count": null,
   "metadata": {
    "scrolled": true
   },
   "outputs": [],
   "source": [
    "mat1 = np.eye(4) \n",
    "print(\"Identity matrix of dimension\", mat1.shape)\n",
    "print(mat1)"
   ]
  },
  {
   "cell_type": "code",
   "execution_count": null,
   "metadata": {},
   "outputs": [],
   "source": [
    "np.linspace(2.0, 3.0, num=100)"
   ]
  },
  {
   "cell_type": "code",
   "execution_count": null,
   "metadata": {},
   "outputs": [],
   "source": [
    "np.linspace(2.0, 3.0, num=5, endpoint=True)"
   ]
  },
  {
   "cell_type": "code",
   "execution_count": null,
   "metadata": {},
   "outputs": [],
   "source": [
    "np.linspace(2.0, 3.0, num=9, retstep=True)"
   ]
  },
  {
   "cell_type": "code",
   "execution_count": null,
   "metadata": {},
   "outputs": [],
   "source": []
  },
  {
   "cell_type": "code",
   "execution_count": null,
   "metadata": {},
   "outputs": [],
   "source": [
    "import numpy as np\n",
    "np.logspace(2.0, 3.0, num=10,base = 10)"
   ]
  },
  {
   "cell_type": "code",
   "execution_count": null,
   "metadata": {},
   "outputs": [],
   "source": [
    "np.logspace(2.0, 3.0, num=4, endpoint=False)"
   ]
  },
  {
   "cell_type": "code",
   "execution_count": null,
   "metadata": {},
   "outputs": [],
   "source": [
    "np.logspace(2.0, 3.0, num=20, base=2.0)"
   ]
  },
  {
   "cell_type": "code",
   "execution_count": null,
   "metadata": {},
   "outputs": [],
   "source": [
    "#Extract a diagonal or construct a diagonal array."
   ]
  },
  {
   "cell_type": "code",
   "execution_count": null,
   "metadata": {},
   "outputs": [],
   "source": [
    "arr = np.arange(16)\n",
    "print(arr)\n",
    "print(arr.shape)\n",
    "print(arr.reshape(4,4))"
   ]
  },
  {
   "cell_type": "code",
   "execution_count": null,
   "metadata": {},
   "outputs": [],
   "source": []
  },
  {
   "cell_type": "code",
   "execution_count": null,
   "metadata": {},
   "outputs": [],
   "source": [
    "arr = np.array([[1,2,3,4],[5,6,7,78],[11,22,33,44],[23,32,12,45]])\n",
    "print(arr)\n",
    "np.diag(arr) #print only dialgnol elements"
   ]
  },
  {
   "cell_type": "code",
   "execution_count": null,
   "metadata": {},
   "outputs": [],
   "source": [
    "print(np.diag(arr, k=-1))\n",
    "print(np.diag(arr, k=-2))"
   ]
  },
  {
   "cell_type": "code",
   "execution_count": null,
   "metadata": {},
   "outputs": [],
   "source": [
    "print(np.diag(x, k=1))"
   ]
  },
  {
   "cell_type": "code",
   "execution_count": null,
   "metadata": {},
   "outputs": [],
   "source": [
    "print(np.diag(np.diag(x)))"
   ]
  },
  {
   "cell_type": "markdown",
   "metadata": {},
   "source": [
    "# Random number generation"
   ]
  },
  {
   "cell_type": "code",
   "execution_count": null,
   "metadata": {},
   "outputs": [],
   "source": [
    "import random as rd\n",
    "dir(rd)"
   ]
  },
  {
   "cell_type": "code",
   "execution_count": null,
   "metadata": {},
   "outputs": [],
   "source": [
    "for i in range(1,10): \n",
    "    print(rd.randint(1,100)) #int"
   ]
  },
  {
   "cell_type": "code",
   "execution_count": null,
   "metadata": {},
   "outputs": [],
   "source": [
    "rd.random() #float"
   ]
  },
  {
   "cell_type": "code",
   "execution_count": null,
   "metadata": {},
   "outputs": [],
   "source": [
    "for i in range(10): \n",
    "    print(rd.randrange(0,100,2))"
   ]
  },
  {
   "cell_type": "code",
   "execution_count": null,
   "metadata": {},
   "outputs": [],
   "source": [
    "names = ['india', 'aus', 'usa', 'ban', 'pak']\n",
    "rd.shuffle(names)\n",
    "print(names)\n",
    "\n",
    "\n",
    "print(rd.choice(names))"
   ]
  },
  {
   "cell_type": "code",
   "execution_count": null,
   "metadata": {},
   "outputs": [],
   "source": []
  },
  {
   "cell_type": "markdown",
   "metadata": {},
   "source": [
    "### numpy submodule random"
   ]
  },
  {
   "cell_type": "code",
   "execution_count": null,
   "metadata": {},
   "outputs": [],
   "source": [
    "from numpy.random import *"
   ]
  },
  {
   "cell_type": "code",
   "execution_count": 10,
   "metadata": {},
   "outputs": [
    {
     "data": {
      "text/plain": [
       "array([[0.70710201, 0.23927579, 0.79264377, 0.60773891],\n",
       "       [0.70202598, 0.29647584, 0.69529847, 0.28894141],\n",
       "       [0.74824719, 0.60454722, 0.7969921 , 0.65948637],\n",
       "       [0.50682791, 0.49158864, 0.11619557, 0.52327636],\n",
       "       [0.54497975, 0.31861526, 0.05262331, 0.11802407],\n",
       "       [0.68972269, 0.8555419 , 0.52991476, 0.87209248],\n",
       "       [0.40887838, 0.39074534, 0.13492502, 0.99629493],\n",
       "       [0.21122291, 0.94785859, 0.02528032, 0.68311236],\n",
       "       [0.55016972, 0.09888467, 0.54281597, 0.22074047],\n",
       "       [0.44215871, 0.48937928, 0.23854459, 0.90141503]])"
      ]
     },
     "execution_count": 10,
     "metadata": {},
     "output_type": "execute_result"
    }
   ],
   "source": [
    "rand(10,4)"
   ]
  },
  {
   "cell_type": "code",
   "execution_count": 11,
   "metadata": {},
   "outputs": [
    {
     "name": "stdout",
     "output_type": "stream",
     "text": [
      "Random number generation (from Uniform distribution)\n",
      "[[0.59309467 0.00439762 0.11734472]\n",
      " [0.24298045 0.77260663 0.94686777]]\n"
     ]
    }
   ],
   "source": [
    "print(\"Random number generation (from Uniform distribution)\")\n",
    "print(rand(2,3)) # 2 by 3 matrix with random numbers ranging from 0 to 1, Note no Tuple is necessary "
   ]
  },
  {
   "cell_type": "code",
   "execution_count": 12,
   "metadata": {},
   "outputs": [
    {
     "data": {
      "text/plain": [
       "array([0.63025397, 0.09257961, 0.22134942, 0.5597533 , 0.05003218,\n",
       "       0.97842184, 0.68458066, 0.27598032, 0.58319791, 0.66077201,\n",
       "       0.82331661, 0.80626472, 0.98524064, 0.85780783, 0.98359496,\n",
       "       0.67416461, 0.24645088, 0.45029981, 0.41909854, 0.81922801,\n",
       "       0.96178701, 0.06371937, 0.1952008 , 0.30846723, 0.13439958,\n",
       "       0.8094889 , 0.85833955, 0.70922258, 0.41182832, 0.79276824,\n",
       "       0.10777349, 0.75393001, 0.95388648, 0.44250179, 0.62217475,\n",
       "       0.05908343, 0.47650901, 0.71805931, 0.46387684, 0.01905977,\n",
       "       0.76623633, 0.08994489, 0.42379298, 0.73106805, 0.56265569,\n",
       "       0.11101771, 0.93391786, 0.02822404, 0.46068586, 0.66423457,\n",
       "       0.78985919, 0.74971662, 0.67049185, 0.20707735, 0.90501855,\n",
       "       0.49875122, 0.15955378, 0.25863043, 0.40265815, 0.36099361,\n",
       "       0.6673629 , 0.86230742, 0.84240217, 0.26180116, 0.67238096,\n",
       "       0.9994154 , 0.96016603, 0.08114371, 0.0995187 , 0.02720054,\n",
       "       0.97932251, 0.57440093, 0.10577555, 0.13152108, 0.69166849,\n",
       "       0.52341897, 0.22872796, 0.78601993, 0.6143007 , 0.52378276,\n",
       "       0.10626803, 0.56715793, 0.10012284, 0.92812171, 0.05972086,\n",
       "       0.09706682, 0.98431705, 0.3201435 , 0.93556432, 0.70484197,\n",
       "       0.52178315, 0.11839782, 0.27327797, 0.17549885, 0.71911981,\n",
       "       0.02391326, 0.80439557, 0.34506509, 0.76525353, 0.56070597,\n",
       "       0.20168808, 0.38010704, 0.94005303, 0.1948318 , 0.85754672,\n",
       "       0.04232448, 0.47681161, 0.88735085, 0.14927521, 0.19999488,\n",
       "       0.09465668, 0.3948332 , 0.21179089, 0.37915491, 0.29355312,\n",
       "       0.38136895, 0.3399206 , 0.37725625, 0.6217453 , 0.77499244,\n",
       "       0.95374017, 0.36882339, 0.24084613, 0.31866167, 0.65410508,\n",
       "       0.65605784, 0.4960229 , 0.70944342, 0.10837684, 0.44213704,\n",
       "       0.62349379, 0.34196348, 0.4428423 , 0.37069375, 0.66332932,\n",
       "       0.33446228, 0.2276019 , 0.87924068, 0.67947677, 0.19310943,\n",
       "       0.04907038, 0.00698648, 0.15961835, 0.92660926, 0.75393711,\n",
       "       0.52823001, 0.9837873 , 0.9807748 , 0.32512434, 0.9747578 ,\n",
       "       0.2966768 , 0.93631107, 0.12667968, 0.66422853, 0.29481415,\n",
       "       0.83607434, 0.65537669, 0.91621336, 0.69439388, 0.54771908,\n",
       "       0.80610542, 0.76235183, 0.00812073, 0.8115516 , 0.66807325,\n",
       "       0.01361553, 0.92884989, 0.43343886, 0.41269333, 0.73617679,\n",
       "       0.77938343, 0.74861577, 0.19614832, 0.97351319, 0.089881  ,\n",
       "       0.18673175, 0.67347465, 0.05900926, 0.17047084, 0.6718649 ,\n",
       "       0.34886757, 0.51113132, 0.44203477, 0.91493849, 0.30505166,\n",
       "       0.67763448, 0.57928464, 0.26139051, 0.1390647 , 0.35040039,\n",
       "       0.1137697 , 0.84795938, 0.81059954, 0.68611922, 0.3878143 ,\n",
       "       0.04255393, 0.91584385, 0.11596678, 0.19854205, 0.82874185,\n",
       "       0.4660331 , 0.61223233, 0.01571831, 0.15189894, 0.48281484,\n",
       "       0.27330846, 0.50374407, 0.5706336 , 0.675467  , 0.60091279,\n",
       "       0.45201715, 0.77223377, 0.91554939, 0.26269791, 0.31879359,\n",
       "       0.95276061, 0.66350524, 0.51401791, 0.99895815, 0.93237178,\n",
       "       0.94746786, 0.77858322, 0.53399419, 0.54959962, 0.07567382,\n",
       "       0.81601157, 0.95303814, 0.14235889, 0.36909173, 0.82046263,\n",
       "       0.01795372, 0.69305863, 0.5655135 , 0.95528229, 0.94656167,\n",
       "       0.2092411 , 0.14675504, 0.91508146, 0.92916182, 0.1059665 ,\n",
       "       0.10432854, 0.06805323, 0.92924855, 0.92585437, 0.02982261,\n",
       "       0.83717861, 0.14441995, 0.06734722, 0.73599378, 0.07407912,\n",
       "       0.90851222, 0.31956805, 0.72769631, 0.22678198, 0.87933188,\n",
       "       0.70002855, 0.06930346, 0.4867224 , 0.91962675, 0.2828819 ,\n",
       "       0.79627519, 0.33296163, 0.63868026, 0.52106418, 0.23857758,\n",
       "       0.88604814, 0.1242647 , 0.35168103, 0.4050987 , 0.97674544,\n",
       "       0.04288723, 0.4004049 , 0.64644581, 0.61213643, 0.05390986,\n",
       "       0.75381623, 0.17129903, 0.82793205, 0.61058389, 0.13770799,\n",
       "       0.65832212, 0.60597854, 0.4351469 , 0.51512956, 0.89331578,\n",
       "       0.55944468, 0.64605678, 0.41019871, 0.27296234, 0.57184104,\n",
       "       0.39724941, 0.62728877, 0.8179217 , 0.5414729 , 0.21148444,\n",
       "       0.5329435 , 0.09298845, 0.12722641, 0.66291496, 0.05123421,\n",
       "       0.50031577, 0.55169307, 0.18117348, 0.66399972, 0.04162205,\n",
       "       0.99465986, 0.80961683, 0.00301647, 0.54702868, 0.32407473,\n",
       "       0.08568252, 0.02611636, 0.81975967, 0.57553808, 0.70878508,\n",
       "       0.13724275, 0.23140532, 0.08161408, 0.68037322, 0.57461564,\n",
       "       0.77777377, 0.40493667, 0.26434866, 0.28660624, 0.8394428 ,\n",
       "       0.46431157, 0.36694907, 0.75148205, 0.28030454, 0.75004915,\n",
       "       0.72167963, 0.28832401, 0.97582712, 0.62582659, 0.18898949,\n",
       "       0.58246774, 0.06085274, 0.09541154, 0.05421915, 0.3744473 ,\n",
       "       0.67759899, 0.6711399 , 0.89515731, 0.46629921, 0.57894369,\n",
       "       0.60591604, 0.04485964, 0.63740527, 0.51655485, 0.95652541,\n",
       "       0.86903529, 0.17300406, 0.41363725, 0.48979554, 0.94094663,\n",
       "       0.86128298, 0.21688124, 0.34251305, 0.03411544, 0.52223165,\n",
       "       0.02359461, 0.37241684, 0.50460991, 0.27928779, 0.27978818,\n",
       "       0.81546331, 0.15022075, 0.04660942, 0.94108524, 0.6079553 ,\n",
       "       0.5092164 , 0.79323831, 0.75677407, 0.33334455, 0.45030367,\n",
       "       0.24016132, 0.39810395, 0.7112655 , 0.96395462, 0.38469506,\n",
       "       0.96795051, 0.64028286, 0.74905511, 0.84794396, 0.82140216,\n",
       "       0.30667853, 0.66343402, 0.03433975, 0.61960125, 0.84626693,\n",
       "       0.06617901, 0.73872687, 0.04337308, 0.25154789, 0.55045382,\n",
       "       0.42761041, 0.54918952, 0.93472471, 0.7093269 , 0.84115776,\n",
       "       0.23308661, 0.53600733, 0.69739077, 0.01523384, 0.986404  ,\n",
       "       0.20954674, 0.79079647, 0.19846475, 0.15122875, 0.258396  ,\n",
       "       0.79930564, 0.27086491, 0.52471079, 0.43196536, 0.83588608,\n",
       "       0.11110598, 0.42099462, 0.87864797, 0.96476077, 0.20353016,\n",
       "       0.3647779 , 0.50232673, 0.19739313, 0.99056719, 0.30196685,\n",
       "       0.22647338, 0.05547811, 0.91997239, 0.83745817, 0.75024574,\n",
       "       0.22331634, 0.26068617, 0.78311315, 0.80470094, 0.60733563,\n",
       "       0.3622466 , 0.88452323, 0.27405172, 0.08267112, 0.1515157 ,\n",
       "       0.79053318, 0.67110162, 0.60144224, 0.85861798, 0.4473761 ,\n",
       "       0.02985624, 0.83926728, 0.48418474, 0.30067577, 0.32335243,\n",
       "       0.74484092, 0.06897346, 0.48367935, 0.51533122, 0.85412474,\n",
       "       0.9316299 , 0.8081931 , 0.69540757, 0.04201341, 0.57136035,\n",
       "       0.50769444, 0.1595767 , 0.66139382, 0.98807973, 0.44183744,\n",
       "       0.31803969, 0.91055339, 0.26387557, 0.69454413, 0.87678387,\n",
       "       0.89452837, 0.34686882, 0.08154763, 0.59466127, 0.80152072,\n",
       "       0.56532747, 0.72600499, 0.66566907, 0.93364952, 0.88799289,\n",
       "       0.03255249, 0.29942491, 0.72624065, 0.99379528, 0.64608849,\n",
       "       0.47788289, 0.82966555, 0.96100545, 0.29535135, 0.12581193,\n",
       "       0.56385435, 0.95563423, 0.578995  , 0.3268885 , 0.51926301,\n",
       "       0.83166667, 0.89114309, 0.97125718, 0.73136086, 0.76302289,\n",
       "       0.01134602, 0.54001183, 0.08542061, 0.56096429, 0.04245616,\n",
       "       0.67467675, 0.12588295, 0.84812902, 0.83762414, 0.99077602,\n",
       "       0.16748284, 0.2892818 , 0.43634431, 0.80989524, 0.72825701,\n",
       "       0.04520231, 0.43974251, 0.84578005, 0.4552184 , 0.75639327,\n",
       "       0.49334876, 0.0511483 , 0.80097084, 0.41028543, 0.32113688,\n",
       "       0.92834585, 0.0772019 , 0.25620991, 0.56758349, 0.03031334,\n",
       "       0.13032408, 0.20782613, 0.63007143, 0.93119083, 0.7009809 ,\n",
       "       0.31917429, 0.19199324, 0.81252152, 0.00823756, 0.72865023,\n",
       "       0.76072238, 0.45545309, 0.94595697, 0.64188348, 0.54916591,\n",
       "       0.44295701, 0.46131417, 0.223247  , 0.57178475, 0.42763267,\n",
       "       0.65281864, 0.44087558, 0.08527192, 0.3455436 , 0.79358862,\n",
       "       0.32100771, 0.83393405, 0.89295156, 0.04594525, 0.71283617,\n",
       "       0.0761628 , 0.30069124, 0.70836486, 0.00995703, 0.1842104 ,\n",
       "       0.22593685, 0.59059479, 0.36885393, 0.1811846 , 0.51962666,\n",
       "       0.12103065, 0.27119317, 0.48387732, 0.39551888, 0.20925319,\n",
       "       0.24012038, 0.29952478, 0.25874892, 0.27707192, 0.23548674,\n",
       "       0.4703616 , 0.97428277, 0.10437129, 0.03370842, 0.4774665 ,\n",
       "       0.48640082, 0.33963731, 0.60977225, 0.88229392, 0.40159905,\n",
       "       0.92040072, 0.66159021, 0.37698006, 0.74763243, 0.09204333,\n",
       "       0.68549752, 0.51098816, 0.50249819, 0.80888132, 0.07662772,\n",
       "       0.17985572, 0.33236498, 0.40697657, 0.33288054, 0.87945451,\n",
       "       0.95641415, 0.71408349, 0.39411687, 0.44168779, 0.86194493,\n",
       "       0.23714074, 0.98187778, 0.56901652, 0.82114417, 0.48673375,\n",
       "       0.27717678, 0.03497476, 0.36333939, 0.88096565, 0.19647921,\n",
       "       0.83042385, 0.3564876 , 0.33428978, 0.7585675 , 0.35415584,\n",
       "       0.21954082, 0.6646229 , 0.67397825, 0.92197643, 0.85208176,\n",
       "       0.37351825, 0.54558924, 0.94573103, 0.78204119, 0.62295826,\n",
       "       0.96290554, 0.97781831, 0.76507928, 0.38598514, 0.91833756,\n",
       "       0.16231382, 0.26321416, 0.24390506, 0.51339509, 0.7511974 ,\n",
       "       0.05611874, 0.12217684, 0.77887946, 0.52379348, 0.86997829,\n",
       "       0.39432941, 0.88445243, 0.4527367 , 0.26371778, 0.7785828 ,\n",
       "       0.2964357 , 0.74890365, 0.23360442, 0.20158397, 0.73410512,\n",
       "       0.41987802, 0.81917066, 0.32571994, 0.25810236, 0.24101989,\n",
       "       0.85520386, 0.30177501, 0.94171743, 0.02040926, 0.87369543,\n",
       "       0.51003719, 0.07550204, 0.04808732, 0.19071708, 0.46367351,\n",
       "       0.20251175, 0.49811418, 0.33711014, 0.32946298, 0.27029524,\n",
       "       0.73042472, 0.39520632, 0.25896702, 0.06855577, 0.58401759,\n",
       "       0.40885291, 0.2643361 , 0.94976212, 0.35374006, 0.33524976,\n",
       "       0.77981021, 0.56785918, 0.32335541, 0.90792725, 0.32473232,\n",
       "       0.15948672, 0.61807913, 0.78152899, 0.20154358, 0.53130136,\n",
       "       0.59470097, 0.97944264, 0.69620502, 0.96688368, 0.36200599,\n",
       "       0.35565131, 0.01611683, 0.34250619, 0.97867894, 0.17418793,\n",
       "       0.80128808, 0.74864702, 0.52271441, 0.80809206, 0.72247266,\n",
       "       0.70670163, 0.00938369, 0.47001247, 0.92709976, 0.8919323 ,\n",
       "       0.96387219, 0.96214334, 0.81419792, 0.05187814, 0.75457296,\n",
       "       0.74720698, 0.65482204, 0.0220308 , 0.1393651 , 0.08257981,\n",
       "       0.57070271, 0.17534407, 0.20403304, 0.90068789, 0.87161329,\n",
       "       0.6783327 , 0.3723451 , 0.94472673, 0.54968481, 0.42408848,\n",
       "       0.58878298, 0.73006429, 0.30885504, 0.54229148, 0.15315996,\n",
       "       0.80729456, 0.78952469, 0.37855287, 0.88808436, 0.39565402,\n",
       "       0.17719504, 0.15521225, 0.549148  , 0.63732795, 0.03055344,\n",
       "       0.31536627, 0.54231811, 0.55410353, 0.00139654, 0.19426262,\n",
       "       0.17953653, 0.8733098 , 0.09044371, 0.47492634, 0.87646594,\n",
       "       0.97927193, 0.16496579, 0.18428608, 0.86193675, 0.35022023,\n",
       "       0.1009765 , 0.46910245, 0.58389174, 0.6430137 , 0.9887437 ,\n",
       "       0.90825519, 0.54057338, 0.45681551, 0.30577956, 0.0768369 ,\n",
       "       0.77181343, 0.19190296, 0.29930137, 0.53473728, 0.0755578 ,\n",
       "       0.16606304, 0.55633665, 0.18053978, 0.90440717, 0.9468025 ,\n",
       "       0.74330656, 0.92165531, 0.99180002, 0.99416383, 0.15204611,\n",
       "       0.20957824, 0.94565339, 0.8104733 , 0.9641484 , 0.76932405,\n",
       "       0.05125376, 0.09231863, 0.17886385, 0.51786212, 0.59161498,\n",
       "       0.54797767, 0.00262453, 0.15618084, 0.79390415, 0.83155973,\n",
       "       0.72170943, 0.23656627, 0.76541199, 0.09269553, 0.12902254,\n",
       "       0.58495333, 0.06823006, 0.1001509 , 0.31655883, 0.46283978,\n",
       "       0.43316328, 0.82961889, 0.23223798, 0.52851853, 0.87610596,\n",
       "       0.04580619, 0.62904411, 0.29876172, 0.18937953, 0.02664713,\n",
       "       0.06526783, 0.12628943, 0.94371838, 0.12131635, 0.01575208,\n",
       "       0.53498938, 0.08375998, 0.33799004, 0.85212829, 0.71385352,\n",
       "       0.50220388, 0.68705875, 0.9232799 , 0.10909412, 0.21762542,\n",
       "       0.59995351, 0.41392319, 0.83879851, 0.58829363, 0.70223226,\n",
       "       0.5308121 , 0.90783649, 0.72345839, 0.84262164, 0.03602962,\n",
       "       0.44021301, 0.67761761, 0.8381868 , 0.87800324, 0.40334999,\n",
       "       0.69773459, 0.08724969, 0.64753412, 0.20703468, 0.40624943,\n",
       "       0.84159149, 0.26071411, 0.24922046, 0.60585598, 0.37593777,\n",
       "       0.2234116 , 0.12547688, 0.36515745, 0.91431206, 0.07930893,\n",
       "       0.78367805, 0.01399274, 0.02441664, 0.00710369, 0.36993786,\n",
       "       0.99094448, 0.24936658, 0.78132581, 0.84516199, 0.76512793,\n",
       "       0.24803423, 0.36387175, 0.16718914, 0.17964683, 0.60050031,\n",
       "       0.12471835, 0.38222921, 0.20080943, 0.53530334, 0.25558413,\n",
       "       0.02448836, 0.39777848, 0.52426918, 0.85665453, 0.0975135 ,\n",
       "       0.64251557, 0.08052181, 0.59611546, 0.18388092, 0.29149249,\n",
       "       0.51720765, 0.98145049, 0.89882318, 0.5705293 , 0.61379094,\n",
       "       0.14541114, 0.24208735, 0.72856424, 0.03824769, 0.42697611,\n",
       "       0.30925621, 0.00194643, 0.61351062, 0.29106107, 0.22152156,\n",
       "       0.3189799 , 0.93525309, 0.15500854, 0.80644338, 0.18051338,\n",
       "       0.49945081, 0.35620241, 0.04784477, 0.40023651, 0.82899352,\n",
       "       0.77105119, 0.56382779, 0.43233221, 0.03456738, 0.40795924,\n",
       "       0.16606081, 0.85000099, 0.5792314 , 0.08304964, 0.18193787,\n",
       "       0.36324734, 0.97915717, 0.69633413, 0.51722745, 0.73558299,\n",
       "       0.55267163, 0.2940186 , 0.27932535, 0.56531551, 0.31096881,\n",
       "       0.38617253, 0.71599182, 0.63310875, 0.26999971, 0.10593336,\n",
       "       0.32988433, 0.77677944, 0.23238035, 0.37580791, 0.35315069,\n",
       "       0.5957048 , 0.41469192, 0.88955729, 0.11477851, 0.186982  ,\n",
       "       0.59531335, 0.20351122, 0.50034124, 0.80137549, 0.34748361,\n",
       "       0.89869565, 0.49955852, 0.40440917, 0.2745763 , 0.73879292,\n",
       "       0.57919205, 0.73070813, 0.66717757, 0.73698811, 0.90634246,\n",
       "       0.696485  , 0.9868943 , 0.95046662, 0.54028777, 0.6299798 ,\n",
       "       0.79498989, 0.93606192, 0.84513804, 0.33956309, 0.89638681,\n",
       "       0.48434274, 0.93514517, 0.00693894, 0.97534691, 0.75907905,\n",
       "       0.16902097, 0.7364081 , 0.15259184, 0.08929226, 0.14994062])"
      ]
     },
     "execution_count": 12,
     "metadata": {},
     "output_type": "execute_result"
    }
   ],
   "source": [
    "rand(1000)"
   ]
  },
  {
   "cell_type": "code",
   "execution_count": null,
   "metadata": {},
   "outputs": [],
   "source": [
    "!pip install pandas"
   ]
  },
  {
   "cell_type": "code",
   "execution_count": 13,
   "metadata": {},
   "outputs": [],
   "source": [
    "import pandas as pd\n",
    "import numpy as np\n",
    "\n",
    "df = pd.DataFrame(np.random.rand(10000)) #uniform distribution\n"
   ]
  },
  {
   "cell_type": "code",
   "execution_count": 14,
   "metadata": {},
   "outputs": [
    {
     "data": {
      "text/html": [
       "<div>\n",
       "<style scoped>\n",
       "    .dataframe tbody tr th:only-of-type {\n",
       "        vertical-align: middle;\n",
       "    }\n",
       "\n",
       "    .dataframe tbody tr th {\n",
       "        vertical-align: top;\n",
       "    }\n",
       "\n",
       "    .dataframe thead th {\n",
       "        text-align: right;\n",
       "    }\n",
       "</style>\n",
       "<table border=\"1\" class=\"dataframe\">\n",
       "  <thead>\n",
       "    <tr style=\"text-align: right;\">\n",
       "      <th></th>\n",
       "      <th>0</th>\n",
       "    </tr>\n",
       "  </thead>\n",
       "  <tbody>\n",
       "    <tr>\n",
       "      <th>0</th>\n",
       "      <td>0.107860</td>\n",
       "    </tr>\n",
       "    <tr>\n",
       "      <th>1</th>\n",
       "      <td>0.597408</td>\n",
       "    </tr>\n",
       "    <tr>\n",
       "      <th>2</th>\n",
       "      <td>0.336614</td>\n",
       "    </tr>\n",
       "    <tr>\n",
       "      <th>3</th>\n",
       "      <td>0.957535</td>\n",
       "    </tr>\n",
       "    <tr>\n",
       "      <th>4</th>\n",
       "      <td>0.875649</td>\n",
       "    </tr>\n",
       "    <tr>\n",
       "      <th>...</th>\n",
       "      <td>...</td>\n",
       "    </tr>\n",
       "    <tr>\n",
       "      <th>9995</th>\n",
       "      <td>0.921444</td>\n",
       "    </tr>\n",
       "    <tr>\n",
       "      <th>9996</th>\n",
       "      <td>0.935964</td>\n",
       "    </tr>\n",
       "    <tr>\n",
       "      <th>9997</th>\n",
       "      <td>0.080705</td>\n",
       "    </tr>\n",
       "    <tr>\n",
       "      <th>9998</th>\n",
       "      <td>0.462816</td>\n",
       "    </tr>\n",
       "    <tr>\n",
       "      <th>9999</th>\n",
       "      <td>0.053855</td>\n",
       "    </tr>\n",
       "  </tbody>\n",
       "</table>\n",
       "<p>10000 rows × 1 columns</p>\n",
       "</div>"
      ],
      "text/plain": [
       "             0\n",
       "0     0.107860\n",
       "1     0.597408\n",
       "2     0.336614\n",
       "3     0.957535\n",
       "4     0.875649\n",
       "...        ...\n",
       "9995  0.921444\n",
       "9996  0.935964\n",
       "9997  0.080705\n",
       "9998  0.462816\n",
       "9999  0.053855\n",
       "\n",
       "[10000 rows x 1 columns]"
      ]
     },
     "execution_count": 14,
     "metadata": {},
     "output_type": "execute_result"
    }
   ],
   "source": [
    "df"
   ]
  },
  {
   "cell_type": "code",
   "execution_count": null,
   "metadata": {},
   "outputs": [],
   "source": [
    "type(df)"
   ]
  },
  {
   "cell_type": "code",
   "execution_count": 15,
   "metadata": {},
   "outputs": [
    {
     "data": {
      "text/plain": [
       "<Axes: >"
      ]
     },
     "execution_count": 15,
     "metadata": {},
     "output_type": "execute_result"
    },
    {
     "data": {
      "image/png": "[encoded data removed]",
      "text/plain": [
       "<Figure size 640x480 with 1 Axes>"
      ]
     },
     "metadata": {},
     "output_type": "display_data"
    }
   ],
   "source": [
    "df.plot()"
   ]
  },
  {
   "cell_type": "code",
   "execution_count": 16,
   "metadata": {},
   "outputs": [
    {
     "name": "stdout",
     "output_type": "stream",
     "text": [
      "Numbers from Normal distribution with zero mean and standard deviation 1 i.e. standard normal\n",
      "[-2.31003961  0.11980385  2.00036215  0.66970779]\n"
     ]
    }
   ],
   "source": [
    "print(\"Numbers from Normal distribution with zero mean and standard deviation 1 i.e. standard normal\")\n",
    "print(np.random.randn(4))"
   ]
  },
  {
   "cell_type": "code",
   "execution_count": 17,
   "metadata": {},
   "outputs": [
    {
     "data": {
      "text/plain": [
       "array([[ 1.96704718, -0.81948557],\n",
       "       [-0.69433438, -0.73329418],\n",
       "       [ 0.92678973, -0.60993278],\n",
       "       [ 0.01492606, -0.22528928],\n",
       "       [-2.16491867, -0.2201767 ],\n",
       "       [-0.71680665, -0.0197593 ],\n",
       "       [-0.43553293,  0.83164567],\n",
       "       [ 0.89289415, -0.23073416],\n",
       "       [-0.17190104,  1.37513427],\n",
       "       [ 0.55020719,  1.48703059]])"
      ]
     },
     "execution_count": 17,
     "metadata": {},
     "output_type": "execute_result"
    }
   ],
   "source": [
    "np.random.randn(10,2)"
   ]
  },
  {
   "cell_type": "code",
   "execution_count": 18,
   "metadata": {},
   "outputs": [
    {
     "data": {
      "text/plain": [
       "<Axes: >"
      ]
     },
     "execution_count": 18,
     "metadata": {},
     "output_type": "execute_result"
    },
    {
     "data": {
      "image/png": "[encoded data removed]",
      "text/plain": [
       "<Figure size 640x480 with 1 Axes>"
      ]
     },
     "metadata": {},
     "output_type": "display_data"
    }
   ],
   "source": [
    "import pandas as pd\n",
    "\n",
    "df = pd.DataFrame(np.random.randn(10000))\n",
    "df.plot()"
   ]
  },
  {
   "cell_type": "code",
   "execution_count": 19,
   "metadata": {},
   "outputs": [
    {
     "name": "stdout",
     "output_type": "stream",
     "text": [
      "Random integer vector: 1\n",
      "\n",
      "Random integer matrix\n"
     ]
    }
   ],
   "source": [
    "print(\"Random integer vector:\",np.random.randint(1,10)) #randint (low, high, # of samples to be drawn)\n",
    "print (\"\\nRandom integer matrix\")\n"
   ]
  },
  {
   "cell_type": "code",
   "execution_count": 20,
   "metadata": {
    "scrolled": true
   },
   "outputs": [
    {
     "name": "stdout",
     "output_type": "stream",
     "text": [
      "[[59 30 59 29]\n",
      " [37 23 76 69]\n",
      " [85 26 57 55]\n",
      " [59 26 33  6]]\n",
      "\n",
      "20 samples drawn from a dice throw: [6 2 2 1 3 3 2 4 2 1 1 5 2 3 1 5 1 2 6 6]\n"
     ]
    }
   ],
   "source": [
    "print(np.random.randint(1,100,(4,4))) #randint (low, high, # of samples to be drawn in a tuple to form a matrix)\n",
    "print(\"\\n20 samples drawn from a dice throw:\",np.random.randint(1,7,20)) # 20 samples drawn from a dice throw"
   ]
  },
  {
   "cell_type": "markdown",
   "metadata": {},
   "source": [
    "# Reshaping"
   ]
  },
  {
   "cell_type": "code",
   "execution_count": 25,
   "metadata": {},
   "outputs": [
    {
     "name": "stdout",
     "output_type": "stream",
     "text": [
      "[48 40  8 13  5 24 19  1 22  5 47 31 48 49 31 20 27 19 21 48 39 49 16 25\n",
      " 23  7  8  2 49  6]\n",
      "(30,)\n",
      "[[48 40  8 13  5 24]\n",
      " [19  1 22  5 47 31]\n",
      " [48 49 31 20 27 19]\n",
      " [21 48 39 49 16 25]\n",
      " [23  7  8  2 49  6]]\n",
      "(5, 6)\n",
      "[[[48 40  8]\n",
      "  [13  5 24]\n",
      "  [19  1 22]\n",
      "  [ 5 47 31]\n",
      "  [48 49 31]]\n",
      "\n",
      " [[20 27 19]\n",
      "  [21 48 39]\n",
      "  [49 16 25]\n",
      "  [23  7  8]\n",
      "  [ 2 49  6]]]\n",
      "(2, 5, 3)\n",
      "[[48 40]\n",
      " [ 8 13]\n",
      " [ 5 24]\n",
      " [19  1]\n",
      " [22  5]\n",
      " [47 31]\n",
      " [48 49]\n",
      " [31 20]\n",
      " [27 19]\n",
      " [21 48]\n",
      " [39 49]\n",
      " [16 25]\n",
      " [23  7]\n",
      " [ 8  2]\n",
      " [49  6]]\n",
      "(15, 2)\n"
     ]
    }
   ],
   "source": [
    "from numpy.random import randint as ri\n",
    "a = ri(1,50,30)\n",
    "print(a)\n",
    "print(a.shape)\n",
    "\n",
    "b = a.reshape(5,6)\n",
    "print(b)\n",
    "print(b.shape)\n",
    "\n",
    "\n",
    "b1 = a.reshape(2,5,3)\n",
    "print(b1)\n",
    "print(b1.shape)\n",
    "\n",
    "c = a.reshape(15,-1)\n",
    "print(c)\n",
    "print(c.shape)"
   ]
  },
  {
   "cell_type": "code",
   "execution_count": 26,
   "metadata": {},
   "outputs": [
    {
     "name": "stdout",
     "output_type": "stream",
     "text": [
      "Shape of a: (30,)\n",
      "Shape of b: (5, 6)\n",
      "Shape of c: (15, 2)\n"
     ]
    }
   ],
   "source": [
    "print (\"Shape of a:\", a.shape)\n",
    "print (\"Shape of b:\", b.shape)\n",
    "print (\"Shape of c:\", c.shape)\n"
   ]
  },
  {
   "cell_type": "code",
   "execution_count": 27,
   "metadata": {},
   "outputs": [
    {
     "name": "stdout",
     "output_type": "stream",
     "text": [
      "\n",
      "a looks like\n",
      " -------------------- \n",
      " [48 40  8 13  5 24 19  1 22  5 47 31 48 49 31 20 27 19 21 48 39 49 16 25\n",
      " 23  7  8  2 49  6] \n",
      " --------------------\n",
      "\n",
      "b looks like\n",
      " -------------------- \n",
      " [[48 40  8 13  5 24]\n",
      " [19  1 22  5 47 31]\n",
      " [48 49 31 20 27 19]\n",
      " [21 48 39 49 16 25]\n",
      " [23  7  8  2 49  6]] \n",
      " --------------------\n",
      "\n",
      "c looks like\n",
      " -------------------- \n",
      " [[48 40]\n",
      " [ 8 13]\n",
      " [ 5 24]\n",
      " [19  1]\n",
      " [22  5]\n",
      " [47 31]\n",
      " [48 49]\n",
      " [31 20]\n",
      " [27 19]\n",
      " [21 48]\n",
      " [39 49]\n",
      " [16 25]\n",
      " [23  7]\n",
      " [ 8  2]\n",
      " [49  6]] \n",
      " --------------------\n"
     ]
    }
   ],
   "source": [
    "print(\"\\na looks like\\n\",'-'*20,\"\\n\",a,\"\\n\",'-'*20)\n",
    "print(\"\\nb looks like\\n\",'-'*20,\"\\n\",b,\"\\n\",'-'*20)\n",
    "print(\"\\nc looks like\\n\",'-'*20,\"\\n\",c,\"\\n\",'-'*20)\n"
   ]
  },
  {
   "cell_type": "code",
   "execution_count": 29,
   "metadata": {},
   "outputs": [],
   "source": [
    "from numpy.random import randint as ri"
   ]
  },
  {
   "cell_type": "code",
   "execution_count": 30,
   "metadata": {},
   "outputs": [],
   "source": [
    "ri(1,10,(2,2))\n",
    "np.random.seed(123)"
   ]
  },
  {
   "cell_type": "code",
   "execution_count": 32,
   "metadata": {},
   "outputs": [
    {
     "name": "stdout",
     "output_type": "stream",
     "text": [
      "\n",
      "Vector of random integers\n",
      " -------------------------------------------------- \n",
      " [92 30 32 68 40 69 59 38 19 75]\n",
      "\n",
      "Here is the sorted vector\n",
      " -------------------------------------------------- \n",
      " [19 30 32 38 40 59 68 69 75 92]\n"
     ]
    }
   ],
   "source": [
    "A = ri(1,100,10)# Vector of random interegrs\n",
    "np.random.seed(90)\n",
    "\n",
    "print(\"\\nVector of random integers\\n\",'-'*50,\"\\n\",A)\n",
    "print(\"\\nHere is the sorted vector\\n\",'-'*50,\"\\n\",np.sort(A))\n"
   ]
  },
  {
   "cell_type": "code",
   "execution_count": 33,
   "metadata": {},
   "outputs": [
    {
     "name": "stdout",
     "output_type": "stream",
     "text": [
      "\n",
      "Here is the sorted matrix along each column\n",
      " -------------------------------------------------- \n",
      " [[30 32 40 68 92]\n",
      " [19 38 59 69 75]\n",
      " [19 31 52 81 97]\n",
      " [ 1  1 10 78 83]\n",
      " [ 5 11 13 27 96]]\n"
     ]
    },
    {
     "data": {
      "text/plain": [
       "array([[92, 30, 32, 68, 40],\n",
       "       [69, 59, 38, 19, 75],\n",
       "       [97, 52, 31, 81, 19],\n",
       "       [78, 83, 10,  1,  1],\n",
       "       [11, 96, 13,  5, 27]])"
      ]
     },
     "execution_count": 33,
     "metadata": {},
     "output_type": "execute_result"
    }
   ],
   "source": [
    "M = ri(1,100,25).reshape(5,5) # Matrix of random interegrs\n",
    "#print(\"\\nHere is the sorted matrix along each row\\n\",'-'*50,\"\\n\",np.sort(M, kind='mergesort')) # Default axis =1\n",
    "print(\"\\nHere is the sorted matrix along each column\\n\",'-'*50,\"\\n\",np.sort(M, axis=1, kind='mergesort'))\n",
    "M"
   ]
  },
  {
   "cell_type": "code",
   "execution_count": 45,
   "metadata": {},
   "outputs": [
    {
     "data": {
      "text/plain": [
       "array([[48, 40,  8, 13,  5, 24],\n",
       "       [19,  1, 22,  5, 47, 31],\n",
       "       [48, 49, 31, 20, 27, 19],\n",
       "       [21, 48, 39, 49, 16, 25],\n",
       "       [23,  7,  8,  2, 49,  6]])"
      ]
     },
     "execution_count": 45,
     "metadata": {},
     "output_type": "execute_result"
    }
   ],
   "source": [
    "b"
   ]
  },
  {
   "cell_type": "code",
   "execution_count": 46,
   "metadata": {},
   "outputs": [
    {
     "name": "stdout",
     "output_type": "stream",
     "text": [
      "Max of a: 97\n",
      "Max of b: 49\n"
     ]
    },
    {
     "data": {
      "text/plain": [
       "array([[48, 40,  8, 13,  5, 24],\n",
       "       [19,  1, 22,  5, 47, 31],\n",
       "       [48, 49, 31, 20, 27, 19],\n",
       "       [21, 48, 39, 49, 16, 25],\n",
       "       [23,  7,  8,  2, 49,  6]])"
      ]
     },
     "execution_count": 46,
     "metadata": {},
     "output_type": "execute_result"
    }
   ],
   "source": [
    "print(\"Max of a:\", M.max())\n",
    "print(\"Max of b:\", b.max())\n",
    "b"
   ]
  },
  {
   "cell_type": "code",
   "execution_count": 37,
   "metadata": {},
   "outputs": [
    {
     "data": {
      "text/plain": [
       "array([[92, 30, 32, 68, 40],\n",
       "       [69, 59, 38, 19, 75],\n",
       "       [97, 52, 31, 81, 19],\n",
       "       [78, 83, 10,  1,  1],\n",
       "       [11, 96, 13,  5, 27]])"
      ]
     },
     "execution_count": 37,
     "metadata": {},
     "output_type": "execute_result"
    }
   ],
   "source": [
    "M"
   ]
  },
  {
   "cell_type": "code",
   "execution_count": 49,
   "metadata": {},
   "outputs": [
    {
     "data": {
      "text/plain": [
       "array([[92, 30, 32, 68, 40],\n",
       "       [69, 59, 38, 19, 75],\n",
       "       [97, 52, 31, 81, 19],\n",
       "       [78, 83, 10,  1,  1],\n",
       "       [11, 96, 13,  5, 27]])"
      ]
     },
     "execution_count": 49,
     "metadata": {},
     "output_type": "execute_result"
    }
   ],
   "source": [
    "M"
   ]
  },
  {
   "cell_type": "code",
   "execution_count": 47,
   "metadata": {},
   "outputs": [
    {
     "data": {
      "text/plain": [
       "array([48, 40,  8, 13,  5, 24, 19,  1, 22,  5, 47, 31, 48, 49, 31, 20, 27,\n",
       "       19, 21, 48, 39, 49, 16, 25, 23,  7,  8,  2, 49,  6])"
      ]
     },
     "execution_count": 47,
     "metadata": {},
     "output_type": "execute_result"
    }
   ],
   "source": [
    "a"
   ]
  },
  {
   "cell_type": "code",
   "execution_count": 48,
   "metadata": {},
   "outputs": [
    {
     "data": {
      "text/plain": [
       "array([[48, 40,  8, 13,  5, 24],\n",
       "       [19,  1, 22,  5, 47, 31],\n",
       "       [48, 49, 31, 20, 27, 19],\n",
       "       [21, 48, 39, 49, 16, 25],\n",
       "       [23,  7,  8,  2, 49,  6]])"
      ]
     },
     "execution_count": 48,
     "metadata": {},
     "output_type": "execute_result"
    }
   ],
   "source": [
    "b"
   ]
  },
  {
   "cell_type": "code",
   "execution_count": 50,
   "metadata": {},
   "outputs": [
    {
     "name": "stdout",
     "output_type": "stream",
     "text": [
      "Max of a location: [2 4 1 2 1]\n",
      "Max of b location: 13\n"
     ]
    }
   ],
   "source": [
    "print(\"Max of a location:\", M.argmax(axis= 0))#axis = 0  row wise | axis = 1 column wise\n",
    "print(\"Max of b location:\", b.argmax())"
   ]
  },
  {
   "cell_type": "markdown",
   "metadata": {},
   "source": [
    "# Indexing and slicing"
   ]
  },
  {
   "cell_type": "code",
   "execution_count": 51,
   "metadata": {},
   "outputs": [
    {
     "name": "stdout",
     "output_type": "stream",
     "text": [
      "203\n",
      "239\n"
     ]
    }
   ],
   "source": [
    "some_list = [\"india\",True,10,203, 2.2, \"aus\", \"worldcupwinner\", 239]\n",
    "some_list[0]\n",
    "print(some_list[3])\n",
    "print(some_list[-1])"
   ]
  },
  {
   "cell_type": "code",
   "execution_count": 53,
   "metadata": {},
   "outputs": [
    {
     "name": "stdout",
     "output_type": "stream",
     "text": [
      "[True, 203, 'aus', 239]\n"
     ]
    }
   ],
   "source": [
    "print(some_list[1:1000000:2]) #[ start,stop,step]"
   ]
  },
  {
   "cell_type": "code",
   "execution_count": null,
   "metadata": {},
   "outputs": [],
   "source": []
  },
  {
   "cell_type": "code",
   "execution_count": null,
   "metadata": {},
   "outputs": [],
   "source": []
  },
  {
   "cell_type": "code",
   "execution_count": 54,
   "metadata": {},
   "outputs": [
    {
     "name": "stdout",
     "output_type": "stream",
     "text": [
      "Array: [ 0  1  2  3  4  5  6  7  8  9 10]\n"
     ]
    }
   ],
   "source": [
    "import numpy as np\n",
    "arr = np.arange(0,11)\n",
    "print(\"Array:\",arr)\n"
   ]
  },
  {
   "cell_type": "code",
   "execution_count": 55,
   "metadata": {},
   "outputs": [
    {
     "name": "stdout",
     "output_type": "stream",
     "text": [
      "Element at 7th index is: 7\n"
     ]
    }
   ],
   "source": [
    "print(\"Element at 7th index is:\", arr[7])\n"
   ]
  },
  {
   "cell_type": "code",
   "execution_count": 56,
   "metadata": {},
   "outputs": [
    {
     "name": "stdout",
     "output_type": "stream",
     "text": [
      "Elements from 3rd to 5th index are: [3 4 5]\n"
     ]
    }
   ],
   "source": [
    "print(\"Elements from 3rd to 5th index are:\", arr[3:6])\n"
   ]
  },
  {
   "cell_type": "code",
   "execution_count": null,
   "metadata": {},
   "outputs": [],
   "source": []
  },
  {
   "cell_type": "code",
   "execution_count": 57,
   "metadata": {},
   "outputs": [
    {
     "name": "stdout",
     "output_type": "stream",
     "text": [
      "Elements up to 4th index are: [0 1 2 3]\n"
     ]
    },
    {
     "data": {
      "text/plain": [
       "array([ 0,  1,  2,  3,  4,  5,  6,  7,  8,  9, 10])"
      ]
     },
     "execution_count": 57,
     "metadata": {},
     "output_type": "execute_result"
    }
   ],
   "source": [
    "print(\"Elements up to 4th index are:\", arr[:4])\n",
    "arr"
   ]
  },
  {
   "cell_type": "code",
   "execution_count": 58,
   "metadata": {},
   "outputs": [
    {
     "data": {
      "text/plain": [
       "[10, 9, 8]"
      ]
     },
     "execution_count": 58,
     "metadata": {},
     "output_type": "execute_result"
    }
   ],
   "source": [
    "a = [ 0,  1,  2,  3,  4,  5,  6,  7,  8,  9, 10]\n",
    "a[-1:7:-1]"
   ]
  },
  {
   "cell_type": "code",
   "execution_count": 59,
   "metadata": {},
   "outputs": [
    {
     "name": "stdout",
     "output_type": "stream",
     "text": [
      "Elements from last backwards are: [10  9  8]\n"
     ]
    }
   ],
   "source": [
    "print(\"Elements from last backwards are:\", arr[-1:7:-1]) #-1 0 1 2 3 4 5 6 7\n"
   ]
  },
  {
   "cell_type": "code",
   "execution_count": 60,
   "metadata": {},
   "outputs": [
    {
     "name": "stdout",
     "output_type": "stream",
     "text": [
      "3 Elements from last backwards are: []\n"
     ]
    }
   ],
   "source": [
    "print(\"3 Elements from last backwards are:\", arr[-1:-6:2])\n"
   ]
  },
  {
   "cell_type": "code",
   "execution_count": 61,
   "metadata": {},
   "outputs": [
    {
     "name": "stdout",
     "output_type": "stream",
     "text": [
      "New array: [ 0  2  4  6  8 10 12 14 16 18 20]\n"
     ]
    }
   ],
   "source": [
    "arr = np.arange(0,21,2)\n",
    "print(\"New array:\",arr)\n"
   ]
  },
  {
   "cell_type": "code",
   "execution_count": 68,
   "metadata": {},
   "outputs": [
    {
     "name": "stdout",
     "output_type": "stream",
     "text": [
      "Elements at 2nd, 4th, and 9th index are: [ 8 12 18]\n"
     ]
    }
   ],
   "source": [
    "print(\"Elements at 2nd, 4th, and 9th index are:\", arr[[4,6,9]]) # Pass a list as a index to subset"
   ]
  },
  {
   "cell_type": "code",
   "execution_count": 69,
   "metadata": {},
   "outputs": [
    {
     "name": "stdout",
     "output_type": "stream",
     "text": [
      "Matrix of random 2-digit numbers\n",
      "--------------------------------\n",
      " [[ 10  13  16  19  22]\n",
      " [ 25  28  31  34  37]\n",
      " [ 41  44  47  50  53]\n",
      " [ 56  59  62  65  68]\n",
      " [ 72  75  78  81  84]\n",
      " [ 87  90  93  96 100]]\n"
     ]
    }
   ],
   "source": [
    "import numpy as np \n",
    "mat = np.array(np.linspace(10,100,30,dtype=int)).reshape(6,5)\n",
    "print(\"Matrix of random 2-digit numbers\\n--------------------------------\\n\",mat)\n"
   ]
  },
  {
   "cell_type": "code",
   "execution_count": 79,
   "metadata": {},
   "outputs": [
    {
     "data": {
      "text/plain": [
       "50"
      ]
     },
     "execution_count": 79,
     "metadata": {},
     "output_type": "execute_result"
    }
   ],
   "source": [
    "mat[2][3] #[row][column]\n",
    "mat[2,3]"
   ]
  },
  {
   "cell_type": "code",
   "execution_count": 75,
   "metadata": {},
   "outputs": [
    {
     "data": {
      "text/plain": [
       "array([41, 44, 47, 50, 53])"
      ]
     },
     "execution_count": 75,
     "metadata": {},
     "output_type": "execute_result"
    }
   ],
   "source": [
    "mat[2]"
   ]
  },
  {
   "cell_type": "code",
   "execution_count": 76,
   "metadata": {},
   "outputs": [
    {
     "data": {
      "text/plain": [
       "array([[41, 44, 47, 50, 53],\n",
       "       [56, 59, 62, 65, 68]])"
      ]
     },
     "execution_count": 76,
     "metadata": {},
     "output_type": "execute_result"
    }
   ],
   "source": [
    "mat[2:4]"
   ]
  },
  {
   "cell_type": "code",
   "execution_count": 77,
   "metadata": {},
   "outputs": [
    {
     "data": {
      "text/plain": [
       "array([[10, 13, 16, 19, 22],\n",
       "       [41, 44, 47, 50, 53],\n",
       "       [72, 75, 78, 81, 84]])"
      ]
     },
     "execution_count": 77,
     "metadata": {},
     "output_type": "execute_result"
    }
   ],
   "source": [
    "mat[0:10:2]"
   ]
  },
  {
   "cell_type": "code",
   "execution_count": 78,
   "metadata": {},
   "outputs": [
    {
     "data": {
      "text/plain": [
       "13"
      ]
     },
     "execution_count": 78,
     "metadata": {},
     "output_type": "execute_result"
    }
   ],
   "source": [
    "mat[0, 1]"
   ]
  },
  {
   "cell_type": "code",
   "execution_count": 80,
   "metadata": {},
   "outputs": [
    {
     "data": {
      "text/plain": [
       "array([[25, 28, 31],\n",
       "       [41, 44, 47],\n",
       "       [56, 59, 62]])"
      ]
     },
     "execution_count": 80,
     "metadata": {},
     "output_type": "execute_result"
    }
   ],
   "source": [
    "mat[1:4, 0:3]\n",
    "# [rows,columns]"
   ]
  },
  {
   "cell_type": "code",
   "execution_count": 81,
   "metadata": {},
   "outputs": [
    {
     "data": {
      "text/plain": [
       "array([[44, 47, 50],\n",
       "       [59, 62, 65],\n",
       "       [75, 78, 81]])"
      ]
     },
     "execution_count": 81,
     "metadata": {},
     "output_type": "execute_result"
    }
   ],
   "source": [
    "mat[2:5,1:4]"
   ]
  },
  {
   "cell_type": "code",
   "execution_count": 86,
   "metadata": {},
   "outputs": [
    {
     "data": {
      "text/plain": [
       "array([[ 10,  13,  16,  19,  22],\n",
       "       [ 25,  28,  31,  34,  37],\n",
       "       [ 41,  44,  47,  50,  53],\n",
       "       [ 56,  59,  62,  65,  68],\n",
       "       [ 72,  75,  78,  81,  84],\n",
       "       [ 87,  90,  93,  96, 100]])"
      ]
     },
     "execution_count": 86,
     "metadata": {},
     "output_type": "execute_result"
    }
   ],
   "source": [
    "mat"
   ]
  },
  {
   "cell_type": "code",
   "execution_count": 89,
   "metadata": {},
   "outputs": [
    {
     "data": {
      "text/plain": [
       "array([[13, 19],\n",
       "       [28, 34],\n",
       "       [44, 50],\n",
       "       [59, 65],\n",
       "       [75, 81],\n",
       "       [90, 96]])"
      ]
     },
     "execution_count": 89,
     "metadata": {},
     "output_type": "execute_result"
    }
   ],
   "source": [
    "mat[:,[1,3]]"
   ]
  },
  {
   "cell_type": "code",
   "execution_count": 90,
   "metadata": {},
   "outputs": [
    {
     "data": {
      "text/plain": [
       "array([[ 10,  13,  16,  19,  22],\n",
       "       [ 25,  28,  31,  34,  37],\n",
       "       [ 41,  44,  47,  50,  53],\n",
       "       [ 56,  59,  62,  65,  68],\n",
       "       [ 72,  75,  78,  81,  84],\n",
       "       [ 87,  90,  93,  96, 100]])"
      ]
     },
     "execution_count": 90,
     "metadata": {},
     "output_type": "execute_result"
    }
   ],
   "source": [
    "mat[0:3,[1,3]]\n",
    "mat"
   ]
  },
  {
   "cell_type": "code",
   "execution_count": 91,
   "metadata": {},
   "outputs": [
    {
     "name": "stdout",
     "output_type": "stream",
     "text": [
      "\n",
      "Double bracket indexing\n",
      "------------------------\n",
      "Element in row index 1 and column index 2: 81\n"
     ]
    },
    {
     "data": {
      "text/plain": [
       "array([[ 10,  13,  16,  19,  22],\n",
       "       [ 25,  28,  31,  34,  37],\n",
       "       [ 41,  44,  47,  50,  53],\n",
       "       [ 56,  59,  62,  65,  68],\n",
       "       [ 72,  75,  78,  81,  84],\n",
       "       [ 87,  90,  93,  96, 100]])"
      ]
     },
     "execution_count": 91,
     "metadata": {},
     "output_type": "execute_result"
    }
   ],
   "source": [
    "print(\"\\nDouble bracket indexing\\n------------------------\")\n",
    "print(\"Element in row index 1 and column index 2:\", mat[4][3])\n",
    "mat"
   ]
  },
  {
   "cell_type": "code",
   "execution_count": 92,
   "metadata": {},
   "outputs": [
    {
     "name": "stdout",
     "output_type": "stream",
     "text": [
      "\n",
      "Single bracket with comma indexing\n",
      "----------------------------------\n",
      "Element in row index 1 and column index 2: 81\n",
      "\n",
      "Row or column extract\n",
      "----------------------\n"
     ]
    }
   ],
   "source": [
    "print(\"\\nSingle bracket with comma indexing\\n----------------------------------\")\n",
    "print(\"Element in row index 1 and column index 2:\", mat[4,3])\n",
    "print(\"\\nRow or column extract\\n----------------------\")\n"
   ]
  },
  {
   "cell_type": "code",
   "execution_count": 93,
   "metadata": {},
   "outputs": [
    {
     "name": "stdout",
     "output_type": "stream",
     "text": [
      "Entire row at index 2: [41 44 47 50 53]\n",
      "Entire column at index 3: [19 34 50 65 81 96]\n"
     ]
    }
   ],
   "source": [
    "print(\"Entire row at index 2:\", mat[2])\n",
    "print(\"Entire column at index 3:\", mat[:,3])\n"
   ]
  },
  {
   "cell_type": "code",
   "execution_count": 94,
   "metadata": {},
   "outputs": [
    {
     "name": "stdout",
     "output_type": "stream",
     "text": [
      "\n",
      "Subsetting sub-matrices\n",
      "--------------------------\n",
      "Matrix with row indices 1 and 2 and column indices 3 and 4\n",
      " [[34 37]\n",
      " [50 53]]\n"
     ]
    }
   ],
   "source": [
    "print(\"\\nSubsetting sub-matrices\\n--------------------------\")\n",
    "print(\"Matrix with row indices 1 and 2 and column indices 3 and 4\\n\", mat[1:3,3:5])\n"
   ]
  },
  {
   "cell_type": "code",
   "execution_count": 95,
   "metadata": {},
   "outputs": [
    {
     "name": "stdout",
     "output_type": "stream",
     "text": [
      "Matrix with row indices 0 and 1 and column indices 1 and 3\n",
      " [[13 19]\n",
      " [28 34]]\n"
     ]
    }
   ],
   "source": [
    "print(\"Matrix with row indices 0 and 1 and column indices 1 and 3\\n\", mat[0:2,[1,3]])"
   ]
  },
  {
   "cell_type": "markdown",
   "metadata": {},
   "source": [
    "# Array Math"
   ]
  },
  {
   "cell_type": "code",
   "execution_count": 96,
   "metadata": {},
   "outputs": [
    {
     "data": {
      "text/plain": [
       "array([[1, 7, 1, 2],\n",
       "       [3, 3, 9, 8],\n",
       "       [3, 1, 3, 3],\n",
       "       [2, 9, 1, 8]])"
      ]
     },
     "execution_count": 96,
     "metadata": {},
     "output_type": "execute_result"
    }
   ],
   "source": [
    "import numpy as np\n",
    "\n",
    "from numpy.random import randint as ri\n",
    "\n",
    "ri(1,10,16).reshape(4,4)"
   ]
  },
  {
   "cell_type": "code",
   "execution_count": 97,
   "metadata": {},
   "outputs": [
    {
     "name": "stdout",
     "output_type": "stream",
     "text": [
      "\n",
      "1st Matrix of random single-digit numbers\n",
      "\n",
      " [[7 7 3]\n",
      " [2 7 2]\n",
      " [8 9 2]]\n",
      "\n",
      "2nd Matrix of random single-digit numbers\n",
      "------------\n",
      " [[5 4 7]\n",
      " [3 9 5]\n",
      " [8 3 7]]\n"
     ]
    }
   ],
   "source": [
    "mat1 = np.array(ri(1,10,9)).reshape(3,3)\n",
    "mat2 = np.array(ri(1,10,9)).reshape(3,3)\n",
    "print(\"\\n1st Matrix of random single-digit numbers\\n\\n\",mat1)\n",
    "print(\"\\n2nd Matrix of random single-digit numbers\\n------------\\n\",mat2)\n"
   ]
  },
  {
   "cell_type": "code",
   "execution_count": 98,
   "metadata": {},
   "outputs": [
    {
     "name": "stdout",
     "output_type": "stream",
     "text": [
      "\n",
      "Sq-root of 1st matrix using np\n",
      "------------------\n",
      " [[2.64575131 2.64575131 1.73205081]\n",
      " [1.41421356 2.64575131 1.41421356]\n",
      " [2.82842712 3.         1.41421356]]\n"
     ]
    }
   ],
   "source": [
    "print(\"\\nSq-root of 1st matrix using np\\n------------------\\n\", np.sqrt(mat1))\n"
   ]
  },
  {
   "cell_type": "code",
   "execution_count": 99,
   "metadata": {},
   "outputs": [
    {
     "name": "stdout",
     "output_type": "stream",
     "text": [
      "\n",
      "Exponential power of 1st matrix using np\n",
      " -------------------------------------------------- \n",
      " [[1.09663316e+03 1.09663316e+03 2.00855369e+01]\n",
      " [7.38905610e+00 1.09663316e+03 7.38905610e+00]\n",
      " [2.98095799e+03 8.10308393e+03 7.38905610e+00]]\n"
     ]
    }
   ],
   "source": [
    "print(\"\\nExponential power of 1st matrix using np\\n\",'-'*50,\"\\n\", np.exp(mat1))\n"
   ]
  },
  {
   "cell_type": "code",
   "execution_count": 100,
   "metadata": {},
   "outputs": [
    {
     "name": "stdout",
     "output_type": "stream",
     "text": [
      "\n",
      "10-base logarithm on 1st matrix using np\n",
      " -------------------------------------------------- \n",
      " [[0.84509804 0.84509804 0.47712125]\n",
      " [0.30103    0.84509804 0.30103   ]\n",
      " [0.90308999 0.95424251 0.30103   ]]\n",
      "[[7 7 3]\n",
      " [2 7 2]\n",
      " [8 9 2]]\n",
      "[[5 4 7]\n",
      " [3 9 5]\n",
      " [8 3 7]]\n"
     ]
    }
   ],
   "source": [
    "print(\"\\n10-base logarithm on 1st matrix using np\\n\",'-'*50,\"\\n\", np.log10(mat1))\n",
    "print(mat1)\n",
    "print(mat2)"
   ]
  },
  {
   "cell_type": "code",
   "execution_count": 101,
   "metadata": {},
   "outputs": [
    {
     "name": "stdout",
     "output_type": "stream",
     "text": [
      "[[7 7 3]\n",
      " [2 7 2]\n",
      " [8 9 2]]\n",
      "[[5 4 7]\n",
      " [3 9 5]\n",
      " [8 3 7]]\n"
     ]
    }
   ],
   "source": [
    "print(mat1)\n",
    "print(mat2)"
   ]
  },
  {
   "cell_type": "code",
   "execution_count": 102,
   "metadata": {},
   "outputs": [
    {
     "name": "stdout",
     "output_type": "stream",
     "text": [
      "\n",
      "Modulo reminder using np\n",
      " -------------------------------------------------- \n",
      " [[2 3 3]\n",
      " [2 7 2]\n",
      " [0 0 2]]\n"
     ]
    },
    {
     "data": {
      "text/plain": [
       "array([[2, 3, 3],\n",
       "       [2, 7, 2],\n",
       "       [0, 0, 2]])"
      ]
     },
     "execution_count": 102,
     "metadata": {},
     "output_type": "execute_result"
    }
   ],
   "source": [
    "print(\"\\nModulo reminder using np\\n\",'-'*50,\"\\n\", np.fmod(mat1,mat2))\n",
    "mat1%mat2"
   ]
  },
  {
   "cell_type": "code",
   "execution_count": 103,
   "metadata": {},
   "outputs": [
    {
     "name": "stdout",
     "output_type": "stream",
     "text": [
      "\n",
      "Combination of functions by shwoing exponetial decay of a sine wave\n",
      " ----------------------------------------------------------------------\n"
     ]
    }
   ],
   "source": [
    "print(\"\\nCombination of functions by shwoing exponetial decay of a sine wave\\n\",'-'*70)"
   ]
  },
  {
   "cell_type": "code",
   "execution_count": null,
   "metadata": {},
   "outputs": [],
   "source": [
    "#as np\n",
    "np.array\n",
    "np.asarray\n",
    "np.asanyarray\n",
    "\n",
    "#random\n",
    "np.random.rand()\n",
    "np.random.randn\n",
    "np.random.randint\n",
    "np.random.random\n",
    "\n",
    "# FUnction\n",
    "np.fromfunction\n",
    "np.fromstring\n",
    "np.fromiter\n",
    "np.arange(start,stop,step) # both ints, float\n",
    "np.linespace(start,stop,limit) \n",
    "np.logspace()\n",
    "\n",
    "#general\n",
    "np.sort()\n",
    "np.sqrt()\n",
    "np.expo(),\n",
    "np.log10(),\n",
    "sum()\n",
    "np.reshape()\n",
    "np.max()\n",
    "np.min()\n",
    "np.argmax()\n",
    "np.argmin()\n",
    "\n",
    "#attributes\n",
    "shape\n",
    "dtypes\n",
    "ndim\n",
    "index\n",
    "size\n",
    "\n"
   ]
  },
  {
   "cell_type": "code",
   "execution_count": null,
   "metadata": {},
   "outputs": [],
   "source": []
  },
  {
   "cell_type": "code",
   "execution_count": 112,
   "metadata": {},
   "outputs": [
    {
     "name": "stdout",
     "output_type": "stream",
     "text": [
      "80.42857142857143 78.0 ModeResult(mode=78, count=2) 6.729466121893644 45.285714285714285\n"
     ]
    }
   ],
   "source": [
    "subject_scores = [78, 90, 88, 71, 82, 76]\n",
    "#  mean, median, mode, std, var\n",
    "\n",
    "import statistics\n",
    "\n",
    "subject_scores = [78, 90, 88, 71, 82, 76]\n",
    "mean_score = statistics.mean(subject_scores)\n",
    "median_score = statistics.median(subject_scores)\n",
    "mode_score = statistics.mode(subject_scores)\n",
    "std_dev = statistics.stdev(subject_scores)\n",
    "variance = statistics.variance(subject_scores)\n",
    "\n",
    "\n",
    "# print(mean_score, median_score, mode_score, std_dev, variance)\n",
    "\n",
    "\n",
    "import numpy as np\n",
    "from scipy import stats\n",
    "subject_scores = [78, 90, 88, 71, 82, 76, 78]\n",
    "mean_score = np.mean(subject_scores)\n",
    "median_score = np.median(subject_scores)\n",
    "std_dev = np.std(subject_scores,ddof=1)\n",
    "variance = np.var(subject_scores,ddof=1)\n",
    "mode_result = stats.mode(subject_scores)\n",
    "\n",
    "\n",
    "print(mean_score, median_score,mode_result, std_dev, variance)"
   ]
  },
  {
   "cell_type": "code",
   "execution_count": 119,
   "metadata": {},
   "outputs": [
    {
     "name": "stdout",
     "output_type": "stream",
     "text": [
      "ModeResult(mode=78, count=2) 2 78\n"
     ]
    }
   ],
   "source": [
    "mode_result = stats.mode(subject_scores)\n",
    "# print(dir(mode_result))\n",
    "# # mode_count = mode_result.count[0]\n",
    "# # mode_score = mode_result.mode[0]\n",
    "print(mode_result, mode_result.count, mode_result.mode)"
   ]
  },
  {
   "cell_type": "markdown",
   "metadata": {},
   "source": [
    "### download image\n",
    "    - requests\n",
    "    - open() \n",
    "    "
   ]
  },
  {
   "cell_type": "code",
   "execution_count": null,
   "metadata": {},
   "outputs": [],
   "source": [
    "import requests\n",
    "\n",
    "imgURL = \"https://images.unsplash.com/photo-1540273777513-7c4973aa2cd7?ixlib=rb-4.0.3&ixid=M3wxMjA3fDB8MHxwaG90by1wYWdlfHx8fGVufDB8fHx8fA%3D%3D&auto=format&fit=crop&w=1170&q=80\"\n",
    "\n",
    "imgURL2 = \"https://images.unsplash.com/photo-1687800132770-8f1600a5849e?ixlib=rb-4.0.3&ixid=M3wxMjA3fDB8MHxwaG90by1wYWdlfHx8fGVufDB8fHx8fA%3D%3D&auto=format&fit=crop&w=1228&q=80\"\n",
    "\n",
    "imgURL3 = \"https://images.unsplash.com/photo-1519865885898-a54a6f2c7eea?q=80&w=1958&auto=format&fit=crop&ixlib=rb-4.0.3&ixid=M3wxMjA3fDB8MHxwaG90by1wYWdlfHx8fGVufDB8fHx8fA%3D%3D\"\n",
    "response = requests.get(imgURL3).content\n",
    "\n",
    "print(response)\n",
    "\n",
    "\n",
    "with open('sunset.jpg','wb') as f:\n",
    "    f.write(response)\n",
    "    \n",
    "print('image saved successfully...')"
   ]
  },
  {
   "cell_type": "code",
   "execution_count": null,
   "metadata": {},
   "outputs": [],
   "source": []
  },
  {
   "cell_type": "code",
   "execution_count": null,
   "metadata": {},
   "outputs": [],
   "source": []
  },
  {
   "cell_type": "code",
   "execution_count": null,
   "metadata": {},
   "outputs": [],
   "source": [
    "#IMAGE to NUMPY ARRAY \n",
    "\n",
    "from PIL import Image\n",
    "\n",
    "img = Image.open(\"nature.jpg\")\n",
    "\n",
    "print(img)\n",
    "\n",
    "print(img.format)\n",
    "\n",
    "print(img.size)\n",
    "\n",
    "print(img.mode)"
   ]
  },
  {
   "cell_type": "code",
   "execution_count": null,
   "metadata": {},
   "outputs": [],
   "source": []
  },
  {
   "cell_type": "markdown",
   "metadata": {},
   "source": [
    "### converting img to numpy array"
   ]
  },
  {
   "cell_type": "code",
   "execution_count": null,
   "metadata": {},
   "outputs": [],
   "source": [
    "\n",
    "from PIL import Image\n",
    "import numpy as np\n",
    "\n",
    "img = Image.open(\"nature.jpg\")\n",
    "\n",
    "Numpyimg = np.asarray(img)\n",
    "\n",
    "print(Numpyimg.shape)\n",
    "\n",
    "print(Numpyimg)"
   ]
  },
  {
   "cell_type": "code",
   "execution_count": null,
   "metadata": {},
   "outputs": [],
   "source": [
    "Numpyimg"
   ]
  },
  {
   "cell_type": "code",
   "execution_count": null,
   "metadata": {},
   "outputs": [],
   "source": [
    "# array to image \n",
    "\n",
    "\n",
    "revertedImage = Image.fromarray(Numpyimg)\n",
    "print(revertedImage)"
   ]
  },
  {
   "cell_type": "code",
   "execution_count": null,
   "metadata": {},
   "outputs": [],
   "source": [
    "print(revertedImage.show())"
   ]
  },
  {
   "cell_type": "code",
   "execution_count": null,
   "metadata": {},
   "outputs": [],
   "source": []
  },
  {
   "cell_type": "code",
   "execution_count": 106,
   "metadata": {},
   "outputs": [
    {
     "name": "stdout",
     "output_type": "stream",
     "text": [
      "80.83333333333333 80.0 78 7.277820186475251 52.96666666666667\n"
     ]
    }
   ],
   "source": [
    "import statistics\n",
    "\n",
    "subject_scores = [78, 90, 88, 71, 82, 76]\n",
    "mean_score = statistics.mean(subject_scores)\n",
    "median_score = statistics.median(subject_scores)\n",
    "mode_score = statistics.mode(subject_scores)\n",
    "std_dev = statistics.stdev(subject_scores)\n",
    "variance = statistics.variance(subject_scores)\n",
    "\n",
    "\n",
    "print(mean_score, median_score, mode_score, std_dev, variance)"
   ]
  },
  {
   "cell_type": "code",
   "execution_count": null,
   "metadata": {},
   "outputs": [],
   "source": []
  },
  {
   "cell_type": "code",
   "execution_count": null,
   "metadata": {},
   "outputs": [],
   "source": []
  }
 ],
 "metadata": {
  "kernelspec": {
   "display_name": "Python 3 (ipykernel)",
   "language": "python",
   "name": "python3"
  },
  "language_info": {
   "codemirror_mode": {
    "name": "ipython",
    "version": 3
   },
   "file_extension": ".py",
   "mimetype": "text/x-python",
   "name": "python",
   "nbconvert_exporter": "python",
   "pygments_lexer": "ipython3",
   "version": "3.11.5"
  }
 },
 "nbformat": 4,
 "nbformat_minor": 4
}
