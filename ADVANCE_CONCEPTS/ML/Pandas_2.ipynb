{
 "cells": [
  {
   "cell_type": "markdown",
   "metadata": {
    "id": "2lvpMMseRUH0"
   },
   "source": [
    "# **Importing Pandas**"
   ]
  },
  {
   "cell_type": "code",
   "execution_count": null,
   "metadata": {
    "id": "Q24A3UcIRJRR"
   },
   "outputs": [],
   "source": [
    "import pandas as pd\n",
    "import numpy as np"
   ]
  },
  {
   "cell_type": "markdown",
   "metadata": {
    "id": "D9oGmuUWQ9X1"
   },
   "source": [
    "# **Pandas**\n",
    "\n",
    "**Pandas** is a powerful **Python library for data manipulation and analysis.** It provides easy-to-use data structures and functions to work with structured data like tabular, time series, or matrix data.\n",
    "\n",
    "**Pandas primarily provides two data structures: Series and DataFrame.**\n",
    "\n",
    "**Series:** A one-dimensional labeled array capable of holding any data type.\n",
    "\n",
    "**DataFrame:** A two-dimensional labeled data structure with columns of potentially different types."
   ]
  },
  {
   "cell_type": "markdown",
   "metadata": {
    "id": "tQBsv7mzVUAj"
   },
   "source": [
    "# **Pandas - Series**\n",
    "\n",
    "**Series** in pandas is a fundamental data structure that represents a one-dimensional array of indexed data. It can hold any type of **data—integers, strings, floats, Python objects**, etc. The Series object is built on top of the NumPy array and is very similar to it but with additional capabilities like handling missing data. The indices of a pandas Series are more flexible than those in a simple NumPy array."
   ]
  },
  {
   "cell_type": "markdown",
   "metadata": {
    "id": "shG6GMfEViEO"
   },
   "source": [
    "# Creating a Series"
   ]
  },
  {
   "cell_type": "code",
   "execution_count": null,
   "metadata": {
    "colab": {
     "base_uri": "https://localhost:8080/"
    },
    "id": "XJTvKNV7V95R",
    "outputId": "43e6799b-da81-42f7-d19f-74efb8ab3871"
   },
   "outputs": [],
   "source": [
    "s = pd.Series([1, 3, 5, 7, 9])\n",
    "print(s)"
   ]
  },
  {
   "cell_type": "markdown",
   "metadata": {
    "id": "YFgxhdJ-WEPw"
   },
   "source": [
    "**Key Attributes**\n",
    "\n",
    "**Values:** The data in the Series.\n",
    "\n",
    "**Index:** The index (labels) of each data point."
   ]
  },
  {
   "cell_type": "markdown",
   "metadata": {
    "id": "X44gc0QQWNvC"
   },
   "source": [
    "# **Common Methods of Series**\n"
   ]
  },
  {
   "cell_type": "markdown",
   "metadata": {
    "id": "Pw9FaFbrWRMr"
   },
   "source": [
    "# Descriptive Statistics"
   ]
  },
  {
   "cell_type": "markdown",
   "metadata": {
    "id": "3WjwLHgPWbeQ"
   },
   "source": [
    "**s.describe():** Provides a quick summary of the data.\n",
    "\n",
    "This method gives a statistical summary of the Series, including count, mean, standard deviation, minimum, maximum, and quartile values."
   ]
  },
  {
   "cell_type": "code",
   "execution_count": null,
   "metadata": {
    "colab": {
     "base_uri": "https://localhost:8080/"
    },
    "id": "AVLGLmxuWVq3",
    "outputId": "82a1e366-6afe-4742-93ae-d99449b09378"
   },
   "outputs": [],
   "source": [
    "# Creating a Series\n",
    "s = pd.Series([1, 3, 5, 7, 9])\n",
    "\n",
    "# Descriptive statistics\n",
    "print(s.describe())"
   ]
  },
  {
   "cell_type": "markdown",
   "metadata": {
    "id": "yDMJdKQcWfAz"
   },
   "source": [
    "**s.mean():** Computes the mean of the data."
   ]
  },
  {
   "cell_type": "code",
   "execution_count": null,
   "metadata": {
    "colab": {
     "base_uri": "https://localhost:8080/"
    },
    "id": "oC4byGUqWlfX",
    "outputId": "4d28328c-bd50-4eed-f79e-0df9ffb9eedc"
   },
   "outputs": [],
   "source": [
    "# Mean of the Series\n",
    "print(s.mean())"
   ]
  },
  {
   "cell_type": "markdown",
   "metadata": {
    "id": "58Yb0bmHWn6D"
   },
   "source": [
    "**s.std():** Computes the standard deviation."
   ]
  },
  {
   "cell_type": "code",
   "execution_count": null,
   "metadata": {
    "colab": {
     "base_uri": "https://localhost:8080/"
    },
    "id": "RT5JCD7nWqR6",
    "outputId": "31df0550-9efb-4e5d-f36e-fad7349d4f8c"
   },
   "outputs": [],
   "source": [
    "# Standard deviation of the Series\n",
    "print(s.std())"
   ]
  },
  {
   "cell_type": "markdown",
   "metadata": {
    "id": "oXZOlxvPWs5G"
   },
   "source": [
    "**s.min() and s.max():** Computes the minimum and maximum values."
   ]
  },
  {
   "cell_type": "code",
   "execution_count": null,
   "metadata": {
    "colab": {
     "base_uri": "https://localhost:8080/"
    },
    "id": "rBIZD_DyWvS-",
    "outputId": "026c1c29-71d6-4b35-bb0d-f73988b13a51"
   },
   "outputs": [],
   "source": [
    "# Minimum and maximum values\n",
    "print(s.min())\n",
    "print(s.max())"
   ]
  },
  {
   "cell_type": "markdown",
   "metadata": {
    "id": "aZCWopL_Wwvc"
   },
   "source": [
    "# Data Manipulation"
   ]
  },
  {
   "cell_type": "markdown",
   "metadata": {
    "id": "HDEEco7aXDiU"
   },
   "source": [
    "**s.map(func):** Applies a function to each element in the Series."
   ]
  },
  {
   "cell_type": "code",
   "execution_count": null,
   "metadata": {
    "colab": {
     "base_uri": "https://localhost:8080/"
    },
    "id": "HtMZ5XMcWzSt",
    "outputId": "beff98f7-04f6-48e0-d41b-f0a40db6322e"
   },
   "outputs": [],
   "source": [
    "# Mapping function to double the values\n",
    "doubled = s.map(lambda x: x * 2)\n",
    "print(doubled)"
   ]
  },
  {
   "cell_type": "markdown",
   "metadata": {
    "id": "zsvRzAF4XGHa"
   },
   "source": [
    "**s.apply(func):** Similar to map, but more flexible. (Can be used Data Frames as well, where as map is only for Series)"
   ]
  },
  {
   "cell_type": "code",
   "execution_count": null,
   "metadata": {
    "colab": {
     "base_uri": "https://localhost:8080/"
    },
    "id": "yL-fzcgxXIj-",
    "outputId": "e77a1eda-a4d4-4171-8f6d-cb047ea0aba7"
   },
   "outputs": [],
   "source": [
    "# Applying a function to calculate square root\n",
    "sqrt = s.apply(lambda x: x ** 0.5)\n",
    "print(sqrt)"
   ]
  },
  {
   "cell_type": "markdown",
   "metadata": {
    "id": "rnGCgVq6XKAr"
   },
   "source": [
    "**s.sort_values():** Sorts the Series."
   ]
  },
  {
   "cell_type": "code",
   "execution_count": null,
   "metadata": {
    "colab": {
     "base_uri": "https://localhost:8080/"
    },
    "id": "64rYsK3HXMe_",
    "outputId": "b48394f9-c4e9-4807-cae4-ce946a1b924f"
   },
   "outputs": [],
   "source": [
    "# Sorting the Series\n",
    "sorted_s = s.sort_values()\n",
    "print(sorted_s)"
   ]
  },
  {
   "cell_type": "markdown",
   "metadata": {
    "id": "GJsYyUCJXOSW"
   },
   "source": [
    "**s.drop(labels):** Drops specified labels from the Series."
   ]
  },
  {
   "cell_type": "code",
   "execution_count": null,
   "metadata": {
    "colab": {
     "base_uri": "https://localhost:8080/"
    },
    "id": "s5OBXktxXQX7",
    "outputId": "9a90b5b4-3866-4060-d79f-f91b8c848018"
   },
   "outputs": [],
   "source": [
    "# Dropping the first element\n",
    "dropped = s.drop(0)\n",
    "print(dropped)"
   ]
  },
  {
   "cell_type": "code",
   "execution_count": null,
   "metadata": {
    "colab": {
     "base_uri": "https://localhost:8080/"
    },
    "id": "6SDn8lFAB_HP",
    "outputId": "f8ccaa9b-9b9d-43a8-a3c4-f379a0cec1da"
   },
   "outputs": [],
   "source": [
    "print(s)"
   ]
  },
  {
   "cell_type": "markdown",
   "metadata": {
    "id": "1CFqqxIWXR66"
   },
   "source": [
    "# Handling Missing Data"
   ]
  },
  {
   "cell_type": "markdown",
   "metadata": {
    "id": "SZmWSsZBXWGX"
   },
   "source": [
    "**s.isnull():** Checks for missing values, returns a Series of booleans."
   ]
  },
  {
   "cell_type": "code",
   "execution_count": null,
   "metadata": {
    "colab": {
     "base_uri": "https://localhost:8080/"
    },
    "id": "fYvGouKYXVIF",
    "outputId": "b4d13aa6-49a0-4e1d-9c04-c1c4d86678fa"
   },
   "outputs": [],
   "source": [
    "# Checking for missing values\n",
    "print(s.isnull())"
   ]
  },
  {
   "cell_type": "markdown",
   "metadata": {
    "id": "Bl-kgvOPXZfh"
   },
   "source": [
    "**s.notnull():** Opposite of isnull()."
   ]
  },
  {
   "cell_type": "code",
   "execution_count": null,
   "metadata": {
    "colab": {
     "base_uri": "https://localhost:8080/"
    },
    "id": "Zv7cpnz7XbqE",
    "outputId": "df8f4beb-680a-468c-8df6-e56b6317d838"
   },
   "outputs": [],
   "source": [
    "# Checking for non-null values\n",
    "print(s.notnull())"
   ]
  },
  {
   "cell_type": "markdown",
   "metadata": {
    "id": "l2PtIY3BXpaH"
   },
   "source": [
    "**s.fillna(value):** Fills missing values with a specified value."
   ]
  },
  {
   "cell_type": "code",
   "execution_count": null,
   "metadata": {
    "colab": {
     "base_uri": "https://localhost:8080/"
    },
    "id": "m_rZWwprDAdR",
    "outputId": "8f57c44b-e750-4760-a870-469b9ff465cb"
   },
   "outputs": [],
   "source": [
    "# Create a Series with missing values\n",
    "s = pd.Series([1, 2, np.nan, 4, np.nan])\n",
    "\n",
    "# Print the Series\n",
    "print(s)"
   ]
  },
  {
   "cell_type": "code",
   "execution_count": null,
   "metadata": {
    "colab": {
     "base_uri": "https://localhost:8080/"
    },
    "id": "As9re_RNXslJ",
    "outputId": "e393b1b8-6b6e-4ff5-b354-621ecb177c96"
   },
   "outputs": [],
   "source": [
    "# Filling missing values with 0\n",
    "filled = s.fillna(9)\n",
    "print(filled)"
   ]
  },
  {
   "cell_type": "markdown",
   "metadata": {
    "id": "mvCDLj7NXuxi"
   },
   "source": [
    "**s.dropna():** Drops all rows that contain missing values."
   ]
  },
  {
   "cell_type": "code",
   "execution_count": null,
   "metadata": {
    "colab": {
     "base_uri": "https://localhost:8080/"
    },
    "id": "ReFIEoukXx-K",
    "outputId": "67c14939-50a7-4a6d-8834-76955bec9e15"
   },
   "outputs": [],
   "source": [
    "# Creating a Series with missing values\n",
    "s_with_missing = pd.Series([1, 2, None, 4, 5])\n",
    "\n",
    "# Dropping missing values\n",
    "dropped_missing = s_with_missing.dropna()\n",
    "print(dropped_missing)"
   ]
  },
  {
   "cell_type": "markdown",
   "metadata": {
    "id": "i5L-rcnwXzXh"
   },
   "source": [
    "# Indexing, Slicing, and Filtering"
   ]
  },
  {
   "cell_type": "markdown",
   "metadata": {
    "id": "IQuweK3JX3ba"
   },
   "source": [
    "**s.iloc[ ]:** Purely integer-location based indexing."
   ]
  },
  {
   "cell_type": "code",
   "execution_count": null,
   "metadata": {
    "colab": {
     "base_uri": "https://localhost:8080/"
    },
    "id": "86RiQliGX8oP",
    "outputId": "973c7258-db85-4ac5-8793-76e5dab54ed9"
   },
   "outputs": [],
   "source": [
    "# Indexing by position\n",
    "s = pd.Series([1, 3, 5, 7, 9])\n",
    "print(s.iloc[0])  # First element\n",
    "print(s.iloc[-1])  # Last element"
   ]
  },
  {
   "cell_type": "markdown",
   "metadata": {
    "id": "IM7m5ko5X_AV"
   },
   "source": [
    "**s.loc[ ]:** Label-based indexing."
   ]
  },
  {
   "cell_type": "code",
   "execution_count": null,
   "metadata": {
    "colab": {
     "base_uri": "https://localhost:8080/"
    },
    "id": "ls1nR2g_YB9Z",
    "outputId": "014e5e0b-3ae6-430f-b468-2544ac439126"
   },
   "outputs": [],
   "source": [
    "# Indexing by label\n",
    "print(s.loc[0])  # First element\n",
    "print(s.loc[4])  # Last element"
   ]
  },
  {
   "cell_type": "code",
   "execution_count": null,
   "metadata": {
    "colab": {
     "base_uri": "https://localhost:8080/"
    },
    "id": "vi9w2FtS6Mtz",
    "outputId": "a61d7483-4257-4328-d500-3ebd925936bc"
   },
   "outputs": [],
   "source": [
    "# Create a Series\n",
    "s = pd.Series([10, 20, 30, 40], index=['a', 'b', 'c', 'd'])\n",
    "print(s)\n",
    "# Accessing elements using iloc\n",
    "print(s.iloc[0])  # Access the first element\n",
    "print(s.iloc[1:3])  # Access elements at positions 1 and 2 (exclusive of 3)\n",
    "\n",
    "# Accessing elements using loc\n",
    "print(s.loc['a'])  # Access the element with index label 'a'\n",
    "print(s.loc['b':'c'])  # Access elements with index labels 'b' and 'c'"
   ]
  },
  {
   "cell_type": "markdown",
   "metadata": {
    "id": "WAChMrzAYH3x"
   },
   "source": [
    "**s[s > n]:** Filters and returns elements greater than n."
   ]
  },
  {
   "cell_type": "code",
   "execution_count": null,
   "metadata": {
    "colab": {
     "base_uri": "https://localhost:8080/"
    },
    "id": "1InzBuTOYKXs",
    "outputId": "ceb5706b-f33c-46ce-d6a7-3b6e9f50ec1b"
   },
   "outputs": [],
   "source": [
    "# Filtering elements greater than 5\n",
    "filtered = s[s > 5]\n",
    "print(filtered)"
   ]
  },
  {
   "cell_type": "markdown",
   "metadata": {
    "id": "Ot0P68m9YL8t"
   },
   "source": [
    "# Aggregation"
   ]
  },
  {
   "cell_type": "markdown",
   "metadata": {
    "id": "VGT82KgJYPOW"
   },
   "source": [
    "**s.sum():** Sums up the values."
   ]
  },
  {
   "cell_type": "code",
   "execution_count": null,
   "metadata": {
    "colab": {
     "base_uri": "https://localhost:8080/"
    },
    "id": "RcCMbN38YR-q",
    "outputId": "cd533b36-259e-4c74-8291-63656df3f292"
   },
   "outputs": [],
   "source": [
    "# Sum of the Series\n",
    "print(s.sum())"
   ]
  },
  {
   "cell_type": "markdown",
   "metadata": {
    "id": "d2O7i9MXYUit"
   },
   "source": [
    "**s.cumsum():** Cumulative sum."
   ]
  },
  {
   "cell_type": "code",
   "execution_count": null,
   "metadata": {
    "colab": {
     "base_uri": "https://localhost:8080/"
    },
    "id": "SFpY0w9tYW4P",
    "outputId": "7ca020a0-75ab-49dc-d127-985065260ae4"
   },
   "outputs": [],
   "source": [
    "# Cumulative sum of the Series\n",
    "print(s)\n",
    "print(s.cumsum())"
   ]
  },
  {
   "cell_type": "markdown",
   "metadata": {
    "id": "8qI5NK0IYYRA"
   },
   "source": [
    "**s.aggregate(func):** Aggregates using one or more operations."
   ]
  },
  {
   "cell_type": "code",
   "execution_count": null,
   "metadata": {
    "colab": {
     "base_uri": "https://localhost:8080/"
    },
    "id": "V06j_UmNYaT-",
    "outputId": "5433cbd6-3140-482b-8bcf-c1058738008d"
   },
   "outputs": [],
   "source": [
    "# Aggregating using multiple operations\n",
    "aggregated = s.aggregate(['sum', 'mean', 'std'])\n",
    "print(aggregated)"
   ]
  },
  {
   "cell_type": "markdown",
   "metadata": {
    "id": "GTuapUL-pT5N"
   },
   "source": [
    "# Creating Data Frame"
   ]
  },
  {
   "cell_type": "code",
   "execution_count": null,
   "metadata": {
    "colab": {
     "base_uri": "https://localhost:8080/",
     "height": 206
    },
    "id": "gJ2qUdCZqJxG",
    "outputId": "b1ab5eef-f889-4931-d2e6-fe0d3ab5f305"
   },
   "outputs": [],
   "source": [
    "# Define data\n",
    "data = {\n",
    "    'Name': ['Amit', 'Priya', 'Rahul', 'Neha', 'Ravi', 'Ananya', 'Karan', 'Sneha', 'Divya', 'Rohan'],\n",
    "    'Role': ['Manager', 'Engineer', 'Analyst', 'Developer', 'Designer', 'HR', 'Manager', 'Engineer', 'Analyst', 'Developer'],\n",
    "    'Email': ['amit@example.com', 'priya@example.com', 'rahul@example.com', 'neha@example.com', 'ravi@example.com', 'ananya@example.com', 'karan@example.com', 'sneha@example.com', 'divya@example.com', 'rohan@example.com'],\n",
    "    'Phone Number': ['9876543210', '8765432109', '7654321098', '6543210987', '5432109876', '4321098765', '3210987654', '2109876543', '1098765432', '0987654321'],\n",
    "    'Address': ['123 MG Road', '456 Brigade Road', '789 Indiranagar', '321 Jayanagar', '567 Koramangala', '890 Whitefield', '234 BTM Layout', '567 HSR Layout', '890 Malleshwaram', '123 Rajajinagar'],\n",
    "    'Blood Group': ['A+', 'B-', 'O+', 'AB+', 'A-', 'O-', 'B+', 'AB-', 'A+', 'O+']\n",
    "}\n",
    "\n",
    "# Create DataFrame\n",
    "team_df = pd.DataFrame(data)\n",
    "\n",
    "# Display DataFrame\n",
    "team_df.head()"
   ]
  },
  {
   "cell_type": "code",
   "execution_count": null,
   "metadata": {
    "colab": {
     "base_uri": "https://localhost:8080/",
     "height": 300
    },
    "id": "J8PCciI9tBd4",
    "outputId": "03a7506c-df67-453b-c0c3-597232de61b3"
   },
   "outputs": [],
   "source": [
    "team_df"
   ]
  },
  {
   "cell_type": "markdown",
   "metadata": {
    "id": "w9xN2M5SviXL"
   },
   "source": [
    "# Merging Data Frames"
   ]
  },
  {
   "cell_type": "code",
   "execution_count": null,
   "metadata": {
    "id": "D4sapvsivlQk"
   },
   "outputs": [],
   "source": [
    "# Team roles data\n",
    "data1 = {\n",
    "    'ID': [1, 2, 3, 4],\n",
    "    'Name': ['John', 'Alice', 'Bob', 'Emma'],\n",
    "    'Department': ['HR', 'Engineering', 'Finance', 'Marketing']\n",
    "}\n",
    "df1 = pd.DataFrame(data1)\n",
    "\n",
    "data2 = {\n",
    "    'ID': [1, 2, 3, 5],\n",
    "    'Salary': [50000, 60000, 70000, 55000]\n",
    "}\n",
    "df2 = pd.DataFrame(data2)"
   ]
  },
  {
   "cell_type": "code",
   "execution_count": null,
   "metadata": {
    "id": "IeVY87mjvnrR"
   },
   "outputs": [],
   "source": [
    "merged_df = pd.merge(df1, df2, on='ID', how='inner')"
   ]
  },
  {
   "cell_type": "code",
   "execution_count": null,
   "metadata": {
    "colab": {
     "base_uri": "https://localhost:8080/",
     "height": 300
    },
    "id": "7pvUy_XuFtKL",
    "outputId": "99e5d28e-f5cd-4d32-d139-1ea603dc1b32"
   },
   "outputs": [],
   "source": [
    "merged_df"
   ]
  },
  {
   "cell_type": "markdown",
   "metadata": {
    "id": "0n2mAf1XRXP0"
   },
   "source": [
    "# **Importing Dataset**\n",
    "\n",
    "Importing datasets into Pandas is straightforward, and Pandas supports various file formats like csv, xlsx, json, sql etc."
   ]
  },
  {
   "cell_type": "code",
   "execution_count": null,
   "metadata": {
    "colab": {
     "base_uri": "https://localhost:8080/",
     "height": 643
    },
    "id": "Hc0eQgLeSree",
    "outputId": "b93e78c7-c45e-492f-e170-6b02794aaab8"
   },
   "outputs": [],
   "source": [
    "df = pd.read_csv('./datasets/filmtv_movies.csv')\n",
    "\n",
    "# Display the first few rows of the DataFrame to understand its structure and contents\n",
    "df.head()"
   ]
  },
  {
   "cell_type": "markdown",
   "metadata": {
    "id": "QOXL6iQcd-hn"
   },
   "source": [
    "The dataset contains information about movies, represented in a DataFrame structure.\n",
    "\n",
    "**filmtv_id:** A unique identifier for each movie.\n",
    "\n",
    "**title:** The title of the movie.\n",
    "\n",
    "**year:** The release year of the movie.\n",
    "\n",
    "**genre:** The genre of the movie.\n",
    "\n",
    "**duration:** The duration of the movie in minutes.\n",
    "\n",
    "**country:** The country where the movie was produced.\n",
    "\n",
    "**directors:** Names of the directors of the movie.\n",
    "\n",
    "**actors:** Names of the main actors in the movie.\n",
    "\n",
    "**avg_vote, critics_vote, public_vote:** Average ratings from different sources.\n",
    "\n",
    "**total_votes:** Total number of votes the movie received.\n",
    "\n",
    "**description:** A short description of the movie plot.\n",
    "\n",
    "**notes:** Additional notes or commentary about the movie.\n",
    "\n",
    "**humor, rhythm, effort, tension, erotism:** Various attributes rated on a scale (probably from 0 to a maximum value, representing different aspects of the movie)."
   ]
  },
  {
   "cell_type": "markdown",
   "metadata": {
    "id": "38BVIvJTe6vV"
   },
   "source": [
    "# **Pandas - DataFrame**"
   ]
  },
  {
   "cell_type": "markdown",
   "metadata": {
    "id": "5GxqjDa0gBCD"
   },
   "source": [
    "# Properties of DataFrame"
   ]
  },
  {
   "cell_type": "markdown",
   "metadata": {
    "id": "MicPTUlAgk8i"
   },
   "source": [
    "**df.head(n):**\n",
    "The df.head(n) method is used to view the first n rows of the DataFrame. This is particularly useful for getting a quick snapshot of the data, especially to understand the structure and the types of data contained in each column. If you don't specify n, the default number of rows displayed is 5."
   ]
  },
  {
   "cell_type": "code",
   "execution_count": null,
   "metadata": {
    "colab": {
     "base_uri": "https://localhost:8080/",
     "height": 1000
    },
    "id": "2qA-wxbhgprG",
    "outputId": "bc903b36-4d22-402b-97c7-076fc3273b4a"
   },
   "outputs": [],
   "source": [
    "df.head(10)  # Displays the first 10 rows of the DataFrame"
   ]
  },
  {
   "cell_type": "markdown",
   "metadata": {
    "id": "2gSwrp8Ogq84"
   },
   "source": [
    "**df.tail(n):**\n",
    "The df.tail(n) method is similar to df.head(n) but for the end of the DataFrame. It returns the last n rows. This is useful to see the most recent or the last few entries in your data, depending on the ordering of your dataset. Like df.head(n), the default value of n is 5 if it isn't specified."
   ]
  },
  {
   "cell_type": "code",
   "execution_count": null,
   "metadata": {
    "colab": {
     "base_uri": "https://localhost:8080/",
     "height": 1000
    },
    "id": "_1hgt-Gqgv_Q",
    "outputId": "11a4066b-1bcd-4859-d9e7-f78b6973efcc"
   },
   "outputs": [],
   "source": [
    "df.tail(10)  # Displays the last 10 rows of the DataFrame"
   ]
  },
  {
   "cell_type": "markdown",
   "metadata": {
    "id": "b3mUPNFRgwir"
   },
   "source": [
    "**df.shape:**\n",
    "The df.shape attribute of a DataFrame returns a tuple representing the dimensionality of the DataFrame. The first element of the tuple is the number of rows, and the second is the number of columns. This is useful when you need to know how large the dataset is, such as when you are preprocessing data or ensuring that data manipulations have executed correctly."
   ]
  },
  {
   "cell_type": "code",
   "execution_count": null,
   "metadata": {
    "colab": {
     "base_uri": "https://localhost:8080/"
    },
    "id": "msGiNn7mgzYM",
    "outputId": "68ca248c-9469-4afc-cd62-63a8d0339ced"
   },
   "outputs": [],
   "source": [
    "df.shape  # Outputs: (number of rows, number of columns)"
   ]
  },
  {
   "cell_type": "markdown",
   "metadata": {
    "id": "eqZ9tE4cg3Tw"
   },
   "source": [
    "**df.columns:**\n",
    "The df.columns attribute returns an Index object containing the column labels of the DataFrame. Knowing the column names is essential for accessing specific data in the DataFrame, performing analyses, and for data manipulation tasks like sorting, filtering, or applying functions to certain columns."
   ]
  },
  {
   "cell_type": "code",
   "execution_count": null,
   "metadata": {
    "colab": {
     "base_uri": "https://localhost:8080/"
    },
    "id": "7BvjVJxiI1LK",
    "outputId": "e94e78c8-75a2-4524-e842-5607b5ef1ca9"
   },
   "outputs": [],
   "source": [
    "df.columns  # Lists all the column names in the DataFrame"
   ]
  },
  {
   "cell_type": "markdown",
   "metadata": {
    "id": "Zm-wshXSe8tF"
   },
   "source": [
    "**Inspecting Data Types:** Each column in a DataFrame has a specific data type. Understanding these types is crucial for proper data manipulation"
   ]
  },
  {
   "cell_type": "code",
   "execution_count": null,
   "metadata": {
    "colab": {
     "base_uri": "https://localhost:8080/"
    },
    "id": "w9_AKQ2AfO0x",
    "outputId": "d9e98983-9f5d-4ff3-ac95-4dfde3bbe797"
   },
   "outputs": [],
   "source": [
    "# Display the data types of each column\n",
    "df.dtypes"
   ]
  },
  {
   "cell_type": "markdown",
   "metadata": {
    "id": "ZY8GZVPXfNBY"
   },
   "source": [
    "**Summary Statistics:** For numerical data, it's useful to get a sense of their central tendency and spread"
   ]
  },
  {
   "cell_type": "code",
   "execution_count": null,
   "metadata": {
    "colab": {
     "base_uri": "https://localhost:8080/",
     "height": 320
    },
    "id": "-mJHXR-IfUGg",
    "outputId": "6d3f9bd5-1b55-417c-d628-2520b6b80a1b"
   },
   "outputs": [],
   "source": [
    "# Display summary statistics for numerical columns\n",
    "df.describe()"
   ]
  },
  {
   "cell_type": "markdown",
   "metadata": {
    "id": "GkczPuezfWQR"
   },
   "source": [
    "# Accessing and Filtering:"
   ]
  },
  {
   "cell_type": "markdown",
   "metadata": {
    "id": "lH8DFi86hsKA"
   },
   "source": [
    "**df.loc:**\n",
    "The df.loc method is used for label-based indexing, meaning you can access rows and columns using their labels (i.e., index names and column names). It allows for selecting a subset of rows and columns from a DataFrame with powerful and flexible slicing, indexing, and filtering options."
   ]
  },
  {
   "cell_type": "code",
   "execution_count": null,
   "metadata": {
    "colab": {
     "base_uri": "https://localhost:8080/",
     "height": 643
    },
    "id": "2j8ZoB_bJPBS",
    "outputId": "43116904-90d4-42d9-89d6-9bd0f1a561b2"
   },
   "outputs": [],
   "source": [
    "df.head(5)"
   ]
  },
  {
   "cell_type": "code",
   "execution_count": null,
   "metadata": {
    "colab": {
     "base_uri": "https://localhost:8080/"
    },
    "id": "8Ry2uOMlhu-x",
    "outputId": "57ec1e63-bc5d-497a-827f-f6b1531ce60d"
   },
   "outputs": [],
   "source": [
    "# Selecting all rows and a specific column by label\n",
    "titles = df.loc[:, 'title']\n",
    "titles"
   ]
  },
  {
   "cell_type": "code",
   "execution_count": null,
   "metadata": {
    "colab": {
     "base_uri": "https://localhost:8080/",
     "height": 394
    },
    "id": "1ptm_IVCJtkA",
    "outputId": "106b9b4a-5fa3-45e3-fbb2-34f423c5b52b"
   },
   "outputs": [],
   "source": [
    "# Selecting a range of rows and multiple columns by labels\n",
    "subset = df.loc[10:20, ['title', 'year', 'genre']]\n",
    "subset"
   ]
  },
  {
   "cell_type": "code",
   "execution_count": null,
   "metadata": {
    "colab": {
     "base_uri": "https://localhost:8080/",
     "height": 1000
    },
    "id": "b0ZQNM9XJY8k",
    "outputId": "167d6177-4891-4a7d-8518-4f20126043b4"
   },
   "outputs": [],
   "source": [
    "# Conditional selection using a boolean array\n",
    "dramas = df.loc[df['genre'] == 'Drama']\n",
    "dramas"
   ]
  },
  {
   "cell_type": "code",
   "execution_count": null,
   "metadata": {
    "colab": {
     "base_uri": "https://localhost:8080/",
     "height": 1000
    },
    "id": "lUZXJovEKfty",
    "outputId": "c334fb0c-5027-484d-8ab6-19ecf33c1f15"
   },
   "outputs": [],
   "source": [
    "multiple_condition = df.loc[(df['genre'] == 'Drama') & (df['avg_vote']>7.0)]\n",
    "multiple_condition"
   ]
  },
  {
   "cell_type": "markdown",
   "metadata": {
    "id": "pVeFgPH9humj"
   },
   "source": [
    "**df.iloc:**\n",
    "While df.loc uses labels for indexing, df.iloc allows for integer-based indexing. You use df.iloc to access rows and columns by their integer positions, which makes it useful when you need to access data by its position in the DataFrame."
   ]
  },
  {
   "cell_type": "code",
   "execution_count": null,
   "metadata": {
    "colab": {
     "base_uri": "https://localhost:8080/",
     "height": 643
    },
    "id": "XjJHDygNLE1A",
    "outputId": "eb0b023a-7473-4f6c-ee0c-1d9cae9128ec"
   },
   "outputs": [],
   "source": [
    "df.head(5)"
   ]
  },
  {
   "cell_type": "code",
   "execution_count": null,
   "metadata": {
    "colab": {
     "base_uri": "https://localhost:8080/"
    },
    "id": "MZHvP0y8h2EJ",
    "outputId": "7e3d1155-7b34-4b4a-c0d8-930ef862a3da"
   },
   "outputs": [],
   "source": [
    "# Selecting a single row from the DataFrame\n",
    "single_row = df.iloc[0]\n",
    "single_row"
   ]
  },
  {
   "cell_type": "code",
   "execution_count": null,
   "metadata": {
    "colab": {
     "base_uri": "https://localhost:8080/"
    },
    "id": "QxggOQSZK3jQ",
    "outputId": "a257fe48-3f9b-4319-f286-4139af7be2fe"
   },
   "outputs": [],
   "source": [
    "# Selecting a specific row and columns by integer indices\n",
    "specific_data = df.iloc[10, [1, 2, 3]]  # row at index 10 and columns at indices 1, 2, and 3\n",
    "specific_data"
   ]
  },
  {
   "cell_type": "code",
   "execution_count": null,
   "metadata": {
    "colab": {
     "base_uri": "https://localhost:8080/",
     "height": 206
    },
    "id": "2SF-px1LK6Yg",
    "outputId": "42723816-9a0e-4233-f6a0-5788e0fae059"
   },
   "outputs": [],
   "source": [
    "# Slicing to get multiple rows and columns\n",
    "multi_slice = df.iloc[10:15, 0:4]  # Rows 10 to 14 and columns 0 to 3\n",
    "multi_slice"
   ]
  },
  {
   "cell_type": "markdown",
   "metadata": {
    "id": "uUxV7uR8h4Pe"
   },
   "source": [
    "**df.at:**\n",
    "df.at is designed to access a single value for a row/column label pair. It is very similar to df.loc for accessing scalar values but is optimized for faster access when you only need to get or set a single value in a DataFrame."
   ]
  },
  {
   "cell_type": "code",
   "execution_count": null,
   "metadata": {
    "colab": {
     "base_uri": "https://localhost:8080/",
     "height": 35
    },
    "id": "LFXdBJ0Th7P7",
    "outputId": "db1c00fd-a120-4930-dc03-95371b6c6b86"
   },
   "outputs": [],
   "source": [
    "# Access a specific single value using row label and column name\n",
    "title_of_first_movie = df.at[0, 'title']\n",
    "title_of_first_movie"
   ]
  },
  {
   "cell_type": "markdown",
   "metadata": {
    "id": "GmTA3kkDh6-w"
   },
   "source": [
    "**Filtering Based on Criteria:**\n",
    "Filtering data based on specific criteria is a common operation in data analysis. Pandas provides several methods to perform these operations, often using boolean indexing."
   ]
  },
  {
   "cell_type": "code",
   "execution_count": null,
   "metadata": {
    "colab": {
     "base_uri": "https://localhost:8080/",
     "height": 1000
    },
    "id": "haz1yY73iNt9",
    "outputId": "7cb1d0a4-decf-40eb-b7ba-59dfd4fece5b"
   },
   "outputs": [],
   "source": [
    "# Filter movies released after 2010\n",
    "recent_movies = df[df['year'] > 2010]\n",
    "recent_movies"
   ]
  },
  {
   "cell_type": "code",
   "execution_count": null,
   "metadata": {
    "colab": {
     "base_uri": "https://localhost:8080/",
     "height": 1000
    },
    "id": "sGw--QySiUxA",
    "outputId": "1c108a6e-2d8b-4c69-8bc2-1cf05f92ff43"
   },
   "outputs": [],
   "source": [
    "# Movies with a high public vote and specific genre\n",
    "highly_rated_thrillers = df[(df['public_vote'] >= 8) & (df['genre'] == 'Thriller')]\n",
    "highly_rated_thrillers"
   ]
  },
  {
   "cell_type": "code",
   "execution_count": null,
   "metadata": {
    "colab": {
     "base_uri": "https://localhost:8080/",
     "height": 1000
    },
    "id": "kCJSHIEBiVe1",
    "outputId": "b30eda52-4fe0-4c74-fb05-b7d16e270007"
   },
   "outputs": [],
   "source": [
    "# Movies from a specific country\n",
    "us_movies = df[df['country'] == 'United States']\n",
    "us_movies"
   ]
  },
  {
   "cell_type": "markdown",
   "metadata": {
    "id": "FIkwzqNnkYzS"
   },
   "source": [
    "# Updating Rows and Columns"
   ]
  },
  {
   "cell_type": "markdown",
   "metadata": {
    "id": "KTRiHUAwuKbk"
   },
   "source": [
    "**df.drop:**\n",
    "The .drop() method in pandas is used to remove rows or columns from a DataFrame. Its primary purpose is to drop specified labels from rows or columns.\n",
    "\n",
    "**Parameters:**\n",
    "\n",
    "**labels:** The row or column labels to drop.\n",
    "\n",
    "**axis:** Specifies whether the labels refer to rows (axis=0) or columns (axis=1). By default, it's 0 (rows).\n",
    "\n",
    "**index or columns:** An alternative way to specify the labels to drop, instead of using the labels parameter. It is equivalent to specifying axis=0 (for index) or axis=1 (for columns).\n",
    "\n",
    "**inplace:** If True, the operation is done in place, meaning it modifies the DataFrame directly and returns None. If False or not specified, it returns a new DataFrame with the specified labels dropped."
   ]
  },
  {
   "cell_type": "code",
   "execution_count": null,
   "metadata": {
    "colab": {
     "base_uri": "https://localhost:8080/",
     "height": 1000
    },
    "id": "lIH8yUYIuJiR",
    "outputId": "cb09d007-e623-46a3-ca0b-758316332653"
   },
   "outputs": [],
   "source": [
    "df.drop(labels='title',axis=1)"
   ]
  },
  {
   "cell_type": "code",
   "execution_count": null,
   "metadata": {
    "colab": {
     "base_uri": "https://localhost:8080/",
     "height": 1000
    },
    "id": "T1_yN2X9MfRl",
    "outputId": "7edd85bd-fa3b-40a0-e22b-248c8abaa20e"
   },
   "outputs": [],
   "source": [
    "df"
   ]
  },
  {
   "cell_type": "markdown",
   "metadata": {
    "id": "yCqkG9NNkqWf"
   },
   "source": [
    "**Direct Assignment:**\n",
    "Directly assign a value to a specific column or even a cell in a DataFrame."
   ]
  },
  {
   "cell_type": "code",
   "execution_count": null,
   "metadata": {
    "colab": {
     "base_uri": "https://localhost:8080/",
     "height": 643
    },
    "id": "FQho7VaJks0i",
    "outputId": "4ec394e3-89b8-40d3-ca75-9783109b09ca"
   },
   "outputs": [],
   "source": [
    "df.at[0, 'year'] = 1983  # Changes the year of the first movie to 1983\n",
    "df.head(5)"
   ]
  },
  {
   "cell_type": "code",
   "execution_count": null,
   "metadata": {
    "colab": {
     "base_uri": "https://localhost:8080/",
     "height": 1000
    },
    "id": "J1GZ3R62k1gB",
    "outputId": "df9c5aa3-f2d1-4364-ac23-391d2968a5e7"
   },
   "outputs": [],
   "source": [
    "df['new_column'] = 'default value'  # Adds a new column with all entries set to 'default value'\n",
    "df"
   ]
  },
  {
   "cell_type": "code",
   "execution_count": null,
   "metadata": {
    "id": "fp3vj-3ENAls"
   },
   "outputs": [],
   "source": [
    "df.drop(axis=1,labels='new_column',inplace=True)"
   ]
  },
  {
   "cell_type": "code",
   "execution_count": null,
   "metadata": {
    "colab": {
     "base_uri": "https://localhost:8080/",
     "height": 643
    },
    "id": "TjSuOqX4NLfG",
    "outputId": "616c4434-737b-4d2f-af5c-98d5d300dd28"
   },
   "outputs": [],
   "source": [
    "df.head(5)"
   ]
  },
  {
   "cell_type": "markdown",
   "metadata": {
    "id": "-UhBoTNgkusV"
   },
   "source": [
    "**Using loc for Conditional Updates:**\n",
    "loc can be used to update rows and columns based on a condition."
   ]
  },
  {
   "cell_type": "code",
   "execution_count": null,
   "metadata": {
    "colab": {
     "base_uri": "https://localhost:8080/",
     "height": 1000
    },
    "id": "ynVhU_cFk6DI",
    "outputId": "2b239bc3-cc1e-4cf2-a968-f5005ac0128a"
   },
   "outputs": [],
   "source": [
    "df.loc[df['year'] < 2000, 'classic'] = True  # Marks movies before 2000 as classic\n",
    "df"
   ]
  },
  {
   "cell_type": "code",
   "execution_count": null,
   "metadata": {
    "id": "MF5haI7Tk8W1"
   },
   "outputs": [],
   "source": [
    "df.loc[df['avg_vote'] > 6, ['top_rated', 'must_watch']] = [True, True] # Modifying multiple columns using loc"
   ]
  },
  {
   "cell_type": "code",
   "execution_count": null,
   "metadata": {
    "colab": {
     "base_uri": "https://localhost:8080/",
     "height": 1000
    },
    "id": "McIDI4NrNlCd",
    "outputId": "24687177-bfde-4c4e-860e-f9ed230a4143"
   },
   "outputs": [],
   "source": [
    "df"
   ]
  },
  {
   "cell_type": "markdown",
   "metadata": {
    "id": "p3PMrHwDlBoF"
   },
   "source": [
    "**Using apply Function:**\n",
    "The apply function allows you to apply a function along an axis of the DataFrame."
   ]
  },
  {
   "cell_type": "code",
   "execution_count": null,
   "metadata": {
    "colab": {
     "base_uri": "https://localhost:8080/",
     "height": 1000
    },
    "id": "pwX3nHDMlFLJ",
    "outputId": "4a66240f-14d8-44f2-918a-1ec2716b6b1d"
   },
   "outputs": [],
   "source": [
    "df['length_category'] = df['duration'].apply(lambda x: 'Long' if x > 120 else 'Short')\n",
    "df"
   ]
  },
  {
   "cell_type": "code",
   "execution_count": null,
   "metadata": {
    "id": "I6sbesLWPiWl"
   },
   "outputs": [],
   "source": [
    "# Create a DataFrame with multiple Series\n",
    "data = {\n",
    "    'A': [1, 2, 3],\n",
    "    'B': [4, 5, 6],\n",
    "    'C': [7, 8, 9]\n",
    "}\n",
    "num_data = pd.DataFrame(data)"
   ]
  },
  {
   "cell_type": "code",
   "execution_count": null,
   "metadata": {
    "colab": {
     "base_uri": "https://localhost:8080/",
     "height": 143
    },
    "id": "i-uG0LxEPql5",
    "outputId": "b9a388b6-acfd-4dd6-c25c-e2cc7b9e210a"
   },
   "outputs": [],
   "source": [
    "num_data"
   ]
  },
  {
   "cell_type": "code",
   "execution_count": null,
   "metadata": {
    "colab": {
     "base_uri": "https://localhost:8080/"
    },
    "id": "zOEFAptLPtey",
    "outputId": "5c3be85d-7316-4b00-dbcd-a3fcbf24e9c0"
   },
   "outputs": [],
   "source": [
    "# Define a function to sum two Series\n",
    "def sum_series(x, y):\n",
    "    return x + y\n",
    "\n",
    "# Apply the function on multiple Series using apply()\n",
    "result = num_data.apply(lambda row: sum_series(row['A'], row['B']), axis=1)\n",
    "\n",
    "# Print the result\n",
    "print(result)"
   ]
  },
  {
   "cell_type": "markdown",
   "metadata": {
    "id": "OO_r49WnlI1R"
   },
   "source": [
    "**Updating Using map or replace:**\n",
    "You can update a column based on a mapping dictionary or replace values."
   ]
  },
  {
   "cell_type": "code",
   "execution_count": null,
   "metadata": {
    "colab": {
     "base_uri": "https://localhost:8080/"
    },
    "id": "ZqRU2nYRlLaH",
    "outputId": "f3743104-ff82-489c-fb1f-75d5064dbf69"
   },
   "outputs": [],
   "source": [
    "df['genre'].map({'Drama': 'Drama Film', 'Comedy': 'Comedy Film'}) # Mapping existing values to new ones"
   ]
  },
  {
   "cell_type": "code",
   "execution_count": null,
   "metadata": {
    "colab": {
     "base_uri": "https://localhost:8080/",
     "height": 1000
    },
    "id": "9NE-1W0nlPgF",
    "outputId": "419f87ed-16bc-49cf-9b56-95192cce692a"
   },
   "outputs": [],
   "source": [
    "df['country'].replace('USA', 'United States', inplace=True) # Replacing specific values\n",
    "df"
   ]
  },
  {
   "cell_type": "markdown",
   "metadata": {
    "id": "mMXDR_OtlTWs"
   },
   "source": [
    "**Adding New Columns Based on Calculations:**\n",
    "You can create new columns based on calculations from existing columns."
   ]
  },
  {
   "cell_type": "code",
   "execution_count": null,
   "metadata": {
    "colab": {
     "base_uri": "https://localhost:8080/",
     "height": 1000
    },
    "id": "lgoj4nL7lWh1",
    "outputId": "12aa3d27-b17d-40c0-ee17-a92bf43dc21f"
   },
   "outputs": [],
   "source": [
    "df['title_year'] = df['title'] + \" (\" + df['year'].astype(str) + \")\" # Creating a new column by combining existing columns\n",
    "df"
   ]
  },
  {
   "cell_type": "markdown",
   "metadata": {
    "id": "1KxX1HVVlgez"
   },
   "source": [
    "**Using assign to Create Columns:**\n",
    "assign helps you add new columns to a DataFrame in a functional style."
   ]
  },
  {
   "cell_type": "code",
   "execution_count": null,
   "metadata": {
    "id": "WGqzBopZljaT"
   },
   "outputs": [],
   "source": [
    "df = df.assign(\n",
    "    is_older=lambda x: x['year'] < 2000,\n",
    "    duration_hours=lambda x: x['duration'] / 60\n",
    ") # Adding multiple new columns"
   ]
  },
  {
   "cell_type": "code",
   "execution_count": null,
   "metadata": {
    "colab": {
     "base_uri": "https://localhost:8080/",
     "height": 1000
    },
    "id": "Kg51jEL4Q5JX",
    "outputId": "c7c22311-2005-447a-f7d0-d1e97c3f3638"
   },
   "outputs": [],
   "source": [
    "df"
   ]
  },
  {
   "cell_type": "markdown",
   "metadata": {
    "id": "GGYBrfl2my08"
   },
   "source": [
    "# Changing the name of Index\n",
    "Pandas allows you to rename the index of a DataFrame or Series, which can help in making the index more informative or aligning it with new data requirements."
   ]
  },
  {
   "cell_type": "markdown",
   "metadata": {
    "id": "L7VbbTZ5m8fr"
   },
   "source": [
    "**Renaming the Index of a DataFrame:**"
   ]
  },
  {
   "cell_type": "code",
   "execution_count": null,
   "metadata": {
    "id": "nT1xmXjRm-ff"
   },
   "outputs": [],
   "source": [
    "df.index.names = ['movie_id']  # Renames the index to 'movie_id'"
   ]
  },
  {
   "cell_type": "code",
   "execution_count": null,
   "metadata": {
    "colab": {
     "base_uri": "https://localhost:8080/",
     "height": 1000
    },
    "id": "BQD7H8QgTF6t",
    "outputId": "c9148c73-edd9-4210-9e78-5730e88bb5af"
   },
   "outputs": [],
   "source": [
    "df"
   ]
  },
  {
   "cell_type": "markdown",
   "metadata": {
    "id": "um8OjTDEnHO6"
   },
   "source": [
    "**Renaming Column Indexes:**"
   ]
  },
  {
   "cell_type": "code",
   "execution_count": null,
   "metadata": {
    "colab": {
     "base_uri": "https://localhost:8080/",
     "height": 1000
    },
    "id": "DbKOMzUcnJ_s",
    "outputId": "ff60ea13-6169-4e33-a9ad-0ff56f1fc941"
   },
   "outputs": [],
   "source": [
    "df.rename(columns={'year': 'release_year', 'title': 'movie_title'}, inplace=True)\n",
    "df"
   ]
  },
  {
   "cell_type": "markdown",
   "metadata": {
    "id": "9RsPCVenwYDi"
   },
   "source": [
    "# Display Options"
   ]
  },
  {
   "cell_type": "code",
   "execution_count": null,
   "metadata": {
    "id": "KqihwBAqwZ9L"
   },
   "outputs": [],
   "source": [
    "# Set maximum number of rows and columns to display\n",
    "pd.set_option('display.max_rows', 7)\n",
    "pd.set_option('display.max_columns', 5)"
   ]
  },
  {
   "cell_type": "code",
   "execution_count": null,
   "metadata": {
    "colab": {
     "base_uri": "https://localhost:8080/",
     "height": 330
    },
    "id": "VZxjqzeKTVm2",
    "outputId": "4b71a894-ed44-4491-ca91-eba2376f360c"
   },
   "outputs": [],
   "source": [
    "df"
   ]
  },
  {
   "cell_type": "code",
   "execution_count": null,
   "metadata": {
    "id": "mP43bXRBwkPf"
   },
   "outputs": [],
   "source": [
    "# Reset Options\n",
    "pd.reset_option('display')"
   ]
  },
  {
   "cell_type": "code",
   "execution_count": null,
   "metadata": {
    "colab": {
     "base_uri": "https://localhost:8080/",
     "height": 1000
    },
    "id": "QerbWz7uThFx",
    "outputId": "95dd6017-50b0-4e5f-aa94-bf90b025585f"
   },
   "outputs": [],
   "source": [
    "df"
   ]
  },
  {
   "cell_type": "markdown",
   "metadata": {
    "id": "TMZT44AjnRyr"
   },
   "source": [
    "# Grouping Data:\n",
    "Grouping data is a powerful way to perform segment-wise analysis and break down the dataset into chunks based on some criteria."
   ]
  },
  {
   "cell_type": "code",
   "execution_count": null,
   "metadata": {
    "colab": {
     "base_uri": "https://localhost:8080/"
    },
    "id": "q2d5BXPBne3V",
    "outputId": "ba212cb5-6371-45e8-8530-1cbc962b3b77"
   },
   "outputs": [],
   "source": [
    "genre_groups = df.groupby('genre')  # Groups the data by the 'genre' column\n",
    "genre_groups"
   ]
  },
  {
   "cell_type": "code",
   "execution_count": null,
   "metadata": {
    "colab": {
     "base_uri": "https://localhost:8080/"
    },
    "id": "mT_Wm3ccT_63",
    "outputId": "79b5c037-ddab-4dc9-9a78-08573e3b3621"
   },
   "outputs": [],
   "source": [
    "for genre, group_data in genre_groups:\n",
    "    print(f\"Genre: {genre}\")\n",
    "    print(group_data)\n",
    "    print()"
   ]
  },
  {
   "cell_type": "code",
   "execution_count": null,
   "metadata": {
    "id": "o3icScnCnfdW"
   },
   "outputs": [],
   "source": [
    "year_genre_groups = df.groupby(['release_year', 'genre'])  # Groups by year and genre"
   ]
  },
  {
   "cell_type": "markdown",
   "metadata": {
    "id": "UnJY2RCXnZs4"
   },
   "source": [
    "# Aggregation\n",
    "\n",
    "After grouping, you might want to perform aggregation operations like sum, mean, count, etc., to summarize the data."
   ]
  },
  {
   "cell_type": "code",
   "execution_count": null,
   "metadata": {
    "colab": {
     "base_uri": "https://localhost:8080/"
    },
    "id": "IVhmBgkrnsWn",
    "outputId": "91990ee1-acc1-4594-bb53-8482a3bd4259"
   },
   "outputs": [],
   "source": [
    "# Simple Aggregation - Calculating the Average\n",
    "avg_duration_by_genre = df.groupby('genre')['duration'].mean()  # Average duration per genre\n",
    "print(avg_duration_by_genre)"
   ]
  },
  {
   "cell_type": "code",
   "execution_count": null,
   "metadata": {
    "colab": {
     "base_uri": "https://localhost:8080/"
    },
    "id": "avLqmf01nuIK",
    "outputId": "5a399ba3-7e17-4b12-c968-4fdd865f6f65"
   },
   "outputs": [],
   "source": [
    "# Multiple Aggregations on a Single Column\n",
    "stats_by_genre = df.groupby('genre')['avg_vote'].agg([np.mean, np.std, np.min, np.max])\n",
    "print(stats_by_genre)"
   ]
  },
  {
   "cell_type": "code",
   "execution_count": null,
   "metadata": {
    "id": "teN6wK4OnvhO"
   },
   "outputs": [],
   "source": [
    "# Different Aggregations for Different Columns\n",
    "complex_aggregation = df.groupby('genre').agg({\n",
    "    'duration': np.mean,  # average duration\n",
    "    'avg_vote': [np.min, np.max],  # min and max average votes\n",
    "    'public_vote': 'sum'  # total of public votes\n",
    "})"
   ]
  },
  {
   "cell_type": "code",
   "execution_count": null,
   "metadata": {
    "colab": {
     "base_uri": "https://localhost:8080/",
     "height": 1000
    },
    "id": "TIH-fsmLUy-j",
    "outputId": "706482c5-364a-47a5-b4fa-e270cf7cc745"
   },
   "outputs": [],
   "source": [
    "complex_aggregation"
   ]
  },
  {
   "cell_type": "markdown",
   "metadata": {
    "id": "ZmF9ufPZoCpc"
   },
   "source": [
    "**Aggregating Without Grouping:**\n",
    "Sometimes, you may want to perform aggregations without the need to group the data."
   ]
  },
  {
   "cell_type": "code",
   "execution_count": null,
   "metadata": {
    "colab": {
     "base_uri": "https://localhost:8080/",
     "height": 300
    },
    "id": "SJLG8cR2n64S",
    "outputId": "1ea878a9-c5b3-4b0d-cb49-1c768f783450"
   },
   "outputs": [],
   "source": [
    "# Overall Summary Statistics\n",
    "overall_stats = df[['duration', 'avg_vote']].describe()\n",
    "overall_stats"
   ]
  },
  {
   "cell_type": "markdown",
   "metadata": {
    "id": "uEBFSyNJxd5k"
   },
   "source": [
    "**df.count():** This method returns the number of non-null values in each DataFrame column. It can be used to count the number of non-null values in each column individually."
   ]
  },
  {
   "cell_type": "code",
   "execution_count": null,
   "metadata": {
    "colab": {
     "base_uri": "https://localhost:8080/"
    },
    "id": "BbGre-gBxjdS",
    "outputId": "f2098536-c6b2-4e3a-affd-a8e7a715af82"
   },
   "outputs": [],
   "source": [
    "# Create a DataFrame\n",
    "data = {'A': [1, 2, None], 'B': [4, None, 6], 'C': [5, 8, 9]}\n",
    "data_df = pd.DataFrame(data)\n",
    "\n",
    "# Count non-null values in each column\n",
    "counts = data_df.count()\n",
    "print(counts)"
   ]
  },
  {
   "cell_type": "markdown",
   "metadata": {
    "id": "BD0qpunGxuzU"
   },
   "source": [
    "**df.value_counts():** This method returns the frequency counts of unique values in a Series. It is typically used on a single column of the DataFrame and is useful for analyzing the distribution of values within that column."
   ]
  },
  {
   "cell_type": "code",
   "execution_count": null,
   "metadata": {
    "colab": {
     "base_uri": "https://localhost:8080/"
    },
    "id": "UFkn9kdCw8yD",
    "outputId": "7fe9f8a5-12e4-40db-ba87-1c860ab69a84"
   },
   "outputs": [],
   "source": [
    "# Value Counts\n",
    "df['movie_title'].value_counts()"
   ]
  },
  {
   "cell_type": "markdown",
   "metadata": {
    "id": "YO1ElQcQoL1O"
   },
   "source": [
    "**Custom Aggregation Functions:**\n",
    "Pandas allows you to define and use custom aggregation functions for more specific data analysis needs."
   ]
  },
  {
   "cell_type": "code",
   "execution_count": null,
   "metadata": {
    "colab": {
     "base_uri": "https://localhost:8080/"
    },
    "id": "ajulsVcGoHeC",
    "outputId": "e21109dd-5ea4-4452-d2df-ffe08d97d9bc"
   },
   "outputs": [],
   "source": [
    "# Using a Custom Function for Aggregation\n",
    "def range_func(series):\n",
    "    return series.max() - series.min()\n",
    "\n",
    "range_by_genre = df.groupby('genre')['duration'].agg(range_func)  # Range of durations by genre\n",
    "range_by_genre"
   ]
  },
  {
   "cell_type": "markdown",
   "metadata": {
    "id": "a0PO_RtNoSOm"
   },
   "source": [
    "**Renaming Grouped Aggregation Results:**\n",
    "It is often useful to rename the results of aggregations for clarity or further analysis."
   ]
  },
  {
   "cell_type": "code",
   "execution_count": null,
   "metadata": {
    "colab": {
     "base_uri": "https://localhost:8080/",
     "height": 1000
    },
    "id": "aLF-wuVaoVhQ",
    "outputId": "756a59ae-82b0-4488-f1d2-79af31366e87"
   },
   "outputs": [],
   "source": [
    "# Renaming Aggregation Results\n",
    "renamed_aggregations = df.groupby('genre')['avg_vote'].agg([\n",
    "    ('Average Rating', 'mean'),  # Renames the mean result to 'Average Rating'\n",
    "    ('Rating Standard Deviation', 'std')  # Renames the std result to 'Rating Standard Deviation'\n",
    "])\n",
    "renamed_aggregations"
   ]
  }
 ],
 "metadata": {
  "colab": {
   "provenance": []
  },
  "kernelspec": {
   "display_name": "Python 3 (ipykernel)",
   "language": "python",
   "name": "python3"
  },
  "language_info": {
   "codemirror_mode": {
    "name": "ipython",
    "version": 3
   },
   "file_extension": ".py",
   "mimetype": "text/x-python",
   "name": "python",
   "nbconvert_exporter": "python",
   "pygments_lexer": "ipython3",
   "version": "3.11.5"
  }
 },
 "nbformat": 4,
 "nbformat_minor": 1
}
