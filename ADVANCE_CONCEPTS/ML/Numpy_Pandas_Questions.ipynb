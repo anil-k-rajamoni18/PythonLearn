{
 "cells": [
  {
   "cell_type": "markdown",
   "id": "e2a353ae",
   "metadata": {},
   "source": [
    "### Numpy Questions\n",
    "\n",
    "    Q1.Create an Array\n",
    "        Create a 1-dimensional NumPy array with values from 0 to 9.\n",
    "        Create a 2-dimensional NumPy array of shape (3, 3) with values from 1 to 9.\n",
    "\n",
    "    Q2.Array Indexing and Slicing\n",
    "        Given the array arr = np.arange(10), extract the first five elements.\n",
    "        From the array arr = np.array([[1, 2, 3], [4, 5, 6], [7, 8, 9]]),extract the element in the second row and third column.\n",
    "\n",
    "    Q3.Basic Array Manipulations\n",
    "        Create an array of shape (4, 4) filled with the value 7.\n",
    "        Reshape the array arr = np.arange(16) into a 4x4 matrix.\n",
    "        \n",
    "        \n",
    "    Q4.Arithmetic Operations\n",
    "       Perform element-wise addition, subtraction, multiplication, and division on two arrays: a = np.array([1, 2, 3, 4]) and b = np.array([5, 6, 7, 8]).\n",
    "\n",
    "    Q5.Matrix Operations\n",
    "        Create two matrices A and B, and perform matrix multiplication.\n",
    "        Find the transpose of a given matrix M.\n",
    "\n",
    "    Q6.Statistical Operations\n",
    "      Calculate the mean, median, and standard deviation of the array data = np.random.randn(100).\n",
    "      \n",
    "      \n",
    "    Q7.Array Broadcasting\n",
    "    Use broadcasting to add a 1-dimensional array [1, 2, 3] to each row of a 2-dimensional array arr = np.array([[4, 5, 6], [7, 8, 9]]).\n",
    "\n",
    "    Q8.Boolean Indexing\n",
    "    Given an array data = np.random.randint(0, 100, size=(10,)), create a new array containing only the even numbers from data.\n",
    "\n",
    "    Q9.Fancy Indexing\n",
    "    From the array arr = np.array([10, 20, 30, 40, 50, 60]), extract the elements at indices [1, 3, 4]\n",
    "    \n",
    "    Q10.Solve Linear Systems\n",
    "     Solve the system of linear equations Ax=BAx=B, where A = np.array([[3, 1], [1, 2]]) and B = np.array([9, 8])."
   ]
  },
  {
   "cell_type": "code",
   "execution_count": null,
   "id": "b7a2977a",
   "metadata": {},
   "outputs": [],
   "source": []
  },
  {
   "cell_type": "markdown",
   "id": "91d02416",
   "metadata": {},
   "source": [
    "    Q11.Random Sampling\n",
    "    Generate a 3x3 array of random numbers from a normal distribution with mean 0 and standard deviation 1.\n",
    "\n",
    "    Q12.Descriptive Statistics\n",
    "    Compute the minimum, maximum, and sum of the elements in the array data = np.random.random((3, 4)).\n",
    "\n",
    "\n",
    "    Q13.Image Processing\n",
    "    Convert a random 3D array to an image-like structure (e.g., shape (100, 100, 3)) and normalize its values between 0 and 1.\n",
    "\n",
    "    Q14.Data Analysis\n",
    "    Given a 2D array representing some data, calculate the row-wise and column-wise sums.\n",
    "    \n",
    "    Q15.Speed Comparison\n",
    "    Compare the performance of a loop-based summation and a vectorized summation using NumPy for a large array, e.g., np.arange(1000000).\n",
    "    \n",
    "    Q16.Stacking Arrays\n",
    "    Given two arrays a = np.array([1, 2, 3]) and b = np.array([4, 5, 6]), stack them vertically and horizontally\n",
    "    \n",
    "    Q17.Splitting Arrays\n",
    "    Split the array arr = np.arange(9).reshape(3, 3) into three equal-sized sub-arrays\n",
    "    \n",
    "    Q18.Basic Image Transformation\n",
    "    Load an image as a NumPy array and apply a simple transformation (e.g., convert to grayscale).\n",
    "    \n",
    "    Q19.Image Slicing\n",
    "    Extract a specific region of interest (ROI) from an image array.\n",
    "    \n",
    "    Q20.Handling Missing Data\n",
    "    Given an array with some missing values (use np.nan), fill these missing values with the mean of the array."
   ]
  },
  {
   "cell_type": "markdown",
   "id": "01935b5e",
   "metadata": {},
   "source": [
    "### Pandas Questions"
   ]
  },
  {
   "cell_type": "markdown",
   "id": "989610f4",
   "metadata": {},
   "source": [
    "    Q1.Creating DataFrames\n",
    "    Create a DataFrame from a dictionary with columns 'Name', 'Age', and 'City'. Add at least 5 rows of data.\n",
    "    \n",
    "    ```\n",
    "    data = {\n",
    "    'Name': ['Alice', 'Bob', 'Charlie', 'David', 'Eve', 'Frank', 'Grace', 'Hannah', 'Ian', 'Jack', np.nan, 'Liam'],\n",
    "    'Age': [24, np.nan, 22, 25, np.nan, 30, 27, 29, 21, np.nan, 26, 28],\n",
    "    'City': ['New York', np.nan, 'Los Angeles', 'Chicago', 'Houston', 'Phoenix', 'Philadelphia', np.nan, 'San Antonio', 'San Diego', 'Dallas', 'San Jose']\n",
    "    }```\n",
    "    Q2. Inspecting DataFrames\n",
    "    Load a CSV file into a DataFrame and display the first and last 5 rows.\n",
    "    Print the summary statistics of the DataFrame.\n",
    "    \n",
    "    Q3.Indexing and Selecting Data\n",
    "    Select the 'Name' column from the DataFrame.\n",
    "    Select rows where the 'Age' is greater than 30.\n",
    "    \n",
    "    Q4.Handling Missing Data\n",
    "    Identify missing values in a DataFrame.\n",
    "    Fill missing values with the mean of the respective column."
   ]
  },
  {
   "cell_type": "code",
   "execution_count": null,
   "id": "593d5ab9",
   "metadata": {},
   "outputs": [],
   "source": []
  },
  {
   "cell_type": "code",
   "execution_count": null,
   "id": "8d34f52d",
   "metadata": {},
   "outputs": [],
   "source": []
  },
  {
   "cell_type": "code",
   "execution_count": null,
   "id": "3769bbf6",
   "metadata": {},
   "outputs": [],
   "source": []
  },
  {
   "cell_type": "code",
   "execution_count": null,
   "id": "53e59ad7",
   "metadata": {},
   "outputs": [],
   "source": []
  },
  {
   "cell_type": "markdown",
   "id": "f0bb0757",
   "metadata": {},
   "source": [
    "### Questions on realtime dataset\n",
    "dataset url: https://raw.githubusercontent.com/plotly/datasets/master/us-cities-top-1k.csv\n"
   ]
  },
  {
   "cell_type": "markdown",
   "id": "ba26c037",
   "metadata": {},
   "source": [
    "#### Load the Dataset"
   ]
  },
  {
   "cell_type": "code",
   "execution_count": null,
   "id": "70fd5b30",
   "metadata": {},
   "outputs": [],
   "source": []
  },
  {
   "cell_type": "markdown",
   "id": "6a637ae1",
   "metadata": {},
   "source": [
    "#### Summary Statistics"
   ]
  },
  {
   "cell_type": "code",
   "execution_count": null,
   "id": "d7751a5b",
   "metadata": {},
   "outputs": [],
   "source": []
  },
  {
   "cell_type": "code",
   "execution_count": null,
   "id": "96838806",
   "metadata": {},
   "outputs": [],
   "source": []
  },
  {
   "cell_type": "markdown",
   "id": "78ee8e85",
   "metadata": {},
   "source": [
    "#### Handling Missing Values"
   ]
  },
  {
   "cell_type": "code",
   "execution_count": null,
   "id": "179d7f1b",
   "metadata": {},
   "outputs": [],
   "source": []
  },
  {
   "cell_type": "markdown",
   "id": "ac318a5a",
   "metadata": {},
   "source": [
    "### Data Analysis"
   ]
  },
  {
   "cell_type": "markdown",
   "id": "b5bb902a",
   "metadata": {},
   "source": [
    "#### Top 10 Cities by Population"
   ]
  },
  {
   "cell_type": "code",
   "execution_count": null,
   "id": "91153b08",
   "metadata": {},
   "outputs": [],
   "source": []
  },
  {
   "cell_type": "markdown",
   "id": "8e777724",
   "metadata": {},
   "source": [
    "#### Average Population by State"
   ]
  },
  {
   "cell_type": "code",
   "execution_count": null,
   "id": "a6120b00",
   "metadata": {},
   "outputs": [],
   "source": []
  },
  {
   "cell_type": "markdown",
   "id": "1d5a6c8b",
   "metadata": {},
   "source": [
    "#### City with Maximum Population in Each State"
   ]
  },
  {
   "cell_type": "code",
   "execution_count": null,
   "id": "f22157c0",
   "metadata": {},
   "outputs": [],
   "source": []
  },
  {
   "cell_type": "markdown",
   "id": "1a66433d",
   "metadata": {},
   "source": [
    "### Data Visualization"
   ]
  },
  {
   "cell_type": "markdown",
   "id": "9ee24c97",
   "metadata": {},
   "source": [
    "#### Population Distribution Histogram"
   ]
  },
  {
   "cell_type": "code",
   "execution_count": null,
   "id": "60603f7f",
   "metadata": {},
   "outputs": [],
   "source": []
  },
  {
   "cell_type": "markdown",
   "id": "4e1a5229",
   "metadata": {},
   "source": [
    "#### Top 10 Cities Population Bar Plot"
   ]
  },
  {
   "cell_type": "code",
   "execution_count": null,
   "id": "3863dc34",
   "metadata": {},
   "outputs": [],
   "source": []
  },
  {
   "cell_type": "markdown",
   "id": "205ec428",
   "metadata": {},
   "source": [
    "#### Population Correlation with Latitude and Longitude"
   ]
  },
  {
   "cell_type": "code",
   "execution_count": null,
   "id": "5a3ccd78",
   "metadata": {},
   "outputs": [],
   "source": []
  },
  {
   "cell_type": "markdown",
   "id": "2cb86f04",
   "metadata": {},
   "source": [
    "#### Population Density Calculation"
   ]
  },
  {
   "cell_type": "code",
   "execution_count": null,
   "id": "01c71b92",
   "metadata": {},
   "outputs": [],
   "source": []
  },
  {
   "cell_type": "markdown",
   "id": "7d3d4dad",
   "metadata": {},
   "source": [
    "#### City Population Growth Projection\n",
    "```\n",
    "Assume a uniform annual growth rate of 2% for each city's population. Project the population for each city for the next 5 years.\n",
    "```"
   ]
  },
  {
   "cell_type": "markdown",
   "id": "d7479820",
   "metadata": {},
   "source": [
    "#### Top States by Total Population"
   ]
  },
  {
   "cell_type": "code",
   "execution_count": null,
   "id": "270dc88c",
   "metadata": {},
   "outputs": [],
   "source": []
  },
  {
   "cell_type": "markdown",
   "id": "994a60ea",
   "metadata": {},
   "source": [
    "#### Geographical Plot of Cities\n",
    "```\n",
    "Using libraries like folium or plotly, create a geographical map plotting the cities with their respective populations.\n",
    "```"
   ]
  },
  {
   "cell_type": "code",
   "execution_count": null,
   "id": "2914f2a2",
   "metadata": {},
   "outputs": [],
   "source": []
  }
 ],
 "metadata": {
  "kernelspec": {
   "display_name": "Python 3 (ipykernel)",
   "language": "python",
   "name": "python3"
  },
  "language_info": {
   "codemirror_mode": {
    "name": "ipython",
    "version": 3
   },
   "file_extension": ".py",
   "mimetype": "text/x-python",
   "name": "python",
   "nbconvert_exporter": "python",
   "pygments_lexer": "ipython3",
   "version": "3.11.5"
  }
 },
 "nbformat": 4,
 "nbformat_minor": 5
}
