{
 "cells": [
  {
   "cell_type": "markdown",
   "metadata": {},
   "source": [
    "#### Types of variables \n",
    "\n",
    "- **Instance Variables/Obj** : variables declared inside __init__() method.\n",
    "- **class/static variables**: variables declared outside init() method\n",
    "\n",
    "- **local variables**: declared inside function , scope is only within block\n",
    "- **global variables**: delcare outside functions , scope is anywhere"
   ]
  },
  {
   "cell_type": "markdown",
   "metadata": {},
   "source": [
    "### Types of Methods in Classes\n",
    "\n",
    " Usally methods are used to expose the data to the outside world and define the behaviour.\n",
    "\n",
    "- Instance methods\n",
    "- class methods\n",
    "- static methods "
   ]
  },
  {
   "cell_type": "markdown",
   "metadata": {},
   "source": [
    "### Instance methods\n",
    "\n",
    "- They are used to define behaviour for the Objects\n",
    "- They are specific to the Object or Instance\n",
    "- The First parameter is \"self\" keyword ,it reference to current object\n",
    "- these are called with Object name / Class Name"
   ]
  },
  {
   "cell_type": "markdown",
   "metadata": {},
   "source": [
    "### Example-1"
   ]
  },
  {
   "cell_type": "code",
   "execution_count": null,
   "metadata": {},
   "outputs": [],
   "source": [
    "class A:\n",
    "    def __init__(self):\n",
    "        self.__name = \"AK RAJAMONI\"\n",
    "    \n",
    "\n",
    "    def displayname(self):\n",
    "        return f\" Hello {self.__name},  Welcome....\"\n",
    "    \n",
    "a  = A()\n",
    "# print(a.__name)\n",
    "a.displayname()\n"
   ]
  },
  {
   "cell_type": "markdown",
   "metadata": {},
   "source": [
    "### Example-2"
   ]
  },
  {
   "cell_type": "code",
   "execution_count": null,
   "metadata": {},
   "outputs": [],
   "source": [
    "class Movie:\n",
    "    \n",
    "    counts=0\n",
    "    \n",
    "    def __init__(self, name):\n",
    "        #instance variables\n",
    "        self.__movie_name = name\n",
    "        Movie.counts+=1\n",
    "        \n",
    "    def display_movie_name(self):\n",
    "        print(f\"The Movie Name : {self.__movie_name} , total movie count: {Movie.counts}\")\n",
    "\n",
    "    def returnMovieCounts(self):\n",
    "        return Movie.counts\n",
    "        \n",
    "    @classmethod\n",
    "    def getMovieCounts(cls): #create a object and returns it\n",
    "        return cls(\"RRR\")\n",
    "\n",
    "obj = Movie(\"Night Crawler\")\n",
    "\n",
    "obj.display_movie_name()"
   ]
  },
  {
   "cell_type": "code",
   "execution_count": null,
   "metadata": {},
   "outputs": [],
   "source": []
  },
  {
   "cell_type": "code",
   "execution_count": null,
   "metadata": {},
   "outputs": [],
   "source": [
    "obj1 = Movie(\"Dark Knight\")\n",
    "obj1.display_movie_name()\n"
   ]
  },
  {
   "cell_type": "code",
   "execution_count": null,
   "metadata": {},
   "outputs": [],
   "source": [
    "obj3 = Movie(\"get out\")\n",
    "obj3.display_movie_name()"
   ]
  },
  {
   "cell_type": "code",
   "execution_count": null,
   "metadata": {},
   "outputs": [],
   "source": [
    "obj4 = Movie(\"Inside out\")\n",
    "obj4.display_movie_name()"
   ]
  },
  {
   "cell_type": "code",
   "execution_count": null,
   "metadata": {},
   "outputs": [],
   "source": [
    "obj5  = Movie.getMovieCounts()\n",
    "print(obj5)\n",
    "obj5.display_movie_name()"
   ]
  },
  {
   "cell_type": "code",
   "execution_count": null,
   "metadata": {},
   "outputs": [],
   "source": []
  },
  {
   "cell_type": "code",
   "execution_count": null,
   "metadata": {},
   "outputs": [],
   "source": [
    "#college - class variable\n",
    "# name , rollno - instance variable"
   ]
  },
  {
   "cell_type": "markdown",
   "metadata": {},
   "source": [
    "### Decorators\n",
    "\n",
    "- Decorators are very powerful and useful tool in Python since it allows programmers to modify the behavior of function or class.\n",
    "\n",
    "-  Decorators allow us to wrap another function in order to extend the behavior of the wrapped function, without permanently modifying it. \n",
    "\n",
    "- Decorators are often used for tasks like logging, \n",
    "\tauthentication, \n",
    "\tmemoization, and more. \n",
    "\n",
    "##### First class Objects\n",
    "- In Python, functions are first class objects that means that functions in Python can be used or passed as arguments.\n",
    "\n",
    "\n",
    "Properties of first class functions:\n",
    "\n",
    "A function is an instance of the Object type.\n",
    "\n",
    "You can store the function in a variable.\n",
    "\n",
    "You can pass the function as a parameter to another function.\n",
    "\n",
    "You can return the function from a function.\n",
    "\n",
    "You can store them in data structures such as hash tables, lists, …"
   ]
  },
  {
   "cell_type": "code",
   "execution_count": 1,
   "metadata": {},
   "outputs": [
    {
     "name": "stdout",
     "output_type": "stream",
     "text": [
      "<class 'str'>\n"
     ]
    }
   ],
   "source": [
    "a = 'hello'\n",
    "print(type(a))"
   ]
  },
  {
   "cell_type": "code",
   "execution_count": 2,
   "metadata": {},
   "outputs": [
    {
     "name": "stdout",
     "output_type": "stream",
     "text": [
      "<class 'function'>\n"
     ]
    }
   ],
   "source": [
    "# A function is an instance of the Object type.\n",
    "def fun():\n",
    "    pass\n",
    "\n",
    "print(type(fun))"
   ]
  },
  {
   "cell_type": "code",
   "execution_count": 3,
   "metadata": {},
   "outputs": [
    {
     "name": "stdout",
     "output_type": "stream",
     "text": [
      "Hi Good Morning\n",
      "Hi Good Morning\n",
      "2988658428080 2988658428080\n"
     ]
    }
   ],
   "source": [
    "# you can store the function in a variable.\n",
    "\n",
    "def greet():\n",
    "    print(\"Hi Good Morning\")\n",
    "    \n",
    "greet()\n",
    "\n",
    "dump = greet #assign fun to variable.\n",
    "\n",
    "dump()\n",
    "print(id(dump),id(greet))"
   ]
  },
  {
   "cell_type": "code",
   "execution_count": null,
   "metadata": {},
   "outputs": [],
   "source": []
  },
  {
   "cell_type": "code",
   "execution_count": null,
   "metadata": {},
   "outputs": [],
   "source": []
  },
  {
   "cell_type": "code",
   "execution_count": 4,
   "metadata": {},
   "outputs": [
    {
     "name": "stdout",
     "output_type": "stream",
     "text": [
      "Hi Good Morning\n",
      "Hi Good Morning\n"
     ]
    }
   ],
   "source": [
    "#  You can pass the function as a parameter to another function.& You can return the function from a function.\n",
    "def A(arg):\n",
    "    arg()    \n",
    "    return arg  #returning the function as value\n",
    "\n",
    "\n",
    "d = A(greet) #passing function as argument\n",
    "\n",
    "d()"
   ]
  },
  {
   "cell_type": "code",
   "execution_count": 5,
   "metadata": {},
   "outputs": [],
   "source": [
    "def hi():\n",
    "    print(\"hey hi\")\n",
    "    \n",
    "def hello():\n",
    "    print(\"hello fun\")"
   ]
  },
  {
   "cell_type": "code",
   "execution_count": 10,
   "metadata": {},
   "outputs": [
    {
     "name": "stdout",
     "output_type": "stream",
     "text": [
      "Hi Good Morning\n"
     ]
    }
   ],
   "source": [
    "# You can store them in data structures such as hash tables, lists, …\n",
    "functions = [greet,hi,hello,d]\n",
    "\n",
    "functions[0]()"
   ]
  },
  {
   "cell_type": "markdown",
   "metadata": {},
   "source": [
    "#### Example-1"
   ]
  },
  {
   "cell_type": "code",
   "execution_count": null,
   "metadata": {},
   "outputs": [],
   "source": [
    "def shout(text): \n",
    "    return text.upper() \n",
    "  \n",
    "print(shout('Hello'))\n",
    "  \n",
    "yell = shout \n",
    "  \n",
    "print(yell('Hello')) \n"
   ]
  },
  {
   "cell_type": "code",
   "execution_count": null,
   "metadata": {},
   "outputs": [],
   "source": [
    "print(type(yell))\n",
    "print(type(shout))\n",
    "print(id(yell),id(shout))"
   ]
  },
  {
   "cell_type": "code",
   "execution_count": null,
   "metadata": {},
   "outputs": [],
   "source": [
    "def shout(text): \n",
    "    return text.upper() \n",
    "  \n",
    "def whisper(text): \n",
    "    return text.lower() \n",
    "\n",
    "def demo(text):\n",
    "    return text.title()\n",
    "\n",
    "def vowels(text):\n",
    "    v = \"aeiouAEIOU\"\n",
    "    vowels = []\n",
    "    for ch in text:\n",
    "        if ch in v and ch not in vowels:\n",
    "            vowels.append(ch)\n",
    "    return vowels\n",
    "            \n",
    "def greet(func):\n",
    "    greeting = func(\"\"\"Hi, I am created by a function passed as an argument.\"\"\") \n",
    "    print (greeting) \n",
    "  \n",
    "\n",
    "\n",
    "greet(shout)\n",
    "greet(whisper)\n",
    "greet(demo)\n",
    "greet(vowels)"
   ]
  },
  {
   "cell_type": "markdown",
   "metadata": {},
   "source": [
    "#### Example-2"
   ]
  },
  {
   "cell_type": "code",
   "execution_count": null,
   "metadata": {},
   "outputs": [],
   "source": [
    "def create_adder(x): \n",
    "    def adder(y): \n",
    "        return x+y \n",
    "    return adder\n",
    "  \n",
    "add_15 = create_adder(15) \n",
    "  \n",
    "print(add_15(10)) "
   ]
  },
  {
   "cell_type": "code",
   "execution_count": null,
   "metadata": {},
   "outputs": [],
   "source": []
  },
  {
   "cell_type": "markdown",
   "metadata": {},
   "source": [
    "#### Example-4"
   ]
  },
  {
   "cell_type": "code",
   "execution_count": 47,
   "metadata": {
    "scrolled": true
   },
   "outputs": [
    {
     "name": "stdout",
     "output_type": "stream",
     "text": [
      "<class 'function'>\n",
      "***********************\n"
     ]
    },
    {
     "ename": "TypeError",
     "evalue": "'str' object is not callable",
     "output_type": "error",
     "traceback": [
      "\u001b[1;31m---------------------------------------------------------------------------\u001b[0m",
      "\u001b[1;31mTypeError\u001b[0m                                 Traceback (most recent call last)",
      "Cell \u001b[1;32mIn[47], line 14\u001b[0m\n\u001b[0;32m     12\u001b[0m returnFun \u001b[38;5;241m=\u001b[39m GreetHey(\u001b[38;5;124m\"\u001b[39m\u001b[38;5;124mhello\u001b[39m\u001b[38;5;124m\"\u001b[39m)\n\u001b[0;32m     13\u001b[0m \u001b[38;5;28mprint\u001b[39m(\u001b[38;5;28mtype\u001b[39m(returnFun))\n\u001b[1;32m---> 14\u001b[0m \u001b[43mreturnFun\u001b[49m\u001b[43m(\u001b[49m\u001b[43m)\u001b[49m\n",
      "Cell \u001b[1;32mIn[47], line 5\u001b[0m, in \u001b[0;36mGreetHey.<locals>.inner\u001b[1;34m()\u001b[0m\n\u001b[0;32m      3\u001b[0m \u001b[38;5;28;01mdef\u001b[39;00m \u001b[38;5;21minner\u001b[39m():\n\u001b[0;32m      4\u001b[0m     \u001b[38;5;28mprint\u001b[39m(\u001b[38;5;124m\"\u001b[39m\u001b[38;5;124m***********************\u001b[39m\u001b[38;5;124m\"\u001b[39m)\n\u001b[1;32m----> 5\u001b[0m     \u001b[43mfunc\u001b[49m\u001b[43m(\u001b[49m\u001b[43m)\u001b[49m\n\u001b[0;32m      6\u001b[0m     \u001b[38;5;28mprint\u001b[39m(\u001b[38;5;124m\"\u001b[39m\u001b[38;5;124m##############################\u001b[39m\u001b[38;5;124m\"\u001b[39m)\n",
      "\u001b[1;31mTypeError\u001b[0m: 'str' object is not callable"
     ]
    }
   ],
   "source": [
    "def GreetHey(func):\n",
    "    \n",
    "    def inner():\n",
    "        print(\"***********************\")\n",
    "        func()\n",
    "        print(\"##############################\")\n",
    "    return inner\n",
    "\n",
    "def hello():\n",
    "    print(\"This is test function \")\n",
    "    \n",
    "returnFun = GreetHey(hello)\n",
    "print(type(returnFun))\n",
    "returnFun()"
   ]
  },
  {
   "cell_type": "code",
   "execution_count": 18,
   "metadata": {},
   "outputs": [
    {
     "name": "stdout",
     "output_type": "stream",
     "text": [
      "This is test function \n"
     ]
    }
   ],
   "source": [
    "def GreetHey(func):\n",
    "    def inner():\n",
    "        print(\"*****************************\")\n",
    "        func()\n",
    "        print(\"##############################\")\n",
    "    return inner\n",
    "\n",
    "\n",
    "\n",
    "@GreetHey\n",
    "def hello(): # passing hello as a fun arg to GreetHey function\n",
    "    print(\"This is test function \")\n",
    "   \n",
    "\n",
    "hello()\n"
   ]
  },
  {
   "cell_type": "code",
   "execution_count": null,
   "metadata": {},
   "outputs": [],
   "source": []
  },
  {
   "cell_type": "code",
   "execution_count": null,
   "metadata": {},
   "outputs": [],
   "source": [
    "def GreetHey(func):\n",
    "    \n",
    "    def inner(name):\n",
    "        print(\"=========================================\")\n",
    "        func(name)\n",
    "        print(\"******************************************\")\n",
    "    return inner\n",
    "\n",
    "\n",
    "@GreetHey\n",
    "def hello(name):\n",
    "    print(f\"Hey Hi Welcome to Decorators.... {name}\")\n",
    "    \n",
    "hello(\"Kumar\")\n",
    "hello(\"teja\")"
   ]
  },
  {
   "cell_type": "code",
   "execution_count": 21,
   "metadata": {},
   "outputs": [
    {
     "name": "stdout",
     "output_type": "stream",
     "text": [
      "#######################################\n",
      " Hey hi hello AK and city is HYD\n",
      "======================================>\n"
     ]
    }
   ],
   "source": [
    "def GreetHey(func):\n",
    "    \n",
    "    def inner(*args):\n",
    "        print(\"#######################################\")\n",
    "        func(*args)\n",
    "        print(\"======================================>\")\n",
    "    return inner\n",
    "\n",
    "\n",
    "@GreetHey\n",
    "def hello(name, city, age):\n",
    "    print(f\" Hey hi hello {name} and city is {city}\")\n",
    "    \n",
    "\n",
    "hello(\"AK\",\"HYD\",\"67\")"
   ]
  },
  {
   "cell_type": "code",
   "execution_count": null,
   "metadata": {},
   "outputs": [],
   "source": []
  },
  {
   "cell_type": "code",
   "execution_count": null,
   "metadata": {},
   "outputs": [],
   "source": []
  },
  {
   "cell_type": "code",
   "execution_count": 24,
   "metadata": {},
   "outputs": [
    {
     "name": "stdout",
     "output_type": "stream",
     "text": [
      "3628800\n",
      "Total time taken in :  someFac 0.0\n"
     ]
    }
   ],
   "source": [
    "\n",
    "import time\n",
    "import math\n",
    "import sys\n",
    "sys.set_int_max_str_digits(10**9)\n",
    "def calculate_time(func):\n",
    "    def inner(*args, **kwargs):\n",
    "        start = time.time() \n",
    "        func(*args, **kwargs)\n",
    "        end = time.time()\n",
    "        print(\"Total time taken in : \", func.__name__, end - start)\n",
    "    return inner\n",
    "\n",
    "\n",
    "\n",
    "@calculate_time\n",
    "def someFac(num):\n",
    "    fact = 1\n",
    "    for i in range(1,num+1):\n",
    "        fact = fact*i\n",
    "    print(fact)\n",
    "  \n",
    "someFac(10)\n",
    "\n",
    "\n"
   ]
  },
  {
   "cell_type": "code",
   "execution_count": 25,
   "metadata": {},
   "outputs": [
    {
     "ename": "KeyboardInterrupt",
     "evalue": "",
     "output_type": "error",
     "traceback": [
      "\u001b[1;31m---------------------------------------------------------------------------\u001b[0m",
      "\u001b[1;31mKeyboardInterrupt\u001b[0m                         Traceback (most recent call last)",
      "Cell \u001b[1;32mIn[25], line 10\u001b[0m\n\u001b[0;32m      5\u001b[0m         sumN \u001b[38;5;241m=\u001b[39m sumN \u001b[38;5;241m+\u001b[39m i\n\u001b[0;32m      7\u001b[0m     \u001b[38;5;28mprint\u001b[39m(sumN)\n\u001b[1;32m---> 10\u001b[0m \u001b[43msumOfNumbers\u001b[49m\u001b[43m(\u001b[49m\u001b[38;5;241;43m1000000000000000000000\u001b[39;49m\u001b[43m)\u001b[49m\n",
      "Cell \u001b[1;32mIn[24], line 8\u001b[0m, in \u001b[0;36mcalculate_time.<locals>.inner\u001b[1;34m(*args, **kwargs)\u001b[0m\n\u001b[0;32m      6\u001b[0m \u001b[38;5;28;01mdef\u001b[39;00m \u001b[38;5;21minner\u001b[39m(\u001b[38;5;241m*\u001b[39margs, \u001b[38;5;241m*\u001b[39m\u001b[38;5;241m*\u001b[39mkwargs):\n\u001b[0;32m      7\u001b[0m     start \u001b[38;5;241m=\u001b[39m time\u001b[38;5;241m.\u001b[39mtime() \n\u001b[1;32m----> 8\u001b[0m     func(\u001b[38;5;241m*\u001b[39margs, \u001b[38;5;241m*\u001b[39m\u001b[38;5;241m*\u001b[39mkwargs)\n\u001b[0;32m      9\u001b[0m     end \u001b[38;5;241m=\u001b[39m time\u001b[38;5;241m.\u001b[39mtime()\n\u001b[0;32m     10\u001b[0m     \u001b[38;5;28mprint\u001b[39m(\u001b[38;5;124m\"\u001b[39m\u001b[38;5;124mTotal time taken in : \u001b[39m\u001b[38;5;124m\"\u001b[39m, func\u001b[38;5;241m.\u001b[39m\u001b[38;5;18m__name__\u001b[39m, end \u001b[38;5;241m-\u001b[39m start)\n",
      "Cell \u001b[1;32mIn[25], line 5\u001b[0m, in \u001b[0;36msumOfNumbers\u001b[1;34m(num)\u001b[0m\n\u001b[0;32m      3\u001b[0m sumN \u001b[38;5;241m=\u001b[39m \u001b[38;5;241m0\u001b[39m \n\u001b[0;32m      4\u001b[0m \u001b[38;5;28;01mfor\u001b[39;00m i \u001b[38;5;129;01min\u001b[39;00m \u001b[38;5;28mrange\u001b[39m(\u001b[38;5;241m1\u001b[39m,num\u001b[38;5;241m+\u001b[39m\u001b[38;5;241m1\u001b[39m):\n\u001b[1;32m----> 5\u001b[0m     sumN \u001b[38;5;241m=\u001b[39m sumN \u001b[38;5;241m+\u001b[39m i\n\u001b[0;32m      7\u001b[0m \u001b[38;5;28mprint\u001b[39m(sumN)\n",
      "\u001b[1;31mKeyboardInterrupt\u001b[0m: "
     ]
    }
   ],
   "source": [
    "@calculate_time\n",
    "def sumOfNumbers(num):\n",
    "    sumN = 0 \n",
    "    for i in range(1,num+1):\n",
    "        sumN = sumN + i\n",
    "        \n",
    "    print(sumN)\n",
    "    \n",
    "    \n",
    "sumOfNumbers(1000000000000000000000)"
   ]
  },
  {
   "cell_type": "code",
   "execution_count": 26,
   "metadata": {},
   "outputs": [
    {
     "name": "stdout",
     "output_type": "stream",
     "text": [
      "5e+41\n",
      "Total time taken in :  sumOfNFormula 0.0010099411010742188\n"
     ]
    }
   ],
   "source": [
    "@calculate_time\n",
    "def sumOfNFormula(n):\n",
    "    print( (n*(n+1)/2) )\n",
    "  \n",
    "\n",
    "sumOfNFormula(1000000000000000000000)"
   ]
  },
  {
   "cell_type": "code",
   "execution_count": null,
   "metadata": {},
   "outputs": [],
   "source": []
  },
  {
   "cell_type": "code",
   "execution_count": null,
   "metadata": {},
   "outputs": [],
   "source": []
  },
  {
   "cell_type": "code",
   "execution_count": null,
   "metadata": {},
   "outputs": [],
   "source": [
    "@calculate_time\n",
    "def factorial_math(num):\n",
    "    print(math.factorial(num))\n",
    "\n",
    "factorial_math(1000000)"
   ]
  },
  {
   "cell_type": "code",
   "execution_count": null,
   "metadata": {},
   "outputs": [],
   "source": []
  },
  {
   "cell_type": "code",
   "execution_count": null,
   "metadata": {},
   "outputs": [],
   "source": []
  },
  {
   "cell_type": "code",
   "execution_count": null,
   "metadata": {},
   "outputs": [],
   "source": [
    "def decor2(func): \n",
    "    def inner(): \n",
    "        x = func() \n",
    "        return x * x \n",
    "    return inner \n",
    "  \n",
    "def decor1(func): \n",
    "    def inner(): \n",
    "        x = func() \n",
    "        return 2 * x \n",
    "    return inner \n",
    "  \n",
    "@decor2\n",
    "@decor1\n",
    "def num(): \n",
    "    return 10\n",
    "  \n",
    "print(num()) \n",
    "\n"
   ]
  },
  {
   "cell_type": "code",
   "execution_count": null,
   "metadata": {},
   "outputs": [],
   "source": []
  },
  {
   "cell_type": "markdown",
   "metadata": {},
   "source": [
    "### Class method"
   ]
  },
  {
   "cell_type": "markdown",
   "metadata": {},
   "source": [
    "The @classmethod decorator, is a builtin function decorator that is an expression that gets evaluated after your function is defined. \n",
    "- The result of that evaluation shadows your function definition.\n",
    "\n",
    "- A class method receives the class as implicit first argument, \n",
    "just like an instance method receives the instance"
   ]
  },
  {
   "cell_type": "markdown",
   "metadata": {},
   "source": [
    "class C(object):\n",
    "\n",
    "    @classmethod\n",
    "    def fun(cls, arg1, arg2, ...):\n",
    "    \n",
    "       ....\n",
    "fun: function that needs to be converted into a class method\n",
    "\n",
    "returns: a class method for function.\n",
    "\n",
    "\n",
    "- A class method is a method which is bound to the class and not the object of the class.\n",
    "\n",
    "- They have the access to the state of the class as it takes a class parameter that points to the class and not the object instance.\n",
    "\n",
    "- It can modify a class state that would apply across all the instances of the class. For example it can modify a class variable that will be applicable to all the instances."
   ]
  },
  {
   "cell_type": "markdown",
   "metadata": {},
   "source": [
    "### Static methods\n",
    "\n",
    "- A static method does not receive an implicit first argument.\n",
    "\n",
    "- class C(object):\n",
    "\n",
    "    @staticmethod\n",
    "    \n",
    "    def fun(arg1, arg2, ...):\n",
    "        ...\n",
    "returns: a static method for function fun.\n",
    "\n",
    "\n",
    "- A static method is also a method which is bound to the class and not the object of the class.\n",
    "\n",
    "- A static method can’t access or modify class state.\n",
    "\n",
    "- It is present in a class because it makes sense for the method to be present in class."
   ]
  },
  {
   "cell_type": "markdown",
   "metadata": {},
   "source": [
    "### Class methods vs Static \n",
    "\n",
    " - class method takes cls as first parameter while a static method needs no specific parameters.\n",
    "\n",
    "- A class method can access or modify class state while a static method can’t access or modify it.\n",
    "\n",
    "- In general, static methods know nothing about class state. They are utility type methods that take some parameters and work upon those parameters. On the other hand class methods must have class as parameter.\n",
    "\n",
    "    We use @classmethod decorator -> class method and we use @staticmethod -> static methods"
   ]
  },
  {
   "cell_type": "markdown",
   "metadata": {},
   "source": [
    "### when  to use ?\n",
    "\n",
    "- We generally use class method to create factory methods. Factory methods return class object ( similar to a constructor ) for different use cases.\n",
    "\n",
    "- We generally use static methods to create utility functions."
   ]
  },
  {
   "cell_type": "code",
   "execution_count": 37,
   "metadata": {},
   "outputs": [
    {
     "data": {
      "text/plain": [
       "2023"
      ]
     },
     "execution_count": 37,
     "metadata": {},
     "output_type": "execute_result"
    }
   ],
   "source": [
    "from datetime import date\n",
    "date.today().year"
   ]
  },
  {
   "cell_type": "code",
   "execution_count": 49,
   "metadata": {},
   "outputs": [
    {
     "name": "stdout",
     "output_type": "stream",
     "text": [
      "ram\n",
      "AK\n",
      "JNU\n",
      "JNU\n",
      "ram 21\n",
      "AK 17\n",
      "True\n",
      "False\n",
      "True\n",
      "False\n",
      "after updating...\n",
      "NJIT\n",
      "NJIT\n"
     ]
    }
   ],
   "source": [
    "class Person:\n",
    "    college = \"JNU\"\n",
    "    def __init__(self, name, age): \n",
    "        self.name = name\n",
    "        self.age = age\n",
    "       \n",
    "\n",
    "    @classmethod\n",
    "    def fromBirthYear(cls, name, yob):\n",
    "        return cls(name, date.today().year - yob)\n",
    "       \n",
    "\n",
    "    @staticmethod\n",
    "    def isAdult(age):\n",
    "        return age > 18\n",
    "    \n",
    "    def display(self):\n",
    "        print(f\"{self.name} {self.age}\")\n",
    "   \n",
    "\n",
    "    @classmethod\n",
    "    def updateCollege(cls,clgName):\n",
    "        Person.college = clgName\n",
    "\n",
    "person1 = Person('ram', 21) #init()\n",
    "person2 = Person.fromBirthYear('AK', 2006) # calling with className \n",
    "   \n",
    "print(person1.name)\n",
    "print(person2.name)\n",
    "\n",
    "\n",
    "print(person1.college)\n",
    "print(person1.college)\n",
    "\n",
    "person1.display()\n",
    "person2.display()\n",
    "\n",
    "\n",
    "# calling with object name\n",
    "print(person1.isAdult(person1.age))\n",
    "print(person2.isAdult(person2.age))\n",
    "\n",
    "\n",
    "# calling with ClassName\n",
    "print(Person.isAdult(20))\n",
    "print(Person.isAdult(12))\n",
    "\n",
    "\n",
    "print('after updating...')\n",
    "# updating class variable\n",
    "Person.updateCollege(\"NJIT\")\n",
    "print(person1.college)\n",
    "print(person1.college)\n"
   ]
  },
  {
   "cell_type": "code",
   "execution_count": null,
   "metadata": {},
   "outputs": [],
   "source": []
  },
  {
   "cell_type": "code",
   "execution_count": null,
   "metadata": {},
   "outputs": [],
   "source": []
  },
  {
   "cell_type": "code",
   "execution_count": null,
   "metadata": {},
   "outputs": [],
   "source": []
  },
  {
   "cell_type": "code",
   "execution_count": null,
   "metadata": {},
   "outputs": [],
   "source": [
    "# Python program to create Bankaccount class\n",
    "# with both a deposit() and a withdraw() function\n",
    "class Bank_Account:\n",
    "\tdef __init__(self):\n",
    "\t\tself.balance=0\n",
    "\t\tprint(\"Hello!!! Welcome to the Deposit & Withdrawal Machine\")\n",
    "\n",
    "\tdef deposit(self):\n",
    "\t\tamount=float(input(\"Enter amount to be Deposited: \"))\n",
    "\t\tself.balance += amount\n",
    "\t\tprint(\"\\n Amount Deposited:\",amount)\n",
    "\n",
    "\tdef withdraw(self):\n",
    "\t\tamount = float(input(\"Enter amount to be Withdrawn: \"))\n",
    "\t\tif self.balance>=amount:\n",
    "\t\t\tself.balance-=amount\n",
    "\t\t\tprint(\"\\n You Withdrew:\", amount)\n",
    "\t\telse:\n",
    "\t\t\tprint(\"\\n Insufficient balance \")\n",
    "\n",
    "\tdef display(self):\n",
    "\t\tprint(\"\\n Net Available Balance=\",self.balance)\n",
    "\n",
    "# Driver code\n",
    "\n",
    "# creating an object of class\n",
    "s = Bank_Account()\n",
    "\n",
    "# Calling functions with that class object\n",
    "s.deposit()\n",
    "s.withdraw()\n",
    "s.display()\n"
   ]
  },
  {
   "cell_type": "code",
   "execution_count": null,
   "metadata": {},
   "outputs": [],
   "source": []
  }
 ],
 "metadata": {
  "kernelspec": {
   "display_name": "Python 3 (ipykernel)",
   "language": "python",
   "name": "python3"
  },
  "language_info": {
   "codemirror_mode": {
    "name": "ipython",
    "version": 3
   },
   "file_extension": ".py",
   "mimetype": "text/x-python",
   "name": "python",
   "nbconvert_exporter": "python",
   "pygments_lexer": "ipython3",
   "version": "3.10.9"
  }
 },
 "nbformat": 4,
 "nbformat_minor": 4
}
