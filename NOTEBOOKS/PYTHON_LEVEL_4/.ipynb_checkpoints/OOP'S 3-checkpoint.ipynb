{
 "cells": [
  {
   "cell_type": "markdown",
   "metadata": {},
   "source": [
    "#### Types of variables \n",
    "\n",
    "- **Instance Variables/Obj** : variables declared inside __init__() method.\n",
    "- **class/static variables**: variables declared outside init() method\n",
    "\n",
    "- **local variables**: declared inside function , scope is only within block\n",
    "- **global variables**: delcare outside functions , scope is anywhere"
   ]
  },
  {
   "cell_type": "markdown",
   "metadata": {},
   "source": [
    "### Types of Methods in Classes\n",
    "\n",
    " Usally methods are used to expose the data to the outside world and define the behaviour.\n",
    "\n",
    "- Instance methods\n",
    "- class methods\n",
    "- static methods "
   ]
  },
  {
   "cell_type": "markdown",
   "metadata": {},
   "source": [
    "### Instance methods\n",
    "\n",
    "- They are used to define behaviour for the Objects\n",
    "- They are specific to the Object or Instance\n",
    "- The First parameter is \"self\" keyword ,it reference to current object\n",
    "- these are called with Object name / Class Name"
   ]
  },
  {
   "cell_type": "markdown",
   "metadata": {},
   "source": [
    "### "
   ]
  },
  {
   "cell_type": "code",
   "execution_count": 2,
   "metadata": {},
   "outputs": [
    {
     "data": {
      "text/plain": [
       "' Hello AK RAJAMONI,  Welcome....'"
      ]
     },
     "execution_count": 2,
     "metadata": {},
     "output_type": "execute_result"
    }
   ],
   "source": [
    "class A:\n",
    "    def __init__(self):\n",
    "        self.__name = \"AK RAJAMONI\"\n",
    "    \n",
    "\n",
    "    def displayname(self):\n",
    "        return f\" Hello {self.__name},  Welcome....\"\n",
    "    \n",
    "a  = A()\n",
    "# print(a.__name)\n",
    "a.displayname()\n"
   ]
  },
  {
   "cell_type": "markdown",
   "metadata": {},
   "source": [
    "### Example-2"
   ]
  },
  {
   "cell_type": "code",
   "execution_count": 6,
   "metadata": {},
   "outputs": [
    {
     "name": "stdout",
     "output_type": "stream",
     "text": [
      "The Movie Name : Night Crawler , total movie count: 1\n"
     ]
    }
   ],
   "source": [
    "class Movie:\n",
    "    \n",
    "    counts=0\n",
    "    \n",
    "    def __init__(self, name):\n",
    "        #instance variables\n",
    "        self.__movie_name = name\n",
    "        Movie.counts+=1\n",
    "        \n",
    "    def display_movie_name(self):\n",
    "        print(f\"The Movie Name : {self.__movie_name} , total movie count: {Movie.counts}\")\n",
    "\n",
    "    def returnMovieCounts(self):\n",
    "        return Movie.counts\n",
    "        \n",
    "    @classmethod\n",
    "    def getMovieCounts(cls): #create a object and returns it\n",
    "        return cls(\"RRR\")\n",
    "\n",
    "obj = Movie(\"Night Crawler\")\n",
    "\n",
    "obj.display_movie_name()"
   ]
  },
  {
   "cell_type": "code",
   "execution_count": null,
   "metadata": {},
   "outputs": [],
   "source": []
  },
  {
   "cell_type": "code",
   "execution_count": 7,
   "metadata": {},
   "outputs": [
    {
     "name": "stdout",
     "output_type": "stream",
     "text": [
      "The Movie Name : Dark Knight , total movie count: 2\n"
     ]
    }
   ],
   "source": [
    "obj1 = Movie(\"Dark Knight\")\n",
    "\n",
    "obj1.display_movie_name()\n"
   ]
  },
  {
   "cell_type": "code",
   "execution_count": 8,
   "metadata": {},
   "outputs": [
    {
     "name": "stdout",
     "output_type": "stream",
     "text": [
      "The Movie Name : get out , total movie count: 3\n"
     ]
    }
   ],
   "source": [
    "obj3 = Movie(\"get out\")\n",
    "\n",
    "obj3.display_movie_name()"
   ]
  },
  {
   "cell_type": "code",
   "execution_count": 9,
   "metadata": {},
   "outputs": [
    {
     "name": "stdout",
     "output_type": "stream",
     "text": [
      "The Movie Name : Inside out , total movie count: 4\n"
     ]
    }
   ],
   "source": [
    "obj4 = Movie(\"Inside out\")\n",
    "\n",
    "obj4.display_movie_name()"
   ]
  },
  {
   "cell_type": "code",
   "execution_count": 15,
   "metadata": {},
   "outputs": [
    {
     "name": "stdout",
     "output_type": "stream",
     "text": [
      "The Movie Name : RRR , total movie count: 9\n"
     ]
    }
   ],
   "source": [
    "obj5  = Movie.getMovieCounts()\n",
    "\n",
    "obj5.display_movie_name()"
   ]
  },
  {
   "cell_type": "code",
   "execution_count": 16,
   "metadata": {},
   "outputs": [
    {
     "data": {
      "text/plain": [
       "9"
      ]
     },
     "execution_count": 16,
     "metadata": {},
     "output_type": "execute_result"
    }
   ],
   "source": [
    "obj4.returnMovieCounts()"
   ]
  },
  {
   "cell_type": "code",
   "execution_count": null,
   "metadata": {},
   "outputs": [],
   "source": [
    "#college - class variable\n",
    "# name , rollno - instance variable"
   ]
  },
  {
   "cell_type": "markdown",
   "metadata": {},
   "source": [
    "### Decorators\n",
    "\n",
    "- Decorators are very powerful and useful tool in Python since it allows programmers to modify the behavior of function or class.\n",
    "\n",
    "-  Decorators allow us to wrap another function in order to extend the behavior of the wrapped function, without permanently modifying it. \n",
    "\n",
    "\n",
    "##### First class Objects\n",
    "- In Python, functions are first class objects that means that functions in Python can be used or passed as arguments.\n",
    "\n",
    "\n",
    "Properties of first class functions:\n",
    "\n",
    "A function is an instance of the Object type.\n",
    "\n",
    "You can store the function in a variable.\n",
    "\n",
    "You can pass the function as a parameter to another function.\n",
    "\n",
    "You can return the function from a function.\n",
    "\n",
    "You can store them in data structures such as hash tables, lists, …"
   ]
  },
  {
   "cell_type": "code",
   "execution_count": 17,
   "metadata": {},
   "outputs": [
    {
     "name": "stdout",
     "output_type": "stream",
     "text": [
      "<class 'function'>\n"
     ]
    }
   ],
   "source": [
    "def fun():\n",
    "    pass\n",
    "\n",
    "print(type(fun))"
   ]
  },
  {
   "cell_type": "code",
   "execution_count": 18,
   "metadata": {},
   "outputs": [
    {
     "name": "stdout",
     "output_type": "stream",
     "text": [
      "Hi Good Morning\n"
     ]
    }
   ],
   "source": [
    "def greet():\n",
    "    print(\"Hi Good Morning\")\n",
    "    \n",
    "greet()"
   ]
  },
  {
   "cell_type": "code",
   "execution_count": null,
   "metadata": {},
   "outputs": [],
   "source": []
  },
  {
   "cell_type": "code",
   "execution_count": 21,
   "metadata": {},
   "outputs": [
    {
     "name": "stdout",
     "output_type": "stream",
     "text": [
      "Hi Good Morning\n",
      "2747769913984 2747769913984\n"
     ]
    }
   ],
   "source": [
    "c = greet #assign fun to variable.\n",
    "\n",
    "c()\n",
    "\n",
    "print(id(c),id(greet))"
   ]
  },
  {
   "cell_type": "code",
   "execution_count": 22,
   "metadata": {},
   "outputs": [
    {
     "name": "stdout",
     "output_type": "stream",
     "text": [
      "Hi Good Morning\n",
      "Hi Good Morning\n"
     ]
    }
   ],
   "source": [
    "def A(arg):\n",
    "    arg()    \n",
    "    return arg  #returning the function as value\n",
    "\n",
    "\n",
    "d = A(greet) #passing function as argument\n",
    "\n",
    "d()"
   ]
  },
  {
   "cell_type": "code",
   "execution_count": 23,
   "metadata": {},
   "outputs": [],
   "source": [
    "def hi():\n",
    "    print(\"hey hi\")"
   ]
  },
  {
   "cell_type": "code",
   "execution_count": 26,
   "metadata": {},
   "outputs": [
    {
     "name": "stdout",
     "output_type": "stream",
     "text": [
      "Hi Good Morning\n"
     ]
    }
   ],
   "source": [
    "functions = [greet,hi,c,d]\n",
    "\n",
    "functions[0]()"
   ]
  },
  {
   "cell_type": "code",
   "execution_count": null,
   "metadata": {},
   "outputs": [],
   "source": []
  },
  {
   "cell_type": "code",
   "execution_count": 27,
   "metadata": {},
   "outputs": [
    {
     "name": "stdout",
     "output_type": "stream",
     "text": [
      "HELLO\n",
      "HELLO\n",
      "2747797999904 2747797999904\n"
     ]
    }
   ],
   "source": [
    "def shout(text): \n",
    "    return text.upper() \n",
    "  \n",
    "print(shout('Hello'))\n",
    "  \n",
    "yell = shout \n",
    "  \n",
    "print(yell('Hello')) \n",
    "\n",
    "\n",
    "print(id(shout), id(yell))"
   ]
  },
  {
   "cell_type": "code",
   "execution_count": 28,
   "metadata": {},
   "outputs": [
    {
     "name": "stdout",
     "output_type": "stream",
     "text": [
      "<class 'function'>\n",
      "<class 'function'>\n",
      "2747797999904 2747797999904\n"
     ]
    }
   ],
   "source": [
    "print(type(yell))\n",
    "print(type(shout))\n",
    "print(id(yell),id(shout))"
   ]
  },
  {
   "cell_type": "code",
   "execution_count": 32,
   "metadata": {},
   "outputs": [
    {
     "name": "stdout",
     "output_type": "stream",
     "text": [
      "HI, I AM CREATED BY A FUNCTION PASSED AS AN ARGUMENT.\n",
      "hi, i am created by a function passed as an argument.\n",
      "Hi, I Am Created By A Function Passed As An Argument.\n",
      "['i', 'I', 'a', 'e', 'u', 'o']\n"
     ]
    }
   ],
   "source": [
    "def shout(text): \n",
    "    return text.upper() \n",
    "  \n",
    "def whisper(text): \n",
    "    return text.lower() \n",
    "\n",
    "def demo(text):\n",
    "    return text.title()\n",
    "\n",
    "def vowels(text):\n",
    "    v = \"aeiouAEIOU\"\n",
    "    vowels = []\n",
    "    for ch in text:\n",
    "        if ch in v and ch not in vowels:\n",
    "            vowels.append(ch)\n",
    "    return vowels\n",
    "            \n",
    "def greet(func):\n",
    "    greeting = func(\"\"\"Hi, I am created by a function passed as an argument.\"\"\") \n",
    "    print (greeting) \n",
    "  \n",
    "greet(shout)\n",
    "\n",
    "greet(whisper)\n",
    "greet(demo)\n",
    "greet(vowels)"
   ]
  },
  {
   "cell_type": "code",
   "execution_count": 33,
   "metadata": {},
   "outputs": [
    {
     "name": "stdout",
     "output_type": "stream",
     "text": [
      "25\n"
     ]
    }
   ],
   "source": [
    "def create_adder(x): \n",
    "    \n",
    "    def adder(y): \n",
    "        return x+y \n",
    "  \n",
    "    return adder\n",
    "  \n",
    "add_15 = create_adder(15) \n",
    "  \n",
    "print(add_15(10)) "
   ]
  },
  {
   "cell_type": "code",
   "execution_count": 38,
   "metadata": {
    "scrolled": true
   },
   "outputs": [
    {
     "name": "stdout",
     "output_type": "stream",
     "text": [
      "***********************\n",
      "This is test function \n",
      "##############################\n"
     ]
    }
   ],
   "source": [
    "def GreetHey(func):\n",
    "    \n",
    "    def inner():\n",
    "        print(\"***********************\")\n",
    "        func()\n",
    "        print(\"##############################\")\n",
    "    return inner\n",
    "\n",
    "\n",
    "def hello():\n",
    "    print(\"This is test function \")\n",
    "    \n",
    "\n",
    "return_fun = GreetHey(hello)\n",
    "\n",
    "return_fun()"
   ]
  },
  {
   "cell_type": "code",
   "execution_count": 40,
   "metadata": {},
   "outputs": [
    {
     "name": "stdout",
     "output_type": "stream",
     "text": [
      "=========================================\n",
      "Hey Hi Welcome to Decorators.... Kumar\n",
      "******************************************\n"
     ]
    }
   ],
   "source": [
    "def GreetHey(func):\n",
    "    \n",
    "    def inner(name):\n",
    "        print(\"=========================================\")\n",
    "        func(name)\n",
    "        print(\"******************************************\")\n",
    "    return inner\n",
    "\n",
    "\n",
    "@GreetHey\n",
    "def hello(name):\n",
    "    print(f\"Hey Hi Welcome to Decorators.... {name}\")\n",
    "    \n",
    "hello(\"Kumar\")"
   ]
  },
  {
   "cell_type": "code",
   "execution_count": 41,
   "metadata": {},
   "outputs": [
    {
     "name": "stdout",
     "output_type": "stream",
     "text": [
      "#######################################\n",
      " Hey hi hello AK and city is HYD\n",
      "======================================>\n"
     ]
    }
   ],
   "source": [
    "def GreetHey(func):\n",
    "    \n",
    "    def inner(*args):\n",
    "        print(\"#######################################\")\n",
    "        func(*args)\n",
    "        print(\"======================================>\")\n",
    "    return inner\n",
    "\n",
    "\n",
    "@GreetHey\n",
    "def hello(name, city):\n",
    "    print(f\" Hey hi hello {name} and city is {city}\")\n",
    "    \n",
    "\n",
    "hello(\"AK\",\"HYD\")"
   ]
  },
  {
   "cell_type": "code",
   "execution_count": null,
   "metadata": {},
   "outputs": [],
   "source": []
  },
  {
   "cell_type": "code",
   "execution_count": null,
   "metadata": {},
   "outputs": [],
   "source": [
    "#factorial - \n",
    "#3 ways to write the fact code\n",
    "# 1. loop\n",
    "# 2. formula\n",
    "# 3. recursion\n",
    "\n",
    "# n = 5\n",
    "# 1*2*3*4*5 = 120"
   ]
  },
  {
   "cell_type": "code",
   "execution_count": 46,
   "metadata": {},
   "outputs": [
    {
     "name": "stdout",
     "output_type": "stream",
     "text": [
      "dhdk\n",
      "jkhdkd\n",
      "6.291621208190918\n"
     ]
    }
   ],
   "source": []
  },
  {
   "cell_type": "code",
   "execution_count": 59,
   "metadata": {},
   "outputs": [
    {
     "name": "stdout",
     "output_type": "stream",
     "text": [
      "3628800\n",
      "Total time taken in :  factorial 0.0010051727294921875\n"
     ]
    }
   ],
   "source": [
    "\n",
    "import time\n",
    "import math\n",
    "import sys\n",
    "sys.set_int_max_str_digits(10**9)\n",
    "\n",
    "def calculate_time(func):\n",
    " \n",
    "    def inner1(*args, **kwargs):\n",
    "        begin = time.time()\n",
    "          \n",
    "        func(*args, **kwargs)\n",
    "\n",
    "        end = time.time()\n",
    "        print(\"Total time taken in : \", func.__name__, end - begin)\n",
    "  \n",
    "    return inner1\n",
    "\n",
    "\n",
    "\n",
    "@calculate_time\n",
    "def factorial(num):\n",
    "    fact = 1\n",
    "    for i in range(1,num+1):\n",
    "        fact = fact*i\n",
    "    print(fact)\n",
    "  \n",
    "factorial(10)\n",
    "\n",
    "\n"
   ]
  },
  {
   "cell_type": "code",
   "execution_count": 63,
   "metadata": {},
   "outputs": [
    {
     "name": "stdout",
     "output_type": "stream",
     "text": [
      "5000000050000000\n",
      "Total time taken in :  sumOfNumbers 7.521538734436035\n"
     ]
    }
   ],
   "source": [
    "@calculate_time\n",
    "def sumOfNumbers(num):\n",
    "    sumN = 0 \n",
    "    for i in range(1,num+1):\n",
    "        sumN = sumN + i\n",
    "        \n",
    "    print(sumN)\n",
    "    \n",
    "    \n",
    "sumOfNumbers(100000000)"
   ]
  },
  {
   "cell_type": "code",
   "execution_count": 67,
   "metadata": {},
   "outputs": [
    {
     "name": "stdout",
     "output_type": "stream",
     "text": [
      "5e+39\n",
      "Total time taken in :  sumOfNFormula 0.0010004043579101562\n"
     ]
    }
   ],
   "source": [
    "@calculate_time\n",
    "def sumOfNFormula(n):\n",
    "    print( (n*(n+1)/2) )\n",
    "  \n",
    "\n",
    "sumOfNFormula(100000000000000000000)"
   ]
  },
  {
   "cell_type": "code",
   "execution_count": null,
   "metadata": {},
   "outputs": [],
   "source": []
  },
  {
   "cell_type": "code",
   "execution_count": null,
   "metadata": {},
   "outputs": [],
   "source": []
  },
  {
   "cell_type": "code",
   "execution_count": null,
   "metadata": {},
   "outputs": [],
   "source": [
    "@calculate_time\n",
    "def factorial_math(num):\n",
    "    print(math.factorial(num))\n",
    "\n",
    "factorial_math(1000000)"
   ]
  },
  {
   "cell_type": "code",
   "execution_count": null,
   "metadata": {},
   "outputs": [],
   "source": []
  },
  {
   "cell_type": "code",
   "execution_count": null,
   "metadata": {},
   "outputs": [],
   "source": []
  },
  {
   "cell_type": "code",
   "execution_count": 69,
   "metadata": {},
   "outputs": [
    {
     "name": "stdout",
     "output_type": "stream",
     "text": [
      "400\n"
     ]
    }
   ],
   "source": [
    "def decor2(func): \n",
    "    def inner(): \n",
    "        x = func() \n",
    "        return x * x \n",
    "    return inner \n",
    "  \n",
    "def decor1(func): \n",
    "    def inner(): \n",
    "        x = func() \n",
    "        return 2 * x \n",
    "    return inner \n",
    "  \n",
    "@decor2\n",
    "@decor1\n",
    "def num(): \n",
    "    return 10\n",
    "  \n",
    "print(num()) \n",
    "\n"
   ]
  },
  {
   "cell_type": "code",
   "execution_count": null,
   "metadata": {},
   "outputs": [],
   "source": []
  },
  {
   "cell_type": "markdown",
   "metadata": {},
   "source": [
    "### Class method"
   ]
  },
  {
   "cell_type": "markdown",
   "metadata": {},
   "source": [
    "The @classmethod decorator, is a builtin function decorator that is an expression that gets evaluated after your function is defined. \n",
    "- The result of that evaluation shadows your function definition.\n",
    "\n",
    "- A class method receives the class as implicit first argument, \n",
    "just like an instance method receives the instance"
   ]
  },
  {
   "cell_type": "markdown",
   "metadata": {},
   "source": [
    "class C(object):\n",
    "\n",
    "    @classmethod\n",
    "    def fun(cls, arg1, arg2, ...):\n",
    "    \n",
    "       ....\n",
    "fun: function that needs to be converted into a class method\n",
    "\n",
    "returns: a class method for function.\n",
    "\n",
    "\n",
    "- A class method is a method which is bound to the class and not the object of the class.\n",
    "\n",
    "- They have the access to the state of the class as it takes a class parameter that points to the class and not the object instance.\n",
    "\n",
    "- It can modify a class state that would apply across all the instances of the class. For example it can modify a class variable that will be applicable to all the instances."
   ]
  },
  {
   "cell_type": "markdown",
   "metadata": {},
   "source": [
    "### Static methods\n",
    "\n",
    "- A static method does not receive an implicit first argument.\n",
    "\n",
    "- class C(object):\n",
    "\n",
    "    @staticmethod\n",
    "    \n",
    "    def fun(arg1, arg2, ...):\n",
    "        ...\n",
    "returns: a static method for function fun.\n",
    "\n",
    "\n",
    "- A static method is also a method which is bound to the class and not the object of the class.\n",
    "\n",
    "- A static method can’t access or modify class state.\n",
    "\n",
    "- It is present in a class because it makes sense for the method to be present in class."
   ]
  },
  {
   "cell_type": "markdown",
   "metadata": {},
   "source": [
    "### Class methods vs Static \n",
    "\n",
    " - class method takes cls as first parameter while a static method needs no specific parameters.\n",
    "\n",
    "- A class method can access or modify class state while a static method can’t access or modify it.\n",
    "\n",
    "- In general, static methods know nothing about class state. They are utility type methods that take some parameters and work upon those parameters. On the other hand class methods must have class as parameter.\n",
    "\n",
    "    We use @classmethod decorator -> class method and we use @staticmethod -> static methods"
   ]
  },
  {
   "cell_type": "markdown",
   "metadata": {},
   "source": [
    "### when  to use ?\n",
    "\n",
    "- We generally use class method to create factory methods. Factory methods return class object ( similar to a constructor ) for different use cases.\n",
    "\n",
    "- We generally use static methods to create utility functions."
   ]
  },
  {
   "cell_type": "code",
   "execution_count": 73,
   "metadata": {},
   "outputs": [
    {
     "data": {
      "text/plain": [
       "27"
      ]
     },
     "execution_count": 73,
     "metadata": {},
     "output_type": "execute_result"
    }
   ],
   "source": [
    "from datetime import date\n",
    "date.today().year-1996"
   ]
  },
  {
   "cell_type": "code",
   "execution_count": 78,
   "metadata": {},
   "outputs": [
    {
     "name": "stdout",
     "output_type": "stream",
     "text": [
      "21\n",
      "27\n",
      "{'name': 'ram', 'age': 21}\n",
      "{'name': 'AK', 'age': 27}\n",
      "ram 21\n",
      "{'name': 'Kumar', 'age': 28}\n"
     ]
    }
   ],
   "source": [
    "class Person:\n",
    "    college = \"UCE\"\n",
    "    def __init__(self, name, age): \n",
    "        self.name = name\n",
    "        self.age = age\n",
    "       \n",
    "\n",
    "    @classmethod\n",
    "    def fromBirthYear(cls, name, year):\n",
    "        return cls(name, date.today().year - year)\n",
    "       \n",
    "\n",
    "    @staticmethod\n",
    "    def isAdult(age):\n",
    "        return age > 18\n",
    "    \n",
    "    def display(self):\n",
    "        print(f\"{self.name} {self.age}\")\n",
    "   \n",
    "person1 = Person('ram', 21) #init()\n",
    "\n",
    "person2 = Person.fromBirthYear('AK', 1996)\n",
    "   \n",
    "print (person1.age)\n",
    "print (person2.age)\n",
    "\n",
    "print(person1.__dict__)\n",
    "\n",
    "print(person2.__dict__)\n",
    "\n",
    "person1.display()\n",
    "\n",
    "\n",
    "Person.isAdult(person1.age)\n",
    "\n",
    "\n",
    "Person.__init__(person1,\"Kumar\",28)\n",
    "\n",
    "print(person1.__dict__)"
   ]
  },
  {
   "cell_type": "code",
   "execution_count": null,
   "metadata": {},
   "outputs": [],
   "source": [
    "# check for anagrams \n",
    "\n",
    "# Listen = Silent.\n",
    "# The eyes = They see.\n"
   ]
  },
  {
   "cell_type": "code",
   "execution_count": null,
   "metadata": {},
   "outputs": [],
   "source": []
  },
  {
   "cell_type": "code",
   "execution_count": null,
   "metadata": {},
   "outputs": [],
   "source": [
    "# Python program to create Bankaccount class\n",
    "# with both a deposit() and a withdraw() function\n",
    "class Bank_Account:\n",
    "\tdef __init__(self):\n",
    "\t\tself.balance=0\n",
    "\t\tprint(\"Hello!!! Welcome to the Deposit & Withdrawal Machine\")\n",
    "\n",
    "\tdef deposit(self):\n",
    "\t\tamount=float(input(\"Enter amount to be Deposited: \"))\n",
    "\t\tself.balance += amount\n",
    "\t\tprint(\"\\n Amount Deposited:\",amount)\n",
    "\n",
    "\tdef withdraw(self):\n",
    "\t\tamount = float(input(\"Enter amount to be Withdrawn: \"))\n",
    "\t\tif self.balance>=amount:\n",
    "\t\t\tself.balance-=amount\n",
    "\t\t\tprint(\"\\n You Withdrew:\", amount)\n",
    "\t\telse:\n",
    "\t\t\tprint(\"\\n Insufficient balance \")\n",
    "\n",
    "\tdef display(self):\n",
    "\t\tprint(\"\\n Net Available Balance=\",self.balance)\n",
    "\n",
    "# Driver code\n",
    "\n",
    "# creating an object of class\n",
    "s = Bank_Account()\n",
    "\n",
    "# Calling functions with that class object\n",
    "s.deposit()\n",
    "s.withdraw()\n",
    "s.display()\n"
   ]
  },
  {
   "cell_type": "code",
   "execution_count": null,
   "metadata": {},
   "outputs": [],
   "source": []
  }
 ],
 "metadata": {
  "kernelspec": {
   "display_name": "Python 3 (ipykernel)",
   "language": "python",
   "name": "python3"
  },
  "language_info": {
   "codemirror_mode": {
    "name": "ipython",
    "version": 3
   },
   "file_extension": ".py",
   "mimetype": "text/x-python",
   "name": "python",
   "nbconvert_exporter": "python",
   "pygments_lexer": "ipython3",
   "version": "3.10.9"
  }
 },
 "nbformat": 4,
 "nbformat_minor": 4
}
