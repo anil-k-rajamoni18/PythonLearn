{
 "cells": [
  {
   "cell_type": "markdown",
   "metadata": {},
   "source": [
    "## Inheritance\n",
    "\n",
    "- Parent child relationship , in the same way like Class and sub class relationship.\n",
    "\n",
    "- Inheritance is the capability of one class to derive or inherit the properties from another class. The benefits of inheritance are:\n",
    "\n",
    "- The process of driving is called Inheriting .\n",
    "\n",
    "- It represents real-world relationships well.\n",
    "- It provides reusability of a code. We don’t have to write the same code again and again. Also, it allows us to add more features to a class without modifying it.\n",
    "- It is transitive in nature, which means that if class B inherits from another class A, then all the subclasses of B would automatically inherit from class A.\n",
    "\n",
    "\n",
    "Inheritance allows us to define a class that inherits all the methods and properties from another class.\n",
    "\n",
    "Parent class is the class being inherited from, also called base class.\n",
    "\n",
    "Child class is the class that inherits from another class, also called derived class."
   ]
  },
  {
   "cell_type": "markdown",
   "metadata": {},
   "source": [
    "<img src = \"https://scaler.com/topics/images/single-inheritance-in-python-1024x615.webp\" width=\"600\" height=\"600\">"
   ]
  },
  {
   "cell_type": "markdown",
   "metadata": {},
   "source": [
    "syntax :\n",
    "\n",
    "class BaseClassName:\n",
    "\n",
    "    //attributes\n",
    "    \n",
    "    //methods\n",
    "\n",
    "\n",
    "\n",
    "class DerivedClassName(BaseClassName):\n",
    "\n",
    "    pass"
   ]
  },
  {
   "cell_type": "markdown",
   "metadata": {},
   "source": [
    "#### Parent"
   ]
  },
  {
   "cell_type": "code",
   "execution_count": null,
   "metadata": {},
   "outputs": [],
   "source": [
    "class Person:\n",
    "    def __init__(self, fname: str, lname: str) -> None:\n",
    "        self.firstname = fname\n",
    "        self.lastname = lname\n",
    "\n",
    "    def printname(self: object) -> None:\n",
    "        print(self.firstname, self.lastname)\n",
    "    def welcome(self: object) -> None:\n",
    "        print(\"Hello from parent class\")\n",
    "\n",
    "\n",
    "john = Person(\"John\", \"wick\")\n",
    "print(john.firstname)\n",
    "print(john.lastname)\n",
    "john.printname()\n",
    "john.welcome()"
   ]
  },
  {
   "cell_type": "code",
   "execution_count": null,
   "metadata": {},
   "outputs": [],
   "source": []
  },
  {
   "cell_type": "markdown",
   "metadata": {},
   "source": [
    "##### child\n",
    "\n",
    "- To create a class that inherits the functionality from another class, send the parent class as a parameter when creating the child class:\n",
    "\n",
    "- Note: Use the pass keyword when you do not want to add any other properties or methods to the class."
   ]
  },
  {
   "cell_type": "code",
   "execution_count": null,
   "metadata": {},
   "outputs": [],
   "source": [
    "\n",
    "class Person: # parent\n",
    "    def __init__(self, fname, lname):\n",
    "        self.firstname = fname\n",
    "        self.lastname = lname\n",
    "\n",
    "    def _printname(self):\n",
    "        print(self.firstname, self.lastname)\n",
    "    def _welcome(self):\n",
    "        print(\"Hello from parent class\")\n",
    "\n",
    "        \n",
    "class Student(Person): #child\n",
    "    pass\n",
    "\n",
    "\n",
    "\n",
    "s = Student(\"Ellen\", \"Page\")\n",
    "print(s)\n",
    "\n",
    "print(s.firstname)\n",
    "print(s.lastname)\n",
    "\n",
    "s._printname()\n",
    "s._welcome()"
   ]
  },
  {
   "cell_type": "code",
   "execution_count": null,
   "metadata": {},
   "outputs": [],
   "source": []
  },
  {
   "cell_type": "code",
   "execution_count": null,
   "metadata": {},
   "outputs": [],
   "source": []
  },
  {
   "cell_type": "markdown",
   "metadata": {},
   "source": [
    "### __init__() method in child class\n",
    "\n",
    "- When you want to add the init() method in  child  and also in parent class , it will raise to new concept\n",
    "\n",
    "##### Note: The __init__() function is called automatically every time the class is being used to create a new object.\n",
    "\n",
    "- When you add the __init__() function, the child class will no longer inherit the parent's __init__() function.\n",
    "\n",
    "- To keep the inheritance of the parent's __init__() function, call the parent's __init__() function from child class __init__() "
   ]
  },
  {
   "cell_type": "code",
   "execution_count": null,
   "metadata": {},
   "outputs": [],
   "source": [
    "class Person:\n",
    "    def __init__(self, fname, lname):\n",
    "        self.firstname = fname\n",
    "        self.lastname = lname\n",
    "\n",
    "    def _printname(self):\n",
    "        print(self.firstname, self.lastname)\n",
    "    def _welcome(self):\n",
    "        print(\"Hello from parent class\")\n",
    "\n",
    "    \n",
    "class Student(Person):\n",
    "    def __init__(self, fname, lname, clg):\n",
    "        #Person.__init__(self,fname,lname) # calling parent constructor \n",
    "        super().__init__(fname,lname) # calling parent constructor with super() method\n",
    "        self.college = clg\n",
    "        \n",
    "        \n",
    "\n",
    "        \n",
    "s = Student(\"Ellen\" ,\"Page\", \"NJIT\")\n",
    "print(s.college)\n",
    "print(s.firstname)\n",
    "print(s.lastname)"
   ]
  },
  {
   "cell_type": "code",
   "execution_count": null,
   "metadata": {},
   "outputs": [],
   "source": [
    "class Person:\n",
    "    def __init__(self, fname, lname):\n",
    "\n",
    "        self.firstname = fname\n",
    "        self.lastname = lname\n",
    "\n",
    "    def _printname(self):\n",
    "        print(self.firstname, self.lastname)\n",
    "    def _welcome(self):\n",
    "        print(\"Hello from parent class\")\n",
    "\n",
    "        \n",
    "class Student(Person):\n",
    "    def __init__(self, fname, lname):\n",
    "        Person.__init__(self,fname, lname)\n",
    "       \n",
    "\n",
    "        \n",
    "x = Student(\"Ellen\" ,\"Page\")\n",
    "print(x.__dict__)\n"
   ]
  },
  {
   "cell_type": "markdown",
   "metadata": {},
   "source": [
    "#### Super() method\n",
    "\n",
    "- Python also has a super() function that will make the child class inherit all the methods and properties from its parent:\n",
    "\n",
    "- It is the first method in Child class init() method"
   ]
  },
  {
   "cell_type": "code",
   "execution_count": null,
   "metadata": {},
   "outputs": [],
   "source": [
    "class Person:\n",
    "    username = 'john'\n",
    "    def __init__(self, fname, lname):\n",
    "        self.firstname = fname\n",
    "        self.lastname = lname\n",
    "\n",
    "    def _printname(self):\n",
    "        print(self.firstname, self.lastname)\n",
    "    def _welcome(self):\n",
    "        print(\"Hello from parent class\")\n",
    "\n",
    "        \n",
    "class Student(Person):\n",
    "    password = 'john123'\n",
    "    def __init__(self, fname, lname,gyear):\n",
    "        super().__init__(fname, lname)\n",
    "        self.graduationyear = gyear\n",
    "        \n",
    "\n",
    "s = Student(\"Ellen\" ,\"Page\",2000)\n",
    "\n",
    "print(s.firstname)\n",
    "print(s.graduationyear)\n",
    "\n",
    "print(s.__dict__) # print all instance variables in dictionary format"
   ]
  },
  {
   "cell_type": "code",
   "execution_count": null,
   "metadata": {},
   "outputs": [],
   "source": []
  },
  {
   "cell_type": "code",
   "execution_count": null,
   "metadata": {},
   "outputs": [],
   "source": [
    "#If you add a method in the child class \n",
    "# with the same name as a function \n",
    "# in the parent class, the inheritance of the \n",
    "# parent method will be overridden."
   ]
  },
  {
   "cell_type": "code",
   "execution_count": null,
   "metadata": {},
   "outputs": [],
   "source": [
    "# Method Overriding\n",
    "\n",
    "class A:\n",
    "    def welcome(self):\n",
    "        print(\"welcome from class:A\")\n",
    "        \n",
    "class B(A):\n",
    "    def welcome(self):\n",
    "        print('welcome from class:B')\n",
    "        print('hi from child class B')\n",
    "        \n",
    "b = B()\n",
    "b.welcome()\n"
   ]
  },
  {
   "cell_type": "markdown",
   "metadata": {},
   "source": [
    "### Single level "
   ]
  },
  {
   "cell_type": "code",
   "execution_count": null,
   "metadata": {},
   "outputs": [],
   "source": [
    "class A:\n",
    "    def __init__(self,a,b):\n",
    "        self.num1=a\n",
    "        self.num2=b\n",
    "        \n",
    "    def add(self):\n",
    "        print(\"Parent method\")\n",
    "        print(f\"{self.num1} + {self.num2} ={self.num1+self.num2}\")\n",
    "    \n",
    "    def mult(self):\n",
    "        print(f\"{self.num1} * {self.num1} ={self.num1*self.num1}\")\n",
    "    \n",
    "\n",
    "class B(A):\n",
    "    def __init__(self,a,b,c):\n",
    "        super().__init__(a,b)\n",
    "        self.num3=c;\n",
    "        \n",
    "    def add(self):\n",
    "        print(\"Child Method\")\n",
    "        print(f\"{self.num1} + {self.num2} + {self.num3}={self.num1+self.num2+self.num2+self.num3}\")\n",
    "\n",
    "b = B(10,20,30)\n",
    "\n",
    "b.add()\n",
    "b.mult()\n"
   ]
  },
  {
   "cell_type": "markdown",
   "metadata": {},
   "source": [
    "## Guess the output"
   ]
  },
  {
   "cell_type": "code",
   "execution_count": null,
   "metadata": {},
   "outputs": [],
   "source": [
    "class X:\n",
    "    def hi(self):\n",
    "        print(\"Hi from Parent method\")\n",
    "\n",
    "class Y(X):\n",
    "    def hi(self):\n",
    "        print(\"Hi from Child method\")"
   ]
  },
  {
   "cell_type": "code",
   "execution_count": null,
   "metadata": {},
   "outputs": [],
   "source": [
    "x = X()\n",
    "x.hi()"
   ]
  },
  {
   "cell_type": "code",
   "execution_count": null,
   "metadata": {},
   "outputs": [],
   "source": [
    "y= Y()\n",
    "y.hi()"
   ]
  },
  {
   "cell_type": "code",
   "execution_count": null,
   "metadata": {},
   "outputs": [],
   "source": []
  },
  {
   "cell_type": "code",
   "execution_count": null,
   "metadata": {},
   "outputs": [],
   "source": []
  },
  {
   "cell_type": "code",
   "execution_count": null,
   "metadata": {},
   "outputs": [],
   "source": []
  },
  {
   "cell_type": "code",
   "execution_count": null,
   "metadata": {},
   "outputs": [],
   "source": [
    "class C:\n",
    "    def __init__(self):\n",
    "            self.c = 21\n",
    "            self.__d = 42\n",
    "            \n",
    "    def display_d(self):\n",
    "        print(\"IM displaying private attributes\")\n",
    "        print(self.__d)\n",
    "        \n",
    "class D(C):\n",
    "       def __init__(self):\n",
    "            C.__init__(self)\n",
    "            self.e = 84\n",
    "            \n",
    "      \n",
    "obj1 = D()\n",
    "obj1.display_d()\n",
    "print(obj1.__d) "
   ]
  },
  {
   "cell_type": "code",
   "execution_count": null,
   "metadata": {},
   "outputs": [],
   "source": []
  },
  {
   "cell_type": "code",
   "execution_count": null,
   "metadata": {},
   "outputs": [],
   "source": []
  },
  {
   "cell_type": "markdown",
   "metadata": {},
   "source": [
    "### Different forms of Inheritance\n",
    "\n",
    "1. Single inheritance: When a child class inherits from only one parent class, it is called single inheritance. We saw an example above.\n",
    "\n",
    "\n",
    "2. Multilevel inheritance: When we have a child and grandchild relationship.\n",
    "\n",
    "\n",
    "3. Multiple inheritance: When a child class inherits from multiple parent classes, it is called multiple inheritance. \n",
    "\n",
    "\n",
    "4. Hierarchical inheritance More than one derived classes are created from a single base.\n",
    "\n",
    "5. Hybrid inheritance: This form combines more than one form of inheritance. Basically, it is a blend of more than one type of inheritance.\n",
    "\n",
    "\n",
    "Unlike Java and like C++, Python supports multiple inheritance. We specify all parent classes as a comma-separated list in the bracket. "
   ]
  },
  {
   "cell_type": "markdown",
   "metadata": {},
   "source": [
    "```python\n",
    "# define a superclass\n",
    "class super_class:\n",
    "    # attributes and method definition\n",
    "\n",
    "# inheritance\n",
    "class sub_class(super_class):\n",
    "    # attributes and method of super_class\n",
    "    # attributes and method of sub_class\n",
    "```"
   ]
  },
  {
   "cell_type": "markdown",
   "metadata": {},
   "source": [
    "### Single Inheritance"
   ]
  },
  {
   "cell_type": "markdown",
   "metadata": {},
   "source": [
    "#### Example"
   ]
  },
  {
   "cell_type": "code",
   "execution_count": 11,
   "metadata": {},
   "outputs": [
    {
     "name": "stdout",
     "output_type": "stream",
     "text": [
      "parent init method \n",
      "child init method \n",
      "d123\n",
      "IT\n",
      "Kumar\n",
      "11223096\n",
      "200000\n",
      "Intern\n"
     ]
    }
   ],
   "source": [
    "# parent class\n",
    "class Person:\n",
    " \n",
    "    # __init__ is known as the constructor\n",
    "    def __init__(self, deptId,deptName):\n",
    "        print('parent init method ')\n",
    "        self.deptId = deptId\n",
    "        self.deptName = deptName\n",
    " \n",
    "    def display(self):\n",
    "        print(self.deptId)\n",
    "        print(self.deptName)\n",
    "\n",
    "class Employee(Person): # #child class\n",
    "    def __init__(self, dept_id, dept_name, emp_name,emp_id,salary, post):\n",
    "        # super().__init__(dept_id,dept_name)\n",
    "        \n",
    "        print('child init method ')\n",
    "        self.empName = emp_name\n",
    "        self.empId = emp_id\n",
    "        self.salary = salary\n",
    "        self.post = post\n",
    " \n",
    "        # invoking the __init__ of the parent class\n",
    "        Person.__init__(self, dept_id, dept_name)\n",
    "        \n",
    "     \n",
    "    def display(self):\n",
    "        #Person.display(self) # parent class method\n",
    "        super().display()\n",
    "        print(self.empName, self.empId, self.salary,self.post, sep = '\\n')\n",
    "\n",
    "emp1 = Employee('d123', 'IT','Kumar', 11223096, 200000, \"Intern\") # creation of an object variable or an instance\n",
    " \n",
    "# calling a function of the class Person using its instance\n",
    "emp1.display()"
   ]
  },
  {
   "cell_type": "markdown",
   "metadata": {},
   "source": [
    "#### Example-2"
   ]
  },
  {
   "cell_type": "code",
   "execution_count": 12,
   "metadata": {},
   "outputs": [
    {
     "name": "stdout",
     "output_type": "stream",
     "text": [
      "I can eat\n",
      "My name is  Leo\n"
     ]
    }
   ],
   "source": [
    "class Animal:\n",
    "\n",
    "    # attribute and method of the parent class\n",
    "    name = \"\"\n",
    "    \n",
    "    def eat(self):\n",
    "        print(\"I can eat\")\n",
    "\n",
    "class Dog(Animal): # inherit from Animal\n",
    "\n",
    "    # new method in subclass\n",
    "    def display(self):\n",
    "        # access name attribute of superclass using self\n",
    "        print(\"My name is \", self.name)\n",
    "\n",
    "\n",
    "labrador = Dog() # create an object of the subclass # default constructor\n",
    "\n",
    "labrador.name = \"Leo\" # access superclass attribute and method \n",
    "labrador.eat()\n",
    "\n",
    "# call subclass method \n",
    "labrador.display()"
   ]
  },
  {
   "cell_type": "code",
   "execution_count": null,
   "metadata": {},
   "outputs": [],
   "source": []
  },
  {
   "cell_type": "markdown",
   "metadata": {},
   "source": [
    "###### Mutilevel\n",
    "\n",
    "A\n",
    "\n",
    "^\n",
    "\n",
    "|\n",
    "\n",
    "\n",
    "|\n",
    "\n",
    "B\n",
    "\n",
    "^\n",
    "\n",
    "|\n",
    "\n",
    "|\n",
    "\n",
    "^\n",
    "\n",
    "C\n",
    "\n",
    "|\n",
    "\n",
    "|\n",
    "\n",
    "^\n",
    "\n",
    "D\n",
    "\n"
   ]
  },
  {
   "cell_type": "code",
   "execution_count": 13,
   "metadata": {},
   "outputs": [
    {
     "name": "stdout",
     "output_type": "stream",
     "text": [
      "Iam Child.\n",
      "IAM Parent\n",
      "IAM GRAND\n",
      "{'name': 'ram', 'age': 23, 'address': 'Noida'}\n",
      "ram 23 Noida\n"
     ]
    }
   ],
   "source": [
    "class GrandP():\n",
    "      \n",
    "    # Constructor\n",
    "    def __init__(self, name):\n",
    "        print(\"IAM GRAND\")\n",
    "        self.name = name\n",
    "  \n",
    "    # To get name\n",
    "    def getName(self):\n",
    "        return self.name\n",
    "  \n",
    "  \n",
    "# Inherited or Sub class (Note Person in bracket)\n",
    "class Parent(GrandP):\n",
    "      \n",
    "    # Constructor\n",
    "    def __init__(self, name, age):\n",
    "        print(\"IAM Parent\")\n",
    "        GrandP.__init__(self, name)\n",
    "        self.age = age\n",
    "  \n",
    "    # To get name\n",
    "    def getAge(self):\n",
    "        return self.age\n",
    "  \n",
    "# Inherited or Sub class (Note Person in bracket)\n",
    "\n",
    "class GrandChild(Parent):\n",
    "      \n",
    "    # Constructor\n",
    "    def __init__(self, name, age, address):\n",
    "        print(\"Iam Child.\")\n",
    "        Parent.__init__(self, name, age)\n",
    "        self.address = address\n",
    "  \n",
    "    # To get address\n",
    "    def getAddress(self):\n",
    "        return self.address        \n",
    "  \n",
    "# Driver code\n",
    "g = GrandChild(\"ram\", 23, \"Noida\")  \n",
    "\n",
    "print(g.__dict__)\n",
    "\n",
    "print(g.getName(), g.getAge(), g.getAddress())"
   ]
  },
  {
   "cell_type": "code",
   "execution_count": 14,
   "metadata": {},
   "outputs": [
    {
     "data": {
      "text/plain": [
       "[__main__.GrandChild, __main__.Parent, __main__.GrandP, object]"
      ]
     },
     "execution_count": 14,
     "metadata": {},
     "output_type": "execute_result"
    }
   ],
   "source": [
    "GrandChild.mro() #method resolution order."
   ]
  },
  {
   "cell_type": "markdown",
   "metadata": {},
   "source": [
    "### Mutliple \n",
    "\n",
    "<img src = \"https://cdn.programiz.com/sites/tutorial2program/files/MultipleInheritance.jpg\"> \n"
   ]
  },
  {
   "cell_type": "code",
   "execution_count": 15,
   "metadata": {},
   "outputs": [
    {
     "name": "stdout",
     "output_type": "stream",
     "text": [
      "Base1\n",
      "Base2\n",
      "Derived\n",
      "Geek1 Geek2\n"
     ]
    }
   ],
   "source": [
    "class Base1():\n",
    "    def __init__(self):\n",
    "        self.str1 = \"Geek1\"\n",
    "        print(\"Base1\")\n",
    "  \n",
    "class Base2():\n",
    "    def __init__(self):\n",
    "        self.str2 = \"Geek2\"        \n",
    "        print(\"Base2\")\n",
    "  \n",
    "class Derived(Base1, Base2):\n",
    "    def __init__(self):\n",
    "        # Calling constructors of Base1\n",
    "        # and Base2 classes\n",
    "        Base1.__init__(self)\n",
    "        Base2.__init__(self)\n",
    "        print(\"Derived\")\n",
    "          \n",
    "    def printStrs(self):\n",
    "        print(self.str1, self.str2)\n",
    "         \n",
    "  \n",
    "ob = Derived()\n",
    "\n",
    "ob.printStrs()"
   ]
  },
  {
   "cell_type": "code",
   "execution_count": 18,
   "metadata": {},
   "outputs": [
    {
     "name": "stdout",
     "output_type": "stream",
     "text": [
      "Base2\n",
      "Base from - Geek2\n"
     ]
    }
   ],
   "source": [
    "\n",
    "\n",
    "class Base1():\n",
    "    def __init__(self):\n",
    "        self.str2 = \"Base from  - Geek1\"\n",
    "        print(\"Base1\")\n",
    "\n",
    "  \n",
    "class Base2():\n",
    "    def __init__(self):\n",
    "        self.str2 = \"Base from - Geek2\"        \n",
    "        print(\"Base2\")\n",
    "        \n",
    "class Derived(Base2, Base1):\n",
    "    pass\n",
    "         \n",
    "  \n",
    "ob = Derived()\n",
    "\n",
    "print(ob.str2)"
   ]
  },
  {
   "cell_type": "code",
   "execution_count": 22,
   "metadata": {},
   "outputs": [],
   "source": [
    "class Mi:\n",
    "    def __init__(self,r,p):\n",
    "        print(\"Mi class\")\n",
    "        self.ram = r\n",
    "        self.processor = p\n",
    "        self.model_name = \"Mi\"\n",
    "        \n",
    "    def mobile_description(self):\n",
    "        print(self.model_name)\n",
    "        print(f\"RAM:{self.ram}\\nProcessor: {self.processor}\\n \")\n",
    "\n",
    "    def hiAI(self):\n",
    "        print(\"hi am chat gpt ai tool...\")\n",
    "        \n",
    "class OnePlus:\n",
    "    def __init__(self,r,p):\n",
    "        print(\"One Plus Class\")\n",
    "        self.ram = r\n",
    "        self.processor = p\n",
    "        self.model_name = \"OnePlus\"\n",
    "        \n",
    "    def mobile_description(self):\n",
    "        print(self.model_name)\n",
    "        print(f\"RAM: {self.ram} \\nProcessor: {self.processor}\\n \")\n",
    "        \n",
    "    def print_greet(self):\n",
    "        print(\"Hey Hi Hi\")\n",
    "\n",
    "\n",
    "class NewMobile(Mi, OnePlus): #it will inherit the properties from the first passed parent class.\n",
    "    pass\n",
    "    \n",
    "        "
   ]
  },
  {
   "cell_type": "code",
   "execution_count": 25,
   "metadata": {},
   "outputs": [
    {
     "name": "stdout",
     "output_type": "stream",
     "text": [
      "Mi class\n",
      "Mi\n",
      "RAM:8GB\n",
      "Processor: SanpD\n",
      " \n",
      "Hey Hi Hi\n",
      "hi am chat gpt ai tool...\n"
     ]
    }
   ],
   "source": [
    "ob = NewMobile(\"8GB\",'SanpD')\n",
    "\n",
    "ob.mobile_description()\n",
    "ob.print_greet()\n",
    "\n",
    "ob.hiAI()"
   ]
  },
  {
   "cell_type": "markdown",
   "metadata": {},
   "source": [
    "### Hierarchical inheritance"
   ]
  },
  {
   "cell_type": "code",
   "execution_count": 28,
   "metadata": {},
   "outputs": [
    {
     "name": "stdout",
     "output_type": "stream",
     "text": [
      "cat eat method\n",
      "dog eat method\n",
      "dog is barking\n"
     ]
    }
   ],
   "source": [
    "class Animal:\n",
    "    def eat(self):\n",
    "        print(\"I can eat\")\n",
    "\n",
    "class Dog(Animal):\n",
    "    def eat(self):\n",
    "        print('dog eat method')\n",
    "    def bark(self):\n",
    "        print('dog is barking')\n",
    "        \n",
    "class Cat(Animal):\n",
    "    def eat(self):\n",
    "        print('cat eat method')\n",
    "    def meow(self):\n",
    "        print('cat is meow')\n",
    "        \n",
    "\n",
    "        \n",
    "cat = Cat()\n",
    "cat.eat()\n",
    "\n",
    "dog = Dog()\n",
    "dog.eat()\n",
    "dog.bark()"
   ]
  },
  {
   "cell_type": "code",
   "execution_count": null,
   "metadata": {},
   "outputs": [],
   "source": []
  },
  {
   "cell_type": "code",
   "execution_count": null,
   "metadata": {},
   "outputs": [],
   "source": []
  },
  {
   "cell_type": "markdown",
   "metadata": {},
   "source": [
    "### Encapsulation\n",
    "\n",
    "<img src = \" https://media.geeksforgeeks.org/wp-content/uploads/20191013164254/encapsulation-in-python.png\">\n",
    "\n",
    "\n",
    "- Wrapping data and the methods of class that work on data within one unit\n",
    "\n",
    "- A class is an example of encapsulation as it encapsulates all the data that is member functions, variables , etc\n",
    "\n",
    "- This Puts the restrictions on accessing variables and methods directly\n",
    "\n",
    "- Prevents accidental modification # private variables\n",
    "\n",
    "- Provides Security\n"
   ]
  },
  {
   "cell_type": "code",
   "execution_count": 35,
   "metadata": {},
   "outputs": [
    {
     "name": "stdout",
     "output_type": "stream",
     "text": [
      "Kumar and age is 55\n"
     ]
    },
    {
     "ename": "AttributeError",
     "evalue": "'Person' object has no attribute '__name'",
     "output_type": "error",
     "traceback": [
      "\u001b[1;31m---------------------------------------------------------------------------\u001b[0m",
      "\u001b[1;31mAttributeError\u001b[0m                            Traceback (most recent call last)",
      "Cell \u001b[1;32mIn[35], line 14\u001b[0m\n\u001b[0;32m     10\u001b[0m p \u001b[38;5;241m=\u001b[39m Person(\u001b[38;5;124m\"\u001b[39m\u001b[38;5;124mKumar\u001b[39m\u001b[38;5;124m\"\u001b[39m,\u001b[38;5;241m55\u001b[39m)\n\u001b[0;32m     13\u001b[0m \u001b[38;5;28mprint\u001b[39m(p\u001b[38;5;241m.\u001b[39mdisplayDetails())\n\u001b[1;32m---> 14\u001b[0m \u001b[38;5;28mprint\u001b[39m(\u001b[43mp\u001b[49m\u001b[38;5;241;43m.\u001b[39;49m\u001b[43m__name\u001b[49m)\n",
      "\u001b[1;31mAttributeError\u001b[0m: 'Person' object has no attribute '__name'"
     ]
    }
   ],
   "source": [
    "class Person:\n",
    "    def __init__(self,n,a):\n",
    "        self.__name = n\n",
    "        self.__age = a\n",
    "        \n",
    "    def displayDetails(self):\n",
    "        return f\"{self.__name} and age is {self.__age}\"\n",
    "        \n",
    "        \n",
    "p = Person(\"Kumar\",55)\n",
    "\n",
    "\n",
    "print(p.displayDetails())\n",
    "print(p.__name)"
   ]
  },
  {
   "cell_type": "code",
   "execution_count": 36,
   "metadata": {},
   "outputs": [
    {
     "name": "stdout",
     "output_type": "stream",
     "text": [
      "Calling protected member of base class: \n",
      "2\n"
     ]
    }
   ],
   "source": [
    "class Base:\n",
    "    def __init__(self):\n",
    "        self._a = 2 \n",
    " \n",
    "# Creating a derived class   \n",
    "class Derived(Base):\n",
    "    def __init__(self):\n",
    "        Base.__init__(self)\n",
    "        \n",
    "        print(\"Calling protected member of base class: \")\n",
    "        print(self._a)\n",
    " \n",
    "\n",
    "obj1 = Derived()"
   ]
  },
  {
   "cell_type": "code",
   "execution_count": null,
   "metadata": {},
   "outputs": [],
   "source": []
  },
  {
   "cell_type": "code",
   "execution_count": null,
   "metadata": {},
   "outputs": [],
   "source": []
  },
  {
   "cell_type": "code",
   "execution_count": 37,
   "metadata": {},
   "outputs": [
    {
     "name": "stdout",
     "output_type": "stream",
     "text": [
      "Calling protected member of base class: \n"
     ]
    },
    {
     "ename": "AttributeError",
     "evalue": "'Derived' object has no attribute '_Derived__a'",
     "output_type": "error",
     "traceback": [
      "\u001b[1;31m---------------------------------------------------------------------------\u001b[0m",
      "\u001b[1;31mAttributeError\u001b[0m                            Traceback (most recent call last)",
      "Cell \u001b[1;32mIn[37], line 16\u001b[0m\n\u001b[0;32m     12\u001b[0m         \u001b[38;5;28mprint\u001b[39m(\u001b[38;5;124m\"\u001b[39m\u001b[38;5;124mCalling protected member of base class: \u001b[39m\u001b[38;5;124m\"\u001b[39m)\n\u001b[0;32m     13\u001b[0m         \u001b[38;5;28mprint\u001b[39m(\u001b[38;5;28mself\u001b[39m\u001b[38;5;241m.\u001b[39m__a)\n\u001b[1;32m---> 16\u001b[0m obj1 \u001b[38;5;241m=\u001b[39m \u001b[43mDerived\u001b[49m\u001b[43m(\u001b[49m\u001b[43m)\u001b[49m\n",
      "Cell \u001b[1;32mIn[37], line 13\u001b[0m, in \u001b[0;36mDerived.__init__\u001b[1;34m(self)\u001b[0m\n\u001b[0;32m     10\u001b[0m Base\u001b[38;5;241m.\u001b[39m\u001b[38;5;21m__init__\u001b[39m(\u001b[38;5;28mself\u001b[39m)\n\u001b[0;32m     12\u001b[0m \u001b[38;5;28mprint\u001b[39m(\u001b[38;5;124m\"\u001b[39m\u001b[38;5;124mCalling protected member of base class: \u001b[39m\u001b[38;5;124m\"\u001b[39m)\n\u001b[1;32m---> 13\u001b[0m \u001b[38;5;28mprint\u001b[39m(\u001b[38;5;28;43mself\u001b[39;49m\u001b[38;5;241;43m.\u001b[39;49m\u001b[43m__a\u001b[49m)\n",
      "\u001b[1;31mAttributeError\u001b[0m: 'Derived' object has no attribute '_Derived__a'"
     ]
    }
   ],
   "source": [
    "class Base:\n",
    "    def __init__(self):\n",
    "        self.__a = 2 \n",
    "    def display(self):\n",
    "        print(self.__a)\n",
    "  \n",
    "class Derived(Base):\n",
    "    def __init__(self):\n",
    "\n",
    "        Base.__init__(self)\n",
    "        \n",
    "        print(\"Calling protected member of base class: \")\n",
    "        print(self.__a)\n",
    " \n",
    "\n",
    "obj1 = Derived()\n",
    "         \n"
   ]
  },
  {
   "cell_type": "markdown",
   "metadata": {},
   "source": [
    "### Polymorphism\n",
    "\n",
    " - The word polymorphism means having many forms. In programming, polymorphism means same function name \n",
    " (but different signatures) being uses for different types."
   ]
  },
  {
   "cell_type": "code",
   "execution_count": 39,
   "metadata": {},
   "outputs": [
    {
     "name": "stdout",
     "output_type": "stream",
     "text": [
      "6\n",
      "3\n",
      "4\n"
     ]
    }
   ],
   "source": [
    "# Python program to demonstrate in-built poly-\n",
    "# morphic functions\n",
    "  \n",
    "# len() being used for a string\n",
    "print(len(\"python\"))\n",
    "  \n",
    "# len() being used for a list\n",
    "print(len([10, 20, 30]))\n",
    "\n",
    "print(len({12,3,4,8}))"
   ]
  },
  {
   "cell_type": "code",
   "execution_count": 40,
   "metadata": {},
   "outputs": [
    {
     "name": "stdout",
     "output_type": "stream",
     "text": [
      "30\n",
      "KumarA\n",
      "[10, 230, 20, 30]\n",
      "('r', 'k', 'a', 'k')\n"
     ]
    }
   ],
   "source": [
    "def add(a,b):\n",
    "    print(a+b)\n",
    "\n",
    "    \n",
    "add(10,20) #acts a addition of intergers\n",
    "add(\"Kumar\",\"A\")\n",
    "add([10,230],[20,30]) #addition of two list\n",
    "add(('r','k'),('a','k')) #addition of two tuples"
   ]
  },
  {
   "cell_type": "code",
   "execution_count": 42,
   "metadata": {},
   "outputs": [
    {
     "name": "stdout",
     "output_type": "stream",
     "text": [
      "There are many types of birds.\n",
      "Most of the birds can fly but some cannot.\n",
      "\n",
      "There are many types of birds.\n",
      "Sparrows can fly.\n",
      "\n",
      "There are many types of birds.\n",
      "Sparrows can fly.\n"
     ]
    }
   ],
   "source": [
    "class Bird:\n",
    "  def intro(self):\n",
    "    print(\"There are many types of birds.\")\n",
    "      \n",
    "  def flight(self):\n",
    "    print(\"Most of the birds can fly but some cannot.\")\n",
    "    \n",
    "class sparrow(Bird):\n",
    "    #overridding\n",
    "  def flight(self):\n",
    "    print(\"Sparrows can fly.\")\n",
    "      \n",
    "class ostrich(sparrow):\n",
    "    pass\n",
    "      \n",
    "obj_bird = Bird()\n",
    "obj_spr = sparrow()\n",
    "obj_ost = ostrich()\n",
    "  \n",
    "obj_bird.intro()\n",
    "obj_bird.flight()\n",
    "print()\n",
    "\n",
    "obj_spr.intro()\n",
    "obj_spr.flight()\n",
    "\n",
    "print()\n",
    "\n",
    "obj_ost.intro()\n",
    "obj_ost.flight()"
   ]
  },
  {
   "cell_type": "markdown",
   "metadata": {},
   "source": [
    "### method overloading\n",
    "\n",
    "- Writing same function names with different signature's\n",
    "\n",
    "- Its is not possible in python"
   ]
  },
  {
   "cell_type": "code",
   "execution_count": 55,
   "metadata": {},
   "outputs": [],
   "source": [
    "class Calci:\n",
    "    \n",
    "    def add(self,a,b,c,d):\n",
    "        print(\"Four args add() \")\n",
    "        print(a+b+c+d)\n",
    "        \n",
    "    def add(self,a,b):\n",
    "        print(\"Two args add() \")\n",
    "        print(a+b)\n",
    "    def add(self,a,b,c):\n",
    "        print(\"Three args add() \")\n",
    "        print(a+b+c)\n",
    "        \n",
    "    def add(self):\n",
    "        print(\"Empty add\")\n",
    "    \n",
    "\n",
    "    "
   ]
  },
  {
   "cell_type": "code",
   "execution_count": 56,
   "metadata": {},
   "outputs": [],
   "source": [
    "c = Calci()"
   ]
  },
  {
   "cell_type": "code",
   "execution_count": 57,
   "metadata": {},
   "outputs": [
    {
     "name": "stdout",
     "output_type": "stream",
     "text": [
      "Empty add\n"
     ]
    }
   ],
   "source": [
    "c.add()\n",
    "\n"
   ]
  },
  {
   "cell_type": "code",
   "execution_count": null,
   "metadata": {},
   "outputs": [],
   "source": [
    "#TIP\n",
    "#Variables should be PRIVATE , PROTECTED\n",
    "#methods shouble be PUBLIC"
   ]
  },
  {
   "cell_type": "code",
   "execution_count": null,
   "metadata": {},
   "outputs": [],
   "source": [
    "class Election:\n",
    "    \n",
    "    def __init__(self,name, city,election_id, age):\n",
    "        self._name = name\n",
    "        self._city = city\n",
    "        self._election_id = election_id\n",
    "        self._age = age\n",
    "        \n",
    "    def isEligible(self):\n",
    "        if(self._age>=18):\n",
    "            \n",
    "            #is valid or not\n",
    "            if(self._election_id==\"Yes\"):\n",
    "                print(f\"Hey {self._name} you are Eligible to Vote\")\n",
    "            else:\n",
    "                print(f\"{self._name} Should apply for the ELECTION CARD\")\n",
    "\n",
    "        else:\n",
    "            print(\"NOT ELIGIBLE\")\n",
    "        \n",
    "\n",
    "ob = Election(\"AK\",\"DELHI\",True,26)\n",
    "ob.isEligible()"
   ]
  },
  {
   "cell_type": "code",
   "execution_count": null,
   "metadata": {},
   "outputs": [],
   "source": [
    "name = input(\"Enter the name: \")\n",
    "city= input(\"Enter city name: \")\n",
    "e_id = input(\"Do you have ID Yes or No :\")\n",
    "\n",
    "age = int(input(\"Enter the age: \"))"
   ]
  },
  {
   "cell_type": "code",
   "execution_count": null,
   "metadata": {},
   "outputs": [],
   "source": [
    "ob2 = Election(name ,city,e_id,age)"
   ]
  },
  {
   "cell_type": "code",
   "execution_count": null,
   "metadata": {},
   "outputs": [],
   "source": [
    "ob2.isEligible()"
   ]
  },
  {
   "cell_type": "code",
   "execution_count": null,
   "metadata": {},
   "outputs": [],
   "source": []
  }
 ],
 "metadata": {
  "kernelspec": {
   "display_name": "Python 3 (ipykernel)",
   "language": "python",
   "name": "python3"
  },
  "language_info": {
   "codemirror_mode": {
    "name": "ipython",
    "version": 3
   },
   "file_extension": ".py",
   "mimetype": "text/x-python",
   "name": "python",
   "nbconvert_exporter": "python",
   "pygments_lexer": "ipython3",
   "version": "3.10.9"
  }
 },
 "nbformat": 4,
 "nbformat_minor": 4
}
