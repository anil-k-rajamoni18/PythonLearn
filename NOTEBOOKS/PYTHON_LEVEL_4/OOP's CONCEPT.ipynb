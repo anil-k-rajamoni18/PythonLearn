{
 "cells": [
  {
   "cell_type": "markdown",
   "metadata": {},
   "source": [
    "### Functional Programming VS Object Oriented Programming (OOP)?"
   ]
  },
  {
   "cell_type": "markdown",
   "metadata": {},
   "source": [
    "**Functional programming** is the form of programming that attempts to avoid changing state and mutable data. In a functional program, the output of a function should always be the same, given the same exact inputs to the function.\n",
    "\n",
    "- outputs of a function in functional programming purely relies on arguments of the function, This is called eliminating side effects in your code.\n",
    "\n",
    "- For example, if you call function getAddition() it calculates the sum of two inputs and returns the sum. Given the same inputs for x and y, we will always get the same output for sum.\n",
    "\n",
    "\n",
    "- Functional programming provides the advantages like \n",
    "    - efficiency, \n",
    "    - lazy evaluation, \n",
    "    - nested functions, \n",
    "    - bug-free code, \n",
    "    - parallel programming. \n",
    "\n",
    "- In simple language, functional programming is to write the function having statements to execute a particular task for the application"
   ]
  },
  {
   "cell_type": "markdown",
   "metadata": {},
   "source": [
    "- **Object oriented programming** is a programming paradigm in which you program using objects & classes  to represent things (real world things). \n",
    "- These objects could be data structures. \n",
    "- The objects hold data about them in attributes. \n",
    "- The attributes in the objects are manipulated through methods or functions that are given to the object.\n",
    "\n",
    "```html\n",
    "For example we have a car object that represents of all it's data , \n",
    "    - like speed , weight , color , horse power , model name , engine type etc\n",
    "\n",
    "```\n",
    "![screenshot](https://cdn.hashnode.com/res/hashnode/image/upload/v1619276176236/FZIPVkzOU.png?w=1600&h=840&fit=crop&crop=entropy&auto=compress,format&format=webp)\n",
    "\n",
    "\n",
    "- The main deal with OOP is the ability to encapsulate data from outsiders. \n",
    "- Encapsulation is the ability to hide variables within the class from outside access — which makes it great for security reasons, along with leaky, unwanted or accidental usage"
   ]
  },
  {
   "cell_type": "code",
   "execution_count": null,
   "metadata": {},
   "outputs": [],
   "source": [
    "a = 10\n",
    "def funa():\n",
    "    global a \n",
    "    a = 100\n",
    "    \n",
    "def funb():\n",
    "    global a \n",
    "    a = a - 20\n",
    "\n",
    "\n",
    "funa()\n",
    "funb()\n",
    "\n",
    "print(a)"
   ]
  },
  {
   "cell_type": "code",
   "execution_count": null,
   "metadata": {},
   "outputs": [],
   "source": []
  },
  {
   "cell_type": "markdown",
   "metadata": {},
   "source": [
    "<img src = \"https://scand.com/wp-content/uploads/2022/08/Group-261.jpg\">"
   ]
  },
  {
   "cell_type": "markdown",
   "metadata": {},
   "source": [
    "### OOP's\n",
    "\n",
    "Object means a real-world entity such as a pen, chair, table, computer, watch, etc. Object-Oriented Programming is a methodology or paradigm to design a program using classes and objects. It simplifies software development and maintenance by providing some concepts:\n",
    "\n",
    "- Object\n",
    "- Class\n",
    "- Inheritance\n",
    "- Polymorphism\n",
    "- Abstraction\n",
    "- Encapsulation"
   ]
  },
  {
   "cell_type": "markdown",
   "metadata": {},
   "source": []
  },
  {
   "cell_type": "markdown",
   "metadata": {},
   "source": [
    "### Class & Object\n",
    "\n",
    "- As we know all , Python is an object oriented programming language.\n",
    "- In python almost everything is an object with properties and methods\n",
    "\n",
    "\n",
    "### Class\n",
    "\n",
    "- A class is like a object constuctor \n",
    "- A class defines the specification of the instance ( object) , in simple words it design a blue print ,for the object with all behavourial things defined.\n",
    "\n",
    "- It is like a template\n",
    "\n",
    "- In Python to create a class **class** keyword is used.\n",
    "\n",
    "- Class names should be singular and pascal case style\n",
    "\n",
    "\n",
    "### object :\n",
    "\n",
    "- An object is defined as Real entity derived from class definition\n",
    "\n",
    "- An object is data formatted to represent a real world object that has a state and behavior\n",
    "\n",
    "- State = defined by attributes \n",
    "\n",
    "- Behaviour = defined by methods\n",
    "\n",
    "- An object cant exist without a Class.\n",
    "- Object will have attributes(variables) and methods(functions) and their associated properties\n",
    "\n",
    "- Object expose the data to the outside world using methods\n",
    "- Always attributes are private scope and methods are public scope , bounded together.\n",
    "\n"
   ]
  },
  {
   "cell_type": "markdown",
   "metadata": {},
   "source": [
    "<img src = \"https://appdividend.com/wp-content/uploads/2019/07/Python-Classes-And-Objects-Example-Object-In-Python.png\" \n",
    "     width=\"400\" height=\"400\">"
   ]
  },
  {
   "cell_type": "code",
   "execution_count": null,
   "metadata": {},
   "outputs": [],
   "source": [
    "class StrangerThings: # class definition\n",
    "    eleven = 'Iam eleven... :)'\n",
    "    def oneLiner(self):\n",
    "        print(\"Friends Don't Lie\")\n",
    "        \n",
    "        \n",
    "#object creation        \n",
    "s = StrangerThings()\n",
    "# print(s, type(s), id(s), sep = '\\n')\n",
    "\n",
    "\n",
    "# can we invoke directly? \n",
    "\n",
    "#print(eleven)\n",
    "#oneLiner()\n",
    "\n",
    "# access with object name\n",
    "print(s.eleven)\n",
    "s.oneLiner()"
   ]
  },
  {
   "cell_type": "markdown",
   "metadata": {},
   "source": [
    "<img src = \"http://www.trytoprogram.com/images/python_object_class.jpg\" width=\"600\" height=\"600\">"
   ]
  },
  {
   "cell_type": "code",
   "execution_count": null,
   "metadata": {},
   "outputs": [],
   "source": [
    "class Car:\n",
    "      def __init__(self, carName, carModel, carPrice,color, engine = 'Petrol', capacity = None):\n",
    "        print('constructor is called for object instantiation')\n",
    "        self.name = carName  #object variable/instance\n",
    "        self.model = carModel \n",
    "        self.price = carPrice\n",
    "        self.color = color \n",
    "        self.engine_type = engine \n",
    "        self.batter_capacity = capacity \n",
    " \n",
    "\n",
    "\n",
    "ford = Car('ford', 'alpha v1', '30L', 'black') # object creation-1\n",
    "print(ford)\n",
    "print(ford.name, ford.model, ford.price , sep = '\\n')\n",
    "\n",
    "\n",
    "print() \n",
    "\n",
    "ferrari = Car('Ferrari', 'Zeta V2', '80L', 'red', 'disel')# object creation-2\n",
    "print(ferrari.name)\n",
    "print(ferrari.model)\n",
    "print(ferrari.engine_type)\n",
    "\n",
    "\n",
    "print()\n",
    "\n",
    "mg = Car('mg comet ev', 'v1', '7L', 'white', None, '230km') # object creation-3\n",
    "print(mg.name)\n",
    "print(mg.batter_capacity)\n",
    "print(mg.color)\n",
    "print(mg.engine_type)"
   ]
  },
  {
   "cell_type": "markdown",
   "metadata": {},
   "source": [
    "### Example\n",
    "- Everything in python is interpreted as class "
   ]
  },
  {
   "cell_type": "code",
   "execution_count": null,
   "metadata": {},
   "outputs": [],
   "source": [
    "a = 10\n",
    "print(type(a))\n",
    "\n",
    "lst = [10,20,30]\n",
    "print(type(lst))\n",
    "\n",
    "\n",
    "def fun():\n",
    "    pass\n",
    "\n",
    "print(type(fun))"
   ]
  },
  {
   "cell_type": "markdown",
   "metadata": {},
   "source": [
    "\n",
    "### Class\n",
    "- Different ways of declaring class"
   ]
  },
  {
   "cell_type": "markdown",
   "metadata": {},
   "source": [
    "### Method-1\n",
    "- declaring only class-level attributes(variables) [any variables declared outside init() method]"
   ]
  },
  {
   "cell_type": "code",
   "execution_count": null,
   "metadata": {},
   "outputs": [],
   "source": [
    "class Car:\n",
    "    # class variables\n",
    "    speed = '120kmph'\n",
    "    name = 'MG comet Ev'\n",
    "    price = 8\n",
    "    battery = '17.3kWh'\n",
    "    torque = 110\n",
    "    range_kms = '230km'\n",
    "    \n",
    "    # instance methods\n",
    "    def displayTorque(self):\n",
    "        return f'{self.name} torque is {self.torque} newton/meters'\n",
    "    \n",
    "    def batteryCapacity(self):\n",
    "        return f'Max battery capacity of {self.name} is {self.battery}'\n",
    "    \n",
    "    def displayPrice(self):\n",
    "        return f'{self.name} price is {self.price} lakhs'\n"
   ]
  },
  {
   "cell_type": "code",
   "execution_count": null,
   "metadata": {},
   "outputs": [],
   "source": [
    "mg = Car() # object instaintation\n",
    "\n",
    "# accessing attributes using object\n",
    "print(mg.speed)\n",
    "print(mg.price)\n",
    "print(mg.battery)\n",
    "\n",
    "\n",
    "## accessing methods using object\n",
    "print(mg.displayTorque())\n",
    "print(mg.displayPrice())\n",
    "print(mg.batteryCapacity())"
   ]
  },
  {
   "cell_type": "code",
   "execution_count": null,
   "metadata": {},
   "outputs": [],
   "source": []
  },
  {
   "cell_type": "code",
   "execution_count": null,
   "metadata": {},
   "outputs": [],
   "source": [
    "# second object, change price and speed..\n",
    "mg2 = Car() # object creation\n",
    "\n",
    "print(mg2.price)\n",
    "print(mg2.speed)\n",
    "\n",
    "# changing the values of attributes with object name : outside class\n",
    "mg2.price = 9\n",
    "mg2.speed = '150kmph'\n",
    "\n",
    "print(mg2.price)\n",
    "print(mg2.speed)\n",
    "\n",
    "print(mg.displayTorque())\n",
    "print(mg.displayPrice())\n",
    "print(mg.batteryCapacity())"
   ]
  },
  {
   "cell_type": "code",
   "execution_count": null,
   "metadata": {},
   "outputs": [],
   "source": []
  },
  {
   "cell_type": "markdown",
   "metadata": {},
   "source": [
    "### Method-2\n",
    "- declaring class level attributes [outside init() method] and instance variables inside constructor __init__(self)"
   ]
  },
  {
   "cell_type": "code",
   "execution_count": null,
   "metadata": {},
   "outputs": [],
   "source": [
    "class Student: #declaration\n",
    "    name = \"kumar\"\n",
    "    age = 32\n",
    "    college = \"NJIT\"\n",
    "    city = \"NJ\"\n",
    "    \n",
    "    def __init__(self):\n",
    "        print('hello am constructor...')\n",
    "        \n",
    "        \n",
    "s1 = Student() #object creation\n",
    "\n",
    "objectList = [None]*10\n",
    "for i in range(5):\n",
    "    objectList[i] = Student()\n",
    "    \n",
    "    \n",
    "print(objectList[0].college)\n",
    "print(s1.age)\n"
   ]
  },
  {
   "cell_type": "code",
   "execution_count": null,
   "metadata": {},
   "outputs": [],
   "source": []
  },
  {
   "cell_type": "code",
   "execution_count": null,
   "metadata": {},
   "outputs": [],
   "source": []
  },
  {
   "cell_type": "markdown",
   "metadata": {},
   "source": [
    "###  instance variables / object variable\n",
    "- declaring instance variables/object variables inside constructor"
   ]
  },
  {
   "cell_type": "code",
   "execution_count": null,
   "metadata": {},
   "outputs": [],
   "source": [
    "class Student: #declaration\n",
    "    # class variables\n",
    "    college = \"NJIT\"\n",
    "    city = \"NJ\"\n",
    "    \n",
    "    def __init__(self, name: str, age: int, fee: float) -> None:\n",
    "        # instance/object variable \n",
    "        self.studentName = name\n",
    "        self.studentAge = age \n",
    "        self.studentFee = fee\n",
    "        print('object is initialized')\n",
    "    \n",
    "    \n",
    "\n",
    "# object creation-1\n",
    "joyceObj = Student('joyce', 23, 150000)\n",
    "print(joyceObj.college, joyceObj.studentFee , sep = '\\n')\n",
    "\n",
    "\n",
    "print()\n",
    "\n",
    "# object creation -2 \n",
    "bhanuObj = Student('bhanu', 27, 120000)\n",
    "print(bhanuObj.city, bhanuObj.studentFee, sep = '\\n')"
   ]
  },
  {
   "cell_type": "code",
   "execution_count": null,
   "metadata": {},
   "outputs": [],
   "source": []
  },
  {
   "cell_type": "markdown",
   "metadata": {},
   "source": [
    "### Method-3\n",
    "- declaring empty class with pass statement \n",
    "- declared & assign attributes outside class with object name"
   ]
  },
  {
   "cell_type": "code",
   "execution_count": null,
   "metadata": {},
   "outputs": [],
   "source": [
    "class Student:\n",
    "    pass\n",
    "\n",
    "\n",
    "ramObj = Student()\n",
    "\n",
    "\n",
    "# assign the attributes \n",
    "ramObj.name = 'ram'\n",
    "ramObj.college = 'NGIT'\n",
    "ramObj.fee = 150000.500\n",
    "ramObj.stream = 'ECE'\n",
    "ramObj.skills = ['c', 'python', 'kotlin']\n",
    "\n",
    "# printing \n",
    "print(ramObj.name, ramObj.college, ramObj.fee, ramObj.stream, ramObj.skills, sep = '\\n')\n",
    "\n",
    "\n",
    "\n",
    "print()\n",
    "\n",
    "# object creation -2 \n",
    "johnObj = Student()\n",
    "johnObj.myName = 'john'\n",
    "johnObj.activites = ['chess', 'cricket']\n",
    "johnObj.subjects = ['computers', 'economics']\n",
    "\n",
    "print(johnObj.myName, johnObj.activites)"
   ]
  },
  {
   "cell_type": "code",
   "execution_count": null,
   "metadata": {},
   "outputs": [],
   "source": []
  },
  {
   "cell_type": "markdown",
   "metadata": {},
   "source": [
    "### __init__()\n",
    "\n",
    "All classes have a function called __init__(), which is always executed when the class is being initiated (when object is create).\n",
    "- It a constructor called automatically , Note: The __init__() function is called automatically every time the class is being used to create a new object\n",
    "- Use the __init__() function to assign values to object properties, or other operations that are necessary to do when the object is being created:\n",
    "\n",
    "\n",
    "#### self \n",
    "- The self parameter is a reference to the current instance of the class, and is used to access variables that belong to the class.\n",
    "\n",
    "- self ,You can name it in your way , you can call in what ever you like but it has to be first parameter of any class  \n",
    "\n",
    "\n",
    "#### Types of Constructors in Python\n",
    "    Parameterized Constructor\n",
    "    Non-Parameterized Constructor\n",
    "    Default Constructor"
   ]
  },
  {
   "cell_type": "markdown",
   "metadata": {},
   "source": [
    "##### Non-Parameterized Constructor"
   ]
  },
  {
   "cell_type": "code",
   "execution_count": null,
   "metadata": {},
   "outputs": [],
   "source": [
    "class A:\n",
    "    def __init__(self):\n",
    "        print(id(self))\n",
    "        print(\"Object created\")\n",
    "\n",
    "a = A()\n",
    "print(id(a))\n",
    "\n",
    "\n",
    "b = A() \n",
    "print(id(b))"
   ]
  },
  {
   "cell_type": "code",
   "execution_count": null,
   "metadata": {},
   "outputs": [],
   "source": [
    "\n",
    "class Fruits:\n",
    "    favourite = \"Apple\" # class variable\n",
    "\n",
    "    # non-parameterized constructor\n",
    "    def __init__(self):\n",
    "        self.favourite = \"Orange\" # instance variable \n",
    "\n",
    "    # a method\n",
    "    def show(self):\n",
    "        print(self.favourite)\n",
    "\n",
    "\n",
    "# creating an object of the class\n",
    "obj = Fruits()\n",
    "obj.show()\n",
    "print(Fruits.favourite)"
   ]
  },
  {
   "cell_type": "markdown",
   "metadata": {},
   "source": [
    "#### Parameterized Constructor"
   ]
  },
  {
   "cell_type": "code",
   "execution_count": null,
   "metadata": {},
   "outputs": [],
   "source": [
    "class Car:\n",
    "    user_name  = \"Ak\" # class variable #created only once \n",
    "    def __init__(self,name,price,color): #constructor \n",
    "        self.carName = name #instance variables/ object variables\n",
    "        self.carPrice = price\n",
    "        self.carColor = color\n",
    "\n",
    "mg = Car('mg comet ev', '8L', 'white')"
   ]
  },
  {
   "cell_type": "code",
   "execution_count": null,
   "metadata": {},
   "outputs": [],
   "source": [
    "print(mg.carName)\n",
    "print(mg.carPrice)"
   ]
  },
  {
   "cell_type": "code",
   "execution_count": null,
   "metadata": {},
   "outputs": [],
   "source": [
    "print(mg.__dict__)"
   ]
  },
  {
   "cell_type": "code",
   "execution_count": null,
   "metadata": {},
   "outputs": [],
   "source": [
    "dir(mg)"
   ]
  },
  {
   "cell_type": "markdown",
   "metadata": {},
   "source": [
    "**NOTE**\n",
    "- with className we can access only class variables\n",
    "- with objName we can access both class and obj variables"
   ]
  },
  {
   "cell_type": "code",
   "execution_count": null,
   "metadata": {},
   "outputs": [],
   "source": [
    "print(Car.user_name)\n",
    "\n",
    "# print(Car.carColor) # Error \n",
    "\n",
    "print(mg.user_name)\n",
    "print(mg.carColor)"
   ]
  },
  {
   "cell_type": "code",
   "execution_count": null,
   "metadata": {},
   "outputs": [],
   "source": []
  },
  {
   "cell_type": "code",
   "execution_count": null,
   "metadata": {},
   "outputs": [],
   "source": []
  },
  {
   "cell_type": "code",
   "execution_count": null,
   "metadata": {},
   "outputs": [],
   "source": [
    "class Family:  \n",
    "    # Constructor - parameterized  \n",
    "    members=5\n",
    "    def __init__(self, count):  \n",
    "        print(\"This is parametrized constructor\")  \n",
    "        self.members = count\n",
    "    def show(self):  \n",
    "        print(\"No. of members is\", self.members)  \n",
    "        \n",
    "f = Family(10)  \n",
    "f.show() "
   ]
  },
  {
   "cell_type": "code",
   "execution_count": null,
   "metadata": {},
   "outputs": [],
   "source": []
  },
  {
   "cell_type": "code",
   "execution_count": null,
   "metadata": {},
   "outputs": [],
   "source": []
  },
  {
   "cell_type": "markdown",
   "metadata": {},
   "source": []
  },
  {
   "cell_type": "code",
   "execution_count": null,
   "metadata": {},
   "outputs": [],
   "source": []
  },
  {
   "cell_type": "code",
   "execution_count": null,
   "metadata": {},
   "outputs": [],
   "source": []
  },
  {
   "cell_type": "code",
   "execution_count": null,
   "metadata": {},
   "outputs": [],
   "source": [
    "\n",
    "class Person:\n",
    "    from datetime import datetime\n",
    "    present_date = datetime.now() #class variable\n",
    "    \n",
    "    def __init__(self,name,surname ,yob):\n",
    "        #instance vaiable\n",
    "        self.first_name=name\n",
    "        self.surname=surname\n",
    "        self.birth_date=yob\n",
    "        \n",
    "    def display(self):\n",
    "        print(f\"The Person name is {self.first_name} {self.surname} and  was born in {self.birth_date}\")\n",
    "    \n",
    "\n",
    "    def full_name(self):\n",
    "        print(f\"Full name is {self.first_name + self.surname}\")\n",
    "    \n",
    "    def ageOfPerson(self):\n",
    "        print(f\"{self.first_name} age is {Person.present_date.year - self.birth_date}\")\n",
    "    \n",
    "\n",
    "p1 = Person(\"Debora\",\"Willams\",2009)\n",
    "\n",
    "print(p1.first_name)\n",
    "print(p1.birth_date)\n",
    "print(Person.present_date)\n",
    "\n",
    "p1.display()\n",
    "p1.full_name()\n",
    "p1.ageOfPerson()"
   ]
  },
  {
   "cell_type": "code",
   "execution_count": null,
   "metadata": {},
   "outputs": [],
   "source": [
    "p2 = Person(\"John\",\"Willams\",2013)\n",
    "print(p2.first_name)\n",
    "print(p2.birth_date)\n",
    "print(Person.present_date)\n",
    "\n",
    "p2.display()\n",
    "p2.full_name()\n",
    "p2.ageOfPerson()\n"
   ]
  },
  {
   "cell_type": "code",
   "execution_count": null,
   "metadata": {},
   "outputs": [],
   "source": []
  },
  {
   "cell_type": "code",
   "execution_count": null,
   "metadata": {},
   "outputs": [],
   "source": [
    "class cal:\n",
    "    def __init__(self,a,b):\n",
    "        self.a = a\n",
    "        self.b = b\n",
    "        \n",
    "    def add(self):\n",
    "        return self.a + self.b\n",
    "    def sub(self):\n",
    "        return self.a - self.b\n",
    "    def multiply(self):\n",
    "        return self.a * self.b\n",
    "    def divide(self):\n",
    "        return self.a / self.b\n",
    "\n",
    "# outside    \n",
    "\n",
    "p = cal(10,20)\n",
    "print(p)\n",
    "print(dir(p))\n",
    "\n",
    "print(p.add())\n",
    "\n",
    "print(p.sub())"
   ]
  },
  {
   "cell_type": "code",
   "execution_count": null,
   "metadata": {},
   "outputs": [],
   "source": [
    "class Son():\n",
    "    def __init__(self,name ,schoolname):\n",
    "        self.sonName = name\n",
    "        self.sonSchool = schoolname\n",
    "    \n",
    "    #instance method\n",
    "    def walk(self,kms):\n",
    "        return f\" {self.sonName} walked {kms} kms....\"\n",
    "    \n",
    "    def __str__(self):\n",
    "        return f\"[name ={self.sonName} , schoolname = {self.sonSchool}] \"\n",
    "        \n",
    "s = Son(\"Kumar\",\"Abhiyas\")\n",
    "print(s) \n",
    "\n"
   ]
  },
  {
   "cell_type": "code",
   "execution_count": null,
   "metadata": {},
   "outputs": [],
   "source": []
  },
  {
   "cell_type": "code",
   "execution_count": null,
   "metadata": {},
   "outputs": [],
   "source": [
    "class Account(object):\n",
    "    def __init__(self, name, account_number, initial_amount):\n",
    "        self.name = name\n",
    "        self.no = account_number\n",
    "        self.balance = initial_amount\n",
    "\n",
    "    def deposit(self, amount):\n",
    "        self.balance += amount\n",
    "\n",
    "    def withdraw(self, amount):\n",
    "        if amount <= self.balance:\n",
    "            self.balance -= amount\n",
    "            print(f\" Withdraw completed : {amount} : current balance: {self.balance}\")\n",
    "        else:\n",
    "            print(\"insufficient balance\")\n",
    "\n",
    "    def dump(self):\n",
    "        s = '%s, %s, balance: %s' %(self.name, self.no, self.balance)\n",
    "        print(s)\n",
    "        \n",
    "    \n",
    "\n",
    "a1 = Account('John Olsson', '19371554951', 20000)\n",
    "a2 = Account('Liz Olsson',  '19371564761', 20000)\n",
    "\n",
    "a1.dump()\n",
    "\n",
    "a1.deposit(10000)\n",
    "a1.dump()\n",
    "\n",
    "a1.withdraw(1000)\n",
    "a1.dump()\n"
   ]
  },
  {
   "cell_type": "code",
   "execution_count": null,
   "metadata": {},
   "outputs": [],
   "source": []
  },
  {
   "cell_type": "markdown",
   "metadata": {},
   "source": [
    "##### Default Constructor\n",
    "\n"
   ]
  },
  {
   "cell_type": "code",
   "execution_count": null,
   "metadata": {},
   "outputs": [],
   "source": [
    "class Assignments:\n",
    "    check= \"not done\"\n",
    "    # a method\n",
    "    def is_done(self):\n",
    "        print(self.check)\n",
    "\n",
    "# creating an object of the class\n",
    "obj = Assignments()\n",
    "\n",
    "# calling the instance method using the object obj\n",
    "obj.is_done()"
   ]
  },
  {
   "cell_type": "code",
   "execution_count": null,
   "metadata": {},
   "outputs": [],
   "source": [
    "def __init__(self) # non param constructor\n",
    "\n",
    "def __init__(self, name, age) # param constructor\n",
    "\n",
    "# don't declare any init() method # default constructor"
   ]
  },
  {
   "cell_type": "code",
   "execution_count": null,
   "metadata": {},
   "outputs": [],
   "source": []
  },
  {
   "cell_type": "markdown",
   "metadata": {},
   "source": [
    "# "
   ]
  },
  {
   "cell_type": "code",
   "execution_count": null,
   "metadata": {},
   "outputs": [],
   "source": []
  },
  {
   "cell_type": "markdown",
   "metadata": {},
   "source": []
  },
  {
   "cell_type": "markdown",
   "metadata": {},
   "source": [
    "### mutliple init()'s / constructor overloading"
   ]
  },
  {
   "cell_type": "code",
   "execution_count": null,
   "metadata": {},
   "outputs": [],
   "source": [
    "class Person1():\n",
    "   \n",
    "      \n",
    "    def __init__(self): # non-param\n",
    "        print(\"Hey HI!!\")\n",
    "        \n",
    "        \n",
    "    def __init__(self,name): # param\n",
    "        self.a=name\n",
    "        \n",
    "        \n",
    "    def __init__(self,fullname,year,place): # param\n",
    "        \"\"\"\n",
    "        constructor\n",
    "        \"\"\"\n",
    "        self.x=fullname\n",
    "        self.y=year\n",
    "        self.z=place\n",
    "            \n",
    "    def __init__(self,surname,age): # param\n",
    "        self.c=surname\n",
    "        self.d=age\n",
    "        \n",
    "        \n",
    "        \n",
    "\n",
    "\n",
    "\n",
    "p = Person1('rajamoni',44)\n",
    "print(p)\n",
    "\n",
    "\n"
   ]
  },
  {
   "cell_type": "markdown",
   "metadata": {},
   "source": [
    "#### Note \n",
    "\n",
    "- Python doesn't support constructor overloading\n",
    "- Python doesn't support operator overloading / method overloading"
   ]
  },
  {
   "cell_type": "code",
   "execution_count": null,
   "metadata": {},
   "outputs": [],
   "source": []
  },
  {
   "cell_type": "markdown",
   "metadata": {},
   "source": [
    "#### NOTE: In Multiple init() methods declaration always it will call/consider recently declared/last delcared method"
   ]
  },
  {
   "cell_type": "code",
   "execution_count": null,
   "metadata": {},
   "outputs": [],
   "source": [
    "##### Simple Handon Exercise ######\n",
    "\n",
    "1.# declare a class Election\n",
    "2. #attributes\n",
    "    name \n",
    "    city \n",
    "    election_id\n",
    "    have_voter_card\n",
    "    age\n",
    "\n",
    "3. # declare one method for below operation.\n",
    "    #conditions \n",
    "        # age>=18 allowed and if election card if available ->to vote \n",
    "        # otherwise -> not allowed to vote. \n",
    "       ## election_id = 10 digits (A-Z0-9)\n"
   ]
  },
  {
   "cell_type": "markdown",
   "metadata": {},
   "source": [
    "## Type of variable\n",
    "\n",
    "2 TYPES\n",
    "1. instance variable / Object variables / attributes (object level)\n",
    "2. class variable/global variables (class level) also know as static variables\n",
    "\n",
    "\n",
    "- class variable are accessed with both object and class name\n",
    "- object variables can be accessed with only object Names."
   ]
  },
  {
   "cell_type": "code",
   "execution_count": null,
   "metadata": {},
   "outputs": [],
   "source": [
    "\n",
    "class abc:\n",
    "    some_var=123\n",
    "    def __init__(self,name):   \n",
    "        self.a=name \n",
    "        \n",
    "    def __str__(self):\n",
    "        return \"Hello\""
   ]
  },
  {
   "cell_type": "code",
   "execution_count": null,
   "metadata": {},
   "outputs": [],
   "source": [
    "p = abc(\"Ak\")\n",
    "print(p)\n",
    "print(p.__dict__)"
   ]
  },
  {
   "cell_type": "code",
   "execution_count": null,
   "metadata": {},
   "outputs": [],
   "source": [
    "print(p.some_var)\n",
    "print(abc.some_var)"
   ]
  },
  {
   "cell_type": "code",
   "execution_count": null,
   "metadata": {},
   "outputs": [],
   "source": [
    "print(p.a)\n",
    "# print(abc.a) # Error"
   ]
  },
  {
   "cell_type": "code",
   "execution_count": null,
   "metadata": {},
   "outputs": [],
   "source": []
  },
  {
   "cell_type": "code",
   "execution_count": null,
   "metadata": {},
   "outputs": [],
   "source": [
    "class Student:\n",
    "    college = \"UCEOU\"  # class variable\n",
    "    def __init__(self):\n",
    "        self.name = \"Ram\" # instance variable\n",
    "        self.course = \"data science\"\n",
    "        \n",
    "\n",
    "s = Student()\n",
    "print(s.__dict__)\n",
    "print(s.name)\n",
    "\n",
    "# print(Student.name) # Error , accessing object variable with ClassName"
   ]
  },
  {
   "cell_type": "code",
   "execution_count": null,
   "metadata": {},
   "outputs": [],
   "source": [
    "print(Student.college)\n",
    "print(s.college)"
   ]
  },
  {
   "cell_type": "code",
   "execution_count": null,
   "metadata": {},
   "outputs": [],
   "source": [
    "def addition(a: int, b:int) -> int :\n",
    "    return a+b"
   ]
  },
  {
   "cell_type": "code",
   "execution_count": null,
   "metadata": {},
   "outputs": [],
   "source": []
  },
  {
   "cell_type": "markdown",
   "metadata": {},
   "source": [
    "## Access modifers\n",
    "\n",
    "- Python control access modifications which are used to restrict access to the variables and methods of the class. \n",
    "- Most programming languages has three forms of access modifiers, which are Public, Protected and Private in a class.\n",
    "\n",
    "- A Class in Python has three types of access modifiers –\n",
    "\n",
    "    Public Access Modifier\n",
    "    \n",
    "    Protected Access Modifier\n",
    "    \n",
    "    Private Access Modifier"
   ]
  },
  {
   "cell_type": "markdown",
   "metadata": {},
   "source": [
    "#### public \n",
    "Public Access Modifier:\n",
    "\n",
    "\n",
    "- The members of a class that are declared public are easily accessible from any part of the program. \n",
    "- All data members and member functions of a class are public by default"
   ]
  },
  {
   "cell_type": "code",
   "execution_count": null,
   "metadata": {},
   "outputs": [],
   "source": []
  },
  {
   "cell_type": "code",
   "execution_count": 3,
   "metadata": {},
   "outputs": [],
   "source": [
    "class Person:\n",
    "    def __init__(self,name,sname,year_of_birth):\n",
    "        #public \n",
    "        self.name = name\n",
    "        self.surname = sname\n",
    "        self.yob = year_of_birth\n",
    "        \n",
    "    def age(self,current_year): #public\n",
    "        \"\"\"\n",
    "        caculating the age\n",
    "        \"\"\"\n",
    "        return current_year-self.yob\n",
    "    \n",
    "    def __str__(self): # special method \n",
    "        return f'{self.name} {self.surname} was born in {self.yob}'\n",
    "    \n"
   ]
  },
  {
   "cell_type": "code",
   "execution_count": 12,
   "metadata": {},
   "outputs": [
    {
     "name": "stdout",
     "output_type": "stream",
     "text": [
      "AK\n",
      "Rajamoni\n",
      "1900\n",
      "123\n"
     ]
    }
   ],
   "source": [
    "p = Person(\"AK\",\"Rajamoni\",1900)\n",
    "#print(p)\n",
    "\n",
    "print(p.name)\n",
    "print(p.surname)\n",
    "print(p.yob)\n",
    "\n",
    "print(p.age(2023))"
   ]
  },
  {
   "cell_type": "code",
   "execution_count": null,
   "metadata": {},
   "outputs": [],
   "source": []
  },
  {
   "cell_type": "markdown",
   "metadata": {},
   "source": [
    "#### protected\n",
    "\n",
    "Protected Access Modifier:\n",
    "\n",
    "- The members of a class that are declared protected are only accessible to a class derived from it. (same package)\n",
    "\n",
    "- Data members of a class are declared protected by adding a single underscore ‘_’ symbol before the data member of that class."
   ]
  },
  {
   "cell_type": "code",
   "execution_count": 15,
   "metadata": {},
   "outputs": [],
   "source": [
    "# super class\n",
    "class Student:\n",
    "    def __init__(self, name, roll, branch):\n",
    "            #proctected variables\n",
    "        print(\"Base class\")\n",
    "        self._name = name\n",
    "        self._roll = roll\n",
    "        self._branch = branch\n",
    "    def _displayRollAndBranch(self):\n",
    "        print(\"Name: \", self._name)\n",
    "        print(\"Roll: \", self._roll)\n",
    "        print(\"Branch: \", self._branch)\n",
    "\n"
   ]
  },
  {
   "cell_type": "code",
   "execution_count": 16,
   "metadata": {},
   "outputs": [
    {
     "name": "stdout",
     "output_type": "stream",
     "text": [
      "Derived Class\n",
      "Base class\n"
     ]
    }
   ],
   "source": [
    "# derived class\n",
    "class Geek(Student):\n",
    "    def __init__(self,name, roll, branch, clg):\n",
    "        print('Derived Class')\n",
    "        Student.__init__(self,name, branch, clg)\n",
    "        self.college = clg\n",
    "    \n",
    "    def display(self):\n",
    "        print(self._name)\n",
    "        self._displayRollAndBranch()\n",
    "    \n",
    "    \n",
    "g = Geek('kumar','3096','IT','UCEOU')"
   ]
  },
  {
   "cell_type": "code",
   "execution_count": 20,
   "metadata": {},
   "outputs": [
    {
     "name": "stdout",
     "output_type": "stream",
     "text": [
      "<__main__.Geek object at 0x000001D3EE22F400>\n",
      "UCEOU\n",
      "kumar\n",
      "IT\n",
      "Name:  kumar\n",
      "Roll:  IT\n",
      "Branch:  UCEOU\n",
      "None\n",
      "kumar\n",
      "Name:  kumar\n",
      "Roll:  IT\n",
      "Branch:  UCEOU\n"
     ]
    }
   ],
   "source": [
    "print(g)\n",
    "print(g.college)\n",
    "\n",
    "\n",
    "print(g._name)\n",
    "print(g._roll)\n",
    "print(g._displayRollAndBranch())\n",
    "\n",
    "\n",
    "g.display()"
   ]
  },
  {
   "cell_type": "code",
   "execution_count": null,
   "metadata": {},
   "outputs": [],
   "source": []
  },
  {
   "cell_type": "code",
   "execution_count": null,
   "metadata": {},
   "outputs": [],
   "source": []
  },
  {
   "cell_type": "code",
   "execution_count": null,
   "metadata": {},
   "outputs": [],
   "source": []
  },
  {
   "cell_type": "markdown",
   "metadata": {},
   "source": [
    "### private\n",
    "\n",
    "Private Access Modifier:\n",
    "\n",
    "- The members of a class that are declared private are **accessible within the class only** \n",
    "\n",
    "- private access modifier is the most secure access modifier. \n",
    "- Data members of a class are declared private by adding a double underscore ‘__’ symbol before the data member of that class."
   ]
  },
  {
   "cell_type": "code",
   "execution_count": 25,
   "metadata": {},
   "outputs": [
    {
     "name": "stdout",
     "output_type": "stream",
     "text": [
      "<__main__.A object at 0x000001D3ED07DC00>\n",
      "NJIT\n",
      "display method ...\n",
      "Python 2\n"
     ]
    }
   ],
   "source": [
    "class A:\n",
    "    __username = 'ram' # class variable\n",
    "    def __init__(self):\n",
    "        self.__name = \"Python\"\n",
    "        self.__duration = 2\n",
    "        self.college  = \"NJIT\"\n",
    "        \n",
    "    def __display(self):\n",
    "        print(\"display method ...\")\n",
    "        print(self.__name,self.__duration)\n",
    "        \n",
    "    def print(self):\n",
    "        self.__display()\n",
    "        \n",
    "\n",
    "\n",
    "a = A() \n",
    "print(a)\n",
    "\n",
    "print(a.college)\n",
    "\n",
    "# a.__display() # error\n",
    "\n",
    "a.print()"
   ]
  },
  {
   "cell_type": "code",
   "execution_count": null,
   "metadata": {},
   "outputs": [],
   "source": [
    "#  variables --> private\n",
    "# methods ----> public or protected."
   ]
  },
  {
   "cell_type": "code",
   "execution_count": null,
   "metadata": {},
   "outputs": [],
   "source": []
  },
  {
   "cell_type": "code",
   "execution_count": 27,
   "metadata": {},
   "outputs": [],
   "source": [
    "class Parent:\n",
    "    name = None #public\n",
    "    _year = None #protected\n",
    "    __ceo =None #private\n",
    "    \n",
    "    def __init__(self,a,b,c):\n",
    "        self.name = a\n",
    "        self._age= b\n",
    "        self.__ceo = c\n",
    "\n",
    "    #public \n",
    "    def displayPublicMembers(self):\n",
    "        print(\"Accessing public variable \",self.name)\n",
    "\n",
    "        # protected member function   \n",
    "    def _displayProtectedMembers(self):\n",
    "        print(\"Protected Data Member: \", self._age)\n",
    "\n",
    "    # private member function   \n",
    "    def __displayPrivateMembers(self):\n",
    "        # accessing private data members\n",
    "        print(\"Private Data Member: \", self.__ceo)\n",
    "        \n",
    "    #public member function\n",
    "    def accessPrivateMembers(self):\n",
    "        self.__displayPrivateMembers()"
   ]
  },
  {
   "cell_type": "code",
   "execution_count": 28,
   "metadata": {},
   "outputs": [],
   "source": [
    "# derived class\n",
    "class Child(Parent):\n",
    "   \n",
    "      # constructor \n",
    "       def __init__(self, var1, var2, var3): \n",
    "                Parent.__init__(self, var1, var2, var3)\n",
    "            \n",
    "      # public member function \n",
    "       def accessProtectedMemebers(self):  \n",
    "                # accessing protected member functions of super class \n",
    "                self._displayProtectedMembers()"
   ]
  },
  {
   "cell_type": "code",
   "execution_count": 29,
   "metadata": {},
   "outputs": [],
   "source": [
    "obj = Child(\"Tesla\",1390,\"Elon Musk\")"
   ]
  },
  {
   "cell_type": "code",
   "execution_count": 30,
   "metadata": {},
   "outputs": [
    {
     "name": "stdout",
     "output_type": "stream",
     "text": [
      "Protected Data Member:  1390\n"
     ]
    }
   ],
   "source": [
    "obj.accessProtectedMemebers()"
   ]
  },
  {
   "cell_type": "code",
   "execution_count": 31,
   "metadata": {},
   "outputs": [
    {
     "name": "stdout",
     "output_type": "stream",
     "text": [
      "Accessing public variable  Tesla\n"
     ]
    }
   ],
   "source": [
    "obj.displayPublicMembers()"
   ]
  },
  {
   "cell_type": "code",
   "execution_count": 32,
   "metadata": {},
   "outputs": [
    {
     "ename": "AttributeError",
     "evalue": "'Child' object has no attribute '__displayPrivateMembers'",
     "output_type": "error",
     "traceback": [
      "\u001b[1;31m---------------------------------------------------------------------------\u001b[0m",
      "\u001b[1;31mAttributeError\u001b[0m                            Traceback (most recent call last)",
      "Cell \u001b[1;32mIn[32], line 1\u001b[0m\n\u001b[1;32m----> 1\u001b[0m \u001b[43mobj\u001b[49m\u001b[38;5;241;43m.\u001b[39;49m\u001b[43m__displayPrivateMembers\u001b[49m()\n",
      "\u001b[1;31mAttributeError\u001b[0m: 'Child' object has no attribute '__displayPrivateMembers'"
     ]
    }
   ],
   "source": [
    "obj.__displayPrivateMembers()"
   ]
  },
  {
   "cell_type": "code",
   "execution_count": 33,
   "metadata": {},
   "outputs": [
    {
     "name": "stdout",
     "output_type": "stream",
     "text": [
      "Private Data Member:  Elon Musk\n"
     ]
    }
   ],
   "source": [
    "obj.accessPrivateMembers()"
   ]
  },
  {
   "cell_type": "code",
   "execution_count": null,
   "metadata": {},
   "outputs": [],
   "source": []
  },
  {
   "cell_type": "code",
   "execution_count": null,
   "metadata": {},
   "outputs": [],
   "source": [
    "\n",
    "\n",
    "# variables/attributes ---> private \n",
    "# methods ---> public \n"
   ]
  },
  {
   "cell_type": "code",
   "execution_count": null,
   "metadata": {},
   "outputs": [],
   "source": []
  },
  {
   "cell_type": "code",
   "execution_count": null,
   "metadata": {},
   "outputs": [],
   "source": []
  },
  {
   "cell_type": "code",
   "execution_count": null,
   "metadata": {},
   "outputs": [],
   "source": []
  },
  {
   "cell_type": "code",
   "execution_count": null,
   "metadata": {},
   "outputs": [],
   "source": []
  },
  {
   "cell_type": "code",
   "execution_count": null,
   "metadata": {},
   "outputs": [],
   "source": []
  },
  {
   "cell_type": "code",
   "execution_count": null,
   "metadata": {},
   "outputs": [],
   "source": [
    "import re\n",
    "class Voter:\n",
    "   \n",
    "    def __init__(self,vname,vage,vid,vcity):\n",
    "        self.vname=vname\n",
    "        self.vage=vage\n",
    "        self.vid=vid\n",
    "        self.vcity=vcity\n",
    "  \n",
    "    def isEligibleToVote(self):\n",
    "     \n",
    "        if self.vage>=18:\n",
    "            if re.search(\"^[A-Z0-9]{10}\",self.vid):\n",
    "                print(f\"{self.vname} is eligible to vote\")\n",
    "            else:\n",
    "                print(f\"invalid voter id\")\n",
    "        else:\n",
    "            print(f\"{self.vname} is not eligible to vote\")\n",
    "\n",
    "            \n",
    "v1 = Voter(\"Sharan\",26,\"A2782@^2\",\"hyderabad\")  \n",
    "\n",
    "v1.isEligibleToVote()"
   ]
  },
  {
   "cell_type": "code",
   "execution_count": null,
   "metadata": {},
   "outputs": [],
   "source": []
  },
  {
   "cell_type": "code",
   "execution_count": null,
   "metadata": {},
   "outputs": [],
   "source": []
  },
  {
   "cell_type": "code",
   "execution_count": null,
   "metadata": {},
   "outputs": [],
   "source": []
  },
  {
   "cell_type": "code",
   "execution_count": null,
   "metadata": {},
   "outputs": [],
   "source": []
  },
  {
   "cell_type": "code",
   "execution_count": null,
   "metadata": {},
   "outputs": [],
   "source": []
  }
 ],
 "metadata": {
  "kernelspec": {
   "display_name": "Python 3 (ipykernel)",
   "language": "python",
   "name": "python3"
  },
  "language_info": {
   "codemirror_mode": {
    "name": "ipython",
    "version": 3
   },
   "file_extension": ".py",
   "mimetype": "text/x-python",
   "name": "python",
   "nbconvert_exporter": "python",
   "pygments_lexer": "ipython3",
   "version": "3.10.9"
  }
 },
 "nbformat": 4,
 "nbformat_minor": 4
}
