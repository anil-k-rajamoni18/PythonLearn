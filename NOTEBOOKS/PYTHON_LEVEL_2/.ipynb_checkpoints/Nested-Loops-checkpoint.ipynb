{
 "cells": [
  {
   "cell_type": "markdown",
   "id": "8ce209b7",
   "metadata": {},
   "source": [
    "### 2D Data and Nested Data?\n",
    "- A 2D array in python is a two-dimensional data structure stored linearly in the memory. \n",
    "- It means that it has two dimensions, the rows, and the columns, and thus it also represents a matrix\n",
    "- Nested Data in python is having One DataType holding the elements of other Data Types \n",
    "- Here DataTypes can be of Collections/Sequentials types like list tuple set str dictionary\n",
    "\n",
    "example:\n",
    "\n",
    "```python\n",
    "\n",
    "\n",
    "arr_2D =[\n",
    "    \n",
    "        [1,2,3,10],\n",
    "        ['a','b','c'],\n",
    "        [10.2,True,10+2j]\n",
    "    \n",
    "        ]\n",
    "\n",
    "\n",
    "data2 = [\n",
    "           [10,20,40,50],\n",
    "           ('Earth','Jupiter','Venus','Mars'),\n",
    "           {'Red','Blue','Yellow','Orange'},\n",
    "           {'name' : 'Kumar', 'skills': ['python','devoops','springBoot','java']}\n",
    "         ]\n",
    "```\n"
   ]
  },
  {
   "cell_type": "markdown",
   "id": "40c03d38",
   "metadata": {},
   "source": [
    "### Nested Loops\n",
    "\n",
    "A nested loop is a loop inside a loop.\n",
    "\n",
    "The \"inner loop\" will be executed one time for each iteration of the \"outer loop\":\n",
    "\n",
    "Useful for accessing the 2D Lists , Tuples\n"
   ]
  },
  {
   "cell_type": "code",
   "execution_count": null,
   "id": "1e077bfa",
   "metadata": {},
   "outputs": [],
   "source": []
  },
  {
   "cell_type": "markdown",
   "id": "e787aed9",
   "metadata": {},
   "source": []
  },
  {
   "cell_type": "code",
   "execution_count": null,
   "id": "8a663988",
   "metadata": {},
   "outputs": [],
   "source": []
  },
  {
   "cell_type": "markdown",
   "id": "15e8cb30",
   "metadata": {},
   "source": [
    "![](https://bertwagner.com/wp-content/uploads/2018/12/Nested-Loop-Join-50fps-1.gif)"
   ]
  },
  {
   "cell_type": "markdown",
   "id": "7169202a",
   "metadata": {},
   "source": [
    "### Nested For Loop"
   ]
  },
  {
   "cell_type": "code",
   "execution_count": null,
   "id": "77181b5c",
   "metadata": {},
   "outputs": [],
   "source": [
    "for :\n",
    "    for:\n",
    "        for:\n",
    "            for\n",
    "    \n",
    "for:\n",
    "    while\n",
    "    \n",
    "while:\n",
    "    while\n",
    "\n",
    "while:\n",
    "    for"
   ]
  },
  {
   "cell_type": "code",
   "execution_count": null,
   "id": "9c91b3bb",
   "metadata": {},
   "outputs": [],
   "source": [
    "FOR ONE ITERATION OF Outer Loop , INNER loop will execute all it's iterations."
   ]
  },
  {
   "cell_type": "code",
   "execution_count": null,
   "id": "84923680",
   "metadata": {},
   "outputs": [],
   "source": []
  },
  {
   "cell_type": "markdown",
   "id": "b377504b",
   "metadata": {},
   "source": [
    "![](https://pynative.com/wp-content/uploads/2021/06/python-nested-for-loop.png)"
   ]
  },
  {
   "cell_type": "code",
   "execution_count": null,
   "id": "11d3fcee",
   "metadata": {},
   "outputs": [],
   "source": []
  },
  {
   "cell_type": "code",
   "execution_count": null,
   "id": "8f73da14",
   "metadata": {},
   "outputs": [],
   "source": [
    "# normal for loop\n",
    "\n",
    "for i in range(10):\n",
    "    print(i , end=\" \")"
   ]
  },
  {
   "cell_type": "code",
   "execution_count": null,
   "id": "51984a6e",
   "metadata": {},
   "outputs": [],
   "source": []
  },
  {
   "cell_type": "code",
   "execution_count": null,
   "id": "0812b754",
   "metadata": {},
   "outputs": [],
   "source": [
    "for i in range(1,4): \n",
    "    for j in range(1,3):\n",
    "        print(i,j)\n",
    "\n",
    "\n"
   ]
  },
  {
   "cell_type": "code",
   "execution_count": null,
   "id": "b2552bdd",
   "metadata": {},
   "outputs": [],
   "source": [
    "for i in range(1,11):\n",
    "    for j in range(1,11):\n",
    "        print(f'{i} * {j} = {i*j}')\n",
    "    print('-' * 30)"
   ]
  },
  {
   "cell_type": "code",
   "execution_count": null,
   "id": "3316609a",
   "metadata": {},
   "outputs": [],
   "source": []
  },
  {
   "cell_type": "code",
   "execution_count": null,
   "id": "c55e86a2",
   "metadata": {},
   "outputs": [],
   "source": []
  },
  {
   "cell_type": "code",
   "execution_count": null,
   "id": "ef08d95e",
   "metadata": {},
   "outputs": [],
   "source": []
  },
  {
   "cell_type": "markdown",
   "id": "d4996e82",
   "metadata": {},
   "source": [
    "![](https://media.geeksforgeeks.org/wp-content/uploads/20220801153940/Nestedloop.png)"
   ]
  },
  {
   "cell_type": "code",
   "execution_count": null,
   "id": "b2b2b10b",
   "metadata": {},
   "outputs": [],
   "source": []
  },
  {
   "cell_type": "code",
   "execution_count": null,
   "id": "febe952b",
   "metadata": {},
   "outputs": [],
   "source": [
    "for i in range(5): \n",
    "    for j in range(2): \n",
    "        print(\"HI\" , end=\" \")\n",
    "    print()"
   ]
  },
  {
   "cell_type": "code",
   "execution_count": null,
   "id": "69f0a484",
   "metadata": {},
   "outputs": [],
   "source": []
  },
  {
   "cell_type": "code",
   "execution_count": null,
   "id": "dbfea947",
   "metadata": {},
   "outputs": [],
   "source": [
    "count=0\n",
    "for i in range(0,10,2):\n",
    "    for j in range(i+1,10,2):\n",
    "        for k in range(j+2,10):\n",
    "            count = count+1\n",
    "            \n",
    "        \n",
    "print(count)"
   ]
  },
  {
   "cell_type": "code",
   "execution_count": null,
   "id": "f2e066ca",
   "metadata": {},
   "outputs": [],
   "source": []
  },
  {
   "cell_type": "code",
   "execution_count": null,
   "id": "c6aef696",
   "metadata": {},
   "outputs": [],
   "source": [
    "for out in range(1,4):\n",
    "    for inner in range(1,11):\n",
    "        print(out*inner , end=\" \")\n",
    "    print()"
   ]
  },
  {
   "cell_type": "code",
   "execution_count": null,
   "id": "f5480f22",
   "metadata": {},
   "outputs": [],
   "source": []
  },
  {
   "cell_type": "code",
   "execution_count": null,
   "id": "f314a500",
   "metadata": {},
   "outputs": [],
   "source": [
    "out = 1\n",
    "while out<4:\n",
    "    inner = 1\n",
    "    while inner<11:\n",
    "        print(out*inner, end=\" \")\n",
    "        inner+=1\n",
    "    out+=1\n",
    "    print()"
   ]
  },
  {
   "cell_type": "code",
   "execution_count": null,
   "id": "21b58e39",
   "metadata": {},
   "outputs": [],
   "source": []
  },
  {
   "cell_type": "markdown",
   "id": "1e172289",
   "metadata": {},
   "source": [
    "####  EXAMPLES "
   ]
  },
  {
   "cell_type": "code",
   "execution_count": null,
   "id": "2400be75",
   "metadata": {},
   "outputs": [],
   "source": []
  },
  {
   "cell_type": "code",
   "execution_count": null,
   "id": "7481fbe4",
   "metadata": {},
   "outputs": [],
   "source": [
    "x = [1, 2]\n",
    "y = [4, 5]\n",
    "\n",
    "for i in x:\n",
    "    for j in y:\n",
    "        print(i, j)\n"
   ]
  },
  {
   "cell_type": "code",
   "execution_count": null,
   "id": "9e909898",
   "metadata": {},
   "outputs": [],
   "source": []
  },
  {
   "cell_type": "code",
   "execution_count": null,
   "id": "be7fb67c",
   "metadata": {},
   "outputs": [],
   "source": []
  },
  {
   "cell_type": "code",
   "execution_count": null,
   "id": "7b44ce30",
   "metadata": {},
   "outputs": [],
   "source": [
    "x = [1, 2]\n",
    "y = [4, 5]\n",
    "i = 0\n",
    "while i < len(x) :\n",
    "    j = 0\n",
    "    while j < len(y) :\n",
    "        print(x[i] , y[j])\n",
    "        j = j + 1\n",
    "    i = i + 1\n"
   ]
  },
  {
   "cell_type": "code",
   "execution_count": null,
   "id": "b488e974",
   "metadata": {},
   "outputs": [],
   "source": []
  },
  {
   "cell_type": "code",
   "execution_count": null,
   "id": "10931b49",
   "metadata": {},
   "outputs": [],
   "source": [
    "\n",
    "\n",
    "arr_2D =[\n",
    "    \n",
    "        [1,2,3,10],\n",
    "        ['a','b','c'],\n",
    "        [10.2,True,10+2j]\n",
    "    \n",
    "        ]\n",
    "\n",
    "for data in arr_2D:\n",
    "    print(data)"
   ]
  },
  {
   "cell_type": "code",
   "execution_count": null,
   "id": "0d733440",
   "metadata": {},
   "outputs": [],
   "source": []
  },
  {
   "cell_type": "code",
   "execution_count": null,
   "id": "bf22aa4f",
   "metadata": {},
   "outputs": [],
   "source": []
  },
  {
   "cell_type": "code",
   "execution_count": null,
   "id": "56596d66",
   "metadata": {},
   "outputs": [],
   "source": [
    "for data in arr_2D:\n",
    "    for inner in data:\n",
    "        print(inner, end =\" \")\n",
    "    print()"
   ]
  },
  {
   "cell_type": "code",
   "execution_count": null,
   "id": "2203e03e",
   "metadata": {},
   "outputs": [],
   "source": [
    "data = [\"apple\",\"ms\",\"telsa\", \"Micro\"]\n",
    "\n",
    "print(data[0])"
   ]
  },
  {
   "cell_type": "code",
   "execution_count": null,
   "id": "a7e864fc",
   "metadata": {},
   "outputs": [],
   "source": [
    "arr_2D =[ \n",
    "    [\"apple\",\"ms\",\"telsa\", \"Micro\"],\n",
    "    ['a','b','c' , \"d\",\"f\",\"e\"],\n",
    "    [10.2,True,10+2j]\n",
    "    ]\n",
    "\n",
    "\n",
    "print(arr_2D[2][1])\n",
    "\n",
    "print(len(arr_2D))"
   ]
  },
  {
   "cell_type": "code",
   "execution_count": null,
   "id": "7b07f503",
   "metadata": {},
   "outputs": [],
   "source": [
    "arr_2D =[ \n",
    "    [\"apple\",\"ms\",\"telsa\", \"Micro\"],\n",
    "    ['a','b','c' , \"d\",\"f\",\"e\"],\n",
    "    [10.2,True,10+2j]\n",
    "    ]\n",
    "\n",
    "n = len(arr_2D)\n",
    "print(\"len is\",n)\n",
    "\n",
    "for i in range(n):\n",
    "    m = len(arr_2D[i])\n",
    "    for j in range(m):\n",
    "        print(arr_2D[i][j] , end=\" \")\n",
    "    print()"
   ]
  },
  {
   "cell_type": "code",
   "execution_count": null,
   "id": "427f19da",
   "metadata": {},
   "outputs": [],
   "source": [
    "len(arr_2D[2])"
   ]
  },
  {
   "cell_type": "markdown",
   "id": "fafac9dc",
   "metadata": {},
   "source": [
    "### TRY THIS\n"
   ]
  },
  {
   "cell_type": "code",
   "execution_count": null,
   "id": "8d84b695",
   "metadata": {},
   "outputs": [],
   "source": [
    "arr_2D"
   ]
  },
  {
   "cell_type": "code",
   "execution_count": null,
   "id": "5a277cff",
   "metadata": {},
   "outputs": [],
   "source": [
    "\n",
    "for i in range(n):\n",
    "    for j in range(len(arr_2D[i])):\n",
    "        if(i==j):\n",
    "            arr_2D[i][j] = i**j\n",
    "    print()\n",
    "    \n",
    "print(arr_2D)"
   ]
  },
  {
   "cell_type": "code",
   "execution_count": null,
   "id": "04e6c5f2",
   "metadata": {},
   "outputs": [],
   "source": []
  },
  {
   "cell_type": "code",
   "execution_count": null,
   "id": "69f2f614",
   "metadata": {},
   "outputs": [],
   "source": [
    "for i in range(1, 5):\n",
    "    for j in range(1,10):\n",
    "        if i==j:\n",
    "            break\n",
    "        print(f'{i} * {j} = {i*j}')\n",
    "        \n",
    "    print('-' * 20)\n"
   ]
  },
  {
   "cell_type": "code",
   "execution_count": null,
   "id": "10681e45",
   "metadata": {},
   "outputs": [],
   "source": []
  },
  {
   "cell_type": "code",
   "execution_count": null,
   "id": "ece13af9",
   "metadata": {},
   "outputs": [],
   "source": [
    "\n",
    "for i in range(2, 4):\n",
    "    for j in range(1, 11):\n",
    "        if i==j:\n",
    "            continue\n",
    "        print(f'{i} * {j} = {i*j}')\n",
    "    print('-' * 20)\n"
   ]
  },
  {
   "cell_type": "code",
   "execution_count": null,
   "id": "4b742f77",
   "metadata": {},
   "outputs": [],
   "source": []
  },
  {
   "cell_type": "code",
   "execution_count": null,
   "id": "16c37340",
   "metadata": {},
   "outputs": [],
   "source": [
    "# EXAMPLES\n",
    "\n",
    "data = [[\"kumar\",1200],[\"Alex\",1500],[\"Avan\",2500]]\n",
    "\n",
    "for outer in data:\n",
    "    for d2 in outer:\n",
    "        print(d2)\n",
    "        "
   ]
  },
  {
   "cell_type": "markdown",
   "id": "c05208d7",
   "metadata": {},
   "source": [
    "### Daily-usecases\n",
    "\n"
   ]
  },
  {
   "cell_type": "markdown",
   "id": "9225c84f",
   "metadata": {},
   "source": [
    "#### Printing mutliplication table"
   ]
  },
  {
   "cell_type": "code",
   "execution_count": null,
   "id": "d4b8ddb7",
   "metadata": {},
   "outputs": [],
   "source": [
    "for i in range(2, 4):\n",
    "    for j in range(1, 11):\n",
    "        print(i, \"*\", j, \"=\", i*j)\n",
    "    print()\n"
   ]
  },
  {
   "cell_type": "markdown",
   "id": "cf9899ed",
   "metadata": {},
   "source": [
    "### TASK-2\n",
    "\n",
    "- Read JSON File from local \n",
    "- Store inside a Datatypes (dictionary)\n",
    "- Apply the following operations.\n",
    "    - count of nobel prizes for chemistry\n",
    "    - count of nobel prize in betwen 1900 - 1980 of chemistry\n",
    "    - count of total nobel prize categories and which one is having maximum prizes.\n",
    "  "
   ]
  },
  {
   "cell_type": "markdown",
   "id": "10ebdf5d",
   "metadata": {},
   "source": [
    "- JSON \n",
    "    - Javascript Object Notation\n",
    "    - Data represtation \n",
    "    - Mainly we use for API's communications and configuration.\n",
    "    - DataTypes:\n",
    "        key : str \n",
    "        value: str , int, boolean, object, array "
   ]
  },
  {
   "cell_type": "code",
   "execution_count": null,
   "id": "95c7d3fa",
   "metadata": {},
   "outputs": [],
   "source": [
    "{\n",
    "    \"name\" : \"kumar\",\n",
    "    \"country\": \"india\",\n",
    "    \"role\" : \"backend-dev\",\n",
    "    \"is_develper\": True\n",
    "    \"site-location\": 3,\n",
    "    \"skill\": [\"python\", \"devops\",\"spring\",\"java\"],\n",
    "    \"friends\": [\n",
    "        {\n",
    "            \"name\" : \"Jai\",\n",
    "            \"role\": \"saleforce dev\",\n",
    "            \"skills\" : [\"integration\",\"dev-ops\"]\n",
    "        }\n",
    "    ]\n",
    "    \n",
    "    \n",
    "}"
   ]
  },
  {
   "cell_type": "code",
   "execution_count": null,
   "id": "e7f69671",
   "metadata": {},
   "outputs": [],
   "source": [
    "data = {'year': '2022', 'category': 'chemistry', 'laureates': [{'id': '1015', 'firstname': 'Carolyn', 'surname': 'Bertozzi', 'motivation': '\"for the development of click chemistry and bioorthogonal chemistry\"', 'share': '3'}, {'id': '1016', 'firstname': 'Morten', 'surname': 'Meldal', 'motivation': '\"for the development of click chemistry and bioorthogonal chemistry\"', 'share': '3'}, {'id': '743', 'firstname': 'Barry', 'surname': 'Sharpless', 'motivation': '\"for the development of click chemistry and bioorthogonal chemistry\"', 'share': '3'}]}"
   ]
  },
  {
   "cell_type": "code",
   "execution_count": null,
   "id": "d05b1992",
   "metadata": {},
   "outputs": [],
   "source": []
  }
 ],
 "metadata": {
  "kernelspec": {
   "display_name": "Python 3 (ipykernel)",
   "language": "python",
   "name": "python3"
  },
  "language_info": {
   "codemirror_mode": {
    "name": "ipython",
    "version": 3
   },
   "file_extension": ".py",
   "mimetype": "text/x-python",
   "name": "python",
   "nbconvert_exporter": "python",
   "pygments_lexer": "ipython3",
   "version": "3.10.9"
  }
 },
 "nbformat": 4,
 "nbformat_minor": 5
}
