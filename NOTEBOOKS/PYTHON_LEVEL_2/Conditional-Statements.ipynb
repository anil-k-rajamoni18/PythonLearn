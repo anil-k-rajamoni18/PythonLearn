{
 "cells": [
  {
   "cell_type": "code",
   "execution_count": 2,
   "id": "03e91a49",
   "metadata": {},
   "outputs": [],
   "source": [
    "from IPython.core.interactiveshell import InteractiveShell\n",
    "InteractiveShell.ast_node_interactivity = \"all\""
   ]
  },
  {
   "cell_type": "markdown",
   "id": "4cc68bfc",
   "metadata": {},
   "source": [
    "### Data Types Functions\n",
    "\n",
    "\n",
    "- Text Type:\tstr\n",
    "- Numeric Types:\tint, float, complex\n",
    "- Sequence Types:\tlist, tuple, range\n",
    "- Mapping Type:\tdict\n",
    "- Set Types:\tset, frozenset\n",
    "- Boolean Type:\tbool\n",
    "- Binary Types:\tbytes, bytearray, memoryview"
   ]
  },
  {
   "cell_type": "code",
   "execution_count": 3,
   "id": "e2094734",
   "metadata": {},
   "outputs": [
    {
     "data": {
      "text/plain": [
       "str"
      ]
     },
     "execution_count": 3,
     "metadata": {},
     "output_type": "execute_result"
    },
    {
     "data": {
      "text/plain": [
       "int"
      ]
     },
     "execution_count": 3,
     "metadata": {},
     "output_type": "execute_result"
    },
    {
     "data": {
      "text/plain": [
       "float"
      ]
     },
     "execution_count": 3,
     "metadata": {},
     "output_type": "execute_result"
    },
    {
     "data": {
      "text/plain": [
       "complex"
      ]
     },
     "execution_count": 3,
     "metadata": {},
     "output_type": "execute_result"
    },
    {
     "data": {
      "text/plain": [
       "list"
      ]
     },
     "execution_count": 3,
     "metadata": {},
     "output_type": "execute_result"
    },
    {
     "data": {
      "text/plain": [
       "tuple"
      ]
     },
     "execution_count": 3,
     "metadata": {},
     "output_type": "execute_result"
    },
    {
     "data": {
      "text/plain": [
       "range"
      ]
     },
     "execution_count": 3,
     "metadata": {},
     "output_type": "execute_result"
    },
    {
     "data": {
      "text/plain": [
       "dict"
      ]
     },
     "execution_count": 3,
     "metadata": {},
     "output_type": "execute_result"
    },
    {
     "data": {
      "text/plain": [
       "set"
      ]
     },
     "execution_count": 3,
     "metadata": {},
     "output_type": "execute_result"
    },
    {
     "data": {
      "text/plain": [
       "frozenset"
      ]
     },
     "execution_count": 3,
     "metadata": {},
     "output_type": "execute_result"
    },
    {
     "data": {
      "text/plain": [
       "bool"
      ]
     },
     "execution_count": 3,
     "metadata": {},
     "output_type": "execute_result"
    },
    {
     "data": {
      "text/plain": [
       "bytes"
      ]
     },
     "execution_count": 3,
     "metadata": {},
     "output_type": "execute_result"
    },
    {
     "data": {
      "text/plain": [
       "bytearray"
      ]
     },
     "execution_count": 3,
     "metadata": {},
     "output_type": "execute_result"
    },
    {
     "data": {
      "text/plain": [
       "memoryview"
      ]
     },
     "execution_count": 3,
     "metadata": {},
     "output_type": "execute_result"
    }
   ],
   "source": [
    "x = \"Hello World\"\n",
    "type(x)\n",
    "\n",
    "x = 20\n",
    "type(x)\n",
    "\n",
    "x = 20.5\n",
    "type(x)\n",
    "\n",
    "\n",
    "x = 1j #0+1j\n",
    "type(x)\n",
    "\n",
    "\n",
    "x = [\"apple\", \"banana\", \"cherry\"]\n",
    "type(x)\n",
    "\n",
    "\n",
    "x = (\"apple\", \"banana\", \"cherry\")\n",
    "type(x)\n",
    "\n",
    "\n",
    "x = range(6)\n",
    "type(x)\n",
    "\n",
    "\n",
    "x = {\"name\" : \"John\", \"age\" : 36}\n",
    "type(x)\n",
    "\n",
    "\n",
    "\n",
    "x = {\"apple\", \"banana\", \"cherry\"}\n",
    "type(x)\n",
    "\n",
    "\n",
    "x = frozenset({\"apple\", \"banana\", \"cherry\"})\n",
    "type(x)\n",
    "\n",
    "\n",
    "x = True\n",
    "type(x)\n",
    "\n",
    "\n",
    "x=b\"Hello\"\n",
    "type(x)\n",
    "\n",
    "\n",
    "x=bytearray(5)\n",
    "type(x)\n",
    "\n",
    "\n",
    "x=memoryview(bytes(5))\n",
    "\n",
    "type(x) #print(type(x))"
   ]
  },
  {
   "cell_type": "code",
   "execution_count": 5,
   "id": "3b52ae9b",
   "metadata": {},
   "outputs": [
    {
     "name": "stdout",
     "output_type": "stream",
     "text": [
      "22\n",
      "0.5\n",
      "120\n",
      "hello am learning block chain\n",
      "learning elastic ELK stack\n"
     ]
    }
   ],
   "source": [
    "a = 10\n",
    "b = 12\n",
    "print(a+b)\n",
    "print(a/(a+a)) \n",
    "print(a*b)\n",
    "print('hello am learning block chain')\n",
    "print('learning elastic ELK stack')"
   ]
  },
  {
   "cell_type": "code",
   "execution_count": 6,
   "id": "947a53ce",
   "metadata": {},
   "outputs": [
    {
     "name": "stdout",
     "output_type": "stream",
     "text": [
      "Enter age: 10\n",
      "10 <class 'int'>\n"
     ]
    }
   ],
   "source": []
  },
  {
   "cell_type": "code",
   "execution_count": 8,
   "id": "8125fded",
   "metadata": {},
   "outputs": [
    {
     "name": "stdout",
     "output_type": "stream",
     "text": [
      "Enter age: 76\n",
      "76 <class 'int'>\n",
      "Major : age = 76\n"
     ]
    }
   ],
   "source": [
    "# major>=18\n",
    "# minor<18\n",
    "age = int(input('Enter age: '))\n",
    "print(age , type(age))\n",
    "\n",
    "if age >= 18: #True block\n",
    "    print(f'Major : age = {age}')\n",
    "else: #False block\n",
    "    print(f'Minor : age = {age}')\n"
   ]
  },
  {
   "cell_type": "code",
   "execution_count": null,
   "id": "1249dd16",
   "metadata": {},
   "outputs": [],
   "source": []
  },
  {
   "cell_type": "code",
   "execution_count": null,
   "id": "6d568f41",
   "metadata": {},
   "outputs": [],
   "source": []
  },
  {
   "cell_type": "markdown",
   "id": "c8547b00",
   "metadata": {},
   "source": [
    "### Statements\n",
    "\n",
    "**A program contains**\n",
    "\n",
    "- sequential statements  : Flow of execution is line by line \n",
    "- control statements    : Flow of execution depends on control expression\n",
    "- Iteratative Statements  : Flow of execution on Loops / Repeated Actions\n",
    "\n",
    "\n",
    "\n",
    "#### Conditional Statements\n",
    "\n",
    "- if  else\n",
    "- elif\n",
    "- nested if else\n",
    "\n",
    "**decision making statements**\n",
    "\n",
    "That is where control structures come in. A control structure directs the order of execution of the statements in a program.\n",
    "\n",
    "\n",
    "\n",
    "        if expr:\n",
    "\n",
    "            statement\n",
    "\n",
    "**Python relies on indentation (whitespace at the beginning of a line) to define scope in the code. Other programming languages often use curly-brackets for this purpose.**\n",
    "\n",
    "\n"
   ]
  },
  {
   "cell_type": "code",
   "execution_count": 10,
   "id": "d61f072a",
   "metadata": {},
   "outputs": [
    {
     "ename": "IndentationError",
     "evalue": "unindent does not match any outer indentation level (<tokenize>, line 12)",
     "output_type": "error",
     "traceback": [
      "\u001b[1;36m  File \u001b[1;32m<tokenize>:12\u001b[1;36m\u001b[0m\n\u001b[1;33m    print(\"line3\")\u001b[0m\n\u001b[1;37m    ^\u001b[0m\n\u001b[1;31mIndentationError\u001b[0m\u001b[1;31m:\u001b[0m unindent does not match any outer indentation level\n"
     ]
    }
   ],
   "source": [
    "# other languages\n",
    "if(condition){\n",
    "    //body\n",
    "}\n",
    "\n",
    "\n",
    "#in python \n",
    "\n",
    "if (condition/exp):\n",
    "    print(\"line1\")\n",
    "    print(\"line2\")\n",
    "    print(\"line3\")\n",
    "    \n",
    "print(\"Line4\")"
   ]
  },
  {
   "cell_type": "code",
   "execution_count": 11,
   "id": "afd66376",
   "metadata": {},
   "outputs": [
    {
     "name": "stdout",
     "output_type": "stream",
     "text": [
      "greater\n",
      "10>5\n"
     ]
    }
   ],
   "source": [
    "if (10>=5): #True\n",
    "    print('greater')\n",
    "    print('10>5')\n",
    "else: #False\n",
    "    print('lesser')\n",
    "    print('10<5')"
   ]
  },
  {
   "cell_type": "code",
   "execution_count": null,
   "id": "b8cd6582",
   "metadata": {},
   "outputs": [],
   "source": [
    "# syntax\n",
    "if (condition/exp):\n",
    "    this part of code runs for truthy conditions\n",
    "    statements1\n",
    "    statements2\n",
    "    "
   ]
  },
  {
   "cell_type": "code",
   "execution_count": 12,
   "id": "6c4afd89",
   "metadata": {},
   "outputs": [
    {
     "name": "stdout",
     "output_type": "stream",
     "text": [
      "Enter an age: 67\n",
      "Major\n"
     ]
    }
   ],
   "source": [
    "age = int(input('Enter an age: '))\n",
    "\n",
    "if (age>= 18):\n",
    "    print('Major')\n",
    "else:\n",
    "    print('Minor')"
   ]
  },
  {
   "cell_type": "code",
   "execution_count": null,
   "id": "abdef51a",
   "metadata": {},
   "outputs": [],
   "source": []
  },
  {
   "cell_type": "code",
   "execution_count": 14,
   "id": "841caae2",
   "metadata": {},
   "outputs": [
    {
     "name": "stdout",
     "output_type": "stream",
     "text": [
      "next lines\n",
      "30\n"
     ]
    }
   ],
   "source": [
    "msg = \"Hi\"\n",
    "\n",
    "if msg == \"Hello\":\n",
    "    print(\"Greeted\")\n",
    "    \n",
    "print(\"next lines\")\n",
    "print(10+20)"
   ]
  },
  {
   "cell_type": "code",
   "execution_count": 15,
   "id": "f794f776",
   "metadata": {},
   "outputs": [],
   "source": [
    "if 10>20:\n",
    "    print(\"greater\")"
   ]
  },
  {
   "cell_type": "code",
   "execution_count": null,
   "id": "baebe9fa",
   "metadata": {},
   "outputs": [],
   "source": []
  },
  {
   "cell_type": "code",
   "execution_count": null,
   "id": "5188d644",
   "metadata": {},
   "outputs": [],
   "source": [
    "# syntax\n",
    "if condition:\n",
    "    this part of code runs for truthy conditions\n",
    "else:\n",
    "     this part of code runs for false conditions"
   ]
  },
  {
   "cell_type": "code",
   "execution_count": 16,
   "id": "30fd500d",
   "metadata": {},
   "outputs": [
    {
     "name": "stdout",
     "output_type": "stream",
     "text": [
      "lesser\n"
     ]
    }
   ],
   "source": [
    "if 10>20:\n",
    "    print(\"greater\")\n",
    "else:\n",
    "    print(\"lesser\")"
   ]
  },
  {
   "cell_type": "code",
   "execution_count": 17,
   "id": "6905e9bf",
   "metadata": {},
   "outputs": [
    {
     "name": "stdout",
     "output_type": "stream",
     "text": [
      "Hello\n"
     ]
    }
   ],
   "source": [
    "if \"a\" > \"A\":\n",
    "    print(\"Hello\")\n",
    "else:\n",
    "    print(\"Bye\")"
   ]
  },
  {
   "cell_type": "code",
   "execution_count": 18,
   "id": "6012d8b8",
   "metadata": {},
   "outputs": [
    {
     "name": "stdout",
     "output_type": "stream",
     "text": [
      "ODD\n",
      "BLOCK\n"
     ]
    }
   ],
   "source": [
    "num = 11\n",
    "\n",
    "if (num%2 == 0):\n",
    "    print(\"EVEN\")\n",
    "    print(\"BLOCK\")\n",
    "else:\n",
    "    print(\"ODD\")\n",
    "    print(\"BLOCK\")"
   ]
  },
  {
   "cell_type": "code",
   "execution_count": 20,
   "id": "a045c806",
   "metadata": {},
   "outputs": [
    {
     "name": "stdout",
     "output_type": "stream",
     "text": [
      "enter the n value:88\n",
      "even\n"
     ]
    }
   ],
   "source": [
    "n = int(input(\"enter the n value:\"))\n",
    "\n",
    "if (n%2 == 0):\n",
    "    print(\"even\")\n",
    "else:\n",
    "    print(\"odd\")"
   ]
  },
  {
   "cell_type": "code",
   "execution_count": 21,
   "id": "cc3f5389",
   "metadata": {},
   "outputs": [
    {
     "name": "stdout",
     "output_type": "stream",
     "text": [
      "False\n"
     ]
    }
   ],
   "source": [
    "print(not True)"
   ]
  },
  {
   "cell_type": "code",
   "execution_count": 24,
   "id": "0fb58c9d",
   "metadata": {},
   "outputs": [
    {
     "name": "stdout",
     "output_type": "stream",
     "text": [
      "Bye\n"
     ]
    }
   ],
   "source": [
    "if  not True:\n",
    "    print(\"Hello\")\n",
    "else:\n",
    "    print(\"Bye\")"
   ]
  },
  {
   "cell_type": "code",
   "execution_count": null,
   "id": "53e55a47",
   "metadata": {},
   "outputs": [],
   "source": []
  },
  {
   "cell_type": "code",
   "execution_count": 25,
   "id": "e1025386",
   "metadata": {},
   "outputs": [
    {
     "name": "stdout",
     "output_type": "stream",
     "text": [
      "FALSE\n"
     ]
    }
   ],
   "source": [
    "if 10<1:\n",
    "    print(\"TRUE\")\n",
    "else:\n",
    "    print(\"FALSE\")"
   ]
  },
  {
   "cell_type": "code",
   "execution_count": 26,
   "id": "72e2eb3d",
   "metadata": {},
   "outputs": [
    {
     "name": "stdout",
     "output_type": "stream",
     "text": [
      "True\n"
     ]
    }
   ],
   "source": [
    "print(type(10) is int)"
   ]
  },
  {
   "cell_type": "code",
   "execution_count": 27,
   "id": "39d64101",
   "metadata": {},
   "outputs": [
    {
     "name": "stdout",
     "output_type": "stream",
     "text": [
      "False\n",
      "False block\n"
     ]
    }
   ],
   "source": [
    "if type(\"10\") is int:\n",
    "    print(\"True\")\n",
    "    print(\"True Block\")\n",
    "else:\n",
    "    print(\"False\")\n",
    "    print(\"False block\")"
   ]
  },
  {
   "cell_type": "code",
   "execution_count": null,
   "id": "228f7c83",
   "metadata": {},
   "outputs": [],
   "source": []
  },
  {
   "cell_type": "code",
   "execution_count": 28,
   "id": "457aba87",
   "metadata": {},
   "outputs": [
    {
     "name": "stdout",
     "output_type": "stream",
     "text": [
      "EQUAL\n",
      "world\n",
      "hello\n",
      "IF BLOCK\n"
     ]
    }
   ],
   "source": [
    "num1=10\n",
    "num2=10\n",
    "if (num1==num2):\n",
    "    print(\"EQUAL\")\n",
    "    print(\"world\")\n",
    "    print(\"hello\")\n",
    "    print(\"IF BLOCK\")\n",
    "else:\n",
    "    print(\"NOT EQUAL\")"
   ]
  },
  {
   "cell_type": "code",
   "execution_count": null,
   "id": "423ac291",
   "metadata": {},
   "outputs": [],
   "source": []
  },
  {
   "cell_type": "code",
   "execution_count": 29,
   "id": "ff057fed",
   "metadata": {},
   "outputs": [
    {
     "name": "stdout",
     "output_type": "stream",
     "text": [
      "100 Greater\n",
      "A\n",
      "B\n",
      "next statements\n",
      "next next \n"
     ]
    }
   ],
   "source": [
    "num1 = 10\n",
    "num2 = 100\n",
    "\n",
    "if num1 < num2: # if True Go Inside Else GOTO to the statement after IF block\n",
    "    print(num2 ,\"Greater\")\n",
    "    print(\"A\")\n",
    "    print(\"B\")\n",
    "    \n",
    "print(\"next statements\")\n",
    "print(\"next next \")"
   ]
  },
  {
   "cell_type": "code",
   "execution_count": null,
   "id": "c11017f3",
   "metadata": {},
   "outputs": [],
   "source": []
  },
  {
   "cell_type": "code",
   "execution_count": null,
   "id": "adca9789",
   "metadata": {},
   "outputs": [],
   "source": [
    "num1 = 1\n",
    "num2 = 4\n",
    "if num1>num2:\n",
    "    print(num1 ,\"Greater\")\n",
    "else:\n",
    "    print(num1 ,\"<\" ,num2)\n",
    "    print('{} is less than {}'.format(num1,num2))# string 2.x\n",
    "    print(f'{num1} is less  than {num2}') #3.x"
   ]
  },
  {
   "cell_type": "code",
   "execution_count": null,
   "id": "ff8c0c3a",
   "metadata": {},
   "outputs": [],
   "source": []
  },
  {
   "cell_type": "code",
   "execution_count": 31,
   "id": "1da69c95",
   "metadata": {},
   "outputs": [
    {
     "name": "stdout",
     "output_type": "stream",
     "text": [
      "Not Present\n",
      "After conditional\n"
     ]
    }
   ],
   "source": [
    "if 'apple' in ['bar', 'baz', 'qux']:\n",
    "    print('Expression was true')\n",
    "    print('Executing statement in suite')\n",
    "    print('...')\n",
    "    print('Done.')\n",
    "\n",
    "else:\n",
    "    print(\"Not Present\")\n",
    "    \n",
    "print('After conditional')"
   ]
  },
  {
   "cell_type": "code",
   "execution_count": null,
   "id": "cc4cb95d",
   "metadata": {},
   "outputs": [],
   "source": []
  },
  {
   "cell_type": "code",
   "execution_count": 32,
   "id": "5aef8f08",
   "metadata": {},
   "outputs": [
    {
     "name": "stdout",
     "output_type": "stream",
     "text": [
      "Hey Hi\n"
     ]
    }
   ],
   "source": [
    "if type(\"Kumar\") is str:\n",
    "    print(\"Hey Hi\")"
   ]
  },
  {
   "cell_type": "code",
   "execution_count": null,
   "id": "b43442e2",
   "metadata": {},
   "outputs": [],
   "source": []
  },
  {
   "cell_type": "code",
   "execution_count": 33,
   "id": "6205944e",
   "metadata": {},
   "outputs": [
    {
     "name": "stdout",
     "output_type": "stream",
     "text": [
      "NO\n"
     ]
    }
   ],
   "source": [
    "if 'zy' in 'python':                # Truthy\n",
    "    print('yes')\n",
    "else:\n",
    "    print(\"NO\")"
   ]
  },
  {
   "cell_type": "code",
   "execution_count": null,
   "id": "3f99f348",
   "metadata": {},
   "outputs": [],
   "source": []
  },
  {
   "cell_type": "code",
   "execution_count": 34,
   "id": "7f57d8e4",
   "metadata": {},
   "outputs": [
    {
     "name": "stdout",
     "output_type": "stream",
     "text": [
      "Gotta go Office !\n"
     ]
    }
   ],
   "source": [
    "tomorrow = \"No Holiday\"\n",
    "\n",
    "if tomorrow == \"Holiday\":\n",
    "    print(\"Plan a Movie !\")\n",
    "\n",
    "else:\n",
    "    print(\"Gotta go Office !\")"
   ]
  },
  {
   "cell_type": "code",
   "execution_count": null,
   "id": "470a362f",
   "metadata": {},
   "outputs": [],
   "source": []
  },
  {
   "cell_type": "code",
   "execution_count": 35,
   "id": "ae73aae1",
   "metadata": {},
   "outputs": [
    {
     "name": "stdout",
     "output_type": "stream",
     "text": [
      "67\n",
      "it is an odd\n"
     ]
    }
   ],
   "source": [
    "num = int(input()) # default input() will read only strings \"10\" \"10.2\"\n",
    "\n",
    "if (num % 2 == 0): # True\n",
    "    print(\"it is an  even\")\n",
    "\n",
    "else: #False\n",
    "    print(\"it is an odd\")\n",
    "    "
   ]
  },
  {
   "cell_type": "code",
   "execution_count": null,
   "id": "e0b693a6",
   "metadata": {},
   "outputs": [],
   "source": []
  },
  {
   "cell_type": "markdown",
   "id": "201a2446",
   "metadata": {},
   "source": [
    "#### elif\n",
    "\n",
    "- Handling the mutliple conditions \n",
    "- The elif keyword in python a way of saying \"if the previous conditions were not true, then try this condition\"."
   ]
  },
  {
   "cell_type": "code",
   "execution_count": 2,
   "id": "38ffdda9",
   "metadata": {},
   "outputs": [
    {
     "name": "stdout",
     "output_type": "stream",
     "text": [
      "b is greater than a\n",
      "Hello \n"
     ]
    }
   ],
   "source": [
    "a = 40\n",
    "b = 34\n",
    "\n",
    "if a > b:\n",
    "    print(\"b is greater than a\")\n",
    "elif a%2 != 0: \n",
    "    print(\"a and b are equal\")\n",
    "else:\n",
    "    print(\"not equal\")\n",
    "\n",
    "print(\"Hello \")"
   ]
  },
  {
   "cell_type": "code",
   "execution_count": null,
   "id": "81c7bda9",
   "metadata": {},
   "outputs": [],
   "source": []
  },
  {
   "cell_type": "code",
   "execution_count": 4,
   "id": "bc3a85d6",
   "metadata": {},
   "outputs": [
    {
     "name": "stdout",
     "output_type": "stream",
     "text": [
      "Enter the NameJoe\n",
      "Hello Joe\n",
      "Normal flow\n",
      "30\n"
     ]
    }
   ],
   "source": [
    "name = input(\"Enter the Name\")\n",
    "\n",
    "\n",
    "if name == 'Fred':\n",
    "    print('Hello Fred')\n",
    "elif name == 'Xander':\n",
    "    print('Hello Xander')\n",
    "elif name == 'Joe':\n",
    "    print('Hello Joe')\n",
    "elif name == \"Joe\":\n",
    "    print('Hello Arnold')\n",
    "else:\n",
    "    print(\"I don't know who you are!\")\n",
    "\n",
    "print(\"Normal flow\")\n",
    "print(10+20)"
   ]
  },
  {
   "cell_type": "code",
   "execution_count": null,
   "id": "fd8cc69c",
   "metadata": {},
   "outputs": [],
   "source": []
  },
  {
   "cell_type": "markdown",
   "id": "450fbde2",
   "metadata": {},
   "source": [
    "#### multiple if's\n",
    "    - #In multiple if's , each and very condition is checked =>  even if the previous if is true or false"
   ]
  },
  {
   "cell_type": "code",
   "execution_count": 5,
   "id": "a51035ab",
   "metadata": {},
   "outputs": [
    {
     "name": "stdout",
     "output_type": "stream",
     "text": [
      "Hey\n",
      "Bye Bye\n",
      "Continue from if else\n"
     ]
    }
   ],
   "source": [
    "#in multiple if , each and very condition is checked =>  even if the previous if is true or false.\n",
    "data = 10\n",
    "\n",
    "if data>10:\n",
    "    print(\"HI\")\n",
    "if type(data) is int:\n",
    "    print(\"Hey\")    \n",
    "if type(data) is str:\n",
    "    print(\"Hello\")   \n",
    "else:\n",
    "    print(\"Bye Bye\")\n",
    "    \n",
    "print(\"Continue from if else\")"
   ]
  },
  {
   "cell_type": "code",
   "execution_count": null,
   "id": "598d42b0",
   "metadata": {},
   "outputs": [],
   "source": []
  },
  {
   "cell_type": "code",
   "execution_count": 6,
   "id": "5d2b6ba5",
   "metadata": {},
   "outputs": [
    {
     "name": "stdout",
     "output_type": "stream",
     "text": [
      "HI\n",
      "Continue from if else\n"
     ]
    }
   ],
   "source": [
    "data = 10\n",
    "if data>=10:\n",
    "    print(\"HI\")\n",
    "    \n",
    "elif type(data) is int:\n",
    "    print(\"Hey\")\n",
    "    \n",
    "elif type(data) is str:\n",
    "    print(\"Hello\")\n",
    "    \n",
    "else:\n",
    "    print(\"Bye Bye\")\n",
    "    \n",
    "print(\"Continue from if else\")"
   ]
  },
  {
   "cell_type": "markdown",
   "id": "1951e61c",
   "metadata": {},
   "source": [
    "## Try these\n",
    "    "
   ]
  },
  {
   "cell_type": "code",
   "execution_count": 8,
   "id": "87b048e0",
   "metadata": {},
   "outputs": [
    {
     "name": "stdout",
     "output_type": "stream",
     "text": [
      "the average is  8.0\n",
      "8.0 40\n",
      "C\n"
     ]
    }
   ],
   "source": [
    "#grade example \n",
    "\n",
    "studentMarks = [10,9,8,7,6]\n",
    "sumOfMarks = sum(studentMarks)\n",
    "noOfStudents = len(studentMarks)\n",
    "avg = sumOfMarks/noOfStudents\n",
    "\n",
    "print(\"the average is \",avg)\n",
    "print(avg,sumOfMarks)\n",
    "\n",
    "if avg > 9:\n",
    "    print(\"A\")\n",
    "elif avg>8:\n",
    "    print(\"B\")\n",
    "elif avg>7:\n",
    "    print(\"C\")\n",
    "elif avg>6:\n",
    "    print(\"D\")\n",
    "else:\n",
    "    print(\"Fail\")"
   ]
  },
  {
   "cell_type": "code",
   "execution_count": null,
   "id": "4f95cc3f",
   "metadata": {},
   "outputs": [],
   "source": []
  },
  {
   "cell_type": "code",
   "execution_count": 9,
   "id": "ef3991a8",
   "metadata": {},
   "outputs": [
    {
     "name": "stdout",
     "output_type": "stream",
     "text": [
      "the average is  8.0\n",
      "8.0 40\n",
      "C\n",
      "D\n"
     ]
    }
   ],
   "source": [
    "studentMarks = [10,9,8,7,6]\n",
    "sumOfMarks = sum(studentMarks)\n",
    "noOfStudents = len(studentMarks)\n",
    "avg = sumOfMarks/noOfStudents\n",
    "\n",
    "print(\"the average is \",avg)\n",
    "print(avg,sumOfMarks)\n",
    "\n",
    "if avg > 9:\n",
    "    print(\"A\")\n",
    "if avg>8:\n",
    "    print(\"B\")\n",
    "if avg>7:\n",
    "    print(\"C\")\n",
    "if avg>6:\n",
    "    print(\"D\")\n",
    "else:\n",
    "    print(\"Fail\")"
   ]
  },
  {
   "cell_type": "code",
   "execution_count": null,
   "id": "d2bac17d",
   "metadata": {},
   "outputs": [],
   "source": [
    "if \n",
    "if else\n",
    "if elif elif elif ... else\n",
    "if if if if ... else "
   ]
  },
  {
   "cell_type": "code",
   "execution_count": null,
   "id": "5cfbe641",
   "metadata": {},
   "outputs": [],
   "source": []
  },
  {
   "cell_type": "markdown",
   "id": "6ccf90ef",
   "metadata": {},
   "source": [
    "### nested if\n",
    "    - writing if & else block inside another if & else block\n"
   ]
  },
  {
   "cell_type": "code",
   "execution_count": 3,
   "id": "85ae7ef3",
   "metadata": {},
   "outputs": [
    {
     "name": "stdout",
     "output_type": "stream",
     "text": [
      "Enter the AGE: 67\n",
      "Do you have VOTER-ID ? Y or N: Y\n",
      "Eligible to caste Vote\n"
     ]
    }
   ],
   "source": [
    "age = int(input('Enter the AGE: '))\n",
    "\n",
    "if age >= 18:\n",
    "    have_voterid = input('Do you have VOTER-ID ? Y or N: ')\n",
    "    if have_voterid == 'Y':\n",
    "        print('Eligible to caste Vote')\n",
    "    else:\n",
    "        print('Please apply the card..')\n",
    "else:\n",
    "    print('Not Eligible to vote')"
   ]
  },
  {
   "cell_type": "code",
   "execution_count": null,
   "id": "0fb314ca",
   "metadata": {},
   "outputs": [],
   "source": []
  },
  {
   "cell_type": "code",
   "execution_count": 4,
   "id": "2f2794d1",
   "metadata": {},
   "outputs": [
    {
     "name": "stdout",
     "output_type": "stream",
     "text": [
      "8\n",
      "5\n"
     ]
    }
   ],
   "source": [
    "# nested if \n",
    "num = 10\n",
    "if num>2:\n",
    "    num -= 2\n",
    "    if num%2==0:\n",
    "        print(num)\n",
    "        num-=3\n",
    "        if num%2==1:\n",
    "            print(num)"
   ]
  },
  {
   "cell_type": "code",
   "execution_count": null,
   "id": "89d39758",
   "metadata": {},
   "outputs": [],
   "source": []
  },
  {
   "cell_type": "code",
   "execution_count": null,
   "id": "b7031833",
   "metadata": {},
   "outputs": [],
   "source": []
  },
  {
   "cell_type": "code",
   "execution_count": null,
   "id": "15c53c4e",
   "metadata": {},
   "outputs": [],
   "source": []
  },
  {
   "cell_type": "code",
   "execution_count": 24,
   "id": "98d427fa",
   "metadata": {},
   "outputs": [
    {
     "name": "stdout",
     "output_type": "stream",
     "text": [
      "Enter num1=7\n",
      "Enter num2=2\n",
      "Enter num3=10\n",
      "2\n"
     ]
    }
   ],
   "source": [
    "a=int(input(\"Enter num1=\"))\n",
    "b=int(input(\"Enter num2=\"))\n",
    "c=int(input(\"Enter num3=\"))\n",
    "\n",
    "# 6 10 15\n",
    "if a>b:\n",
    "    if a>c:\n",
    "        print(a)\n",
    "    else:\n",
    "        print(c)\n",
    "else:\n",
    "    if(b>c):\n",
    "        print(b)\n",
    "    else:\n",
    "        print(c)"
   ]
  },
  {
   "cell_type": "code",
   "execution_count": 6,
   "id": "9dea20f5",
   "metadata": {},
   "outputs": [
    {
     "name": "stdout",
     "output_type": "stream",
     "text": [
      "Enter num1: 7\n",
      "Enter num2: 2\n",
      "Enter num3: 10\n",
      "10\n"
     ]
    }
   ],
   "source": [
    "# optimized\n",
    "\n",
    "a=int(input(\"Enter num1: \"))\n",
    "b=int(input(\"Enter num2: \"))\n",
    "c=int(input(\"Enter num3: \"))\n",
    "\n",
    "if (a>b and a>c):\n",
    "    print(a)\n",
    "elif (b>a and b>c):\n",
    "    print(b)\n",
    "else:\n",
    "    print(c)"
   ]
  },
  {
   "cell_type": "code",
   "execution_count": null,
   "id": "ddfbc4c6",
   "metadata": {},
   "outputs": [],
   "source": []
  },
  {
   "cell_type": "code",
   "execution_count": null,
   "id": "61c28d71",
   "metadata": {},
   "outputs": [],
   "source": []
  },
  {
   "cell_type": "code",
   "execution_count": 7,
   "id": "4f464d40",
   "metadata": {},
   "outputs": [
    {
     "name": "stdout",
     "output_type": "stream",
     "text": [
      "5\n",
      "2\n",
      "Else Block It's greater\n"
     ]
    }
   ],
   "source": [
    "#excercise \n",
    "\n",
    "\n",
    "a =  int(input()) #5\n",
    "b = int(input())  #2\n",
    "\n",
    "if a>5:\n",
    "    if a>=10:\n",
    "        print(\" If Block It's greater\")\n",
    "    else:\n",
    "        print(\"It's not greater\")\n",
    "else:\n",
    "    a+=5 #a = a+5\n",
    "    b=-5\n",
    "    if(a>=10):\n",
    "        print(\"Else Block It's greater\")\n",
    "    else:\n",
    "        print(\"Lesser\")"
   ]
  },
  {
   "cell_type": "code",
   "execution_count": 11,
   "id": "5594063d",
   "metadata": {},
   "outputs": [
    {
     "name": "stdout",
     "output_type": "stream",
     "text": [
      "Enter the NUM 10\n",
      "else-1\n"
     ]
    }
   ],
   "source": [
    "num =  int(input(\"Enter the NUM \")) #5\n",
    "if num<=10:\n",
    "    num-=3\n",
    "    if num<=8:\n",
    "        num-=2\n",
    "        if num<5:\n",
    "            num+=2\n",
    "            if num<=0:\n",
    "                print(\"Hello\")\n",
    "            else:\n",
    "                print(\"Bye\")\n",
    "        else:\n",
    "            print(\"else-1\")\n",
    "    else:\n",
    "        print(\"else -2\")\n",
    "else:\n",
    "    print(\"else -3\")"
   ]
  },
  {
   "cell_type": "code",
   "execution_count": null,
   "id": "01802654",
   "metadata": {},
   "outputs": [],
   "source": []
  },
  {
   "cell_type": "code",
   "execution_count": null,
   "id": "9fc2a28c",
   "metadata": {},
   "outputs": [],
   "source": []
  },
  {
   "cell_type": "markdown",
   "id": "fcfc5ed8",
   "metadata": {},
   "source": [
    "####  Short Hand If else\n",
    "    If you have only one statement to execute, \n",
    "     \n",
    "     you can put it on the same line as the if statement.\n",
    "    "
   ]
  },
  {
   "cell_type": "code",
   "execution_count": null,
   "id": "6fd9d72f",
   "metadata": {},
   "outputs": [],
   "source": [
    "a = 10\n",
    "b = 20\n",
    "\n",
    "if a > b: \n",
    "    print('greater')\n",
    "else:\n",
    "    print('smaller')"
   ]
  },
  {
   "cell_type": "code",
   "execution_count": null,
   "id": "bd171ca6",
   "metadata": {},
   "outputs": [],
   "source": [
    "a = 10\n",
    "b = 20\n",
    "\n",
    "print('greater') if a>b else print('smaller')"
   ]
  },
  {
   "cell_type": "code",
   "execution_count": null,
   "id": "c83e3158",
   "metadata": {},
   "outputs": [],
   "source": []
  },
  {
   "cell_type": "code",
   "execution_count": 12,
   "id": "30d1df30",
   "metadata": {},
   "outputs": [
    {
     "name": "stdout",
     "output_type": "stream",
     "text": [
      "non textual\n"
     ]
    }
   ],
   "source": [
    "if type(10) is str: print(\"text data\")\n",
    "else: print(\"non textual\")"
   ]
  },
  {
   "cell_type": "code",
   "execution_count": 13,
   "id": "842637f6",
   "metadata": {},
   "outputs": [
    {
     "name": "stdout",
     "output_type": "stream",
     "text": [
      "A is Greater\n",
      "True False\n"
     ]
    }
   ],
   "source": [
    "a = True  #1\n",
    "\n",
    "b= False  #0\n",
    "\n",
    "if a>b: print(\"A is Greater\")\n",
    "print(a,b)"
   ]
  },
  {
   "cell_type": "code",
   "execution_count": 15,
   "id": "c08a68ec",
   "metadata": {},
   "outputs": [
    {
     "name": "stdout",
     "output_type": "stream",
     "text": [
      "textual data\n"
     ]
    }
   ],
   "source": [
    "msg = \"hello\"\n",
    "print('textual data') if type(msg) is str else print('non textual data')\n"
   ]
  },
  {
   "cell_type": "code",
   "execution_count": null,
   "id": "bac8d192",
   "metadata": {},
   "outputs": [],
   "source": []
  },
  {
   "cell_type": "code",
   "execution_count": null,
   "id": "311f8a53",
   "metadata": {},
   "outputs": [],
   "source": []
  },
  {
   "cell_type": "markdown",
   "id": "07e609f9",
   "metadata": {},
   "source": [
    "#### excercise "
   ]
  },
  {
   "cell_type": "code",
   "execution_count": 16,
   "id": "ac5a4d39",
   "metadata": {},
   "outputs": [
    {
     "name": "stdout",
     "output_type": "stream",
     "text": [
      "0\n",
      "False\n",
      "False\n",
      "False\n",
      "False\n"
     ]
    }
   ],
   "source": [
    "print(len([]))\n",
    "\n",
    "print(bool([]))\n",
    "print(bool(0))\n",
    "print(bool(0.0))\n",
    "print(bool(\"\"))"
   ]
  },
  {
   "cell_type": "code",
   "execution_count": null,
   "id": "61ce5797",
   "metadata": {},
   "outputs": [],
   "source": []
  },
  {
   "cell_type": "code",
   "execution_count": null,
   "id": "db1688f2",
   "metadata": {},
   "outputs": [],
   "source": [
    "# note : bool(nothing or len : 0) -- False\n",
    "\n",
    "# bool(something or len>0) --- True"
   ]
  },
  {
   "cell_type": "code",
   "execution_count": 17,
   "id": "fa999b07",
   "metadata": {},
   "outputs": [
    {
     "name": "stdout",
     "output_type": "stream",
     "text": [
      "True\n"
     ]
    }
   ],
   "source": [
    "print(bool(\"kumar\"))"
   ]
  },
  {
   "cell_type": "code",
   "execution_count": 18,
   "id": "85bab944",
   "metadata": {},
   "outputs": [
    {
     "data": {
      "text/plain": [
       "False"
      ]
     },
     "execution_count": 18,
     "metadata": {},
     "output_type": "execute_result"
    }
   ],
   "source": [
    "bool(\"\")"
   ]
  },
  {
   "cell_type": "code",
   "execution_count": 20,
   "id": "84ac2a14",
   "metadata": {},
   "outputs": [
    {
     "name": "stdout",
     "output_type": "stream",
     "text": [
      "false block\n"
     ]
    }
   ],
   "source": [
    "if bool(10%2 != 0):\n",
    "    print(\"hello\")\n",
    "    print(\"True\")\n",
    "else:\n",
    "    print('false block')"
   ]
  },
  {
   "cell_type": "code",
   "execution_count": null,
   "id": "aef18e40",
   "metadata": {},
   "outputs": [],
   "source": [
    "print(bool([10]))"
   ]
  },
  {
   "cell_type": "code",
   "execution_count": 21,
   "id": "63eac51e",
   "metadata": {},
   "outputs": [
    {
     "name": "stdout",
     "output_type": "stream",
     "text": [
      "Bye bye\n"
     ]
    }
   ],
   "source": [
    "if bool(10<2) == True:\n",
    "    print(\"hello\")\n",
    "    print(\"True\")\n",
    "else:\n",
    "    print(\"Bye bye\")"
   ]
  },
  {
   "cell_type": "code",
   "execution_count": 23,
   "id": "70f718f4",
   "metadata": {},
   "outputs": [
    {
     "name": "stdout",
     "output_type": "stream",
     "text": [
      "lst is empty\n"
     ]
    }
   ],
   "source": [
    "lst = []\n",
    "if lst:\n",
    "    print(max(lst))\n",
    "else:\n",
    "    print(\"lst is empty\")"
   ]
  },
  {
   "cell_type": "code",
   "execution_count": null,
   "id": "c8cf71fe",
   "metadata": {},
   "outputs": [],
   "source": [
    "# summary \n",
    "if \n",
    "if else\n",
    "if elif elif elif .... else\n",
    "if if if .... if else\n",
    "nested if \n",
    "nested if else.\n",
    "short hand if else \n",
    "\n"
   ]
  },
  {
   "cell_type": "code",
   "execution_count": null,
   "id": "d72168d4",
   "metadata": {},
   "outputs": [],
   "source": [
    "lst = [10,20,30,40]\n",
    "\n",
    "while bool(lst) == True:\n",
    "    print(lst.pop())\n",
    "    print(lst)"
   ]
  },
  {
   "cell_type": "code",
   "execution_count": null,
   "id": "4bfdd8ff",
   "metadata": {},
   "outputs": [],
   "source": [
    "# for var in range(start,stop,step):\n",
    "#     body"
   ]
  },
  {
   "cell_type": "code",
   "execution_count": null,
   "id": "13cde4f7",
   "metadata": {},
   "outputs": [],
   "source": [
    "for i in range(0,100,1):\n",
    "    if i%2 == 0:\n",
    "        print(f'{i} is even')\n",
    "    else:\n",
    "        print(f'{i} is odd')\n"
   ]
  },
  {
   "cell_type": "code",
   "execution_count": null,
   "id": "5d79e593",
   "metadata": {},
   "outputs": [],
   "source": []
  },
  {
   "cell_type": "code",
   "execution_count": null,
   "id": "27ff8539",
   "metadata": {},
   "outputs": [],
   "source": [
    "print(list(range(1,100,2)))"
   ]
  },
  {
   "cell_type": "code",
   "execution_count": null,
   "id": "b381eb7a",
   "metadata": {},
   "outputs": [],
   "source": [
    "setA = {10,20,\"kumar\"}\n",
    "n = len(setA)\n",
    "\n",
    "for data in lst:\n",
    "    print(data)"
   ]
  },
  {
   "cell_type": "code",
   "execution_count": null,
   "id": "72872ff8",
   "metadata": {},
   "outputs": [],
   "source": [
    "if type(lst[0]) is int:\n",
    "    print(lst[0])\n",
    "    \n",
    "if type(lst[1]) is int:\n",
    "    print(lst[1])\n",
    "    \n",
    "if type(lst[2]) is int:\n",
    "    print(lst[2])\n",
    "    \n",
    "if type(lst[3]) is int:\n",
    "    print(lst[3])\n",
    "    \n",
    "if type(lst[4]) is int:\n",
    "    print(lst[4])\n",
    "    \n",
    "if type(lst[5]) is int:\n",
    "    print(lst[5])\n",
    "    \n",
    "if type(lst[6]) is int:\n",
    "    print(lst[6])"
   ]
  },
  {
   "cell_type": "code",
   "execution_count": null,
   "id": "7f225f8b",
   "metadata": {},
   "outputs": [],
   "source": [
    "#  for loop \n",
    "    range()\n",
    "    print base for loop\n",
    "# list\n",
    "# tuple \n",
    "# set \n",
    "#  dictionary"
   ]
  },
  {
   "cell_type": "code",
   "execution_count": null,
   "id": "3d226ff7",
   "metadata": {},
   "outputs": [],
   "source": [
    "lst = [10,20,30,40]\n",
    "\n",
    "for data in lst:\n",
    "    print(data)"
   ]
  },
  {
   "cell_type": "code",
   "execution_count": null,
   "id": "8ccfc375",
   "metadata": {},
   "outputs": [],
   "source": [
    "countries = ('india' , 'pak' , 'aus')\n",
    "for country in countries:\n",
    "    print(country)"
   ]
  },
  {
   "cell_type": "code",
   "execution_count": null,
   "id": "a17028f1",
   "metadata": {},
   "outputs": [],
   "source": [
    "colors = {\"red\" , \"blue\" , \"red\" , \"yellow\" ,\"white\" , \"blue\"}\n",
    "\n",
    "for color in colors:\n",
    "    print(color)"
   ]
  },
  {
   "cell_type": "code",
   "execution_count": null,
   "id": "3c4d186f",
   "metadata": {},
   "outputs": [],
   "source": [
    "student = {\"name\" : \"mahesh\",\n",
    "            \"course\" : \"AI\",\n",
    "              \"year\": 2023\n",
    "          }\n",
    "\n",
    "\n",
    "for key in student:\n",
    "    print(key , student.get(key), sep =' : ')"
   ]
  },
  {
   "cell_type": "code",
   "execution_count": null,
   "id": "6b510f31",
   "metadata": {},
   "outputs": [],
   "source": []
  }
 ],
 "metadata": {
  "kernelspec": {
   "display_name": "Python 3 (ipykernel)",
   "language": "python",
   "name": "python3"
  },
  "language_info": {
   "codemirror_mode": {
    "name": "ipython",
    "version": 3
   },
   "file_extension": ".py",
   "mimetype": "text/x-python",
   "name": "python",
   "nbconvert_exporter": "python",
   "pygments_lexer": "ipython3",
   "version": "3.10.9"
  }
 },
 "nbformat": 4,
 "nbformat_minor": 5
}
