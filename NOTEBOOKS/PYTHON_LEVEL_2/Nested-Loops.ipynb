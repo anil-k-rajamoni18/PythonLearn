{
 "cells": [
  {
   "cell_type": "markdown",
   "id": "8ce209b7",
   "metadata": {},
   "source": [
    "### 2D Data and Nested Data?\n",
    "- A 2D array in python is a two-dimensional data structure stored linearly in the memory. \n",
    "- It means that it has two dimensions, the rows, and the columns, and thus it also represents a matrix\n",
    "- Nested Data in python is having One DataType holding the elements of other Data Types \n",
    "- Here DataTypes can be of Collections/Sequentials types like list tuple set str dictionary\n",
    "\n",
    "example:\n",
    "\n",
    "```python\n",
    "\n",
    "\n",
    "arr_2D =[\n",
    "    \n",
    "        [1,2,3,10],\n",
    "        ['a','b','c'],\n",
    "        [10.2,True,10+2j]\n",
    "    \n",
    "        ]\n",
    "\n",
    "\n",
    "data2 = [\n",
    "           [10,20,40,50],\n",
    "           ('Earth','Jupiter','Venus','Mars'),\n",
    "           {'Red','Blue','Yellow','Orange'},\n",
    "           {'name' : 'Kumar', 'skills': ['python','devoops','springBoot','java']}\n",
    "         ]\n",
    "\n",
    "\n",
    "data3 = {\n",
    "    \"name\" : \"kumar\",\n",
    "    \"country\": \"india\",\n",
    "    \"role\" : \"backend-dev\",\n",
    "    \"is_develper\": True\n",
    "    \"site-location\": 3,\n",
    "    \"skill\": [\"python\", \"devops\",\"spring\",\"java\"],\n",
    "    \"friends\": [\n",
    "                {\n",
    "                \"name\" : \"Jai\",\n",
    "                \"role\": \"saleforce dev\",\n",
    "                \"skills\" : [\"integration\",\"dev-ops\"]\n",
    "                }\n",
    "            ]\n",
    "       }\n",
    "```\n"
   ]
  },
  {
   "cell_type": "markdown",
   "id": "40c03d38",
   "metadata": {},
   "source": [
    "### Nested Loops\n",
    "\n",
    "A nested loop is a loop inside a loop.\n",
    "\n",
    "The \"inner loop\" will be executed one time for each iteration of the \"outer loop\":\n",
    "\n",
    "Useful for accessing the 2D Lists , Tuples\n"
   ]
  },
  {
   "cell_type": "code",
   "execution_count": null,
   "id": "1e077bfa",
   "metadata": {},
   "outputs": [],
   "source": []
  },
  {
   "cell_type": "markdown",
   "id": "e787aed9",
   "metadata": {},
   "source": []
  },
  {
   "cell_type": "code",
   "execution_count": null,
   "id": "8a663988",
   "metadata": {},
   "outputs": [],
   "source": []
  },
  {
   "cell_type": "markdown",
   "id": "15e8cb30",
   "metadata": {},
   "source": [
    "![](https://bertwagner.com/wp-content/uploads/2018/12/Nested-Loop-Join-50fps-1.gif)"
   ]
  },
  {
   "cell_type": "markdown",
   "id": "7169202a",
   "metadata": {},
   "source": [
    "### Nested For Loop"
   ]
  },
  {
   "cell_type": "code",
   "execution_count": null,
   "id": "77181b5c",
   "metadata": {},
   "outputs": [],
   "source": [
    "for :\n",
    "    for:\n",
    "        for:\n",
    "            for\n",
    "    \n",
    "for:\n",
    "    while\n",
    "    \n",
    "while:\n",
    "    while\n",
    "\n",
    "while:\n",
    "    for"
   ]
  },
  {
   "cell_type": "code",
   "execution_count": null,
   "id": "9c91b3bb",
   "metadata": {},
   "outputs": [],
   "source": [
    "FOR ONE ITERATION OF Outer Loop , INNER loop will execute all it's iterations."
   ]
  },
  {
   "cell_type": "code",
   "execution_count": null,
   "id": "84923680",
   "metadata": {},
   "outputs": [],
   "source": []
  },
  {
   "cell_type": "markdown",
   "id": "b377504b",
   "metadata": {},
   "source": [
    "![](https://pynative.com/wp-content/uploads/2021/06/python-nested-for-loop.png)"
   ]
  },
  {
   "cell_type": "code",
   "execution_count": 4,
   "id": "11d3fcee",
   "metadata": {},
   "outputs": [
    {
     "name": "stdout",
     "output_type": "stream",
     "text": [
      "1 2 3 4 5 6 7 8 9 10 \n",
      "2 4 6 8 10 12 14 16 18 20 \n",
      "3 6 9 12 15 18 21 24 27 30 \n",
      "4 8 12 16 20 24 28 32 36 40 \n",
      "5 10 15 20 25 30 35 40 45 50 \n",
      "6 12 18 24 30 36 42 48 54 60 \n",
      "7 14 21 28 35 42 49 56 63 70 \n",
      "8 16 24 32 40 48 56 64 72 80 \n",
      "9 18 27 36 45 54 63 72 81 90 \n",
      "10 20 30 40 50 60 70 80 90 100 \n"
     ]
    }
   ],
   "source": [
    "for i in range(1,11):\n",
    "    for j in range(1,11):\n",
    "        print(i*j , end=\" \")\n",
    "    print() #newline "
   ]
  },
  {
   "cell_type": "code",
   "execution_count": 5,
   "id": "8f73da14",
   "metadata": {},
   "outputs": [
    {
     "name": "stdout",
     "output_type": "stream",
     "text": [
      "0 1 2 3 4 5 6 7 8 9 "
     ]
    }
   ],
   "source": [
    "# normal for loop\n",
    "for i in range(10):\n",
    "    print(i , end=\" \")"
   ]
  },
  {
   "cell_type": "code",
   "execution_count": null,
   "id": "51984a6e",
   "metadata": {},
   "outputs": [],
   "source": []
  },
  {
   "cell_type": "code",
   "execution_count": 6,
   "id": "0812b754",
   "metadata": {},
   "outputs": [
    {
     "name": "stdout",
     "output_type": "stream",
     "text": [
      "1 1 \n",
      "2 4 \n",
      "3 9 \n"
     ]
    }
   ],
   "source": [
    "for i in range(1,4):\n",
    "    for j in range(1,3):\n",
    "        print(i**j , end=\" \")\n",
    "    print('')\n",
    "\n",
    "\n"
   ]
  },
  {
   "cell_type": "code",
   "execution_count": 7,
   "id": "b2552bdd",
   "metadata": {},
   "outputs": [
    {
     "name": "stdout",
     "output_type": "stream",
     "text": [
      "1 * 1 = 1\n",
      "1 * 2 = 2\n",
      "1 * 3 = 3\n",
      "1 * 4 = 4\n",
      "1 * 5 = 5\n",
      "1 * 6 = 6\n",
      "1 * 7 = 7\n",
      "1 * 8 = 8\n",
      "1 * 9 = 9\n",
      "1 * 10 = 10\n",
      "------------------------------\n",
      "2 * 1 = 2\n",
      "2 * 2 = 4\n",
      "2 * 3 = 6\n",
      "2 * 4 = 8\n",
      "2 * 5 = 10\n",
      "2 * 6 = 12\n",
      "2 * 7 = 14\n",
      "2 * 8 = 16\n",
      "2 * 9 = 18\n",
      "2 * 10 = 20\n",
      "------------------------------\n",
      "3 * 1 = 3\n",
      "3 * 2 = 6\n",
      "3 * 3 = 9\n",
      "3 * 4 = 12\n",
      "3 * 5 = 15\n",
      "3 * 6 = 18\n",
      "3 * 7 = 21\n",
      "3 * 8 = 24\n",
      "3 * 9 = 27\n",
      "3 * 10 = 30\n",
      "------------------------------\n",
      "4 * 1 = 4\n",
      "4 * 2 = 8\n",
      "4 * 3 = 12\n",
      "4 * 4 = 16\n",
      "4 * 5 = 20\n",
      "4 * 6 = 24\n",
      "4 * 7 = 28\n",
      "4 * 8 = 32\n",
      "4 * 9 = 36\n",
      "4 * 10 = 40\n",
      "------------------------------\n",
      "5 * 1 = 5\n",
      "5 * 2 = 10\n",
      "5 * 3 = 15\n",
      "5 * 4 = 20\n",
      "5 * 5 = 25\n",
      "5 * 6 = 30\n",
      "5 * 7 = 35\n",
      "5 * 8 = 40\n",
      "5 * 9 = 45\n",
      "5 * 10 = 50\n",
      "------------------------------\n",
      "6 * 1 = 6\n",
      "6 * 2 = 12\n",
      "6 * 3 = 18\n",
      "6 * 4 = 24\n",
      "6 * 5 = 30\n",
      "6 * 6 = 36\n",
      "6 * 7 = 42\n",
      "6 * 8 = 48\n",
      "6 * 9 = 54\n",
      "6 * 10 = 60\n",
      "------------------------------\n",
      "7 * 1 = 7\n",
      "7 * 2 = 14\n",
      "7 * 3 = 21\n",
      "7 * 4 = 28\n",
      "7 * 5 = 35\n",
      "7 * 6 = 42\n",
      "7 * 7 = 49\n",
      "7 * 8 = 56\n",
      "7 * 9 = 63\n",
      "7 * 10 = 70\n",
      "------------------------------\n",
      "8 * 1 = 8\n",
      "8 * 2 = 16\n",
      "8 * 3 = 24\n",
      "8 * 4 = 32\n",
      "8 * 5 = 40\n",
      "8 * 6 = 48\n",
      "8 * 7 = 56\n",
      "8 * 8 = 64\n",
      "8 * 9 = 72\n",
      "8 * 10 = 80\n",
      "------------------------------\n",
      "9 * 1 = 9\n",
      "9 * 2 = 18\n",
      "9 * 3 = 27\n",
      "9 * 4 = 36\n",
      "9 * 5 = 45\n",
      "9 * 6 = 54\n",
      "9 * 7 = 63\n",
      "9 * 8 = 72\n",
      "9 * 9 = 81\n",
      "9 * 10 = 90\n",
      "------------------------------\n",
      "10 * 1 = 10\n",
      "10 * 2 = 20\n",
      "10 * 3 = 30\n",
      "10 * 4 = 40\n",
      "10 * 5 = 50\n",
      "10 * 6 = 60\n",
      "10 * 7 = 70\n",
      "10 * 8 = 80\n",
      "10 * 9 = 90\n",
      "10 * 10 = 100\n",
      "------------------------------\n"
     ]
    }
   ],
   "source": [
    "for i in range(1,11):\n",
    "    for j in range(1,11):\n",
    "        print(f'{i} * {j} = {i*j}')\n",
    "    print('-' * 30)"
   ]
  },
  {
   "cell_type": "code",
   "execution_count": 8,
   "id": "3316609a",
   "metadata": {},
   "outputs": [
    {
     "name": "stdout",
     "output_type": "stream",
     "text": [
      "j = 0 in J Loop\n",
      "j = 1 in J Loop\n",
      "\n",
      "k = 0 in K Loop\n",
      "k = 1 in K Loop\n",
      "k = 2 in K Loop\n",
      "\n",
      "j = 0 in J Loop\n",
      "j = 1 in J Loop\n",
      "\n",
      "k = 0 in K Loop\n",
      "k = 1 in K Loop\n",
      "k = 2 in K Loop\n",
      "\n",
      "j = 0 in J Loop\n",
      "j = 1 in J Loop\n",
      "\n",
      "k = 0 in K Loop\n",
      "k = 1 in K Loop\n",
      "k = 2 in K Loop\n",
      "\n",
      "j = 0 in J Loop\n",
      "j = 1 in J Loop\n",
      "\n",
      "k = 0 in K Loop\n",
      "k = 1 in K Loop\n",
      "k = 2 in K Loop\n",
      "\n",
      "j = 0 in J Loop\n",
      "j = 1 in J Loop\n",
      "\n",
      "k = 0 in K Loop\n",
      "k = 1 in K Loop\n",
      "k = 2 in K Loop\n",
      "\n"
     ]
    }
   ],
   "source": [
    "for i in range(5):\n",
    "    for j in range(2):\n",
    "        print(f'j = {j} in J Loop')\n",
    "    print('')\n",
    "    for k in range(3):\n",
    "        print(f'k = {k} in K Loop')\n",
    "    print('')"
   ]
  },
  {
   "cell_type": "code",
   "execution_count": null,
   "id": "c55e86a2",
   "metadata": {},
   "outputs": [],
   "source": []
  },
  {
   "cell_type": "code",
   "execution_count": null,
   "id": "ef08d95e",
   "metadata": {},
   "outputs": [],
   "source": []
  },
  {
   "cell_type": "markdown",
   "id": "d4996e82",
   "metadata": {},
   "source": [
    "![](https://media.geeksforgeeks.org/wp-content/uploads/20220801153940/Nestedloop.png)"
   ]
  },
  {
   "cell_type": "code",
   "execution_count": null,
   "id": "b2b2b10b",
   "metadata": {},
   "outputs": [],
   "source": []
  },
  {
   "cell_type": "code",
   "execution_count": 10,
   "id": "febe952b",
   "metadata": {},
   "outputs": [
    {
     "name": "stdout",
     "output_type": "stream",
     "text": [
      "HI\n",
      "HI\n",
      "\n",
      "HI\n",
      "HI\n",
      "\n",
      "HI\n",
      "HI\n",
      "\n",
      "HI\n",
      "HI\n",
      "\n",
      "HI\n",
      "HI\n",
      "\n"
     ]
    }
   ],
   "source": [
    "for i in range(5): \n",
    "    for j in range(2): \n",
    "        print(\"HI\")\n",
    "    print()"
   ]
  },
  {
   "cell_type": "code",
   "execution_count": null,
   "id": "69f0a484",
   "metadata": {},
   "outputs": [],
   "source": []
  },
  {
   "cell_type": "code",
   "execution_count": 11,
   "id": "dbfea947",
   "metadata": {},
   "outputs": [
    {
     "name": "stdout",
     "output_type": "stream",
     "text": [
      "30\n"
     ]
    }
   ],
   "source": [
    "count=0\n",
    "for i in range(0,10,2):\n",
    "    for j in range(i+1,10,2):\n",
    "        for k in range(j+2,10):\n",
    "            count = count+1\n",
    "            \n",
    "        \n",
    "print(count)"
   ]
  },
  {
   "cell_type": "code",
   "execution_count": null,
   "id": "f2e066ca",
   "metadata": {},
   "outputs": [],
   "source": []
  },
  {
   "cell_type": "code",
   "execution_count": 12,
   "id": "c6aef696",
   "metadata": {},
   "outputs": [
    {
     "name": "stdout",
     "output_type": "stream",
     "text": [
      "1 2 3 4 5 6 7 8 9 10 \n",
      "2 4 6 8 10 12 14 16 18 20 \n",
      "3 6 9 12 15 18 21 24 27 30 \n"
     ]
    }
   ],
   "source": [
    "for out in range(1,4):\n",
    "    for inner in range(1,11):\n",
    "        print(out*inner , end=\" \")\n",
    "    print()"
   ]
  },
  {
   "cell_type": "code",
   "execution_count": null,
   "id": "f5480f22",
   "metadata": {},
   "outputs": [],
   "source": []
  },
  {
   "cell_type": "code",
   "execution_count": 13,
   "id": "f314a500",
   "metadata": {},
   "outputs": [
    {
     "name": "stdout",
     "output_type": "stream",
     "text": [
      "1 2 3 4 5 6 7 8 9 10 \n",
      "2 4 6 8 10 12 14 16 18 20 \n",
      "3 6 9 12 15 18 21 24 27 30 \n"
     ]
    }
   ],
   "source": [
    "out = 1\n",
    "while out<4:\n",
    "    inner = 1\n",
    "    while inner<11:\n",
    "        print(out*inner, end=\" \")\n",
    "        inner+=1\n",
    "    out+=1\n",
    "    print()"
   ]
  },
  {
   "cell_type": "code",
   "execution_count": null,
   "id": "21b58e39",
   "metadata": {},
   "outputs": [],
   "source": []
  },
  {
   "cell_type": "markdown",
   "id": "1e172289",
   "metadata": {},
   "source": [
    "####  EXAMPLES "
   ]
  },
  {
   "cell_type": "code",
   "execution_count": null,
   "id": "2400be75",
   "metadata": {},
   "outputs": [],
   "source": []
  },
  {
   "cell_type": "code",
   "execution_count": 14,
   "id": "7481fbe4",
   "metadata": {},
   "outputs": [
    {
     "name": "stdout",
     "output_type": "stream",
     "text": [
      "1 4\n",
      "1 5\n",
      "2 4\n",
      "2 5\n"
     ]
    }
   ],
   "source": [
    "x = [1, 2]\n",
    "y = [4, 5]\n",
    "\n",
    "for i in x:\n",
    "    for j in y:\n",
    "        print(i,j)\n"
   ]
  },
  {
   "cell_type": "code",
   "execution_count": null,
   "id": "9e909898",
   "metadata": {},
   "outputs": [],
   "source": []
  },
  {
   "cell_type": "code",
   "execution_count": null,
   "id": "be7fb67c",
   "metadata": {},
   "outputs": [],
   "source": []
  },
  {
   "cell_type": "code",
   "execution_count": 15,
   "id": "7b44ce30",
   "metadata": {},
   "outputs": [
    {
     "name": "stdout",
     "output_type": "stream",
     "text": [
      "1 4\n",
      "1 5\n",
      "2 4\n",
      "2 5\n"
     ]
    }
   ],
   "source": [
    "x = [1, 2]\n",
    "y = [4, 5]\n",
    "i = 0\n",
    "while i < len(x) :\n",
    "    j = 0\n",
    "    while j < len(y) :\n",
    "        print(x[i] , y[j])\n",
    "        j = j + 1\n",
    "    i = i + 1\n"
   ]
  },
  {
   "cell_type": "code",
   "execution_count": null,
   "id": "b488e974",
   "metadata": {},
   "outputs": [],
   "source": []
  },
  {
   "cell_type": "code",
   "execution_count": 16,
   "id": "10931b49",
   "metadata": {},
   "outputs": [
    {
     "name": "stdout",
     "output_type": "stream",
     "text": [
      "[1, 2, 3, 10]\n",
      "['a', 'b', 'c']\n",
      "[10.2, True, (10+2j)]\n"
     ]
    }
   ],
   "source": [
    "\n",
    "\n",
    "arr_2D =[\n",
    "    \n",
    "        [1,2,3,10],\n",
    "        ['a','b','c'],\n",
    "        [10.2,True,10+2j]\n",
    "    \n",
    "        ]\n",
    "\n",
    "for data in arr_2D:\n",
    "    print(data)"
   ]
  },
  {
   "cell_type": "code",
   "execution_count": null,
   "id": "0d733440",
   "metadata": {},
   "outputs": [],
   "source": []
  },
  {
   "cell_type": "code",
   "execution_count": null,
   "id": "bf22aa4f",
   "metadata": {},
   "outputs": [],
   "source": []
  },
  {
   "cell_type": "code",
   "execution_count": 23,
   "id": "56596d66",
   "metadata": {},
   "outputs": [
    {
     "name": "stdout",
     "output_type": "stream",
     "text": [
      "1\n",
      "2\n",
      "3\n",
      "10\n",
      "\n",
      "a\n",
      "b\n",
      "c\n",
      "\n",
      "10.2\n",
      "True\n",
      "(10+2j)\n",
      "\n"
     ]
    }
   ],
   "source": [
    "for data in arr_2D:\n",
    "    for d in data:\n",
    "        print(d)\n",
    "    print()\n",
    "        "
   ]
  },
  {
   "cell_type": "code",
   "execution_count": 26,
   "id": "2203e03e",
   "metadata": {},
   "outputs": [
    {
     "name": "stdout",
     "output_type": "stream",
     "text": [
      "apple\n",
      "Micro\n"
     ]
    }
   ],
   "source": [
    "data = [\"apple\",\"ms\",\"telsa\", \"Micro\"]\n",
    "\n",
    "print(data[0])\n",
    "print(data[-1])"
   ]
  },
  {
   "cell_type": "code",
   "execution_count": 27,
   "id": "a7e864fc",
   "metadata": {},
   "outputs": [
    {
     "name": "stdout",
     "output_type": "stream",
     "text": [
      "True\n",
      "e\n",
      "3\n"
     ]
    }
   ],
   "source": [
    "arr_2D =[ \n",
    "    [\"apple\",\"ms\",\"telsa\", \"Micro\"],\n",
    "    ['a','b','c' , \"d\",\"f\",\"e\"],\n",
    "    [10.2,True,10+2j]\n",
    "    ]\n",
    "\n",
    "\n",
    "print(arr_2D[2][1])\n",
    "print(arr_2D[0][2][1])\n",
    "print(len(arr_2D))"
   ]
  },
  {
   "cell_type": "code",
   "execution_count": 36,
   "id": "7b07f503",
   "metadata": {},
   "outputs": [
    {
     "name": "stdout",
     "output_type": "stream",
     "text": [
      "len is 3\n",
      "arr[0,0] = apple\n",
      "arr[0,1] = amazon\n",
      "arr[0,2] = telsa\n",
      "arr[0,3] = ibm\n",
      "\n",
      "arr[1,0] = Earth\n",
      "arr[1,1] = Venus\n",
      "arr[1,2] = Mars\n",
      "\n",
      "arr[2,0] = 10.2\n",
      "arr[2,1] = True\n",
      "\n"
     ]
    }
   ],
   "source": [
    "arr_2D =[ \n",
    "    [\"apple\",\"amazon\",\"telsa\", \"ibm\"],\n",
    "    ('Earth', 'Venus', 'Mars'),\n",
    "    [10.2,True]\n",
    "    ]\n",
    "\n",
    "n = len(arr_2D)\n",
    "print(\"len is\",n)\n",
    "\n",
    "for i in range(n):\n",
    "    innerLen = len(arr_2D[i])\n",
    "    for j in range(innerLen):\n",
    "        print(f'arr[{i},{j}] = {arr_2D[i][j]}')\n",
    "    print()"
   ]
  },
  {
   "cell_type": "code",
   "execution_count": null,
   "id": "427f19da",
   "metadata": {},
   "outputs": [],
   "source": []
  },
  {
   "cell_type": "markdown",
   "id": "fafac9dc",
   "metadata": {},
   "source": [
    "### TRY THIS\n"
   ]
  },
  {
   "cell_type": "code",
   "execution_count": null,
   "id": "8d84b695",
   "metadata": {},
   "outputs": [],
   "source": [
    "arr_2D"
   ]
  },
  {
   "cell_type": "code",
   "execution_count": null,
   "id": "5a277cff",
   "metadata": {},
   "outputs": [],
   "source": [
    "\n",
    "for i in range(n):\n",
    "    for j in range(len(arr_2D[i])):\n",
    "        if(i==j):\n",
    "            arr_2D[i][j] = i**j\n",
    "    print()\n",
    "    \n",
    "print(arr_2D)"
   ]
  },
  {
   "cell_type": "code",
   "execution_count": null,
   "id": "04e6c5f2",
   "metadata": {},
   "outputs": [],
   "source": []
  },
  {
   "cell_type": "code",
   "execution_count": null,
   "id": "69f2f614",
   "metadata": {},
   "outputs": [],
   "source": [
    "for i in range(1, 5):\n",
    "    for j in range(1,10):\n",
    "        if i==j:\n",
    "            break\n",
    "        print(f'{i} * {j} = {i*j}')\n",
    "        \n",
    "    print('-' * 20)\n"
   ]
  },
  {
   "cell_type": "code",
   "execution_count": null,
   "id": "10681e45",
   "metadata": {},
   "outputs": [],
   "source": []
  },
  {
   "cell_type": "code",
   "execution_count": null,
   "id": "ece13af9",
   "metadata": {
    "scrolled": true
   },
   "outputs": [],
   "source": [
    "\n",
    "for i in range(2, 4):\n",
    "    for j in range(1, 11):\n",
    "        if i==j:\n",
    "            continue\n",
    "        print(f'{i} * {j} = {i*j}')\n",
    "    print('-' * 20)\n"
   ]
  },
  {
   "cell_type": "code",
   "execution_count": null,
   "id": "4b742f77",
   "metadata": {},
   "outputs": [],
   "source": []
  },
  {
   "cell_type": "code",
   "execution_count": null,
   "id": "16c37340",
   "metadata": {},
   "outputs": [],
   "source": [
    "# EXAMPLES\n",
    "\n",
    "data = [[\"kumar\",1200],[\"Alex\",1500],[\"Avan\",2500]]\n",
    "\n",
    "for outer in data:\n",
    "    for d2 in outer:\n",
    "        print(d2)\n",
    "        "
   ]
  },
  {
   "cell_type": "markdown",
   "id": "c05208d7",
   "metadata": {},
   "source": [
    "### Daily-usecases\n",
    "\n"
   ]
  },
  {
   "cell_type": "markdown",
   "id": "9225c84f",
   "metadata": {},
   "source": [
    "#### Printing mutliplication table"
   ]
  },
  {
   "cell_type": "code",
   "execution_count": null,
   "id": "d4b8ddb7",
   "metadata": {},
   "outputs": [],
   "source": [
    "for i in range(2, 4):\n",
    "    for j in range(1, 11):\n",
    "        print(i, \"*\", j, \"=\", i*j)\n",
    "    print()\n"
   ]
  },
  {
   "cell_type": "markdown",
   "id": "cf9899ed",
   "metadata": {},
   "source": [
    "### TASK-2\n",
    "\n",
    "- Read JSON File from local using module\n",
    "- Store inside a Datatypes (dictionary)\n",
    "- Apply the following operations.\n",
    "    - count of nobel prizes for chemistry\n",
    "    - count of nobel prize in betwen 1900 - 1980 of chemistry\n",
    "    - count of total nobel prize categories and which one is having maximum prizes.\n",
    "  "
   ]
  },
  {
   "cell_type": "markdown",
   "id": "10ebdf5d",
   "metadata": {},
   "source": [
    "- JSON \n",
    "    - Javascript Object Notation\n",
    "    - Data represtation  , Data Serilazation Language\n",
    "    - Mainly we use for API's communications and configuration.\n",
    "    - DataTypes:\n",
    "        key : str \n",
    "        value: str , int, boolean, object, array "
   ]
  },
  {
   "cell_type": "code",
   "execution_count": null,
   "id": "95c7d3fa",
   "metadata": {},
   "outputs": [],
   "source": [
    "developer = {\n",
    "    \"name\" : \"kumar\",\n",
    "    \"country\": \"india\",\n",
    "    \"role\" : \"backend-dev\",\n",
    "    \"is_develper\": True,\n",
    "    \"site-location\": 3,\n",
    "    \"skill\": [\"python\", \"devops\",\"spring\",\"java\"],\n",
    "    \"friends\": [\n",
    "        {\n",
    "            \"name\" : \"Jai\",\n",
    "            \"role\": \"saleforce dev\",\n",
    "            \"skills\" : [\"integration\",\"dev-ops\"]\n",
    "        }\n",
    "    ]\n",
    "    \n",
    "    \n",
    "}"
   ]
  },
  {
   "cell_type": "code",
   "execution_count": null,
   "id": "553fcd4d",
   "metadata": {},
   "outputs": [],
   "source": [
    "for key in developer:\n",
    "    print(key , developer[key])"
   ]
  },
  {
   "cell_type": "code",
   "execution_count": null,
   "id": "401d0f27",
   "metadata": {},
   "outputs": [],
   "source": [
    "for val in developer.values():\n",
    "    print(val)"
   ]
  },
  {
   "cell_type": "code",
   "execution_count": null,
   "id": "393da9c8",
   "metadata": {},
   "outputs": [],
   "source": []
  },
  {
   "cell_type": "code",
   "execution_count": null,
   "id": "32c11a6e",
   "metadata": {},
   "outputs": [],
   "source": [
    "for k,v in developer.items():\n",
    "    print(k,v)"
   ]
  },
  {
   "cell_type": "code",
   "execution_count": null,
   "id": "03e5d4e1",
   "metadata": {},
   "outputs": [],
   "source": []
  },
  {
   "cell_type": "code",
   "execution_count": null,
   "id": "c07695e7",
   "metadata": {},
   "outputs": [],
   "source": []
  },
  {
   "cell_type": "code",
   "execution_count": null,
   "id": "e7f69671",
   "metadata": {},
   "outputs": [],
   "source": []
  },
  {
   "cell_type": "markdown",
   "id": "19eea828",
   "metadata": {},
   "source": [
    "### Solution"
   ]
  },
  {
   "cell_type": "code",
   "execution_count": null,
   "id": "c9fcdaee",
   "metadata": {},
   "outputs": [],
   "source": []
  }
 ],
 "metadata": {
  "kernelspec": {
   "display_name": "Python 3 (ipykernel)",
   "language": "python",
   "name": "python3"
  },
  "language_info": {
   "codemirror_mode": {
    "name": "ipython",
    "version": 3
   },
   "file_extension": ".py",
   "mimetype": "text/x-python",
   "name": "python",
   "nbconvert_exporter": "python",
   "pygments_lexer": "ipython3",
   "version": "3.10.9"
  }
 },
 "nbformat": 4,
 "nbformat_minor": 5
}
