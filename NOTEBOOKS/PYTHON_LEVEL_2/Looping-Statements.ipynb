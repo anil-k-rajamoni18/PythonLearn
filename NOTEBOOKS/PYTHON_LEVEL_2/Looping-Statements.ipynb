{
 "cells": [
  {
   "cell_type": "markdown",
   "id": "fcce1230",
   "metadata": {},
   "source": [
    "### Looping Statements"
   ]
  },
  {
   "cell_type": "markdown",
   "id": "0daea6ca",
   "metadata": {},
   "source": [
    "#### Break\n",
    "\n",
    "    - With the break statement we can stop the loop before it has looped through all the items:\n",
    "\n",
    "\n",
    "#### Continue \n",
    "\n",
    "    - With the continue statement we can stop the current iteration of the loop, and continue with the next:\n",
    "\n",
    "    - skips the current iteration\n",
    "\n",
    "#### pass\n",
    "    for/while loops cannot be empty, but if you for some reason have a for loop with no content, put in the pass statement to avoid getting an error"
   ]
  },
  {
   "cell_type": "code",
   "execution_count": null,
   "id": "53454d5b",
   "metadata": {},
   "outputs": [],
   "source": []
  },
  {
   "cell_type": "code",
   "execution_count": null,
   "id": "daacc5a3",
   "metadata": {},
   "outputs": [],
   "source": []
  },
  {
   "cell_type": "code",
   "execution_count": null,
   "id": "9fabf97d",
   "metadata": {},
   "outputs": [],
   "source": []
  },
  {
   "cell_type": "code",
   "execution_count": null,
   "id": "feb065d5",
   "metadata": {},
   "outputs": [],
   "source": [
    "# PASS"
   ]
  },
  {
   "cell_type": "code",
   "execution_count": null,
   "id": "d93024f1",
   "metadata": {},
   "outputs": [],
   "source": [
    "if 10>20:\n",
    "    pass"
   ]
  },
  {
   "cell_type": "code",
   "execution_count": null,
   "id": "47b07add",
   "metadata": {},
   "outputs": [],
   "source": [
    "for i in range(10):\n",
    "    pass"
   ]
  },
  {
   "cell_type": "code",
   "execution_count": null,
   "id": "6639c3fa",
   "metadata": {},
   "outputs": [],
   "source": [
    "def fun():\n",
    "    pass"
   ]
  },
  {
   "cell_type": "code",
   "execution_count": null,
   "id": "2b461baf",
   "metadata": {},
   "outputs": [],
   "source": []
  },
  {
   "cell_type": "code",
   "execution_count": null,
   "id": "42da7ab5",
   "metadata": {},
   "outputs": [],
   "source": [
    "# BREAK\n"
   ]
  },
  {
   "cell_type": "code",
   "execution_count": 5,
   "id": "24cc43df",
   "metadata": {},
   "outputs": [
    {
     "name": "stdout",
     "output_type": "stream",
     "text": [
      "1\n",
      "2\n",
      "3\n",
      "4\n",
      "5\n",
      "condition met\n",
      "hey hi am outside loop\n"
     ]
    }
   ],
   "source": [
    "for i in range(1,100):\n",
    "    print(i)\n",
    "    if i == 5:\n",
    "        print(\"condition met\")\n",
    "        break\n",
    "        \n",
    "        \n",
    "print('hey hi am outside loop')"
   ]
  },
  {
   "cell_type": "code",
   "execution_count": null,
   "id": "dbc28ad4",
   "metadata": {},
   "outputs": [],
   "source": []
  },
  {
   "cell_type": "code",
   "execution_count": 6,
   "id": "ba8be7c9",
   "metadata": {},
   "outputs": [
    {
     "name": "stdout",
     "output_type": "stream",
     "text": [
      "1\n",
      "hi\n",
      "Hello\n"
     ]
    }
   ],
   "source": [
    "for i in range(1,10):\n",
    "    print(i) \n",
    "    print(\"hi\")\n",
    "    print(\"Hello\")\n",
    "    break  #individual statement\n",
    "\n"
   ]
  },
  {
   "cell_type": "code",
   "execution_count": null,
   "id": "c3a9e534",
   "metadata": {},
   "outputs": [],
   "source": []
  },
  {
   "cell_type": "code",
   "execution_count": 7,
   "id": "36f95c45",
   "metadata": {},
   "outputs": [
    {
     "name": "stdout",
     "output_type": "stream",
     "text": [
      "outside loop\n"
     ]
    }
   ],
   "source": [
    "for i in range(1,1000):\n",
    "    break\n",
    "    print(i)\n",
    "    print(\"hi\")\n",
    "    print(\"hello\")\n",
    "    \n",
    "    \n",
    "print(\"outside loop\")"
   ]
  },
  {
   "cell_type": "code",
   "execution_count": null,
   "id": "9d4be0fc",
   "metadata": {},
   "outputs": [],
   "source": []
  },
  {
   "cell_type": "code",
   "execution_count": null,
   "id": "f402202d",
   "metadata": {},
   "outputs": [],
   "source": [
    "# CONTINUE"
   ]
  },
  {
   "cell_type": "code",
   "execution_count": 8,
   "id": "551b3348",
   "metadata": {},
   "outputs": [
    {
     "name": "stdout",
     "output_type": "stream",
     "text": [
      "hello am 1\n",
      "hello am 2\n",
      "hello am 4\n",
      "hello am 5\n",
      "hello am 6\n",
      "hello am 8\n",
      "hello am 9\n",
      "hello am 10\n"
     ]
    }
   ],
   "source": [
    "for i in range(1,11):\n",
    "    if i == 3 or i == 7:\n",
    "        continue\n",
    "    print(f\"hello am {i}\")"
   ]
  },
  {
   "cell_type": "code",
   "execution_count": null,
   "id": "36b1ee7b",
   "metadata": {},
   "outputs": [],
   "source": []
  },
  {
   "cell_type": "code",
   "execution_count": 9,
   "id": "0cf42a33",
   "metadata": {},
   "outputs": [
    {
     "name": "stdout",
     "output_type": "stream",
     "text": [
      " i = 1\n",
      " i^2 = 1\n",
      " i = 2\n",
      " i^2 = 4\n",
      " i = 4\n",
      " i^2 = 16\n",
      " i = 6\n",
      " i^2 = 36\n",
      " i = 7\n",
      " i^2 = 49\n",
      " i = 8\n",
      " i^2 = 64\n",
      " i = 9\n",
      " i^2 = 81\n"
     ]
    }
   ],
   "source": [
    "for i in range(1,10):\n",
    "    if(i==3 or i==5):\n",
    "        continue\n",
    "    print(f' i = {i}')\n",
    "    print(f' i^2 = {i**2}')    "
   ]
  },
  {
   "cell_type": "code",
   "execution_count": 10,
   "id": "2a082764",
   "metadata": {},
   "outputs": [
    {
     "name": "stdout",
     "output_type": "stream",
     "text": [
      "1 2 3 4 6 7 9 "
     ]
    }
   ],
   "source": [
    "for i in range(1,10):\n",
    "    if i==5 or i==8:\n",
    "        continue\n",
    "    print(i, end=\" \")"
   ]
  },
  {
   "cell_type": "code",
   "execution_count": 11,
   "id": "5dfcb049",
   "metadata": {},
   "outputs": [
    {
     "name": "stdout",
     "output_type": "stream",
     "text": [
      "0123456789"
     ]
    }
   ],
   "source": [
    "for i in range(10):\n",
    "    print(i,end=\"\")\n",
    "    continue #individual\n",
    "    print(\"hello\") #unreacable code "
   ]
  },
  {
   "cell_type": "code",
   "execution_count": 12,
   "id": "3ec21d2b",
   "metadata": {},
   "outputs": [
    {
     "name": "stdout",
     "output_type": "stream",
     "text": [
      "0\n"
     ]
    }
   ],
   "source": [
    "for i in range(10):\n",
    "    break\n",
    "    print(i)\n",
    "\n",
    "print(i)"
   ]
  },
  {
   "cell_type": "code",
   "execution_count": 13,
   "id": "c55b1e12",
   "metadata": {},
   "outputs": [
    {
     "name": "stdout",
     "output_type": "stream",
     "text": [
      "9\n"
     ]
    }
   ],
   "source": [
    "for i in range(10):\n",
    "    continue # first statement\n",
    "    print(i)\n",
    "    \n",
    "print(i)"
   ]
  },
  {
   "cell_type": "code",
   "execution_count": 14,
   "id": "5c04db17",
   "metadata": {},
   "outputs": [
    {
     "name": "stdout",
     "output_type": "stream",
     "text": [
      "1 2 3 4 5 6 7 8 9 10 11 12 13 14 16 17 18 19 20 21 22 23 24 25 26 27 28 29 31 32 33 34 35 36 37 38 39 40 41 42 43 44 46 47 48 49 50 51 52 53 54 55 56 57 58 59 61 62 63 64 65 66 67 68 69 70 71 72 73 74 76 77 78 79 80 81 82 83 84 85 86 87 88 89 91 92 93 94 95 96 97 98 99 "
     ]
    }
   ],
   "source": [
    "for i in range(100):\n",
    "    \n",
    "    if i % 3 == 0 and i % 5 == 0: #skipping multiple of 3 & 5\n",
    "        continue\n",
    "    else:\n",
    "        print(i , end= \" \")"
   ]
  },
  {
   "cell_type": "code",
   "execution_count": null,
   "id": "5b5dc4c1",
   "metadata": {},
   "outputs": [],
   "source": []
  },
  {
   "cell_type": "code",
   "execution_count": null,
   "id": "30ed8476",
   "metadata": {},
   "outputs": [],
   "source": [
    "# For -  Loop\n",
    "- When we know the no of iteration in advance.\n",
    "- range() is a friend which handles start,step ,stop.\n",
    " - Have control on indexes.\n",
    "    \n",
    "    \n",
    "# While - loop\n",
    " - when we don't know iteration in advance..\n",
    " - we have to declare start , stop , step\n",
    " - if we don't increment/decrement step --> infinite loop."
   ]
  },
  {
   "cell_type": "code",
   "execution_count": null,
   "id": "063c2cb9",
   "metadata": {},
   "outputs": [],
   "source": []
  },
  {
   "cell_type": "markdown",
   "id": "e12d416e",
   "metadata": {},
   "source": [
    "#### Else with For/While\n",
    "\n",
    "The else keyword in a for loop specifies a block of code to be executed when the loop is finished:"
   ]
  },
  {
   "cell_type": "code",
   "execution_count": 15,
   "id": "1e86f6c1",
   "metadata": {},
   "outputs": [
    {
     "name": "stdout",
     "output_type": "stream",
     "text": [
      "else block\n"
     ]
    }
   ],
   "source": [
    "# Normal usage \n",
    "\n",
    "a =10\n",
    "b= 20\n",
    "if a>b: #True\n",
    "    print(\"if block\")\n",
    "else: #False\n",
    "    print(\"else block\")"
   ]
  },
  {
   "cell_type": "code",
   "execution_count": null,
   "id": "d4aebd11",
   "metadata": {},
   "outputs": [],
   "source": []
  },
  {
   "cell_type": "code",
   "execution_count": 17,
   "id": "dac7e761",
   "metadata": {},
   "outputs": [
    {
     "name": "stdout",
     "output_type": "stream",
     "text": [
      "Kuma"
     ]
    }
   ],
   "source": [
    "#else block is executed when for loop is compeltely executed all iterations\n",
    "for ch in \"Kumar\":\n",
    "    print(ch ,end=\"\")\n",
    "    if ch==\"a\":\n",
    "        break\n",
    "             \n",
    "else: #no break #when executed all the iterations\n",
    "    print(\" else block executed\")"
   ]
  },
  {
   "cell_type": "code",
   "execution_count": null,
   "id": "e256c134",
   "metadata": {},
   "outputs": [],
   "source": []
  },
  {
   "cell_type": "code",
   "execution_count": 18,
   "id": "958d1d89",
   "metadata": {},
   "outputs": [
    {
     "name": "stdout",
     "output_type": "stream",
     "text": [
      "1\n",
      "hi\n",
      "Hello\n"
     ]
    }
   ],
   "source": [
    "for i in range(1,10):\n",
    "    print(i) \n",
    "    print(\"hi\")\n",
    "    print(\"Hello\")\n",
    "    break \n",
    "else:\n",
    "    print(\"am else block\")"
   ]
  },
  {
   "cell_type": "code",
   "execution_count": null,
   "id": "ff7e62cb",
   "metadata": {},
   "outputs": [],
   "source": []
  },
  {
   "cell_type": "code",
   "execution_count": null,
   "id": "ccb5764d",
   "metadata": {},
   "outputs": [],
   "source": []
  },
  {
   "cell_type": "code",
   "execution_count": null,
   "id": "dd5485c0",
   "metadata": {},
   "outputs": [],
   "source": [
    "for i in range(1,30): #stop>start\n",
    "    print(\"Hello\")"
   ]
  },
  {
   "cell_type": "code",
   "execution_count": 19,
   "id": "681e02c1",
   "metadata": {},
   "outputs": [
    {
     "name": "stdout",
     "output_type": "stream",
     "text": [
      "enter the message: hello\n",
      "hello\n",
      "enter the message: asjjsdhk\n",
      "asjjsdhk\n",
      "enter the message: dlsdf\n",
      "dlsdf\n",
      "enter the message: wdjjwd\n",
      "wdjjwd\n",
      "enter the message: exit\n",
      "exit\n"
     ]
    }
   ],
   "source": [
    "while True:\n",
    "    msg = input(\"enter the message: \")\n",
    "    print(msg)\n",
    "    if msg == \"exit\":\n",
    "        break"
   ]
  },
  {
   "cell_type": "markdown",
   "id": "596d911a",
   "metadata": {},
   "source": [
    "### List Comprehension"
   ]
  },
  {
   "cell_type": "code",
   "execution_count": 21,
   "id": "226b9dba",
   "metadata": {},
   "outputs": [
    {
     "name": "stdout",
     "output_type": "stream",
     "text": [
      "enter n value: 10 20\n"
     ]
    },
    {
     "ename": "ValueError",
     "evalue": "invalid literal for int() with base 10: '10 20'",
     "output_type": "error",
     "traceback": [
      "\u001b[1;31m---------------------------------------------------------------------------\u001b[0m",
      "\u001b[1;31mValueError\u001b[0m                                Traceback (most recent call last)",
      "Cell \u001b[1;32mIn[21], line 2\u001b[0m\n\u001b[0;32m      1\u001b[0m \u001b[38;5;66;03m# read n integers from keyword.\u001b[39;00m\n\u001b[1;32m----> 2\u001b[0m n \u001b[38;5;241m=\u001b[39m \u001b[38;5;28mint\u001b[39m(\u001b[38;5;28minput\u001b[39m(\u001b[38;5;124m\"\u001b[39m\u001b[38;5;124menter n value: \u001b[39m\u001b[38;5;124m\"\u001b[39m))\n\u001b[0;32m      3\u001b[0m op \u001b[38;5;241m=\u001b[39m [] \n\u001b[0;32m      4\u001b[0m \u001b[38;5;28;01mfor\u001b[39;00m i \u001b[38;5;129;01min\u001b[39;00m \u001b[38;5;28mrange\u001b[39m(n):\n",
      "\u001b[1;31mValueError\u001b[0m: invalid literal for int() with base 10: '10 20'"
     ]
    }
   ],
   "source": [
    "# read n integers from keyword.\n",
    "n = int(input(\"enter n value: \"))\n",
    "op = [] \n",
    "for i in range(n):\n",
    "    op.append(int(input()))\n",
    "    \n",
    "print(op)"
   ]
  },
  {
   "cell_type": "code",
   "execution_count": 31,
   "id": "e7d46fb3",
   "metadata": {},
   "outputs": [],
   "source": [
    "op = list(map(int, input().split()))\n",
    "print(op)"
   ]
  },
  {
   "cell_type": "code",
   "execution_count": 36,
   "id": "4619ea22",
   "metadata": {},
   "outputs": [
    {
     "name": "stdout",
     "output_type": "stream",
     "text": [
      "enter n: 20\n",
      "[1, 3, 5, 7, 9, 11, 13, 15, 17, 19]\n"
     ]
    }
   ],
   "source": [
    "# generate list of odd nums in given range\n",
    "\n",
    "n = int(input(\"enter n: \"))\n",
    "op = []\n",
    "for i in range(1,n):\n",
    "    if i%2 == 1:\n",
    "        op.append(i)\n",
    "print(op)"
   ]
  },
  {
   "cell_type": "code",
   "execution_count": null,
   "id": "1b5f95ef",
   "metadata": {},
   "outputs": [],
   "source": []
  },
  {
   "cell_type": "code",
   "execution_count": 37,
   "id": "5e4c41cc",
   "metadata": {},
   "outputs": [
    {
     "name": "stdout",
     "output_type": "stream",
     "text": [
      "enter n: 20\n",
      "[1, 3, 5, 7, 9, 11, 13, 15, 17, 19]\n"
     ]
    }
   ],
   "source": [
    "n = int(input(\"enter n: \"))\n",
    "op = [i for i in range(1,n) if i%2 == 1]\n",
    "print(op)"
   ]
  },
  {
   "cell_type": "markdown",
   "id": "cbf916bc",
   "metadata": {},
   "source": []
  },
  {
   "cell_type": "code",
   "execution_count": null,
   "id": "fec7fb91",
   "metadata": {},
   "outputs": [],
   "source": []
  },
  {
   "cell_type": "code",
   "execution_count": 38,
   "id": "25b0a1ae",
   "metadata": {},
   "outputs": [
    {
     "name": "stdout",
     "output_type": "stream",
     "text": [
      "[1, 3, 5, 7, 9, 11, 13, 15, 17, 19]\n"
     ]
    }
   ],
   "source": [
    "output2 = [i for i in range(1,21) if i%2 != 0]\n",
    "print(output2)"
   ]
  },
  {
   "cell_type": "code",
   "execution_count": 39,
   "id": "a36922df",
   "metadata": {},
   "outputs": [
    {
     "name": "stdout",
     "output_type": "stream",
     "text": [
      "[1, 9, 25]\n"
     ]
    }
   ],
   "source": [
    "\n",
    "numbers = [1,2,3,4,5]\n",
    "evenFilter = [num**2 for num in numbers if num%2 == 1]\n",
    "print(evenFilter)"
   ]
  },
  {
   "cell_type": "markdown",
   "id": "63569023",
   "metadata": {},
   "source": [
    "## Dictionary Comprehension"
   ]
  },
  {
   "cell_type": "code",
   "execution_count": 40,
   "id": "b5605295",
   "metadata": {},
   "outputs": [
    {
     "name": "stdout",
     "output_type": "stream",
     "text": [
      "{1: 1, 2: 4, 3: 9, 4: 16, 5: 25}\n"
     ]
    }
   ],
   "source": [
    "\n",
    "num = {1,2,3,4,5}\n",
    "num_even = {f:f**2 for f in num}\n",
    "print(num_even)"
   ]
  },
  {
   "cell_type": "code",
   "execution_count": 41,
   "id": "4c94de2d",
   "metadata": {},
   "outputs": [
    {
     "data": {
      "text/plain": [
       "{'k': 107, 'u': 117, 'm': 109, 'a': 97, 'r': 114}"
      ]
     },
     "execution_count": 41,
     "metadata": {},
     "output_type": "execute_result"
    }
   ],
   "source": [
    "{ch:ord(ch) for ch in \"kumar\"}"
   ]
  },
  {
   "cell_type": "code",
   "execution_count": 43,
   "id": "13f1d504",
   "metadata": {},
   "outputs": [
    {
     "name": "stdout",
     "output_type": "stream",
     "text": [
      "kumar\n",
      "mahesh\n",
      "ravi\n",
      "loop completed ...\n"
     ]
    }
   ],
   "source": [
    "names = ['kumar' , 'mahesh' , 'ravi']\n",
    "\n",
    "for name in names:\n",
    "    print(name)\n",
    "    continue\n",
    "\n",
    "else: # whenever loop is completedly iterated all iterations , else will be executed..\n",
    "    print('loop completed ...')"
   ]
  },
  {
   "cell_type": "code",
   "execution_count": null,
   "id": "95b6cca1",
   "metadata": {},
   "outputs": [],
   "source": []
  },
  {
   "cell_type": "markdown",
   "id": "f3808190",
   "metadata": {},
   "source": [
    "### Question\n",
    "1 . Linear Search \n",
    "\n",
    "2 . Binary Search \n",
    "\n",
    "3. Bubble Sort , Selection Sort , Insertion Sort"
   ]
  },
  {
   "cell_type": "code",
   "execution_count": null,
   "id": "110c7041",
   "metadata": {},
   "outputs": [],
   "source": []
  },
  {
   "cell_type": "code",
   "execution_count": null,
   "id": "2edd1dab",
   "metadata": {},
   "outputs": [],
   "source": []
  },
  {
   "cell_type": "markdown",
   "id": "832b50bf",
   "metadata": {},
   "source": [
    "### Linear Search \n",
    "\n",
    "- Read a list of integers and also element to find the index \n",
    "- if element is present inside list of interger print the index \n",
    "- else print the default index as -1\n",
    "\n",
    "- note:\n",
    "    suppose element is present in more than one index locations , always print the last index of the element\n",
    "    \n",
    "    \n",
    " ```code\n",
    " \n",
    " INPUT-1:\n",
    " \n",
    " lstIntegers = [10,20,3,0,9,6,12,26] \n",
    " ele = 9\n",
    "\n",
    " OUTPUT-1: 4\n",
    " \n",
    "  \n",
    " INPUT-2:\n",
    "\n",
    "     lstIntegers = [10,20,30,40] \n",
    "     ele = 9\n",
    "\n",
    " OUTPUT-2: -1\n",
    " \n",
    " \n",
    " INPUT-3:\n",
    " \n",
    "     lstIntegers = [10,20,30,40,20] \n",
    "     ele = 20\n",
    "\n",
    " OUTPUT-3:  4\n",
    " ```"
   ]
  },
  {
   "cell_type": "code",
   "execution_count": 23,
   "id": "995d02a1",
   "metadata": {},
   "outputs": [
    {
     "data": {
      "text/plain": [
       "4"
      ]
     },
     "execution_count": 23,
     "metadata": {},
     "output_type": "execute_result"
    }
   ],
   "source": [
    "# n = int(input(\"enter n : \"))\n",
    "# lst = [] \n",
    "# for i in range(n):\n",
    "#     lst.append(int(input(f'Enter a[{i}]: ')))\n",
    "    \n",
    "# print(lst)\n",
    "\n",
    "\n",
    "# lst = list(map(int,input(\"enter values: \").split()))\n",
    "# print(lst)\n",
    "\n",
    "\n",
    "def search_element_linear(lst,key):\n",
    "    index = -1\n",
    "    for i in range(len(lst)):\n",
    "        if lst[i] == key:\n",
    "            index = i\n",
    "    return index\n",
    "            \n",
    "lstIntegers = [10,20,30,40,20] \n",
    "key = 20\n",
    "\n",
    "search_element_linear(lstIntegers, key)\n"
   ]
  },
  {
   "cell_type": "markdown",
   "id": "ec1a1dd7",
   "metadata": {},
   "source": [
    "### Binary search \n",
    "\n",
    "- always data should be in sorted order\n",
    "- complexity will be O(logn)\n",
    "\n"
   ]
  },
  {
   "cell_type": "code",
   "execution_count": 35,
   "id": "8481bdb6",
   "metadata": {},
   "outputs": [
    {
     "name": "stdout",
     "output_type": "stream",
     "text": [
      "8 [10, 20, 30, 66, 67, 87, 90, 96]\n",
      "low : 0, high: 7, mid: 0\n",
      "low : 4, high: 7, mid: 3\n",
      "low : 6, high: 7, mid: 5\n",
      "low : 7, high: 7, mid: 6\n"
     ]
    },
    {
     "data": {
      "text/plain": [
       "7"
      ]
     },
     "execution_count": 35,
     "metadata": {},
     "output_type": "execute_result"
    }
   ],
   "source": [
    "def search_using_bs(lst, key):\n",
    "    low = 0\n",
    "    high = len(lst) - 1\n",
    "    mid = 0\n",
    "    print(len(lst), lst)\n",
    "    while low <= high:\n",
    "        print(f'low : {low}, high: {high}, mid: {mid}')\n",
    "        mid = (low + high) // 2\n",
    "        if key < lst[mid]:\n",
    "            high =  mid - 1 \n",
    "        elif key > lst[mid]:\n",
    "            low = mid + 1\n",
    "        else:\n",
    "            return mid \n",
    "       \n",
    "    return -1\n",
    "\n",
    "\n",
    "\n",
    "nums = [10,20,30,66,67,87,90,96]\n",
    "key = 96\n",
    "search_using_bs(nums,key)"
   ]
  },
  {
   "cell_type": "code",
   "execution_count": null,
   "id": "bb7051b0",
   "metadata": {},
   "outputs": [],
   "source": [
    "# low = 0, high = 8, mid = 0\n",
    "     # low<=high 0<=8\n",
    "    # mid = (low + high)//2 : (0+8)//2 --> 4\n",
    "\n",
    "# low = 5, high = 8\n",
    "    # 5 <= 8 , mid = 6\n",
    "    \n",
    "# low = 7, high = 8\n",
    "    # 7<= 8 , mid = (7+8)//2 ==> 7 \n",
    "    "
   ]
  },
  {
   "cell_type": "code",
   "execution_count": null,
   "id": "21f4d86c",
   "metadata": {},
   "outputs": [],
   "source": [
    "1.Print numbers from 1 to 10 using a for loop:\n",
    "    \n",
    "2.Calculate the sum of numbers from 1 to 10 using a for loop:\n",
    "\n",
    "\n",
    "3.Print the elements of a list using a for loop:\n",
    "\n",
    "Calculate the product of elements in a list using a for loop:\n",
    "\n",
    "Print even numbers from 1 to 10 using a for loop:\n",
    "\n",
    "Print numbers in reverse from 10 to 1 using a for loop:\n",
    "\n",
    "Print characters of a string using a for loop\n",
    "\n",
    "Find the largest number in a list using a for loop:\n",
    "\n",
    "Find the second largest number in a list using a for loop:\n",
    "\n",
    "Find the average of numbers in a list using a for loop:\n",
    "\n",
    "Print all uppercase letters in a string using a for loop:\n",
    "\n",
    "Count the number of vowels in a string using a for loop:\n",
    "\n",
    "Print a pattern of stars using nested for loops:\n",
    "\n",
    "Calculate factorial of a number using a while loop:\n",
    "\n",
    "Find the first occurrence of a number in a list using a while loop:\n",
    "\n",
    "Calculate the sum of numbers from 1 to 100 using a while loop:\n",
    "\n",
    "Find all prime numbers between 1 and 50 using nested for and if:\n",
    "\n",
    "\n",
    "Print numbers divisible by 3 or 5 from 1 to 20 using a for loop:\n",
    "\n",
    "Print a list of squares of numbers from 1 to 5 using a list comprehension:\n",
    "\n",
    "Find the common elements in two lists using a for loop:\n",
    "\n",
    "Print numbers in a list until a negative number is encountered using a while loop:\n",
    "\n",
    "Print numbers from 1 to 5, except 3 using a for loop and continue statement:\n",
    "\n",
    "Print numbers from 1 to 10. If a number is even, skip it using a for loop and else clause:\n",
    "\n",
    "Print numbers from 1 to 10. If a number is even, break the loop using a for loop and else clause:"
   ]
  },
  {
   "cell_type": "code",
   "execution_count": null,
   "id": "80430df7",
   "metadata": {},
   "outputs": [],
   "source": []
  },
  {
   "cell_type": "code",
   "execution_count": null,
   "id": "49cb7e8c",
   "metadata": {},
   "outputs": [],
   "source": [
    "for number in range(1, 11):\n",
    "    print(number)"
   ]
  },
  {
   "cell_type": "code",
   "execution_count": null,
   "id": "eee73171",
   "metadata": {},
   "outputs": [],
   "source": [
    "total_sum = 0\n",
    "for number in range(1, 11):\n",
    "    total_sum += number\n",
    "print(total_sum)\n"
   ]
  },
  {
   "cell_type": "code",
   "execution_count": null,
   "id": "e71e048c",
   "metadata": {},
   "outputs": [],
   "source": [
    "my_list = ['apple', 'banana', 'cherry', 'date']\n",
    "for item in my_list:\n",
    "    print(item)"
   ]
  },
  {
   "cell_type": "code",
   "execution_count": null,
   "id": "979eca17",
   "metadata": {},
   "outputs": [],
   "source": []
  },
  {
   "cell_type": "code",
   "execution_count": 42,
   "id": "c5c9c088",
   "metadata": {},
   "outputs": [
    {
     "name": "stdout",
     "output_type": "stream",
     "text": [
      "96\n"
     ]
    }
   ],
   "source": [
    "# Find the largest number in a list using a for loop:\n",
    "lstNums = [3,0,9,6,96,18,78]\n",
    "largest = lstNums[0]\n",
    "for i in range(1,len(lstNums)):\n",
    "    if lstNums[i] > largest:\n",
    "        largest = lstNums[i]\n",
    "print(largest)"
   ]
  },
  {
   "cell_type": "code",
   "execution_count": 51,
   "id": "e0006b49",
   "metadata": {},
   "outputs": [
    {
     "data": {
      "text/plain": [
       "78"
      ]
     },
     "execution_count": 51,
     "metadata": {},
     "output_type": "execute_result"
    }
   ],
   "source": [
    "# Find the second largest number in a list using a for loop:\n",
    "\n",
    "def method1(lst):\n",
    "    # sort in desc sort\n",
    "    lst.sort(reverse=False)\n",
    "    print(lst)\n",
    "    for i in range(len(lst)-1,0, -1):\n",
    "        if lst[i] != lst[i-1]:\n",
    "            return lst[i-1]\n",
    "\n",
    "import sys     \n",
    "def method2(lst):\n",
    "    if len(lst)<2:\n",
    "        return 'invalid size'\n",
    "    \n",
    "    minimum_int = -sys.maxsize-1 # -9223372036854775808\n",
    "    first=second = minimum_int\n",
    "    for i in range(len(lst)):\n",
    "        if (lst[i] > first):\n",
    "            second = first\n",
    "            first = lst[i]\n",
    "            \n",
    "        elif (lst[i] > second and lst[i] != first):\n",
    "            second = lst[i]\n",
    "    if (second != minimum_int):\n",
    "        return second\n",
    "    else:\n",
    "        return f\"no second largest number\"\n",
    "        \n",
    "        \n",
    "data = [3,0,9,6,96,18,78,96]\n",
    "# method1(data)\n",
    "\n",
    "method2(data)"
   ]
  },
  {
   "cell_type": "code",
   "execution_count": null,
   "id": "2cdf6b3f",
   "metadata": {},
   "outputs": [],
   "source": []
  }
 ],
 "metadata": {
  "kernelspec": {
   "display_name": "Python 3 (ipykernel)",
   "language": "python",
   "name": "python3"
  },
  "language_info": {
   "codemirror_mode": {
    "name": "ipython",
    "version": 3
   },
   "file_extension": ".py",
   "mimetype": "text/x-python",
   "name": "python",
   "nbconvert_exporter": "python",
   "pygments_lexer": "ipython3",
   "version": "3.11.5"
  }
 },
 "nbformat": 4,
 "nbformat_minor": 5
}
