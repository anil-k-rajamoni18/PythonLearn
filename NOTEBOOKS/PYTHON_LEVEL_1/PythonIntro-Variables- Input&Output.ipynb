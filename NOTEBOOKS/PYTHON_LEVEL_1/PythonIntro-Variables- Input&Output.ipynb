{
 "cells": [
  {
   "cell_type": "markdown",
   "id": "0aacef8a",
   "metadata": {},
   "source": [
    "### Python 2 Vs Python 3\n",
    "\n",
    "<img src = \"https://media.geeksforgeeks.org/wp-content/uploads/20190503154837/Python2_python3.jpg\"  width=\"500\" height=\"600\">"
   ]
  },
  {
   "cell_type": "markdown",
   "id": "9313d463",
   "metadata": {},
   "source": [
    "### OUTPUT Function\n",
    "\n",
    "- It is used to print the information or objects data to the console \n",
    "\n",
    ">syntax:\n",
    "\n",
    "\n",
    "> print(value, ..., sep=' ', end='\\n', file=sys.stdout, flush=False)\n",
    "\n",
    "\n",
    "- attributes / args\n",
    "    - value \n",
    "    - sep =  '  ' : used when more than one value is printing\n",
    "    - end = '\\n' : used when we want to print new line\n",
    "    - file = sys.stdout : monitor/screen/console \n",
    "    - flush = Flase"
   ]
  },
  {
   "cell_type": "code",
   "execution_count": 3,
   "id": "6e84e15c",
   "metadata": {},
   "outputs": [
    {
     "name": "stdout",
     "output_type": "stream",
     "text": [
      "Hello World, Welcome to Py\n"
     ]
    }
   ],
   "source": [
    "print(\"Hello World, Welcome to Py\") #strings --> group of character(letter(a-zA-Z,symbol,numbers(0-9))"
   ]
  },
  {
   "cell_type": "code",
   "execution_count": 4,
   "id": "3e806867",
   "metadata": {
    "scrolled": true
   },
   "outputs": [
    {
     "name": "stdout",
     "output_type": "stream",
     "text": [
      "10\n",
      "102.22\n",
      "True False\n",
      "None\n",
      "(10+2j)\n"
     ]
    }
   ],
   "source": [
    "print(10) #integers\n",
    "print(102.22) #floating\n",
    "print(True,False)#boolean\n",
    "print(None) #None\n",
    "print(10+2j) #Complex "
   ]
  },
  {
   "cell_type": "code",
   "execution_count": 6,
   "id": "e62b66fb",
   "metadata": {},
   "outputs": [
    {
     "name": "stdout",
     "output_type": "stream",
     "text": [
      "my name is kumar\n",
      "      my role is sdeII\n"
     ]
    }
   ],
   "source": [
    "print('''my name is kumar\n",
    "      my role is sdeII''')"
   ]
  },
  {
   "cell_type": "code",
   "execution_count": 7,
   "id": "e94fca63",
   "metadata": {},
   "outputs": [
    {
     "name": "stdout",
     "output_type": "stream",
     "text": [
      "hello everyone \n",
      "      we discussing python print method\n"
     ]
    }
   ],
   "source": [
    "print('''hello everyone \n",
    "      we discussing python print method''')"
   ]
  },
  {
   "cell_type": "code",
   "execution_count": null,
   "id": "6bb3afac",
   "metadata": {},
   "outputs": [],
   "source": [
    "print(\"\"\"Hello Everyone we are discussing \n",
    "        python variables and comments \n",
    "        concepts\n",
    "        \"\"\") #multi line string"
   ]
  },
  {
   "cell_type": "code",
   "execution_count": null,
   "id": "f8110714",
   "metadata": {},
   "outputs": [],
   "source": []
  },
  {
   "cell_type": "code",
   "execution_count": null,
   "id": "addc207f",
   "metadata": {
    "scrolled": true
   },
   "outputs": [],
   "source": [
    "print('Hey Geeks') #string\n",
    "\n",
    "print(10) #int 0-9\n",
    "\n",
    "print(10.2) #float\n",
    "\n",
    "print(1+2j) #complex\n",
    "\n",
    "print(True) #boolean True False\n",
    "\n",
    "print(None) # None \n",
    "\n",
    "##################################################\n",
    "\n",
    "print([10,20,30,40]) #list\n",
    "\n",
    "print((\"IND\",\"NZ\",\"AUS\")) #tuple\n",
    "\n",
    "print({\"blue\",\"yellow\",\"red\",\"blue\"}) #set\n",
    "\n",
    "print({\"name\":\"Kumar\",\"course\":\"Python\",\"fee\":10.23893}) #dictionary"
   ]
  },
  {
   "cell_type": "code",
   "execution_count": null,
   "id": "7b4a6b65",
   "metadata": {},
   "outputs": [],
   "source": []
  },
  {
   "cell_type": "markdown",
   "id": "c95facd3",
   "metadata": {},
   "source": [
    "### Try these \n",
    "- Read two nums from keybroad\n",
    "- Do following operations \n",
    "    - add \n",
    "    - sub\n",
    "    - mult\n",
    "    - div"
   ]
  },
  {
   "cell_type": "code",
   "execution_count": 12,
   "id": "9e4d9437",
   "metadata": {},
   "outputs": [
    {
     "name": "stdout",
     "output_type": "stream",
     "text": [
      "enter a : 4\n",
      "enter b: 5\n",
      "9\n",
      "-1\n",
      "20\n",
      "0.8\n",
      "81\n",
      "1\n"
     ]
    }
   ],
   "source": [
    "a = int(input(\"enter a : \"))\n",
    "b = int(input(\"enter b: \"))\n",
    "\n",
    "print(a + b)\n",
    "print(a - b)\n",
    "print(a * b)\n",
    "print(a / b)\n",
    "\n",
    "formula1 = a*a + b*b + 2*a*b\n",
    "formula2 = a*a + b*b - 2*a*b \n",
    "\n",
    "print(formula1)\n",
    "print(formula2)\n",
    "\n"
   ]
  },
  {
   "cell_type": "code",
   "execution_count": 13,
   "id": "b2e0a2a1",
   "metadata": {
    "scrolled": true
   },
   "outputs": [
    {
     "name": "stdout",
     "output_type": "stream",
     "text": [
      "<class 'int'>\n",
      "<class 'float'>\n",
      "<class 'complex'>\n",
      "<class 'str'>\n",
      "<class 'NoneType'>\n",
      "<class 'bool'>\n"
     ]
    }
   ],
   "source": [
    "# type(object) : displays data type\n",
    "\n",
    "num = 10\n",
    "print(type(num))\n",
    "\n",
    "num = 10.2\n",
    "print(type(num))\n",
    "\n",
    "num = 1+2j\n",
    "print(type(num))\n",
    "\n",
    "num = \"hello\"\n",
    "print(type(num))\n",
    "\n",
    "num = None \n",
    "print(type(num))\n",
    "\n",
    "num = True \n",
    "print(type(num))"
   ]
  },
  {
   "cell_type": "code",
   "execution_count": null,
   "id": "a2c38314",
   "metadata": {},
   "outputs": [],
   "source": []
  },
  {
   "cell_type": "code",
   "execution_count": 14,
   "id": "31503117",
   "metadata": {
    "scrolled": true
   },
   "outputs": [
    {
     "name": "stdout",
     "output_type": "stream",
     "text": [
      "Kumar\n",
      "SDE\n",
      "45\n",
      "9873739.33\n",
      "False\n",
      "<class 'str'>\n",
      "<class 'str'>\n",
      "<class 'int'>\n",
      "<class 'float'>\n",
      "<class 'bool'>\n"
     ]
    }
   ],
   "source": [
    "#var_name = value\n",
    "name = \"Kumar\" #str\n",
    "role = \"SDE\"   #str\n",
    "age = 45       #int\n",
    "salary = 9873739.33\n",
    "isDeveloper = False\n",
    "\n",
    "print(name) \n",
    "print(role)\n",
    "print(age)\n",
    "print(salary)\n",
    "print(isDeveloper)\n",
    "\n",
    "print(type(name))\n",
    "print(type(role))\n",
    "print(type(age))\n",
    "print(type(salary))\n",
    "print(type(isDeveloper))"
   ]
  },
  {
   "cell_type": "code",
   "execution_count": null,
   "id": "1d3aedf1",
   "metadata": {},
   "outputs": [],
   "source": []
  },
  {
   "cell_type": "markdown",
   "id": "563c6d55",
   "metadata": {},
   "source": [
    "### sep = ' '  (default space)"
   ]
  },
  {
   "cell_type": "code",
   "execution_count": 15,
   "id": "f94046fa",
   "metadata": {
    "scrolled": true
   },
   "outputs": [
    {
     "name": "stdout",
     "output_type": "stream",
     "text": [
      "Kumar\n",
      "SDE\n",
      "45\n"
     ]
    }
   ],
   "source": [
    "print(name)\n",
    "print(role)\n",
    "print(age)"
   ]
  },
  {
   "cell_type": "code",
   "execution_count": 16,
   "id": "db3b30ff",
   "metadata": {
    "scrolled": true
   },
   "outputs": [
    {
     "name": "stdout",
     "output_type": "stream",
     "text": [
      "Kumar 45 SDE 9873739.33 False\n"
     ]
    }
   ],
   "source": [
    "print(name,age,role,salary,isDeveloper)"
   ]
  },
  {
   "cell_type": "code",
   "execution_count": 20,
   "id": "9044b809",
   "metadata": {},
   "outputs": [
    {
     "name": "stdout",
     "output_type": "stream",
     "text": [
      "Kumar -> 45 -> SDE\n"
     ]
    }
   ],
   "source": [
    "print(name,age,role,sep = ' -> ')"
   ]
  },
  {
   "cell_type": "code",
   "execution_count": 21,
   "id": "cdbf5850",
   "metadata": {
    "scrolled": true
   },
   "outputs": [
    {
     "name": "stdout",
     "output_type": "stream",
     "text": [
      "Kumar # 45 # SDE\n"
     ]
    }
   ],
   "source": [
    "print(name,age,role,sep=\" # \")"
   ]
  },
  {
   "cell_type": "code",
   "execution_count": 22,
   "id": "a91bc953",
   "metadata": {
    "scrolled": true
   },
   "outputs": [
    {
     "name": "stdout",
     "output_type": "stream",
     "text": [
      "Kumar\n",
      "45\n",
      "SDE\n"
     ]
    }
   ],
   "source": [
    "print(name,age,role,sep=\"\\n\") #\\n : new line"
   ]
  },
  {
   "cell_type": "code",
   "execution_count": 25,
   "id": "fc744fa2",
   "metadata": {},
   "outputs": [
    {
     "name": "stdout",
     "output_type": "stream",
     "text": [
      "45Kumar9873739.33\n"
     ]
    }
   ],
   "source": [
    "print(age,name,salary,sep='')"
   ]
  },
  {
   "cell_type": "code",
   "execution_count": null,
   "id": "3bec3846",
   "metadata": {
    "scrolled": true
   },
   "outputs": [],
   "source": []
  },
  {
   "cell_type": "markdown",
   "id": "be330b05",
   "metadata": {},
   "source": [
    "### end = '\\n'"
   ]
  },
  {
   "cell_type": "code",
   "execution_count": 30,
   "id": "a58d971f",
   "metadata": {},
   "outputs": [
    {
     "name": "stdout",
     "output_type": "stream",
     "text": [
      "Kumar\n",
      "\n",
      "\n",
      "45\n"
     ]
    }
   ],
   "source": [
    "print(name)\n",
    "print() # acts new line , because of end='\\n'\n",
    "print()\n",
    "print(age)"
   ]
  },
  {
   "cell_type": "code",
   "execution_count": 31,
   "id": "5cc84acb",
   "metadata": {},
   "outputs": [
    {
     "name": "stdout",
     "output_type": "stream",
     "text": [
      "Hey Hi Every One welcome to python session..\n"
     ]
    }
   ],
   "source": [
    "print(\"Hey Hi Every One welcome to python session..\")"
   ]
  },
  {
   "cell_type": "markdown",
   "id": "2e77008c",
   "metadata": {},
   "source": [
    "### file=sys.stdout -->  screen /monitor"
   ]
  },
  {
   "cell_type": "code",
   "execution_count": 39,
   "id": "40e9e57b",
   "metadata": {
    "scrolled": true
   },
   "outputs": [],
   "source": [
    "print(\"Hey Hi Every One welcome to python session..\",file= open(\"may2024.txt\",mode=\"a\"))  #append mode)\n"
   ]
  },
  {
   "cell_type": "code",
   "execution_count": 40,
   "id": "0bc09742",
   "metadata": {
    "scrolled": true
   },
   "outputs": [],
   "source": [
    " print('Addition of 10 + 20= ', (10+20), file = open('may2024.txt', mode='a'))"
   ]
  },
  {
   "cell_type": "code",
   "execution_count": null,
   "id": "c97203e2",
   "metadata": {},
   "outputs": [],
   "source": []
  },
  {
   "cell_type": "markdown",
   "id": "cba2155c",
   "metadata": {},
   "source": [
    "### Try these?\n",
    "\n",
    "what is the value for the below code ?\n",
    "  ```python\n",
    "\tprint(print('Hi ChatGPT'))\n",
    "\n",
    "\tvar = print('Hi Azure AI')\n",
    "\tprint(var)\n",
    "```"
   ]
  },
  {
   "cell_type": "code",
   "execution_count": null,
   "id": "9e317623",
   "metadata": {},
   "outputs": [],
   "source": [
    "var = print('Hi Azure AI') #fun calling in a variable \n",
    "print(var)\n",
    "\n",
    "\n",
    "print(print('Hi ChatGPT')) #inner fun return None , outer function printing same value"
   ]
  },
  {
   "cell_type": "code",
   "execution_count": null,
   "id": "94097740",
   "metadata": {},
   "outputs": [],
   "source": []
  },
  {
   "cell_type": "code",
   "execution_count": null,
   "id": "06f1724f",
   "metadata": {},
   "outputs": [],
   "source": []
  },
  {
   "cell_type": "markdown",
   "id": "74162d82",
   "metadata": {},
   "source": [
    "### Comments\n",
    "\n",
    "> Comments are very important to make the code more readable and to leave remarks in our code. Python does not run comment parts of our code. Any text starting with hash(#) in Python is a comment.\n",
    "\n",
    "\n",
    "####  Single Line Comment\n",
    "\n",
    "        # This is the first comment\n",
    "        # This is the second comment\n",
    "        # Python is eating the world\n",
    "        \n",
    "#### Multiline Comment\n",
    "\n",
    "Triple quote can be used for multiline comment if it is not assigned to a variable\n",
    "\n",
    "    \"\"\"This is multiline comment\n",
    "    multiline comment takes multiple lines.\n",
    "    python is eating the world\n",
    "    \"\"\"\n"
   ]
  },
  {
   "cell_type": "code",
   "execution_count": null,
   "id": "4881bf01",
   "metadata": {
    "scrolled": true
   },
   "outputs": [],
   "source": [
    "#single line comment.\n",
    "var = \"kumar\" # var declaration \n",
    "\n",
    "\n",
    "#multi line comment\n",
    "def fun(a,b):\n",
    "    '''\n",
    "     this is a function which \n",
    "     return addition\n",
    "    '''\n",
    "    print(a+b)\n",
    "    \n",
    "fun(10,20)"
   ]
  },
  {
   "cell_type": "code",
   "execution_count": null,
   "id": "96e1adf4",
   "metadata": {},
   "outputs": [],
   "source": []
  },
  {
   "cell_type": "code",
   "execution_count": null,
   "id": "f4ccc92d",
   "metadata": {
    "scrolled": true
   },
   "outputs": [],
   "source": [
    "#Take new inputs from keyboard\n",
    "'''\n",
    "we are learning python \n",
    "comments \n",
    "single comments \n",
    "multiline comments\n",
    "'''"
   ]
  },
  {
   "cell_type": "markdown",
   "id": "0369f99a",
   "metadata": {},
   "source": [
    "## Variables "
   ]
  },
  {
   "cell_type": "markdown",
   "id": "a248a0af",
   "metadata": {},
   "source": [
    "- Variables store data in a computer memory.\n",
    ">  Mnemonic variables are recommended to use in many programming languages.\n",
    "- A mnemonic variable is a variable name that can be easily remembered and associated. \n",
    "> A variable refers to a memory address in which data is stored. Number at the beginning, special character, hyphen are not allowed when naming a variable. \n",
    "\n",
    "- *A variable can have a short name (like x, y, z), but a more descriptive name (firstname, lastname, age, country) is highly recommended.*"
   ]
  },
  {
   "cell_type": "markdown",
   "id": "b9b6eb4c",
   "metadata": {},
   "source": [
    "### Rules\n",
    "\n",
    "Python Variable Name Rules\n",
    "\n",
    "    - A variable name must start with a letter or the underscore character\n",
    "    - A variable name cannot start with a number\n",
    "    - A variable name can only contain alpha-numeric characters and underscores (A-z, 0-9, and _ )\n",
    "    - Variable names are case-sensitive (firstname, Firstname, FirstName and FIRSTNAME) are different variables)\n",
    "    - A variable cannot have same name as Reserved word or KEYWORD."
   ]
  },
  {
   "cell_type": "markdown",
   "id": "f7b6d8d5",
   "metadata": {},
   "source": [
    "syntax:\n",
    "    \n",
    "    variableName = value \n",
    "    \n",
    "    value = strings : \"kumar\"\n",
    "    value = integers : 0-9\n",
    "    value = float  : 0.0 - 9.9 \n",
    "    value : boolean : True or False\n",
    "    value : complex : 1+2j  "
   ]
  },
  {
   "cell_type": "markdown",
   "id": "c7423278",
   "metadata": {},
   "source": [
    "### JAVA\n",
    "- Java is Strongly typed language \n",
    "- Java is static language \n",
    "- we have to manually declare datatypes for variables.\n",
    "- for every DATATYPES , there will be FIXED RANGE & SIZE\n",
    "```java\n",
    "    datatypes variableName = value;\n",
    "\n",
    "    int age = 10;\n",
    "    String name = \"Kumar\";\n",
    "```\n",
    "\n",
    "### PYTHON\n",
    "- Python is weekly typed language\n",
    "- Python is Dynamic\n",
    "- We don't have to manually declare datatypes for variables\n",
    "- No SIZE restrictions on datatypes\n",
    "```python\n",
    "    variableName = value\n",
    "\n",
    "    name = \"kumar\"\n",
    "    age = 11\n",
    "```"
   ]
  },
  {
   "cell_type": "code",
   "execution_count": null,
   "id": "0029c202",
   "metadata": {
    "scrolled": true
   },
   "outputs": [],
   "source": [
    "# firstname\n",
    "# lastname\n",
    "# age\n",
    "# country\n",
    "# city\n",
    "# first_name\n",
    "# last_name\n",
    "# capital_city\n",
    "# _if # if we want to use reserved word as a variable\n",
    "# year_2021\n",
    "# year2021\n",
    "# current_year_2021\n",
    "# birth_year\n",
    "# num1\n",
    "# num2"
   ]
  },
  {
   "cell_type": "code",
   "execution_count": null,
   "id": "d6c584a5",
   "metadata": {
    "scrolled": true
   },
   "outputs": [],
   "source": [
    "#invalid variable-name\n",
    "\n",
    "# first-name\n",
    "# first@name\n",
    "# first$name\n",
    "# num-1\n",
    "# 1num\n",
    "#if \n",
    "#True\n",
    "\n",
    "\n",
    "\n"
   ]
  },
  {
   "cell_type": "code",
   "execution_count": null,
   "id": "981250d2",
   "metadata": {},
   "outputs": [],
   "source": [
    "import keyword\n",
    "print(keyword.kwlist)"
   ]
  },
  {
   "cell_type": "code",
   "execution_count": null,
   "id": "a57b816d",
   "metadata": {},
   "outputs": [],
   "source": [
    "print(len(['False', 'None', 'True', 'and', 'as', 'assert', 'async', 'await', 'break', 'class', 'continue', 'def', 'del', 'elif', 'else', 'except', 'finally', 'for', 'from', 'global', 'if', 'import', 'in', 'is', 'lambda', 'nonlocal', 'not', 'or', 'pass', 'raise', 'return', 'try', 'while', 'with', 'yield']\n",
    "))"
   ]
  },
  {
   "cell_type": "code",
   "execution_count": null,
   "id": "fe824cf0",
   "metadata": {
    "scrolled": true
   },
   "outputs": [],
   "source": [
    "name = \"10\"\n",
    "print(name)\n",
    "print( type(name) )"
   ]
  },
  {
   "cell_type": "code",
   "execution_count": null,
   "id": "2a8efc0c",
   "metadata": {},
   "outputs": [],
   "source": [
    "True_ = \"Kumar\" #Keyword \n",
    "print(True_)"
   ]
  },
  {
   "cell_type": "code",
   "execution_count": null,
   "id": "88f5e7c0",
   "metadata": {},
   "outputs": [],
   "source": [
    "if =\"kumar\"\n",
    "print(if)"
   ]
  },
  {
   "cell_type": "code",
   "execution_count": null,
   "id": "8a9f48f1",
   "metadata": {
    "scrolled": true
   },
   "outputs": [],
   "source": [
    "_ = \"kumar\"\n",
    "__ = 10\n",
    "\n",
    "print(_)\n",
    "print(__)"
   ]
  },
  {
   "cell_type": "code",
   "execution_count": null,
   "id": "9ef0101e",
   "metadata": {
    "scrolled": true
   },
   "outputs": [],
   "source": []
  },
  {
   "cell_type": "code",
   "execution_count": null,
   "id": "70a9c816",
   "metadata": {},
   "outputs": [],
   "source": []
  },
  {
   "cell_type": "code",
   "execution_count": null,
   "id": "6f8d44d4",
   "metadata": {},
   "outputs": [],
   "source": []
  },
  {
   "cell_type": "code",
   "execution_count": null,
   "id": "d51d9122",
   "metadata": {},
   "outputs": [],
   "source": [
    "a = \"Kumar A\"\n",
    "b = \"Rajamoni\"\n",
    "c = \"OU\"\n",
    "d = 'HYD'\n",
    "e = \"India\"\n",
    "\n",
    "print(a,b,c,d,e)\n"
   ]
  },
  {
   "cell_type": "code",
   "execution_count": null,
   "id": "c8b900b7",
   "metadata": {},
   "outputs": [],
   "source": [
    "firstName = \"Kumar A\"\n",
    "lastName = \"Rajamoni\"\n",
    "collegeName = \"OU\"\n",
    "city = 'HYD'\n",
    "country_name = \"India\"\n",
    "\n",
    "print(firstName , lastName , collegeName , country_name)"
   ]
  },
  {
   "cell_type": "code",
   "execution_count": null,
   "id": "20cc89b5",
   "metadata": {},
   "outputs": [],
   "source": [
    "number_of_students = 10 #snake_case #variables\n",
    "\n",
    "numberOfStudents = 10 #camelCase # methods\n",
    "\n",
    "NumbersOfStudents = 10 #PascalCase #classes \n",
    "\n",
    "\n"
   ]
  },
  {
   "cell_type": "markdown",
   "id": "ed9f19cc",
   "metadata": {},
   "source": [
    "### Styling cases\n",
    "- 3 popular case styles in programming.\n",
    "   -  Camel case\n",
    "   -  Snake case\n",
    "   -  Pascal case\n",
    "    \n",
    "    \n",
    "##### Camel Case\n",
    "\n",
    "> Camel case is one of the most commonly used naming conventions in coding. In the camel case, compound words start with a capital letter.\n",
    "- Notice that in the camel case, the first letter of the very first word starts with a lowercase letter.\n",
    "- Many programming languages **use camel case to declare variables.**\n",
    "- We can also use for naming function or methods in python\n",
    "```python        \n",
    "myAccountBalance = 100\n",
    "distanceToMoon = 3.844e8\n",
    "```\n",
    "\n",
    "\n",
    "##### 2. Pascal Case\n",
    "- In the Pascal case, all compound words start with a capital letter.\n",
    "- The most common use case for the pascal case is for naming classes.\n",
    "```python\n",
    "class MainViewController: UIViewController { ... }\n",
    "```\n",
    "\n",
    "##### 3. Snake Case (snake_case)\n",
    "- Snake case is a case style where each compound word is separated by an underscore. \n",
    "- This greatly improves the readability of values with long multi-word names.\n",
    "- declaring variables  and constant values\n",
    "\n",
    "```python\n",
    "my_age = 26\n",
    "date_today = \"2022-09-15\"\n",
    "\n",
    "{\n",
    "    first_seen: \"2021-07-02\",\n",
    "    last_modified: \"2022-09-15\"\n",
    "}\n",
    "\n",
    "\n",
    "DISTANCE_TO_MOON = 3.884e8\n",
    "```"
   ]
  },
  {
   "cell_type": "code",
   "execution_count": null,
   "id": "56a8fd54",
   "metadata": {
    "scrolled": true
   },
   "outputs": [],
   "source": []
  },
  {
   "cell_type": "code",
   "execution_count": null,
   "id": "8a8a4ce8",
   "metadata": {
    "scrolled": true
   },
   "outputs": [],
   "source": [
    "\n",
    "# Variables in Python\n",
    "first_name = 'Kumar'\n",
    "last_name = 'Rajamoni'\n",
    "country = 'India'\n",
    "city = 'Noida'\n",
    "age = 25\n",
    "salary = 60000.09039\n",
    "is_married = False\n",
    "skills = ['HTML', 'CSS', 'JS', 'React', 'Python','JAVA']\n",
    "person_info = {\n",
    "   'firstname':'Kumar',\n",
    "   'lastname':'Rajamoni',\n",
    "   'country':'India',\n",
    "   'city':'Hyd'\n",
    "   }\n",
    "\n",
    "\n",
    "\n",
    "\n",
    "# Printing the values stored in the variables\n",
    "\n",
    "print('First name:', first_name)\n",
    "print('First name length:', len(first_name))\n",
    "print('Last name: ', last_name)\n",
    "print('Last name length: ', len(last_name))\n",
    "print('Country: ', country)\n",
    "print('City: ', city)\n",
    "print('Age: ', age)\n",
    "print('Married: ', is_married)\n",
    "print('Skills: ', skills)\n",
    "print('Person information: ', person_info)"
   ]
  },
  {
   "cell_type": "code",
   "execution_count": null,
   "id": "b5693add",
   "metadata": {},
   "outputs": [],
   "source": []
  },
  {
   "cell_type": "code",
   "execution_count": null,
   "id": "159ae15a",
   "metadata": {},
   "outputs": [],
   "source": []
  },
  {
   "cell_type": "code",
   "execution_count": null,
   "id": "5d68101b",
   "metadata": {},
   "outputs": [],
   "source": []
  },
  {
   "cell_type": "code",
   "execution_count": null,
   "id": "fa5798c7",
   "metadata": {
    "scrolled": true
   },
   "outputs": [],
   "source": [
    "age = 35\n",
    "print(age , type(age))"
   ]
  },
  {
   "cell_type": "code",
   "execution_count": null,
   "id": "3a852772",
   "metadata": {
    "scrolled": true
   },
   "outputs": [],
   "source": [
    "age = 67.6\n",
    "print(age , type(age))"
   ]
  },
  {
   "cell_type": "code",
   "execution_count": null,
   "id": "14289502",
   "metadata": {
    "scrolled": true
   },
   "outputs": [],
   "source": [
    "age = (10,20)\n",
    "print(age , type(age))"
   ]
  },
  {
   "cell_type": "code",
   "execution_count": null,
   "id": "99655358",
   "metadata": {},
   "outputs": [],
   "source": [
    "nums = 10,20,30\n",
    "print(nums, type(nums))"
   ]
  },
  {
   "cell_type": "code",
   "execution_count": null,
   "id": "1846251a",
   "metadata": {},
   "outputs": [],
   "source": []
  },
  {
   "cell_type": "markdown",
   "id": "bdf3065a",
   "metadata": {},
   "source": [
    "### INPUT FUNCTION\n",
    " - input() used to read data from user or any input device.\n",
    " - by default it will read all types of data in STRING format as input.\n",
    " \n",
    "\n",
    "Syntax:\n",
    "    \n",
    "   >variable_name = input(\"Prompt\")\n",
    "    "
   ]
  },
  {
   "cell_type": "code",
   "execution_count": null,
   "id": "1dac7abb",
   "metadata": {
    "scrolled": true
   },
   "outputs": [],
   "source": [
    "age = 10 #static declaration\n",
    "print(age)\n"
   ]
  },
  {
   "cell_type": "code",
   "execution_count": null,
   "id": "71554e81",
   "metadata": {},
   "outputs": [],
   "source": []
  },
  {
   "cell_type": "code",
   "execution_count": null,
   "id": "a831965a",
   "metadata": {},
   "outputs": [],
   "source": [
    "read data from keyword/user ---> input() -----> program (process) ------> print() ---> window/screen/console."
   ]
  },
  {
   "cell_type": "code",
   "execution_count": null,
   "id": "685623d9",
   "metadata": {
    "scrolled": true
   },
   "outputs": [],
   "source": [
    "# dynamic declaration.\n",
    "\n",
    "age = input('Enter age ? ') #read data(int,float,bool,complex) in str format only\n",
    "print(age , type(age))"
   ]
  },
  {
   "cell_type": "code",
   "execution_count": null,
   "id": "150d4e81",
   "metadata": {
    "scrolled": true
   },
   "outputs": [],
   "source": [
    "'10'\n",
    "\"10.2\"\n",
    "\"True\"\n",
    "\"10+2j\"\n",
    "\"Kumar\"\n",
    "\"[10,20]\"\n",
    "\"(10,20)\"\n",
    "\"{10,20}\"\n",
    "\"{'name': 'Kumar', 'salary': 90000}\""
   ]
  },
  {
   "cell_type": "code",
   "execution_count": null,
   "id": "b303f3c4",
   "metadata": {},
   "outputs": [],
   "source": [
    "salary = input('Enter a salary: ')\n",
    "print(salary , type(salary))"
   ]
  },
  {
   "cell_type": "code",
   "execution_count": null,
   "id": "a5c54709",
   "metadata": {
    "scrolled": true
   },
   "outputs": [],
   "source": [
    "print(type(45.5))\n",
    "print(type(\"45.5\"))\n"
   ]
  },
  {
   "cell_type": "code",
   "execution_count": null,
   "id": "7d58b1c1",
   "metadata": {
    "scrolled": true
   },
   "outputs": [],
   "source": [
    "num1 = input(\"Enter num1: \")\n",
    "num2 = input(\"Enter num2: \")\n",
    "\n",
    "print(num1 + num2)"
   ]
  },
  {
   "cell_type": "code",
   "execution_count": null,
   "id": "575a9338",
   "metadata": {},
   "outputs": [],
   "source": [
    "print(10 + 20) # int addition\n",
    "print(\"10\" + \"20\") # str addition"
   ]
  },
  {
   "cell_type": "code",
   "execution_count": null,
   "id": "39cce4fa",
   "metadata": {
    "scrolled": true
   },
   "outputs": [],
   "source": [
    "print('6' + '7')\n",
    "print(\"10\" + \"20\")\n",
    "print(\"Hi\" + \"Java\")"
   ]
  },
  {
   "cell_type": "code",
   "execution_count": null,
   "id": "39504f1f",
   "metadata": {},
   "outputs": [],
   "source": [
    "print('10' + 10) # str + int\n",
    "print(5 + '4') # int + str"
   ]
  },
  {
   "cell_type": "code",
   "execution_count": null,
   "id": "00d7f938",
   "metadata": {},
   "outputs": [],
   "source": []
  },
  {
   "cell_type": "code",
   "execution_count": null,
   "id": "9330d5d3",
   "metadata": {},
   "outputs": [],
   "source": []
  },
  {
   "cell_type": "code",
   "execution_count": null,
   "id": "f17c1366",
   "metadata": {},
   "outputs": [],
   "source": [
    "num1 = input(\"Enter num1: \")\n",
    "num2 = input(\"Enter num2: \")\n",
    "\n",
    "# explicit conversation\n",
    "num1 = int(num1) # convert str to int # int(\"10\")--> 10\n",
    "num2 = int(num2)\n",
    "\n",
    "print(num1 + num2)"
   ]
  },
  {
   "cell_type": "code",
   "execution_count": null,
   "id": "1c24fc45",
   "metadata": {},
   "outputs": [],
   "source": [
    "print(int(\"10\"))\n",
    "print(int(\"10a\"))"
   ]
  },
  {
   "cell_type": "code",
   "execution_count": null,
   "id": "28047aff",
   "metadata": {},
   "outputs": [],
   "source": [
    "# explicit conversation\n",
    "num1 = int(input(\"Enter num1: \")) # convert str to int # int(\"10\")--> 10\n",
    "num2 = int(input(\"Enter num2: \"))\n",
    "\n",
    "print(num1 + num2)"
   ]
  },
  {
   "cell_type": "code",
   "execution_count": null,
   "id": "a4df7228",
   "metadata": {},
   "outputs": [],
   "source": []
  },
  {
   "cell_type": "code",
   "execution_count": null,
   "id": "a6c1c8fc",
   "metadata": {},
   "outputs": [],
   "source": [
    "n1 = int(input('Enter n1: ')) \n",
    "n2 = int(input('Enter n2: '))\n",
    "n3 = int(input('Enter n3: '))\n",
    "\n",
    "print(n1 + n2 + n3)"
   ]
  },
  {
   "cell_type": "code",
   "execution_count": null,
   "id": "bcdc335e",
   "metadata": {},
   "outputs": [],
   "source": []
  },
  {
   "cell_type": "code",
   "execution_count": null,
   "id": "bcf121b6",
   "metadata": {},
   "outputs": [],
   "source": []
  },
  {
   "cell_type": "code",
   "execution_count": null,
   "id": "867d813a",
   "metadata": {
    "scrolled": true
   },
   "outputs": [],
   "source": [
    "salary = float(input(\"Enter the salary\")) #float(str) -> float\n",
    "print(salary , type(salary))"
   ]
  },
  {
   "cell_type": "code",
   "execution_count": null,
   "id": "0cd6f873",
   "metadata": {},
   "outputs": [],
   "source": []
  },
  {
   "cell_type": "code",
   "execution_count": null,
   "id": "ec2e47df",
   "metadata": {},
   "outputs": [],
   "source": [
    "print(float('27.7378'))\n",
    "print(float('27.7sj'))"
   ]
  },
  {
   "cell_type": "code",
   "execution_count": null,
   "id": "c5db74b2",
   "metadata": {},
   "outputs": [],
   "source": []
  },
  {
   "cell_type": "code",
   "execution_count": null,
   "id": "38e1604f",
   "metadata": {},
   "outputs": [],
   "source": []
  },
  {
   "cell_type": "code",
   "execution_count": null,
   "id": "b780eaa6",
   "metadata": {},
   "outputs": [],
   "source": [
    "studentId = int(input('Enter id: '))\n",
    "studentName = input('Enter Name: ')\n",
    "is_enrolled = bool(input('Enter True or False: '))\n",
    "courseFee = float(input('Enter course fee: '))\n",
    "duration = int(input('Enter duration: '))\n",
    "                "
   ]
  },
  {
   "cell_type": "code",
   "execution_count": null,
   "id": "c4647d6d",
   "metadata": {},
   "outputs": [],
   "source": [
    "print(studentId, type(studentId) , id(studentId))\n",
    "print(studentName, type(studentName) , id(studentName))\n"
   ]
  },
  {
   "cell_type": "code",
   "execution_count": null,
   "id": "0eb82b83",
   "metadata": {},
   "outputs": [],
   "source": [
    "employee_id = int(input('Enter Emp Id: '))\n",
    "employee_name = input('Enter Name: ')\n",
    "employee_enrolled = bool(input('Enter True or False: '))\n",
    "employee_salary = float(input('Enter Salary: '))\n",
    "experience = int(input('Enter exp: '))\n",
    "\n",
    "print(employee_id, type(employee_id), id(employee_id))\n",
    "print(employee_name, type(employee_name), id(employee_name))\n",
    "print(employee_enrolled, type(employee_enrolled), id(employee_enrolled))\n",
    "print(employee_salary, type(employee_salary), id(employee_salary))\n",
    "print(experience, type(experience), id(experience))"
   ]
  },
  {
   "cell_type": "code",
   "execution_count": null,
   "id": "a02c8130",
   "metadata": {},
   "outputs": [],
   "source": [
    "total_food_bill = int(input('Enter total bill: '))\n",
    "total_persons = int(input('Enter Number of Persons: '))\n",
    "tip_percentage = int(input('Enter the tip percentage on bill amount: '))\n",
    "\n",
    "total_bill = total_food_bill + total_food_bill * (1/tip_percentage)\n",
    "single_person_pay = total_bill/total_persons\n",
    "\n",
    "print(single_person_pay)"
   ]
  },
  {
   "cell_type": "code",
   "execution_count": null,
   "id": "e31b9c1c",
   "metadata": {},
   "outputs": [],
   "source": []
  },
  {
   "cell_type": "code",
   "execution_count": null,
   "id": "ae845f88",
   "metadata": {},
   "outputs": [],
   "source": []
  },
  {
   "cell_type": "code",
   "execution_count": null,
   "id": "3da882a8",
   "metadata": {},
   "outputs": [],
   "source": []
  },
  {
   "cell_type": "markdown",
   "id": "abcf815e",
   "metadata": {
    "scrolled": true
   },
   "source": [
    "## Try these \n",
    "\n",
    "- Declare 5 realtime variables and take input from keyboard\n",
    "- print(value , type , memoryID.) for every variable."
   ]
  },
  {
   "cell_type": "markdown",
   "id": "4144cc35",
   "metadata": {},
   "source": [
    "### Assignment Answers"
   ]
  },
  {
   "cell_type": "code",
   "execution_count": null,
   "id": "b5ec7fe1",
   "metadata": {
    "scrolled": true
   },
   "outputs": [],
   "source": [
    "name = input(\"enter the name\")\n",
    "address = input(\"enter address: \")\n",
    "university_course_duration = int(input(\"enter course duration: \"))\n",
    "course_fee = float(input(\"enter the course_fee\"))\n",
    "is_student = bool(input(\"Are you a student?True/False\"))\n",
    "\n",
    "print (name , type (name) ,id(name))\n",
    "print(address , type(address) ,id(address))\n",
    "print(university_courseduration , type(university_courseduration) ,id(university_courseduration))\n",
    "print (course_fee, type(course_fee), id(course_fee))\n",
    "print(is_student , type(is_student) , id(is_student))"
   ]
  },
  {
   "cell_type": "code",
   "execution_count": null,
   "id": "8660a3fd",
   "metadata": {
    "scrolled": true
   },
   "outputs": [],
   "source": [
    "fifa_winner = input(\"Enter the winner name\")\n",
    "print(fifa_winner , type(fifa_winner) , id(fifa_winner))\n",
    "messi_score = int(input(\"enter messi score: \"))\n",
    "\n",
    "print(messi_score , type(messi_score) , id(messi_score) )\n",
    "\n"
   ]
  },
  {
   "cell_type": "code",
   "execution_count": null,
   "id": "3f07288f",
   "metadata": {},
   "outputs": [],
   "source": [
    "print(\"Welcome to the tip calculator\")\n",
    "\n",
    "bill = float(input(\"What was the total bill? \"))\n",
    "tip = int(input(\"What percentage of tip would you like to give? 10, 12, or 15? \"))\n",
    "people = int(input(\"How many people to split the bill \"))\n",
    "\n",
    "totalAmountWithTip = tip / 100 * bill + bill\n",
    "people_div = totalAmountWithTip // people\n",
    "print(f\"Each person should pay: ${people_div}\")"
   ]
  },
  {
   "cell_type": "code",
   "execution_count": null,
   "id": "e1d16966",
   "metadata": {},
   "outputs": [],
   "source": []
  }
 ],
 "metadata": {
  "kernelspec": {
   "display_name": "Python 3 (ipykernel)",
   "language": "python",
   "name": "python3"
  },
  "language_info": {
   "codemirror_mode": {
    "name": "ipython",
    "version": 3
   },
   "file_extension": ".py",
   "mimetype": "text/x-python",
   "name": "python",
   "nbconvert_exporter": "python",
   "pygments_lexer": "ipython3",
   "version": "3.11.5"
  }
 },
 "nbformat": 4,
 "nbformat_minor": 5
}
