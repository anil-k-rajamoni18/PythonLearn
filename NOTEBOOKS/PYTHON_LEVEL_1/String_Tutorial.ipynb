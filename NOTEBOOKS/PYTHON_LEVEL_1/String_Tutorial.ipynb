{
 "cells": [
  {
   "cell_type": "markdown",
   "id": "73488909",
   "metadata": {},
   "source": [
    "## Strings \n",
    "- group of individual or collections of characters\n",
    "- strings are immutable in python\n",
    "- Strings have indexing\n",
    "      \n",
    "      +ve : 0 - N-1\n",
    "      \n",
    "      -ve : -1 --> -N\n",
    "- String supports slicing also.\n",
    "- In Python Strings can be declared in 3 ways:\n",
    "        \n",
    "        - single quotes  'k'\n",
    "        \n",
    "        - double quotes   \"dyamic programmic\"\n",
    "        \n",
    "        - triple quotes (mainly used for multi-line strings)\n",
    "            \n",
    "      >Text is a string data type. Any data type written as text is a string. Any data under single, double or triple quote are strings. There are different string methods and built-in functions to deal with string data types"
   ]
  },
  {
   "cell_type": "code",
   "execution_count": null,
   "id": "eb668645",
   "metadata": {},
   "outputs": [],
   "source": []
  },
  {
   "cell_type": "code",
   "execution_count": 16,
   "id": "0ae52c59",
   "metadata": {
    "scrolled": true
   },
   "outputs": [
    {
     "name": "stdout",
     "output_type": "stream",
     "text": [
      "<class 'str'>\n",
      "<class 'str'>\n",
      "<class 'str'>\n"
     ]
    }
   ],
   "source": [
    "print(type(\"Hello\"))\n",
    "print(type(\"10\"))\n",
    "\"10.22\"\n",
    "\"True\"\n",
    "print(type(\"[10,203,30]\"))\n",
    "\n",
    "# anything inside quotes is a string "
   ]
  },
  {
   "cell_type": "markdown",
   "id": "1a6cc8e9",
   "metadata": {},
   "source": [
    "#### Creating a String\n"
   ]
  },
  {
   "cell_type": "code",
   "execution_count": 17,
   "id": "beeac524",
   "metadata": {
    "scrolled": true
   },
   "outputs": [
    {
     "name": "stdout",
     "output_type": "stream",
     "text": [
      "P\n",
      "1\n",
      "Hello, World!\n",
      "13\n",
      "I hope you are enjoying  Python          Course\n",
      "47\n"
     ]
    }
   ],
   "source": [
    "letter = 'P'              \n",
    "print(letter)              \n",
    "print(len(letter))        \n",
    "\n",
    "greeting = 'Hello, World!' \n",
    "print(greeting)            \n",
    "print(len(greeting))        \n",
    "\n",
    "sentence = \"I hope you are enjoying  Python          Course\"\n",
    "print(sentence)\n",
    "print(len(sentence))"
   ]
  },
  {
   "cell_type": "code",
   "execution_count": 18,
   "id": "f942439d",
   "metadata": {
    "scrolled": true
   },
   "outputs": [
    {
     "name": "stdout",
     "output_type": "stream",
     "text": [
      "65\n"
     ]
    }
   ],
   "source": [
    "print(ord(\"A\"))\n",
    "\n",
    "# characters --> letters , symbols, numbers,regional lang letters"
   ]
  },
  {
   "cell_type": "code",
   "execution_count": 19,
   "id": "c31cd7f5",
   "metadata": {
    "scrolled": true
   },
   "outputs": [
    {
     "name": "stdout",
     "output_type": "stream",
     "text": [
      "I am a teacher and enjoy teaching.\n",
      "I didn't find anything as rewarding as empowering people.\n",
      "That is why I created  python course.\n",
      "I am a teacher and enjoy teaching.\n",
      "I didn't find anything as rewarding as empowering people.\n",
      "That is why I created python course.\n"
     ]
    }
   ],
   "source": [
    "multiline_string = '''I am a teacher and enjoy teaching.\n",
    "I didn't find anything as rewarding as empowering people.\n",
    "That is why I created  python course.'''\n",
    "print(multiline_string)\n",
    "\n",
    "# Another way of doing the same thing\n",
    "multiline_string = \"\"\"I am a teacher and enjoy teaching.\n",
    "I didn't find anything as rewarding as empowering people.\n",
    "That is why I created python course.\"\"\"\n",
    "print(multiline_string)\n",
    "\n"
   ]
  },
  {
   "cell_type": "code",
   "execution_count": null,
   "id": "5da42d82",
   "metadata": {
    "scrolled": true
   },
   "outputs": [],
   "source": []
  },
  {
   "cell_type": "markdown",
   "id": "fb085e2d",
   "metadata": {},
   "source": [
    "#### String Concatenation\n",
    "        - We can connect strings together. Merging or connecting strings is called concatenation. "
   ]
  },
  {
   "cell_type": "code",
   "execution_count": 20,
   "id": "40e96399",
   "metadata": {
    "scrolled": true
   },
   "outputs": [
    {
     "name": "stdout",
     "output_type": "stream",
     "text": [
      "Helsinki Money Heist\n",
      "8\n",
      "11\n",
      "False\n",
      "20\n"
     ]
    }
   ],
   "source": [
    "first_name = 'Helsinki'\n",
    "last_name = 'Money Heist'\n",
    "space = ' '\n",
    "\n",
    "full_name = first_name  +  space + last_name\n",
    "print(full_name) \n",
    "\n",
    "# Checking the length of a string using len() built-in function\n",
    "print(len(first_name)) \n",
    "print(len(last_name))  \n",
    "print(len(first_name) > len(last_name))\n",
    "print(len(full_name)) "
   ]
  },
  {
   "cell_type": "code",
   "execution_count": null,
   "id": "32fdf511",
   "metadata": {
    "scrolled": true
   },
   "outputs": [],
   "source": []
  },
  {
   "cell_type": "markdown",
   "id": "85968c9b",
   "metadata": {
    "scrolled": true
   },
   "source": [
    "### Try this . \n",
    "- print(first_name + \" age  \"+40)\n",
    "- print(\"Hi \"*10)\n",
    "- print(\"Hi\"*\"Hello\")\n"
   ]
  },
  {
   "cell_type": "code",
   "execution_count": null,
   "id": "4e6cd8a1",
   "metadata": {},
   "outputs": [],
   "source": [
    "# + ---> both same type\n",
    "# * ---> both should be different types ( str,int)"
   ]
  },
  {
   "cell_type": "code",
   "execution_count": 25,
   "id": "941a9cfc",
   "metadata": {},
   "outputs": [
    {
     "ename": "TypeError",
     "evalue": "can only concatenate str (not \"int\") to str",
     "output_type": "error",
     "traceback": [
      "\u001b[1;31m---------------------------------------------------------------------------\u001b[0m",
      "\u001b[1;31mTypeError\u001b[0m                                 Traceback (most recent call last)",
      "Cell \u001b[1;32mIn[25], line 1\u001b[0m\n\u001b[1;32m----> 1\u001b[0m \u001b[38;5;28mprint\u001b[39m(\u001b[43mfirst_name\u001b[49m\u001b[43m \u001b[49m\u001b[38;5;241;43m+\u001b[39;49m\u001b[43m \u001b[49m\u001b[38;5;124;43m\"\u001b[39;49m\u001b[38;5;124;43m age\u001b[39;49m\u001b[38;5;124;43m\"\u001b[39;49m\u001b[43m \u001b[49m\u001b[38;5;241;43m+\u001b[39;49m\u001b[43m  \u001b[49m\u001b[38;5;241;43m40\u001b[39;49m)\n",
      "\u001b[1;31mTypeError\u001b[0m: can only concatenate str (not \"int\") to str"
     ]
    }
   ],
   "source": [
    "print(first_name + \" age\" +  40)"
   ]
  },
  {
   "cell_type": "code",
   "execution_count": 28,
   "id": "3dc1ffa1",
   "metadata": {},
   "outputs": [
    {
     "name": "stdout",
     "output_type": "stream",
     "text": [
      "hello hello hello hello hello \n"
     ]
    }
   ],
   "source": [
    "print(5 * \"hello \")"
   ]
  },
  {
   "cell_type": "code",
   "execution_count": 29,
   "id": "33ab7068",
   "metadata": {},
   "outputs": [
    {
     "ename": "TypeError",
     "evalue": "can't multiply sequence by non-int of type 'str'",
     "output_type": "error",
     "traceback": [
      "\u001b[1;31m---------------------------------------------------------------------------\u001b[0m",
      "\u001b[1;31mTypeError\u001b[0m                                 Traceback (most recent call last)",
      "Cell \u001b[1;32mIn[29], line 1\u001b[0m\n\u001b[1;32m----> 1\u001b[0m \u001b[38;5;28mprint\u001b[39m(\u001b[38;5;124;43m\"\u001b[39;49m\u001b[38;5;124;43mhi\u001b[39;49m\u001b[38;5;124;43m\"\u001b[39;49m\u001b[43m \u001b[49m\u001b[38;5;241;43m*\u001b[39;49m\u001b[43m \u001b[49m\u001b[38;5;124;43m\"\u001b[39;49m\u001b[38;5;124;43mhi\u001b[39;49m\u001b[38;5;124;43m\"\u001b[39;49m)\n",
      "\u001b[1;31mTypeError\u001b[0m: can't multiply sequence by non-int of type 'str'"
     ]
    }
   ],
   "source": [
    "print(\"hi\" * \"hi\")"
   ]
  },
  {
   "cell_type": "markdown",
   "id": "384bc759",
   "metadata": {},
   "source": [
    "#### Escape Sequences in Strings\n",
    "            In Python and other programming languages \\ followed by a character is an escape sequence.\n",
    "\n",
    "        \\n: new line\n",
    "        \\t: Tab means(8 spaces)\n",
    "        \\\\: Back slash\n",
    "        \\': Single quote (')\n",
    "        \\\": Double quote (\")"
   ]
  },
  {
   "cell_type": "code",
   "execution_count": 30,
   "id": "c8351ff5",
   "metadata": {
    "scrolled": true
   },
   "outputs": [
    {
     "name": "stdout",
     "output_type": "stream",
     "text": [
      "Hello \n",
      " Welcome to Srikanth's \t Home\n"
     ]
    }
   ],
   "source": [
    "print(\"Hello \\n Welcome to Srikanth's \\t Home\")"
   ]
  },
  {
   "cell_type": "code",
   "execution_count": null,
   "id": "63ee3406",
   "metadata": {
    "scrolled": true
   },
   "outputs": [],
   "source": []
  },
  {
   "cell_type": "code",
   "execution_count": 31,
   "id": "dbd214cb",
   "metadata": {
    "scrolled": true
   },
   "outputs": [
    {
     "name": "stdout",
     "output_type": "stream",
     "text": [
      "I hope everyone is enjoying the Python Challenge.\n",
      "Are you ?\n",
      "Days\tTopics\tExercises\n",
      "Day 1 \t2 \t8\n",
      "Day 2\t3\t5\n",
      "Day 3\t3\t5\n",
      "Day 4\t6\t18\n",
      "This is a backslash  symbol (\\)\n",
      "In every programming language it starts with \"Hello, World!\"\n"
     ]
    }
   ],
   "source": [
    "print('I hope everyone is enjoying the Python Challenge.\\nAre you ?') # line break\n",
    "print('Days\\tTopics\\tExercises') # adding tab space or 4 spaces \n",
    "print('Day 1 \\t2 \\t8')\n",
    "print('Day 2\\t3\\t5')\n",
    "print('Day 3\\t3\\t5')\n",
    "print('Day 4\\t6\\t18')\n",
    "print('This is a backslash  symbol (\\\\)') # To write a backslash\n",
    "print('In every programming language it starts with \\\"Hello, World!\\\"') # to write a double quote inside a single quote\n"
   ]
  },
  {
   "cell_type": "markdown",
   "id": "a062f549",
   "metadata": {},
   "source": [
    "### Why 3 representations"
   ]
  },
  {
   "cell_type": "code",
   "execution_count": 33,
   "id": "8ca341d2",
   "metadata": {
    "scrolled": true
   },
   "outputs": [
    {
     "name": "stdout",
     "output_type": "stream",
     "text": [
      "It's a good movie\n"
     ]
    }
   ],
   "source": [
    "# It's good movie \n",
    "print('It\\'s a good movie')"
   ]
  },
  {
   "cell_type": "code",
   "execution_count": 34,
   "id": "568d82af",
   "metadata": {},
   "outputs": [
    {
     "name": "stdout",
     "output_type": "stream",
     "text": [
      "It's a good movie\n"
     ]
    }
   ],
   "source": [
    "print(\"It's a good movie\")"
   ]
  },
  {
   "cell_type": "code",
   "execution_count": null,
   "id": "6b449d92",
   "metadata": {},
   "outputs": [],
   "source": []
  },
  {
   "cell_type": "code",
   "execution_count": 37,
   "id": "15363d38",
   "metadata": {},
   "outputs": [
    {
     "name": "stdout",
     "output_type": "stream",
     "text": [
      " In every programming language it starts with \"Hello, World!\" \n"
     ]
    }
   ],
   "source": [
    "print(\" In every programming language it starts with \\\"Hello, World!\\\" \")"
   ]
  },
  {
   "cell_type": "code",
   "execution_count": 38,
   "id": "d75e09f4",
   "metadata": {},
   "outputs": [
    {
     "name": "stdout",
     "output_type": "stream",
     "text": [
      " In every programming language it starts with \"Hello, World!\" \n"
     ]
    }
   ],
   "source": [
    "print(\"\"\" In every programming language it starts with \"Hello, World!\" \"\"\")"
   ]
  },
  {
   "cell_type": "code",
   "execution_count": null,
   "id": "4be27dd6",
   "metadata": {},
   "outputs": [],
   "source": []
  },
  {
   "cell_type": "code",
   "execution_count": null,
   "id": "e8e1ac24",
   "metadata": {},
   "outputs": [],
   "source": []
  },
  {
   "cell_type": "markdown",
   "id": "ce54f82f",
   "metadata": {},
   "source": [
    "### String formatting\n",
    "    In Python there are many ways of formatting strings.\n",
    "    \n",
    "    The \"%\" operator is used to format a set of variables enclosed in a \"tuple\" (a fixed size list), together with a format string, which contains normal text together with \"argument specifiers\", special symbols like \"%s\", \"%d\", \"%f\", \"%.number of digitsf\".\n",
    "\n",
    "        %s - String (or any object with a string representation, like numbers)\n",
    "        %d - Integers\n",
    "        %f - Floating point numbers\n",
    "        \"%.number of digitsf\" - Floating point numbers with fixed precision"
   ]
  },
  {
   "cell_type": "code",
   "execution_count": null,
   "id": "22687547",
   "metadata": {
    "scrolled": true
   },
   "outputs": [],
   "source": [
    "# c syntax\n",
    "int age = 29;\n",
    "float salary = 29.28228773793;\n",
    "print(\"%d %f\",age,salary)"
   ]
  },
  {
   "cell_type": "code",
   "execution_count": 39,
   "id": "25b64f40",
   "metadata": {
    "scrolled": true
   },
   "outputs": [
    {
     "name": "stdout",
     "output_type": "stream",
     "text": [
      "Enter name: avan\n",
      "Enter the age: 56\n",
      "Enter salary: 289278.289\n"
     ]
    }
   ],
   "source": [
    "name = input(\"Enter name: \")\n",
    "age = int(input(\"Enter the age: \"))\n",
    "salary = float(input(\"Enter salary: \"))\n",
    "\n"
   ]
  },
  {
   "cell_type": "code",
   "execution_count": 40,
   "id": "8a77b01c",
   "metadata": {},
   "outputs": [
    {
     "name": "stdout",
     "output_type": "stream",
     "text": [
      "avan 56 289278.289\n"
     ]
    }
   ],
   "source": [
    "print(name,age,salary)"
   ]
  },
  {
   "cell_type": "code",
   "execution_count": 41,
   "id": "f76d0746",
   "metadata": {
    "scrolled": true
   },
   "outputs": [
    {
     "name": "stdout",
     "output_type": "stream",
     "text": [
      "my name is  avan , age is  56 , my salary is 289278.289\n"
     ]
    }
   ],
   "source": [
    "print(\"my name is \",name, \", age is \",age,\", my salary is\",salary) #normal "
   ]
  },
  {
   "cell_type": "code",
   "execution_count": 42,
   "id": "612ef0e9",
   "metadata": {},
   "outputs": [
    {
     "name": "stdout",
     "output_type": "stream",
     "text": [
      "my name is avan , age is 56 , my salary 289278.29\n"
     ]
    }
   ],
   "source": [
    "print(\"my name is %s , age is %d , my salary %.2f\" %(name,age,salary))"
   ]
  },
  {
   "cell_type": "code",
   "execution_count": null,
   "id": "3a33cdf6",
   "metadata": {},
   "outputs": [],
   "source": []
  },
  {
   "cell_type": "code",
   "execution_count": 43,
   "id": "5fb081a1",
   "metadata": {
    "scrolled": true
   },
   "outputs": [
    {
     "name": "stdout",
     "output_type": "stream",
     "text": [
      "I am Kumar R. I teach Python and fee is 10.28\n",
      "The area of circle with a radius 7 is 153.86.\n",
      "The following are python libraries:['Django', 'Flask', 'NumPy', 'Matplotlib', 'Pandas']\n"
     ]
    }
   ],
   "source": [
    "# Strings only\n",
    "first_name = 'Kumar'\n",
    "last_name = 'R'\n",
    "language = 'Python'\n",
    "fee = 10.283893\n",
    "formated_string = 'I am %s %s. I teach %s and fee is %.2f' %(first_name, last_name, language,fee)\n",
    "print(formated_string)\n",
    "\n",
    "# Strings  and numbers\n",
    "radius = 7\n",
    "pi = 3.14\n",
    "area = pi * radius ** 2\n",
    "formated_string = 'The area of circle with a radius %d is %.2f.' %(radius, area) # 2 refers the 2 significant digits after the point\n",
    "\n",
    "print(formated_string)\n",
    "\n",
    "\n",
    "python_libraries = ['Django', 'Flask', 'NumPy', 'Matplotlib','Pandas']\n",
    "formated_string = 'The following are python libraries:%s' % (python_libraries)\n",
    "print(formated_string) # \n"
   ]
  },
  {
   "cell_type": "code",
   "execution_count": null,
   "id": "2ba19f69",
   "metadata": {
    "scrolled": true
   },
   "outputs": [],
   "source": [
    "print('Iam %s' %(first_name))"
   ]
  },
  {
   "cell_type": "markdown",
   "id": "137bc9aa",
   "metadata": {},
   "source": [
    "#### New Style String Formatting (str.format)"
   ]
  },
  {
   "cell_type": "code",
   "execution_count": 46,
   "id": "8f07e514",
   "metadata": {
    "scrolled": true
   },
   "outputs": [
    {
     "name": "stdout",
     "output_type": "stream",
     "text": [
      "I am Kumar R. I Teach Pythonand fee is 12000.092\n",
      "Iam  Kumar   R . I Teach Python\n",
      "Iam  Kumar\n"
     ]
    }
   ],
   "source": [
    "first_name = 'Kumar'\n",
    "last_name = 'R'\n",
    "language = 'Python'\n",
    "fee = 12000.092\n",
    "\n",
    "print(\"I am \"+first_name+\" \"+last_name+\". \"+\"I Teach \"+language+\"and fee is \"+ str(fee))\n",
    "\n",
    "print(\"Iam \", first_name , \" \" , last_name, \".\" , \"I Teach\" , language) #normally \n",
    "\n",
    "print('Iam ', first_name)"
   ]
  },
  {
   "cell_type": "code",
   "execution_count": 49,
   "id": "d2472176",
   "metadata": {
    "scrolled": true
   },
   "outputs": [
    {
     "name": "stdout",
     "output_type": "stream",
     "text": [
      "I am Python Kumar. I teach R and fee is 120000.7677576\n",
      "4 + 3 = 7\n",
      "4 - 3 = 1\n",
      "4 * 3 = 12\n",
      "4 / 3 = 1.33\n",
      "4 % 3 = 1\n",
      "4 // 3 = 1\n",
      "4 ** 3 = 64\n"
     ]
    }
   ],
   "source": [
    "first_name = 'Kumar'\n",
    "last_name = 'R'\n",
    "language = 'Python'\n",
    "fee = 120000.7677576\n",
    "\n",
    "formated_string = 'I am {2} {0}. I teach {1} and fee is {3}'.format(first_name, last_name, language,fee)\n",
    "\n",
    "print(formated_string)\n",
    "\n",
    "\n",
    "a = 4\n",
    "b = 3\n",
    "\n",
    "print('{0} + {1} = {2}'.format(a, b, a + b))\n",
    "print('{} - {} = {}'.format(a, b, a - b))\n",
    "print('{} * {} = {}'.format(a, b, a * b))\n",
    "print('{} / {} = {:.2f}'.format(a, b, a / b)) # limits it to two digits after decimal\n",
    "print('{} % {} = {}'.format(a, b, a % b))\n",
    "print('{} // {} = {}'.format(a, b, a // b))\n",
    "print('{} ** {} = {}'.format(a, b, a ** b))\n"
   ]
  },
  {
   "cell_type": "code",
   "execution_count": 54,
   "id": "171e6587",
   "metadata": {},
   "outputs": [
    {
     "name": "stdout",
     "output_type": "stream",
     "text": [
      "10 / 3 = 3.33333\n"
     ]
    }
   ],
   "source": [
    "print('{} / {} = {:.5f}'.format(10,3, 10/3))"
   ]
  },
  {
   "cell_type": "markdown",
   "id": "eb63f700",
   "metadata": {},
   "source": [
    "#### f-string"
   ]
  },
  {
   "cell_type": "code",
   "execution_count": 55,
   "id": "0ab5afff",
   "metadata": {
    "scrolled": true
   },
   "outputs": [
    {
     "name": "stdout",
     "output_type": "stream",
     "text": [
      "Iam Kumar R. I Teach Python and fee is 120000.77\n"
     ]
    }
   ],
   "source": [
    "print(\"Iam %s %s. I Teach %s and fee is %.2f\"%(first_name, last_name, language,fee))"
   ]
  },
  {
   "cell_type": "code",
   "execution_count": 56,
   "id": "6c375aab",
   "metadata": {
    "scrolled": true
   },
   "outputs": [
    {
     "name": "stdout",
     "output_type": "stream",
     "text": [
      "I am Kumar R. I teach Python and fee is 120000.77\n"
     ]
    }
   ],
   "source": [
    "print('I am {} {}. I teach {} and fee is {:3.2f}'.format(first_name, last_name, language,fee))"
   ]
  },
  {
   "cell_type": "code",
   "execution_count": 60,
   "id": "ae7938e2",
   "metadata": {
    "scrolled": true
   },
   "outputs": [
    {
     "name": "stdout",
     "output_type": "stream",
     "text": [
      "Iam Kumar R. I teach Python and fee is 120000.77\n"
     ]
    }
   ],
   "source": [
    "print(f'Iam {first_name} {last_name}. I teach {language} and fee is {fee:.2f}')"
   ]
  },
  {
   "cell_type": "code",
   "execution_count": 61,
   "id": "f2b3d235",
   "metadata": {},
   "outputs": [
    {
     "name": "stdout",
     "output_type": "stream",
     "text": [
      "my name is Kumar , age is 18\n",
      "my name is Kumar , age is 18\n"
     ]
    }
   ],
   "source": [
    "name = \"Kumar\"\n",
    "age =18\n",
    "\n",
    "print(\"my name is %s , age is %d\" %(name,age))\n",
    "print(f'my name is {name} , age is {age}')"
   ]
  },
  {
   "cell_type": "code",
   "execution_count": 62,
   "id": "64cf3062",
   "metadata": {
    "scrolled": true
   },
   "outputs": [
    {
     "name": "stdout",
     "output_type": "stream",
     "text": [
      "4 + 3 = 7\n",
      "4 - 3 = 1\n",
      "4 * 3 = 12\n",
      "4 / 3 = 1.33\n",
      "4 % 3 = 1\n",
      "4 // 3 = 1\n",
      "4 ** 3 = 64\n"
     ]
    }
   ],
   "source": [
    "#### Another new string formatting is string interpolation, f-strings. \n",
    "# Strings start with f and we can inject the data in their corresponding positions \n",
    "# supported from 3.6+\n",
    "\n",
    "a = 4\n",
    "b = 3\n",
    "print(f'{a} + {b} = {a +b}')\n",
    "print(f'{a} - {b} = {a - b}')\n",
    "print(f'{a} * {b} = {a * b}')\n",
    "print(f'{a} / {b} = {a / b:.2f}')\n",
    "print(f'{a} % {b} = {a % b}')\n",
    "print(f'{a} // {b} = {a // b}')\n",
    "print(f'{a} ** {b} = {a ** b}')"
   ]
  },
  {
   "cell_type": "code",
   "execution_count": 66,
   "id": "836f9ad5",
   "metadata": {
    "scrolled": true
   },
   "outputs": [
    {
     "name": "stdout",
     "output_type": "stream",
     "text": [
      "my age is 19\n",
      "my age is 19\n",
      "my age is 19\n",
      "my age is 19\n"
     ]
    }
   ],
   "source": [
    "age = 19\n",
    "\n",
    "print('my age is',age)\n",
    "print('my age is %d' %(age)) # c based formatting\n",
    "print('my age is {}'.format(age)) # String.format()\n",
    "print(f\"my age is {age}\") # f string"
   ]
  },
  {
   "cell_type": "code",
   "execution_count": 67,
   "id": "cdbaac6a",
   "metadata": {},
   "outputs": [
    {
     "name": "stdout",
     "output_type": "stream",
     "text": [
      "My name is kumar and fee = 12000.26\n",
      "My name is kumar and fee = 12000.26\n",
      "My name is kumar and fee = 12000.2637638\n"
     ]
    }
   ],
   "source": [
    "trainerName = \"kumar\"\n",
    "fee = 12000.2637638\n",
    "# c based formatting \n",
    "print(\"My name is %s and fee = %.2f\"%(trainerName,fee))\n",
    "\n",
    "# 2. String.format() \n",
    "print(\"My name is {} and fee = {:.2f}\".format(trainerName,fee))\n",
    "\n",
    "# 3. F String (3.6+)\n",
    "print(f\"My name is {trainerName} and fee = {fee}\")"
   ]
  },
  {
   "cell_type": "code",
   "execution_count": null,
   "id": "b330f760",
   "metadata": {},
   "outputs": [],
   "source": [
    "# STRING is a collection and ordered and indexed datatypes\n"
   ]
  },
  {
   "cell_type": "code",
   "execution_count": 68,
   "id": "48a8602e",
   "metadata": {
    "scrolled": true
   },
   "outputs": [
    {
     "name": "stdout",
     "output_type": "stream",
     "text": [
      "Python Language\n",
      "15\n",
      "P\n",
      "e\n"
     ]
    }
   ],
   "source": [
    "name = \"Python Language\"\n",
    "print(name)\n",
    "print(len(name))\n",
    "\n",
    "# 0th index data\n",
    "print(name[0])\n",
    "\n",
    "# last index character\n",
    "print(name[-1])\n"
   ]
  },
  {
   "cell_type": "code",
   "execution_count": 70,
   "id": "45b1b320",
   "metadata": {},
   "outputs": [
    {
     "ename": "TypeError",
     "evalue": "'str' object does not support item assignment",
     "output_type": "error",
     "traceback": [
      "\u001b[1;31m---------------------------------------------------------------------------\u001b[0m",
      "\u001b[1;31mTypeError\u001b[0m                                 Traceback (most recent call last)",
      "Cell \u001b[1;32mIn[70], line 1\u001b[0m\n\u001b[1;32m----> 1\u001b[0m name[\u001b[38;5;241m0\u001b[39m] \u001b[38;5;241m=\u001b[39m \u001b[38;5;124m'\u001b[39m\u001b[38;5;124mp\u001b[39m\u001b[38;5;124m'\u001b[39m\n\u001b[0;32m      2\u001b[0m \u001b[38;5;28mprint\u001b[39m(name)\n",
      "\u001b[1;31mTypeError\u001b[0m: 'str' object does not support item assignment"
     ]
    }
   ],
   "source": [
    "name[0] = 'p'\n",
    "print(name)"
   ]
  },
  {
   "cell_type": "code",
   "execution_count": null,
   "id": "51c79f0a",
   "metadata": {},
   "outputs": [],
   "source": []
  },
  {
   "cell_type": "code",
   "execution_count": 71,
   "id": "a4294f01",
   "metadata": {},
   "outputs": [
    {
     "ename": "IndexError",
     "evalue": "string index out of range",
     "output_type": "error",
     "traceback": [
      "\u001b[1;31m---------------------------------------------------------------------------\u001b[0m",
      "\u001b[1;31mIndexError\u001b[0m                                Traceback (most recent call last)",
      "Cell \u001b[1;32mIn[71], line 1\u001b[0m\n\u001b[1;32m----> 1\u001b[0m \u001b[38;5;28mprint\u001b[39m(\u001b[43mname\u001b[49m\u001b[43m[\u001b[49m\u001b[38;5;241;43m16\u001b[39;49m\u001b[43m]\u001b[49m)\n",
      "\u001b[1;31mIndexError\u001b[0m: string index out of range"
     ]
    }
   ],
   "source": [
    "print(name[16])"
   ]
  },
  {
   "cell_type": "code",
   "execution_count": null,
   "id": "0188feca",
   "metadata": {
    "scrolled": true
   },
   "outputs": [],
   "source": []
  },
  {
   "cell_type": "markdown",
   "id": "a2e83f8c",
   "metadata": {},
   "source": [
    "### Accessing Characters in Strings by Index\n",
    "    In programming counting starts from zero. Therefore the first letter of a string is at zero index and the last letter of a string is the length of a string minus one.\n",
    "       strLang = \"Python\"\n",
    "       \n",
    "<img src=\"https://res.cloudinary.com/practicaldev/image/fetch/s--A7oqOWqx--/c_limit%2Cf_auto%2Cfl_progressive%2Cq_auto%2Cw_880/https://thepracticaldev.s3.amazonaws.com/i/1wr90mjnil60r7226bgq.png\" width=\"400\" height=\"400\">"
   ]
  },
  {
   "cell_type": "code",
   "execution_count": 75,
   "id": "167147e5",
   "metadata": {
    "scrolled": true
   },
   "outputs": [
    {
     "ename": "TypeError",
     "evalue": "string indices must be integers",
     "output_type": "error",
     "traceback": [
      "\u001b[1;31m---------------------------------------------------------------------------\u001b[0m",
      "\u001b[1;31mTypeError\u001b[0m                                 Traceback (most recent call last)",
      "Cell \u001b[1;32mIn[75], line 3\u001b[0m\n\u001b[0;32m      1\u001b[0m language \u001b[38;5;241m=\u001b[39m \u001b[38;5;124m'\u001b[39m\u001b[38;5;124mPython\u001b[39m\u001b[38;5;124m'\u001b[39m\n\u001b[1;32m----> 3\u001b[0m first_letter \u001b[38;5;241m=\u001b[39m \u001b[43mlanguage\u001b[49m\u001b[43m[\u001b[49m\u001b[38;5;241;43m0\u001b[39;49m\u001b[43m,\u001b[49m\u001b[38;5;241;43m1\u001b[39;49m\u001b[43m,\u001b[49m\u001b[38;5;241;43m2\u001b[39;49m\u001b[43m,\u001b[49m\u001b[38;5;241;43m3\u001b[39;49m\u001b[43m]\u001b[49m\n\u001b[0;32m      4\u001b[0m \u001b[38;5;28mprint\u001b[39m(first_letter) \n\u001b[0;32m      6\u001b[0m second_letter \u001b[38;5;241m=\u001b[39m language[\u001b[38;5;241m1\u001b[39m]\n",
      "\u001b[1;31mTypeError\u001b[0m: string indices must be integers"
     ]
    }
   ],
   "source": [
    "language = 'Python'\n",
    "\n",
    "first_letter = language[0]\n",
    "print(first_letter) \n",
    "\n",
    "second_letter = language[1]\n",
    "print(second_letter) \n",
    "\n",
    "last_index = len(language) - 1\n",
    "\n",
    "last_letter = language[last_index]\n",
    "print(last_letter) \n"
   ]
  },
  {
   "cell_type": "code",
   "execution_count": null,
   "id": "474a0f1f",
   "metadata": {
    "scrolled": true
   },
   "outputs": [],
   "source": []
  },
  {
   "cell_type": "code",
   "execution_count": 73,
   "id": "6476543b",
   "metadata": {
    "scrolled": true
   },
   "outputs": [
    {
     "name": "stdout",
     "output_type": "stream",
     "text": [
      "n\n",
      "o\n"
     ]
    }
   ],
   "source": [
    "language = 'Python'\n",
    "\n",
    "last_letter = language[-1]\n",
    "print(last_letter) \n",
    "\n",
    "second_last = language[-2]\n",
    "print(second_last) \n",
    "\n"
   ]
  },
  {
   "cell_type": "code",
   "execution_count": 74,
   "id": "a23c4e47",
   "metadata": {
    "scrolled": true
   },
   "outputs": [
    {
     "ename": "IndexError",
     "evalue": "string index out of range",
     "output_type": "error",
     "traceback": [
      "\u001b[1;31m---------------------------------------------------------------------------\u001b[0m",
      "\u001b[1;31mIndexError\u001b[0m                                Traceback (most recent call last)",
      "Cell \u001b[1;32mIn[74], line 1\u001b[0m\n\u001b[1;32m----> 1\u001b[0m \u001b[38;5;28mprint\u001b[39m(\u001b[43mlanguage\u001b[49m\u001b[43m[\u001b[49m\u001b[38;5;241;43m10\u001b[39;49m\u001b[43m]\u001b[49m)\n",
      "\u001b[1;31mIndexError\u001b[0m: string index out of range"
     ]
    }
   ],
   "source": [
    "print(language[10])"
   ]
  },
  {
   "cell_type": "markdown",
   "id": "cd8b79d0",
   "metadata": {},
   "source": [
    "#### Slicing Python Strings\n",
    "    - Extracting specific data.\n",
    "    syntax:\n",
    "        [start:stop:step]\n",
    "    - start : 0 (default)\n",
    "    - stop : LEN-1\n",
    "    - step : 1 \n",
    "    \n",
    "    negative:\n",
    "         - start : -1 (default)\n",
    "        - stop : -LEN-1\n",
    "        - step : - 1 \n",
    "    \n",
    "    \n",
    "    note: STOP is exculsive not included"
   ]
  },
  {
   "cell_type": "code",
   "execution_count": 76,
   "id": "0d92c424",
   "metadata": {},
   "outputs": [
    {
     "name": "stdout",
     "output_type": "stream",
     "text": [
      "19\n"
     ]
    }
   ],
   "source": [
    "# [start:stop:step]\n",
    "name = \"Chennai Super Kings\"\n",
    "\n",
    "print(len(name))"
   ]
  },
  {
   "cell_type": "code",
   "execution_count": 77,
   "id": "d0d22083",
   "metadata": {},
   "outputs": [
    {
     "name": "stdout",
     "output_type": "stream",
     "text": [
      "Chenn\n"
     ]
    }
   ],
   "source": [
    "print(name[0:5:1])"
   ]
  },
  {
   "cell_type": "code",
   "execution_count": 79,
   "id": "58bdb0c3",
   "metadata": {
    "scrolled": true
   },
   "outputs": [
    {
     "name": "stdout",
     "output_type": "stream",
     "text": [
      "C\n",
      "s\n",
      "Chen\n",
      "Chenna\n",
      "ennai Super Kings\n",
      "sn\n",
      "CeniSprKns\n",
      "sgniK repuS iannehC\n",
      "sgniK repuS iannehC\n",
      "Chennai Super Kings\n"
     ]
    }
   ],
   "source": [
    "# \"Chennai Super Kings\"\n",
    "print(name[0])\n",
    "\n",
    "print(name[-1])\n",
    "\n",
    "print(name[0:4:1])\n",
    "\n",
    "print(name[:6]) \n",
    "\n",
    "print(name[2:]) #[2:LEN:1]\n",
    "\n",
    "print(name[-1:-5:-2])\n",
    "\n",
    "print(name[::2]) #[0:LEN-1:2]\n",
    "\n",
    "print(name[-1 : -len(name)-1 : -1]) #[-1: -LEN-1: -1]\n",
    "\n",
    "print(name[::-1])  #[-1: -LEN-1: -1] # reverse order\n",
    "\n",
    "\n",
    "print(name[::]) #[0: LEN-1: 1]\n"
   ]
  },
  {
   "cell_type": "code",
   "execution_count": 80,
   "id": "a80ba597",
   "metadata": {},
   "outputs": [
    {
     "name": "stdout",
     "output_type": "stream",
     "text": [
      "P\n",
      "n\n",
      "Pyth\n",
      "noh\n",
      "Pto\n",
      "thon\n",
      "Pyt\n",
      "Pyth\n",
      "nohtyP\n",
      "Python\n",
      "Python\n"
     ]
    }
   ],
   "source": [
    "lang = \"Python\"\n",
    "\n",
    "print(lang[0])\n",
    "print(lang[-1])\n",
    "print(lang[0:4:1])\n",
    "print(lang[-1:-4:-1])\n",
    "print(lang[::2])\n",
    "print(lang[2:])\n",
    "print(lang[:3])\n",
    "print(lang[:4])\n",
    "print(lang[::-1])\n",
    "print(lang[::1])\n",
    "print(lang[::])\n"
   ]
  },
  {
   "cell_type": "code",
   "execution_count": 86,
   "id": "662b203f",
   "metadata": {},
   "outputs": [
    {
     "name": "stdout",
     "output_type": "stream",
     "text": [
      "Python\n"
     ]
    }
   ],
   "source": [
    "print(lang[:200000000])"
   ]
  },
  {
   "cell_type": "code",
   "execution_count": 87,
   "id": "5b7d4723",
   "metadata": {
    "scrolled": true
   },
   "outputs": [
    {
     "name": "stdout",
     "output_type": "stream",
     "text": [
      "[30, 203, 10]\n"
     ]
    }
   ],
   "source": [
    "marks = [10,203,30]\n",
    "\n",
    "marks = marks[::-1]\n",
    "\n",
    "print(marks)"
   ]
  },
  {
   "cell_type": "code",
   "execution_count": null,
   "id": "a5bd6dd8",
   "metadata": {},
   "outputs": [],
   "source": [
    "#set methods "
   ]
  },
  {
   "cell_type": "code",
   "execution_count": null,
   "id": "a02507e2",
   "metadata": {},
   "outputs": [],
   "source": [
    "s = \"python is oops lang\"\n",
    "\n",
    "print(s.capitalize())\n",
    "print(s.count(\"o\"))\n",
    "print(s.startswith(\"p\"))\n",
    "print(s.endswith(\"y\"))\n",
    "print(s.find(\"o\"))\n",
    "print(s.index(\"o\"))\n",
    "\n",
    "print(s.title())\n",
    "print(s.replace(\"python\" , \"java\"))\n",
    "print(s.upper())\n",
    "print(s.lower())"
   ]
  },
  {
   "cell_type": "code",
   "execution_count": null,
   "id": "5ad7c396",
   "metadata": {},
   "outputs": [],
   "source": []
  },
  {
   "cell_type": "markdown",
   "id": "868bceb5",
   "metadata": {},
   "source": [
    "### String Methods\n",
    "  - **regular methods:**\n",
    "    - capitalize()\n",
    "    - count()\n",
    "    - endswith()\n",
    "    - startswith()\n",
    "    - expandtabs() \n",
    "    - find()\n",
    "    - rfind()\n",
    "    - index()\n",
    "    - rindex()\n",
    "    - title()\n",
    "    - replace()\n",
    "    - upper()\n",
    "    - lower()\n",
    "        \n",
    "- **checking methods:**\n",
    "    - isalnum()\n",
    "    - isalpha() \n",
    "    - isdecimal()\n",
    "    - isdigit()\n",
    "    - isnumeric()\n",
    "    - isidentifier()\n",
    "    - islower()\n",
    "    - isupper()\n",
    "        \n",
    "- **covertion methods**\n",
    "    - split() : str --> list\n",
    "    - join()  : list --> str\n",
    "\n",
    "        \n",
    " "
   ]
  },
  {
   "cell_type": "code",
   "execution_count": 88,
   "id": "06bc80f2",
   "metadata": {},
   "outputs": [
    {
     "name": "stdout",
     "output_type": "stream",
     "text": [
      "['__add__', '__class__', '__contains__', '__delattr__', '__dir__', '__doc__', '__eq__', '__format__', '__ge__', '__getattribute__', '__getitem__', '__getnewargs__', '__gt__', '__hash__', '__init__', '__init_subclass__', '__iter__', '__le__', '__len__', '__lt__', '__mod__', '__mul__', '__ne__', '__new__', '__reduce__', '__reduce_ex__', '__repr__', '__rmod__', '__rmul__', '__setattr__', '__sizeof__', '__str__', '__subclasshook__', 'capitalize', 'casefold', 'center', 'count', 'encode', 'endswith', 'expandtabs', 'find', 'format', 'format_map', 'index', 'isalnum', 'isalpha', 'isascii', 'isdecimal', 'isdigit', 'isidentifier', 'islower', 'isnumeric', 'isprintable', 'isspace', 'istitle', 'isupper', 'join', 'ljust', 'lower', 'lstrip', 'maketrans', 'partition', 'removeprefix', 'removesuffix', 'replace', 'rfind', 'rindex', 'rjust', 'rpartition', 'rsplit', 'rstrip', 'split', 'splitlines', 'startswith', 'strip', 'swapcase', 'title', 'translate', 'upper', 'zfill']\n"
     ]
    }
   ],
   "source": [
    "print(dir(\"\"))\n"
   ]
  },
  {
   "cell_type": "code",
   "execution_count": 89,
   "id": "f9c65eb3",
   "metadata": {
    "scrolled": true
   },
   "outputs": [
    {
     "name": "stdout",
     "output_type": "stream",
     "text": [
      "Thirty days of python\n",
      "thirty days of python\n"
     ]
    }
   ],
   "source": [
    "# capitalize(): Converts the first character of the string to capital letter\n",
    "\n",
    "challenge = 'thirty days of python'\n",
    "\n",
    "\n",
    "print(challenge.capitalize()) # 'Thirty days of python'\n",
    "\n",
    "\n",
    "print(challenge)"
   ]
  },
  {
   "cell_type": "code",
   "execution_count": 91,
   "id": "bdabe7e8",
   "metadata": {},
   "outputs": [
    {
     "name": "stdout",
     "output_type": "stream",
     "text": [
      "[30, 20, 10]\n"
     ]
    }
   ],
   "source": [
    "numbers = [10,20,30]\n",
    "numbers.reverse() #inplace methods\n",
    "print(numbers)"
   ]
  },
  {
   "cell_type": "code",
   "execution_count": null,
   "id": "cb9fd10d",
   "metadata": {
    "scrolled": true
   },
   "outputs": [],
   "source": [
    "# inplace methods: apply the operation and also change the content of a variable.\n",
    "# not inplace method : just only applies the operations.\n"
   ]
  },
  {
   "cell_type": "code",
   "execution_count": 95,
   "id": "fd14a383",
   "metadata": {
    "scrolled": true
   },
   "outputs": [
    {
     "name": "stdout",
     "output_type": "stream",
     "text": [
      "3\n",
      "1\n",
      "0\n",
      "3\n"
     ]
    }
   ],
   "source": [
    "# count(): returns occurrences of substring in string, count(substring, start=.., end=..). \n",
    "# The start is a starting indexing for counting and end is the last index to count.\n",
    "\n",
    "challenge = 'thirty days of python'\n",
    "\n",
    "print(challenge.count('y')) # 3\n",
    "print(challenge.count('y', 7, 14)) # 1, \n",
    "print(challenge.count('java')) # 2\n",
    "print(challenge.count(\" \"))"
   ]
  },
  {
   "cell_type": "code",
   "execution_count": null,
   "id": "b8bfc986",
   "metadata": {
    "scrolled": true
   },
   "outputs": [],
   "source": []
  },
  {
   "cell_type": "code",
   "execution_count": null,
   "id": "5ff10856",
   "metadata": {
    "scrolled": true
   },
   "outputs": [],
   "source": []
  },
  {
   "cell_type": "code",
   "execution_count": 98,
   "id": "678c61ec",
   "metadata": {
    "scrolled": true
   },
   "outputs": [
    {
     "name": "stdout",
     "output_type": "stream",
     "text": [
      "True\n",
      "False\n",
      "False\n"
     ]
    }
   ],
   "source": [
    "# endswith(): Checks if a string ends with a specified ending\n",
    "challenge = 'thirty days of python'\n",
    "\n",
    "print(challenge.endswith('on'))   # True\n",
    "print(challenge.endswith('tion')) # False\n",
    "\n",
    "\n",
    "print(challenge.startswith(\"TH\"))"
   ]
  },
  {
   "cell_type": "code",
   "execution_count": null,
   "id": "54064f8c",
   "metadata": {
    "scrolled": true
   },
   "outputs": [],
   "source": []
  },
  {
   "cell_type": "code",
   "execution_count": 99,
   "id": "042848a6",
   "metadata": {
    "scrolled": true
   },
   "outputs": [
    {
     "name": "stdout",
     "output_type": "stream",
     "text": [
      "thirty  days    of      python\n",
      "thirty    days      of        python\n"
     ]
    }
   ],
   "source": [
    "# expandtabs(): Replaces tab character with spaces, default tab size is 8. It takes tab size argument\n",
    "\n",
    "challenge = 'thirty\\tdays\\tof\\tpython'\n",
    "\n",
    "print(challenge.expandtabs())   # 'thirty  days    of      python'\n",
    "print(challenge.expandtabs(10)) # 'thirty    days      of        python'"
   ]
  },
  {
   "cell_type": "code",
   "execution_count": null,
   "id": "9f41c449",
   "metadata": {},
   "outputs": [],
   "source": []
  },
  {
   "cell_type": "code",
   "execution_count": null,
   "id": "487edcaf",
   "metadata": {},
   "outputs": [],
   "source": [
    "\n"
   ]
  },
  {
   "cell_type": "code",
   "execution_count": null,
   "id": "b3e7f51b",
   "metadata": {
    "scrolled": true
   },
   "outputs": [],
   "source": []
  },
  {
   "cell_type": "code",
   "execution_count": 100,
   "id": "2578fa40",
   "metadata": {
    "scrolled": true
   },
   "outputs": [
    {
     "name": "stdout",
     "output_type": "stream",
     "text": [
      "5\n",
      "0\n"
     ]
    }
   ],
   "source": [
    "# find(): Returns the index of the first occurrence of a substring, if not found returns -1\n",
    "\n",
    "\n",
    "challenge = 'thirty days of python'\n",
    "print(challenge.find('y'))  # 5\n",
    "print(challenge.find('th')) # 0\n",
    "\n"
   ]
  },
  {
   "cell_type": "code",
   "execution_count": 101,
   "id": "3b59db8a",
   "metadata": {
    "scrolled": true
   },
   "outputs": [
    {
     "name": "stdout",
     "output_type": "stream",
     "text": [
      "-1\n"
     ]
    }
   ],
   "source": [
    "print(challenge.find(\"z\"))\n",
    "\n",
    "# task \n",
    "# find lastIndex of a character"
   ]
  },
  {
   "cell_type": "code",
   "execution_count": 105,
   "id": "69f9a16d",
   "metadata": {
    "scrolled": true
   },
   "outputs": [
    {
     "name": "stdout",
     "output_type": "stream",
     "text": [
      "16\n",
      "17\n"
     ]
    }
   ],
   "source": [
    "# rfind(): Returns the index of the last occurrence of a substring, if not found returns -1\n",
    "\n",
    "challenge = 'thirty days of python'\n",
    "print(challenge.rfind('y'))  # 16\n",
    "print(challenge.rfind('th')) # 17\n"
   ]
  },
  {
   "cell_type": "code",
   "execution_count": null,
   "id": "cec4db2a",
   "metadata": {
    "scrolled": true
   },
   "outputs": [],
   "source": []
  },
  {
   "cell_type": "code",
   "execution_count": 109,
   "id": "92a2d7bc",
   "metadata": {
    "scrolled": true
   },
   "outputs": [
    {
     "name": "stdout",
     "output_type": "stream",
     "text": [
      "5\n",
      "0\n"
     ]
    }
   ],
   "source": [
    "# index(): Returns the lowest index of a substring, additional arguments indicate starting and ending index (default 0 and string length - 1). \n",
    "# If the substring is not found it raises a valueError.\n",
    "\n",
    "challenge = 'thirty days of python'\n",
    "sub_string = 'da'\n",
    "print(challenge.index('y'))  # 7\n",
    "print(challenge.index('th')) #error"
   ]
  },
  {
   "cell_type": "code",
   "execution_count": 110,
   "id": "795889ec",
   "metadata": {
    "scrolled": true
   },
   "outputs": [
    {
     "name": "stdout",
     "output_type": "stream",
     "text": [
      "16\n",
      "16\n"
     ]
    }
   ],
   "source": [
    "print(challenge.rindex(\"y\"))\n",
    "print(challenge.rfind(\"y\"))"
   ]
  },
  {
   "cell_type": "code",
   "execution_count": 111,
   "id": "909609d3",
   "metadata": {
    "scrolled": true
   },
   "outputs": [
    {
     "name": "stdout",
     "output_type": "stream",
     "text": [
      "7\n",
      "16\n"
     ]
    }
   ],
   "source": [
    "# rindex(): Returns the highest index of a substring, additional arguments indicate \n",
    "# starting and ending index (default 0 and string length - 1)\n",
    "\n",
    "challenge = 'thirty days of python'\n",
    "sub_string = 'da'\n",
    "\n",
    "print(challenge.rindex(sub_string))  # 8\n",
    "print(challenge.rindex(\"y\")) # error"
   ]
  },
  {
   "cell_type": "code",
   "execution_count": null,
   "id": "a10eaf9f",
   "metadata": {
    "scrolled": true
   },
   "outputs": [],
   "source": [
    "## POSTIVE if ele/character/sub-string is present\n",
    "find() -- returns lowest index of a sub/character\n",
    "rfind() ---> Returns highest index of a sub/charcter\n",
    "\n",
    "index() ---> returns lowest index of a sub/character\n",
    "rindex()  --> Returns highest index of a sub/charcter\n",
    "\n",
    "\n",
    "# Negative case , if ele/char/sub is not present\n",
    "\n",
    "discard() - Nothing\n",
    "remove() - If ele not there , raise Error\n",
    "\n",
    "\n",
    "find()/rfind() , if ele/char/sub is not there --> -1\n",
    "index()/rindex()  , if ele/char/sub is not there ----> Value Error."
   ]
  },
  {
   "cell_type": "code",
   "execution_count": 112,
   "id": "ffeabe7f",
   "metadata": {},
   "outputs": [
    {
     "name": "stdout",
     "output_type": "stream",
     "text": [
      "5\n",
      "16\n",
      "5\n",
      "16\n",
      "5\n",
      "5\n",
      "5\n",
      "5\n"
     ]
    }
   ],
   "source": [
    "challenge = 'thirty days of python'\n",
    "\n",
    "print(challenge.index(\"y\"))\n",
    "\n",
    "print(challenge.rindex(\"y\"))\n",
    "\n",
    "\n",
    "print(challenge.find(\"y\"))\n",
    "\n",
    "print(challenge.rfind(\"y\"))\n",
    "\n",
    "\n",
    "print(challenge.index(\"y\",0,6))\n",
    "\n",
    "print(challenge.rindex(\"y\",0,6))\n",
    "\n",
    "\n",
    "print(challenge.find(\"y\",0,6))\n",
    "\n",
    "print(challenge.rfind(\"y\",0,6))"
   ]
  },
  {
   "cell_type": "code",
   "execution_count": null,
   "id": "7a33a91f",
   "metadata": {},
   "outputs": [],
   "source": []
  },
  {
   "cell_type": "code",
   "execution_count": null,
   "id": "99a2799e",
   "metadata": {},
   "outputs": [],
   "source": []
  },
  {
   "cell_type": "code",
   "execution_count": 113,
   "id": "2f908fd2",
   "metadata": {
    "scrolled": true
   },
   "outputs": [
    {
     "name": "stdout",
     "output_type": "stream",
     "text": [
      "Thirty Days Of Python\n"
     ]
    }
   ],
   "source": [
    "# title(): Returns a title cased string\n",
    "\n",
    "challenge = 'thirty days of python'\n",
    "print(challenge.title()) # Thirty Days Of Python\n",
    "\n"
   ]
  },
  {
   "cell_type": "code",
   "execution_count": null,
   "id": "f7b52a3f",
   "metadata": {
    "scrolled": true
   },
   "outputs": [],
   "source": []
  },
  {
   "cell_type": "code",
   "execution_count": 114,
   "id": "2891f38a",
   "metadata": {
    "scrolled": true
   },
   "outputs": [
    {
     "name": "stdout",
     "output_type": "stream",
     "text": [
      "THIRTY DAYS OF PYTHON\n",
      "tHIRTY dAYS oF pYTHON\n"
     ]
    }
   ],
   "source": [
    "# swapcase(): Converts all uppercase characters to lowercase and all lowercase characters to uppercase characters\n",
    "\n",
    "challenge = 'thirty days of python'\n",
    "print(challenge.swapcase())   # THIRTY DAYS OF PYTHON\n",
    "\n",
    "challenge = 'Thirty Days Of Python'\n",
    "print(challenge.swapcase())  # tHIRTY dAYS oF pYTHON\n",
    "\n",
    "\n",
    "\n"
   ]
  },
  {
   "cell_type": "code",
   "execution_count": null,
   "id": "110b78a8",
   "metadata": {
    "scrolled": true
   },
   "outputs": [],
   "source": []
  },
  {
   "cell_type": "code",
   "execution_count": 115,
   "id": "a497f2ed",
   "metadata": {
    "scrolled": true
   },
   "outputs": [
    {
     "name": "stdout",
     "output_type": "stream",
     "text": [
      "True\n",
      "False\n"
     ]
    }
   ],
   "source": [
    "# startswith(): Checks if String Starts with the Specified String\n",
    "\n",
    "challenge = 'thirty days of python'\n",
    "print(challenge.startswith('thirty')) # True\n",
    "\n",
    "challenge = '30 days of python'\n",
    "print(challenge.startswith('thirty')) # False\n"
   ]
  },
  {
   "cell_type": "code",
   "execution_count": null,
   "id": "a5639bf9",
   "metadata": {
    "scrolled": true
   },
   "outputs": [],
   "source": []
  },
  {
   "cell_type": "code",
   "execution_count": 121,
   "id": "ededea04",
   "metadata": {
    "scrolled": true
   },
   "outputs": [
    {
     "name": "stdout",
     "output_type": "stream",
     "text": [
      "15\n",
      "5\n",
      "irty days of \n"
     ]
    }
   ],
   "source": [
    "# strip(): Removes all given characters starting from the beginning and end of the string\n",
    "\n",
    "name = \"Kumar          \"\n",
    "\n",
    "print( len(name) )\n",
    "\n",
    "name = name.strip()\n",
    "print( len(name) )\n",
    "\n",
    "\n",
    "challenge = 'thirty days of pythoonnn'\n",
    "print(challenge.strip('python')) # 'irty days of py'\n",
    "\n"
   ]
  },
  {
   "cell_type": "code",
   "execution_count": null,
   "id": "157d239d",
   "metadata": {
    "scrolled": true
   },
   "outputs": [],
   "source": []
  },
  {
   "cell_type": "code",
   "execution_count": 124,
   "id": "5ff5521f",
   "metadata": {
    "scrolled": true
   },
   "outputs": [
    {
     "name": "stdout",
     "output_type": "stream",
     "text": [
      "I Like to code In java\n"
     ]
    }
   ],
   "source": [
    "# replace(): Replaces substring with a given string\n",
    "\n",
    "challenge = 'I Like to code In Python'\n",
    "print(challenge.replace('Python', 'java')) # 'thirty days of coding'"
   ]
  },
  {
   "cell_type": "code",
   "execution_count": null,
   "id": "bbe725d2",
   "metadata": {
    "scrolled": true
   },
   "outputs": [],
   "source": [
    "\n",
    "    "
   ]
  },
  {
   "cell_type": "code",
   "execution_count": 125,
   "id": "87273e0f",
   "metadata": {
    "scrolled": true
   },
   "outputs": [
    {
     "name": "stdout",
     "output_type": "stream",
     "text": [
      "I LIKE TO CODE IN PYTHON\n",
      "i like to code ruby\n",
      "I Like To Code Ruby\n",
      "I like TO code RUBY\n"
     ]
    }
   ],
   "source": [
    "# upper \n",
    "\n",
    "challenge = 'I Like to code In Python' \n",
    "\n",
    "print(challenge.upper())\n",
    "\n",
    "\n",
    "challenge = \"i LIKE to CODE ruby\"\n",
    "\n",
    "print(challenge.lower())\n",
    "\n",
    "\n",
    "print(challenge.title())\n",
    "\n",
    "print(challenge.swapcase())"
   ]
  },
  {
   "cell_type": "code",
   "execution_count": null,
   "id": "184588a3",
   "metadata": {
    "scrolled": true
   },
   "outputs": [],
   "source": []
  },
  {
   "cell_type": "code",
   "execution_count": null,
   "id": "d6fd1c8a",
   "metadata": {
    "scrolled": true
   },
   "outputs": [],
   "source": [
    "# checking methods --> True/False\n",
    "    - validation"
   ]
  },
  {
   "cell_type": "code",
   "execution_count": null,
   "id": "978bff5e",
   "metadata": {},
   "outputs": [],
   "source": [
    "'a'\n",
    "\"10\"\n",
    "\"10.2\"\n",
    "\"Kumar@123\"\n",
    "\n",
    "always starts is keyword ---> True/False\n"
   ]
  },
  {
   "cell_type": "code",
   "execution_count": 127,
   "id": "48772185",
   "metadata": {
    "scrolled": true
   },
   "outputs": [
    {
     "name": "stdout",
     "output_type": "stream",
     "text": [
      "True\n",
      "True\n",
      "False\n",
      "False\n"
     ]
    }
   ],
   "source": [
    "# isalnum(): Checks alphanumeric character(a-zA-Z0-9)\n",
    "\n",
    "challenge = 'ThirtyDaysPython'\n",
    "print(challenge.isalnum()) # True\n",
    "\n",
    "challenge = '30DaysPython'\n",
    "print(challenge.isalnum()) # True\n",
    "\n",
    "challenge = 'thirty days of python'\n",
    "print(challenge.isalnum()) # False, space is not an alphanumeric character\n",
    "\n",
    "challenge = 'thirtydaysofpython,2019'\n",
    "print(challenge.isalnum()) # False"
   ]
  },
  {
   "cell_type": "code",
   "execution_count": null,
   "id": "d513da79",
   "metadata": {
    "scrolled": true
   },
   "outputs": [],
   "source": []
  },
  {
   "cell_type": "code",
   "execution_count": 128,
   "id": "3e5867b5",
   "metadata": {
    "scrolled": true
   },
   "outputs": [
    {
     "name": "stdout",
     "output_type": "stream",
     "text": [
      "False\n",
      "True\n",
      "False\n"
     ]
    }
   ],
   "source": [
    "# isalpha(): Checks if all string elements are alphabet characters (a-z and A-Z)\n",
    "\n",
    "challenge = 'thirty days of python'\n",
    "print(challenge.isalpha()) # False, space is once again excluded\n",
    "\n",
    "challenge = 'ThirtyDaysPython'\n",
    "print(challenge.isalpha()) # True\n",
    "\n",
    "num = '123akkak'\n",
    "print(num.isalpha())      # False\n",
    "\n"
   ]
  },
  {
   "cell_type": "code",
   "execution_count": null,
   "id": "1a2516de",
   "metadata": {
    "scrolled": true
   },
   "outputs": [],
   "source": []
  },
  {
   "cell_type": "code",
   "execution_count": null,
   "id": "3907c8a8",
   "metadata": {
    "scrolled": true
   },
   "outputs": [],
   "source": []
  },
  {
   "cell_type": "code",
   "execution_count": 129,
   "id": "e41430ca",
   "metadata": {
    "scrolled": true
   },
   "outputs": [
    {
     "name": "stdout",
     "output_type": "stream",
     "text": [
      "False\n",
      "True\n",
      "True\n",
      "False\n"
     ]
    }
   ],
   "source": [
    "# isdecimal(): Checks if all characters in a string are decimal (0-9)\n",
    "\n",
    "challenge = 'thirty days of python'\n",
    "print(challenge.isdecimal())  # False\n",
    "\n",
    "challenge = '123'\n",
    "print(challenge.isdecimal())  # True\n",
    "\n",
    "challenge = '\\u00B2'\n",
    "print(challenge.isdigit())   # True\n",
    "\n",
    "challenge = '12 3'\n",
    "print(challenge.isdecimal())  # False, space not allowed\n",
    "\n",
    "\n"
   ]
  },
  {
   "cell_type": "code",
   "execution_count": null,
   "id": "b03e5fec",
   "metadata": {
    "scrolled": true
   },
   "outputs": [],
   "source": []
  },
  {
   "cell_type": "code",
   "execution_count": 130,
   "id": "e86ba1ff",
   "metadata": {
    "scrolled": true
   },
   "outputs": [
    {
     "name": "stdout",
     "output_type": "stream",
     "text": [
      "False\n",
      "True\n",
      "True\n"
     ]
    }
   ],
   "source": [
    "# isdigit(): Checks if all characters in a string are numbers (0-9 and some other unicode characters for numbers)\n",
    "\n",
    "challenge = 'Thirty'\n",
    "print(challenge.isdigit()) # False\n",
    "\n",
    "challenge = '30'\n",
    "print(challenge.isdigit())   # True\n",
    "\n",
    "challenge = '\\u00B2'\n",
    "print(challenge.isdigit())   # True"
   ]
  },
  {
   "cell_type": "code",
   "execution_count": null,
   "id": "28d879f5",
   "metadata": {
    "scrolled": true
   },
   "outputs": [],
   "source": [
    "special_char = \" !@#$%^&*(){}[]\""
   ]
  },
  {
   "cell_type": "code",
   "execution_count": 131,
   "id": "78f86c31",
   "metadata": {
    "scrolled": true
   },
   "outputs": [
    {
     "name": "stdout",
     "output_type": "stream",
     "text": [
      "True\n",
      "True\n",
      "False\n"
     ]
    }
   ],
   "source": [
    "# isnumeric(): Checks if all characters in a string are numbers or number related (just like isdigit(), just accepts more symbols, like ½)\n",
    "\n",
    "num = '10'\n",
    "print(num.isnumeric()) # True\n",
    "\n",
    "num = '\\u00BD' # ½\n",
    "print(num.isnumeric()) # True\n",
    "\n",
    "num = '10.5'\n",
    "print(num.isnumeric()) # False\n"
   ]
  },
  {
   "cell_type": "code",
   "execution_count": null,
   "id": "67c830c0",
   "metadata": {
    "scrolled": true
   },
   "outputs": [],
   "source": [
    "VARIABLS_RULES\n",
    "=======================\n",
    "1. starts with letters or _ \n",
    "2. can't start with numbers\n",
    "3. No keywords \n",
    "4. we can have combination of alpha+numeric+_\n",
    "5. case sensitive "
   ]
  },
  {
   "cell_type": "code",
   "execution_count": 132,
   "id": "a1510ccd",
   "metadata": {
    "scrolled": true
   },
   "outputs": [
    {
     "name": "stdout",
     "output_type": "stream",
     "text": [
      "False\n",
      "True\n"
     ]
    }
   ],
   "source": [
    "# isidentifier(): Checks for a valid identifier - it checks if a string is a valid variable name\n",
    "\n",
    "challenge = '30DaysOfPython'\n",
    "print(challenge.isidentifier()) # False, because it starts with a number\n",
    "\n",
    "challenge = 'thirty_days_of_python'\n",
    "print(challenge.isidentifier()) # True"
   ]
  },
  {
   "cell_type": "code",
   "execution_count": 134,
   "id": "8f1d8c53",
   "metadata": {
    "scrolled": true
   },
   "outputs": [
    {
     "name": "stdout",
     "output_type": "stream",
     "text": [
      "False\n"
     ]
    }
   ],
   "source": [
    "print(\"Java-version30\".isidentifier())"
   ]
  },
  {
   "cell_type": "code",
   "execution_count": null,
   "id": "078e26a5",
   "metadata": {},
   "outputs": [],
   "source": []
  },
  {
   "cell_type": "code",
   "execution_count": null,
   "id": "731a6b4d",
   "metadata": {},
   "outputs": [],
   "source": []
  },
  {
   "cell_type": "code",
   "execution_count": 135,
   "id": "f9bf400a",
   "metadata": {
    "scrolled": true
   },
   "outputs": [
    {
     "name": "stdout",
     "output_type": "stream",
     "text": [
      "True\n",
      "False\n",
      "False\n",
      "True\n"
     ]
    }
   ],
   "source": [
    "# islower(): Checks if all alphabet characters in the string are lowercase\n",
    "\n",
    "# isupper(): Checks if all alphabet characters in the string are uppercase\n",
    "\n",
    "\n",
    "challenge = 'string methods'\n",
    "print(challenge.islower()) # True\n",
    "\n",
    "challenge = 'MetaVerse'\n",
    "print(challenge.islower()) # False\n",
    "\n",
    "\n",
    "challenge = 'Python Is OOPs Lang'\n",
    "print(challenge.isupper()) #  False\n",
    "\n",
    "challenge = 'PYTHON VERSION'\n",
    "print(challenge.isupper()) # True"
   ]
  },
  {
   "cell_type": "code",
   "execution_count": null,
   "id": "e332d8a2",
   "metadata": {
    "scrolled": true
   },
   "outputs": [],
   "source": []
  },
  {
   "cell_type": "code",
   "execution_count": 139,
   "id": "1effd258",
   "metadata": {
    "scrolled": true
   },
   "outputs": [
    {
     "name": "stdout",
     "output_type": "stream",
     "text": [
      "['python', 'is', 'interprted', 'functional', 'scripting', 'language']\n",
      "['current', 'version', 'of', 'python', '3.12']\n"
     ]
    }
   ],
   "source": [
    "# split(): Splits the string, using given string or space as a separator\n",
    "\n",
    "challenge = 'python is interprted functional scripting language'\n",
    "print(challenge.split()) #str - list\n",
    "\n",
    "challenge = 'current,version,of,python,3.12'\n",
    "print(challenge.split(',')) #str --list"
   ]
  },
  {
   "cell_type": "code",
   "execution_count": 140,
   "id": "2fa62fe1",
   "metadata": {},
   "outputs": [
    {
     "name": "stdout",
     "output_type": "stream",
     "text": [
      "['Fenil', 'is', 'a', 'python student']\n"
     ]
    }
   ],
   "source": [
    "example = \"Fenil.is.a.python student\"\n",
    "print(example.split('.'))"
   ]
  },
  {
   "cell_type": "code",
   "execution_count": 141,
   "id": "64b03782",
   "metadata": {},
   "outputs": [
    {
     "name": "stdout",
     "output_type": "stream",
     "text": [
      "['Kumar', 'Rajamoni']\n",
      "['A', 'l', 'e', 'x']\n"
     ]
    }
   ],
   "source": [
    "name = \"Kumar Rajamoni\"\n",
    "\n",
    "print(name.split())\n",
    "\n",
    "name = \"A l e x\"\n",
    "print(name.split())"
   ]
  },
  {
   "cell_type": "code",
   "execution_count": null,
   "id": "b15fe280",
   "metadata": {},
   "outputs": [],
   "source": []
  },
  {
   "cell_type": "code",
   "execution_count": null,
   "id": "d219c216",
   "metadata": {
    "scrolled": true
   },
   "outputs": [],
   "source": [
    "# join(): Returns a concatenated string\n",
    "\n",
    "web_tech = ['HTML', 'CSS', 'JavaScript', 'React']\n",
    " \n",
    "result = ' '.join(web_tech) #list -- str\n",
    "print(result) "
   ]
  },
  {
   "cell_type": "code",
   "execution_count": null,
   "id": "d3aaf096",
   "metadata": {},
   "outputs": [],
   "source": []
  },
  {
   "cell_type": "code",
   "execution_count": null,
   "id": "6ace49fa",
   "metadata": {
    "scrolled": true
   },
   "outputs": [],
   "source": [
    "web_tech = ['HTML', 'CSS', 'JavaScript', 'React']\n",
    " \n",
    "result = '-->'.join(web_tech) #list -- str\n",
    "print(result) "
   ]
  },
  {
   "cell_type": "code",
   "execution_count": null,
   "id": "ebc3fc02",
   "metadata": {
    "scrolled": true
   },
   "outputs": [],
   "source": []
  },
  {
   "cell_type": "code",
   "execution_count": null,
   "id": "0c73398e",
   "metadata": {
    "scrolled": true
   },
   "outputs": [],
   "source": [
    "  \n"
   ]
  },
  {
   "cell_type": "markdown",
   "id": "e3a28b1f",
   "metadata": {},
   "source": [
    "### Try these?\n",
    "\n",
    "#### 1. take a string from input/keyword.\n",
    " ex: i like to code in python \n",
    "    \n",
    "    1. print length\n",
    "    \n",
    "    2. print only spaces counts\n",
    "    \n",
    "    3. print only length without spaces\n",
    "    \n",
    "    4. print word count\n",
    "    \n",
    "    \n",
    "##### 2. read multiple integer/float values through input() method"
   ]
  },
  {
   "cell_type": "code",
   "execution_count": 4,
   "id": "fe0121ba",
   "metadata": {},
   "outputs": [
    {
     "name": "stdout",
     "output_type": "stream",
     "text": [
      "enter the marks 10,20,30\n"
     ]
    },
    {
     "ename": "TypeError",
     "evalue": "int() argument must be a string, a bytes-like object or a real number, not 'list'",
     "output_type": "error",
     "traceback": [
      "\u001b[1;31m---------------------------------------------------------------------------\u001b[0m",
      "\u001b[1;31mTypeError\u001b[0m                                 Traceback (most recent call last)",
      "Cell \u001b[1;32mIn[4], line 1\u001b[0m\n\u001b[1;32m----> 1\u001b[0m studentMarks \u001b[38;5;241m=\u001b[39m \u001b[38;5;28;43mint\u001b[39;49m\u001b[43m(\u001b[49m\u001b[38;5;28;43mlist\u001b[39;49m\u001b[43m(\u001b[49m\u001b[38;5;28;43minput\u001b[39;49m\u001b[43m(\u001b[49m\u001b[38;5;124;43m\"\u001b[39;49m\u001b[38;5;124;43menter the marks \u001b[39;49m\u001b[38;5;124;43m\"\u001b[39;49m\u001b[43m)\u001b[49m\u001b[43m)\u001b[49m\u001b[43m)\u001b[49m\n",
      "\u001b[1;31mTypeError\u001b[0m: int() argument must be a string, a bytes-like object or a real number, not 'list'"
     ]
    }
   ],
   "source": [
    "studentMarks = int(list(input(\"enter the marks \")))\n"
   ]
  },
  {
   "cell_type": "code",
   "execution_count": null,
   "id": "8d029098",
   "metadata": {},
   "outputs": [],
   "source": []
  },
  {
   "cell_type": "code",
   "execution_count": null,
   "id": "c4061a01",
   "metadata": {},
   "outputs": [],
   "source": []
  },
  {
   "cell_type": "markdown",
   "id": "9b8dd872",
   "metadata": {},
   "source": [
    "### doubts\n"
   ]
  },
  {
   "cell_type": "code",
   "execution_count": null,
   "id": "73c0031c",
   "metadata": {},
   "outputs": [],
   "source": [
    "\n",
    "\n",
    "num = \"1000\"\n",
    "\n",
    "print(type(num))\n",
    "\n",
    "numint = int(num)\n",
    "\n",
    "print(type(numint))"
   ]
  },
  {
   "cell_type": "code",
   "execution_count": null,
   "id": "209b0187",
   "metadata": {},
   "outputs": [],
   "source": [
    "num = \"1000a\"\n",
    "\n",
    "print(type(num))\n",
    "\n",
    "numint = int(num)\n",
    "\n",
    "print(type(numint))"
   ]
  },
  {
   "cell_type": "code",
   "execution_count": null,
   "id": "65fb4326",
   "metadata": {},
   "outputs": [],
   "source": [
    "print(int('10a'))"
   ]
  },
  {
   "cell_type": "code",
   "execution_count": null,
   "id": "ab5b1c11",
   "metadata": {},
   "outputs": [],
   "source": [
    "num1 = int(input(\"enter a num1: \"))"
   ]
  },
  {
   "cell_type": "code",
   "execution_count": null,
   "id": "84ab303f",
   "metadata": {},
   "outputs": [],
   "source": [
    "str -- int  #  incoming data should be valid decimal nums\n",
    "str - float  # incoming data should be valid float nums\n",
    "\n"
   ]
  },
  {
   "cell_type": "code",
   "execution_count": null,
   "id": "c2a69a56",
   "metadata": {},
   "outputs": [],
   "source": [
    "print(float(\"100.2a\"))"
   ]
  },
  {
   "cell_type": "code",
   "execution_count": null,
   "id": "42b2cfd5",
   "metadata": {},
   "outputs": [],
   "source": [
    "stud = {\n",
    "    \"name\" : 'kumar',\n",
    "    'college' : 'NIT',\n",
    "    'fee' : 10920.390,\n",
    "    'name' : 'Avan',\n",
    "    'fee' : 10000\n",
    "    \n",
    "}"
   ]
  },
  {
   "cell_type": "code",
   "execution_count": null,
   "id": "27d6fd18",
   "metadata": {},
   "outputs": [],
   "source": [
    "print(stud)"
   ]
  },
  {
   "cell_type": "markdown",
   "id": "caac1209",
   "metadata": {},
   "source": [
    "### Check Palindromes\n",
    "- civic, madam, radar,and deified.\n",
    "\n",
    "- Read a input from keyboard.\n",
    "- check whether string palindrome or not..\n",
    "   \n",
    "   if yes - True\n",
    "    No - False\n"
   ]
  },
  {
   "cell_type": "code",
   "execution_count": null,
   "id": "c948090b",
   "metadata": {},
   "outputs": [],
   "source": [
    "string = input('enter a string: ')\n",
    "\n",
    "rev_str = string[::-1]\n",
    "\n",
    "if string == rev_str:\n",
    "    print('Palindrome ')\n",
    "else:\n",
    "    print('Not a Palindrome')"
   ]
  },
  {
   "cell_type": "code",
   "execution_count": null,
   "id": "03db3133",
   "metadata": {},
   "outputs": [],
   "source": [
    "# GeeksforGeeks "
   ]
  },
  {
   "cell_type": "markdown",
   "id": "1b86caeb",
   "metadata": {},
   "source": [
    "### Check Pangrams\n",
    "\n",
    "- a sentence that contains every letter of the alphabet\n",
    "ex: \n",
    " ```\n",
    "\"Waltz, bad nymph, for quick jigs vex.\" (28 letters)\n",
    "\"Glib jocks quiz nymph to vex dwarf.\" (28 letters)\n",
    "\"Sphinx of black quartz, judge my vow.\" (29 letters)\n",
    "\"How quickly daft jumping zebras vex!\" (30 letters)\n",
    "\"The five boxing wizards jump quickly.\" (31 letters)\n",
    "\n",
    "```"
   ]
  },
  {
   "cell_type": "code",
   "execution_count": null,
   "id": "8224b97f",
   "metadata": {},
   "outputs": [],
   "source": [
    "sen = input('enter a line : ')\n",
    "\n",
    "sen = sen.replace(\" \",\"\")\n",
    "sen = sen.replace(\",\",\"\")\n",
    "sen = sen.replace(\".\",\"\")\n",
    "\n",
    "print(sen,len(sen))\n",
    "sen = set(sen) #coverting into set \n",
    "\n",
    "if (len(sen) >= 26):\n",
    "    print('True')\n",
    "else:\n",
    "    print('False')"
   ]
  },
  {
   "cell_type": "code",
   "execution_count": null,
   "id": "8d93b53a",
   "metadata": {},
   "outputs": [],
   "source": []
  }
 ],
 "metadata": {
  "kernelspec": {
   "display_name": "Python 3 (ipykernel)",
   "language": "python",
   "name": "python3"
  },
  "language_info": {
   "codemirror_mode": {
    "name": "ipython",
    "version": 3
   },
   "file_extension": ".py",
   "mimetype": "text/x-python",
   "name": "python",
   "nbconvert_exporter": "python",
   "pygments_lexer": "ipython3",
   "version": "3.10.9"
  }
 },
 "nbformat": 4,
 "nbformat_minor": 5
}
