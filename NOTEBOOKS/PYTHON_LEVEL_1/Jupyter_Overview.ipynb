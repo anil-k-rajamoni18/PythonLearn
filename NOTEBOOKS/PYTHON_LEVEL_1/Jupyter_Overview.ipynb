{
 "cells": [
  {
   "cell_type": "markdown",
   "id": "81274baf",
   "metadata": {},
   "source": [
    "![image](https://pythonnumericalmethods.berkeley.edu/_images/01.04.01-jupyter_dashboard.png)\n",
    "\n",
    "\n",
    "- MODES\n",
    "\t- Command Mode --> Blue color\n",
    "\t\t- we do all commands \n",
    "\t\t- press esc : to enable \n",
    "\t\t- commands\n",
    "                b - insertion below\n",
    "                a - insertiion above\n",
    "                d - deletion\n",
    "                c - copy\n",
    "                v - paste \n",
    "                shift+enter : run the cell\n",
    "                z - undo\n",
    "\n",
    "\t- Edit Mode  --> Green color\n",
    "\t\t- we write python code\n",
    "\t- MarkDown --> Blue color, but not cell numbering\n",
    "\t\t- we write notes.\n",
    "\t\t- enable to command mode then press m "
   ]
  },
  {
   "cell_type": "markdown",
   "id": "5c55ff12",
   "metadata": {},
   "source": []
  },
  {
   "cell_type": "markdown",
   "id": "b82c6d97",
   "metadata": {},
   "source": [
    "### Jupyter Notebook Introduction\n",
    "\n",
    "- It's client and server model \n",
    "- We can start the server by using jupyter notebook command \n",
    "- UI will be opened in default browser on *port 8888*\n",
    "- It's a **web based intreprter** \n",
    "- It's multi language kernal , by default shipped only python kernal\n",
    "\n",
    "- Example :\n",
    "\n",
    "\n",
    "![image](https://pythonnumericalmethods.berkeley.edu/_images/01.04.02-within_notebook.png)"
   ]
  },
  {
   "cell_type": "code",
   "execution_count": null,
   "id": "89baad1e",
   "metadata": {},
   "outputs": [],
   "source": []
  },
  {
   "cell_type": "code",
   "execution_count": null,
   "id": "3651294d",
   "metadata": {},
   "outputs": [],
   "source": []
  },
  {
   "cell_type": "code",
   "execution_count": null,
   "id": "ebc9fcd4",
   "metadata": {},
   "outputs": [],
   "source": []
  },
  {
   "cell_type": "markdown",
   "id": "fa966fcd",
   "metadata": {},
   "source": [
    "### QUESTIONS.\n",
    "    - how python will identify the characters and converting into binary? \n",
    "        name =\"vamshi\" --> binary \n",
    "     - how modulus operator is working?\n",
    " - **variables**\n",
    "\n",
    "*italicized text*\n",
    "\n",
    "> Today Expert is once a beginner\n",
    "\n",
    "1. First item\n",
    "2. Second item\n",
    "3. Third item\n",
    "\n",
    "\n",
    "- First item\n",
    "- Second item\n",
    "- Third item\n",
    "\n",
    "\n",
    "\n",
    "| Syntax | Description |\n",
    "| ----------- | ----------- |\n",
    "| Header | Title |\n",
    "| Paragraph | Text | \n",
    "\n",
    "\n",
    "\n",
    "![alt text](https://images.unsplash.com/photo-1680001660273-2a78887352a2?ixlib=rb-4.0.3&ixid=MnwxMjA3fDB8MHxwaG90by1wYWdlfHx8fGVufDB8fHx8&auto=format&fit=crop&w=1248&q=80)"
   ]
  },
  {
   "cell_type": "markdown",
   "id": "334e64b8",
   "metadata": {},
   "source": [
    "Find all cheatsheet\n",
    "https://www.markdownguide.org/cheat-sheet/"
   ]
  },
  {
   "cell_type": "code",
   "execution_count": null,
   "id": "59ba5203",
   "metadata": {},
   "outputs": [],
   "source": [
    "# - Git and GitHub\n",
    "# - Compiler Vs Interpreter"
   ]
  },
  {
   "cell_type": "code",
   "execution_count": null,
   "id": "6d8c9975",
   "metadata": {},
   "outputs": [],
   "source": [
    "name = \"Shivani\"\n",
    "\n",
    "print('My name is ' , name)\n",
    "\n",
    "fNum1 = 10\n",
    "sNum2 = 20\n",
    "\n",
    "print('Addition is :',fNum1 + sNum2)"
   ]
  },
  {
   "cell_type": "code",
   "execution_count": null,
   "id": "7c2634d6",
   "metadata": {},
   "outputs": [],
   "source": [
    "greet = \"Hello Good Morning\"\n",
    "\n",
    "print(greet)\n",
    "\n",
    "\n",
    "greet1 = \"हैलो सुप्रभात\"\n",
    "print(greet1)\n",
    "\n",
    "greet2 = \"హలో శుభోదయం\"\n",
    "print(greet2)"
   ]
  },
  {
   "cell_type": "code",
   "execution_count": null,
   "id": "212e55c9",
   "metadata": {},
   "outputs": [],
   "source": []
  },
  {
   "cell_type": "markdown",
   "id": "2457f1e4",
   "metadata": {},
   "source": [
    "### Py2 vs Py3\n",
    "\n",
    "\n",
    "| Py2 | Py3 |\n",
    "| ----------- | ----------- |\n",
    "| - Stores String in ASCII | - Stores Strings in UNICODE |\n",
    "| - Release in 2000 | - release in 2010 | \n",
    "| - print is statement in py2 | - print() is a function | \n",
    "| - In Py2 / will interger result | - In Py3 / will give floating result | \n",
    "| - In Py2 less package support | - In Py3 more support for packages| \n",
    "| - Exceptions closed in \"\" | - Exceptions are closed in () | \n",
    "\n"
   ]
  },
  {
   "cell_type": "markdown",
   "id": "674b3843",
   "metadata": {},
   "source": [
    "#### ASCII -- American standard code for information interchange\n",
    "- ASCII encodes symbols, digits, letters\n",
    "- LIMIT : 2^8 --> 256 locations\n",
    "\n",
    "\n",
    "\n",
    "\n",
    "##### UNICODE \n",
    "- LIMIT 2^16 --> 65536 locations.\n",
    "-  Unicode encodes special texts from different languages, letters, symbols, etc."
   ]
  },
  {
   "cell_type": "code",
   "execution_count": null,
   "id": "1151d11f",
   "metadata": {},
   "outputs": [],
   "source": [
    "# ord(character) -- will display numeric/decimal mapped value of a character\n",
    "# chr(number) -> will display a character of mapped number"
   ]
  },
  {
   "cell_type": "code",
   "execution_count": 7,
   "id": "6637c9c7",
   "metadata": {},
   "outputs": [
    {
     "name": "stdout",
     "output_type": "stream",
     "text": [
      "65 90 97 122 48 57 32\n"
     ]
    }
   ],
   "source": [
    "print(ord(\"A\") ,ord(\"Z\") , ord(\"a\") , ord(\"z\") , ord(\"0\") , ord(\"9\") , ord(\" \"))"
   ]
  },
  {
   "cell_type": "code",
   "execution_count": 9,
   "id": "9e17be0a",
   "metadata": {},
   "outputs": [
    {
     "name": "stdout",
     "output_type": "stream",
     "text": [
      "Z A\n"
     ]
    }
   ],
   "source": [
    "print(chr(90), chr(65))"
   ]
  },
  {
   "cell_type": "code",
   "execution_count": null,
   "id": "794b0a05",
   "metadata": {},
   "outputs": [],
   "source": [
    "name = \"Shivani\"\n",
    "\n",
    "for ch in name:\n",
    "    print(ch , ord(ch))\n"
   ]
  },
  {
   "cell_type": "code",
   "execution_count": null,
   "id": "fba4df5f",
   "metadata": {},
   "outputs": [],
   "source": [
    "print(chr(78))"
   ]
  },
  {
   "cell_type": "code",
   "execution_count": null,
   "id": "a22e1372",
   "metadata": {},
   "outputs": [],
   "source": [
    "#output function/method \n",
    "\n",
    "\n",
    "syntax: print(value, ..., sep=' ', end='\\n', file=sys.stdout, flush=False)\n",
    "\n",
    "attributes:\n",
    "    value \n",
    "    sep = ' '  --> more than one value/variable\n",
    "    end = '\\n' --> loops \n",
    "    file = sys.stdout ---> when we want to print value in files.\n",
    "    flush = False"
   ]
  },
  {
   "cell_type": "code",
   "execution_count": 10,
   "id": "c66dafe1",
   "metadata": {},
   "outputs": [
    {
     "name": "stdout",
     "output_type": "stream",
     "text": [
      "Hello Everyone\n"
     ]
    }
   ],
   "source": [
    "print('Hello Everyone')"
   ]
  },
  {
   "cell_type": "code",
   "execution_count": 12,
   "id": "1b47a78d",
   "metadata": {},
   "outputs": [
    {
     "name": "stdout",
     "output_type": "stream",
     "text": [
      "10 kumar 190 6726\n"
     ]
    }
   ],
   "source": [
    "a = 10\n",
    "name = \"kumar\"\n",
    "num1 = 190\n",
    "num2 = 6726\n",
    "print(a,name,num1,num2)\n"
   ]
  },
  {
   "cell_type": "code",
   "execution_count": 13,
   "id": "7022af20",
   "metadata": {},
   "outputs": [
    {
     "name": "stdout",
     "output_type": "stream",
     "text": [
      "10 , kumar , 6726 , 6726\n"
     ]
    }
   ],
   "source": [
    "print(a,name,num2,num2,sep= \" , \")"
   ]
  },
  {
   "cell_type": "code",
   "execution_count": 14,
   "id": "fc8d815c",
   "metadata": {},
   "outputs": [],
   "source": [
    "# creates a new file\n",
    "demoFile = open(\"demo.txt\",mode=\"a\")\n",
    "\n",
    "print(a,name,num1,num2,sep= \"\\n\", file=demoFile)"
   ]
  },
  {
   "cell_type": "code",
   "execution_count": null,
   "id": "fad03bcb",
   "metadata": {},
   "outputs": [],
   "source": []
  },
  {
   "cell_type": "markdown",
   "id": "1f5c269b",
   "metadata": {},
   "source": [
    "#### Try these"
   ]
  },
  {
   "cell_type": "code",
   "execution_count": 15,
   "id": "cfd3315e",
   "metadata": {},
   "outputs": [
    {
     "name": "stdout",
     "output_type": "stream",
     "text": [
      "hello\n",
      "None\n"
     ]
    }
   ],
   "source": [
    "a = print(\"hello\")\n",
    "print(a)"
   ]
  },
  {
   "cell_type": "code",
   "execution_count": 16,
   "id": "e9679612",
   "metadata": {},
   "outputs": [
    {
     "name": "stdout",
     "output_type": "stream",
     "text": [
      "Hello June\n",
      "None\n"
     ]
    }
   ],
   "source": [
    "print(print(\"Hello June\"))"
   ]
  },
  {
   "cell_type": "code",
   "execution_count": null,
   "id": "1067bafa",
   "metadata": {},
   "outputs": [],
   "source": []
  },
  {
   "cell_type": "code",
   "execution_count": null,
   "id": "d004870c",
   "metadata": {},
   "outputs": [],
   "source": []
  },
  {
   "cell_type": "markdown",
   "id": "a4673338",
   "metadata": {},
   "source": [
    "# What is Git ?\n",
    "- Git is distributed version control system\n",
    "- introduced in 2005\n",
    "- developed by Linus Trovald"
   ]
  },
  {
   "cell_type": "code",
   "execution_count": null,
   "id": "aa9e084d",
   "metadata": {},
   "outputs": [],
   "source": []
  },
  {
   "cell_type": "code",
   "execution_count": null,
   "id": "945395f4",
   "metadata": {},
   "outputs": [],
   "source": []
  }
 ],
 "metadata": {
  "kernelspec": {
   "display_name": "Python 3 (ipykernel)",
   "language": "python",
   "name": "python3"
  },
  "language_info": {
   "codemirror_mode": {
    "name": "ipython",
    "version": 3
   },
   "file_extension": ".py",
   "mimetype": "text/x-python",
   "name": "python",
   "nbconvert_exporter": "python",
   "pygments_lexer": "ipython3",
   "version": "3.10.9"
  }
 },
 "nbformat": 4,
 "nbformat_minor": 5
}
