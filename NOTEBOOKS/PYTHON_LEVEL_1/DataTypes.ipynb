{
 "cells": [
  {
   "cell_type": "markdown",
   "id": "f5e4116d",
   "metadata": {},
   "source": [
    "## Data Types\n",
    "    - Which defines the data and representation of real world data.\n",
    "    - In python we have various types .\n",
    "    \n",
    "    \n",
    "##### Number\n",
    "- Integer: Integer(negative, zero and positive) numbers Example: ... -3, -2, -1, 0, 1, 2, 3 ...\n",
    "- Float: Decimal number Example ... -3.5, -2.25, -1.0, 0.0, 1.1, 2.2, 3.5 ...\n",
    "- Complex Example 1 + j, 2 + 4j\n",
    "\n",
    "\n",
    "##### String\n",
    " - A collection of one or more characters under a single or double quote. If a string is more than one sentence then we use a triple quote.\n",
    "\n",
    "Example:\n",
    "\n",
    "    'Asabeneh'\n",
    "    'Finland'\n",
    "    'Python'\n",
    "    'I love teaching'\n",
    "    'I hope you are enjoying the first day of 30DaysOfPython Challenge'\n",
    "\n",
    "\n",
    "#### Booleans\n",
    "- A boolean data type is either a True or False value. T and F should be always uppercase.\n",
    "\n",
    "Example:\n",
    "\n",
    "    True  #  Is the light on? If it is on, then the value is True\n",
    "    \n",
    "    False # Is the light on? If it is off, then the value is False\n",
    "    \n",
    "#### List\n",
    "Python list is an ordered collection which allows to store different data type items. A list is similar to an array in JavaScript.\n",
    "\n",
    "    Example:\n",
    "\n",
    "    [0, 1, 2, 3, 4, 5]  # all are the same data types - a list of numbers\n",
    "    ['Banana', 'Orange', 'Mango', 'Avocado'] # all the same data types - a list of strings (fruits)\n",
    "    ['Finland','Estonia', 'Sweden','Norway'] # all the same data types - a list of strings (countries)\n",
    "    ['Banana', 10, False, 9.81] # different data types in the list - string, integer, boolean and float\n",
    "    \n",
    "\n",
    "#### Tuple\n",
    " > A tuple is an ordered collection of different data types like list but tuples can not be modified once they are created. They are immutable.\n",
    " \n",
    " \n",
    "     Example:\n",
    "     ('Earth', 'Jupiter', 'Neptune', 'Mars', 'Venus', 'Saturn', 'Uranus', 'Mercury') # planets\n",
    "     \n",
    "     \n",
    "### Set\n",
    "A set is a collection of data types similar to list and tuple. Unlike list and tuple, set is not an ordered collection of items. Like in Mathematics, set in Python stores only unique items.\n",
    "\n",
    "        Example:\n",
    "\n",
    "        {2, 4, 3, 5}\n",
    "        {3.14, 9.81, 2.7} # order is not important in set\n",
    "        \n",
    "        \n",
    "#### Dictionary\n",
    "A Python dictionary object is an ordered collection of data in a key value pair format.\n",
    "\n",
    "    Example:\n",
    "\n",
    "    {\n",
    "    'cricketTeamName':'India',\n",
    "    'Captain':'RS',\n",
    "    'country':'India', \n",
    "    'year':2022, \n",
    "    'is_top20':True,\n",
    "    'Players':['Virat', 'Rohit', 'Bhu', 'Python']\n",
    "    }"
   ]
  },
  {
   "cell_type": "markdown",
   "id": "8214c48e",
   "metadata": {},
   "source": [
    "#### INDEXING SUPPORTED Datatypes\n",
    "- list\n",
    "- tuple\n",
    "- str\n",
    "\n",
    "#### Index not supported Datatypes\n",
    "- set\n",
    "- dictionary"
   ]
  },
  {
   "cell_type": "code",
   "execution_count": 8,
   "id": "6948d177",
   "metadata": {},
   "outputs": [
    {
     "name": "stdout",
     "output_type": "stream",
     "text": [
      "['alex', 'groot', 'tony', 'shark']\n",
      "groot\n",
      "shark\n"
     ]
    }
   ],
   "source": [
    "studentNames = [\"alex\", \"groot\", \"tony\", \"shark\"]\n",
    "print(studentNames)\n",
    "print(studentNames[1])\n",
    "print(studentNames[-1])"
   ]
  },
  {
   "cell_type": "code",
   "execution_count": 10,
   "id": "07f7f857",
   "metadata": {},
   "outputs": [
    {
     "name": "stdout",
     "output_type": "stream",
     "text": [
      "{'yellow', 'red', 'green', 'blue'}\n"
     ]
    }
   ],
   "source": [
    "colors = {\"red\", \"blue\", \"red\", \"green\", \"yellow\", \"blue\"}\n",
    "print(colors)"
   ]
  },
  {
   "cell_type": "markdown",
   "id": "783a0fab",
   "metadata": {},
   "source": [
    "### Integers \n",
    "    - any postive or negative whole numbers (-0 ,1 ,9 ,11)\n",
    "    \n",
    "  "
   ]
  },
  {
   "cell_type": "code",
   "execution_count": null,
   "id": "cdf06146",
   "metadata": {},
   "outputs": [],
   "source": []
  },
  {
   "cell_type": "code",
   "execution_count": null,
   "id": "6f3ebcb5",
   "metadata": {},
   "outputs": [],
   "source": []
  },
  {
   "cell_type": "code",
   "execution_count": 11,
   "id": "90dfdd8d",
   "metadata": {
    "scrolled": true
   },
   "outputs": [
    {
     "name": "stdout",
     "output_type": "stream",
     "text": [
      "-1000000000000000000000000000000000000000000000000000000000000000000000000000000000000000000000000000000000000000000 <class 'int'>\n"
     ]
    }
   ],
   "source": [
    "intVar = -1000000000000000000000000000000000000000000000000000000000000000000000000000000000000000000000000000000000000000000\n",
    "\n",
    "print(intVar, type(intVar))"
   ]
  },
  {
   "cell_type": "code",
   "execution_count": 12,
   "id": "7b4fe362",
   "metadata": {
    "scrolled": true
   },
   "outputs": [
    {
     "name": "stdout",
     "output_type": "stream",
     "text": [
      "1029\n",
      "<class 'int'>\n"
     ]
    }
   ],
   "source": [
    "intVar2 = 1029\n",
    "print(intVar2)\n",
    "print(type(intVar2))"
   ]
  },
  {
   "cell_type": "markdown",
   "id": "a7723b94",
   "metadata": {},
   "source": [
    "    Binary          0b or 0B  - bin()\n",
    "    Octal           0o or 0O - oct()\n",
    "    hexdecimal     0x or 0X  - hex()"
   ]
  },
  {
   "cell_type": "code",
   "execution_count": null,
   "id": "1c1499fd",
   "metadata": {},
   "outputs": [],
   "source": [
    "8BIT REPRESENTATION(0-255)\n",
    "========================\n",
    "\n",
    "locations : 7   6  5  4  3  2 1 0 \n",
    "values:     128 64 32 16 8  4 2 1 (2^loc)\n",
    "    "
   ]
  },
  {
   "cell_type": "code",
   "execution_count": 15,
   "id": "02a916e8",
   "metadata": {},
   "outputs": [
    {
     "name": "stdout",
     "output_type": "stream",
     "text": [
      "0b11111111\n"
     ]
    }
   ],
   "source": [
    "print(bin(255))"
   ]
  },
  {
   "cell_type": "code",
   "execution_count": 16,
   "id": "8b1ef02c",
   "metadata": {
    "scrolled": true
   },
   "outputs": [
    {
     "name": "stdout",
     "output_type": "stream",
     "text": [
      "15\n"
     ]
    }
   ],
   "source": [
    "a = 0b1010 #10\n",
    "b = 0b101  #5\n",
    "\n",
    "print(a+b)"
   ]
  },
  {
   "cell_type": "code",
   "execution_count": null,
   "id": "a1f3ef63",
   "metadata": {
    "scrolled": true
   },
   "outputs": [],
   "source": [
    "print(bin(10)) #convert any decimal -- binary \n",
    "print(bin(5))"
   ]
  },
  {
   "cell_type": "code",
   "execution_count": 17,
   "id": "43408854",
   "metadata": {
    "scrolled": true
   },
   "outputs": [
    {
     "name": "stdout",
     "output_type": "stream",
     "text": [
      "12\n"
     ]
    }
   ],
   "source": [
    "c = 0o10\n",
    "d = 0b100\n",
    "\n",
    "print(c+d)\n"
   ]
  },
  {
   "cell_type": "code",
   "execution_count": 18,
   "id": "fb74dc83",
   "metadata": {
    "scrolled": true
   },
   "outputs": [
    {
     "name": "stdout",
     "output_type": "stream",
     "text": [
      "0o10\n"
     ]
    }
   ],
   "source": [
    "print(oct(8)) #any decimal - octal "
   ]
  },
  {
   "cell_type": "code",
   "execution_count": 19,
   "id": "f9e14a1e",
   "metadata": {
    "scrolled": true
   },
   "outputs": [
    {
     "name": "stdout",
     "output_type": "stream",
     "text": [
      "21\n"
     ]
    }
   ],
   "source": [
    "e = 0xA\n",
    "f = 0xB\n",
    "\n",
    "print(e+f)"
   ]
  },
  {
   "cell_type": "code",
   "execution_count": null,
   "id": "436af06c",
   "metadata": {
    "scrolled": true
   },
   "outputs": [],
   "source": [
    "print(hex(11))"
   ]
  },
  {
   "cell_type": "code",
   "execution_count": 20,
   "id": "6f77198c",
   "metadata": {
    "scrolled": true
   },
   "outputs": [
    {
     "name": "stdout",
     "output_type": "stream",
     "text": [
      "14.696938456699069\n"
     ]
    }
   ],
   "source": [
    "a = 5\n",
    "b = 6\n",
    "c = 7\n",
    "\n",
    "s = (a+b+c)/2\n",
    "\n",
    "value = (s*(s-a)*(s-b)*(s-c)) ** 0.5\n",
    "\n",
    "print(value)"
   ]
  },
  {
   "cell_type": "markdown",
   "id": "9e7579e7",
   "metadata": {},
   "source": [
    "### Float \n",
    "    - any decimal points is considered as float datatypes\n",
    "    \n",
    "    "
   ]
  },
  {
   "cell_type": "code",
   "execution_count": 23,
   "id": "d44fb02a",
   "metadata": {
    "scrolled": true
   },
   "outputs": [
    {
     "name": "stdout",
     "output_type": "stream",
     "text": [
      "1.0 <class 'float'>\n"
     ]
    }
   ],
   "source": [
    "floatVar = 1.\n",
    "\n",
    "print(floatVar , type(floatVar))"
   ]
  },
  {
   "cell_type": "code",
   "execution_count": null,
   "id": "c38a9703",
   "metadata": {},
   "outputs": [],
   "source": [
    "* -- multiplication\n",
    "** -- expo / power\n"
   ]
  },
  {
   "cell_type": "code",
   "execution_count": 24,
   "id": "04830182",
   "metadata": {},
   "outputs": [
    {
     "name": "stdout",
     "output_type": "stream",
     "text": [
      "30\n",
      "1000\n"
     ]
    }
   ],
   "source": [
    "print(10*3)\n",
    "print(10**3)"
   ]
  },
  {
   "cell_type": "code",
   "execution_count": 25,
   "id": "f79060b5",
   "metadata": {},
   "outputs": [
    {
     "name": "stdout",
     "output_type": "stream",
     "text": [
      "17\n"
     ]
    }
   ],
   "source": [
    "print(2+3*5)"
   ]
  },
  {
   "cell_type": "code",
   "execution_count": 26,
   "id": "ad9577c2",
   "metadata": {
    "scrolled": true
   },
   "outputs": [
    {
     "name": "stdout",
     "output_type": "stream",
     "text": [
      "10500.0\n"
     ]
    }
   ],
   "source": [
    "# ex: 10.5*10^3\n",
    "\n",
    "a = 10.5*(10**3)\n",
    "\n",
    "print(a)"
   ]
  },
  {
   "cell_type": "code",
   "execution_count": 29,
   "id": "7b8161b2",
   "metadata": {
    "scrolled": true
   },
   "outputs": [
    {
     "name": "stdout",
     "output_type": "stream",
     "text": [
      "0.0105\n"
     ]
    }
   ],
   "source": [
    "b = 10.5e-3 # e ---> 10^n\n",
    "\n",
    "print(b)"
   ]
  },
  {
   "cell_type": "code",
   "execution_count": 30,
   "id": "d2d2c153",
   "metadata": {
    "scrolled": true
   },
   "outputs": [
    {
     "name": "stdout",
     "output_type": "stream",
     "text": [
      "0.003\n"
     ]
    }
   ],
   "source": [
    "print(3e-3) # 3*10-3"
   ]
  },
  {
   "cell_type": "markdown",
   "id": "8c33174a",
   "metadata": {},
   "source": [
    "### Strings \n",
    "    - collectional of characaters (letters , symbols,numbers)\n",
    "    - we have 3 notations to represent the strings \n",
    "        - single quotes   - 'a' 'hello'\n",
    "        - double quotes   - \"Hello World\" \n",
    "        - triple quotes   - multi-line strings"
   ]
  },
  {
   "cell_type": "code",
   "execution_count": 33,
   "id": "12ff3b69",
   "metadata": {
    "scrolled": true
   },
   "outputs": [
    {
     "name": "stdout",
     "output_type": "stream",
     "text": [
      "Hello World June 2023\n",
      "H\n",
      "3\n"
     ]
    }
   ],
   "source": [
    "singleQ = 'Hello World June 2023'\n",
    "print(singleQ)\n",
    "print(singleQ[0])\n",
    "print(singleQ[-1])"
   ]
  },
  {
   "cell_type": "code",
   "execution_count": 34,
   "id": "d5ecdeef",
   "metadata": {
    "scrolled": true
   },
   "outputs": [
    {
     "ename": "SyntaxError",
     "evalue": "unterminated string literal (detected at line 2) (1585797800.py, line 2)",
     "output_type": "error",
     "traceback": [
      "\u001b[1;36m  Cell \u001b[1;32mIn[34], line 2\u001b[1;36m\u001b[0m\n\u001b[1;33m    print('It's a good movie')\u001b[0m\n\u001b[1;37m                            ^\u001b[0m\n\u001b[1;31mSyntaxError\u001b[0m\u001b[1;31m:\u001b[0m unterminated string literal (detected at line 2)\n"
     ]
    }
   ],
   "source": [
    "# It's a good movie\n",
    "print('It's a good movie')"
   ]
  },
  {
   "cell_type": "code",
   "execution_count": null,
   "id": "d68f72fd",
   "metadata": {},
   "outputs": [],
   "source": []
  },
  {
   "cell_type": "code",
   "execution_count": 35,
   "id": "236eebc3",
   "metadata": {
    "scrolled": true
   },
   "outputs": [
    {
     "name": "stdout",
     "output_type": "stream",
     "text": [
      "It's a good movie\n",
      "It's a good movie\n"
     ]
    }
   ],
   "source": [
    "print('It\\'s a good movie')\n",
    "\n",
    "\n",
    "print(\"It's a good movie\")"
   ]
  },
  {
   "cell_type": "code",
   "execution_count": null,
   "id": "ba2c6e88",
   "metadata": {
    "scrolled": true
   },
   "outputs": [],
   "source": [
    "# python is \"oops\" lang"
   ]
  },
  {
   "cell_type": "code",
   "execution_count": 37,
   "id": "6ce510c9",
   "metadata": {
    "scrolled": true
   },
   "outputs": [
    {
     "name": "stdout",
     "output_type": "stream",
     "text": [
      "python is \"oops\" language\n"
     ]
    }
   ],
   "source": [
    "c = \"python is \\\"oops\\\" language\"\n",
    "\n",
    "print(c)"
   ]
  },
  {
   "cell_type": "code",
   "execution_count": 38,
   "id": "0f04d478",
   "metadata": {
    "scrolled": true
   },
   "outputs": [
    {
     "name": "stdout",
     "output_type": "stream",
     "text": [
      "\"python is \"oops\" language\n"
     ]
    }
   ],
   "source": [
    "c = \"\"\"\"python is \"oops\" language\"\"\"\n",
    "\n",
    "print(c)"
   ]
  },
  {
   "cell_type": "code",
   "execution_count": null,
   "id": "82f382ac",
   "metadata": {
    "scrolled": true
   },
   "outputs": [],
   "source": []
  },
  {
   "cell_type": "code",
   "execution_count": 39,
   "id": "2e25b4a0",
   "metadata": {
    "scrolled": true
   },
   "outputs": [
    {
     "name": "stdout",
     "output_type": "stream",
     "text": [
      "python is oops\n",
      "and functional\n",
      "language\n"
     ]
    }
   ],
   "source": [
    "d = \"\"\"python is oops\n",
    "and functional\n",
    "language\"\"\"\n",
    "\n",
    "print(d)"
   ]
  },
  {
   "cell_type": "code",
   "execution_count": 40,
   "id": "0188caad",
   "metadata": {
    "scrolled": true
   },
   "outputs": [
    {
     "name": "stdout",
     "output_type": "stream",
     "text": [
      "python is oops\n",
      "and functional\n",
      "language\n"
     ]
    }
   ],
   "source": [
    "d = '''python is oops\n",
    "and functional\n",
    "language'''\n",
    "\n",
    "print(d)"
   ]
  },
  {
   "cell_type": "code",
   "execution_count": null,
   "id": "ff2a2b03",
   "metadata": {
    "scrolled": true
   },
   "outputs": [],
   "source": []
  },
  {
   "cell_type": "markdown",
   "id": "9f0222e1",
   "metadata": {},
   "source": [
    "### complex numbers \n",
    "    - real+imagj\n",
    "    - real number is optional\n",
    "    - imag number is mandatory"
   ]
  },
  {
   "cell_type": "code",
   "execution_count": 41,
   "id": "569bd4f9",
   "metadata": {
    "scrolled": true
   },
   "outputs": [],
   "source": [
    "comVar = 6+8j"
   ]
  },
  {
   "cell_type": "code",
   "execution_count": 42,
   "id": "fe7e69d5",
   "metadata": {
    "scrolled": true
   },
   "outputs": [
    {
     "name": "stdout",
     "output_type": "stream",
     "text": [
      "(6+8j) <class 'complex'>\n"
     ]
    }
   ],
   "source": [
    "print(comVar , type(comVar))"
   ]
  },
  {
   "cell_type": "code",
   "execution_count": null,
   "id": "ae00b043",
   "metadata": {},
   "outputs": [],
   "source": []
  },
  {
   "cell_type": "code",
   "execution_count": 43,
   "id": "0affa00b",
   "metadata": {},
   "outputs": [
    {
     "name": "stdout",
     "output_type": "stream",
     "text": [
      "7j <class 'complex'>\n"
     ]
    }
   ],
   "source": [
    "comvar2 = 7j # 0+7j\n",
    "\n",
    "print(comvar2, type(comvar2))"
   ]
  },
  {
   "cell_type": "code",
   "execution_count": null,
   "id": "02a9f768",
   "metadata": {},
   "outputs": [],
   "source": []
  },
  {
   "cell_type": "markdown",
   "id": "0656dfa2",
   "metadata": {},
   "source": [
    "### Boolean\n",
    "    - True or False values consider as boolean "
   ]
  },
  {
   "cell_type": "code",
   "execution_count": 45,
   "id": "0941b72a",
   "metadata": {
    "scrolled": true
   },
   "outputs": [
    {
     "name": "stdout",
     "output_type": "stream",
     "text": [
      "1\n",
      "0\n"
     ]
    }
   ],
   "source": [
    "bol_var = True # 1\n",
    "bol_var2 = False # 0\n",
    "\n",
    "print(bol_var + bol_var2)\n",
    "print(bol_var * bol_var2)"
   ]
  },
  {
   "cell_type": "code",
   "execution_count": null,
   "id": "8bce774d",
   "metadata": {},
   "outputs": [],
   "source": []
  },
  {
   "cell_type": "markdown",
   "id": "b9248754",
   "metadata": {},
   "source": [
    "### Try these\n",
    "\n",
    "- Read a Number from Keyboard\n",
    "- Count number of zeros in it:\n",
    "- If no zeroes were found , by default print -1\n",
    "\n",
    "    ex: num = 102630280\n",
    "        \n",
    "        o/p: 3\n",
    "        \n",
    "     ex: num = 98339829\n",
    "         \n",
    "         o/p: -1"
   ]
  },
  {
   "cell_type": "code",
   "execution_count": null,
   "id": "e75aaf3d",
   "metadata": {},
   "outputs": [],
   "source": []
  },
  {
   "cell_type": "code",
   "execution_count": null,
   "id": "c73b8ca9",
   "metadata": {},
   "outputs": [],
   "source": []
  },
  {
   "cell_type": "code",
   "execution_count": null,
   "id": "43b5c438",
   "metadata": {},
   "outputs": [],
   "source": [
    "I want to store 100 students names ?\n",
    "\n",
    "how variables required? 100\n",
    "\n",
    "st1_name = \"ram\"\n",
    "st2_name = \"venu\"\n",
    "..\n",
    "..\n",
    "..\n",
    "st100_name = \"kumar\""
   ]
  },
  {
   "cell_type": "code",
   "execution_count": 47,
   "id": "10a5ece0",
   "metadata": {},
   "outputs": [],
   "source": [
    "studentNames = [\"ram\",\"venu\",\"kumar\"] #collection of items/elemets of same type or different type"
   ]
  },
  {
   "cell_type": "code",
   "execution_count": 48,
   "id": "fb725af4",
   "metadata": {},
   "outputs": [
    {
     "name": "stdout",
     "output_type": "stream",
     "text": [
      "['ram', 'venu', 'kumar']\n",
      "kumar\n"
     ]
    }
   ],
   "source": [
    "print(studentNames)\n",
    "print(studentNames[2])"
   ]
  },
  {
   "cell_type": "markdown",
   "id": "ef5bd718",
   "metadata": {},
   "source": [
    "### List \n",
    "    - It's a collection & ordered & indexed data type\n",
    "    - It's stores mutliple items in one variable\n",
    "    - Indexing \n",
    "            postive  0 ---> N-1\n",
    "            negative -1 ---> -N\n",
    "    - It's Mutable ---> Changes are allowed\n",
    "    - declared with []\n",
    "    - stores hemogeneuous & hetrogenous data types\n",
    "    \n",
    "    \n",
    "    syntax:\n",
    "    \n",
    "    varName = [data1,data2,....]\n",
    "    "
   ]
  },
  {
   "cell_type": "code",
   "execution_count": 49,
   "id": "17141eda",
   "metadata": {
    "scrolled": true
   },
   "outputs": [
    {
     "name": "stdout",
     "output_type": "stream",
     "text": [
      "[0, 1, 2, 3, 4, 5] <class 'list'>\n"
     ]
    }
   ],
   "source": [
    "lstNumbers = [0, 1, 2, 3, 4, 5]  # all are the same data types - a list of numbers\n",
    "\n",
    "print(lstNumbers , type(lstNumbers))\n",
    "\n",
    "\n",
    "fruits = ['Banana', 'Orange', 'Mango', 'Avocado' , \"grape\"] # all the same data types - a list of strings (fruits)\n",
    "\n",
    "countries = ['Finland','Estonia', 'Sweden','Norway'] # all the same data types - a list of strings (countries)\n",
    "\n",
    "mixedList = ['Banana', 10, False, 9.81, 1+2j] # different data types in the list - string, integer, boolean and float\n",
    "\n"
   ]
  },
  {
   "cell_type": "code",
   "execution_count": null,
   "id": "bfcbef50",
   "metadata": {
    "scrolled": true
   },
   "outputs": [],
   "source": [
    "print(len(fruits))"
   ]
  },
  {
   "cell_type": "code",
   "execution_count": 50,
   "id": "46256781",
   "metadata": {
    "scrolled": true
   },
   "outputs": [
    {
     "name": "stdout",
     "output_type": "stream",
     "text": [
      "['Banana', 'Orange', 'Mango', 'Avocado', 'grape'] <class 'list'>\n",
      "<class 'str'>\n",
      "Mango\n"
     ]
    }
   ],
   "source": [
    "# accessing VarName[index]  \n",
    "print(fruits , type(fruits))\n",
    "\n",
    "print(type(fruits[0]))\n",
    "\n",
    "print(fruits[2])"
   ]
  },
  {
   "cell_type": "code",
   "execution_count": 51,
   "id": "4df3144f",
   "metadata": {
    "scrolled": true
   },
   "outputs": [
    {
     "ename": "IndexError",
     "evalue": "list index out of range",
     "output_type": "error",
     "traceback": [
      "\u001b[1;31m---------------------------------------------------------------------------\u001b[0m",
      "\u001b[1;31mIndexError\u001b[0m                                Traceback (most recent call last)",
      "Cell \u001b[1;32mIn[51], line 1\u001b[0m\n\u001b[1;32m----> 1\u001b[0m \u001b[38;5;28mprint\u001b[39m(\u001b[43mfruits\u001b[49m\u001b[43m[\u001b[49m\u001b[38;5;241;43m5\u001b[39;49m\u001b[43m]\u001b[49m)\n",
      "\u001b[1;31mIndexError\u001b[0m: list index out of range"
     ]
    }
   ],
   "source": [
    "print(fruits[5])\n",
    "\n",
    "#POSTIVE INDEXING ::: 0 ---> LEN-1\n",
    "\n",
    "#NEGATIVE  INDEXING : -1 ---> -LEN"
   ]
  },
  {
   "cell_type": "code",
   "execution_count": 52,
   "id": "f31fa19e",
   "metadata": {
    "scrolled": true
   },
   "outputs": [
    {
     "name": "stdout",
     "output_type": "stream",
     "text": [
      "Avocado\n"
     ]
    }
   ],
   "source": [
    "print(fruits[3])"
   ]
  },
  {
   "cell_type": "code",
   "execution_count": 53,
   "id": "58935ea3",
   "metadata": {
    "scrolled": true
   },
   "outputs": [
    {
     "name": "stdout",
     "output_type": "stream",
     "text": [
      "5\n",
      "grape\n"
     ]
    }
   ],
   "source": [
    "n = len(fruits)\n",
    "print(n)\n",
    "print(fruits[n-1])  #n-1 is the last location"
   ]
  },
  {
   "cell_type": "code",
   "execution_count": 54,
   "id": "cc760a4f",
   "metadata": {
    "scrolled": true
   },
   "outputs": [
    {
     "name": "stdout",
     "output_type": "stream",
     "text": [
      "grape\n"
     ]
    }
   ],
   "source": [
    "print(fruits[-1])"
   ]
  },
  {
   "cell_type": "code",
   "execution_count": 56,
   "id": "db030fe4",
   "metadata": {
    "scrolled": true
   },
   "outputs": [
    {
     "ename": "IndexError",
     "evalue": "list index out of range",
     "output_type": "error",
     "traceback": [
      "\u001b[1;31m---------------------------------------------------------------------------\u001b[0m",
      "\u001b[1;31mIndexError\u001b[0m                                Traceback (most recent call last)",
      "Cell \u001b[1;32mIn[56], line 1\u001b[0m\n\u001b[1;32m----> 1\u001b[0m \u001b[38;5;28mprint\u001b[39m(\u001b[43mfruits\u001b[49m\u001b[43m[\u001b[49m\u001b[38;5;241;43m-\u001b[39;49m\u001b[38;5;241;43m6\u001b[39;49m\u001b[43m]\u001b[49m)\n",
      "\u001b[1;31mIndexError\u001b[0m: list index out of range"
     ]
    }
   ],
   "source": [
    "print(fruits[-6])"
   ]
  },
  {
   "cell_type": "code",
   "execution_count": 57,
   "id": "ee301639",
   "metadata": {
    "scrolled": true
   },
   "outputs": [
    {
     "name": "stdout",
     "output_type": "stream",
     "text": [
      "['Banana', 'Orange', 'Mango', 'Avocado', 'grape']\n"
     ]
    }
   ],
   "source": [
    "print(fruits)"
   ]
  },
  {
   "cell_type": "code",
   "execution_count": 58,
   "id": "2674b890",
   "metadata": {
    "scrolled": true
   },
   "outputs": [
    {
     "name": "stdout",
     "output_type": "stream",
     "text": [
      "['Banana', 'Orange', 'Mango', 'pineapple', 'grape']\n"
     ]
    }
   ],
   "source": [
    "fruits[3] = \"pineapple\" #mutablity \n",
    "print(fruits)"
   ]
  },
  {
   "cell_type": "code",
   "execution_count": 59,
   "id": "035c1306",
   "metadata": {
    "scrolled": true
   },
   "outputs": [
    {
     "ename": "IndexError",
     "evalue": "list assignment index out of range",
     "output_type": "error",
     "traceback": [
      "\u001b[1;31m---------------------------------------------------------------------------\u001b[0m",
      "\u001b[1;31mIndexError\u001b[0m                                Traceback (most recent call last)",
      "Cell \u001b[1;32mIn[59], line 1\u001b[0m\n\u001b[1;32m----> 1\u001b[0m fruits[\u001b[38;5;241m6\u001b[39m] \u001b[38;5;241m=\u001b[39m \u001b[38;5;124m\"\u001b[39m\u001b[38;5;124mgrape\u001b[39m\u001b[38;5;124m\"\u001b[39m\n\u001b[0;32m      2\u001b[0m \u001b[38;5;28mprint\u001b[39m(fruits)\n",
      "\u001b[1;31mIndexError\u001b[0m: list assignment index out of range"
     ]
    }
   ],
   "source": [
    "fruits[6] = \"grape\"\n",
    "print(fruits)"
   ]
  },
  {
   "cell_type": "code",
   "execution_count": 60,
   "id": "af2601d9",
   "metadata": {
    "scrolled": true
   },
   "outputs": [
    {
     "name": "stdout",
     "output_type": "stream",
     "text": [
      "['Banana', 10, False, 9.81, (1+2j)]\n",
      "False\n",
      "(1+2j)\n",
      "<class 'str'>\n"
     ]
    }
   ],
   "source": [
    "print(mixedList)\n",
    "\n",
    "print(mixedList[2])\n",
    "\n",
    "print(mixedList[-1])\n",
    "\n",
    "print(type(mixedList[0]))"
   ]
  },
  {
   "cell_type": "code",
   "execution_count": 61,
   "id": "db458e0a",
   "metadata": {
    "scrolled": true
   },
   "outputs": [
    {
     "name": "stdout",
     "output_type": "stream",
     "text": [
      "['__add__', '__class__', '__class_getitem__', '__contains__', '__delattr__', '__delitem__', '__dir__', '__doc__', '__eq__', '__format__', '__ge__', '__getattribute__', '__getitem__', '__gt__', '__hash__', '__iadd__', '__imul__', '__init__', '__init_subclass__', '__iter__', '__le__', '__len__', '__lt__', '__mul__', '__ne__', '__new__', '__reduce__', '__reduce_ex__', '__repr__', '__reversed__', '__rmul__', '__setattr__', '__setitem__', '__sizeof__', '__str__', '__subclasshook__', 'append', 'clear', 'copy', 'count', 'extend', 'index', 'insert', 'pop', 'remove', 'reverse', 'sort']\n"
     ]
    }
   ],
   "source": [
    "# attributes and methods \n",
    "print(dir(fruits))"
   ]
  },
  {
   "cell_type": "code",
   "execution_count": null,
   "id": "2784afda",
   "metadata": {
    "scrolled": true
   },
   "outputs": [],
   "source": []
  },
  {
   "cell_type": "markdown",
   "id": "c1f384b9",
   "metadata": {},
   "source": [
    "### List Method \n",
    "\n",
    "    - insertion\n",
    "         append(obj)\n",
    "         insert(ind,obj)\n",
    "         extend([obj1,obj2..])\n",
    "    - deletion\n",
    "        pop()\n",
    "        remove()\n",
    "    - popular \n",
    "        reverse()\n",
    "        copy()\n",
    "        clear()\n",
    "        sort()\n",
    "        count()\n",
    "        index()"
   ]
  },
  {
   "cell_type": "code",
   "execution_count": 62,
   "id": "a194041c",
   "metadata": {
    "scrolled": true
   },
   "outputs": [
    {
     "name": "stdout",
     "output_type": "stream",
     "text": [
      "['__add__', '__class__', '__class_getitem__', '__contains__', '__delattr__', '__delitem__', '__dir__', '__doc__', '__eq__', '__format__', '__ge__', '__getattribute__', '__getitem__', '__gt__', '__hash__', '__iadd__', '__imul__', '__init__', '__init_subclass__', '__iter__', '__le__', '__len__', '__lt__', '__mul__', '__ne__', '__new__', '__reduce__', '__reduce_ex__', '__repr__', '__reversed__', '__rmul__', '__setattr__', '__setitem__', '__sizeof__', '__str__', '__subclasshook__', 'append', 'clear', 'copy', 'count', 'extend', 'index', 'insert', 'pop', 'remove', 'reverse', 'sort']\n"
     ]
    }
   ],
   "source": [
    "print(dir( [] ))\n"
   ]
  },
  {
   "cell_type": "code",
   "execution_count": 64,
   "id": "126049e5",
   "metadata": {
    "scrolled": true
   },
   "outputs": [
    {
     "name": "stdout",
     "output_type": "stream",
     "text": [
      "['Finland', 'Estonia', 'Sweden', 'Norway', 'India']\n",
      "['Finland', 'Estonia', 'Sweden', 'Norway', 'India', 'Fiji']\n"
     ]
    },
    {
     "ename": "TypeError",
     "evalue": "list.append() takes exactly one argument (2 given)",
     "output_type": "error",
     "traceback": [
      "\u001b[1;31m---------------------------------------------------------------------------\u001b[0m",
      "\u001b[1;31mTypeError\u001b[0m                                 Traceback (most recent call last)",
      "Cell \u001b[1;32mIn[64], line 14\u001b[0m\n\u001b[0;32m     10\u001b[0m countries\u001b[38;5;241m.\u001b[39mappend(\u001b[38;5;124m\"\u001b[39m\u001b[38;5;124mFiji\u001b[39m\u001b[38;5;124m\"\u001b[39m)\n\u001b[0;32m     11\u001b[0m \u001b[38;5;28mprint\u001b[39m(countries)\n\u001b[1;32m---> 14\u001b[0m \u001b[43mcountries\u001b[49m\u001b[38;5;241;43m.\u001b[39;49m\u001b[43mappend\u001b[49m\u001b[43m(\u001b[49m\u001b[38;5;124;43m\"\u001b[39;49m\u001b[38;5;124;43mUSA\u001b[39;49m\u001b[38;5;124;43m\"\u001b[39;49m\u001b[43m,\u001b[49m\u001b[38;5;124;43m\"\u001b[39;49m\u001b[38;5;124;43mAUS\u001b[39;49m\u001b[38;5;124;43m\"\u001b[39;49m\u001b[43m)\u001b[49m \u001b[38;5;66;03m#error\u001b[39;00m\n\u001b[0;32m     15\u001b[0m \u001b[38;5;28mprint\u001b[39m(countries)\n",
      "\u001b[1;31mTypeError\u001b[0m: list.append() takes exactly one argument (2 given)"
     ]
    }
   ],
   "source": [
    "#append() : always add data to the end of the list , adds only one element at a time,\n",
    "countries = ['Finland','Estonia', 'Sweden','Norway']\n",
    "\n",
    "\n",
    "countries.append(\"India\")\n",
    "print(countries)\n",
    "\n",
    "\n",
    "\n",
    "countries.append(\"Fiji\")\n",
    "print(countries)\n",
    "\n",
    "\n",
    "countries.append(\"USA\",\"AUS\") #error\n",
    "print(countries)"
   ]
  },
  {
   "cell_type": "code",
   "execution_count": 65,
   "id": "45efa5f4",
   "metadata": {},
   "outputs": [
    {
     "name": "stdout",
     "output_type": "stream",
     "text": [
      "['Finland', 'Estonia', 'Sweden', 'Norway', 'India', 'Fiji']\n"
     ]
    }
   ],
   "source": [
    "print(countries)"
   ]
  },
  {
   "cell_type": "code",
   "execution_count": 66,
   "id": "ccc1947c",
   "metadata": {
    "scrolled": true
   },
   "outputs": [
    {
     "name": "stdout",
     "output_type": "stream",
     "text": [
      "['England', 'Finland', 'Estonia', 'Sweden', 'Norway', 'India', 'Fiji']\n"
     ]
    }
   ],
   "source": [
    "#insert(indNum,object/element) : insert the data at specific location or index.\n",
    "\n",
    "countries.insert(0,\"England\")\n",
    "print(countries)"
   ]
  },
  {
   "cell_type": "code",
   "execution_count": null,
   "id": "5b275c5d",
   "metadata": {},
   "outputs": [],
   "source": []
  },
  {
   "cell_type": "code",
   "execution_count": 67,
   "id": "fd6cc89f",
   "metadata": {
    "scrolled": true
   },
   "outputs": [
    {
     "name": "stdout",
     "output_type": "stream",
     "text": [
      "['England', 'Finland', 'Estonia', 'Sweden', 'Norway', 'India', 'Pak', 'Fiji']\n"
     ]
    }
   ],
   "source": [
    "countries.insert(-1,\"Pak\" )\n",
    "print(countries)"
   ]
  },
  {
   "cell_type": "code",
   "execution_count": 68,
   "id": "bf732cee",
   "metadata": {},
   "outputs": [
    {
     "name": "stdout",
     "output_type": "stream",
     "text": [
      "8\n",
      "Finland\n"
     ]
    }
   ],
   "source": [
    "print(len(countries))\n",
    "print(countries[-7])"
   ]
  },
  {
   "cell_type": "code",
   "execution_count": 69,
   "id": "d6d27cca",
   "metadata": {
    "scrolled": true
   },
   "outputs": [
    {
     "name": "stdout",
     "output_type": "stream",
     "text": [
      "['Cuba', 'England', 'Finland', 'Estonia', 'Sweden', 'Norway', 'India', 'Pak', 'Fiji']\n"
     ]
    }
   ],
   "source": [
    "countries.insert(-10,\"Cuba\") \n",
    "print(countries)"
   ]
  },
  {
   "cell_type": "code",
   "execution_count": 70,
   "id": "95c1cebd",
   "metadata": {},
   "outputs": [
    {
     "name": "stdout",
     "output_type": "stream",
     "text": [
      "['Cuba', 'England', 'Finland', 'Estonia', 'Sweden', 'Norway', 'India', 'Pak', 'Fiji', 'Seria']\n"
     ]
    }
   ],
   "source": [
    "countries.insert(100,\"Seria\")\n",
    "print(countries)"
   ]
  },
  {
   "cell_type": "code",
   "execution_count": null,
   "id": "c51abcd2",
   "metadata": {},
   "outputs": [],
   "source": []
  },
  {
   "cell_type": "code",
   "execution_count": 73,
   "id": "490d5e77",
   "metadata": {
    "scrolled": true
   },
   "outputs": [
    {
     "name": "stdout",
     "output_type": "stream",
     "text": [
      "['Cuba', 'England', 'Finland', 'Estonia', 'Sweden', 'Norway', 'India', 'Pak', 'Fiji', 'Seria', 'Russai', 'Seria', 'Finland', 'Norway', 'Pak', 'Russai', 'Seria', 'Finland', 'Norway', 'Pak']\n"
     ]
    }
   ],
   "source": [
    "# extend([obj1,obj2..])\n",
    "\n",
    "countries.extend([\"Russai\",\"Seria\",\"Finland\",\"Norway\",\"Pak\"])\n",
    "print(countries)"
   ]
  },
  {
   "cell_type": "code",
   "execution_count": null,
   "id": "0a9a4b1f",
   "metadata": {},
   "outputs": [],
   "source": []
  },
  {
   "cell_type": "markdown",
   "id": "8b59ab71",
   "metadata": {},
   "source": [
    "### Try these\n",
    "- Display only unquie contries"
   ]
  },
  {
   "cell_type": "code",
   "execution_count": 74,
   "id": "09eca375",
   "metadata": {},
   "outputs": [
    {
     "name": "stdout",
     "output_type": "stream",
     "text": [
      "['Cuba', 'England', 'Finland', 'Estonia', 'Sweden', 'Norway', 'India', 'Pak', 'Fiji', 'Seria', 'Russai', 'Seria', 'Finland', 'Norway', 'Pak', 'Russai', 'Seria', 'Finland', 'Norway', 'Pak'] 20\n"
     ]
    }
   ],
   "source": [
    "print(countries, len(countries))"
   ]
  },
  {
   "cell_type": "code",
   "execution_count": 77,
   "id": "197ac82f",
   "metadata": {},
   "outputs": [
    {
     "name": "stdout",
     "output_type": "stream",
     "text": [
      "<class 'list'> 20\n"
     ]
    }
   ],
   "source": [
    "print(type(countries), len(countries))"
   ]
  },
  {
   "cell_type": "code",
   "execution_count": 76,
   "id": "034dd41e",
   "metadata": {},
   "outputs": [
    {
     "name": "stdout",
     "output_type": "stream",
     "text": [
      "{'Cuba', 'Fiji', 'Norway', 'Pak', 'Sweden', 'Estonia', 'England', 'Seria', 'India', 'Russai', 'Finland'} 11 <class 'set'>\n"
     ]
    }
   ],
   "source": [
    "unqiue_countries = set(countries)# set into list using set()\n",
    "\n",
    "print(unqiue_countries , len(unqiue_countries), type(unqiue_countries))"
   ]
  },
  {
   "cell_type": "code",
   "execution_count": null,
   "id": "91d7052c",
   "metadata": {},
   "outputs": [],
   "source": []
  },
  {
   "cell_type": "code",
   "execution_count": null,
   "id": "c8f7bb87",
   "metadata": {},
   "outputs": [],
   "source": []
  },
  {
   "cell_type": "code",
   "execution_count": 83,
   "id": "e9c7a2b7",
   "metadata": {
    "scrolled": true
   },
   "outputs": [
    {
     "name": "stdout",
     "output_type": "stream",
     "text": [
      "None ['Cuba', 'England', 'Finland', 'Sweden', 'Norway', 'India', 'Pak', 'Fiji', 'Seria', 'Russai', 'Seria', 'Finland', 'Norway', 'Pak', 'Russai', 'Seria', 'Finland', 'Norway', 'canada']\n"
     ]
    }
   ],
   "source": [
    "result = countries.append('canada')\n",
    "print(result, countries)"
   ]
  },
  {
   "cell_type": "code",
   "execution_count": null,
   "id": "7bbcfbeb",
   "metadata": {},
   "outputs": [],
   "source": [
    "\n"
   ]
  },
  {
   "cell_type": "code",
   "execution_count": null,
   "id": "03978dad",
   "metadata": {},
   "outputs": [],
   "source": [
    "unqiue_countries\n",
    "\n",
    "# Very Function/Method in python , when called , they will do the operation on data , and respond back with some data.\n",
    "# If function doesn't return any data,by default it return None Type.\n",
    "\n",
    "# 1. storing fun/metho call in a variable\n",
    "# 2. calling fun inside another fun."
   ]
  },
  {
   "cell_type": "code",
   "execution_count": null,
   "id": "e391892f",
   "metadata": {},
   "outputs": [],
   "source": []
  },
  {
   "cell_type": "code",
   "execution_count": 78,
   "id": "7f5d6d1a",
   "metadata": {
    "scrolled": true
   },
   "outputs": [
    {
     "name": "stdout",
     "output_type": "stream",
     "text": [
      "['Cuba', 'England', 'Finland', 'Estonia', 'Sweden', 'Norway', 'India', 'Pak', 'Fiji', 'Seria', 'Russai', 'Seria', 'Finland', 'Norway', 'Pak', 'Russai', 'Seria', 'Finland', 'Norway', 'Pak']\n"
     ]
    }
   ],
   "source": [
    "print(countries)"
   ]
  },
  {
   "cell_type": "code",
   "execution_count": 82,
   "id": "a05bc106",
   "metadata": {},
   "outputs": [
    {
     "name": "stdout",
     "output_type": "stream",
     "text": [
      "hello\n",
      "None\n"
     ]
    }
   ],
   "source": [
    "result = print(\"hello\") # storing fun call in a var\n",
    "print(result)"
   ]
  },
  {
   "cell_type": "code",
   "execution_count": 79,
   "id": "bf936493",
   "metadata": {
    "scrolled": true
   },
   "outputs": [
    {
     "name": "stdout",
     "output_type": "stream",
     "text": [
      "Pak\n"
     ]
    }
   ],
   "source": [
    "# pop()\n",
    "r = countries.pop() #pop() will remove and return the popped element\n",
    "print(r)"
   ]
  },
  {
   "cell_type": "code",
   "execution_count": 80,
   "id": "6d316da5",
   "metadata": {
    "scrolled": true
   },
   "outputs": [
    {
     "name": "stdout",
     "output_type": "stream",
     "text": [
      "Estonia\n"
     ]
    }
   ],
   "source": [
    "print(countries.pop(3)) # give only valid locations/index"
   ]
  },
  {
   "cell_type": "code",
   "execution_count": 81,
   "id": "4321b735",
   "metadata": {
    "scrolled": true
   },
   "outputs": [
    {
     "name": "stdout",
     "output_type": "stream",
     "text": [
      "[]\n"
     ]
    },
    {
     "ename": "IndexError",
     "evalue": "pop from empty list",
     "output_type": "error",
     "traceback": [
      "\u001b[1;31m---------------------------------------------------------------------------\u001b[0m",
      "\u001b[1;31mIndexError\u001b[0m                                Traceback (most recent call last)",
      "Cell \u001b[1;32mIn[81], line 8\u001b[0m\n\u001b[0;32m      6\u001b[0m num\u001b[38;5;241m.\u001b[39mpop()\n\u001b[0;32m      7\u001b[0m \u001b[38;5;28mprint\u001b[39m(num)\n\u001b[1;32m----> 8\u001b[0m \u001b[43mnum\u001b[49m\u001b[38;5;241;43m.\u001b[39;49m\u001b[43mpop\u001b[49m\u001b[43m(\u001b[49m\u001b[43m)\u001b[49m\n",
      "\u001b[1;31mIndexError\u001b[0m: pop from empty list"
     ]
    }
   ],
   "source": [
    "# \n",
    "num = [1,2,3,4]\n",
    "num.pop()\n",
    "num.pop()\n",
    "num.pop()\n",
    "num.pop()\n",
    "print(num)\n",
    "num.pop()"
   ]
  },
  {
   "cell_type": "code",
   "execution_count": 84,
   "id": "b69d6309",
   "metadata": {
    "scrolled": true
   },
   "outputs": [
    {
     "name": "stdout",
     "output_type": "stream",
     "text": [
      "['Cuba', 'England', 'Finland', 'Sweden', 'Norway', 'India', 'Pak', 'Fiji', 'Seria', 'Russai', 'Seria', 'Finland', 'Norway', 'Pak', 'Russai', 'Seria', 'Finland', 'Norway', 'canada']\n"
     ]
    }
   ],
   "source": [
    "print(countries)"
   ]
  },
  {
   "cell_type": "code",
   "execution_count": 85,
   "id": "94c5d6cb",
   "metadata": {
    "scrolled": true
   },
   "outputs": [
    {
     "name": "stdout",
     "output_type": "stream",
     "text": [
      "['Cuba', 'Finland', 'Sweden', 'Norway', 'India', 'Pak', 'Fiji', 'Seria', 'Russai', 'Seria', 'Finland', 'Norway', 'Pak', 'Russai', 'Seria', 'Finland', 'Norway', 'canada']\n"
     ]
    }
   ],
   "source": [
    "# remove()\n",
    "countries.remove(\"England\")\n",
    "print(countries)\n"
   ]
  },
  {
   "cell_type": "code",
   "execution_count": 90,
   "id": "f0ee0ad0",
   "metadata": {
    "scrolled": true
   },
   "outputs": [
    {
     "name": "stdout",
     "output_type": "stream",
     "text": [
      "None\n"
     ]
    }
   ],
   "source": [
    "res = countries.remove(\"India\")\n",
    "print(res)"
   ]
  },
  {
   "cell_type": "code",
   "execution_count": 91,
   "id": "8c7b2446",
   "metadata": {},
   "outputs": [
    {
     "ename": "ValueError",
     "evalue": "list.remove(x): x not in list",
     "output_type": "error",
     "traceback": [
      "\u001b[1;31m---------------------------------------------------------------------------\u001b[0m",
      "\u001b[1;31mValueError\u001b[0m                                Traceback (most recent call last)",
      "Cell \u001b[1;32mIn[91], line 1\u001b[0m\n\u001b[1;32m----> 1\u001b[0m \u001b[43mcountries\u001b[49m\u001b[38;5;241;43m.\u001b[39;49m\u001b[43mremove\u001b[49m\u001b[43m(\u001b[49m\u001b[38;5;124;43m\"\u001b[39;49m\u001b[38;5;124;43mSouth Af\u001b[39;49m\u001b[38;5;124;43m\"\u001b[39;49m\u001b[43m)\u001b[49m\n",
      "\u001b[1;31mValueError\u001b[0m: list.remove(x): x not in list"
     ]
    }
   ],
   "source": [
    "countries.remove(\"South Af\")"
   ]
  },
  {
   "cell_type": "code",
   "execution_count": 87,
   "id": "6b5f83d8",
   "metadata": {},
   "outputs": [
    {
     "name": "stdout",
     "output_type": "stream",
     "text": [
      "['Cuba', 'Finland', 'Norway', 'India', 'Pak', 'Fiji', 'Seria', 'Russai', 'Seria', 'Finland', 'Norway', 'Pak', 'Russai', 'Seria', 'Finland', 'Norway', 'canada']\n"
     ]
    }
   ],
   "source": [
    "print(countries)"
   ]
  },
  {
   "cell_type": "code",
   "execution_count": null,
   "id": "ea851d0d",
   "metadata": {},
   "outputs": [],
   "source": []
  },
  {
   "cell_type": "code",
   "execution_count": null,
   "id": "ce74509d",
   "metadata": {},
   "outputs": [],
   "source": []
  },
  {
   "cell_type": "code",
   "execution_count": null,
   "id": "6acb64dc",
   "metadata": {},
   "outputs": [],
   "source": [
    "print(countries.pop())"
   ]
  },
  {
   "cell_type": "code",
   "execution_count": 92,
   "id": "4d0b63e0",
   "metadata": {},
   "outputs": [
    {
     "name": "stdout",
     "output_type": "stream",
     "text": [
      "Lavanya\n",
      "['Prakash', 'Manoj', 'Kumar']\n",
      "None\n",
      "['Prakash', 'Manoj']\n"
     ]
    }
   ],
   "source": [
    "names = [\"Prakash\",\"Manoj\",\"Kumar\",\"Lavanya\"]\n",
    "\n",
    "r1 = names.pop() #default : -1 \n",
    "print(r1)\n",
    "print(names)\n",
    "\n",
    "r2 = names.remove(\"Kumar\") #not returning any value\n",
    "print(r2)\n",
    "print(names)\n"
   ]
  },
  {
   "cell_type": "code",
   "execution_count": 93,
   "id": "c191b5b9",
   "metadata": {
    "scrolled": true
   },
   "outputs": [
    {
     "name": "stdout",
     "output_type": "stream",
     "text": [
      "['canada', 'Norway', 'Finland', 'Seria', 'Russai', 'Pak', 'Norway', 'Finland', 'Seria', 'Russai', 'Seria', 'Fiji', 'Pak', 'Norway', 'Finland', 'Cuba']\n"
     ]
    }
   ],
   "source": [
    "# reverse()\n",
    "countries.reverse()\n",
    "\n",
    "print(countries)"
   ]
  },
  {
   "cell_type": "code",
   "execution_count": 95,
   "id": "4bff59c8",
   "metadata": {
    "scrolled": true
   },
   "outputs": [
    {
     "name": "stdout",
     "output_type": "stream",
     "text": [
      "['canada', 'Seria', 'Seria', 'Seria', 'Russai', 'Russai', 'Pak', 'Pak', 'Norway', 'Norway', 'Norway', 'Finland', 'Finland', 'Finland', 'Fiji', 'Cuba']\n"
     ]
    }
   ],
   "source": [
    "# sort()\n",
    "countries.sort(reverse=True)\n",
    "print(countries)"
   ]
  },
  {
   "cell_type": "code",
   "execution_count": 99,
   "id": "d905a39c",
   "metadata": {
    "scrolled": true
   },
   "outputs": [
    {
     "name": "stdout",
     "output_type": "stream",
     "text": [
      "['RCB', 'MI', 'CSK', 'RR', 'KKR', 'GT', 'PB']\n",
      "['RR', 'RCB', 'PB', 'MI', 'KKR', 'GT', 'CSK']\n",
      "67 71\n"
     ]
    }
   ],
   "source": [
    "lst = \"RCB MI CSK RR KKR GT PB\".split() #str - list\n",
    "print(lst)\n",
    "\n",
    "\n",
    "lst.sort(reverse = True) #ascending (small - big)\n",
    "\n",
    "print(lst)\n",
    "\n",
    "# ##ascii\n",
    "\n",
    "print(ord(\"C\") , ord(\"G\"))"
   ]
  },
  {
   "cell_type": "code",
   "execution_count": null,
   "id": "8d704077",
   "metadata": {},
   "outputs": [],
   "source": [
    "msg = 'Hi hello Welcome Datatypes Session'.split()\n",
    "\n",
    "print(msg)\n",
    "\n",
    "msg.sort()\n",
    "\n",
    "print(msg)"
   ]
  },
  {
   "cell_type": "code",
   "execution_count": 101,
   "id": "3928213a",
   "metadata": {},
   "outputs": [
    {
     "name": "stdout",
     "output_type": "stream",
     "text": [
      "65 90 97 122\n",
      "Y\n"
     ]
    }
   ],
   "source": [
    "print(ord(\"A\") , ord('Z') , ord('a') , ord('z'))\n",
    "print(chr(89))"
   ]
  },
  {
   "cell_type": "code",
   "execution_count": null,
   "id": "335fb5cc",
   "metadata": {},
   "outputs": [],
   "source": []
  },
  {
   "cell_type": "code",
   "execution_count": 102,
   "id": "7d12034d",
   "metadata": {
    "scrolled": true
   },
   "outputs": [
    {
     "name": "stdout",
     "output_type": "stream",
     "text": [
      "[0, 1, 262, 293, 2982, 2983]\n",
      "[2983, 2982, 293, 262, 1, 0]\n"
     ]
    }
   ],
   "source": [
    "nums = [1,0,293,2983,262,2982]\n",
    "nums.sort() #small - big\n",
    "\n",
    "print(nums)\n",
    "\n",
    "nums.sort(reverse=True) #True - Desc | False -- Asec\n",
    "\n",
    "print(nums)"
   ]
  },
  {
   "cell_type": "code",
   "execution_count": null,
   "id": "e38922e8",
   "metadata": {
    "scrolled": true
   },
   "outputs": [],
   "source": [
    "print(lst)"
   ]
  },
  {
   "cell_type": "code",
   "execution_count": null,
   "id": "db93b20a",
   "metadata": {},
   "outputs": [],
   "source": []
  },
  {
   "cell_type": "code",
   "execution_count": 110,
   "id": "b8a0910a",
   "metadata": {
    "scrolled": true
   },
   "outputs": [
    {
     "name": "stdout",
     "output_type": "stream",
     "text": [
      "['canada', 'Seria', 'Seria', 'Seria', 'Russai', 'Russai', 'Pak', 'Pak', 'Norway', 'Norway', 'Norway', 'Finland', 'Finland', 'Finland', 'Fiji', 'Cuba']\n",
      "3\n",
      "3\n",
      "0\n",
      "['K', 'u', 'm', 'a', 'r', 'R', 'a', 'j', 'a', 'm', 'o', 'n', 'i', 'p', 'y', 't', 'h', 'o', 'n', 't', 'u', 'T', 'o', 'R']\n",
      "0\n",
      "0\n"
     ]
    }
   ],
   "source": [
    "# count() - display the occurence of a data element.\n",
    "\n",
    "print(countries)\n",
    "\n",
    "print(countries.count(\"Finland\"))\n",
    "print(countries.count(\"Seria\"))\n",
    "print(countries.count(\"India\"))\n",
    "\n",
    "\n",
    "\n",
    "\n",
    "lst = 'K u m a r R a j a m o n i p y t h o n t u T o R'.split()\n",
    "print(lst)\n",
    "\n",
    "print(lst.count(\"z\"))\n",
    "\n",
    "print(lst.count(\" \"))"
   ]
  },
  {
   "cell_type": "code",
   "execution_count": 113,
   "id": "77648bde",
   "metadata": {
    "scrolled": true
   },
   "outputs": [
    {
     "name": "stdout",
     "output_type": "stream",
     "text": [
      "['canada', 'Seria', 'Seria', 'Seria', 'Russai', 'Russai', 'Pak', 'Pak', 'Norway', 'Norway', 'Norway', 'Finland', 'Finland', 'Finland', 'Fiji', 'Cuba']\n",
      "11\n",
      "21\n"
     ]
    }
   ],
   "source": [
    "# index() - return the index number of a data element.\n",
    "\n",
    "print(countries)\n",
    "print(countries.index(\"Finland\"))\n",
    "\n",
    "print(lst.index(\"T\")) #return the fist index"
   ]
  },
  {
   "cell_type": "code",
   "execution_count": null,
   "id": "d39cc438",
   "metadata": {
    "scrolled": true
   },
   "outputs": [],
   "source": [
    "print(lst.index(\"a\"))"
   ]
  },
  {
   "cell_type": "code",
   "execution_count": 114,
   "id": "dcbfbd4b",
   "metadata": {
    "scrolled": true
   },
   "outputs": [
    {
     "name": "stdout",
     "output_type": "stream",
     "text": [
      "[10, 203, 40]\n",
      "[]\n"
     ]
    }
   ],
   "source": [
    "# clear()\n",
    "nums = [10,203,40]\n",
    "print(nums)\n",
    "\n",
    "\n",
    "nums.clear()\n",
    "\n",
    "#after clear\n",
    "print(nums)"
   ]
  },
  {
   "cell_type": "code",
   "execution_count": 117,
   "id": "26f80e11",
   "metadata": {
    "scrolled": true
   },
   "outputs": [
    {
     "name": "stdout",
     "output_type": "stream",
     "text": [
      "[10, 203, 40]\n"
     ]
    },
    {
     "ename": "NameError",
     "evalue": "name 'nums' is not defined",
     "output_type": "error",
     "traceback": [
      "\u001b[1;31m---------------------------------------------------------------------------\u001b[0m",
      "\u001b[1;31mNameError\u001b[0m                                 Traceback (most recent call last)",
      "Cell \u001b[1;32mIn[117], line 6\u001b[0m\n\u001b[0;32m      2\u001b[0m \u001b[38;5;28mprint\u001b[39m(nums)\n\u001b[0;32m      5\u001b[0m \u001b[38;5;28;01mdel\u001b[39;00m nums \u001b[38;5;66;03m#removes from memory\u001b[39;00m\n\u001b[1;32m----> 6\u001b[0m \u001b[38;5;28mprint\u001b[39m(\u001b[43mnums\u001b[49m)\n",
      "\u001b[1;31mNameError\u001b[0m: name 'nums' is not defined"
     ]
    }
   ],
   "source": [
    "nums = [10,203,40]\n",
    "print(nums)\n",
    "\n",
    "\n",
    "del nums #removes from memory\n",
    "print(nums)"
   ]
  },
  {
   "cell_type": "code",
   "execution_count": null,
   "id": "bd8569cc",
   "metadata": {},
   "outputs": [],
   "source": []
  },
  {
   "cell_type": "code",
   "execution_count": null,
   "id": "cf015602",
   "metadata": {
    "scrolled": true
   },
   "outputs": [],
   "source": [
    "# copy()\n",
    "\n",
    "countries = [\"india\" ,\"bang\",\"korea\"]\n",
    "copyVar = countries.copy()\n",
    "\n",
    "print(copyVar)\n",
    "\n",
    "print(id(copyVar) , id(countries))"
   ]
  },
  {
   "cell_type": "code",
   "execution_count": null,
   "id": "3482ffeb",
   "metadata": {
    "scrolled": true
   },
   "outputs": [],
   "source": [
    "copyVar[0] = \"SouthAfrica\"\n",
    "\n",
    "print(copyVar)\n",
    "print(countries)"
   ]
  },
  {
   "cell_type": "code",
   "execution_count": null,
   "id": "7175aa9a",
   "metadata": {},
   "outputs": [],
   "source": []
  },
  {
   "cell_type": "code",
   "execution_count": null,
   "id": "9f49d0a9",
   "metadata": {},
   "outputs": [],
   "source": []
  },
  {
   "cell_type": "code",
   "execution_count": null,
   "id": "4e7772b7",
   "metadata": {
    "scrolled": true
   },
   "outputs": [],
   "source": []
  },
  {
   "cell_type": "code",
   "execution_count": null,
   "id": "de1d3ba0",
   "metadata": {
    "scrolled": true
   },
   "outputs": [],
   "source": [
    "# summary \n",
    "    ==> insertion\n",
    "    ================\n",
    "        append(obj)\n",
    "        insert(ind,obj)\n",
    "        extend([obj1,obj2...objn])\n",
    "        \n",
    "        \n",
    "    deletion\n",
    "    =======================\n",
    "        pop(index=-1)\n",
    "        remove(vaue) # if value is not exists , raise ValueError\n",
    "        \n",
    "    popular \n",
    "    ============================\n",
    "    reverse()\n",
    "    count()\n",
    "    index()\n",
    "    sort() #default is desc\n",
    "    clear()\n",
    "    copy()\n",
    "    \n",
    "    \n",
    "        OBSERVATION\n",
    "    =============================\n",
    "    - insert() , even index is +ve/-ve invalid , we can insert the data\n",
    "    - pop() default will remove last indexed element\n",
    "    - we can't pop empty list\n",
    "    - remove() will throw Error if element is not there\n",
    "    - sort(reverse=True) : asc order.\n",
    "    - copy() method , it create new variable with different memory addr.\n",
    "    \n",
    "        \n",
    "        \n",
    "    \n",
    "    "
   ]
  },
  {
   "cell_type": "markdown",
   "id": "97e8bf76",
   "metadata": {},
   "source": [
    "### Tuple \n",
    "    - It's also collections and sequence & ordered data types\n",
    "    - stores multiple items in a single variable.\n",
    "    - declared with (ele1,ele2 ,ele3...)\n",
    "    - INDEXING \n",
    "        - +VE : 0 - N-1\n",
    "        - -VE : -1 - -N\n",
    "    - Immutable : changes not allowed at indexing levels "
   ]
  },
  {
   "cell_type": "code",
   "execution_count": 1,
   "id": "c3a5a4e3",
   "metadata": {
    "scrolled": true
   },
   "outputs": [],
   "source": [
    "planets = ('Earth',\"Venus\", 'Jupiter', 'Neptune', 'Mars', 'Venus', 'Saturn', 'Uranus', 'Mercury') # planets"
   ]
  },
  {
   "cell_type": "code",
   "execution_count": 2,
   "id": "976c4eb4",
   "metadata": {
    "scrolled": true
   },
   "outputs": [
    {
     "name": "stdout",
     "output_type": "stream",
     "text": [
      "('Earth', 'Venus', 'Jupiter', 'Neptune', 'Mars', 'Venus', 'Saturn', 'Uranus', 'Mercury') <class 'tuple'> 9\n"
     ]
    }
   ],
   "source": [
    "print(planets , type(planets) , len(planets))"
   ]
  },
  {
   "cell_type": "code",
   "execution_count": null,
   "id": "bfe8ea8b",
   "metadata": {
    "scrolled": true
   },
   "outputs": [],
   "source": [
    "print(planets[1])"
   ]
  },
  {
   "cell_type": "code",
   "execution_count": null,
   "id": "cdd6f09d",
   "metadata": {
    "scrolled": true
   },
   "outputs": [],
   "source": [
    "print(planets[-1])"
   ]
  },
  {
   "cell_type": "code",
   "execution_count": null,
   "id": "376af8f7",
   "metadata": {
    "scrolled": true
   },
   "outputs": [],
   "source": [
    "print(planets[-100])"
   ]
  },
  {
   "cell_type": "code",
   "execution_count": 3,
   "id": "1bba67fa",
   "metadata": {
    "scrolled": true
   },
   "outputs": [
    {
     "ename": "TypeError",
     "evalue": "'tuple' object does not support item assignment",
     "output_type": "error",
     "traceback": [
      "\u001b[1;31m---------------------------------------------------------------------------\u001b[0m",
      "\u001b[1;31mTypeError\u001b[0m                                 Traceback (most recent call last)",
      "Cell \u001b[1;32mIn[3], line 1\u001b[0m\n\u001b[1;32m----> 1\u001b[0m planets[\u001b[38;5;241m1\u001b[39m] \u001b[38;5;241m=\u001b[39m \u001b[38;5;124m\"\u001b[39m\u001b[38;5;124mPluto\u001b[39m\u001b[38;5;124m\"\u001b[39m\n",
      "\u001b[1;31mTypeError\u001b[0m: 'tuple' object does not support item assignment"
     ]
    }
   ],
   "source": [
    "planets[1] = \"Pluto\" #error"
   ]
  },
  {
   "cell_type": "code",
   "execution_count": 4,
   "id": "1bfc8edd",
   "metadata": {},
   "outputs": [
    {
     "name": "stdout",
     "output_type": "stream",
     "text": [
      "['__add__', '__class__', '__class_getitem__', '__contains__', '__delattr__', '__dir__', '__doc__', '__eq__', '__format__', '__ge__', '__getattribute__', '__getitem__', '__getnewargs__', '__gt__', '__hash__', '__init__', '__init_subclass__', '__iter__', '__le__', '__len__', '__lt__', '__mul__', '__ne__', '__new__', '__reduce__', '__reduce_ex__', '__repr__', '__rmul__', '__setattr__', '__sizeof__', '__str__', '__subclasshook__', 'count', 'index']\n"
     ]
    }
   ],
   "source": [
    "print(dir(planets))"
   ]
  },
  {
   "cell_type": "markdown",
   "id": "8e6e202b",
   "metadata": {},
   "source": [
    "### tuple methods\n",
    "    - count()\n",
    "    - index()"
   ]
  },
  {
   "cell_type": "code",
   "execution_count": null,
   "id": "ca79339a",
   "metadata": {},
   "outputs": [],
   "source": []
  },
  {
   "cell_type": "code",
   "execution_count": null,
   "id": "fcb04c03",
   "metadata": {},
   "outputs": [],
   "source": [
    "print(dir( () ))\n"
   ]
  },
  {
   "cell_type": "code",
   "execution_count": 5,
   "id": "9a336f17",
   "metadata": {
    "scrolled": true
   },
   "outputs": [
    {
     "data": {
      "text/plain": [
       "1"
      ]
     },
     "execution_count": 5,
     "metadata": {},
     "output_type": "execute_result"
    }
   ],
   "source": [
    "planets.count(\"Mars\")"
   ]
  },
  {
   "cell_type": "code",
   "execution_count": 6,
   "id": "a7ccf627",
   "metadata": {
    "scrolled": true
   },
   "outputs": [
    {
     "data": {
      "text/plain": [
       "0"
      ]
     },
     "execution_count": 6,
     "metadata": {},
     "output_type": "execute_result"
    }
   ],
   "source": [
    "planets.count(\"Aplha\")"
   ]
  },
  {
   "cell_type": "code",
   "execution_count": 7,
   "id": "f5764175",
   "metadata": {},
   "outputs": [
    {
     "data": {
      "text/plain": [
       "('Earth',\n",
       " 'Venus',\n",
       " 'Jupiter',\n",
       " 'Neptune',\n",
       " 'Mars',\n",
       " 'Venus',\n",
       " 'Saturn',\n",
       " 'Uranus',\n",
       " 'Mercury')"
      ]
     },
     "execution_count": 7,
     "metadata": {},
     "output_type": "execute_result"
    }
   ],
   "source": [
    "planets"
   ]
  },
  {
   "cell_type": "code",
   "execution_count": 8,
   "id": "6e979433",
   "metadata": {
    "scrolled": true
   },
   "outputs": [
    {
     "data": {
      "text/plain": [
       "1"
      ]
     },
     "execution_count": 8,
     "metadata": {},
     "output_type": "execute_result"
    }
   ],
   "source": [
    "planets.index(\"Venus\")"
   ]
  },
  {
   "cell_type": "code",
   "execution_count": 9,
   "id": "5e8f5776",
   "metadata": {
    "scrolled": true
   },
   "outputs": [
    {
     "ename": "ValueError",
     "evalue": "tuple.index(x): x not in tuple",
     "output_type": "error",
     "traceback": [
      "\u001b[1;31m---------------------------------------------------------------------------\u001b[0m",
      "\u001b[1;31mValueError\u001b[0m                                Traceback (most recent call last)",
      "Cell \u001b[1;32mIn[9], line 1\u001b[0m\n\u001b[1;32m----> 1\u001b[0m \u001b[43mplanets\u001b[49m\u001b[38;5;241;43m.\u001b[39;49m\u001b[43mindex\u001b[49m\u001b[43m(\u001b[49m\u001b[38;5;124;43m\"\u001b[39;49m\u001b[38;5;124;43mPluto\u001b[39;49m\u001b[38;5;124;43m\"\u001b[39;49m\u001b[43m)\u001b[49m\n",
      "\u001b[1;31mValueError\u001b[0m: tuple.index(x): x not in tuple"
     ]
    }
   ],
   "source": [
    "planets.index(\"Pluto\")"
   ]
  },
  {
   "cell_type": "code",
   "execution_count": 13,
   "id": "fcd3b67a",
   "metadata": {
    "scrolled": true
   },
   "outputs": [
    {
     "name": "stdout",
     "output_type": "stream",
     "text": [
      "Enter a number to count number of zeros029028782\n",
      "2\n"
     ]
    }
   ],
   "source": [
    "number = input(\"Enter a number to count number of zeros\")\n",
    "if number.count(\"0\") != 0:\n",
    "    print(number.count(\"0\"))\n",
    "else:\n",
    "    print(\"-1\")"
   ]
  },
  {
   "cell_type": "code",
   "execution_count": null,
   "id": "e4a52947",
   "metadata": {
    "scrolled": true
   },
   "outputs": [],
   "source": []
  },
  {
   "cell_type": "markdown",
   "id": "ad2e0bab",
   "metadata": {},
   "source": [
    "## Set \n",
    "    - It's Un-Ordered & Un-Indexed.\n",
    "    - Doesn't store the duplicates.\n",
    "    - declared with {}\n",
    "    - No Indexing because of No Ordering.\n",
    "    - Mutable\n",
    "    "
   ]
  },
  {
   "cell_type": "code",
   "execution_count": 15,
   "id": "cf239b7c",
   "metadata": {},
   "outputs": [
    {
     "name": "stdout",
     "output_type": "stream",
     "text": [
      "<class 'tuple'>\n",
      "<class 'list'>\n",
      "<class 'dict'>\n",
      "<class 'set'>\n"
     ]
    }
   ],
   "source": [
    "print(type( () )) #tuple\n",
    "print(type([])) #list\n",
    "print(type({})) # dictionary\n",
    "d = set() \n",
    "print(type(d))"
   ]
  },
  {
   "cell_type": "code",
   "execution_count": 16,
   "id": "ed8cd51c",
   "metadata": {
    "scrolled": true
   },
   "outputs": [
    {
     "name": "stdout",
     "output_type": "stream",
     "text": [
      "{'Aus', 'Bang', 'Ind', 'Pak', 'Sa', 'Eng'}\n"
     ]
    }
   ],
   "source": [
    "teams = {\"Ind\",\"Aus\",\"Eng\",\"Bang\",\"Pak\",\"Sa\",\"Sa\",\"Aus\"}\n",
    "print(teams)"
   ]
  },
  {
   "cell_type": "code",
   "execution_count": 17,
   "id": "e963bbdb",
   "metadata": {
    "scrolled": true
   },
   "outputs": [
    {
     "ename": "TypeError",
     "evalue": "'set' object is not subscriptable",
     "output_type": "error",
     "traceback": [
      "\u001b[1;31m---------------------------------------------------------------------------\u001b[0m",
      "\u001b[1;31mTypeError\u001b[0m                                 Traceback (most recent call last)",
      "Cell \u001b[1;32mIn[17], line 1\u001b[0m\n\u001b[1;32m----> 1\u001b[0m \u001b[38;5;28mprint\u001b[39m(\u001b[43mteams\u001b[49m\u001b[43m[\u001b[49m\u001b[38;5;241;43m0\u001b[39;49m\u001b[43m]\u001b[49m)\n",
      "\u001b[1;31mTypeError\u001b[0m: 'set' object is not subscriptable"
     ]
    }
   ],
   "source": [
    "print(teams[0]) #error set' object is not subscriptable"
   ]
  },
  {
   "cell_type": "code",
   "execution_count": 18,
   "id": "1efb9495",
   "metadata": {},
   "outputs": [
    {
     "name": "stdout",
     "output_type": "stream",
     "text": [
      "['__and__', '__class__', '__class_getitem__', '__contains__', '__delattr__', '__dir__', '__doc__', '__eq__', '__format__', '__ge__', '__getattribute__', '__gt__', '__hash__', '__iand__', '__init__', '__init_subclass__', '__ior__', '__isub__', '__iter__', '__ixor__', '__le__', '__len__', '__lt__', '__ne__', '__new__', '__or__', '__rand__', '__reduce__', '__reduce_ex__', '__repr__', '__ror__', '__rsub__', '__rxor__', '__setattr__', '__sizeof__', '__str__', '__sub__', '__subclasshook__', '__xor__', 'add', 'clear', 'copy', 'difference', 'difference_update', 'discard', 'intersection', 'intersection_update', 'isdisjoint', 'issubset', 'issuperset', 'pop', 'remove', 'symmetric_difference', 'symmetric_difference_update', 'union', 'update']\n"
     ]
    }
   ],
   "source": [
    "print(dir(teams))"
   ]
  },
  {
   "cell_type": "markdown",
   "id": "6f2c29e5",
   "metadata": {},
   "source": [
    "#### set methods\n",
    "        'add', 'clear', 'copy', 'difference', 'difference_update', \n",
    "        'discard', 'intersection', 'intersection_update', 'isdisjoint', \n",
    "        'issubset', 'issuperset', 'pop', 'remove', 'symmetric_difference',\n",
    "        'symmetric_difference_update', 'union', 'update'"
   ]
  },
  {
   "cell_type": "code",
   "execution_count": 19,
   "id": "8daf9c0a",
   "metadata": {
    "scrolled": true
   },
   "outputs": [
    {
     "name": "stdout",
     "output_type": "stream",
     "text": [
      "<class 'list'>\n",
      "<class 'tuple'>\n",
      "<class 'dict'>\n",
      "<class 'set'>\n"
     ]
    }
   ],
   "source": [
    "print(type( [] ))\n",
    "print(type( () ))\n",
    "print(type( {} ))\n",
    "print(type( set() ))"
   ]
  },
  {
   "cell_type": "code",
   "execution_count": null,
   "id": "a98c65db",
   "metadata": {},
   "outputs": [],
   "source": []
  },
  {
   "cell_type": "code",
   "execution_count": 20,
   "id": "a6b75d39",
   "metadata": {
    "scrolled": true
   },
   "outputs": [
    {
     "name": "stdout",
     "output_type": "stream",
     "text": [
      "{'Aus', 'Bang', 'Ind', 'Pak', 'Sa', 'Eng'}\n"
     ]
    }
   ],
   "source": [
    "print(teams)"
   ]
  },
  {
   "cell_type": "code",
   "execution_count": 21,
   "id": "0be036db",
   "metadata": {
    "scrolled": true
   },
   "outputs": [],
   "source": [
    "teams.add(\"Zimb\") #add data to the set."
   ]
  },
  {
   "cell_type": "code",
   "execution_count": 22,
   "id": "41361057",
   "metadata": {
    "scrolled": true
   },
   "outputs": [
    {
     "name": "stdout",
     "output_type": "stream",
     "text": [
      "{'Aus', 'Bang', 'Ind', 'Zimb', 'Pak', 'Sa', 'Eng'}\n"
     ]
    }
   ],
   "source": [
    "print(teams)"
   ]
  },
  {
   "cell_type": "code",
   "execution_count": 23,
   "id": "1d2ceba6",
   "metadata": {
    "scrolled": true
   },
   "outputs": [
    {
     "name": "stdout",
     "output_type": "stream",
     "text": [
      "{'Aus', 'Bang', 'Ind', 'Zimb', 'Pak', 'Sa'}\n"
     ]
    }
   ],
   "source": [
    "teams.discard(\"Eng\") #no element no  error \n",
    "print(teams)"
   ]
  },
  {
   "cell_type": "code",
   "execution_count": 24,
   "id": "32c8e538",
   "metadata": {
    "scrolled": true
   },
   "outputs": [
    {
     "name": "stdout",
     "output_type": "stream",
     "text": [
      "{'Aus', 'Bang', 'Ind', 'Zimb', 'Pak'}\n"
     ]
    }
   ],
   "source": [
    "teams.remove(\"Sa\") #no element will throw error\n",
    "print(teams)"
   ]
  },
  {
   "cell_type": "code",
   "execution_count": 25,
   "id": "c7c82b64",
   "metadata": {
    "scrolled": true
   },
   "outputs": [
    {
     "ename": "KeyError",
     "evalue": "'USA'",
     "output_type": "error",
     "traceback": [
      "\u001b[1;31m---------------------------------------------------------------------------\u001b[0m",
      "\u001b[1;31mKeyError\u001b[0m                                  Traceback (most recent call last)",
      "Cell \u001b[1;32mIn[25], line 1\u001b[0m\n\u001b[1;32m----> 1\u001b[0m \u001b[43mteams\u001b[49m\u001b[38;5;241;43m.\u001b[39;49m\u001b[43mremove\u001b[49m\u001b[43m(\u001b[49m\u001b[38;5;124;43m\"\u001b[39;49m\u001b[38;5;124;43mUSA\u001b[39;49m\u001b[38;5;124;43m\"\u001b[39;49m\u001b[43m)\u001b[49m \u001b[38;5;66;03m#raise Error if not a element\u001b[39;00m\n\u001b[0;32m      2\u001b[0m \u001b[38;5;28mprint\u001b[39m(teams)\n",
      "\u001b[1;31mKeyError\u001b[0m: 'USA'"
     ]
    }
   ],
   "source": [
    "teams.remove(\"USA\") #raise Error if not a element\n",
    "print(teams)"
   ]
  },
  {
   "cell_type": "code",
   "execution_count": 26,
   "id": "5ca28785",
   "metadata": {
    "scrolled": true
   },
   "outputs": [
    {
     "name": "stdout",
     "output_type": "stream",
     "text": [
      "{'amazon'}\n"
     ]
    }
   ],
   "source": [
    "x = {\"apple\",\"google\",\"amazon\"}\n",
    "y = {\"netflix\",\"google\",\"apple\"}\n",
    "\n",
    "print(x.difference(y))"
   ]
  },
  {
   "cell_type": "code",
   "execution_count": 27,
   "id": "8b9d0fea",
   "metadata": {
    "scrolled": true
   },
   "outputs": [
    {
     "name": "stdout",
     "output_type": "stream",
     "text": [
      "{'netflix'}\n"
     ]
    }
   ],
   "source": [
    "#difference()\n",
    "x = {\"apple\",\"google\",\"amazon\"}\n",
    "y = {\"netflix\",\"google\",\"apple\"}\n",
    "\n",
    "print(y.difference(x))"
   ]
  },
  {
   "cell_type": "code",
   "execution_count": 28,
   "id": "1f8a3e26",
   "metadata": {
    "scrolled": true
   },
   "outputs": [
    {
     "name": "stdout",
     "output_type": "stream",
     "text": [
      "{'netflix', 'google', 'apple', 'amazon'}\n",
      "{'netflix', 'google', 'apple', 'amazon'}\n"
     ]
    }
   ],
   "source": [
    "# union()\n",
    "\n",
    "print(x.union(y))\n",
    "\n",
    "print(x | y) #pipe symbol"
   ]
  },
  {
   "cell_type": "code",
   "execution_count": 29,
   "id": "2fe1ef16",
   "metadata": {
    "scrolled": true
   },
   "outputs": [
    {
     "name": "stdout",
     "output_type": "stream",
     "text": [
      "{'google', 'apple'}\n"
     ]
    }
   ],
   "source": [
    "# intersection\n",
    "print(x.intersection(y)) #common elements"
   ]
  },
  {
   "cell_type": "code",
   "execution_count": 30,
   "id": "7c58c3f2",
   "metadata": {
    "scrolled": true
   },
   "outputs": [
    {
     "name": "stdout",
     "output_type": "stream",
     "text": [
      "{'google', 'apple', 'amazon'}\n"
     ]
    }
   ],
   "source": [
    "print(x)"
   ]
  },
  {
   "cell_type": "code",
   "execution_count": 32,
   "id": "b8ad7247",
   "metadata": {
    "scrolled": true
   },
   "outputs": [
    {
     "name": "stdout",
     "output_type": "stream",
     "text": [
      "apple\n"
     ]
    }
   ],
   "source": [
    "print(x.pop())"
   ]
  },
  {
   "cell_type": "code",
   "execution_count": null,
   "id": "124fa23b",
   "metadata": {
    "scrolled": true
   },
   "outputs": [],
   "source": [
    "{}.pop()\n",
    "[].pop()\n",
    "{dict}.pop()\n",
    "\n",
    "# raise a KeyError"
   ]
  },
  {
   "cell_type": "code",
   "execution_count": 37,
   "id": "b4f26e0e",
   "metadata": {
    "scrolled": true
   },
   "outputs": [
    {
     "name": "stdout",
     "output_type": "stream",
     "text": [
      "False\n"
     ]
    }
   ],
   "source": [
    "a = {\"iphone12\",\"iphone13\",\"iphone16\"}\n",
    "b = {\"iphone15\",\"ipadpro\",\"microsoftSurface\",\"iphone16\"}\n",
    "\n",
    "print(a.isdisjoint(b))\n"
   ]
  },
  {
   "cell_type": "code",
   "execution_count": 38,
   "id": "6f678509",
   "metadata": {
    "scrolled": true
   },
   "outputs": [
    {
     "name": "stdout",
     "output_type": "stream",
     "text": [
      "False\n"
     ]
    }
   ],
   "source": [
    "c = {\"iphone12\",\"iphone14\"}\n",
    "\n",
    "print(c.issubset(a))"
   ]
  },
  {
   "cell_type": "code",
   "execution_count": null,
   "id": "2fa9b6f2",
   "metadata": {
    "scrolled": true
   },
   "outputs": [],
   "source": []
  },
  {
   "cell_type": "code",
   "execution_count": 39,
   "id": "dc48c922",
   "metadata": {
    "scrolled": true
   },
   "outputs": [
    {
     "name": "stdout",
     "output_type": "stream",
     "text": [
      "7\n"
     ]
    }
   ],
   "source": [
    "# remove duplicate elements\n",
    "lst = [10,20,30,20,20,30,20]\n",
    "print(len(lst))"
   ]
  },
  {
   "cell_type": "code",
   "execution_count": null,
   "id": "70fc958a",
   "metadata": {},
   "outputs": [],
   "source": []
  },
  {
   "cell_type": "code",
   "execution_count": 40,
   "id": "96110a33",
   "metadata": {
    "scrolled": true
   },
   "outputs": [
    {
     "name": "stdout",
     "output_type": "stream",
     "text": [
      "{10, 20, 30} 3\n"
     ]
    }
   ],
   "source": [
    "NoDupList = set(lst) #list -- set convertion\n",
    "\n",
    "print(NoDupList , len(NoDupList))"
   ]
  },
  {
   "cell_type": "code",
   "execution_count": null,
   "id": "b9cdc0bc",
   "metadata": {
    "scrolled": true
   },
   "outputs": [],
   "source": [
    "#prebild method \n",
    "int()\n",
    "float()\n",
    "complex()\n",
    "bool()\n",
    "str()\n",
    "\n",
    "list()\n",
    "tuple()\n",
    "set()\n",
    "dict()\n"
   ]
  },
  {
   "cell_type": "code",
   "execution_count": null,
   "id": "ef6bf604",
   "metadata": {
    "scrolled": true
   },
   "outputs": [],
   "source": []
  },
  {
   "cell_type": "markdown",
   "id": "55bbc8ae",
   "metadata": {},
   "source": [
    "### Dictionary \n",
    "        - Based on key:value\n",
    "\t\t- Keys should be immutable and unique\n",
    "\t\t\t:: Immutable \t\n",
    "\t\t\t\t\t- str\n",
    "\t\t\t\t\t- tuple \n",
    "\t\t\t\t\t- int , float , complex , boolean\n",
    "        - Indexing is based on Keys\n",
    "\t\t##methods \n",
    "\t\t\t- keys()\n",
    "\t\t\t- values()\n",
    "\t\t\t- items()\n",
    "\t\t\t- pop()\n",
    "\t\t\t- popitem()\n",
    "\t\t\t- update()\n",
    "\t\t\t- get()\n",
    "            \n",
    "        syntax:\n",
    "            varName = {\n",
    "                k1:v1,\n",
    "                k2:v2,\n",
    "                ...\n",
    "                ...\n",
    "                \n",
    "                kn:vn\n",
    "                }"
   ]
  },
  {
   "cell_type": "code",
   "execution_count": 41,
   "id": "f1a98a16",
   "metadata": {
    "scrolled": true
   },
   "outputs": [
    {
     "name": "stdout",
     "output_type": "stream",
     "text": [
      "{'cricketTeamName': 'India', 'Captain': 'RS', 'country': 'India', 'year': 2022, 'is_top20': True, 'Players': ['Virat', 'Rohit', 'Bhu', 'Python']} <class 'dict'>\n"
     ]
    }
   ],
   "source": [
    "team = {\n",
    "    'cricketTeamName' : 'India',\n",
    "    'Captain' : 'RS',\n",
    "    'country' : 'India', \n",
    "    'year' : 2022, \n",
    "    'is_top20' : True,\n",
    "    'Players' : ['Virat', 'Rohit', 'Bhu', 'Python'],\n",
    "     'cricketTeamName' : 'Bharat',\n",
    "    }\n",
    "\n",
    "print(team , type(team))"
   ]
  },
  {
   "cell_type": "code",
   "execution_count": 42,
   "id": "ea83c4a7",
   "metadata": {
    "scrolled": true
   },
   "outputs": [
    {
     "name": "stdout",
     "output_type": "stream",
     "text": [
      "<class 'int'>\n",
      "<class 'str'>\n",
      "<class 'list'>\n",
      "<class 'tuple'>\n",
      "<class 'set'>\n",
      "<class 'dict'>\n"
     ]
    }
   ],
   "source": [
    "\n",
    "print(type(10))\n",
    "\n",
    "print(type(\"kumar\"))\n",
    "\n",
    "print(type([]))\n",
    "\n",
    "print(type( () ))\n",
    "\n",
    "\n",
    "print(type(set()))\n",
    "\n",
    "print(type({}))\n"
   ]
  },
  {
   "cell_type": "code",
   "execution_count": 43,
   "id": "c7e36f1c",
   "metadata": {},
   "outputs": [
    {
     "data": {
      "text/plain": [
       "{'cricketTeamName': 'India',\n",
       " 'Captain': 'RS',\n",
       " 'country': 'India',\n",
       " 'year': 2022,\n",
       " 'is_top20': True,\n",
       " 'Players': ['Virat', 'Rohit', 'Bhu', 'Python']}"
      ]
     },
     "execution_count": 43,
     "metadata": {},
     "output_type": "execute_result"
    }
   ],
   "source": [
    "team"
   ]
  },
  {
   "cell_type": "code",
   "execution_count": 44,
   "id": "9b9ed36c",
   "metadata": {},
   "outputs": [
    {
     "ename": "KeyError",
     "evalue": "0",
     "output_type": "error",
     "traceback": [
      "\u001b[1;31m---------------------------------------------------------------------------\u001b[0m",
      "\u001b[1;31mKeyError\u001b[0m                                  Traceback (most recent call last)",
      "Cell \u001b[1;32mIn[44], line 1\u001b[0m\n\u001b[1;32m----> 1\u001b[0m \u001b[43mteam\u001b[49m\u001b[43m[\u001b[49m\u001b[38;5;241;43m0\u001b[39;49m\u001b[43m]\u001b[49m\n",
      "\u001b[1;31mKeyError\u001b[0m: 0"
     ]
    }
   ],
   "source": [
    "team[0]"
   ]
  },
  {
   "cell_type": "code",
   "execution_count": 46,
   "id": "16207968",
   "metadata": {},
   "outputs": [
    {
     "ename": "KeyError",
     "evalue": "'players'",
     "output_type": "error",
     "traceback": [
      "\u001b[1;31m---------------------------------------------------------------------------\u001b[0m",
      "\u001b[1;31mKeyError\u001b[0m                                  Traceback (most recent call last)",
      "Cell \u001b[1;32mIn[46], line 1\u001b[0m\n\u001b[1;32m----> 1\u001b[0m \u001b[43mteam\u001b[49m\u001b[43m[\u001b[49m\u001b[38;5;124;43m'\u001b[39;49m\u001b[38;5;124;43mplayers\u001b[39;49m\u001b[38;5;124;43m'\u001b[39;49m\u001b[43m]\u001b[49m\n",
      "\u001b[1;31mKeyError\u001b[0m: 'players'"
     ]
    }
   ],
   "source": [
    "team['players']"
   ]
  },
  {
   "cell_type": "code",
   "execution_count": 47,
   "id": "dc9d0183",
   "metadata": {
    "scrolled": true
   },
   "outputs": [
    {
     "name": "stdout",
     "output_type": "stream",
     "text": [
      "dict_keys(['cricketTeamName', 'Captain', 'country', 'year', 'is_top20', 'Players'])\n"
     ]
    }
   ],
   "source": [
    "print(team.keys())"
   ]
  },
  {
   "cell_type": "code",
   "execution_count": 48,
   "id": "f879ff86",
   "metadata": {},
   "outputs": [
    {
     "name": "stdout",
     "output_type": "stream",
     "text": [
      "dict_values(['India', 'RS', 'India', 2022, True, ['Virat', 'Rohit', 'Bhu', 'Python']])\n"
     ]
    }
   ],
   "source": [
    "print(team.values())"
   ]
  },
  {
   "cell_type": "code",
   "execution_count": 49,
   "id": "7d64a248",
   "metadata": {
    "scrolled": true
   },
   "outputs": [
    {
     "name": "stdout",
     "output_type": "stream",
     "text": [
      "India\n"
     ]
    }
   ],
   "source": [
    "print(team['country'])"
   ]
  },
  {
   "cell_type": "code",
   "execution_count": 50,
   "id": "fc0aabc4",
   "metadata": {
    "scrolled": true
   },
   "outputs": [
    {
     "name": "stdout",
     "output_type": "stream",
     "text": [
      "RS\n"
     ]
    }
   ],
   "source": [
    "print(team[\"Captain\"])"
   ]
  },
  {
   "cell_type": "code",
   "execution_count": 51,
   "id": "64b8294e",
   "metadata": {
    "scrolled": true
   },
   "outputs": [
    {
     "name": "stdout",
     "output_type": "stream",
     "text": [
      "['Virat', 'Rohit', 'Bhu', 'Python']\n"
     ]
    }
   ],
   "source": [
    "print(team[\"Players\"])"
   ]
  },
  {
   "cell_type": "code",
   "execution_count": 52,
   "id": "00af82e8",
   "metadata": {
    "scrolled": true
   },
   "outputs": [
    {
     "ename": "KeyError",
     "evalue": "'ipl_captain'",
     "output_type": "error",
     "traceback": [
      "\u001b[1;31m---------------------------------------------------------------------------\u001b[0m",
      "\u001b[1;31mKeyError\u001b[0m                                  Traceback (most recent call last)",
      "Cell \u001b[1;32mIn[52], line 1\u001b[0m\n\u001b[1;32m----> 1\u001b[0m \u001b[38;5;28mprint\u001b[39m(\u001b[43mteam\u001b[49m\u001b[43m[\u001b[49m\u001b[38;5;124;43m'\u001b[39;49m\u001b[38;5;124;43mipl_captain\u001b[39;49m\u001b[38;5;124;43m'\u001b[39;49m\u001b[43m]\u001b[49m)\n",
      "\u001b[1;31mKeyError\u001b[0m: 'ipl_captain'"
     ]
    }
   ],
   "source": [
    "print(team['ipl_captain'])"
   ]
  },
  {
   "cell_type": "markdown",
   "id": "16eda400",
   "metadata": {},
   "source": [
    "### methods "
   ]
  },
  {
   "cell_type": "code",
   "execution_count": 59,
   "id": "f1167371",
   "metadata": {
    "scrolled": true
   },
   "outputs": [
    {
     "name": "stdout",
     "output_type": "stream",
     "text": [
      "['Virat', 'Rohit', 'Bhu', 'Python']\n"
     ]
    }
   ],
   "source": [
    "#get()\n",
    "print(team.get('Players'))"
   ]
  },
  {
   "cell_type": "code",
   "execution_count": 57,
   "id": "46d3d7d0",
   "metadata": {
    "scrolled": true
   },
   "outputs": [
    {
     "ename": "KeyError",
     "evalue": "'ipl_captain'",
     "output_type": "error",
     "traceback": [
      "\u001b[1;31m---------------------------------------------------------------------------\u001b[0m",
      "\u001b[1;31mKeyError\u001b[0m                                  Traceback (most recent call last)",
      "Cell \u001b[1;32mIn[57], line 1\u001b[0m\n\u001b[1;32m----> 1\u001b[0m \u001b[38;5;28mprint\u001b[39m(\u001b[43mteam\u001b[49m\u001b[43m[\u001b[49m\u001b[38;5;124;43m'\u001b[39;49m\u001b[38;5;124;43mipl_captain\u001b[39;49m\u001b[38;5;124;43m'\u001b[39;49m\u001b[43m]\u001b[49m)\n",
      "\u001b[1;31mKeyError\u001b[0m: 'ipl_captain'"
     ]
    }
   ],
   "source": [
    "print(team['ipl_captain']) #fastest"
   ]
  },
  {
   "cell_type": "code",
   "execution_count": 61,
   "id": "15e1ea46",
   "metadata": {
    "scrolled": true
   },
   "outputs": [
    {
     "name": "stdout",
     "output_type": "stream",
     "text": [
      "key not there\n"
     ]
    }
   ],
   "source": [
    "print(team.get(\"Year\",\"key not there\"))"
   ]
  },
  {
   "cell_type": "code",
   "execution_count": null,
   "id": "63616a64",
   "metadata": {},
   "outputs": [],
   "source": [
    "['keyname'] --> always should be valid key otherwise raise keyerror\n",
    ".get('keyname') --> if key is invalid it will print None or some text"
   ]
  },
  {
   "cell_type": "code",
   "execution_count": null,
   "id": "c4cc3a0b",
   "metadata": {},
   "outputs": [],
   "source": []
  },
  {
   "cell_type": "code",
   "execution_count": null,
   "id": "66d5eee9",
   "metadata": {},
   "outputs": [],
   "source": []
  },
  {
   "cell_type": "code",
   "execution_count": 62,
   "id": "d940e260",
   "metadata": {
    "scrolled": true
   },
   "outputs": [
    {
     "name": "stdout",
     "output_type": "stream",
     "text": [
      "dict_keys(['cricketTeamName', 'Captain', 'country', 'year', 'is_top20', 'Players'])\n"
     ]
    }
   ],
   "source": [
    "#keys()\n",
    "print(team.keys())"
   ]
  },
  {
   "cell_type": "code",
   "execution_count": 63,
   "id": "be4acbf2",
   "metadata": {
    "scrolled": true
   },
   "outputs": [
    {
     "name": "stdout",
     "output_type": "stream",
     "text": [
      "dict_values(['India', 'RS', 'India', 2022, True, ['Virat', 'Rohit', 'Bhu', 'Python']])\n"
     ]
    }
   ],
   "source": [
    "#values()\n",
    "print(team.values())"
   ]
  },
  {
   "cell_type": "code",
   "execution_count": 64,
   "id": "0249aabb",
   "metadata": {
    "scrolled": true
   },
   "outputs": [
    {
     "name": "stdout",
     "output_type": "stream",
     "text": [
      "dict_items([('cricketTeamName', 'India'), ('Captain', 'RS'), ('country', 'India'), ('year', 2022), ('is_top20', True), ('Players', ['Virat', 'Rohit', 'Bhu', 'Python'])])\n"
     ]
    }
   ],
   "source": [
    "#items() --[(K1,V1),(K2,V2)....] list of tuples\n",
    "\n",
    "print(team.items())"
   ]
  },
  {
   "cell_type": "code",
   "execution_count": null,
   "id": "8eebcd0c",
   "metadata": {},
   "outputs": [],
   "source": []
  },
  {
   "cell_type": "code",
   "execution_count": 65,
   "id": "8c62a453",
   "metadata": {
    "scrolled": true
   },
   "outputs": [
    {
     "name": "stdout",
     "output_type": "stream",
     "text": [
      "{'cricketTeamName': 'India', 'Captain': 'RS', 'country': 'India', 'year': 2022, 'is_top20': True, 'Players': ['Virat', 'Rohit', 'Bhu', 'Python']}\n"
     ]
    }
   ],
   "source": [
    "print(team)"
   ]
  },
  {
   "cell_type": "code",
   "execution_count": 66,
   "id": "663b64d0",
   "metadata": {
    "scrolled": true
   },
   "outputs": [
    {
     "name": "stdout",
     "output_type": "stream",
     "text": [
      "{'cricketTeamName': 'India', 'Captain': 'RS', 'country': 'India', 'year': 2023, 'is_top20': True, 'Players': ['Virat', 'Rohit', 'Bhu', 'Python']}\n"
     ]
    }
   ],
   "source": [
    "team.update({'year' : 2023})\n",
    "print(team)"
   ]
  },
  {
   "cell_type": "code",
   "execution_count": 67,
   "id": "cfd39a9c",
   "metadata": {
    "scrolled": true
   },
   "outputs": [
    {
     "name": "stdout",
     "output_type": "stream",
     "text": [
      "{'cricketTeamName': 'India', 'Captain': 'KL Rahul', 'country': 'India', 'year': 2023, 'is_top20': True, 'Players': ['Virat', 'Rohit', 'Bhu', 'Python']}\n"
     ]
    }
   ],
   "source": [
    "team.update({\"Captain\":\"KL Rahul\"})\n",
    "\n",
    "print(team)"
   ]
  },
  {
   "cell_type": "code",
   "execution_count": 68,
   "id": "466bd4c2",
   "metadata": {
    "scrolled": true
   },
   "outputs": [
    {
     "name": "stdout",
     "output_type": "stream",
     "text": [
      "{'cricketTeamName': 'India', 'Captain': 'KL Rahul', 'country': 'India', 'year': 2023, 'is_top20': True, 'Players': ['Virat', 'Rohit', 'Bhu', 'Python']}\n"
     ]
    }
   ],
   "source": [
    "print(team)"
   ]
  },
  {
   "cell_type": "code",
   "execution_count": 69,
   "id": "b849c828",
   "metadata": {},
   "outputs": [
    {
     "name": "stdout",
     "output_type": "stream",
     "text": [
      "{'cricketTeamName': 'India', 'Captain': 'KL Rahul', 'country': 'India', 'year': 2023, 'is_top20': True, 'Players': ['Virat', 'Rohit', 'Bhu', 'Python'], 'iplCaptain': 'Kohli'}\n"
     ]
    }
   ],
   "source": [
    "team.update({\"iplCaptain\" : 'Kohli'})\n",
    "print(team)"
   ]
  },
  {
   "cell_type": "code",
   "execution_count": null,
   "id": "731286da",
   "metadata": {},
   "outputs": [],
   "source": []
  },
  {
   "cell_type": "code",
   "execution_count": null,
   "id": "dde9afc1",
   "metadata": {},
   "outputs": [],
   "source": []
  },
  {
   "cell_type": "code",
   "execution_count": 70,
   "id": "ec85d884",
   "metadata": {
    "scrolled": true
   },
   "outputs": [
    {
     "name": "stdout",
     "output_type": "stream",
     "text": [
      "2023\n"
     ]
    }
   ],
   "source": [
    "res = team.pop(\"year\")\n",
    "print(res)\n"
   ]
  },
  {
   "cell_type": "code",
   "execution_count": 71,
   "id": "b0057d02",
   "metadata": {},
   "outputs": [
    {
     "name": "stdout",
     "output_type": "stream",
     "text": [
      "{'cricketTeamName': 'India', 'Captain': 'KL Rahul', 'country': 'India', 'is_top20': True, 'Players': ['Virat', 'Rohit', 'Bhu', 'Python'], 'iplCaptain': 'Kohli'}\n"
     ]
    }
   ],
   "source": [
    "print(team)"
   ]
  },
  {
   "cell_type": "code",
   "execution_count": 72,
   "id": "d22d8d4d",
   "metadata": {},
   "outputs": [
    {
     "name": "stdout",
     "output_type": "stream",
     "text": [
      "Kohli\n"
     ]
    }
   ],
   "source": [
    "print(team.pop('iplCaptain'))"
   ]
  },
  {
   "cell_type": "code",
   "execution_count": 73,
   "id": "094ba291",
   "metadata": {
    "scrolled": true
   },
   "outputs": [
    {
     "data": {
      "text/plain": [
       "{'cricketTeamName': 'India',\n",
       " 'Captain': 'KL Rahul',\n",
       " 'country': 'India',\n",
       " 'is_top20': True,\n",
       " 'Players': ['Virat', 'Rohit', 'Bhu', 'Python']}"
      ]
     },
     "execution_count": 73,
     "metadata": {},
     "output_type": "execute_result"
    }
   ],
   "source": [
    "team"
   ]
  },
  {
   "cell_type": "code",
   "execution_count": 76,
   "id": "0b6aa177",
   "metadata": {
    "scrolled": true
   },
   "outputs": [
    {
     "name": "stdout",
     "output_type": "stream",
     "text": [
      "('is_top20', True)\n"
     ]
    }
   ],
   "source": [
    "print(team.popitem()) #always remove last (k,v)"
   ]
  },
  {
   "cell_type": "code",
   "execution_count": 77,
   "id": "e76517be",
   "metadata": {
    "scrolled": true
   },
   "outputs": [
    {
     "name": "stdout",
     "output_type": "stream",
     "text": [
      "{'cricketTeamName': 'India', 'Captain': 'KL Rahul', 'country': 'India'}\n"
     ]
    }
   ],
   "source": [
    "print(team)"
   ]
  },
  {
   "cell_type": "code",
   "execution_count": 80,
   "id": "fb509198",
   "metadata": {},
   "outputs": [
    {
     "name": "stdout",
     "output_type": "stream",
     "text": [
      "{('name',): 'mahesh', 10: 'ruby', False: True, (1+2j): 'complex'}\n",
      "{('name',): 'mahesh'}\n"
     ]
    },
    {
     "ename": "KeyError",
     "evalue": "'popitem(): dictionary is empty'",
     "output_type": "error",
     "traceback": [
      "\u001b[1;31m---------------------------------------------------------------------------\u001b[0m",
      "\u001b[1;31mKeyError\u001b[0m                                  Traceback (most recent call last)",
      "Cell \u001b[1;32mIn[80], line 17\u001b[0m\n\u001b[0;32m     15\u001b[0m \u001b[38;5;28mprint\u001b[39m(student)\n\u001b[0;32m     16\u001b[0m student\u001b[38;5;241m.\u001b[39mpopitem()\n\u001b[1;32m---> 17\u001b[0m \u001b[43mstudent\u001b[49m\u001b[38;5;241;43m.\u001b[39;49m\u001b[43mpopitem\u001b[49m\u001b[43m(\u001b[49m\u001b[43m)\u001b[49m\n",
      "\u001b[1;31mKeyError\u001b[0m: 'popitem(): dictionary is empty'"
     ]
    }
   ],
   "source": [
    "student = {\n",
    "    \n",
    "    (\"name\",) : \"mahesh\",\n",
    "    10 : \"ruby\",\n",
    "    False : True,\n",
    "    1+2j : \"complex\"\n",
    "}\n",
    "\n",
    "print(student)\n",
    "\n",
    "\n",
    "student.popitem()\n",
    "student.popitem()\n",
    "student.popitem()\n",
    "print(student)\n",
    "student.popitem()\n",
    "student.popitem()"
   ]
  },
  {
   "cell_type": "code",
   "execution_count": null,
   "id": "4167d07a",
   "metadata": {
    "scrolled": true
   },
   "outputs": [],
   "source": [
    "# get()\n",
    "# items()\n",
    "# keys()\n",
    "# values()\n",
    "# pop()\n",
    "# popitem()\n",
    "# update()\n",
    "\n",
    "\n",
    "# NOTE:\n",
    "    - U can't access invalid key --> Key Error.\n",
    "    - U can't pop on invalid key --> Key Error.\n",
    "    - U can't pop on empty dictionary\n",
    "    - When you try to update invalid key --> it will create a new entry(k,v)"
   ]
  },
  {
   "cell_type": "markdown",
   "id": "9f5ef59c",
   "metadata": {
    "scrolled": true
   },
   "source": [
    "### Try these?\n",
    "    - can we create/declare duplicate keys in dictionary?\n",
    "     if yes what's behaviour.\n",
    "     "
   ]
  },
  {
   "cell_type": "code",
   "execution_count": 82,
   "id": "af3e0a4d",
   "metadata": {},
   "outputs": [],
   "source": [
    "users = {\n",
    "\t\"page\": 2,\n",
    "\t\"per_page\": 6,\n",
    "\t\"total\": 12,\n",
    "\t\"total_pages\": 2,\n",
    "\t\"data\": [\n",
    "\t\t{\n",
    "\t\t\t\"id\": 7,\n",
    "\t\t\t\"email\": \"michael.lawson@reqres.in\",\n",
    "\t\t\t\"first_name\": \"Michael\",\n",
    "\t\t\t\"last_name\": \"Lawson\",\n",
    "\t\t\t\"avatar\": \"https://reqres.in/img/faces/7-image.jpg\"\n",
    "\t\t},\n",
    "\t\t{\n",
    "\t\t\t\"id\": 8,\n",
    "\t\t\t\"email\": \"lindsay.ferguson@reqres.in\",\n",
    "\t\t\t\"first_name\": \"Lindsay\",\n",
    "\t\t\t\"last_name\": \"Ferguson\",\n",
    "\t\t\t\"avatar\": \"https://reqres.in/img/faces/8-image.jpg\"\n",
    "\t\t},\n",
    "\t\t{\n",
    "\t\t\t\"id\": 9,\n",
    "\t\t\t\"email\": \"tobias.funke@reqres.in\",\n",
    "\t\t\t\"first_name\": \"Tobias\",\n",
    "\t\t\t\"last_name\": \"Funke\",\n",
    "\t\t\t\"avatar\": \"https://reqres.in/img/faces/9-image.jpg\"\n",
    "\t\t},\n",
    "\t\t{\n",
    "\t\t\t\"id\": 10,\n",
    "\t\t\t\"email\": \"byron.fields@reqres.in\",\n",
    "\t\t\t\"first_name\": \"Byron\",\n",
    "\t\t\t\"last_name\": \"Fields\",\n",
    "\t\t\t\"avatar\": \"https://reqres.in/img/faces/10-image.jpg\"\n",
    "\t\t},\n",
    "\t\t{\n",
    "\t\t\t\"id\": 11,\n",
    "\t\t\t\"email\": \"george.edwards@reqres.in\",\n",
    "\t\t\t\"first_name\": \"George\",\n",
    "\t\t\t\"last_name\": \"Edwards\",\n",
    "\t\t\t\"avatar\": \"https://reqres.in/img/faces/11-image.jpg\"\n",
    "\t\t},\n",
    "\t\t{\n",
    "\t\t\t\"id\": 12,\n",
    "\t\t\t\"email\": \"rachel.howell@reqres.in\",\n",
    "\t\t\t\"first_name\": \"Rachel\",\n",
    "\t\t\t\"last_name\": \"Howell\",\n",
    "\t\t\t\"avatar\": \"https://reqres.in/img/faces/12-image.jpg\"\n",
    "\t\t}\n",
    "\t],\n",
    "\t\"support\": {\n",
    "\t\t\"url\": \"https://reqres.in/#support-heading\",\n",
    "\t\t\"text\": \"To keep ReqRes free, contributions towards server costs are appreciated!\"\n",
    "\t}\n",
    "}"
   ]
  },
  {
   "cell_type": "code",
   "execution_count": 83,
   "id": "b7113375",
   "metadata": {},
   "outputs": [
    {
     "data": {
      "text/plain": [
       "dict_keys(['page', 'per_page', 'total', 'total_pages', 'data', 'support'])"
      ]
     },
     "execution_count": 83,
     "metadata": {},
     "output_type": "execute_result"
    }
   ],
   "source": [
    "users.keys()"
   ]
  },
  {
   "cell_type": "code",
   "execution_count": 86,
   "id": "6d532713",
   "metadata": {},
   "outputs": [
    {
     "data": {
      "text/plain": [
       "'To keep ReqRes free, contributions towards server costs are appreciated!'"
      ]
     },
     "execution_count": 86,
     "metadata": {},
     "output_type": "execute_result"
    }
   ],
   "source": [
    "users['support']['text']"
   ]
  },
  {
   "cell_type": "code",
   "execution_count": 92,
   "id": "0d3d170f",
   "metadata": {},
   "outputs": [
    {
     "data": {
      "text/plain": [
       "'Byron'"
      ]
     },
     "execution_count": 92,
     "metadata": {},
     "output_type": "execute_result"
    }
   ],
   "source": [
    "users['data'][3]['first_name']"
   ]
  },
  {
   "cell_type": "code",
   "execution_count": 93,
   "id": "00d6b09a",
   "metadata": {},
   "outputs": [],
   "source": [
    "data = {\"isbn\": \"123-456-222\",  \n",
    " \"author\": \n",
    "    {\n",
    "      \"lastname\": \"Doe\",\n",
    "      \"firstname\": \"Jane\"\n",
    "    },\n",
    "\"editor\": \n",
    "    {\n",
    "      \"lastname\": \"Smith\",\n",
    "      \"firstname\": \"Jane\"\n",
    "    },\n",
    "  \"title\": \"The Ultimate Database Study Guide\",  \n",
    "  \"category\": [\"Non-Fiction\", \"Technology\"]\n",
    " }\n",
    "\n"
   ]
  },
  {
   "cell_type": "code",
   "execution_count": 94,
   "id": "d5277738",
   "metadata": {},
   "outputs": [
    {
     "data": {
      "text/plain": [
       "dict_keys(['isbn', 'author', 'editor', 'title', 'category'])"
      ]
     },
     "execution_count": 94,
     "metadata": {},
     "output_type": "execute_result"
    }
   ],
   "source": [
    "data.keys()"
   ]
  },
  {
   "cell_type": "code",
   "execution_count": 96,
   "id": "7ceb7556",
   "metadata": {},
   "outputs": [
    {
     "data": {
      "text/plain": [
       "'Doe'"
      ]
     },
     "execution_count": 96,
     "metadata": {},
     "output_type": "execute_result"
    }
   ],
   "source": [
    "data['author']['lastname']"
   ]
  },
  {
   "cell_type": "code",
   "execution_count": 97,
   "id": "c396d2a2",
   "metadata": {},
   "outputs": [
    {
     "data": {
      "text/plain": [
       "'Technology'"
      ]
     },
     "execution_count": 97,
     "metadata": {},
     "output_type": "execute_result"
    }
   ],
   "source": [
    "data['category'][-1]"
   ]
  },
  {
   "cell_type": "code",
   "execution_count": null,
   "id": "a280644d",
   "metadata": {},
   "outputs": [],
   "source": []
  },
  {
   "cell_type": "code",
   "execution_count": 98,
   "id": "966fb3e5",
   "metadata": {},
   "outputs": [],
   "source": [
    "spacex = {\n",
    "  \"fairings\": None,\n",
    "  \"links\": {\n",
    "    \"patch\": {\n",
    "      \"small\": \"https://images2.imgbox.com/eb/0f/Vev7xkUX_o.png\",\n",
    "      \"large\": \"https://images2.imgbox.com/ab/79/Wyc9K7fv_o.png\"\n",
    "    },\n",
    "    \"reddit\": {\n",
    "      \"campaign\": \"https://www.reddit.com/r/spacex/comments/fjf6rr/dm2_launch_campaign_thread/\",\n",
    "      \"launch\": \"https://www.reddit.com/r/spacex/comments/glwz6n/rspacex_cctcap_demonstration_mission_2_general\",\n",
    "      \"media\": \"https://www.reddit.com/r/spacex/comments/gp1gf5/rspacex_dm2_media_thread_photographer_contest/\",\n",
    "      \"recovery\": \"https://www.reddit.com/r/spacex/comments/gu5gkd/cctcap_demonstration_mission_2_stage_1_recovery/\"\n",
    "    },\n",
    "    \"flickr\": {\n",
    "      \"small\": [],\n",
    "      \"original\": [\n",
    "        \"https://live.staticflickr.com/65535/49927519643_b43c6d4c44_o.jpg\",\n",
    "        \"https://live.staticflickr.com/65535/49927519588_8a39a3994f_o.jpg\",\n",
    "        \"https://live.staticflickr.com/65535/49928343022_6fb33cbd9c_o.jpg\",\n",
    "        \"https://live.staticflickr.com/65535/49934168858_cacb00d790_o.jpg\",\n",
    "        \"https://live.staticflickr.com/65535/49934682271_fd6a31becc_o.jpg\",\n",
    "        \"https://live.staticflickr.com/65535/49956109906_f88d815772_o.jpg\",\n",
    "        \"https://live.staticflickr.com/65535/49956109706_cffa847208_o.jpg\",\n",
    "        \"https://live.staticflickr.com/65535/49956109671_859b323ede_o.jpg\",\n",
    "        \"https://live.staticflickr.com/65535/49955609618_4cca01d581_o.jpg\",\n",
    "        \"https://live.staticflickr.com/65535/49956396622_975c116b71_o.jpg\",\n",
    "        \"https://live.staticflickr.com/65535/49955609378_9b77e5c771_o.jpg\",\n",
    "        \"https://live.staticflickr.com/65535/49956396262_ef41c1d9b0_o.jpg\"\n",
    "      ]\n",
    "    },\n",
    "    \"presskit\": \"https://www.nasa.gov/sites/default/files/atoms/files/commercialcrew_press_kit.pdf\",\n",
    "    \"webcast\": \"https://youtu.be/xY96v0OIcK4\",\n",
    "    \"youtube_id\": \"xY96v0OIcK4\",\n",
    "    \"article\": \"https://spaceflightnow.com/2020/05/30/nasa-astronauts-launch-from-us-soil-for-first-time-in-nine-years/\",\n",
    "    \"wikipedia\": \"https://en.wikipedia.org/wiki/Crew_Dragon_Demo-2\"\n",
    "  },\n",
    "  \"static_fire_date_utc\": \"2020-05-22T17:39:00.000Z\",\n",
    "  \"static_fire_date_unix\": 1590169140,\n",
    "  \"tdb\": False,\n",
    "  \"net\": False,\n",
    "  \"window\": 0,\n",
    "  \"rocket\": \"5e9d0d95eda69973a809d1ec\",\n",
    "  \"success\": True,\n",
    "  \"failures\": [],\n",
    "  \"details\": \"SpaceX will launch the second demonstration mission of its Crew Dragon vehicle as part of NASA's Commercial Crew Transportation Capability Program (CCtCap), carrying two NASA astronauts to the International Space Station. Barring unexpected developments, this mission will be the first crewed flight to launch from the United States since the end of the Space Shuttle program in 2011. DM-2 demonstrates the Falcon 9 and Crew Dragon's ability to safely transport crew to the space station and back to Earth and it is the last major milestone for certification of Crew Dragon. Initially the mission duration was planned to be no longer than two weeks, however NASA has been considering an extension to as much as six weeks or three months. The astronauts have been undergoing additional training for the possible longer mission.\",\n",
    "  \"crew\": [\n",
    "    \"5ebf1b7323a9a60006e03a7b\",\n",
    "    \"5ebf1a6e23a9a60006e03a7a\"\n",
    "  ],\n",
    "  \"ships\": [\n",
    "    \"5ea6ed30080df4000697c913\",\n",
    "    \"5ea6ed2f080df4000697c90b\",\n",
    "    \"5ea6ed2f080df4000697c90c\",\n",
    "    \"5ea6ed2e080df4000697c909\",\n",
    "    \"5ea6ed2f080df4000697c90d\"\n",
    "  ],\n",
    "  \"capsules\": [\n",
    "    \"5e9e2c5df359188aba3b2676\"\n",
    "  ],\n",
    "  \"payloads\": [\n",
    "    \"5eb0e4d1b6c3bb0006eeb257\"\n",
    "  ],\n",
    "  \"launchpad\": \"5e9e4502f509094188566f88\",\n",
    "  \"auto_update\": True,\n",
    "  \"flight_number\": 94,\n",
    "  \"name\": \"CCtCap Demo Mission 2\",\n",
    "  \"date_utc\": \"2020-05-30T19:22:00.000Z\",\n",
    "  \"date_unix\": 1590866520,\n",
    "  \"date_local\": \"2020-05-30T15:22:00-04:00\",\n",
    "  \"date_precision\": \"hour\",\n",
    "  \"upcoming\": False,\n",
    "  \"cores\": [\n",
    "    {\n",
    "      \"core\": \"5e9e28a7f3591817f23b2663\",\n",
    "      \"flight\": 1,\n",
    "      \"gridfins\": True,\n",
    "      \"legs\": True,\n",
    "      \"reused\": False,\n",
    "      \"landing_attempt\": True,\n",
    "      \"landing_success\": True,\n",
    "      \"landing_type\": \"ASDS\",\n",
    "      \"landpad\": \"5e9e3032383ecb6bb234e7ca\"\n",
    "    }\n",
    "  ],\n",
    "  \"id\": \"5eb87d46ffd86e000604b388\"\n",
    "}"
   ]
  },
  {
   "cell_type": "code",
   "execution_count": 99,
   "id": "a879526f",
   "metadata": {},
   "outputs": [
    {
     "data": {
      "text/plain": [
       "dict_keys(['fairings', 'links', 'static_fire_date_utc', 'static_fire_date_unix', 'tdb', 'net', 'window', 'rocket', 'success', 'failures', 'details', 'crew', 'ships', 'capsules', 'payloads', 'launchpad', 'auto_update', 'flight_number', 'name', 'date_utc', 'date_unix', 'date_local', 'date_precision', 'upcoming', 'cores', 'id'])"
      ]
     },
     "execution_count": 99,
     "metadata": {},
     "output_type": "execute_result"
    }
   ],
   "source": [
    "spacex.keys()"
   ]
  },
  {
   "cell_type": "code",
   "execution_count": 105,
   "id": "42481637",
   "metadata": {},
   "outputs": [
    {
     "data": {
      "text/plain": [
       "'https://live.staticflickr.com/65535/49934168858_cacb00d790_o.jpg'"
      ]
     },
     "execution_count": 105,
     "metadata": {},
     "output_type": "execute_result"
    }
   ],
   "source": [
    "spacex['links']['flickr']['original'][3]"
   ]
  },
  {
   "cell_type": "code",
   "execution_count": null,
   "id": "052bceea",
   "metadata": {},
   "outputs": [],
   "source": [
    "print(spacex['links']['reddit']['recovery'])"
   ]
  },
  {
   "cell_type": "code",
   "execution_count": null,
   "id": "58aa2088",
   "metadata": {},
   "outputs": [],
   "source": []
  },
  {
   "cell_type": "code",
   "execution_count": null,
   "id": "7354223d",
   "metadata": {},
   "outputs": [],
   "source": []
  },
  {
   "cell_type": "code",
   "execution_count": null,
   "id": "13b6e13b",
   "metadata": {},
   "outputs": [],
   "source": []
  },
  {
   "cell_type": "markdown",
   "id": "70a8936b",
   "metadata": {
    "scrolled": true
   },
   "source": [
    "### Quick summary\n",
    "\n",
    "#### list \n",
    "\n",
    "    - append()\n",
    "    - insert()\n",
    "    - extend()\n",
    "    - pop()\n",
    "    - remove()\n",
    "    - clear()\n",
    "    - copy()\n",
    "    - index()\n",
    "    - count()\n",
    "    - reverse()\n",
    "    - sort()\n",
    "    \n",
    "\n",
    "\n",
    "#### tuple \n",
    "    - count()\n",
    "    - index()\n",
    "\n",
    "\n",
    "\n",
    "#### set\n",
    "    - add()\n",
    "    - discard()\n",
    "    - remove()\n",
    "    - union()\n",
    "    - difference()\n",
    "    - intersection()\n",
    "    - isdisjoint()\n",
    "    - issubset() issuperset()\n",
    "    - update()\n",
    "\n",
    "\n",
    "\n",
    "#### dictionary\n",
    "    - keys()\n",
    "    - values()\n",
    "    - get()\n",
    "    - update()\n",
    "    - items()\n",
    "    - pop()\n",
    "    - popitem()\n",
    "    "
   ]
  },
  {
   "cell_type": "code",
   "execution_count": null,
   "id": "603d132e",
   "metadata": {},
   "outputs": [],
   "source": []
  },
  {
   "cell_type": "code",
   "execution_count": null,
   "id": "a0129ff1",
   "metadata": {},
   "outputs": [],
   "source": []
  },
  {
   "cell_type": "code",
   "execution_count": null,
   "id": "794c460b",
   "metadata": {},
   "outputs": [],
   "source": []
  },
  {
   "cell_type": "code",
   "execution_count": null,
   "id": "ab07c5bb",
   "metadata": {
    "scrolled": true
   },
   "outputs": [],
   "source": []
  },
  {
   "cell_type": "markdown",
   "id": "53394123",
   "metadata": {},
   "source": [
    "### doubts \n"
   ]
  },
  {
   "cell_type": "code",
   "execution_count": null,
   "id": "2c95b7d8",
   "metadata": {},
   "outputs": [],
   "source": [
    "set\n",
    "colors = {'red' , 'yellow' , 'blue'}\n",
    "\n",
    "student = {\n",
    "        'name' : 'Kumar',\n",
    "        'fee' : 12000\n",
    "}"
   ]
  },
  {
   "cell_type": "code",
   "execution_count": null,
   "id": "f6d931f9",
   "metadata": {},
   "outputs": [],
   "source": [
    "# primitive : int float complex boolean str\n",
    "# sequence/collection : list set dictionary tuple \n",
    "\n",
    "\n",
    "a = 10\n",
    "b = 10\n",
    "\n",
    "print(a is b) # address comparision\n",
    "print(a,b , id(a) , id(b))"
   ]
  },
  {
   "cell_type": "code",
   "execution_count": null,
   "id": "0c069323",
   "metadata": {},
   "outputs": [],
   "source": [
    "c = (10,20)\n",
    "d = (10,20)\n",
    "\n",
    "print(id(c) , id(d))\n",
    "print( c is d) # addrress \n",
    "\n",
    "print(c == d) # content comparision\n"
   ]
  },
  {
   "cell_type": "code",
   "execution_count": null,
   "id": "ec7f2bb1",
   "metadata": {},
   "outputs": [],
   "source": []
  },
  {
   "cell_type": "code",
   "execution_count": null,
   "id": "3e3089f8",
   "metadata": {},
   "outputs": [],
   "source": [
    "num1 = int(input(\"Enter number:\"))\n",
    "\n",
    "num1 = str(num1)\n",
    "\n",
    "if num1.count(\"0\") > 0:\n",
    "    print(num1.count(\"0\"))\n",
    "else:\n",
    "    print(-1)\n"
   ]
  },
  {
   "cell_type": "code",
   "execution_count": null,
   "id": "d0ef6ce0",
   "metadata": {},
   "outputs": [],
   "source": [
    "nums = \"1020920927038038\"\n",
    "count = 0 \n",
    "\n",
    "for n in nums:\n",
    "    if n == '0'"
   ]
  },
  {
   "cell_type": "code",
   "execution_count": null,
   "id": "5b66192b",
   "metadata": {},
   "outputs": [],
   "source": []
  },
  {
   "cell_type": "code",
   "execution_count": null,
   "id": "2ef20917",
   "metadata": {},
   "outputs": [],
   "source": [
    "companyName = ['Reliance', 'IBM', 'RBC', 'BMO']\n",
    "numberOfEmployes = ('1000','2500','250','3600')\n",
    "volume = {'120k', '250k', '365k', '1200k'}\n",
    "data = {\n",
    "'Day' :'mon-Fri',\n",
    "'Time' : '9-5'\n",
    "}\n",
    "print(Company_Name)\n",
    "print(NumberOf_Employee)\n",
    "print(Volume)\n",
    "print(Data)"
   ]
  },
  {
   "cell_type": "code",
   "execution_count": null,
   "id": "56342cc9",
   "metadata": {},
   "outputs": [],
   "source": [
    "# List:\n",
    "studentAges=[40,23,45,33]\n",
    "print(StudentsAges)\n",
    "\n",
    "# Tuple:\n",
    "studentAges=(40,23,45,33)\n",
    "print(StudentsAges)\n",
    "\n",
    "\n",
    "#set \n",
    "fruits={\"Apple\",\"Mango\"}\n",
    "\n",
    "print(Fruits)\n",
    "        \n",
    "# Dictionary:\n",
    "    \n",
    "fruitsTaste={\"Apple\":\"Sweet\",\"Watermelon\":\"Sweet\"}\n",
    "\n",
    "print(FruitsTaste)"
   ]
  },
  {
   "cell_type": "code",
   "execution_count": null,
   "id": "8f9910f5",
   "metadata": {},
   "outputs": [],
   "source": [
    "fruitsTaste={\"Apple\":\"Sweet\",\"Watermelon\":\"Sweet\"}\n",
    "\n",
    "\n",
    "dup = fruitsTaste.copy()\n",
    "\n",
    "print(dup)"
   ]
  },
  {
   "cell_type": "code",
   "execution_count": null,
   "id": "900ede79",
   "metadata": {},
   "outputs": [],
   "source": []
  }
 ],
 "metadata": {
  "kernelspec": {
   "display_name": "Python 3 (ipykernel)",
   "language": "python",
   "name": "python3"
  },
  "language_info": {
   "codemirror_mode": {
    "name": "ipython",
    "version": 3
   },
   "file_extension": ".py",
   "mimetype": "text/x-python",
   "name": "python",
   "nbconvert_exporter": "python",
   "pygments_lexer": "ipython3",
   "version": "3.10.9"
  }
 },
 "nbformat": 4,
 "nbformat_minor": 5
}
