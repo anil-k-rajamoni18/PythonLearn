{
 "cells": [
  {
   "cell_type": "markdown",
   "id": "19b3f03c",
   "metadata": {},
   "source": [
    "## prebuild-functions\n",
    "\n",
    "- In Python we have lots of built-in functions.\n",
    "- Built-in functions are globally available for your use that mean you can make use of the built-in functions without importing or configuring.\n",
    " > Some of the most commonly used Python built-in functions are the following: \n",
    "    -  print(), len(), type(), int(), float(), str(), input(), list(), dict(), min(), max(), sum(), sorted(), open(), file(), help(), and dir().\n",
    "    \n",
    "  <img src = \"https://s4scoding.com/images/python-built-in-functions.jpg\" width= \"700\" height=\"800\">"
   ]
  },
  {
   "cell_type": "code",
   "execution_count": null,
   "id": "aa5918ad",
   "metadata": {
    "scrolled": true
   },
   "outputs": [],
   "source": [
    "st = {10,203,20} \n",
    "\n",
    "print(dir( set )) # it wil display all the methods of a data type \n",
    "print(type(st)) # display data type name"
   ]
  },
  {
   "cell_type": "code",
   "execution_count": null,
   "id": "776d3bfd",
   "metadata": {},
   "outputs": [],
   "source": [
    "print(sum(st))\n",
    "print(max(st))\n",
    "print(min(st))"
   ]
  },
  {
   "cell_type": "code",
   "execution_count": null,
   "id": "a0ddca4e",
   "metadata": {
    "scrolled": true
   },
   "outputs": [],
   "source": [
    "print(help( [] ))"
   ]
  },
  {
   "cell_type": "code",
   "execution_count": null,
   "id": "8b2eba8a",
   "metadata": {
    "scrolled": true
   },
   "outputs": [],
   "source": [
    "##type()  id()\n",
    "\n",
    "name = \"Kumar\"\n",
    "print(type(name))\n",
    "\n",
    "age = 10\n",
    "print(type(age))\n",
    "\n",
    "person = {\"name\":\"Ram\",\"course\":\"Python\",\"collge\":\"ABC\"}\n",
    "print(type(person))\n",
    "\n",
    "print(id(name) , id(age) , id(person))\n"
   ]
  },
  {
   "cell_type": "code",
   "execution_count": null,
   "id": "d5fb2404",
   "metadata": {
    "scrolled": true
   },
   "outputs": [],
   "source": []
  },
  {
   "cell_type": "code",
   "execution_count": null,
   "id": "e9de298d",
   "metadata": {
    "scrolled": true
   },
   "outputs": [],
   "source": [
    "print(type(\"AK\"))\n",
    "\n",
    "print(type(10))\n",
    "\n",
    "print(type(\"10\"))\n",
    "\n",
    "print(type(10.378683))\n",
    "\n",
    "print(type(True))\n",
    "\n",
    "print(type([10,203,30]))\n",
    "\n",
    "print(type((10,203,30)))\n",
    "      \n",
    "print(type({10,203,30,30}))"
   ]
  },
  {
   "cell_type": "code",
   "execution_count": null,
   "id": "4f698438",
   "metadata": {},
   "outputs": [],
   "source": []
  },
  {
   "cell_type": "markdown",
   "id": "0e8d00a0",
   "metadata": {},
   "source": [
    "### Try these?\n",
    "\n",
    "\n",
    "what's output?\n",
    "\n",
    "```python\n",
    "\n",
    "a = 10,20,304,40\n",
    "print(type(a))\n",
    "\n",
    "\n",
    "```"
   ]
  },
  {
   "cell_type": "code",
   "execution_count": null,
   "id": "928f866c",
   "metadata": {},
   "outputs": [],
   "source": [
    "a = 10,\n",
    "print(type(a))\n",
    "print(a)"
   ]
  },
  {
   "cell_type": "code",
   "execution_count": null,
   "id": "07ef544c",
   "metadata": {},
   "outputs": [],
   "source": []
  },
  {
   "cell_type": "code",
   "execution_count": null,
   "id": "f22b8e84",
   "metadata": {
    "scrolled": true
   },
   "outputs": [],
   "source": [
    "#dir()\n",
    "print(dir([]))"
   ]
  },
  {
   "cell_type": "code",
   "execution_count": null,
   "id": "844c9abd",
   "metadata": {
    "scrolled": true
   },
   "outputs": [],
   "source": [
    "print(dir(\"\"))"
   ]
  },
  {
   "cell_type": "code",
   "execution_count": null,
   "id": "765c712b",
   "metadata": {
    "scrolled": true
   },
   "outputs": [],
   "source": [
    "#  sum()\n",
    "marks = [10,20,30]\n",
    "print(sum(marks))"
   ]
  },
  {
   "cell_type": "code",
   "execution_count": null,
   "id": "699478e2",
   "metadata": {
    "scrolled": true
   },
   "outputs": [],
   "source": []
  },
  {
   "cell_type": "code",
   "execution_count": null,
   "id": "d71502c8",
   "metadata": {
    "scrolled": true
   },
   "outputs": [],
   "source": [
    "#max() min()\n",
    "\n",
    "print(max(marks))\n",
    "\n",
    "print(min(marks))"
   ]
  },
  {
   "cell_type": "code",
   "execution_count": null,
   "id": "06a2ae7f",
   "metadata": {
    "scrolled": true
   },
   "outputs": [],
   "source": [
    "print(marks)\n",
    "print(person)"
   ]
  },
  {
   "cell_type": "code",
   "execution_count": null,
   "id": "1e1bd7db",
   "metadata": {
    "scrolled": true
   },
   "outputs": [],
   "source": [
    "#len() --> list tuple str set dict\n",
    "#  cannot apply on --> int float complex None boolean\n",
    "\n",
    "print(len(marks))\n",
    "\n",
    "print(len(\"Kumar      R\"))\n",
    "\n",
    "\n",
    "print(len(person))\n",
    "\n",
    "print(len(10)) #error."
   ]
  },
  {
   "cell_type": "code",
   "execution_count": null,
   "id": "ebc431cc",
   "metadata": {},
   "outputs": [],
   "source": []
  },
  {
   "cell_type": "code",
   "execution_count": null,
   "id": "744220e3",
   "metadata": {
    "scrolled": true
   },
   "outputs": [],
   "source": [
    "print(ord(\"H\"),ord(\"i\"))\n",
    "print(ord('A'), ord('Z'))\n",
    "print(ord('a'), ord('z'))"
   ]
  },
  {
   "cell_type": "code",
   "execution_count": null,
   "id": "69fd312a",
   "metadata": {
    "scrolled": true
   },
   "outputs": [],
   "source": [
    "print(chr(72) , chr(105))\n",
    "print(chr(45))"
   ]
  },
  {
   "cell_type": "code",
   "execution_count": null,
   "id": "eb5d70c6",
   "metadata": {
    "scrolled": true
   },
   "outputs": [],
   "source": [
    "# filter only upper case letters\n",
    "strdata = \"Azure AI is build using GPT 3.5 engine\";\n",
    "for ch in strdata:\n",
    "    if ord(ch)>=65 and ord(ch)<=90:\n",
    "        print(ch)\n"
   ]
  },
  {
   "cell_type": "code",
   "execution_count": null,
   "id": "de3aa6ec",
   "metadata": {},
   "outputs": [],
   "source": [
    "strdata = \"Azure AI is build using GPT 3.5 engine\";\n",
    "for ch in strdata:\n",
    "    if ch >= 'A' and ch<='Z':\n",
    "        print(ch)"
   ]
  },
  {
   "cell_type": "code",
   "execution_count": null,
   "id": "1ea91b70",
   "metadata": {},
   "outputs": [],
   "source": [
    "strdata = \"Azure AI is build using GPT 3.5 engine\";\n",
    "for ch in strdata:\n",
    "    if ch.isupper():\n",
    "        print(ch)"
   ]
  },
  {
   "cell_type": "code",
   "execution_count": null,
   "id": "08d84f3e",
   "metadata": {},
   "outputs": [],
   "source": [
    "\n",
    "        "
   ]
  },
  {
   "cell_type": "code",
   "execution_count": null,
   "id": "5be7d870",
   "metadata": {
    "scrolled": true
   },
   "outputs": [],
   "source": [
    "a = int(input()) #str --> int\n",
    "b = int(input())\n",
    "print(a+b)"
   ]
  },
  {
   "cell_type": "code",
   "execution_count": null,
   "id": "57921af0",
   "metadata": {
    "scrolled": true
   },
   "outputs": [],
   "source": [
    "# datatype prebuild method\n",
    "int - int()\n",
    "float - float()\n",
    "str - str()\n",
    "bool - bool()\n",
    "complex - complex()\n",
    "\n",
    "list - list()\n",
    "tuple - tuple()\n",
    "set - set()\n",
    "dictionary - dict()"
   ]
  },
  {
   "cell_type": "code",
   "execution_count": null,
   "id": "98f4b19e",
   "metadata": {
    "scrolled": true
   },
   "outputs": [],
   "source": [
    "var = set()\n",
    "print(type(var))"
   ]
  },
  {
   "cell_type": "code",
   "execution_count": null,
   "id": "5e5e35de",
   "metadata": {},
   "outputs": [],
   "source": [
    "lst = [10,20,30,10,20,11,33,44,33]\n",
    "print(set(lst))\n"
   ]
  },
  {
   "cell_type": "code",
   "execution_count": null,
   "id": "c6b97c5d",
   "metadata": {},
   "outputs": [],
   "source": []
  },
  {
   "cell_type": "markdown",
   "id": "395190c6",
   "metadata": {},
   "source": [
    "## Range\n",
    "    - generate a sequence of integer values \n",
    "    - mainly used in for-loops\n",
    "    - Has 3 params \n",
    "            - Start : 0\n",
    "            - Stop : LEN\n",
    "            - Step : 1\n",
    "    - range() method gives a object , cast to list() or tuple() for displaying the output.\n",
    "    - stop param is mandatory & always excluded.\n",
    "    \n",
    "```python\n",
    "\n",
    "range(start,stop,step)\n",
    "\n",
    "```"
   ]
  },
  {
   "cell_type": "code",
   "execution_count": null,
   "id": "221f9e53",
   "metadata": {
    "scrolled": true
   },
   "outputs": [],
   "source": []
  },
  {
   "cell_type": "code",
   "execution_count": 1,
   "id": "51dad0ba",
   "metadata": {
    "scrolled": true
   },
   "outputs": [
    {
     "name": "stdout",
     "output_type": "stream",
     "text": [
      "range(1, 10) <class 'range'>\n"
     ]
    }
   ],
   "source": [
    "a = range(1,10,1)\n",
    "print(a , type(a))  "
   ]
  },
  {
   "cell_type": "code",
   "execution_count": 2,
   "id": "8fcc44ac",
   "metadata": {
    "scrolled": true
   },
   "outputs": [
    {
     "name": "stdout",
     "output_type": "stream",
     "text": [
      "[1, 2, 3, 4, 5, 6, 7, 8, 9]\n",
      "(1, 2, 3, 4, 5, 6, 7, 8, 9)\n"
     ]
    }
   ],
   "source": [
    "print(list(a)) # range to list\n",
    "print(tuple(a)) # range to tuple"
   ]
  },
  {
   "cell_type": "code",
   "execution_count": 3,
   "id": "9fa9ae85",
   "metadata": {},
   "outputs": [
    {
     "name": "stdout",
     "output_type": "stream",
     "text": [
      "[0, 2, 4, 6, 8]\n"
     ]
    }
   ],
   "source": [
    "print(list(range(0,10,2)))"
   ]
  },
  {
   "cell_type": "code",
   "execution_count": 4,
   "id": "1b6cf792",
   "metadata": {},
   "outputs": [
    {
     "name": "stdout",
     "output_type": "stream",
     "text": [
      "[0, 2, 4, 6, 8, 10, 12, 14, 16, 18]\n"
     ]
    }
   ],
   "source": [
    "print(list(range(0,20,2)))"
   ]
  },
  {
   "cell_type": "code",
   "execution_count": 5,
   "id": "51060945",
   "metadata": {},
   "outputs": [
    {
     "name": "stdout",
     "output_type": "stream",
     "text": [
      "[1, 3, 5, 7, 9, 11, 13, 15, 17, 19]\n"
     ]
    }
   ],
   "source": [
    "print(list(range(1,20,2)))"
   ]
  },
  {
   "cell_type": "code",
   "execution_count": 6,
   "id": "0a69988c",
   "metadata": {
    "scrolled": true
   },
   "outputs": [
    {
     "name": "stdout",
     "output_type": "stream",
     "text": [
      "(0, 1, 2, 3, 4)\n"
     ]
    }
   ],
   "source": [
    "a = tuple(range(0,5,1))\n",
    "print(a)"
   ]
  },
  {
   "cell_type": "code",
   "execution_count": 7,
   "id": "c69b2f67",
   "metadata": {
    "scrolled": true
   },
   "outputs": [
    {
     "name": "stdout",
     "output_type": "stream",
     "text": [
      "[1, 3, 5, 7, 9]\n"
     ]
    }
   ],
   "source": [
    "a = list(range(1,10,2))\n",
    "print(a)"
   ]
  },
  {
   "cell_type": "code",
   "execution_count": 8,
   "id": "9274bcc2",
   "metadata": {
    "scrolled": true
   },
   "outputs": [
    {
     "name": "stdout",
     "output_type": "stream",
     "text": [
      "[-1, -2, -3, -4]\n"
     ]
    }
   ],
   "source": [
    "a = list(range(-1,-5,-1))\n",
    "print(a)"
   ]
  },
  {
   "cell_type": "code",
   "execution_count": 9,
   "id": "38115b01",
   "metadata": {
    "scrolled": true
   },
   "outputs": [
    {
     "name": "stdout",
     "output_type": "stream",
     "text": [
      "[]\n"
     ]
    }
   ],
   "source": [
    "a = list(range(5,3)) #range(0,5,1)\n",
    "print(a)\n",
    "\n",
    "# start < stop"
   ]
  },
  {
   "cell_type": "code",
   "execution_count": null,
   "id": "0efb48c0",
   "metadata": {
    "scrolled": true
   },
   "outputs": [],
   "source": []
  },
  {
   "cell_type": "code",
   "execution_count": 11,
   "id": "a7551bfd",
   "metadata": {
    "scrolled": true
   },
   "outputs": [
    {
     "name": "stdout",
     "output_type": "stream",
     "text": [
      "[]\n"
     ]
    }
   ],
   "source": [
    "a = list(range(1,1))\n",
    "print(a)"
   ]
  },
  {
   "cell_type": "code",
   "execution_count": 13,
   "id": "ec559d62",
   "metadata": {
    "scrolled": true
   },
   "outputs": [
    {
     "data": {
      "text/plain": [
       "[0, 1, 2, 3, 4, 5, 6, 7, 8]"
      ]
     },
     "execution_count": 13,
     "metadata": {},
     "output_type": "execute_result"
    }
   ],
   "source": [
    "list(range())"
   ]
  },
  {
   "cell_type": "code",
   "execution_count": 14,
   "id": "fa8a5b95",
   "metadata": {
    "scrolled": true
   },
   "outputs": [
    {
     "data": {
      "text/plain": [
       "[]"
      ]
     },
     "execution_count": 14,
     "metadata": {},
     "output_type": "execute_result"
    }
   ],
   "source": [
    "list(range(1,1)) # range(1,0,1)"
   ]
  },
  {
   "cell_type": "code",
   "execution_count": 16,
   "id": "20904f97",
   "metadata": {
    "scrolled": true
   },
   "outputs": [
    {
     "data": {
      "text/plain": [
       "[]"
      ]
     },
     "execution_count": 16,
     "metadata": {},
     "output_type": "execute_result"
    }
   ],
   "source": [
    "list(range(-1,5,-1))"
   ]
  },
  {
   "cell_type": "markdown",
   "id": "a38e7269",
   "metadata": {},
   "source": [
    "### Try these\n",
    "- list(range(-1,-5,1))\n",
    "- list(range(3,20,0))\n",
    "- list(range('a','z',0))"
   ]
  },
  {
   "cell_type": "code",
   "execution_count": null,
   "id": "e12224af",
   "metadata": {
    "scrolled": true
   },
   "outputs": [],
   "source": [
    "# RANGE OBSERVATIONS\n",
    "- range(stop) , mandatory \n",
    "- it will take all integers param(start,stop,step)\n",
    "- it will generate empty when params are invalid \n",
    "- step should be always not zero\n",
    "\n"
   ]
  },
  {
   "cell_type": "code",
   "execution_count": null,
   "id": "613b0245",
   "metadata": {},
   "outputs": [],
   "source": []
  },
  {
   "cell_type": "code",
   "execution_count": null,
   "id": "a788bafa",
   "metadata": {},
   "outputs": [],
   "source": []
  },
  {
   "cell_type": "markdown",
   "id": "3a7d9a05",
   "metadata": {},
   "source": [
    "### Casting\n",
    "    - Converting one data type to another data type. \n",
    "    - We use int(), float(), str(), list(), set() \n",
    "    - When we do arithmetic operations string numbers should be first converted to int or float otherwise it will return an error. \n",
    "    - If we concatenate a number with a string, the number should be first converted to a string. \n",
    "    \n",
    "    \n",
    " ```\n",
    " # int - float \n",
    "    float()\n",
    "    \n",
    "# float - int \n",
    "    int()\n",
    "    \n",
    "# str - int (str must be in valid decimal 0-9 format)\n",
    "    int()\n",
    "    \n",
    "#str - float (str must be in valid float format)\n",
    "    float()\n",
    " \n",
    " ```"
   ]
  },
  {
   "cell_type": "code",
   "execution_count": null,
   "id": "e5bc60d3",
   "metadata": {},
   "outputs": [],
   "source": []
  },
  {
   "cell_type": "code",
   "execution_count": 23,
   "id": "62a0d61d",
   "metadata": {
    "scrolled": true
   },
   "outputs": [
    {
     "name": "stdout",
     "output_type": "stream",
     "text": [
      "10\n",
      "20\n",
      "1020\n"
     ]
    }
   ],
   "source": [
    "a = input()#reads a string type\n",
    "b = input()\n",
    "print(a+b) #string concat or merging"
   ]
  },
  {
   "cell_type": "code",
   "execution_count": 25,
   "id": "791aa61d",
   "metadata": {},
   "outputs": [
    {
     "name": "stdout",
     "output_type": "stream",
     "text": [
      "1020\n",
      "30\n"
     ]
    }
   ],
   "source": [
    "print(\"10\"+\"20\")\n",
    "print(10 + 20)"
   ]
  },
  {
   "cell_type": "code",
   "execution_count": null,
   "id": "b564f256",
   "metadata": {
    "scrolled": true
   },
   "outputs": [],
   "source": [
    "a = float(input()) #str - float\n",
    "b = int(input()) # str - int\n",
    "print(a+b)\n",
    "\n"
   ]
  },
  {
   "cell_type": "code",
   "execution_count": 35,
   "id": "2dcfac40",
   "metadata": {
    "scrolled": true
   },
   "outputs": [
    {
     "name": "stdout",
     "output_type": "stream",
     "text": [
      "num_int 10\n",
      "num_float: 10.0\n",
      "9\n",
      "10\n",
      "10\n",
      "num_int 10\n",
      "num_float 10.0\n",
      "Kumar\n",
      "['K', 'u', 'm', 'a', 'r']\n",
      "ram,kuma,shiva,manoj <class 'str'>\n",
      "['ram', 'kuma', 'shiva', 'manoj'] <class 'list'>\n",
      "IND->AUS->ENG->BNZ->PAK\n"
     ]
    }
   ],
   "source": [
    "# int to float\n",
    "num_int = 10\n",
    "print('num_int',num_int)         # 10\n",
    "num_float = float(num_int)\n",
    "print('num_float:', num_float)   # 10.0\n",
    "\n",
    "# float to int\n",
    "gravity = 9.81\n",
    "print(int(gravity))             # 9\n",
    "\n",
    "# int to str\n",
    "num_int = 10\n",
    "print(num_int)                  # 10\n",
    "num_str = str(num_int)\n",
    "print(num_str)                  # '10'\n",
    "\n",
    "# str to int or float\n",
    "num_str = '10' \n",
    "print('num_int', int('10'))      # 10\n",
    "print('num_float', float(num_str))  # 10.0\n",
    "# print('str - int', int('10a'))\n",
    "# print('str - float', float('10.27d'))\n",
    "\n",
    "# str to list\n",
    "first_name = 'Kumar'\n",
    "print(first_name)               # 'Asabeneh'\n",
    "first_name_to_list = list(first_name)\n",
    "print(first_name_to_list)            # ['A', 's', 'a', 'b', 'e', 'n', 'e', 'h']\n",
    "\n",
    "\n",
    "# str - list using split() \n",
    "names = \"ram,kuma,shiva,manoj\"\n",
    "print(names,type(names))\n",
    "\n",
    "names_lst = names.split(',') # str - list\n",
    "print(names_lst, type(names_lst))\n",
    "\n",
    "# list - str using join() \n",
    "teams = [\"IND\", \"AUS\", \"ENG\", \"BNZ\", \"PAK\"]\n",
    "print(\"->\".join(teams))"
   ]
  },
  {
   "cell_type": "code",
   "execution_count": null,
   "id": "e58953da",
   "metadata": {
    "scrolled": true
   },
   "outputs": [],
   "source": []
  },
  {
   "cell_type": "code",
   "execution_count": null,
   "id": "7dde8546",
   "metadata": {},
   "outputs": [],
   "source": [
    "num = 10\n",
    "print(float(num)) #10.0\n",
    "\n",
    "num1 = \"10.5\"\n",
    "print(float(num1))\n",
    "print(int(float(num1)))\n",
    "\n",
    "letters= [\"a\",\"b\",'c','a','e','b']\n",
    "print(letters)\n",
    "print(set(letters))\n"
   ]
  },
  {
   "cell_type": "code",
   "execution_count": null,
   "id": "ffff706e",
   "metadata": {},
   "outputs": [],
   "source": [
    "\n"
   ]
  },
  {
   "cell_type": "markdown",
   "id": "a38b3ef2",
   "metadata": {},
   "source": [
    "#### Try these  small task \n",
    "1. read 10 digit integer num from keyboard\n",
    "    hint: int(input()) \n",
    "2. count number of zeros\n",
    "3. if you don't find zero's print -1\n",
    "\n",
    "ex: 10205678905\n",
    "\n",
    "\n",
    "    op: 3 \n",
    "    \n",
    "    \n",
    "    1234568791\n",
    "    op: -1"
   ]
  },
  {
   "cell_type": "code",
   "execution_count": null,
   "id": "798c8561",
   "metadata": {
    "scrolled": true
   },
   "outputs": [],
   "source": [
    "\n",
    "\n",
    "# reading the input\n",
    "number = int(input('any 10digit  number : '))\n",
    "print(number)\n",
    "\n",
    "# convertion int - str\n",
    "number = str(number)\n",
    "\n",
    "print(number.count('0'))\n",
    "# appling the method\n",
    "if number.count('0') > 0:\n",
    "    print(\"number of zeros : \",number.count('0'))\n",
    "    \n",
    "print(-1)"
   ]
  },
  {
   "cell_type": "code",
   "execution_count": null,
   "id": "01dcd41c",
   "metadata": {
    "scrolled": true
   },
   "outputs": [],
   "source": []
  },
  {
   "cell_type": "code",
   "execution_count": null,
   "id": "d8eff94f",
   "metadata": {},
   "outputs": [],
   "source": [
    "sentence= input(\"enter sentence \")\n",
    "print(len(sentence))\n",
    "print(sentence.count(\" \"))\n",
    "print(sentence.split(), len(sentence.split())) "
   ]
  },
  {
   "cell_type": "code",
   "execution_count": null,
   "id": "6f211c67",
   "metadata": {},
   "outputs": [],
   "source": [
    "print(len(sentence.replace(\" \",\"\")))"
   ]
  },
  {
   "cell_type": "code",
   "execution_count": null,
   "id": "64c11e58",
   "metadata": {},
   "outputs": [],
   "source": [
    "#Palindromes\n",
    "\n",
    "\n"
   ]
  }
 ],
 "metadata": {
  "kernelspec": {
   "display_name": "Python 3 (ipykernel)",
   "language": "python",
   "name": "python3"
  },
  "language_info": {
   "codemirror_mode": {
    "name": "ipython",
    "version": 3
   },
   "file_extension": ".py",
   "mimetype": "text/x-python",
   "name": "python",
   "nbconvert_exporter": "python",
   "pygments_lexer": "ipython3",
   "version": "3.11.5"
  }
 },
 "nbformat": 4,
 "nbformat_minor": 5
}
