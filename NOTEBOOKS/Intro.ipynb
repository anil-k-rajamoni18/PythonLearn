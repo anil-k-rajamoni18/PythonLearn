{
 "cells": [
  {
   "cell_type": "markdown",
   "id": "10b4f6bc",
   "metadata": {},
   "source": [
    "### What is Python?\n",
    "             \n",
    "<img src = \"https://media.geeksforgeeks.org/wp-content/uploads/20230605074523/What-is-Python.webp\" width = \"600\" height = \"400\">\n",
    "    \n",
    "    - Python is a high-level, interpreted programming language that is known for its simplicity and readability\n",
    "    - It is an open source, interpreted, objected-oriented programming language. \n",
    "    - It was created by Guido van Rossum and first released in 1991\n",
    "  > **The name of Python programming language was derived from a British sketch comedy series, Month Python's Flying Circus**\n",
    "     \n",
    "     - Python is widely used in various domains such as \n",
    "         - web development, \n",
    "         - data analysis, \n",
    "         - artificial intelligence, \n",
    "         - scientific computing, and automation due to its versatility and the vast ecosystem of libraries and frameworks available.\n",
    "     \n",
    "#### Key Features of Python\n",
    "1. **Readability and Simplicity:**\n",
    "      - Python’s syntax is designed to be easy to read and write, which makes it a great choice for beginners and for rapid development.\n",
    "2. **Interpreted Language:**\n",
    "    - Python code is executed line by line, which makes debugging easier.\n",
    "3. **Dynamically Typed:**\n",
    "    - We don't need to declare the type of a variable when we create one.\n",
    "    - Python determines the type at runtime, which makes writing code faster and more flexible.\n",
    "4. **Versatile:**\n",
    "    - Python can be used for a wide range of tasks, from simple scripting to complex machine learning algorithms. \n",
    "5. **Extensive Standard:**\n",
    "    - Python comes with a rich standard library that supports many common programming tasks such as file I/O, system calls, and even web browsing.\n",
    "    \n",
    "6. **Community Support:**\n",
    "    - Python has a large and active community. \n",
    "    - This means we can find a lot of resources, tutorials, and third-party libraries to help you with your projects."
   ]
  },
  {
   "cell_type": "markdown",
   "id": "598c3e89",
   "metadata": {},
   "source": [
    "#### First Program in Python"
   ]
  },
  {
   "cell_type": "code",
   "execution_count": 1,
   "id": "9b5e3a57",
   "metadata": {},
   "outputs": [
    {
     "name": "stdout",
     "output_type": "stream",
     "text": [
      "Hello World, Welcome to Python Learning\n"
     ]
    }
   ],
   "source": [
    "print('Hello World, Welcome to Python Learning')"
   ]
  },
  {
   "cell_type": "markdown",
   "id": "1bde3fd3",
   "metadata": {},
   "source": [
    "<img src = \"https://i.chzbgr.com/full/9579763968/h4D390B49/person-print-hello-world-python-first-time-time-make-my-own-jarvis-canfused-pregreimar-o-caansn\" width = \"500\" height = \"400\">"
   ]
  },
  {
   "cell_type": "markdown",
   "id": "333affd5",
   "metadata": {},
   "source": [
    "### Variables \n",
    "\n",
    "- Python variables are simply containers for storing data values\n",
    "- In Python, a variable is a symbolic name that refers to or represents a value stored in memory. \n",
    "- A variable refers to a memory address in which data is stored. \n",
    "- It allows you to store data that you can use and manipulate throughout your program. \n",
    "- Variables can hold different types of data, such as numbers, strings, lists, dictionaries, and more.\n",
    "\n",
    "<img src = \"https://www.codesdope.com/pa-images-bucket/courses/python/v3.jpg\"  width=\"500\" height=\"600\">\n",
    "\n",
    "**Syntax**\n",
    "```python\n",
    "variableName = value\n",
    "```\n",
    "\n",
    "#### KeyPoints\n",
    "- You assign a value to a variable using the equals sign (=). The variable name is on the left, and the value is on the right.\n",
    "- Python is **dynamically typed**, meaning you don’t need to declare the type of a variable when you create it. The type is inferred from the value you assign to it\n",
    "- Python determines the **variable’s type at runtime based on the value** assigned\n",
    "\n",
    "#### Naming Conventions Rules\n",
    "    - A variable name must start with a letter or the underscore character\n",
    "    - A variable name cannot start with a number\n",
    "    - A variable name can only contain alpha-numeric characters and underscores (A-z, 0-9, and _ )\n",
    "    - Variable names are case-sensitive (firstname, Firstname, FirstName and FIRSTNAME) are different variables)\n",
    "    - A variable cannot have same name as Reserved word or KEYWORD (e.g., class, for, if)\n",
    "    \n",
    "    \n",
    "#### JAVA\n",
    "- Java is Strongly typed language \n",
    "- Java is static language \n",
    "- we have to manually declare datatypes for variables.\n",
    "- for every DATATYPES , there will be FIXED RANGE & SIZE\n",
    "```java\n",
    "    datatypes variableName = value;\n",
    "\n",
    "    int age = 10;\n",
    "    String name = \"Kumar\";\n",
    "```\n",
    "\n",
    "#### PYTHON\n",
    "- Python is weekly typed language\n",
    "- Python is Dynamic\n",
    "- We don't have to manually declare datatypes for variables\n",
    "- No SIZE restrictions on datatypes\n",
    "```python\n",
    "    variableName = value\n",
    "\n",
    "    name = \"kumar\"\n",
    "    age = 11\n",
    "```"
   ]
  },
  {
   "cell_type": "markdown",
   "id": "a93ff993",
   "metadata": {},
   "source": [
    "### Example-1"
   ]
  },
  {
   "cell_type": "code",
   "execution_count": 2,
   "id": "6fd049f8",
   "metadata": {},
   "outputs": [
    {
     "name": "stdout",
     "output_type": "stream",
     "text": [
      "15.5\n",
      "Hello, Alice\n"
     ]
    }
   ],
   "source": [
    "# Assigning values to variables\n",
    "x = 10\n",
    "y = 5.5\n",
    "name = \"Alice\"\n",
    "\n",
    "\n",
    "add = x + y\n",
    "greeting = \"Hello, \" + name\n",
    "\n",
    "print(add)       # Output: 15.5\n",
    "print(greeting)  # Output: Hello, Alice\n"
   ]
  },
  {
   "cell_type": "markdown",
   "id": "f4562efb",
   "metadata": {},
   "source": [
    "### Example-2"
   ]
  },
  {
   "cell_type": "code",
   "execution_count": 3,
   "id": "bb7ddb2e",
   "metadata": {},
   "outputs": [
    {
     "name": "stdout",
     "output_type": "stream",
     "text": [
      "10 <class 'int'>\n",
      "Hello <class 'str'>\n"
     ]
    }
   ],
   "source": [
    "a = 10       # a is an integer\n",
    "print(a, type(a))\n",
    "\n",
    "a = \"Hello\"  # a is now a string\n",
    "print(a, type(a))"
   ]
  },
  {
   "cell_type": "markdown",
   "id": "f89ca13f",
   "metadata": {},
   "source": [
    "### Example-3"
   ]
  },
  {
   "cell_type": "code",
   "execution_count": 4,
   "id": "cf5895a9",
   "metadata": {},
   "outputs": [
    {
     "ename": "SyntaxError",
     "evalue": "invalid syntax (4179736107.py, line 5)",
     "output_type": "error",
     "traceback": [
      "\u001b[1;36m  Cell \u001b[1;32mIn[4], line 5\u001b[1;36m\u001b[0m\n\u001b[1;33m    if = True # Error\u001b[0m\n\u001b[1;37m       ^\u001b[0m\n\u001b[1;31mSyntaxError\u001b[0m\u001b[1;31m:\u001b[0m invalid syntax\n"
     ]
    }
   ],
   "source": [
    "x = 10          # x is an int\n",
    "y = 3.14        # y is a float\n",
    "name = \"John\"   # name is a string\n",
    "is_valid = True # is_valid is a boolean\n",
    "if = True # Error "
   ]
  },
  {
   "cell_type": "code",
   "execution_count": null,
   "id": "ed726954",
   "metadata": {},
   "outputs": [],
   "source": []
  },
  {
   "cell_type": "markdown",
   "id": "806ece5a",
   "metadata": {},
   "source": [
    "#### Example-4 : Variables of different data types"
   ]
  },
  {
   "cell_type": "code",
   "execution_count": 5,
   "id": "fea27144",
   "metadata": {},
   "outputs": [],
   "source": [
    "# Integer\n",
    "age = 25\n",
    "\n",
    "# Float\n",
    "temperature = 36.6\n",
    "\n",
    "# String\n",
    "greeting = \"Good morning\"\n",
    "\n",
    "# Boolean\n",
    "is_open = True\n",
    "\n",
    "# List\n",
    "fruits = [\"apple\", \"banana\", \"cherry\"]\n",
    "\n",
    "# Dictionary\n",
    "person = {\"name\": \"John\", \"age\": 30}\n",
    "\n",
    "# None (represents the absence of value)\n",
    "value = None\n"
   ]
  },
  {
   "cell_type": "markdown",
   "id": "e6c07fd3",
   "metadata": {},
   "source": [
    "#### Example-5 : Variables in Expression"
   ]
  },
  {
   "cell_type": "code",
   "execution_count": 6,
   "id": "d04ed46e",
   "metadata": {},
   "outputs": [
    {
     "name": "stdout",
     "output_type": "stream",
     "text": [
      "8\n",
      "2\n",
      "15\n",
      "John Doe\n"
     ]
    }
   ],
   "source": [
    "# Arithmetic operations\n",
    "a = 5\n",
    "b = 3\n",
    "addition = a + b         # addition is 8\n",
    "difference = a - b  # difference is 2\n",
    "product = a * b     # product is 15\n",
    "quotient = a / b    # quotient is 1.666...\n",
    "\n",
    "# String operations\n",
    "first_name = \"John\"\n",
    "last_name = \"Doe\"\n",
    "full_name = first_name + \" \" + last_name  # full_name is \"John Doe\"\n",
    "\n",
    "\n",
    "print(addition)\n",
    "print(difference)\n",
    "print(product)\n",
    "\n",
    "print(full_name)"
   ]
  },
  {
   "cell_type": "code",
   "execution_count": 7,
   "id": "952887cb",
   "metadata": {},
   "outputs": [
    {
     "name": "stdout",
     "output_type": "stream",
     "text": [
      "Deepak Kumar\n"
     ]
    }
   ],
   "source": [
    "student_name_9th_class = \"Deepak Kumar\"\n",
    "print(student_name_9th_class)"
   ]
  },
  {
   "cell_type": "code",
   "execution_count": 8,
   "id": "e0a133d4",
   "metadata": {},
   "outputs": [
    {
     "ename": "SyntaxError",
     "evalue": "invalid decimal literal (3786038045.py, line 1)",
     "output_type": "error",
     "traceback": [
      "\u001b[1;36m  Cell \u001b[1;32mIn[8], line 1\u001b[1;36m\u001b[0m\n\u001b[1;33m    10Num = 100\u001b[0m\n\u001b[1;37m     ^\u001b[0m\n\u001b[1;31mSyntaxError\u001b[0m\u001b[1;31m:\u001b[0m invalid decimal literal\n"
     ]
    }
   ],
   "source": [
    "10Num = 100\n",
    "print(10Num)"
   ]
  },
  {
   "cell_type": "code",
   "execution_count": null,
   "id": "6d7fb795",
   "metadata": {},
   "outputs": [],
   "source": []
  }
 ],
 "metadata": {
  "kernelspec": {
   "display_name": "Python 3 (ipykernel)",
   "language": "python",
   "name": "python3"
  },
  "language_info": {
   "codemirror_mode": {
    "name": "ipython",
    "version": 3
   },
   "file_extension": ".py",
   "mimetype": "text/x-python",
   "name": "python",
   "nbconvert_exporter": "python",
   "pygments_lexer": "ipython3",
   "version": "3.11.5"
  }
 },
 "nbformat": 4,
 "nbformat_minor": 5
}
