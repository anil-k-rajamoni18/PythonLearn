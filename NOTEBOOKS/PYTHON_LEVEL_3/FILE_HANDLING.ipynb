{
 "cells": [
  {
   "cell_type": "code",
   "execution_count": null,
   "metadata": {},
   "outputs": [],
   "source": [
    "from IPython.core.interactiveshell import InteractiveShell\n",
    "InteractiveShell.ast_node_interactivity = \"all\""
   ]
  },
  {
   "cell_type": "markdown",
   "metadata": {},
   "source": [
    "## Files\n",
    "\n",
    "- Files are named locations on disk to store related information. They are used to permanently store data in a non-volatile memory (e.g. hard disk).\n",
    "\n",
    "- As Random Access Memory (RAM) is volatile (which loses its data when the computer is turned off), we use files for future use of the data by permanently storing them.\n",
    "\n",
    "- When we want to read from or write to a file, we need to open it first. When we are done, it needs to be closed so that the resources that are tied with the file are freed.\n",
    "\n",
    "- Hence, in Python, a file operation takes place in the following order:\n",
    "\n",
    "   - Open a file\n",
    "   - Read or write (perform operation)\n",
    "   - Close the file"
   ]
  },
  {
   "cell_type": "markdown",
   "metadata": {},
   "source": [
    "#### Opening A File\n",
    "\n",
    "__Python has a built-in open() function to open a file. This function returns a file object, also called a handle, as it is used to read or modify the file accordingly__"
   ]
  },
  {
   "cell_type": "markdown",
   "metadata": {},
   "source": [
    "### Recap : os module"
   ]
  },
  {
   "cell_type": "code",
   "execution_count": 2,
   "metadata": {},
   "outputs": [
    {
     "name": "stdout",
     "output_type": "stream",
     "text": [
      "D:\\2023\\Python\\Learn-Python\\CLASS_NOTEBOOKS\\PYTHON_LEVEL_3\n"
     ]
    }
   ],
   "source": [
    "import os\n",
    "print(os.getcwd())"
   ]
  },
  {
   "cell_type": "code",
   "execution_count": 3,
   "metadata": {},
   "outputs": [
    {
     "name": "stdout",
     "output_type": "stream",
     "text": [
      "['.ipynb_checkpoints', 'BUILD-IN-MODULES & EXCEPTIONS.ipynb', 'calculator.py', 'CODING_QUESTIONS.ipynb', 'COLLECTIONS.ipynb', 'demo.txt', 'FILE_HANDLING.ipynb', 'FUNCTIONS_IN_PYTHON .ipynb', 'PACKAGES.ipynb', 'PIP&VIRTUAL_ENV.ipynb', 'TextFiles', 'Time&Space Complexity.ipynb', 'VsCodeFunctions', '__pycache__']\n"
     ]
    }
   ],
   "source": [
    "print(os.listdir())"
   ]
  },
  {
   "cell_type": "code",
   "execution_count": 4,
   "metadata": {},
   "outputs": [
    {
     "data": {
      "text/plain": [
       "['.ipynb_checkpoints',\n",
       " 'BUILD-IN-MODULES & EXCEPTIONS.ipynb',\n",
       " 'calculator.py',\n",
       " 'CODING_QUESTIONS.ipynb',\n",
       " 'COLLECTIONS.ipynb',\n",
       " 'demo.txt',\n",
       " 'FILE_HANDLING.ipynb',\n",
       " 'FUNCTIONS_IN_PYTHON .ipynb',\n",
       " 'PACKAGES.ipynb',\n",
       " 'PIP&VIRTUAL_ENV.ipynb',\n",
       " 'TextFiles',\n",
       " 'Time&Space Complexity.ipynb',\n",
       " 'VsCodeFunctions',\n",
       " '__pycache__']"
      ]
     },
     "execution_count": 4,
     "metadata": {},
     "output_type": "execute_result"
    }
   ],
   "source": [
    "os.mkdir(\"TextFiles\") #floder/directory creation\n",
    "os.listdir()"
   ]
  },
  {
   "cell_type": "code",
   "execution_count": 5,
   "metadata": {},
   "outputs": [
    {
     "data": {
      "text/plain": [
       "'D:\\\\2023\\\\Python\\\\Learn-Python\\\\CLASS_NOTEBOOKS\\\\PYTHON_LEVEL_3'"
      ]
     },
     "execution_count": 5,
     "metadata": {},
     "output_type": "execute_result"
    }
   ],
   "source": [
    "os.getcwd()"
   ]
  },
  {
   "cell_type": "code",
   "execution_count": 6,
   "metadata": {},
   "outputs": [
    {
     "data": {
      "text/plain": [
       "'D:\\\\2023\\\\Python\\\\Learn-Python\\\\CLASS_NOTEBOOKS\\\\PYTHON_LEVEL_3\\\\TextFiles'"
      ]
     },
     "execution_count": 6,
     "metadata": {},
     "output_type": "execute_result"
    }
   ],
   "source": [
    "os.chdir(\"./TextFiles\")\n",
    "os.getcwd()"
   ]
  },
  {
   "cell_type": "code",
   "execution_count": 7,
   "metadata": {},
   "outputs": [
    {
     "data": {
      "text/plain": [
       "[]"
      ]
     },
     "execution_count": 7,
     "metadata": {},
     "output_type": "execute_result"
    }
   ],
   "source": [
    "os.listdir()"
   ]
  },
  {
   "cell_type": "markdown",
   "metadata": {},
   "source": [
    "### open()\n",
    "\n",
    "```python\n",
    "open(\n",
    "    file,\n",
    "    mode='r',\n",
    "    buffering=-1,\n",
    "    encoding=None,\n",
    "    errors=None,\n",
    "    newline=None,\n",
    "    closefd=True,\n",
    "    opener=None,\n",
    ")\n",
    "\n",
    "\n",
    "##MODES \n",
    "\n",
    "'r'       open for reading (default)\n",
    "'w'       open for writing, truncating the file first\n",
    "'x'       create a new file and open it for writing\n",
    "'a'       open for writing, appending to the end of the file if it exists\n",
    "'b'       binary mode\n",
    "'t'       text mode (default)\n",
    "'+'       open a disk file for updating (reading and writing)\n",
    "'U'       universal newline mode (deprecated)\n",
    "\n",
    "```"
   ]
  },
  {
   "cell_type": "markdown",
   "metadata": {},
   "source": [
    "### Example-1 \n",
    "- Opening not existing file "
   ]
  },
  {
   "cell_type": "code",
   "execution_count": 9,
   "metadata": {},
   "outputs": [
    {
     "name": "stdout",
     "output_type": "stream",
     "text": [
      "D:\\2023\\Python\\Learn-Python\\CLASS_NOTEBOOKS\\PYTHON_LEVEL_3\\TextFiles\n"
     ]
    }
   ],
   "source": [
    "print(os.getcwd())"
   ]
  },
  {
   "cell_type": "code",
   "execution_count": 8,
   "metadata": {},
   "outputs": [
    {
     "ename": "FileNotFoundError",
     "evalue": "[Errno 2] No such file or directory: 'test1.txt'",
     "output_type": "error",
     "traceback": [
      "\u001b[1;31m---------------------------------------------------------------------------\u001b[0m",
      "\u001b[1;31mFileNotFoundError\u001b[0m                         Traceback (most recent call last)",
      "Cell \u001b[1;32mIn[8], line 1\u001b[0m\n\u001b[1;32m----> 1\u001b[0m f \u001b[38;5;241m=\u001b[39m \u001b[38;5;28;43mopen\u001b[39;49m\u001b[43m(\u001b[49m\u001b[38;5;124;43m'\u001b[39;49m\u001b[38;5;124;43mtest1.txt\u001b[39;49m\u001b[38;5;124;43m'\u001b[39;49m\u001b[43m,\u001b[49m\u001b[43m \u001b[49m\u001b[43mmode\u001b[49m\u001b[43m \u001b[49m\u001b[38;5;241;43m=\u001b[39;49m\u001b[43m \u001b[49m\u001b[38;5;124;43m'\u001b[39;49m\u001b[38;5;124;43mr\u001b[39;49m\u001b[38;5;124;43m'\u001b[39;49m\u001b[43m)\u001b[49m \n\u001b[0;32m      2\u001b[0m \u001b[38;5;28mprint\u001b[39m(\u001b[38;5;124m\"\u001b[39m\u001b[38;5;124mopened done\u001b[39m\u001b[38;5;124m\"\u001b[39m)\n\u001b[0;32m      3\u001b[0m \u001b[38;5;28mprint\u001b[39m(\u001b[38;5;124m\"\u001b[39m\u001b[38;5;124mafter file \u001b[39m\u001b[38;5;124m\"\u001b[39m)\n",
      "File \u001b[1;32m~\\anaconda3\\lib\\site-packages\\IPython\\core\\interactiveshell.py:282\u001b[0m, in \u001b[0;36m_modified_open\u001b[1;34m(file, *args, **kwargs)\u001b[0m\n\u001b[0;32m    275\u001b[0m \u001b[38;5;28;01mif\u001b[39;00m file \u001b[38;5;129;01min\u001b[39;00m {\u001b[38;5;241m0\u001b[39m, \u001b[38;5;241m1\u001b[39m, \u001b[38;5;241m2\u001b[39m}:\n\u001b[0;32m    276\u001b[0m     \u001b[38;5;28;01mraise\u001b[39;00m \u001b[38;5;167;01mValueError\u001b[39;00m(\n\u001b[0;32m    277\u001b[0m         \u001b[38;5;124mf\u001b[39m\u001b[38;5;124m\"\u001b[39m\u001b[38;5;124mIPython won\u001b[39m\u001b[38;5;124m'\u001b[39m\u001b[38;5;124mt let you open fd=\u001b[39m\u001b[38;5;132;01m{\u001b[39;00mfile\u001b[38;5;132;01m}\u001b[39;00m\u001b[38;5;124m by default \u001b[39m\u001b[38;5;124m\"\u001b[39m\n\u001b[0;32m    278\u001b[0m         \u001b[38;5;124m\"\u001b[39m\u001b[38;5;124mas it is likely to crash IPython. If you know what you are doing, \u001b[39m\u001b[38;5;124m\"\u001b[39m\n\u001b[0;32m    279\u001b[0m         \u001b[38;5;124m\"\u001b[39m\u001b[38;5;124myou can use builtins\u001b[39m\u001b[38;5;124m'\u001b[39m\u001b[38;5;124m open.\u001b[39m\u001b[38;5;124m\"\u001b[39m\n\u001b[0;32m    280\u001b[0m     )\n\u001b[1;32m--> 282\u001b[0m \u001b[38;5;28;01mreturn\u001b[39;00m io_open(file, \u001b[38;5;241m*\u001b[39margs, \u001b[38;5;241m*\u001b[39m\u001b[38;5;241m*\u001b[39mkwargs)\n",
      "\u001b[1;31mFileNotFoundError\u001b[0m: [Errno 2] No such file or directory: 'test1.txt'"
     ]
    }
   ],
   "source": [
    "f = open('test1.txt', mode = 'r') \n",
    "print(\"opened done\")\n",
    "print(\"after file \")\n",
    "print(1+2)"
   ]
  },
  {
   "cell_type": "code",
   "execution_count": null,
   "metadata": {},
   "outputs": [],
   "source": []
  },
  {
   "cell_type": "code",
   "execution_count": null,
   "metadata": {},
   "outputs": [],
   "source": []
  },
  {
   "cell_type": "markdown",
   "metadata": {},
   "source": [
    "### Example-2 \n",
    "- Handling with try except "
   ]
  },
  {
   "cell_type": "code",
   "execution_count": 10,
   "metadata": {},
   "outputs": [
    {
     "name": "stdout",
     "output_type": "stream",
     "text": [
      "[Errno 2] No such file or directory: 'test1.txt'\n",
      "handled exception\n",
      "after try - except block flow\n",
      "Try Except\n",
      "12\n"
     ]
    }
   ],
   "source": [
    "try:\n",
    "    f = open(\"test1.txt\",mode=\"r\") \n",
    "except Exception as e:\n",
    "    print(e)\n",
    "    print(\"handled exception\")\n",
    "    \n",
    "print(\"after try - except block flow\")\n",
    "print(\"Try \"+\"Except\")\n",
    "print(10+2)\n"
   ]
  },
  {
   "cell_type": "markdown",
   "metadata": {},
   "source": [
    "- We can specify the mode while opening a file. In mode, we specify whether we want to read r, write w or append a to the file. We can also specify if we want to open the file in text mode or binary mode.\n",
    "\n",
    "- The default is reading in text mode. In this mode, we get strings when reading from the file.\n",
    "\n",
    "#### Mode\tDescription\n",
    "\n",
    "r\tOpens a file for reading. (default)\n",
    "\n",
    "w\tOpens a file for writing. Creates a new file if it does not exist or truncates the file if it exists.\n",
    "\n",
    "x\tOpens a file for exclusive creation. If the file already exists, the operation fails.\n",
    "\n",
    "a\tOpens a file for appending at the end of the file without truncating it. Creates a new file if it does not exist.\n",
    "\n",
    "t\tOpens in text mode. (default)\n",
    "\n",
    "b\tOpens in binary mode.\n",
    "\n",
    "+\tOpens a file for updating (reading and writing)"
   ]
  },
  {
   "cell_type": "markdown",
   "metadata": {},
   "source": [
    "### file object attributes"
   ]
  },
  {
   "cell_type": "markdown",
   "metadata": {},
   "source": [
    "### creating textual file "
   ]
  },
  {
   "cell_type": "code",
   "execution_count": 11,
   "metadata": {},
   "outputs": [],
   "source": [
    "f = open('hello.txt', mode = 'x') #open\n",
    "# operation\n",
    "f.write('Learning File Handling Today\\n')\n",
    "f.write('Every Easy methods\\n')\n",
    "f.write('useful in realtime')\n",
    "f.close() #close "
   ]
  },
  {
   "cell_type": "markdown",
   "metadata": {},
   "source": [
    "### reading the file"
   ]
  },
  {
   "cell_type": "code",
   "execution_count": 18,
   "metadata": {},
   "outputs": [
    {
     "name": "stdout",
     "output_type": "stream",
     "text": [
      "<_io.TextIOWrapper name='hello.txt' mode='r' encoding='cp1252'>\n",
      "r\n",
      "<_io.BufferedReader name='hello.txt'>\n",
      "False\n",
      "<built-in method detach of _io.TextIOWrapper object at 0x000001E55F32B440>\n",
      "cp1252\n",
      "strict\n",
      "<built-in method fileno of _io.TextIOWrapper object at 0x000001E55F32B440>\n",
      "hello.txt\n",
      "<built-in method readable of _io.TextIOWrapper object at 0x000001E55F32B440>\n",
      "True\n"
     ]
    }
   ],
   "source": [
    "f = open('hello.txt', mode= 'r')\n",
    "print(f)\n",
    "\n",
    "#print(dir(f))\n",
    "\n",
    "print(f.mode)\n",
    "print(f.buffer)\n",
    "print(f.closed)\n",
    "print(f.detach)\n",
    "print(f.encoding)\n",
    "print(f.errors)\n",
    "print(f.fileno)\n",
    "print(f.name)\n",
    "print(f.readable)\n",
    "\n",
    "f.close()\n",
    "print(f.closed)"
   ]
  },
  {
   "cell_type": "markdown",
   "metadata": {},
   "source": [
    "### Example-2.1"
   ]
  },
  {
   "cell_type": "code",
   "execution_count": 23,
   "metadata": {},
   "outputs": [
    {
     "name": "stdout",
     "output_type": "stream",
     "text": [
      "r\n",
      "False\n",
      "0\n",
      "Learn\n",
      "5\n",
      "ing \n",
      "9\n",
      "File Handling Today\n",
      "Every Easy methods\n",
      "useful in realtime\n",
      "68\n"
     ]
    }
   ],
   "source": [
    "f = open('hello.txt' ,mode='r')\n",
    "\n",
    "print(f.mode)\n",
    "print(f.closed)\n",
    "\n",
    "print(f.tell()) # display the file pointer position\n",
    "\n",
    "print(f.read(5))\n",
    "print(f.tell())\n",
    "\n",
    "print(f.read(4))\n",
    "print(f.tell())\n",
    "\n",
    "print(f.read()) # will read all character\n",
    "print(f.tell())"
   ]
  },
  {
   "cell_type": "code",
   "execution_count": null,
   "metadata": {},
   "outputs": [],
   "source": []
  },
  {
   "cell_type": "code",
   "execution_count": null,
   "metadata": {},
   "outputs": [],
   "source": []
  },
  {
   "cell_type": "code",
   "execution_count": null,
   "metadata": {},
   "outputs": [],
   "source": []
  },
  {
   "cell_type": "markdown",
   "metadata": {},
   "source": [
    "### Example-3"
   ]
  },
  {
   "cell_type": "code",
   "execution_count": 27,
   "metadata": {},
   "outputs": [
    {
     "name": "stdout",
     "output_type": "stream",
     "text": [
      "Learning File Handling Today\n",
      " <class 'str'>\n",
      "Every Easy methods\n",
      " <class 'str'>\n",
      "useful in realtime\n",
      " <class 'str'>\n",
      "\n",
      " <class 'str'>\n",
      "The companyâ€™s focus on wheeled AMRs (autonomous mobile robots) dates back to its 2012 purchase of Kiva Systems, whose platforms have formed the foundation for the whole of Amazon Robotics. \n",
      " <class 'str'>\n",
      "There are currently 750,000 AMRs deployed across the companyâ€™s warehouse network. \n",
      " <class 'str'>\n",
      "The company has launched non-AMR systems, as well, including picking arms like Sparrow, which was launched during the same event last year. <class 'str'>\n",
      "number of lines in the text file is 7\n"
     ]
    }
   ],
   "source": [
    "# reading the Data From File\n",
    "f = open(\"hello.txt\")  \n",
    "line_count=0\n",
    "for data in f:\n",
    "    line_count += 1\n",
    "    print(data,type(data))\n",
    "    \n",
    "print(f\"number of lines in the text file is {line_count}\")\n",
    "\n",
    "f.close()"
   ]
  },
  {
   "cell_type": "markdown",
   "metadata": {},
   "source": [
    "#### Example: printing all uppercase letters"
   ]
  },
  {
   "cell_type": "code",
   "execution_count": 32,
   "metadata": {},
   "outputs": [
    {
     "name": "stdout",
     "output_type": "stream",
     "text": [
      "L F H T E E T A M R K S A R T A M R T A M R S "
     ]
    }
   ],
   "source": [
    "# reading the Data From File\n",
    "f = open(\"hello.txt\", mode = 'r')  \n",
    "\n",
    "for data in f:\n",
    "    for ch in data:\n",
    "        if ch.isupper():\n",
    "            print(ch, end= \" \")\n",
    "f.close()"
   ]
  },
  {
   "cell_type": "markdown",
   "metadata": {},
   "source": [
    "#### Example: printing space count & vowel count"
   ]
  },
  {
   "cell_type": "code",
   "execution_count": 45,
   "metadata": {},
   "outputs": [
    {
     "name": "stdout",
     "output_type": "stream",
     "text": [
      "space count is 69\n"
     ]
    }
   ],
   "source": [
    "f = open(\"hello.txt\", mode = 'r')   #open\n",
    "\n",
    "# operation\n",
    "space_count = 0\n",
    "for data in f:\n",
    "    for ch in data:\n",
    "        if ord(ch) == 32:\n",
    "            space_count+=1\n",
    "print(f\"space count is {space_count}\")\n",
    "\n",
    "#close \n",
    "f.close()"
   ]
  },
  {
   "cell_type": "code",
   "execution_count": 47,
   "metadata": {},
   "outputs": [
    {
     "name": "stdout",
     "output_type": "stream",
     "text": [
      "32\n",
      "A\n",
      "a\n"
     ]
    }
   ],
   "source": [
    "print(ord(\" \"))\n",
    "print(chr(65))\n",
    "print(chr(97))"
   ]
  },
  {
   "cell_type": "code",
   "execution_count": 49,
   "metadata": {},
   "outputs": [
    {
     "name": "stdout",
     "output_type": "stream",
     "text": [
      "vowels count is 6\n"
     ]
    }
   ],
   "source": [
    "f = open(\"hello.txt\", mode = 'r')   #open\n",
    "\n",
    "# operation\n",
    "vowels = 'A E I O U'.split()\n",
    "vowelsCount = 0\n",
    "for data in f:\n",
    "    for ch in data:\n",
    "        if ch in vowels:\n",
    "            vowelsCount += 1\n",
    "print(f\"vowels count is {vowelsCount}\")\n",
    "\n",
    "#close \n",
    "f.close()"
   ]
  },
  {
   "cell_type": "markdown",
   "metadata": {},
   "source": [
    "#### Exercise \n",
    "\n",
    "- create a file with name: addition.txt\n",
    "- write numbers into the file \n",
    "\n",
    "- Again open the file for read operation\n",
    "- calculate sum of the numbers\n",
    "\n",
    "\n",
    "**NOTE**: type of data read from file will be always string type"
   ]
  },
  {
   "cell_type": "code",
   "execution_count": 52,
   "metadata": {},
   "outputs": [],
   "source": [
    "#  creating \n",
    "fadd = open('add.txt', mode = 'x')\n",
    "fadd.write(\"10\\n\")\n",
    "fadd.write(\"20\\n\")\n",
    "fadd.write(\"30\\n\")\n",
    "fadd.close()"
   ]
  },
  {
   "cell_type": "code",
   "execution_count": 118,
   "metadata": {},
   "outputs": [
    {
     "name": "stdout",
     "output_type": "stream",
     "text": [
      "total sum is 60\n"
     ]
    }
   ],
   "source": [
    "#  reading \n",
    "f = open('add.txt', mode = 'r')\n",
    "\n",
    "total = 0\n",
    "for num in f:\n",
    "    #print(num , type(num))\n",
    "    total = total + int(num) \n",
    "\n",
    "print(f'total sum is {total}')"
   ]
  },
  {
   "cell_type": "code",
   "execution_count": null,
   "metadata": {},
   "outputs": [],
   "source": []
  },
  {
   "cell_type": "markdown",
   "metadata": {},
   "source": [
    "### Try these"
   ]
  },
  {
   "cell_type": "code",
   "execution_count": 60,
   "metadata": {},
   "outputs": [
    {
     "name": "stdout",
     "output_type": "stream",
     "text": [
      "10\n",
      "20\n",
      "30\n",
      "\n"
     ]
    },
    {
     "ename": "ValueError",
     "evalue": "I/O operation on closed file.",
     "output_type": "error",
     "traceback": [
      "\u001b[1;31m---------------------------------------------------------------------------\u001b[0m",
      "\u001b[1;31mValueError\u001b[0m                                Traceback (most recent call last)",
      "Cell \u001b[1;32mIn[60], line 4\u001b[0m\n\u001b[0;32m      2\u001b[0m \u001b[38;5;28mprint\u001b[39m(f\u001b[38;5;241m.\u001b[39mread())\n\u001b[0;32m      3\u001b[0m f\u001b[38;5;241m.\u001b[39mclose()\n\u001b[1;32m----> 4\u001b[0m \u001b[38;5;28mprint\u001b[39m(\u001b[43mf\u001b[49m\u001b[38;5;241;43m.\u001b[39;49m\u001b[43mread\u001b[49m\u001b[43m(\u001b[49m\u001b[43m)\u001b[49m)\n",
      "\u001b[1;31mValueError\u001b[0m: I/O operation on closed file."
     ]
    }
   ],
   "source": [
    "f = open('add.txt', mode = 'r')\n",
    "print(f.read())\n",
    "f.close()\n",
    "print(f.read())"
   ]
  },
  {
   "cell_type": "code",
   "execution_count": 61,
   "metadata": {},
   "outputs": [
    {
     "ename": "UnsupportedOperation",
     "evalue": "not readable",
     "output_type": "error",
     "traceback": [
      "\u001b[1;31m---------------------------------------------------------------------------\u001b[0m",
      "\u001b[1;31mUnsupportedOperation\u001b[0m                      Traceback (most recent call last)",
      "Cell \u001b[1;32mIn[61], line 2\u001b[0m\n\u001b[0;32m      1\u001b[0m f \u001b[38;5;241m=\u001b[39m \u001b[38;5;28mopen\u001b[39m(\u001b[38;5;124m'\u001b[39m\u001b[38;5;124mhello.txt\u001b[39m\u001b[38;5;124m'\u001b[39m, mode \u001b[38;5;241m=\u001b[39m \u001b[38;5;124m'\u001b[39m\u001b[38;5;124mw\u001b[39m\u001b[38;5;124m'\u001b[39m)\n\u001b[1;32m----> 2\u001b[0m \u001b[38;5;28mprint\u001b[39m(\u001b[43mf\u001b[49m\u001b[38;5;241;43m.\u001b[39;49m\u001b[43mread\u001b[49m\u001b[43m(\u001b[49m\u001b[43m)\u001b[49m)\n\u001b[0;32m      3\u001b[0m f\u001b[38;5;241m.\u001b[39mclose()\n",
      "\u001b[1;31mUnsupportedOperation\u001b[0m: not readable"
     ]
    }
   ],
   "source": [
    "f = open('hello.txt', mode = 'w')\n",
    "print(f.read())\n",
    "f.close()\n"
   ]
  },
  {
   "cell_type": "markdown",
   "metadata": {},
   "source": [
    "## Writing Operations"
   ]
  },
  {
   "cell_type": "code",
   "execution_count": 63,
   "metadata": {},
   "outputs": [
    {
     "ename": "FileExistsError",
     "evalue": "[Errno 17] File exists: 'random.txt'",
     "output_type": "error",
     "traceback": [
      "\u001b[1;31m---------------------------------------------------------------------------\u001b[0m",
      "\u001b[1;31mFileExistsError\u001b[0m                           Traceback (most recent call last)",
      "Cell \u001b[1;32mIn[63], line 1\u001b[0m\n\u001b[1;32m----> 1\u001b[0m f \u001b[38;5;241m=\u001b[39m \u001b[38;5;28;43mopen\u001b[39;49m\u001b[43m(\u001b[49m\u001b[38;5;124;43m\"\u001b[39;49m\u001b[38;5;124;43mrandom.txt\u001b[39;49m\u001b[38;5;124;43m\"\u001b[39;49m\u001b[43m,\u001b[49m\u001b[43mmode\u001b[49m\u001b[38;5;241;43m=\u001b[39;49m\u001b[38;5;124;43m'\u001b[39;49m\u001b[38;5;124;43mx\u001b[39;49m\u001b[38;5;124;43m'\u001b[39;49m\u001b[43m)\u001b[49m\n\u001b[0;32m      3\u001b[0m f\u001b[38;5;241m.\u001b[39mwrite(\u001b[38;5;124m'''\u001b[39m\n\u001b[0;32m      4\u001b[0m \u001b[38;5;124m        apple\u001b[39m\n\u001b[0;32m      5\u001b[0m \u001b[38;5;124m        boy\u001b[39m\n\u001b[1;32m   (...)\u001b[0m\n\u001b[0;32m      8\u001b[0m \u001b[38;5;124m        elon musk\u001b[39m\n\u001b[0;32m      9\u001b[0m \u001b[38;5;124m        \u001b[39m\u001b[38;5;124m'''\u001b[39m)\n\u001b[0;32m     11\u001b[0m f\u001b[38;5;241m.\u001b[39mclose()\n",
      "File \u001b[1;32m~\\anaconda3\\lib\\site-packages\\IPython\\core\\interactiveshell.py:282\u001b[0m, in \u001b[0;36m_modified_open\u001b[1;34m(file, *args, **kwargs)\u001b[0m\n\u001b[0;32m    275\u001b[0m \u001b[38;5;28;01mif\u001b[39;00m file \u001b[38;5;129;01min\u001b[39;00m {\u001b[38;5;241m0\u001b[39m, \u001b[38;5;241m1\u001b[39m, \u001b[38;5;241m2\u001b[39m}:\n\u001b[0;32m    276\u001b[0m     \u001b[38;5;28;01mraise\u001b[39;00m \u001b[38;5;167;01mValueError\u001b[39;00m(\n\u001b[0;32m    277\u001b[0m         \u001b[38;5;124mf\u001b[39m\u001b[38;5;124m\"\u001b[39m\u001b[38;5;124mIPython won\u001b[39m\u001b[38;5;124m'\u001b[39m\u001b[38;5;124mt let you open fd=\u001b[39m\u001b[38;5;132;01m{\u001b[39;00mfile\u001b[38;5;132;01m}\u001b[39;00m\u001b[38;5;124m by default \u001b[39m\u001b[38;5;124m\"\u001b[39m\n\u001b[0;32m    278\u001b[0m         \u001b[38;5;124m\"\u001b[39m\u001b[38;5;124mas it is likely to crash IPython. If you know what you are doing, \u001b[39m\u001b[38;5;124m\"\u001b[39m\n\u001b[0;32m    279\u001b[0m         \u001b[38;5;124m\"\u001b[39m\u001b[38;5;124myou can use builtins\u001b[39m\u001b[38;5;124m'\u001b[39m\u001b[38;5;124m open.\u001b[39m\u001b[38;5;124m\"\u001b[39m\n\u001b[0;32m    280\u001b[0m     )\n\u001b[1;32m--> 282\u001b[0m \u001b[38;5;28;01mreturn\u001b[39;00m io_open(file, \u001b[38;5;241m*\u001b[39margs, \u001b[38;5;241m*\u001b[39m\u001b[38;5;241m*\u001b[39mkwargs)\n",
      "\u001b[1;31mFileExistsError\u001b[0m: [Errno 17] File exists: 'random.txt'"
     ]
    }
   ],
   "source": [
    "# mode = 'x'\n",
    "f = open(\"random.txt\",mode = 'x')\n",
    "\n",
    "f.write('''\n",
    "        apple\n",
    "        boy\n",
    "        car\n",
    "        dog\n",
    "        elon musk\n",
    "        ''')\n",
    "\n",
    "f.close()"
   ]
  },
  {
   "cell_type": "code",
   "execution_count": 66,
   "metadata": {},
   "outputs": [],
   "source": [
    "# mode = 'w'\n",
    "f = open(\"python-notes.txt\",mode = 'w')\n",
    "\n",
    "f.write('java is strongly typed lang\\n')\n",
    "f.write('python is weekly typed lang')\n",
    "f.close()"
   ]
  },
  {
   "cell_type": "code",
   "execution_count": 68,
   "metadata": {},
   "outputs": [],
   "source": [
    "# mode = 'a'\n",
    "f = open(\"java-notes.txt\",mode = 'a')\n",
    "\n",
    "f.write('streams api is introduced in java 8\\n')\n",
    "f.write('records are very easy compared class')\n",
    "\n",
    "f.close()\n",
    "\n"
   ]
  },
  {
   "cell_type": "markdown",
   "metadata": {},
   "source": [
    "### difference between x , w , a?\n",
    "\n",
    "```python\n",
    "- x : create a new file, if file doesn't exits.\n",
    "    else if file exists, it will throw FileExistsError\n",
    "    \n",
    "- w: create a new file , if file doesn't exits\n",
    "    else if exists, it will truncate the data\n",
    "    \n",
    "    \n",
    "    \n",
    "- a: create new file , if file doesn't exists\n",
    "    else if exists, it will open and append the new data\n",
    "    \n",
    "```"
   ]
  },
  {
   "cell_type": "code",
   "execution_count": null,
   "metadata": {},
   "outputs": [],
   "source": []
  },
  {
   "cell_type": "markdown",
   "metadata": {},
   "source": [
    "## with statement\n",
    "\n",
    "- The best way to close a file is by using the with statement. This ensures that the file is closed when the block inside the \"with\" \"statement is exited.\n",
    "\n",
    "- We don't need to explicitly call the close() method. \n",
    "- It is done internally."
   ]
  },
  {
   "cell_type": "code",
   "execution_count": null,
   "metadata": {},
   "outputs": [],
   "source": []
  },
  {
   "cell_type": "markdown",
   "metadata": {},
   "source": [
    "### 1st way"
   ]
  },
  {
   "cell_type": "code",
   "execution_count": 70,
   "metadata": {},
   "outputs": [
    {
     "name": "stdout",
     "output_type": "stream",
     "text": [
      "java is strongly typed lang\n",
      "\n",
      "python is weekly typed lang\n"
     ]
    }
   ],
   "source": [
    "# open\n",
    "f = open(\"python-notes.txt\",mode='r',encoding='utf-8')\n",
    "\n",
    "# operation\n",
    "for i in f:\n",
    "    print(i)\n",
    "\n",
    "# close\n",
    "f.close()"
   ]
  },
  {
   "cell_type": "markdown",
   "metadata": {},
   "source": [
    "### 2nd way"
   ]
  },
  {
   "cell_type": "markdown",
   "metadata": {},
   "source": [
    "### Example-1"
   ]
  },
  {
   "cell_type": "code",
   "execution_count": 73,
   "metadata": {
    "scrolled": true
   },
   "outputs": [
    {
     "name": "stdout",
     "output_type": "stream",
     "text": [
      "java is strongly typed lang\n",
      "python is weekly typed lang\n"
     ]
    },
    {
     "ename": "ValueError",
     "evalue": "I/O operation on closed file.",
     "output_type": "error",
     "traceback": [
      "\u001b[1;31m---------------------------------------------------------------------------\u001b[0m",
      "\u001b[1;31mValueError\u001b[0m                                Traceback (most recent call last)",
      "Cell \u001b[1;32mIn[73], line 4\u001b[0m\n\u001b[0;32m      1\u001b[0m \u001b[38;5;28;01mwith\u001b[39;00m \u001b[38;5;28mopen\u001b[39m(\u001b[38;5;124m\"\u001b[39m\u001b[38;5;124mpython-notes.txt\u001b[39m\u001b[38;5;124m\"\u001b[39m,mode\u001b[38;5;241m=\u001b[39m\u001b[38;5;124m'\u001b[39m\u001b[38;5;124mr\u001b[39m\u001b[38;5;124m'\u001b[39m,encoding\u001b[38;5;241m=\u001b[39m\u001b[38;5;124m'\u001b[39m\u001b[38;5;124mutf-8\u001b[39m\u001b[38;5;124m'\u001b[39m) \u001b[38;5;28;01mas\u001b[39;00m ff:\n\u001b[0;32m      2\u001b[0m     \u001b[38;5;28mprint\u001b[39m(ff\u001b[38;5;241m.\u001b[39mread())\n\u001b[1;32m----> 4\u001b[0m \u001b[38;5;28mprint\u001b[39m(\u001b[43mff\u001b[49m\u001b[38;5;241;43m.\u001b[39;49m\u001b[43mread\u001b[49m\u001b[43m(\u001b[49m\u001b[43m)\u001b[49m)\n",
      "\u001b[1;31mValueError\u001b[0m: I/O operation on closed file."
     ]
    }
   ],
   "source": [
    "with open(\"python-notes.txt\",mode='r',encoding='utf-8') as ff:\n",
    "    print(ff.read())\n",
    "    \n",
    "print(ff.read())"
   ]
  },
  {
   "cell_type": "markdown",
   "metadata": {},
   "source": [
    "### Example-2"
   ]
  },
  {
   "cell_type": "code",
   "execution_count": 76,
   "metadata": {},
   "outputs": [
    {
     "name": "stdout",
     "output_type": "stream",
     "text": [
      "vowels count is 2\n"
     ]
    }
   ],
   "source": [
    "with open(\"hello.txt\", mode = 'r') as f:\n",
    "    vowels = 'A E I O U'.split()\n",
    "    vowelsCount = 0\n",
    "    for data in f:\n",
    "        for ch in data:\n",
    "            if ch in vowels:\n",
    "                vowelsCount += 1\n",
    "    print(f\"vowels count is {vowelsCount}\")\n",
    "    "
   ]
  },
  {
   "cell_type": "markdown",
   "metadata": {},
   "source": [
    "### Example-3\n",
    "\n"
   ]
  },
  {
   "cell_type": "code",
   "execution_count": 77,
   "metadata": {},
   "outputs": [],
   "source": [
    "with open('java-notes.txt', mode = 'a') as f:\n",
    "    f.write('\\njava lambda is very easy compared to other lang\\n')\n",
    "    f.write('current version of java is 21\\n')"
   ]
  },
  {
   "cell_type": "code",
   "execution_count": 78,
   "metadata": {},
   "outputs": [
    {
     "ename": "ValueError",
     "evalue": "I/O operation on closed file.",
     "output_type": "error",
     "traceback": [
      "\u001b[1;31m---------------------------------------------------------------------------\u001b[0m",
      "\u001b[1;31mValueError\u001b[0m                                Traceback (most recent call last)",
      "Cell \u001b[1;32mIn[78], line 1\u001b[0m\n\u001b[1;32m----> 1\u001b[0m \u001b[38;5;28mprint\u001b[39m(\u001b[43mf\u001b[49m\u001b[38;5;241;43m.\u001b[39;49m\u001b[43mwrite\u001b[49m\u001b[43m(\u001b[49m\u001b[38;5;124;43m'\u001b[39;49m\u001b[38;5;124;43mfunctions&methods are not first class citizens in java\u001b[39;49m\u001b[38;5;124;43m'\u001b[39;49m\u001b[43m)\u001b[49m)\n",
      "\u001b[1;31mValueError\u001b[0m: I/O operation on closed file."
     ]
    }
   ],
   "source": [
    "print(f.write('functions&methods are not first class citizens in java'))"
   ]
  },
  {
   "cell_type": "markdown",
   "metadata": {},
   "source": [
    "#### Methods \n",
    "\n",
    "1.close()\tCloses an opened file. It has no effect if the file is already closed.\n",
    "\n",
    "2.fileno()\tReturns an integer number (file descriptor) of the file.\n",
    "\n",
    "3.read(n)\tReads at most n characters from the file. Reads till end of file if it is negative or None.\n",
    "\n",
    "4.readable()\tReturns True if the file stream can be read from.\n",
    "\n",
    "5.readline(n=-1)\tReads and returns one line from the file. Reads in at most n bytes if specified.\n",
    "\n",
    "6.readlines(n=-1)\tReads and returns a list of lines from the file. Reads in at most n bytes/characters if specified.\n",
    "\n",
    "\n",
    "7.seek(offset,from=SEEK_SET)\tChanges the file position to offset bytes, in reference to from (start, current, end).\n",
    "\n",
    "8.write(s)\tWrites the string s to the file and returns the number of characters written.\n",
    "\n",
    "9.writelines(lines)\tWrites a list of lines to the file."
   ]
  },
  {
   "cell_type": "markdown",
   "metadata": {},
   "source": [
    "#### read()"
   ]
  },
  {
   "cell_type": "code",
   "execution_count": 82,
   "metadata": {},
   "outputs": [
    {
     "name": "stdout",
     "output_type": "stream",
     "text": [
      "<class 'str'>\n",
      "The companyâ€™s focus on wheeled AMRs (autonomous mobile robots) dates back to its 2012 purchase of Kiva Systems, whose platforms have formed the foundation for the whole of Amazon Robotics. \n",
      "\n",
      "A system needs to demonstrate an increase in productivity in order for Amazon to integrate it into its growing robotics ecosystem. \n",
      "Itâ€™s less innovation for innovationâ€™s sake, and more scoping out any possible advantage that will get goods to customers in less time. Including drones.\n",
      "\n",
      "\n",
      "The biggest talking point around the form factor is the fact that humans build workspaces for other humans. \n",
      "That includes shelving heights, terrain, aisle width and the staircase, the bane of the ARMâ€™s existence. \n",
      "From this standpoint a humanoid robot suddenly makes a lot more sense. The reality of things is that most companies operate in brownfield sites. \n",
      "That is to say their warehouses and factories generally arenâ€™t built with specific automation solutions in mind. Humanoid robots slot nicely into a brownfield site.\n",
      " None\n"
     ]
    }
   ],
   "source": [
    "with open('hello.txt', mode = 'r') as f:\n",
    "    print(f.read())"
   ]
  },
  {
   "cell_type": "markdown",
   "metadata": {},
   "source": [
    "#### read(n)"
   ]
  },
  {
   "cell_type": "code",
   "execution_count": 80,
   "metadata": {},
   "outputs": [
    {
     "name": "stdout",
     "output_type": "stream",
     "text": [
      "The compan\n"
     ]
    }
   ],
   "source": [
    "with open('hello.txt', mode = 'r') as f:\n",
    "    print(f.read(10))"
   ]
  },
  {
   "cell_type": "markdown",
   "metadata": {},
   "source": [
    "#### readlines()"
   ]
  },
  {
   "cell_type": "code",
   "execution_count": null,
   "metadata": {},
   "outputs": [],
   "source": [
    "with open('hello.txt', mode = 'r') as f:\n",
    "    print(f.readlines())"
   ]
  },
  {
   "cell_type": "markdown",
   "metadata": {},
   "source": [
    "#### readable()"
   ]
  },
  {
   "cell_type": "code",
   "execution_count": 88,
   "metadata": {},
   "outputs": [
    {
     "name": "stdout",
     "output_type": "stream",
     "text": [
      "False\n"
     ]
    }
   ],
   "source": [
    "f = open('hello.txt', mode = 'a')\n",
    "print(f.readable())"
   ]
  },
  {
   "cell_type": "markdown",
   "metadata": {},
   "source": [
    "#### tell()& seek()"
   ]
  },
  {
   "cell_type": "code",
   "execution_count": 113,
   "metadata": {
    "scrolled": true
   },
   "outputs": [
    {
     "name": "stdout",
     "output_type": "stream",
     "text": [
      "0\n",
      "\n"
     ]
    }
   ],
   "source": [
    "f = open('java-notes.txt', mode = 'r')\n",
    "print(f.tell())\n",
    "\n",
    "print(f.read(4))\n",
    "print(f.tell())\n",
    "\n",
    "print(f.read(12))\n",
    "print(f.tell())\n",
    "\n",
    "f.seek(8)\n",
    "print(f.tell())\n",
    "print(f.read(2))\n",
    "print(f.tell())\n",
    "\n",
    "\n",
    "f.seek(2)\n",
    "print(f.read())\n",
    "\n",
    "f.close()"
   ]
  },
  {
   "cell_type": "code",
   "execution_count": null,
   "metadata": {},
   "outputs": [],
   "source": []
  },
  {
   "cell_type": "code",
   "execution_count": null,
   "metadata": {},
   "outputs": [],
   "source": []
  },
  {
   "cell_type": "markdown",
   "metadata": {},
   "source": [
    "### Handson Excerise \n",
    "\n",
    "1. make a call to the endpoint: https://reqres.in/api/users?page=2\n",
    "2. store the response\n",
    "3. apply the json() store it in a variable\n",
    "4. create a file with name: users.txt and store all usernames (last_name, first_name)\n"
   ]
  },
  {
   "cell_type": "code",
   "execution_count": null,
   "metadata": {},
   "outputs": [],
   "source": []
  }
 ],
 "metadata": {
  "kernelspec": {
   "display_name": "Python 3 (ipykernel)",
   "language": "python",
   "name": "python3"
  },
  "language_info": {
   "codemirror_mode": {
    "name": "ipython",
    "version": 3
   },
   "file_extension": ".py",
   "mimetype": "text/x-python",
   "name": "python",
   "nbconvert_exporter": "python",
   "pygments_lexer": "ipython3",
   "version": "3.10.9"
  }
 },
 "nbformat": 4,
 "nbformat_minor": 4
}
