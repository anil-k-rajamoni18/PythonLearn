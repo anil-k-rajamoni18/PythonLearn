{
 "cells": [
  {
   "cell_type": "code",
   "execution_count": null,
   "metadata": {},
   "outputs": [],
   "source": [
    "from IPython.core.interactiveshell import InteractiveShell\n",
    "InteractiveShell.ast_node_interactivity = \"all\""
   ]
  },
  {
   "cell_type": "markdown",
   "metadata": {},
   "source": [
    "## Files\n",
    "\n",
    "- Files are named locations on disk to store related information. They are used to permanently store data in a non-volatile memory (e.g. hard disk).\n",
    "\n",
    "- As Random Access Memory (RAM) is volatile (which loses its data when the computer is turned off), we use files for future use of the data by permanently storing them.\n",
    "\n",
    "- When we want to read from or write to a file, we need to open it first. When we are done, it needs to be closed so that the resources that are tied with the file are freed.\n",
    "\n",
    "- Hence, in Python, a file operation takes place in the following order:\n",
    "\n",
    "   - Open a file\n",
    "   - Read or write (perform operation)\n",
    "   - Close the file"
   ]
  },
  {
   "cell_type": "markdown",
   "metadata": {},
   "source": [
    "#### Opening A File\n",
    "\n",
    "__Python has a built-in open() function to open a file. This function returns a file object, also called a handle, as it is used to read or modify the file accordingly__"
   ]
  },
  {
   "cell_type": "markdown",
   "metadata": {},
   "source": [
    "### Recap : os module"
   ]
  },
  {
   "cell_type": "code",
   "execution_count": 1,
   "metadata": {},
   "outputs": [
    {
     "name": "stdout",
     "output_type": "stream",
     "text": [
      "D:\\2024\\python\\Python-Learn\\NOTEBOOKS\\PYTHON_LEVEL_3\n"
     ]
    }
   ],
   "source": [
    "import os\n",
    "print(os.getcwd())"
   ]
  },
  {
   "cell_type": "code",
   "execution_count": null,
   "metadata": {},
   "outputs": [],
   "source": [
    "print(os.listdir())"
   ]
  },
  {
   "cell_type": "code",
   "execution_count": null,
   "metadata": {},
   "outputs": [],
   "source": [
    "os.mkdir(\"TextFiles\") #floder/directory creation\n",
    "os.listdir()"
   ]
  },
  {
   "cell_type": "code",
   "execution_count": null,
   "metadata": {},
   "outputs": [],
   "source": [
    "os.getcwd()"
   ]
  },
  {
   "cell_type": "code",
   "execution_count": 2,
   "metadata": {},
   "outputs": [
    {
     "data": {
      "text/plain": [
       "'D:\\\\2024\\\\python\\\\Python-Learn\\\\NOTEBOOKS\\\\PYTHON_LEVEL_3\\\\TextFiles'"
      ]
     },
     "execution_count": 2,
     "metadata": {},
     "output_type": "execute_result"
    }
   ],
   "source": [
    "os.chdir(\"./TextFiles\")\n",
    "os.getcwd()"
   ]
  },
  {
   "cell_type": "code",
   "execution_count": 3,
   "metadata": {},
   "outputs": [
    {
     "data": {
      "text/plain": [
       "['add.txt', 'hello.txt', 'hello1.txt']"
      ]
     },
     "execution_count": 3,
     "metadata": {},
     "output_type": "execute_result"
    }
   ],
   "source": [
    "os.listdir()"
   ]
  },
  {
   "cell_type": "markdown",
   "metadata": {},
   "source": [
    "### open()\n",
    "\n",
    "```python\n",
    "open(\n",
    "    file,\n",
    "    mode='r',\n",
    "    buffering=-1,\n",
    "    encoding=None,\n",
    "    errors=None,\n",
    "    newline=None,\n",
    "    closefd=True,\n",
    "    opener=None,\n",
    ")\n",
    "\n",
    "\n",
    "##MODES \n",
    "\n",
    "'r'       open for reading (default)\n",
    "'w'       open for writing, truncating the file first\n",
    "'x'       create a new file and open it for writing\n",
    "'a'       open for writing, appending to the end of the file if it exists\n",
    "'b'       binary mode\n",
    "'t'       text mode (default)\n",
    "'+'       open a disk file for updating (reading and writing)\n",
    "'U'       universal newline mode (deprecated)\n",
    "\n",
    "```"
   ]
  },
  {
   "cell_type": "markdown",
   "metadata": {},
   "source": [
    "### Example-1 \n",
    "- Opening not existing file "
   ]
  },
  {
   "cell_type": "code",
   "execution_count": null,
   "metadata": {},
   "outputs": [],
   "source": [
    "print(os.getcwd())"
   ]
  },
  {
   "cell_type": "code",
   "execution_count": null,
   "metadata": {},
   "outputs": [],
   "source": [
    "f = open('test1.txt', mode = 'r') \n",
    "print(\"opened done\")\n",
    "print(\"after file \")\n",
    "print(1+2)"
   ]
  },
  {
   "cell_type": "code",
   "execution_count": null,
   "metadata": {},
   "outputs": [],
   "source": []
  },
  {
   "cell_type": "code",
   "execution_count": null,
   "metadata": {},
   "outputs": [],
   "source": []
  },
  {
   "cell_type": "markdown",
   "metadata": {},
   "source": [
    "### Example-2 \n",
    "- Handling with try except "
   ]
  },
  {
   "cell_type": "code",
   "execution_count": null,
   "metadata": {},
   "outputs": [],
   "source": [
    "try:\n",
    "    f = open(\"test1.txt\",mode=\"r\") \n",
    "except Exception as e:\n",
    "    print(e)\n",
    "    print(\"handled exception\")\n",
    "    \n",
    "print(\"after try - except block flow\")\n",
    "print(\"Try \"+\"Except\")\n",
    "print(10+2)\n"
   ]
  },
  {
   "cell_type": "markdown",
   "metadata": {},
   "source": [
    "- We can specify the mode while opening a file. In mode, we specify whether we want to read r, write w or append a to the file. We can also specify if we want to open the file in text mode or binary mode.\n",
    "\n",
    "- The default is reading in text mode. In this mode, we get strings when reading from the file.\n",
    "\n",
    "#### Mode\tDescription\n",
    "\n",
    "r\tOpens a file for reading. (default)\n",
    "\n",
    "w\tOpens a file for writing. Creates a new file if it does not exist or truncates the file if it exists.\n",
    "\n",
    "x\tOpens a file for exclusive creation. If the file already exists, the operation fails.\n",
    "\n",
    "a\tOpens a file for appending at the end of the file without truncating it. Creates a new file if it does not exist.\n",
    "\n",
    "t\tOpens in text mode. (default)\n",
    "\n",
    "b\tOpens in binary mode.\n",
    "\n",
    "+\tOpens a file for updating (reading and writing)"
   ]
  },
  {
   "cell_type": "markdown",
   "metadata": {},
   "source": [
    "### file object attributes"
   ]
  },
  {
   "cell_type": "markdown",
   "metadata": {},
   "source": [
    "### creating textual file "
   ]
  },
  {
   "cell_type": "code",
   "execution_count": null,
   "metadata": {},
   "outputs": [],
   "source": [
    "f = open('hello1.txt', mode = 'x') #open\n",
    "\n",
    "# operation\n",
    "f.write('Learning File Handling Today\\n')\n",
    "f.write('Every Easy methods\\n')\n",
    "f.write('useful in realtime')\n",
    "\n",
    "f.close() #close "
   ]
  },
  {
   "cell_type": "markdown",
   "metadata": {},
   "source": [
    "### reading the file"
   ]
  },
  {
   "cell_type": "code",
   "execution_count": null,
   "metadata": {},
   "outputs": [],
   "source": [
    "f = open('hello.txt', mode= 'r')\n",
    "print(f)\n",
    "\n",
    "# print(dir(f))\n",
    "\n",
    "print(f.mode)\n",
    "print(f.buffer)\n",
    "print(f.closed)\n",
    "print(f.detach)\n",
    "print(f.encoding)\n",
    "print(f.errors)\n",
    "print(f.fileno)\n",
    "print(f.name)\n",
    "print(f.readable)\n",
    "\n",
    "f.close()\n",
    "print(f.closed)"
   ]
  },
  {
   "cell_type": "markdown",
   "metadata": {},
   "source": [
    "### Example-2.1"
   ]
  },
  {
   "cell_type": "code",
   "execution_count": null,
   "metadata": {},
   "outputs": [],
   "source": [
    "f = open('hello.txt' ,mode='r')\n",
    "\n",
    "print(f.mode)\n",
    "print(f.closed)\n",
    "\n",
    "print(f.tell()) # display the file pointer position\n",
    "\n",
    "print(f.read(5))\n",
    "print(f.tell())\n",
    "\n",
    "print(f.read(4))\n",
    "print(f.tell())\n",
    "\n",
    "print(f.read()) # will read all character\n",
    "print(f.tell())"
   ]
  },
  {
   "cell_type": "code",
   "execution_count": null,
   "metadata": {},
   "outputs": [],
   "source": []
  },
  {
   "cell_type": "code",
   "execution_count": null,
   "metadata": {},
   "outputs": [],
   "source": []
  },
  {
   "cell_type": "code",
   "execution_count": null,
   "metadata": {},
   "outputs": [],
   "source": []
  },
  {
   "cell_type": "markdown",
   "metadata": {},
   "source": [
    "### Example-3"
   ]
  },
  {
   "cell_type": "code",
   "execution_count": null,
   "metadata": {},
   "outputs": [],
   "source": [
    "f = open(\"hello.txt\")  # f is file descriptor object\n",
    "\n",
    "for data in f:\n",
    "    print(data)\n",
    "\n",
    "f.close()"
   ]
  },
  {
   "cell_type": "code",
   "execution_count": null,
   "metadata": {},
   "outputs": [],
   "source": [
    "# reading the Data From File\n",
    "f = open(\"hello.txt\")  # f is file descriptor object\n",
    "line_count=0\n",
    "for data in f:\n",
    "    line_count += 1\n",
    "    print(data,type(data))\n",
    "    \n",
    "print(f\"number of lines in the text file is {line_count}\")\n",
    "\n",
    "f.close()"
   ]
  },
  {
   "cell_type": "markdown",
   "metadata": {},
   "source": [
    "#### Example: printing all uppercase letters"
   ]
  },
  {
   "cell_type": "code",
   "execution_count": null,
   "metadata": {},
   "outputs": [],
   "source": [
    "# reading the Data From File\n",
    "f = open(\"hello.txt\", mode = 'r')  \n",
    "\n",
    "for data in f:\n",
    "    for ch in data:\n",
    "        if ch.isupper():\n",
    "            print(ch, end= \" \")\n",
    "    print()\n",
    "f.close()"
   ]
  },
  {
   "cell_type": "markdown",
   "metadata": {},
   "source": [
    "#### Example: printing space count & vowel count"
   ]
  },
  {
   "cell_type": "code",
   "execution_count": null,
   "metadata": {},
   "outputs": [],
   "source": [
    "f = open(\"hello.txt\", mode = 'r')   #open\n",
    "\n",
    "# operation\n",
    "space_count = 0\n",
    "for data in f:\n",
    "    for ch in data:\n",
    "        if ord(ch) == 32:\n",
    "            space_count+=1\n",
    "print(f\"space count is {space_count}\")\n",
    "\n",
    "#close \n",
    "f.close()"
   ]
  },
  {
   "cell_type": "code",
   "execution_count": null,
   "metadata": {},
   "outputs": [],
   "source": [
    "print(ord(\" \"))\n",
    "print(chr(65))\n",
    "print(chr(97))"
   ]
  },
  {
   "cell_type": "code",
   "execution_count": null,
   "metadata": {},
   "outputs": [],
   "source": [
    "f = open(\"hello.txt\", mode = 'r')   #open\n",
    "\n",
    "# operation\n",
    "vowels = 'a e i o u A E I O U'.split()\n",
    "vowelsCount = 0\n",
    "for data in f:\n",
    "    for ch in data:\n",
    "        if ch in vowels:\n",
    "            vowelsCount += 1\n",
    "            print(ch , end = \" \")\n",
    "    print()\n",
    "print(f\"vowels count is {vowelsCount}\")\n",
    "\n",
    "#close \n",
    "f.close()"
   ]
  },
  {
   "cell_type": "markdown",
   "metadata": {},
   "source": [
    "#### Exercise \n",
    "\n",
    "- create a file with name: addition.txt\n",
    "- write numbers into the file \n",
    "\n",
    "- Again open the file for read operation\n",
    "- calculate sum of the numbers\n",
    "\n",
    "\n",
    "**NOTE**: type of data read from file will be always string type"
   ]
  },
  {
   "cell_type": "code",
   "execution_count": null,
   "metadata": {},
   "outputs": [],
   "source": [
    "#  creating \n",
    "fadd = open('add.txt', mode = 'x')\n",
    "fadd.write(\"10\\n\")\n",
    "fadd.write(\"20\\n\")\n",
    "fadd.write(\"30\\n\")\n",
    "fadd.close()"
   ]
  },
  {
   "cell_type": "code",
   "execution_count": null,
   "metadata": {},
   "outputs": [],
   "source": [
    "#  reading \n",
    "f = open('add.txt', mode = 'r')\n",
    "\n",
    "total = 0\n",
    "for num in f:\n",
    "    print(num , type(num))\n",
    "    total = total + int(num) \n",
    "\n",
    "print(f'total sum is {total}')"
   ]
  },
  {
   "cell_type": "code",
   "execution_count": null,
   "metadata": {},
   "outputs": [],
   "source": []
  },
  {
   "cell_type": "markdown",
   "metadata": {},
   "source": [
    "### Try these"
   ]
  },
  {
   "cell_type": "code",
   "execution_count": null,
   "metadata": {},
   "outputs": [],
   "source": [
    "f = open('add.txt', mode = 'r')\n",
    "print(f.read())\n",
    "f.close()\n",
    "print(f.read())"
   ]
  },
  {
   "cell_type": "code",
   "execution_count": null,
   "metadata": {},
   "outputs": [],
   "source": [
    "f = open('hello.txt', mode = 'w')\n",
    "print(f.read())\n",
    "f.close()\n"
   ]
  },
  {
   "cell_type": "markdown",
   "metadata": {},
   "source": [
    "## Writing Operations"
   ]
  },
  {
   "cell_type": "code",
   "execution_count": 4,
   "metadata": {},
   "outputs": [],
   "source": [
    "# mode = 'x'\n",
    "f = open(\"random.txt\",mode = 'x')\n",
    "\n",
    "f.write('''\n",
    "        apple\n",
    "        boy\n",
    "        car\n",
    "        dog\n",
    "        elon musk\n",
    "        ''')\n",
    "\n",
    "f.close()"
   ]
  },
  {
   "cell_type": "code",
   "execution_count": 6,
   "metadata": {},
   "outputs": [],
   "source": [
    "# mode = 'w'\n",
    "f = open(\"python-notes.txt\",mode = 'w') # creates fresh file\n",
    "\n",
    "f.write('c++ is strongly typed lang\\n')\n",
    "f.write('javascript is weekly typed lang')\n",
    "f.close()"
   ]
  },
  {
   "cell_type": "code",
   "execution_count": 8,
   "metadata": {},
   "outputs": [],
   "source": [
    "# mode = 'a'\n",
    "f = open(\"java-notes.txt\",mode = 'a')\n",
    "\n",
    "f.write('lambda is very easy to understand in java\\n')\n",
    "f.write('string blocks intoduce in java21')\n",
    "\n",
    "f.close()\n",
    "\n"
   ]
  },
  {
   "cell_type": "markdown",
   "metadata": {},
   "source": [
    "### difference between x , w , a?\n",
    "\n",
    "```python\n",
    "- x : create a new file, if file doesn't exits.\n",
    "    else if file exists, it will throw FileExistsError\n",
    "    \n",
    "- w: create a new file , if file doesn't exits\n",
    "    else if exists, it will truncate the data\n",
    "    \n",
    "    \n",
    "    \n",
    "- a: create new file , if file doesn't exists\n",
    "    else if exists, it will open and append the new data\n",
    "    \n",
    "```"
   ]
  },
  {
   "cell_type": "code",
   "execution_count": null,
   "metadata": {},
   "outputs": [],
   "source": []
  },
  {
   "cell_type": "markdown",
   "metadata": {},
   "source": [
    "## with statement\n",
    "\n",
    "- The best way to close a file is by using the with statement. This ensures that the file is closed when the block inside the \"with\" \"statement is exited.\n",
    "\n",
    "- We don't need to explicitly call the close() method. \n",
    "- It is done internally."
   ]
  },
  {
   "cell_type": "code",
   "execution_count": null,
   "metadata": {},
   "outputs": [],
   "source": []
  },
  {
   "cell_type": "markdown",
   "metadata": {},
   "source": [
    "### 1st way"
   ]
  },
  {
   "cell_type": "code",
   "execution_count": 12,
   "metadata": {},
   "outputs": [
    {
     "name": "stdout",
     "output_type": "stream",
     "text": [
      "c++ is strongly typed lang\n",
      "javascript is weekly typed lang\n"
     ]
    },
    {
     "ename": "ValueError",
     "evalue": "I/O operation on closed file.",
     "output_type": "error",
     "traceback": [
      "\u001b[1;31m---------------------------------------------------------------------------\u001b[0m",
      "\u001b[1;31mValueError\u001b[0m                                Traceback (most recent call last)",
      "Cell \u001b[1;32mIn[12], line 10\u001b[0m\n\u001b[0;32m      7\u001b[0m \u001b[38;5;66;03m# close\u001b[39;00m\n\u001b[0;32m      8\u001b[0m f\u001b[38;5;241m.\u001b[39mclose()\n\u001b[1;32m---> 10\u001b[0m \u001b[38;5;28mprint\u001b[39m(f\u001b[38;5;241m.\u001b[39mread())\n",
      "\u001b[1;31mValueError\u001b[0m: I/O operation on closed file."
     ]
    }
   ],
   "source": [
    "# open\n",
    "f = open(\"python-notes.txt\",mode='r',encoding='utf-8')\n",
    "\n",
    "# operation\n",
    "print(f.read())\n",
    "\n",
    "# close\n",
    "f.close()\n",
    "\n",
    "print(f.read())\n"
   ]
  },
  {
   "cell_type": "markdown",
   "metadata": {},
   "source": [
    "### 2nd way"
   ]
  },
  {
   "cell_type": "markdown",
   "metadata": {},
   "source": [
    "### Example-1"
   ]
  },
  {
   "cell_type": "code",
   "execution_count": 10,
   "metadata": {
    "scrolled": true
   },
   "outputs": [
    {
     "name": "stdout",
     "output_type": "stream",
     "text": [
      "c++ is strongly typed lang\n",
      "javascript is weekly typed lang\n"
     ]
    },
    {
     "ename": "ValueError",
     "evalue": "I/O operation on closed file.",
     "output_type": "error",
     "traceback": [
      "\u001b[1;31m---------------------------------------------------------------------------\u001b[0m",
      "\u001b[1;31mValueError\u001b[0m                                Traceback (most recent call last)",
      "Cell \u001b[1;32mIn[10], line 4\u001b[0m\n\u001b[0;32m      1\u001b[0m \u001b[38;5;28;01mwith\u001b[39;00m \u001b[38;5;28mopen\u001b[39m(\u001b[38;5;124m\"\u001b[39m\u001b[38;5;124mpython-notes.txt\u001b[39m\u001b[38;5;124m\"\u001b[39m,mode\u001b[38;5;241m=\u001b[39m\u001b[38;5;124m'\u001b[39m\u001b[38;5;124mr\u001b[39m\u001b[38;5;124m'\u001b[39m,encoding\u001b[38;5;241m=\u001b[39m\u001b[38;5;124m'\u001b[39m\u001b[38;5;124mutf-8\u001b[39m\u001b[38;5;124m'\u001b[39m) \u001b[38;5;28;01mas\u001b[39;00m ff:\n\u001b[0;32m      2\u001b[0m     \u001b[38;5;28mprint\u001b[39m(ff\u001b[38;5;241m.\u001b[39mread())\n\u001b[1;32m----> 4\u001b[0m \u001b[38;5;28mprint\u001b[39m(ff\u001b[38;5;241m.\u001b[39mread())\n",
      "\u001b[1;31mValueError\u001b[0m: I/O operation on closed file."
     ]
    }
   ],
   "source": [
    "with open(\"python-notes.txt\",mode='r',encoding='utf-8') as ff:\n",
    "    print(ff.read())\n",
    "    \n",
    "print(ff.read())"
   ]
  },
  {
   "cell_type": "markdown",
   "metadata": {},
   "source": [
    "### Example-2"
   ]
  },
  {
   "cell_type": "code",
   "execution_count": 14,
   "metadata": {},
   "outputs": [
    {
     "name": "stdout",
     "output_type": "stream",
     "text": [
      "vowels count is 23\n"
     ]
    }
   ],
   "source": [
    "with open(\"hello.txt\", mode = 'r') as f:\n",
    "    vowels = 'a e i o u A E I O U'.split()\n",
    "    vowelsCount = 0\n",
    "    for data in f:\n",
    "        for ch in data:\n",
    "            if ch in vowels:\n",
    "                vowelsCount += 1\n",
    "    print(f\"vowels count is {vowelsCount}\")\n",
    "    "
   ]
  },
  {
   "cell_type": "markdown",
   "metadata": {},
   "source": [
    "### Example-3\n",
    "\n"
   ]
  },
  {
   "cell_type": "code",
   "execution_count": 15,
   "metadata": {},
   "outputs": [],
   "source": [
    "with open('java-notes.txt', mode = 'a') as f:\n",
    "    f.write('\\njava lambda is very easy compared to other lang\\n')\n",
    "    f.write('current version of java is 21\\n')"
   ]
  },
  {
   "cell_type": "code",
   "execution_count": 16,
   "metadata": {},
   "outputs": [
    {
     "ename": "ValueError",
     "evalue": "I/O operation on closed file.",
     "output_type": "error",
     "traceback": [
      "\u001b[1;31m---------------------------------------------------------------------------\u001b[0m",
      "\u001b[1;31mValueError\u001b[0m                                Traceback (most recent call last)",
      "Cell \u001b[1;32mIn[16], line 1\u001b[0m\n\u001b[1;32m----> 1\u001b[0m \u001b[38;5;28mprint\u001b[39m(f\u001b[38;5;241m.\u001b[39mwrite(\u001b[38;5;124m'\u001b[39m\u001b[38;5;124mfunctions&methods are not first class citizens in java\u001b[39m\u001b[38;5;124m'\u001b[39m))\n",
      "\u001b[1;31mValueError\u001b[0m: I/O operation on closed file."
     ]
    }
   ],
   "source": [
    "print(f.write('functions&methods are not first class citizens in java'))"
   ]
  },
  {
   "cell_type": "markdown",
   "metadata": {},
   "source": [
    "#### Methods \n",
    "\n",
    "1.close()\tCloses an opened file. It has no effect if the file is already closed.\n",
    "\n",
    "2.fileno()\tReturns an integer number (file descriptor) of the file.\n",
    "\n",
    "3.read(n)\tReads at most n characters from the file. Reads till end of file if it is negative or None.\n",
    "\n",
    "4.readable()\tReturns True if the file stream can be read from.\n",
    "\n",
    "5.readline(n=-1)\tReads and returns one line from the file. Reads in at most n bytes if specified.\n",
    "\n",
    "6.readlines(n=-1)\tReads and returns a list of lines from the file. Reads in at most n bytes/characters if specified.\n",
    "\n",
    "\n",
    "7.seek(offset,from=SEEK_SET)\tChanges the file position to offset bytes, in reference to from (start, current, end).\n",
    "\n",
    "8.write(s)\tWrites the string s to the file and returns the number of characters written.\n",
    "\n",
    "9.writelines(lines)\tWrites a list of lines to the file."
   ]
  },
  {
   "cell_type": "markdown",
   "metadata": {},
   "source": [
    "#### read()"
   ]
  },
  {
   "cell_type": "code",
   "execution_count": 17,
   "metadata": {},
   "outputs": [
    {
     "name": "stdout",
     "output_type": "stream",
     "text": [
      "Learning File Handling Today\n",
      "Every Easy methods\n",
      "Useful in Realtime\n"
     ]
    }
   ],
   "source": [
    "with open('hello.txt', mode = 'r') as f:\n",
    "    print(f.read())"
   ]
  },
  {
   "cell_type": "markdown",
   "metadata": {},
   "source": [
    "#### read(n)"
   ]
  },
  {
   "cell_type": "code",
   "execution_count": 19,
   "metadata": {},
   "outputs": [
    {
     "name": "stdout",
     "output_type": "stream",
     "text": [
      "Le\n"
     ]
    }
   ],
   "source": [
    "with open('hello.txt', mode = 'r') as f:\n",
    "    print(f.read(2))"
   ]
  },
  {
   "cell_type": "markdown",
   "metadata": {},
   "source": [
    "#### readlines()"
   ]
  },
  {
   "cell_type": "code",
   "execution_count": 20,
   "metadata": {},
   "outputs": [
    {
     "name": "stdout",
     "output_type": "stream",
     "text": [
      "['Learning File Handling Today\\n', 'Every Easy methods\\n', 'Useful in Realtime']\n"
     ]
    }
   ],
   "source": [
    "with open('hello.txt', mode = 'r') as f:\n",
    "    print(f.readlines())"
   ]
  },
  {
   "cell_type": "markdown",
   "metadata": {},
   "source": [
    "#### readable()"
   ]
  },
  {
   "cell_type": "code",
   "execution_count": 21,
   "metadata": {},
   "outputs": [
    {
     "name": "stdout",
     "output_type": "stream",
     "text": [
      "False\n"
     ]
    }
   ],
   "source": [
    "f = open('hello.txt', mode = 'a')\n",
    "print(f.readable())"
   ]
  },
  {
   "cell_type": "markdown",
   "metadata": {},
   "source": [
    "#### tell()& seek()"
   ]
  },
  {
   "cell_type": "code",
   "execution_count": 23,
   "metadata": {
    "scrolled": true
   },
   "outputs": [
    {
     "name": "stdout",
     "output_type": "stream",
     "text": [
      "0\n",
      "stre\n",
      "4\n",
      "ams api is i\n",
      "16\n",
      "8\n",
      "ap\n",
      "10\n",
      "reams api is introduced in java 8\n",
      "records are very easy compared classlambda is very easy to understand in java\n",
      "string blocks intoduce in java21\n",
      "java lambda is very easy compared to other lang\n",
      "current version of java is 21\n",
      "\n"
     ]
    }
   ],
   "source": [
    "f = open('java-notes.txt', mode = 'r')\n",
    "print(f.tell())\n",
    "\n",
    "print(f.read(4))\n",
    "print(f.tell())\n",
    "\n",
    "print(f.read(12))\n",
    "print(f.tell())\n",
    "\n",
    "f.seek(8)\n",
    "print(f.tell())\n",
    "print(f.read(2))\n",
    "print(f.tell())\n",
    "\n",
    "\n",
    "f.seek(2)\n",
    "print(f.read())\n",
    "\n",
    "f.close()"
   ]
  },
  {
   "cell_type": "code",
   "execution_count": null,
   "metadata": {},
   "outputs": [],
   "source": []
  },
  {
   "cell_type": "code",
   "execution_count": null,
   "metadata": {},
   "outputs": [],
   "source": []
  },
  {
   "cell_type": "markdown",
   "metadata": {},
   "source": [
    "### Handson Excerise \n",
    "\n",
    "1. make a call to the endpoint: https://reqres.in/api/users?page=2\n",
    "2. store the response\n",
    "3. apply the json() store it in a variable\n",
    "4. create a file with name: users.txt and store all usernames (last_name, first_name)\n"
   ]
  },
  {
   "cell_type": "code",
   "execution_count": null,
   "metadata": {},
   "outputs": [],
   "source": []
  }
 ],
 "metadata": {
  "kernelspec": {
   "display_name": "Python 3 (ipykernel)",
   "language": "python",
   "name": "python3"
  },
  "language_info": {
   "codemirror_mode": {
    "name": "ipython",
    "version": 3
   },
   "file_extension": ".py",
   "mimetype": "text/x-python",
   "name": "python",
   "nbconvert_exporter": "python",
   "pygments_lexer": "ipython3",
   "version": "3.11.5"
  }
 },
 "nbformat": 4,
 "nbformat_minor": 4
}
